{
  "cells": [
    {
      "cell_type": "markdown",
      "metadata": {
        "id": "v_08r6Yf9ZYR"
      },
      "source": [
        "# Report\n",
        "\n",
        "The goal of this homework was to get familiar with Local Interpretable Model-agnostic Explanations (LIME). \n",
        "\n",
        "In this notebook I used 2 randomly selected test samples on heart attack dataset.\n",
        "\n",
        "Firstly I trained random forrest and explained it with lime implemented in dalex library. The results are presented on the plot below.\n",
        "\n",
        "![Lime for random forrest p28 v1](https://github.com/edsuch21/eXplainableMachineLearning-2023/blob/main/Homeworks/HW3/EdwardSucharda/lim_rf_p28_1.png?raw=true)\n",
        "\n",
        "![Lime for random forrest p28 v2](https://github.com/edsuch21/eXplainableMachineLearning-2023/blob/main/Homeworks/HW3/EdwardSucharda/lim_rf_p28_2.png?raw=true)\n",
        "\n",
        "![Lime for random forrest p38 v1](https://github.com/edsuch21/eXplainableMachineLearning-2023/blob/main/Homeworks/HW3/EdwardSucharda/lim_rf_p38_1.png?raw=true)\n",
        "\n",
        "![Lime for random forrest p38 v2](https://github.com/edsuch21/eXplainableMachineLearning-2023/blob/main/Homeworks/HW3/EdwardSucharda/lim_rf_p38_2.png?raw=true)\n",
        "\n",
        "Lime method is not a stable method. The score of single observations depends on the sampling \"in the neighbourhood\" of the examined sample. In my case the result for iteration (version) looks pretty much the same but they are not the same. For both patient 28 and 28 the last two features from top 10 are switching places in different versions. But despite this small changes result do not change much because there are enought samples to well define the space around observation.\n",
        "\n",
        "Comparing obtained values across different observations one can see that there are simillar values for every modified variable (changed to binary values). This is because LIME takes every feature independently and calculates values for subspaces.\n",
        "\n",
        "Comparing this method and Shapley Values method simmilar is fact that both methods give positive or negative values for some feature (or group of features). The main difference between those two methods is that shapley is caluclates influence a change of only one examined feature on the output. The LIME method analizes the samples around the examined one and thus behaves more like derivative. Shapley value is the difference of expected value of the output calculated with versus without one feature (of one observation).\n",
        "\n",
        "I trained also SVM model and Logistic Regression. The LIME values are presented below.\n",
        "\n",
        "![Lime for svm p28](https://github.com/edsuch21/eXplainableMachineLearning-2023/blob/main/Homeworks/HW3/EdwardSucharda/lim_svm_p28_1.png?raw=true)\n",
        "\n",
        "![Lime for svm p38](https://github.com/edsuch21/eXplainableMachineLearning-2023/blob/main/Homeworks/HW3/EdwardSucharda/lim_svm_p38_1.png?raw=true)\n",
        "\n",
        "![Lime for logistic regression p28](https://github.com/edsuch21/eXplainableMachineLearning-2023/blob/main/Homeworks/HW3/EdwardSucharda/lim_lr_p28_1.png?raw=true)\n",
        "\n",
        "![Lime for logistic regression p38](https://github.com/edsuch21/eXplainableMachineLearning-2023/blob/main/Homeworks/HW3/EdwardSucharda/lim_lr_p38_1.png?raw=true)\n",
        "\n",
        "The results of lime values across different methods are different. This is because models tries to fit to data in different ways so they give different outputs for the same observations. Despite the results are different across different methods, the features have similar values across different observations (as it was in random forrest). Models somtimes classify similarly and this can be seen that for all models, samples and versions the feature `thall <=-0.51` has very high positive impact on the output."
      ]
    },
    {
      "cell_type": "markdown",
      "source": [
        "# Appendix"
      ],
      "metadata": {
        "id": "7VlS4BPP0VZx"
      }
    },
    {
      "cell_type": "code",
      "execution_count": 1,
      "metadata": {
        "colab": {
          "base_uri": "https://localhost:8080/"
        },
        "id": "Rk4Z8HUQ122V",
        "outputId": "9de638e2-c397-41b1-be75-80d8251d1154"
      },
      "outputs": [
        {
          "output_type": "stream",
          "name": "stdout",
          "text": [
            "Looking in indexes: https://pypi.org/simple, https://us-python.pkg.dev/colab-wheels/public/simple/\n",
            "Requirement already satisfied: dalex in /usr/local/lib/python3.7/dist-packages (1.5.0)\n",
            "Requirement already satisfied: lime in /usr/local/lib/python3.7/dist-packages (0.2.0.1)\n",
            "Requirement already satisfied: setuptools in /usr/local/lib/python3.7/dist-packages (from dalex) (57.4.0)\n",
            "Requirement already satisfied: pandas>=1.2.5 in /usr/local/lib/python3.7/dist-packages (from dalex) (1.3.5)\n",
            "Requirement already satisfied: numpy>=1.20.3 in /usr/local/lib/python3.7/dist-packages (from dalex) (1.21.6)\n",
            "Requirement already satisfied: plotly>=5.1.0 in /usr/local/lib/python3.7/dist-packages (from dalex) (5.5.0)\n",
            "Requirement already satisfied: scipy>=1.6.3 in /usr/local/lib/python3.7/dist-packages (from dalex) (1.7.3)\n",
            "Requirement already satisfied: tqdm>=4.61.2 in /usr/local/lib/python3.7/dist-packages (from dalex) (4.64.1)\n",
            "Requirement already satisfied: python-dateutil>=2.7.3 in /usr/local/lib/python3.7/dist-packages (from pandas>=1.2.5->dalex) (2.8.2)\n",
            "Requirement already satisfied: pytz>=2017.3 in /usr/local/lib/python3.7/dist-packages (from pandas>=1.2.5->dalex) (2022.5)\n",
            "Requirement already satisfied: six in /usr/local/lib/python3.7/dist-packages (from plotly>=5.1.0->dalex) (1.15.0)\n",
            "Requirement already satisfied: tenacity>=6.2.0 in /usr/local/lib/python3.7/dist-packages (from plotly>=5.1.0->dalex) (8.1.0)\n",
            "Requirement already satisfied: scikit-image>=0.12 in /usr/local/lib/python3.7/dist-packages (from lime) (0.18.3)\n",
            "Requirement already satisfied: matplotlib in /usr/local/lib/python3.7/dist-packages (from lime) (3.2.2)\n",
            "Requirement already satisfied: scikit-learn>=0.18 in /usr/local/lib/python3.7/dist-packages (from lime) (1.0.2)\n",
            "Requirement already satisfied: tifffile>=2019.7.26 in /usr/local/lib/python3.7/dist-packages (from scikit-image>=0.12->lime) (2021.11.2)\n",
            "Requirement already satisfied: PyWavelets>=1.1.1 in /usr/local/lib/python3.7/dist-packages (from scikit-image>=0.12->lime) (1.3.0)\n",
            "Requirement already satisfied: networkx>=2.0 in /usr/local/lib/python3.7/dist-packages (from scikit-image>=0.12->lime) (2.6.3)\n",
            "Requirement already satisfied: pillow!=7.1.0,!=7.1.1,>=4.3.0 in /usr/local/lib/python3.7/dist-packages (from scikit-image>=0.12->lime) (7.1.2)\n",
            "Requirement already satisfied: imageio>=2.3.0 in /usr/local/lib/python3.7/dist-packages (from scikit-image>=0.12->lime) (2.9.0)\n",
            "Requirement already satisfied: pyparsing!=2.0.4,!=2.1.2,!=2.1.6,>=2.0.1 in /usr/local/lib/python3.7/dist-packages (from matplotlib->lime) (3.0.9)\n",
            "Requirement already satisfied: cycler>=0.10 in /usr/local/lib/python3.7/dist-packages (from matplotlib->lime) (0.11.0)\n",
            "Requirement already satisfied: kiwisolver>=1.0.1 in /usr/local/lib/python3.7/dist-packages (from matplotlib->lime) (1.4.4)\n",
            "Requirement already satisfied: typing-extensions in /usr/local/lib/python3.7/dist-packages (from kiwisolver>=1.0.1->matplotlib->lime) (4.1.1)\n",
            "Requirement already satisfied: threadpoolctl>=2.0.0 in /usr/local/lib/python3.7/dist-packages (from scikit-learn>=0.18->lime) (3.1.0)\n",
            "Requirement already satisfied: joblib>=0.11 in /usr/local/lib/python3.7/dist-packages (from scikit-learn>=0.18->lime) (1.2.0)\n"
          ]
        }
      ],
      "source": [
        "pip install dalex lime"
      ]
    },
    {
      "cell_type": "code",
      "execution_count": 2,
      "metadata": {
        "id": "ierrZyf9RUzT"
      },
      "outputs": [],
      "source": [
        "import pandas as pd\n",
        "from sklearn.model_selection import train_test_split\n",
        "from sklearn.ensemble import RandomForestClassifier, RandomForestRegressor\n",
        "from sklearn.svm import SVC, SVR\n",
        "from sklearn.linear_model import LogisticRegression, LinearRegression\n",
        "import dalex as dx\n",
        "import lime\n",
        "import random"
      ]
    },
    {
      "cell_type": "code",
      "execution_count": 3,
      "metadata": {
        "id": "uCqVNapzT2kE"
      },
      "outputs": [],
      "source": [
        "hearts_df = pd.read_csv(\"heart.csv\")"
      ]
    },
    {
      "cell_type": "code",
      "execution_count": 4,
      "metadata": {
        "colab": {
          "base_uri": "https://localhost:8080/"
        },
        "id": "IYnmSIr0UIbb",
        "outputId": "f553fb5f-b3c3-49f1-9113-5347e5c07367"
      },
      "outputs": [
        {
          "output_type": "stream",
          "name": "stdout",
          "text": [
            "<class 'pandas.core.frame.DataFrame'>\n",
            "RangeIndex: 303 entries, 0 to 302\n",
            "Data columns (total 14 columns):\n",
            " #   Column    Non-Null Count  Dtype  \n",
            "---  ------    --------------  -----  \n",
            " 0   age       303 non-null    int64  \n",
            " 1   sex       303 non-null    int64  \n",
            " 2   cp        303 non-null    int64  \n",
            " 3   trtbps    303 non-null    int64  \n",
            " 4   chol      303 non-null    int64  \n",
            " 5   fbs       303 non-null    int64  \n",
            " 6   restecg   303 non-null    int64  \n",
            " 7   thalachh  303 non-null    int64  \n",
            " 8   exng      303 non-null    int64  \n",
            " 9   oldpeak   303 non-null    float64\n",
            " 10  slp       303 non-null    int64  \n",
            " 11  caa       303 non-null    int64  \n",
            " 12  thall     303 non-null    int64  \n",
            " 13  output    303 non-null    int64  \n",
            "dtypes: float64(1), int64(13)\n",
            "memory usage: 33.3 KB\n"
          ]
        }
      ],
      "source": [
        "hearts_df.info()"
      ]
    },
    {
      "cell_type": "code",
      "execution_count": 5,
      "metadata": {
        "id": "9eBc2acrVEwC"
      },
      "outputs": [],
      "source": [
        "for i in range(4):\n",
        "  hearts_df[f\"cp{i}\"] = (hearts_df[\"cp\"] == i) * 1\n",
        "for i in range(3):\n",
        "  hearts_df[f\"restecg{i}\"] = (hearts_df[\"restecg\"] == i) * 1"
      ]
    },
    {
      "cell_type": "code",
      "execution_count": 6,
      "metadata": {
        "id": "RrTBpQ93UXFj"
      },
      "outputs": [],
      "source": [
        "y_heart = hearts_df[\"output\"]\n",
        "x_heart = hearts_df.drop(columns=[\"cp\", \"restecg\", \"output\"])"
      ]
    },
    {
      "cell_type": "code",
      "execution_count": 7,
      "metadata": {
        "colab": {
          "base_uri": "https://localhost:8080/",
          "height": 364
        },
        "id": "yeX__GlCYBv7",
        "outputId": "b69ddc1c-8d02-478a-9dfc-9c32464050d4"
      },
      "outputs": [
        {
          "output_type": "execute_result",
          "data": {
            "text/plain": [
              "              age         sex      trtbps        chol         fbs    thalachh  \\\n",
              "count  303.000000  303.000000  303.000000  303.000000  303.000000  303.000000   \n",
              "mean    54.366337    0.683168  131.623762  246.264026    0.148515  149.646865   \n",
              "std      9.082101    0.466011   17.538143   51.830751    0.356198   22.905161   \n",
              "min     29.000000    0.000000   94.000000  126.000000    0.000000   71.000000   \n",
              "25%     47.500000    0.000000  120.000000  211.000000    0.000000  133.500000   \n",
              "50%     55.000000    1.000000  130.000000  240.000000    0.000000  153.000000   \n",
              "75%     61.000000    1.000000  140.000000  274.500000    0.000000  166.000000   \n",
              "max     77.000000    1.000000  200.000000  564.000000    1.000000  202.000000   \n",
              "\n",
              "             exng     oldpeak         slp         caa       thall         cp0  \\\n",
              "count  303.000000  303.000000  303.000000  303.000000  303.000000  303.000000   \n",
              "mean     0.326733    1.039604    1.399340    0.729373    2.313531    0.471947   \n",
              "std      0.469794    1.161075    0.616226    1.022606    0.612277    0.500038   \n",
              "min      0.000000    0.000000    0.000000    0.000000    0.000000    0.000000   \n",
              "25%      0.000000    0.000000    1.000000    0.000000    2.000000    0.000000   \n",
              "50%      0.000000    0.800000    1.000000    0.000000    2.000000    0.000000   \n",
              "75%      1.000000    1.600000    2.000000    1.000000    3.000000    1.000000   \n",
              "max      1.000000    6.200000    2.000000    4.000000    3.000000    1.000000   \n",
              "\n",
              "              cp1         cp2         cp3    restecg0    restecg1    restecg2  \n",
              "count  303.000000  303.000000  303.000000  303.000000  303.000000  303.000000  \n",
              "mean     0.165017    0.287129    0.075908    0.485149    0.501650    0.013201  \n",
              "std      0.371809    0.453171    0.265288    0.500606    0.500824    0.114325  \n",
              "min      0.000000    0.000000    0.000000    0.000000    0.000000    0.000000  \n",
              "25%      0.000000    0.000000    0.000000    0.000000    0.000000    0.000000  \n",
              "50%      0.000000    0.000000    0.000000    0.000000    1.000000    0.000000  \n",
              "75%      0.000000    1.000000    0.000000    1.000000    1.000000    0.000000  \n",
              "max      1.000000    1.000000    1.000000    1.000000    1.000000    1.000000  "
            ],
            "text/html": [
              "\n",
              "  <div id=\"df-25c4124c-3617-4a77-863d-b7e140a3c23e\">\n",
              "    <div class=\"colab-df-container\">\n",
              "      <div>\n",
              "<style scoped>\n",
              "    .dataframe tbody tr th:only-of-type {\n",
              "        vertical-align: middle;\n",
              "    }\n",
              "\n",
              "    .dataframe tbody tr th {\n",
              "        vertical-align: top;\n",
              "    }\n",
              "\n",
              "    .dataframe thead th {\n",
              "        text-align: right;\n",
              "    }\n",
              "</style>\n",
              "<table border=\"1\" class=\"dataframe\">\n",
              "  <thead>\n",
              "    <tr style=\"text-align: right;\">\n",
              "      <th></th>\n",
              "      <th>age</th>\n",
              "      <th>sex</th>\n",
              "      <th>trtbps</th>\n",
              "      <th>chol</th>\n",
              "      <th>fbs</th>\n",
              "      <th>thalachh</th>\n",
              "      <th>exng</th>\n",
              "      <th>oldpeak</th>\n",
              "      <th>slp</th>\n",
              "      <th>caa</th>\n",
              "      <th>thall</th>\n",
              "      <th>cp0</th>\n",
              "      <th>cp1</th>\n",
              "      <th>cp2</th>\n",
              "      <th>cp3</th>\n",
              "      <th>restecg0</th>\n",
              "      <th>restecg1</th>\n",
              "      <th>restecg2</th>\n",
              "    </tr>\n",
              "  </thead>\n",
              "  <tbody>\n",
              "    <tr>\n",
              "      <th>count</th>\n",
              "      <td>303.000000</td>\n",
              "      <td>303.000000</td>\n",
              "      <td>303.000000</td>\n",
              "      <td>303.000000</td>\n",
              "      <td>303.000000</td>\n",
              "      <td>303.000000</td>\n",
              "      <td>303.000000</td>\n",
              "      <td>303.000000</td>\n",
              "      <td>303.000000</td>\n",
              "      <td>303.000000</td>\n",
              "      <td>303.000000</td>\n",
              "      <td>303.000000</td>\n",
              "      <td>303.000000</td>\n",
              "      <td>303.000000</td>\n",
              "      <td>303.000000</td>\n",
              "      <td>303.000000</td>\n",
              "      <td>303.000000</td>\n",
              "      <td>303.000000</td>\n",
              "    </tr>\n",
              "    <tr>\n",
              "      <th>mean</th>\n",
              "      <td>54.366337</td>\n",
              "      <td>0.683168</td>\n",
              "      <td>131.623762</td>\n",
              "      <td>246.264026</td>\n",
              "      <td>0.148515</td>\n",
              "      <td>149.646865</td>\n",
              "      <td>0.326733</td>\n",
              "      <td>1.039604</td>\n",
              "      <td>1.399340</td>\n",
              "      <td>0.729373</td>\n",
              "      <td>2.313531</td>\n",
              "      <td>0.471947</td>\n",
              "      <td>0.165017</td>\n",
              "      <td>0.287129</td>\n",
              "      <td>0.075908</td>\n",
              "      <td>0.485149</td>\n",
              "      <td>0.501650</td>\n",
              "      <td>0.013201</td>\n",
              "    </tr>\n",
              "    <tr>\n",
              "      <th>std</th>\n",
              "      <td>9.082101</td>\n",
              "      <td>0.466011</td>\n",
              "      <td>17.538143</td>\n",
              "      <td>51.830751</td>\n",
              "      <td>0.356198</td>\n",
              "      <td>22.905161</td>\n",
              "      <td>0.469794</td>\n",
              "      <td>1.161075</td>\n",
              "      <td>0.616226</td>\n",
              "      <td>1.022606</td>\n",
              "      <td>0.612277</td>\n",
              "      <td>0.500038</td>\n",
              "      <td>0.371809</td>\n",
              "      <td>0.453171</td>\n",
              "      <td>0.265288</td>\n",
              "      <td>0.500606</td>\n",
              "      <td>0.500824</td>\n",
              "      <td>0.114325</td>\n",
              "    </tr>\n",
              "    <tr>\n",
              "      <th>min</th>\n",
              "      <td>29.000000</td>\n",
              "      <td>0.000000</td>\n",
              "      <td>94.000000</td>\n",
              "      <td>126.000000</td>\n",
              "      <td>0.000000</td>\n",
              "      <td>71.000000</td>\n",
              "      <td>0.000000</td>\n",
              "      <td>0.000000</td>\n",
              "      <td>0.000000</td>\n",
              "      <td>0.000000</td>\n",
              "      <td>0.000000</td>\n",
              "      <td>0.000000</td>\n",
              "      <td>0.000000</td>\n",
              "      <td>0.000000</td>\n",
              "      <td>0.000000</td>\n",
              "      <td>0.000000</td>\n",
              "      <td>0.000000</td>\n",
              "      <td>0.000000</td>\n",
              "    </tr>\n",
              "    <tr>\n",
              "      <th>25%</th>\n",
              "      <td>47.500000</td>\n",
              "      <td>0.000000</td>\n",
              "      <td>120.000000</td>\n",
              "      <td>211.000000</td>\n",
              "      <td>0.000000</td>\n",
              "      <td>133.500000</td>\n",
              "      <td>0.000000</td>\n",
              "      <td>0.000000</td>\n",
              "      <td>1.000000</td>\n",
              "      <td>0.000000</td>\n",
              "      <td>2.000000</td>\n",
              "      <td>0.000000</td>\n",
              "      <td>0.000000</td>\n",
              "      <td>0.000000</td>\n",
              "      <td>0.000000</td>\n",
              "      <td>0.000000</td>\n",
              "      <td>0.000000</td>\n",
              "      <td>0.000000</td>\n",
              "    </tr>\n",
              "    <tr>\n",
              "      <th>50%</th>\n",
              "      <td>55.000000</td>\n",
              "      <td>1.000000</td>\n",
              "      <td>130.000000</td>\n",
              "      <td>240.000000</td>\n",
              "      <td>0.000000</td>\n",
              "      <td>153.000000</td>\n",
              "      <td>0.000000</td>\n",
              "      <td>0.800000</td>\n",
              "      <td>1.000000</td>\n",
              "      <td>0.000000</td>\n",
              "      <td>2.000000</td>\n",
              "      <td>0.000000</td>\n",
              "      <td>0.000000</td>\n",
              "      <td>0.000000</td>\n",
              "      <td>0.000000</td>\n",
              "      <td>0.000000</td>\n",
              "      <td>1.000000</td>\n",
              "      <td>0.000000</td>\n",
              "    </tr>\n",
              "    <tr>\n",
              "      <th>75%</th>\n",
              "      <td>61.000000</td>\n",
              "      <td>1.000000</td>\n",
              "      <td>140.000000</td>\n",
              "      <td>274.500000</td>\n",
              "      <td>0.000000</td>\n",
              "      <td>166.000000</td>\n",
              "      <td>1.000000</td>\n",
              "      <td>1.600000</td>\n",
              "      <td>2.000000</td>\n",
              "      <td>1.000000</td>\n",
              "      <td>3.000000</td>\n",
              "      <td>1.000000</td>\n",
              "      <td>0.000000</td>\n",
              "      <td>1.000000</td>\n",
              "      <td>0.000000</td>\n",
              "      <td>1.000000</td>\n",
              "      <td>1.000000</td>\n",
              "      <td>0.000000</td>\n",
              "    </tr>\n",
              "    <tr>\n",
              "      <th>max</th>\n",
              "      <td>77.000000</td>\n",
              "      <td>1.000000</td>\n",
              "      <td>200.000000</td>\n",
              "      <td>564.000000</td>\n",
              "      <td>1.000000</td>\n",
              "      <td>202.000000</td>\n",
              "      <td>1.000000</td>\n",
              "      <td>6.200000</td>\n",
              "      <td>2.000000</td>\n",
              "      <td>4.000000</td>\n",
              "      <td>3.000000</td>\n",
              "      <td>1.000000</td>\n",
              "      <td>1.000000</td>\n",
              "      <td>1.000000</td>\n",
              "      <td>1.000000</td>\n",
              "      <td>1.000000</td>\n",
              "      <td>1.000000</td>\n",
              "      <td>1.000000</td>\n",
              "    </tr>\n",
              "  </tbody>\n",
              "</table>\n",
              "</div>\n",
              "      <button class=\"colab-df-convert\" onclick=\"convertToInteractive('df-25c4124c-3617-4a77-863d-b7e140a3c23e')\"\n",
              "              title=\"Convert this dataframe to an interactive table.\"\n",
              "              style=\"display:none;\">\n",
              "        \n",
              "  <svg xmlns=\"http://www.w3.org/2000/svg\" height=\"24px\"viewBox=\"0 0 24 24\"\n",
              "       width=\"24px\">\n",
              "    <path d=\"M0 0h24v24H0V0z\" fill=\"none\"/>\n",
              "    <path d=\"M18.56 5.44l.94 2.06.94-2.06 2.06-.94-2.06-.94-.94-2.06-.94 2.06-2.06.94zm-11 1L8.5 8.5l.94-2.06 2.06-.94-2.06-.94L8.5 2.5l-.94 2.06-2.06.94zm10 10l.94 2.06.94-2.06 2.06-.94-2.06-.94-.94-2.06-.94 2.06-2.06.94z\"/><path d=\"M17.41 7.96l-1.37-1.37c-.4-.4-.92-.59-1.43-.59-.52 0-1.04.2-1.43.59L10.3 9.45l-7.72 7.72c-.78.78-.78 2.05 0 2.83L4 21.41c.39.39.9.59 1.41.59.51 0 1.02-.2 1.41-.59l7.78-7.78 2.81-2.81c.8-.78.8-2.07 0-2.86zM5.41 20L4 18.59l7.72-7.72 1.47 1.35L5.41 20z\"/>\n",
              "  </svg>\n",
              "      </button>\n",
              "      \n",
              "  <style>\n",
              "    .colab-df-container {\n",
              "      display:flex;\n",
              "      flex-wrap:wrap;\n",
              "      gap: 12px;\n",
              "    }\n",
              "\n",
              "    .colab-df-convert {\n",
              "      background-color: #E8F0FE;\n",
              "      border: none;\n",
              "      border-radius: 50%;\n",
              "      cursor: pointer;\n",
              "      display: none;\n",
              "      fill: #1967D2;\n",
              "      height: 32px;\n",
              "      padding: 0 0 0 0;\n",
              "      width: 32px;\n",
              "    }\n",
              "\n",
              "    .colab-df-convert:hover {\n",
              "      background-color: #E2EBFA;\n",
              "      box-shadow: 0px 1px 2px rgba(60, 64, 67, 0.3), 0px 1px 3px 1px rgba(60, 64, 67, 0.15);\n",
              "      fill: #174EA6;\n",
              "    }\n",
              "\n",
              "    [theme=dark] .colab-df-convert {\n",
              "      background-color: #3B4455;\n",
              "      fill: #D2E3FC;\n",
              "    }\n",
              "\n",
              "    [theme=dark] .colab-df-convert:hover {\n",
              "      background-color: #434B5C;\n",
              "      box-shadow: 0px 1px 3px 1px rgba(0, 0, 0, 0.15);\n",
              "      filter: drop-shadow(0px 1px 2px rgba(0, 0, 0, 0.3));\n",
              "      fill: #FFFFFF;\n",
              "    }\n",
              "  </style>\n",
              "\n",
              "      <script>\n",
              "        const buttonEl =\n",
              "          document.querySelector('#df-25c4124c-3617-4a77-863d-b7e140a3c23e button.colab-df-convert');\n",
              "        buttonEl.style.display =\n",
              "          google.colab.kernel.accessAllowed ? 'block' : 'none';\n",
              "\n",
              "        async function convertToInteractive(key) {\n",
              "          const element = document.querySelector('#df-25c4124c-3617-4a77-863d-b7e140a3c23e');\n",
              "          const dataTable =\n",
              "            await google.colab.kernel.invokeFunction('convertToInteractive',\n",
              "                                                     [key], {});\n",
              "          if (!dataTable) return;\n",
              "\n",
              "          const docLinkHtml = 'Like what you see? Visit the ' +\n",
              "            '<a target=\"_blank\" href=https://colab.research.google.com/notebooks/data_table.ipynb>data table notebook</a>'\n",
              "            + ' to learn more about interactive tables.';\n",
              "          element.innerHTML = '';\n",
              "          dataTable['output_type'] = 'display_data';\n",
              "          await google.colab.output.renderOutput(dataTable, element);\n",
              "          const docLink = document.createElement('div');\n",
              "          docLink.innerHTML = docLinkHtml;\n",
              "          element.appendChild(docLink);\n",
              "        }\n",
              "      </script>\n",
              "    </div>\n",
              "  </div>\n",
              "  "
            ]
          },
          "metadata": {},
          "execution_count": 7
        }
      ],
      "source": [
        "x_heart.describe()"
      ]
    },
    {
      "cell_type": "code",
      "execution_count": 8,
      "metadata": {
        "id": "Sa5JE6vXYtIp"
      },
      "outputs": [],
      "source": [
        "for column in x_heart.columns:\n",
        "  x_heart[column] = (x_heart[column] - x_heart[column].mean()) / x_heart[column].std()"
      ]
    },
    {
      "cell_type": "code",
      "execution_count": 9,
      "metadata": {
        "id": "oNMC0LCK7AIC"
      },
      "outputs": [],
      "source": [
        "X_train_heart, X_test_heart, y_train_heart, y_test_heart = train_test_split(x_heart, y_heart, test_size=0.33, random_state=446519)"
      ]
    },
    {
      "cell_type": "code",
      "execution_count": 10,
      "metadata": {
        "colab": {
          "base_uri": "https://localhost:8080/"
        },
        "id": "iXR2tt7GBD-e",
        "outputId": "1395a6db-3184-41f1-e502-100a36322735"
      },
      "outputs": [
        {
          "output_type": "execute_result",
          "data": {
            "text/plain": [
              "RandomForestClassifier(max_depth=5, n_estimators=300, random_state=446519)"
            ]
          },
          "metadata": {},
          "execution_count": 10
        }
      ],
      "source": [
        "rf_h = RandomForestClassifier(n_estimators = 300, max_depth=5, random_state=446519)\n",
        "rf_h.fit(X_train_heart, y_train_heart)"
      ]
    },
    {
      "cell_type": "code",
      "execution_count": 11,
      "metadata": {
        "id": "q0I3rPFwcM8q"
      },
      "outputs": [],
      "source": [
        "random.seed(446519)\n",
        "\n",
        "idx1 = random.randint(0, X_test_heart.shape[0] - 1)\n",
        "idx2 = random.randint(0, X_test_heart.shape[0] - 1)\n",
        "indices = [idx1, idx2]"
      ]
    },
    {
      "cell_type": "code",
      "execution_count": 12,
      "metadata": {
        "id": "H7w2jHKrBZId"
      },
      "outputs": [],
      "source": [
        "sample1 = X_test_heart.iloc[[idx1]]\n",
        "sample2 = X_test_heart.iloc[[idx2]]"
      ]
    },
    {
      "cell_type": "code",
      "execution_count": 13,
      "metadata": {
        "colab": {
          "base_uri": "https://localhost:8080/"
        },
        "id": "T_coa1_3X6Ek",
        "outputId": "2b9fb9c4-8d71-4dec-db73-1203d50aa58d"
      },
      "outputs": [
        {
          "output_type": "stream",
          "name": "stdout",
          "text": [
            "Probailty of heart attack in first sample equals: 55.38228180752807%\n",
            "Probailty of heart attack in second sample equals: 23.03908323870259%\n"
          ]
        }
      ],
      "source": [
        "print(f\"Probailty of heart attack in first sample equals: {rf_h.predict_proba(sample1)[0][1]*100}%\")\n",
        "print(f\"Probailty of heart attack in second sample equals: {rf_h.predict_proba(sample2)[0][1]*100}%\")"
      ]
    },
    {
      "cell_type": "code",
      "execution_count": 14,
      "metadata": {
        "colab": {
          "base_uri": "https://localhost:8080/"
        },
        "id": "8zPyq5jHID2Q",
        "outputId": "d2ad161c-429f-47af-a6cf-904b4a947e21"
      },
      "outputs": [
        {
          "output_type": "stream",
          "name": "stdout",
          "text": [
            "Preparation of a new explainer is initiated\n",
            "\n",
            "  -> data              : 100 rows 18 cols\n",
            "  -> target variable   : Parameter 'y' was a pandas.Series. Converted to a numpy.ndarray.\n",
            "  -> target variable   : 100 values\n",
            "  -> model_class       : sklearn.ensemble._forest.RandomForestClassifier (default)\n",
            "  -> label             : RF_heart_attack\n",
            "  -> predict function  : <function <lambda> at 0x7f77a2a965f0> will be used\n",
            "  -> predict function  : Accepts pandas.DataFrame and numpy.ndarray.\n",
            "  -> predicted values  : min = 0.0096, mean = 0.517, max = 0.972\n",
            "  -> model type        : classification will be used (default)\n",
            "  -> residual function : difference between y and yhat (default)\n",
            "  -> residuals         : min = -0.866, mean = 0.0334, max = 0.948\n",
            "  -> model_info        : package sklearn\n",
            "\n",
            "A new explainer has been created!\n"
          ]
        },
        {
          "output_type": "stream",
          "name": "stderr",
          "text": [
            "/usr/local/lib/python3.7/dist-packages/sklearn/base.py:451: UserWarning: X does not have valid feature names, but RandomForestClassifier was fitted with feature names\n",
            "  \"X does not have valid feature names, but\"\n"
          ]
        }
      ],
      "source": [
        "model_predicting_method = lambda m, d: m.predict_proba(d)[:, 1]\n",
        "\n",
        "explainer_dx_rf_a = dx.Explainer(rf_h, X_test_heart, y_test_heart, predict_function=model_predicting_method, label=\"RF_heart_attack\")"
      ]
    },
    {
      "cell_type": "code",
      "execution_count": 15,
      "metadata": {
        "colab": {
          "base_uri": "https://localhost:8080/",
          "height": 81
        },
        "id": "Bn1vikPC0VAc",
        "outputId": "e093fc5c-4d60-4847-9c92-ec4a52fe1b6b"
      },
      "outputs": [
        {
          "output_type": "execute_result",
          "data": {
            "text/plain": [
              "<dalex.model_explanations._model_performance.object.ModelPerformance at 0x7f77a2a43810>"
            ],
            "text/html": [
              "<div>\n",
              "<style scoped>\n",
              "    .dataframe tbody tr th:only-of-type {\n",
              "        vertical-align: middle;\n",
              "    }\n",
              "\n",
              "    .dataframe tbody tr th {\n",
              "        vertical-align: top;\n",
              "    }\n",
              "\n",
              "    .dataframe thead th {\n",
              "        text-align: right;\n",
              "    }\n",
              "</style>\n",
              "<table border=\"1\" class=\"dataframe\">\n",
              "  <thead>\n",
              "    <tr style=\"text-align: right;\">\n",
              "      <th></th>\n",
              "      <th>recall</th>\n",
              "      <th>precision</th>\n",
              "      <th>f1</th>\n",
              "      <th>accuracy</th>\n",
              "      <th>auc</th>\n",
              "    </tr>\n",
              "  </thead>\n",
              "  <tbody>\n",
              "    <tr>\n",
              "      <th>RF_heart_attack</th>\n",
              "      <td>0.854545</td>\n",
              "      <td>0.854545</td>\n",
              "      <td>0.854545</td>\n",
              "      <td>0.84</td>\n",
              "      <td>0.896566</td>\n",
              "    </tr>\n",
              "  </tbody>\n",
              "</table>\n",
              "</div>"
            ]
          },
          "metadata": {},
          "execution_count": 15
        }
      ],
      "source": [
        "explainer_dx_rf_a.model_performance()"
      ]
    },
    {
      "cell_type": "code",
      "source": [
        "X_test_heart.median(axis=0)"
      ],
      "metadata": {
        "colab": {
          "base_uri": "https://localhost:8080/"
        },
        "id": "-13vFGOPvYVp",
        "outputId": "528944e7-8b13-46c9-dbb2-39b0c673e02a"
      },
      "execution_count": 16,
      "outputs": [
        {
          "output_type": "execute_result",
          "data": {
            "text/plain": [
              "age         0.289984\n",
              "sex         0.679881\n",
              "trtbps     -0.092585\n",
              "chol       -0.043681\n",
              "fbs        -0.416945\n",
              "thalachh    0.102734\n",
              "exng       -0.695480\n",
              "oldpeak    -0.120237\n",
              "slp        -0.648041\n",
              "caa        -0.713249\n",
              "thall      -0.512075\n",
              "cp0        -0.943822\n",
              "cp1        -0.443820\n",
              "cp2        -0.633600\n",
              "cp3        -0.286132\n",
              "restecg0   -0.969122\n",
              "restecg1    0.995059\n",
              "restecg2   -0.115472\n",
              "dtype: float64"
            ]
          },
          "metadata": {},
          "execution_count": 16
        }
      ]
    },
    {
      "cell_type": "code",
      "source": [],
      "metadata": {
        "id": "JjgzvgUVYNRh"
      },
      "execution_count": 16,
      "outputs": []
    },
    {
      "cell_type": "code",
      "source": [
        "import numpy as np\n",
        "import matplotlib.pyplot as plt\n",
        "\n",
        "for i in range(0, 4):\n",
        "  random.seed(i)\n",
        "  np.random.seed(i)\n",
        "  lime_attributions_dx_rf = explainer_dx_rf_a.predict_surrogate(X_test_heart.iloc[[indices[i//2]]], label=f'patient {[indices[i//2]]} rf')\n",
        "  lime_attributions_dx_rf.plot(return_figure=True)\n",
        "  plt.title(f'Explanation of random forrest for observation patient {indices[i // 2]} version {i%2 + 1}.')"
      ],
      "metadata": {
        "colab": {
          "base_uri": "https://localhost:8080/",
          "height": 1000
        },
        "id": "RsSIASgu6V6O",
        "outputId": "ebef0221-4436-4555-cf87-2383299345b5"
      },
      "execution_count": 17,
      "outputs": [
        {
          "output_type": "display_data",
          "data": {
            "text/plain": [
              "<Figure size 432x288 with 1 Axes>"
            ],
            "image/png": "[encoded data removed]"
          },
          "metadata": {
            "needs_background": "light"
          }
        },
        {
          "output_type": "display_data",
          "data": {
            "text/plain": [
              "<Figure size 432x288 with 1 Axes>"
            ],
            "image/png": "[encoded data removed]"
          },
          "metadata": {
            "needs_background": "light"
          }
        },
        {
          "output_type": "display_data",
          "data": {
            "text/plain": [
              "<Figure size 432x288 with 1 Axes>"
            ],
            "image/png": "[encoded data removed]"
          },
          "metadata": {
            "needs_background": "light"
          }
        },
        {
          "output_type": "display_data",
          "data": {
            "text/plain": [
              "<Figure size 432x288 with 1 Axes>"
            ],
            "image/png": "[encoded data removed]"
          },
          "metadata": {
            "needs_background": "light"
          }
        }
      ]
    },
    {
      "cell_type": "code",
      "execution_count": 18,
      "metadata": {
        "id": "7_8phqfj8tBp",
        "colab": {
          "base_uri": "https://localhost:8080/"
        },
        "outputId": "6e72fa2c-46ec-480c-b548-1ca9d70c790c"
      },
      "outputs": [
        {
          "output_type": "execute_result",
          "data": {
            "text/plain": [
              "SVC(probability=True, random_state=446519)"
            ]
          },
          "metadata": {},
          "execution_count": 18
        }
      ],
      "source": [
        "svc = SVC(random_state=446519, probability=True)\n",
        "svc.fit(X_train_heart, y_train_heart)"
      ]
    },
    {
      "cell_type": "code",
      "execution_count": 19,
      "metadata": {
        "colab": {
          "base_uri": "https://localhost:8080/"
        },
        "id": "GcOxZ_WbEETD",
        "outputId": "c43e01f8-a699-4fc2-e334-ecfd8b88d979"
      },
      "outputs": [
        {
          "output_type": "stream",
          "name": "stdout",
          "text": [
            "Preparation of a new explainer is initiated\n",
            "\n",
            "  -> data              : 100 rows 18 cols\n",
            "  -> target variable   : Parameter 'y' was a pandas.Series. Converted to a numpy.ndarray.\n",
            "  -> target variable   : 100 values\n",
            "  -> model_class       : sklearn.svm._classes.SVC (default)\n",
            "  -> label             : SVM_heart_attack\n",
            "  -> predict function  : <function <lambda> at 0x7f77a2a965f0> will be used\n",
            "  -> predict function  : Accepts pandas.DataFrame and numpy.ndarray.\n",
            "  -> predicted values  : min = 0.00806, mean = 0.515, max = 0.97\n",
            "  -> model type        : classification will be used (default)\n",
            "  -> residual function : difference between y and yhat (default)\n",
            "  -> residuals         : min = -0.898, mean = 0.035, max = 0.984\n",
            "  -> model_info        : package sklearn\n",
            "\n",
            "A new explainer has been created!\n"
          ]
        },
        {
          "output_type": "stream",
          "name": "stderr",
          "text": [
            "/usr/local/lib/python3.7/dist-packages/sklearn/base.py:451: UserWarning: X does not have valid feature names, but SVC was fitted with feature names\n",
            "  \"X does not have valid feature names, but\"\n"
          ]
        }
      ],
      "source": [
        "explainer_dx_svm = dx.Explainer(svc, X_test_heart, y_test_heart, predict_function=model_predicting_method, label=\"SVM_heart_attack\")"
      ]
    },
    {
      "cell_type": "code",
      "source": [
        "for i in range(0, 2):\n",
        "  random.seed(i)\n",
        "  np.random.seed(i)\n",
        "  lime_attributions_dx_svm = explainer_dx_svm.predict_surrogate(X_test_heart.iloc[[indices[i]]], label=f'patient {[indices[i]]} svm')\n",
        "  lime_attributions_dx_svm.plot(return_figure=True)\n",
        "  plt.title(f'Explanation of svm for observation patient {indices[i]}.')"
      ],
      "metadata": {
        "colab": {
          "base_uri": "https://localhost:8080/",
          "height": 545
        },
        "id": "CmdUXQiFVm0u",
        "outputId": "9bfa91f3-c2a8-4241-ad98-76b1a569e772"
      },
      "execution_count": 20,
      "outputs": [
        {
          "output_type": "display_data",
          "data": {
            "text/plain": [
              "<Figure size 432x288 with 1 Axes>"
            ],
            "image/png": "[encoded data removed]"
          },
          "metadata": {
            "needs_background": "light"
          }
        },
        {
          "output_type": "display_data",
          "data": {
            "text/plain": [
              "<Figure size 432x288 with 1 Axes>"
            ],
            "image/png": "[encoded data removed]"
          },
          "metadata": {
            "needs_background": "light"
          }
        }
      ]
    },
    {
      "cell_type": "code",
      "source": [
        "lr = LogisticRegression()\n",
        "lr.fit(X_train_heart, y_train_heart)"
      ],
      "metadata": {
        "colab": {
          "base_uri": "https://localhost:8080/"
        },
        "id": "ikkjuk7UWJGY",
        "outputId": "56cf8777-6513-4812-877f-d1a5993637e6"
      },
      "execution_count": 21,
      "outputs": [
        {
          "output_type": "execute_result",
          "data": {
            "text/plain": [
              "LogisticRegression()"
            ]
          },
          "metadata": {},
          "execution_count": 21
        }
      ]
    },
    {
      "cell_type": "code",
      "source": [
        "explainer_dx_lr = dx.Explainer(lr, X_test_heart, y_test_heart, predict_function=model_predicting_method, label=\"SVM_heart_attack\")"
      ],
      "metadata": {
        "colab": {
          "base_uri": "https://localhost:8080/"
        },
        "id": "sLkYau3JWev3",
        "outputId": "41fe04cf-1d11-4072-cd1a-4c2bf5aeb0ef"
      },
      "execution_count": 22,
      "outputs": [
        {
          "output_type": "stream",
          "name": "stdout",
          "text": [
            "Preparation of a new explainer is initiated\n",
            "\n",
            "  -> data              : 100 rows 18 cols\n",
            "  -> target variable   : Parameter 'y' was a pandas.Series. Converted to a numpy.ndarray.\n",
            "  -> target variable   : 100 values\n",
            "  -> model_class       : sklearn.linear_model._logistic.LogisticRegression (default)\n",
            "  -> label             : SVM_heart_attack\n",
            "  -> predict function  : <function <lambda> at 0x7f77a2a965f0> will be used\n",
            "  -> predict function  : Accepts pandas.DataFrame and numpy.ndarray.\n",
            "  -> predicted values  : min = 0.000599, mean = 0.522, max = 0.997\n",
            "  -> model type        : classification will be used (default)\n",
            "  -> residual function : difference between y and yhat (default)\n",
            "  -> residuals         : min = -0.954, mean = 0.028, max = 0.973\n",
            "  -> model_info        : package sklearn\n",
            "\n",
            "A new explainer has been created!\n"
          ]
        },
        {
          "output_type": "stream",
          "name": "stderr",
          "text": [
            "/usr/local/lib/python3.7/dist-packages/sklearn/base.py:451: UserWarning: X does not have valid feature names, but LogisticRegression was fitted with feature names\n",
            "  \"X does not have valid feature names, but\"\n"
          ]
        }
      ]
    },
    {
      "cell_type": "code",
      "source": [
        "for i in range(0, 2):\n",
        "  random.seed(i)\n",
        "  np.random.seed(i)\n",
        "  lime_attributions_dx_lr = explainer_dx_lr.predict_surrogate(X_test_heart.iloc[[indices[i]]], label=f'patient {[indices[i]]} lr')\n",
        "  lime_attributions_dx_lr.plot(return_figure=True)\n",
        "  plt.title(f'Explanation of logistic regression for observation patient {indices[i]}.')"
      ],
      "metadata": {
        "colab": {
          "base_uri": "https://localhost:8080/",
          "height": 545
        },
        "id": "d5CgYrnOW9Jo",
        "outputId": "c19416b2-65ef-4b7d-c866-2f6ec169f748"
      },
      "execution_count": 23,
      "outputs": [
        {
          "output_type": "display_data",
          "data": {
            "text/plain": [
              "<Figure size 432x288 with 1 Axes>"
            ],
            "image/png": "[encoded data removed]"
          },
          "metadata": {
            "needs_background": "light"
          }
        },
        {
          "output_type": "display_data",
          "data": {
            "text/plain": [
              "<Figure size 432x288 with 1 Axes>"
            ],
            "image/png": "[encoded data removed]"
          },
          "metadata": {
            "needs_background": "light"
          }
        }
      ]
    },
    {
      "cell_type": "code",
      "source": [],
      "metadata": {
        "id": "Hb2Cz76bd67S"
      },
      "execution_count": 23,
      "outputs": []
    }
  ],
  "metadata": {
    "colab": {
      "collapsed_sections": [],
      "provenance": []
    },
    "kernelspec": {
      "display_name": "Python 3",
      "language": "python",
      "name": "python3"
    },
    "language_info": {
      "codemirror_mode": {
        "name": "ipython",
        "version": 3
      },
      "file_extension": ".py",
      "mimetype": "text/x-python",
      "name": "python",
      "nbconvert_exporter": "python",
      "pygments_lexer": "ipython3",
      "version": "3.8.5"
    }
  },
  "nbformat": 4,
  "nbformat_minor": 0
}