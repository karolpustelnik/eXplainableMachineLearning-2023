{
 "cells": [
  {
   "cell_type": "markdown",
   "metadata": {},
   "source": [
    "# Task 2"
   ]
  },
  {
   "cell_type": "markdown",
   "metadata": {},
   "source": [
    "## 1. Calculate the predictions for some selected observations."
   ]
  },
  {
   "cell_type": "markdown",
   "metadata": {},
   "source": [
    "## 2. Then, calculate the what-if explanations of these predictions using Ceteris Paribus profiles (also called What-if plots), e.g. in Python: `AIX360`, `Alibi` `dalex`, `PDPbox`; in R: `pdp`, `DALEX`, `ALEplot`. **implement CP yourself for a potential bonus point*\n",
    "\n",
    "The first two plots represent the Ceteris Paribus explanation of `age` and `bmi` for a single observation. `age` dependency seems in line with what we've seen so far - a monotone prediction function. Interestingly, the `bmi` plot is not monotone which could indicate some correlation between features or non-monotone relationship dependency on `bmi`. Futhermore, we can see that the plot is a bit unstable, which could suggest overfitting of the model.\n",
    "\n",
    "![](1.png)\n",
    "![](2.png)\n",
    "\n",
    "Next we can see Ceteris Paribus explanation for one-hot encoded features. As could be expected, prediction is decreased for children, no big impact on `smoking_status` on the prediction.\n",
    "\n",
    "![](3.png)\n",
    "![](4.png)\n",
    "\n",
    "Next, we compare `age` CP plots for two different observations. They seem mostly consistent.\n",
    "\n",
    "![](5.png)\n",
    "![](6.png)"
   ]
  },
  {
   "cell_type": "markdown",
   "metadata": {},
   "source": [
    "## 3. Find two observations in the data set, such that they have different CP profiles. For example, model predictions are increasing with `age` for one observation and decreasing with `age` for another one. NOTE that you will need to have a model with interactions to observe such differences.\n",
    "\n",
    "We'll take a look at the `bmi` feature.\n",
    "\n",
    "![](7.png)\n",
    "![](8.png)\n",
    "\n",
    "We can see that the prediction is roughly decreasing for one sample while increasing for the other. Again, this may be caused by some dependency between features, maybe ME or ALE would tell us more."
   ]
  },
  {
   "cell_type": "markdown",
   "metadata": {},
   "source": [
    "## 4. Compare CP, which is a local explanation, with PDP, which is a global explanation. **implement PDP yourself for a potential bonus point*\n",
    "\n",
    "The `age` PDP plot is fairly consistent with what we've seen on CP plots. The `bmi` plot also presents the same non-linearity we've seen on the CP plots, although it possibly gives more insight about what the general trends are. It still doesn't account for correlation between features, so it's hard to draw conclusions about what the real impact of `bmi` on prediction is.\n",
    "\n",
    "![](9.png)\n",
    "![](10.png)\n",
    "\n",
    "For one-hot features we can see again that `children` are less likely to be diagnosed, and `smoking_status` doesn't seem to have much of an impact.\n",
    "\n",
    "![](11.png)\n",
    "![](12.png)"
   ]
  },
  {
   "cell_type": "markdown",
   "metadata": {},
   "source": [
    "## 5. Compare PDP between between at least two different models.\n",
    "\n",
    "I've chosen again to compare `Random Forest` with `Logistic Regression`.\n",
    "\n",
    "![](13.png)\n",
    "![](14.png)\n",
    "\n",
    "The first striking difference is that `Logistic Regression` PDP plot is much smoother than `Random Forest`, which is to be expected considering the model used. Other difference is `Logistic Regression` extrapolates predictions for ages over `80` while `Random Forest` treats them the same as 80-yo patients.\n",
    "\n",
    "![](15.png)\n",
    "![](16.png)\n",
    "\n",
    "Similar to what we've seen in previous homeworks, `Logistic Regression` uses `children` feature to delinearize prediction based on `age`."
   ]
  }
 ],
 "metadata": {
  "kernelspec": {
   "display_name": "Python 3.10.7 64-bit",
   "language": "python",
   "name": "python3"
  },
  "language_info": {
   "name": "python",
   "version": "3.10.7"
  },
  "orig_nbformat": 4,
  "vscode": {
   "interpreter": {
    "hash": "aee8b7b246df8f9039afb4144a1f6fd8d2ca17a180786b69acc140d282b71a49"
   }
  }
 },
 "nbformat": 4,
 "nbformat_minor": 2
}
