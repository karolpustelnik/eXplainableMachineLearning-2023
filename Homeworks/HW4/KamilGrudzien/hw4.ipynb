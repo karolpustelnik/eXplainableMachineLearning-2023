{
 "cells": [
  {
   "cell_type": "markdown",
   "source": [
    "# Homework 4\n",
    "### Become familiar with Ceteris Paribus (CP) and Partial Dependence profiles (PDP), and its variants like Accumulated Local Effects (ALE).\n",
    "\n",
    "Dataset used for experiments with explanation libraries is Heart Attack Dataset. Most of the experiments are run using `XGBClassifier`, except the last one where `RandomForestClassifier` is used."
   ],
   "metadata": {
    "collapsed": false
   }
  },
  {
   "cell_type": "markdown",
   "source": [
    "## Task 1\n",
    "\n",
    "<img src=\"imgs/task1.jpg\" alt=\"task1 solution\" width=\"1000\"/>\n"
   ],
   "metadata": {
    "collapsed": false
   }
  },
  {
   "cell_type": "markdown",
   "source": [
    "## Task 2.3\n",
    "\n",
    "Chosen patients from the dataset for all the next tasks are exactly the same as in the previous homeworks.\n",
    "\n",
    "We can see that for two different samples there are some differences in the presented plots. Change of \"slp\" feature, affects predictions differently for both patients. For one of the patients, there is no big difference in prediction. Predicted score differs much more for the second patient. Similar behaviour can be observed for \"chol\".\n",
    "<br /> <br />\n",
    "\n",
    "<img src=\"imgs/task2.3.png\" alt=\"task2 solution\" width=\"1200\"/>\n"
   ],
   "metadata": {
    "collapsed": false
   }
  },
  {
   "cell_type": "markdown",
   "source": [
    "## Task 2.4\n",
    "Comparing PDP with CP, we can see that \"sex\" feature does not really change. However, differences for \"age\" feature are clearly visible.\n",
    "Globally, we can see that change of age between 50-60 and 60-70 strongly influences the predicted class. For the sampled patient, those influences are not that strong.\n",
    "\n",
    "<br /> <br />\n",
    "<img src=\"imgs/task2.4.2.png\" alt=\"task2 solution\" width=\"1200\"/>\n",
    "<img src=\"imgs/task2.4.1.png\" alt=\"task2 solution\" width=\"1200\"/>"
   ],
   "metadata": {
    "collapsed": false
   }
  },
  {
   "cell_type": "markdown",
   "source": [
    "## Task 2.5\n",
    "Compared models are XGBClassifier and RandomForestClassifier. As in the previous task, we can see that \"sex\" influence does not differ between models.\n",
    "Features, such as \"age\" and \"chol\", behave similarly for both models. There are visible common decreases in prediction score (for \"age\" between around 57-60) and increases (for \"chol\" equal around 200).\n",
    "\n",
    "<br /> <br />\n",
    "<img src=\"imgs/task2.5.1.png\" alt=\"task2 solution\" width=\"1200\"/>\n",
    "<img src=\"imgs/task2.5.2.png\" alt=\"task2 solution\" width=\"1200\"/>"
   ],
   "metadata": {
    "collapsed": false
   }
  },
  {
   "cell_type": "code",
   "execution_count": null,
   "metadata": {
    "collapsed": true,
    "pycharm": {
     "is_executing": true
    }
   },
   "outputs": [],
   "source": [
    "!pip install pandas\n",
    "!pip install plotly\n",
    "!pip install seaborn\n",
    "!pip install sklearn\n",
    "!pip install xgboost\n",
    "!pip install imblearn\n",
    "!pip install dalex\n",
    "!pip install shap\n",
    "!pip install lime"
   ]
  },
  {
   "cell_type": "code",
   "execution_count": 48,
   "outputs": [],
   "source": [
    "import pandas as pd\n",
    "from sklearn.preprocessing import OneHotEncoder, StandardScaler\n",
    "from sklearn.linear_model import LogisticRegression\n",
    "from sklearn.ensemble import RandomForestClassifier\n",
    "from xgboost import XGBClassifier\n",
    "\n",
    "from sklearn.model_selection import cross_val_score\n",
    "from sklearn.metrics import confusion_matrix, ConfusionMatrixDisplay, classification_report\n",
    "import dalex as dx\n",
    "import shap\n",
    "import sklearn"
   ],
   "metadata": {
    "collapsed": false
   }
  },
  {
   "cell_type": "code",
   "execution_count": 12,
   "outputs": [],
   "source": [
    "df = pd.read_csv('data/heart.csv')\n",
    "categorical_cols = ['exng', 'caa', 'cp', 'restecg']\n",
    "\n",
    "ohe = OneHotEncoder(handle_unknown='ignore', sparse=False, drop='first')\n",
    "df[categorical_cols] = df[categorical_cols].astype('category')\n",
    "df_tr = df.copy()\n",
    "\n",
    "ohe.fit(df_tr[categorical_cols])\n",
    "df_tr[ohe.get_feature_names_out(categorical_cols)] = ohe.transform(df_tr[categorical_cols])\n",
    "df_tr.drop(columns=categorical_cols, inplace=True)\n",
    "\n",
    "X, y = df_tr.drop(columns=['output']), df_tr['output']"
   ],
   "metadata": {
    "collapsed": false
   }
  },
  {
   "cell_type": "code",
   "execution_count": 4,
   "outputs": [],
   "source": [
    "def run_training(model, run_cv: bool = False):\n",
    "    if run_cv:\n",
    "        print(f'CV mean accuracy: {cross_val_score(model, X, y, cv=5, scoring=\"accuracy\").mean()}')\n",
    "\n",
    "    model.fit(X, y)\n",
    "    y_pred = model.predict(X)\n",
    "    conf_mat = confusion_matrix(y, y_pred)\n",
    "    cmd = ConfusionMatrixDisplay(conf_mat)\n",
    "    cmd.plot()\n",
    "    print(classification_report(y, y_pred))"
   ],
   "metadata": {
    "collapsed": false
   }
  },
  {
   "cell_type": "code",
   "execution_count": 13,
   "outputs": [
    {
     "data": {
      "text/plain": "XGBClassifier(base_score=0.5, booster='gbtree', callbacks=None,\n              colsample_bylevel=1, colsample_bynode=1, colsample_bytree=1,\n              early_stopping_rounds=None, enable_categorical=False,\n              eval_metric=None, gamma=0, gpu_id=-1, grow_policy='depthwise',\n              importance_type=None, interaction_constraints='',\n              learning_rate=0.300000012, max_bin=256, max_cat_to_onehot=4,\n              max_delta_step=0, max_depth=6, max_leaves=0, min_child_weight=1,\n              missing=nan, monotone_constraints='()', n_estimators=100,\n              n_jobs=0, num_parallel_tree=1, predictor='auto', random_state=0,\n              reg_alpha=0, reg_lambda=1, ...)",
      "text/html": "<style>#sk-container-id-3 {color: black;background-color: white;}#sk-container-id-3 pre{padding: 0;}#sk-container-id-3 div.sk-toggleable {background-color: white;}#sk-container-id-3 label.sk-toggleable__label {cursor: pointer;display: block;width: 100%;margin-bottom: 0;padding: 0.3em;box-sizing: border-box;text-align: center;}#sk-container-id-3 label.sk-toggleable__label-arrow:before {content: \"▸\";float: left;margin-right: 0.25em;color: #696969;}#sk-container-id-3 label.sk-toggleable__label-arrow:hover:before {color: black;}#sk-container-id-3 div.sk-estimator:hover label.sk-toggleable__label-arrow:before {color: black;}#sk-container-id-3 div.sk-toggleable__content {max-height: 0;max-width: 0;overflow: hidden;text-align: left;background-color: #f0f8ff;}#sk-container-id-3 div.sk-toggleable__content pre {margin: 0.2em;color: black;border-radius: 0.25em;background-color: #f0f8ff;}#sk-container-id-3 input.sk-toggleable__control:checked~div.sk-toggleable__content {max-height: 200px;max-width: 100%;overflow: auto;}#sk-container-id-3 input.sk-toggleable__control:checked~label.sk-toggleable__label-arrow:before {content: \"▾\";}#sk-container-id-3 div.sk-estimator input.sk-toggleable__control:checked~label.sk-toggleable__label {background-color: #d4ebff;}#sk-container-id-3 div.sk-label input.sk-toggleable__control:checked~label.sk-toggleable__label {background-color: #d4ebff;}#sk-container-id-3 input.sk-hidden--visually {border: 0;clip: rect(1px 1px 1px 1px);clip: rect(1px, 1px, 1px, 1px);height: 1px;margin: -1px;overflow: hidden;padding: 0;position: absolute;width: 1px;}#sk-container-id-3 div.sk-estimator {font-family: monospace;background-color: #f0f8ff;border: 1px dotted black;border-radius: 0.25em;box-sizing: border-box;margin-bottom: 0.5em;}#sk-container-id-3 div.sk-estimator:hover {background-color: #d4ebff;}#sk-container-id-3 div.sk-parallel-item::after {content: \"\";width: 100%;border-bottom: 1px solid gray;flex-grow: 1;}#sk-container-id-3 div.sk-label:hover label.sk-toggleable__label {background-color: #d4ebff;}#sk-container-id-3 div.sk-serial::before {content: \"\";position: absolute;border-left: 1px solid gray;box-sizing: border-box;top: 0;bottom: 0;left: 50%;z-index: 0;}#sk-container-id-3 div.sk-serial {display: flex;flex-direction: column;align-items: center;background-color: white;padding-right: 0.2em;padding-left: 0.2em;position: relative;}#sk-container-id-3 div.sk-item {position: relative;z-index: 1;}#sk-container-id-3 div.sk-parallel {display: flex;align-items: stretch;justify-content: center;background-color: white;position: relative;}#sk-container-id-3 div.sk-item::before, #sk-container-id-3 div.sk-parallel-item::before {content: \"\";position: absolute;border-left: 1px solid gray;box-sizing: border-box;top: 0;bottom: 0;left: 50%;z-index: -1;}#sk-container-id-3 div.sk-parallel-item {display: flex;flex-direction: column;z-index: 1;position: relative;background-color: white;}#sk-container-id-3 div.sk-parallel-item:first-child::after {align-self: flex-end;width: 50%;}#sk-container-id-3 div.sk-parallel-item:last-child::after {align-self: flex-start;width: 50%;}#sk-container-id-3 div.sk-parallel-item:only-child::after {width: 0;}#sk-container-id-3 div.sk-dashed-wrapped {border: 1px dashed gray;margin: 0 0.4em 0.5em 0.4em;box-sizing: border-box;padding-bottom: 0.4em;background-color: white;}#sk-container-id-3 div.sk-label label {font-family: monospace;font-weight: bold;display: inline-block;line-height: 1.2em;}#sk-container-id-3 div.sk-label-container {text-align: center;}#sk-container-id-3 div.sk-container {/* jupyter's `normalize.less` sets `[hidden] { display: none; }` but bootstrap.min.css set `[hidden] { display: none !important; }` so we also need the `!important` here to be able to override the default hidden behavior on the sphinx rendered scikit-learn.org. See: https://github.com/scikit-learn/scikit-learn/issues/21755 */display: inline-block !important;position: relative;}#sk-container-id-3 div.sk-text-repr-fallback {display: none;}</style><div id=\"sk-container-id-3\" class=\"sk-top-container\"><div class=\"sk-text-repr-fallback\"><pre>XGBClassifier(base_score=0.5, booster=&#x27;gbtree&#x27;, callbacks=None,\n              colsample_bylevel=1, colsample_bynode=1, colsample_bytree=1,\n              early_stopping_rounds=None, enable_categorical=False,\n              eval_metric=None, gamma=0, gpu_id=-1, grow_policy=&#x27;depthwise&#x27;,\n              importance_type=None, interaction_constraints=&#x27;&#x27;,\n              learning_rate=0.300000012, max_bin=256, max_cat_to_onehot=4,\n              max_delta_step=0, max_depth=6, max_leaves=0, min_child_weight=1,\n              missing=nan, monotone_constraints=&#x27;()&#x27;, n_estimators=100,\n              n_jobs=0, num_parallel_tree=1, predictor=&#x27;auto&#x27;, random_state=0,\n              reg_alpha=0, reg_lambda=1, ...)</pre><b>In a Jupyter environment, please rerun this cell to show the HTML representation or trust the notebook. <br />On GitHub, the HTML representation is unable to render, please try loading this page with nbviewer.org.</b></div><div class=\"sk-container\" hidden><div class=\"sk-item\"><div class=\"sk-estimator sk-toggleable\"><input class=\"sk-toggleable__control sk-hidden--visually\" id=\"sk-estimator-id-3\" type=\"checkbox\" checked><label for=\"sk-estimator-id-3\" class=\"sk-toggleable__label sk-toggleable__label-arrow\">XGBClassifier</label><div class=\"sk-toggleable__content\"><pre>XGBClassifier(base_score=0.5, booster=&#x27;gbtree&#x27;, callbacks=None,\n              colsample_bylevel=1, colsample_bynode=1, colsample_bytree=1,\n              early_stopping_rounds=None, enable_categorical=False,\n              eval_metric=None, gamma=0, gpu_id=-1, grow_policy=&#x27;depthwise&#x27;,\n              importance_type=None, interaction_constraints=&#x27;&#x27;,\n              learning_rate=0.300000012, max_bin=256, max_cat_to_onehot=4,\n              max_delta_step=0, max_depth=6, max_leaves=0, min_child_weight=1,\n              missing=nan, monotone_constraints=&#x27;()&#x27;, n_estimators=100,\n              n_jobs=0, num_parallel_tree=1, predictor=&#x27;auto&#x27;, random_state=0,\n              reg_alpha=0, reg_lambda=1, ...)</pre></div></div></div></div></div>"
     },
     "execution_count": 13,
     "metadata": {},
     "output_type": "execute_result"
    }
   ],
   "source": [
    "model1 = XGBClassifier()\n",
    "model1.fit(X, y)"
   ],
   "metadata": {
    "collapsed": false
   }
  },
  {
   "cell_type": "markdown",
   "source": [
    "## Task 2\n",
    "### 1."
   ],
   "metadata": {
    "collapsed": false
   }
  },
  {
   "cell_type": "code",
   "execution_count": 14,
   "outputs": [
    {
     "name": "stdout",
     "output_type": "stream",
     "text": [
      "Int64Index([14, 108], dtype='int64')\n"
     ]
    },
    {
     "data": {
      "text/plain": "array([[8.0226064e-03, 9.9197739e-01],\n       [4.6610832e-04, 9.9953389e-01]], dtype=float32)"
     },
     "execution_count": 14,
     "metadata": {},
     "output_type": "execute_result"
    }
   ],
   "source": [
    "patients = X.iloc[[14, 108]]#.sample(2) #14, 108\n",
    "print(patients.index)\n",
    "model1.predict_proba(patients)"
   ],
   "metadata": {
    "collapsed": false
   }
  },
  {
   "cell_type": "code",
   "execution_count": 16,
   "outputs": [
    {
     "name": "stdout",
     "output_type": "stream",
     "text": [
      "Preparation of a new explainer is initiated\n",
      "\n",
      "  -> data              : 303 rows 19 cols\n",
      "  -> target variable   : Parameter 'y' was a pandas.Series. Converted to a numpy.ndarray.\n",
      "  -> target variable   : 303 values\n",
      "  -> model_class       : xgboost.sklearn.XGBClassifier (default)\n",
      "  -> label             : Not specified, model's class short name will be used. (default)\n",
      "  -> predict function  : <function yhat_proba_default at 0x7faacbbb2440> will be used (default)\n",
      "  -> predict function  : Accepts pandas.DataFrame and numpy.ndarray.\n",
      "  -> predicted values  : min = 0.000237, mean = 0.545, max = 1.0\n",
      "  -> model type        : classification will be used (default)\n",
      "  -> residual function : difference between y and yhat (default)\n",
      "  -> residuals         : min = -0.177, mean = 3.57e-05, max = 0.139\n",
      "  -> model_info        : package xgboost\n",
      "\n",
      "A new explainer has been created!\n"
     ]
    }
   ],
   "source": [
    "explainer = dx.Explainer(model1, X, y)"
   ],
   "metadata": {
    "collapsed": false
   }
  },
  {
   "cell_type": "code",
   "execution_count": 17,
   "outputs": [
    {
     "data": {
      "text/plain": "<dalex.model_explanations._model_performance.object.ModelPerformance at 0x7faabae928f0>",
      "text/html": "<div>\n<style scoped>\n    .dataframe tbody tr th:only-of-type {\n        vertical-align: middle;\n    }\n\n    .dataframe tbody tr th {\n        vertical-align: top;\n    }\n\n    .dataframe thead th {\n        text-align: right;\n    }\n</style>\n<table border=\"1\" class=\"dataframe\">\n  <thead>\n    <tr style=\"text-align: right;\">\n      <th></th>\n      <th>recall</th>\n      <th>precision</th>\n      <th>f1</th>\n      <th>accuracy</th>\n      <th>auc</th>\n    </tr>\n  </thead>\n  <tbody>\n    <tr>\n      <th>XGBClassifier</th>\n      <td>1.0</td>\n      <td>1.0</td>\n      <td>1.0</td>\n      <td>1.0</td>\n      <td>1.0</td>\n    </tr>\n  </tbody>\n</table>\n</div>"
     },
     "execution_count": 17,
     "metadata": {},
     "output_type": "execute_result"
    }
   ],
   "source": [
    "explainer.model_performance()"
   ],
   "metadata": {
    "collapsed": false
   }
  },
  {
   "cell_type": "code",
   "execution_count": 18,
   "outputs": [
    {
     "data": {
      "text/plain": "        variable  dropout_loss          label\n0   _full_model_      0.000000  XGBClassifier\n1      restecg_2      0.000000  XGBClassifier\n2          caa_3      0.000000  XGBClassifier\n3          caa_4      0.000000  XGBClassifier\n4           cp_1      0.000000  XGBClassifier\n5            fbs      0.000000  XGBClassifier\n6      restecg_1      0.000044  XGBClassifier\n7         exng_1      0.000404  XGBClassifier\n8          caa_2      0.000632  XGBClassifier\n9           cp_2      0.000848  XGBClassifier\n10          cp_3      0.001023  XGBClassifier\n11           slp      0.001291  XGBClassifier\n12        trtbps      0.001357  XGBClassifier\n13         caa_1      0.004756  XGBClassifier\n14          chol      0.007501  XGBClassifier\n15      thalachh      0.008041  XGBClassifier\n16           sex      0.009275  XGBClassifier\n17       oldpeak      0.010101  XGBClassifier\n18           age      0.010597  XGBClassifier\n19         thall      0.019974  XGBClassifier\n20    _baseline_      0.506737  XGBClassifier",
      "text/html": "<div>\n<style scoped>\n    .dataframe tbody tr th:only-of-type {\n        vertical-align: middle;\n    }\n\n    .dataframe tbody tr th {\n        vertical-align: top;\n    }\n\n    .dataframe thead th {\n        text-align: right;\n    }\n</style>\n<table border=\"1\" class=\"dataframe\">\n  <thead>\n    <tr style=\"text-align: right;\">\n      <th></th>\n      <th>variable</th>\n      <th>dropout_loss</th>\n      <th>label</th>\n    </tr>\n  </thead>\n  <tbody>\n    <tr>\n      <th>0</th>\n      <td>_full_model_</td>\n      <td>0.000000</td>\n      <td>XGBClassifier</td>\n    </tr>\n    <tr>\n      <th>1</th>\n      <td>restecg_2</td>\n      <td>0.000000</td>\n      <td>XGBClassifier</td>\n    </tr>\n    <tr>\n      <th>2</th>\n      <td>caa_3</td>\n      <td>0.000000</td>\n      <td>XGBClassifier</td>\n    </tr>\n    <tr>\n      <th>3</th>\n      <td>caa_4</td>\n      <td>0.000000</td>\n      <td>XGBClassifier</td>\n    </tr>\n    <tr>\n      <th>4</th>\n      <td>cp_1</td>\n      <td>0.000000</td>\n      <td>XGBClassifier</td>\n    </tr>\n    <tr>\n      <th>5</th>\n      <td>fbs</td>\n      <td>0.000000</td>\n      <td>XGBClassifier</td>\n    </tr>\n    <tr>\n      <th>6</th>\n      <td>restecg_1</td>\n      <td>0.000044</td>\n      <td>XGBClassifier</td>\n    </tr>\n    <tr>\n      <th>7</th>\n      <td>exng_1</td>\n      <td>0.000404</td>\n      <td>XGBClassifier</td>\n    </tr>\n    <tr>\n      <th>8</th>\n      <td>caa_2</td>\n      <td>0.000632</td>\n      <td>XGBClassifier</td>\n    </tr>\n    <tr>\n      <th>9</th>\n      <td>cp_2</td>\n      <td>0.000848</td>\n      <td>XGBClassifier</td>\n    </tr>\n    <tr>\n      <th>10</th>\n      <td>cp_3</td>\n      <td>0.001023</td>\n      <td>XGBClassifier</td>\n    </tr>\n    <tr>\n      <th>11</th>\n      <td>slp</td>\n      <td>0.001291</td>\n      <td>XGBClassifier</td>\n    </tr>\n    <tr>\n      <th>12</th>\n      <td>trtbps</td>\n      <td>0.001357</td>\n      <td>XGBClassifier</td>\n    </tr>\n    <tr>\n      <th>13</th>\n      <td>caa_1</td>\n      <td>0.004756</td>\n      <td>XGBClassifier</td>\n    </tr>\n    <tr>\n      <th>14</th>\n      <td>chol</td>\n      <td>0.007501</td>\n      <td>XGBClassifier</td>\n    </tr>\n    <tr>\n      <th>15</th>\n      <td>thalachh</td>\n      <td>0.008041</td>\n      <td>XGBClassifier</td>\n    </tr>\n    <tr>\n      <th>16</th>\n      <td>sex</td>\n      <td>0.009275</td>\n      <td>XGBClassifier</td>\n    </tr>\n    <tr>\n      <th>17</th>\n      <td>oldpeak</td>\n      <td>0.010101</td>\n      <td>XGBClassifier</td>\n    </tr>\n    <tr>\n      <th>18</th>\n      <td>age</td>\n      <td>0.010597</td>\n      <td>XGBClassifier</td>\n    </tr>\n    <tr>\n      <th>19</th>\n      <td>thall</td>\n      <td>0.019974</td>\n      <td>XGBClassifier</td>\n    </tr>\n    <tr>\n      <th>20</th>\n      <td>_baseline_</td>\n      <td>0.506737</td>\n      <td>XGBClassifier</td>\n    </tr>\n  </tbody>\n</table>\n</div>"
     },
     "execution_count": 18,
     "metadata": {},
     "output_type": "execute_result"
    }
   ],
   "source": [
    "explainer.model_parts().result"
   ],
   "metadata": {
    "collapsed": false
   }
  },
  {
   "cell_type": "code",
   "execution_count": 36,
   "outputs": [
    {
     "name": "stderr",
     "output_type": "stream",
     "text": [
      "Calculating ceteris paribus: 100%|██████████| 19/19 [00:01<00:00, 14.64it/s]\n"
     ]
    },
    {
     "data": {
      "application/vnd.plotly.v1+json": {
       "data": [
        {
         "customdata": [
          [
           "</br>id: 14</br>prediction: 0.907</br>slp: 0.0</br></br>age: 58.0</br>sex: 0.0</br>trtbps: 150.0</br>chol: 283.0</br>fbs: 1.0</br>thalachh: 162.0</br>oldpeak: 1.0</br>thall: 2.0</br>exng_1: 0.0</br>caa_1: 0.0</br>caa_2: 0.0</br>caa_3: 0.0</br>caa_4: 0.0</br>cp_1: 0.0</br>cp_2: 0.0</br>cp_3: 1.0</br>restecg_1: 0.0</br>restecg_2: 0.0</br>_original_yhat_: 0.9919773936271667</br>"
          ],
          [
           "</br>id: 14</br>prediction: 0.907</br>slp: 0.02</br></br>age: 58.0</br>sex: 0.0</br>trtbps: 150.0</br>chol: 283.0</br>fbs: 1.0</br>thalachh: 162.0</br>oldpeak: 1.0</br>thall: 2.0</br>exng_1: 0.0</br>caa_1: 0.0</br>caa_2: 0.0</br>caa_3: 0.0</br>caa_4: 0.0</br>cp_1: 0.0</br>cp_2: 0.0</br>cp_3: 1.0</br>restecg_1: 0.0</br>restecg_2: 0.0</br>_original_yhat_: 0.9919773936271667</br>"
          ],
          [
           "</br>id: 14</br>prediction: 0.907</br>slp: 0.04</br></br>age: 58.0</br>sex: 0.0</br>trtbps: 150.0</br>chol: 283.0</br>fbs: 1.0</br>thalachh: 162.0</br>oldpeak: 1.0</br>thall: 2.0</br>exng_1: 0.0</br>caa_1: 0.0</br>caa_2: 0.0</br>caa_3: 0.0</br>caa_4: 0.0</br>cp_1: 0.0</br>cp_2: 0.0</br>cp_3: 1.0</br>restecg_1: 0.0</br>restecg_2: 0.0</br>_original_yhat_: 0.9919773936271667</br>"
          ],
          [
           "</br>id: 14</br>prediction: 0.907</br>slp: 0.06</br></br>age: 58.0</br>sex: 0.0</br>trtbps: 150.0</br>chol: 283.0</br>fbs: 1.0</br>thalachh: 162.0</br>oldpeak: 1.0</br>thall: 2.0</br>exng_1: 0.0</br>caa_1: 0.0</br>caa_2: 0.0</br>caa_3: 0.0</br>caa_4: 0.0</br>cp_1: 0.0</br>cp_2: 0.0</br>cp_3: 1.0</br>restecg_1: 0.0</br>restecg_2: 0.0</br>_original_yhat_: 0.9919773936271667</br>"
          ],
          [
           "</br>id: 14</br>prediction: 0.907</br>slp: 0.08</br></br>age: 58.0</br>sex: 0.0</br>trtbps: 150.0</br>chol: 283.0</br>fbs: 1.0</br>thalachh: 162.0</br>oldpeak: 1.0</br>thall: 2.0</br>exng_1: 0.0</br>caa_1: 0.0</br>caa_2: 0.0</br>caa_3: 0.0</br>caa_4: 0.0</br>cp_1: 0.0</br>cp_2: 0.0</br>cp_3: 1.0</br>restecg_1: 0.0</br>restecg_2: 0.0</br>_original_yhat_: 0.9919773936271667</br>"
          ],
          [
           "</br>id: 14</br>prediction: 0.907</br>slp: 0.1</br></br>age: 58.0</br>sex: 0.0</br>trtbps: 150.0</br>chol: 283.0</br>fbs: 1.0</br>thalachh: 162.0</br>oldpeak: 1.0</br>thall: 2.0</br>exng_1: 0.0</br>caa_1: 0.0</br>caa_2: 0.0</br>caa_3: 0.0</br>caa_4: 0.0</br>cp_1: 0.0</br>cp_2: 0.0</br>cp_3: 1.0</br>restecg_1: 0.0</br>restecg_2: 0.0</br>_original_yhat_: 0.9919773936271667</br>"
          ],
          [
           "</br>id: 14</br>prediction: 0.907</br>slp: 0.12</br></br>age: 58.0</br>sex: 0.0</br>trtbps: 150.0</br>chol: 283.0</br>fbs: 1.0</br>thalachh: 162.0</br>oldpeak: 1.0</br>thall: 2.0</br>exng_1: 0.0</br>caa_1: 0.0</br>caa_2: 0.0</br>caa_3: 0.0</br>caa_4: 0.0</br>cp_1: 0.0</br>cp_2: 0.0</br>cp_3: 1.0</br>restecg_1: 0.0</br>restecg_2: 0.0</br>_original_yhat_: 0.9919773936271667</br>"
          ],
          [
           "</br>id: 14</br>prediction: 0.907</br>slp: 0.14</br></br>age: 58.0</br>sex: 0.0</br>trtbps: 150.0</br>chol: 283.0</br>fbs: 1.0</br>thalachh: 162.0</br>oldpeak: 1.0</br>thall: 2.0</br>exng_1: 0.0</br>caa_1: 0.0</br>caa_2: 0.0</br>caa_3: 0.0</br>caa_4: 0.0</br>cp_1: 0.0</br>cp_2: 0.0</br>cp_3: 1.0</br>restecg_1: 0.0</br>restecg_2: 0.0</br>_original_yhat_: 0.9919773936271667</br>"
          ],
          [
           "</br>id: 14</br>prediction: 0.907</br>slp: 0.16</br></br>age: 58.0</br>sex: 0.0</br>trtbps: 150.0</br>chol: 283.0</br>fbs: 1.0</br>thalachh: 162.0</br>oldpeak: 1.0</br>thall: 2.0</br>exng_1: 0.0</br>caa_1: 0.0</br>caa_2: 0.0</br>caa_3: 0.0</br>caa_4: 0.0</br>cp_1: 0.0</br>cp_2: 0.0</br>cp_3: 1.0</br>restecg_1: 0.0</br>restecg_2: 0.0</br>_original_yhat_: 0.9919773936271667</br>"
          ],
          [
           "</br>id: 14</br>prediction: 0.907</br>slp: 0.18</br></br>age: 58.0</br>sex: 0.0</br>trtbps: 150.0</br>chol: 283.0</br>fbs: 1.0</br>thalachh: 162.0</br>oldpeak: 1.0</br>thall: 2.0</br>exng_1: 0.0</br>caa_1: 0.0</br>caa_2: 0.0</br>caa_3: 0.0</br>caa_4: 0.0</br>cp_1: 0.0</br>cp_2: 0.0</br>cp_3: 1.0</br>restecg_1: 0.0</br>restecg_2: 0.0</br>_original_yhat_: 0.9919773936271667</br>"
          ],
          [
           "</br>id: 14</br>prediction: 0.907</br>slp: 0.2</br></br>age: 58.0</br>sex: 0.0</br>trtbps: 150.0</br>chol: 283.0</br>fbs: 1.0</br>thalachh: 162.0</br>oldpeak: 1.0</br>thall: 2.0</br>exng_1: 0.0</br>caa_1: 0.0</br>caa_2: 0.0</br>caa_3: 0.0</br>caa_4: 0.0</br>cp_1: 0.0</br>cp_2: 0.0</br>cp_3: 1.0</br>restecg_1: 0.0</br>restecg_2: 0.0</br>_original_yhat_: 0.9919773936271667</br>"
          ],
          [
           "</br>id: 14</br>prediction: 0.907</br>slp: 0.22</br></br>age: 58.0</br>sex: 0.0</br>trtbps: 150.0</br>chol: 283.0</br>fbs: 1.0</br>thalachh: 162.0</br>oldpeak: 1.0</br>thall: 2.0</br>exng_1: 0.0</br>caa_1: 0.0</br>caa_2: 0.0</br>caa_3: 0.0</br>caa_4: 0.0</br>cp_1: 0.0</br>cp_2: 0.0</br>cp_3: 1.0</br>restecg_1: 0.0</br>restecg_2: 0.0</br>_original_yhat_: 0.9919773936271667</br>"
          ],
          [
           "</br>id: 14</br>prediction: 0.907</br>slp: 0.24</br></br>age: 58.0</br>sex: 0.0</br>trtbps: 150.0</br>chol: 283.0</br>fbs: 1.0</br>thalachh: 162.0</br>oldpeak: 1.0</br>thall: 2.0</br>exng_1: 0.0</br>caa_1: 0.0</br>caa_2: 0.0</br>caa_3: 0.0</br>caa_4: 0.0</br>cp_1: 0.0</br>cp_2: 0.0</br>cp_3: 1.0</br>restecg_1: 0.0</br>restecg_2: 0.0</br>_original_yhat_: 0.9919773936271667</br>"
          ],
          [
           "</br>id: 14</br>prediction: 0.907</br>slp: 0.26</br></br>age: 58.0</br>sex: 0.0</br>trtbps: 150.0</br>chol: 283.0</br>fbs: 1.0</br>thalachh: 162.0</br>oldpeak: 1.0</br>thall: 2.0</br>exng_1: 0.0</br>caa_1: 0.0</br>caa_2: 0.0</br>caa_3: 0.0</br>caa_4: 0.0</br>cp_1: 0.0</br>cp_2: 0.0</br>cp_3: 1.0</br>restecg_1: 0.0</br>restecg_2: 0.0</br>_original_yhat_: 0.9919773936271667</br>"
          ],
          [
           "</br>id: 14</br>prediction: 0.907</br>slp: 0.28</br></br>age: 58.0</br>sex: 0.0</br>trtbps: 150.0</br>chol: 283.0</br>fbs: 1.0</br>thalachh: 162.0</br>oldpeak: 1.0</br>thall: 2.0</br>exng_1: 0.0</br>caa_1: 0.0</br>caa_2: 0.0</br>caa_3: 0.0</br>caa_4: 0.0</br>cp_1: 0.0</br>cp_2: 0.0</br>cp_3: 1.0</br>restecg_1: 0.0</br>restecg_2: 0.0</br>_original_yhat_: 0.9919773936271667</br>"
          ],
          [
           "</br>id: 14</br>prediction: 0.907</br>slp: 0.3</br></br>age: 58.0</br>sex: 0.0</br>trtbps: 150.0</br>chol: 283.0</br>fbs: 1.0</br>thalachh: 162.0</br>oldpeak: 1.0</br>thall: 2.0</br>exng_1: 0.0</br>caa_1: 0.0</br>caa_2: 0.0</br>caa_3: 0.0</br>caa_4: 0.0</br>cp_1: 0.0</br>cp_2: 0.0</br>cp_3: 1.0</br>restecg_1: 0.0</br>restecg_2: 0.0</br>_original_yhat_: 0.9919773936271667</br>"
          ],
          [
           "</br>id: 14</br>prediction: 0.907</br>slp: 0.32</br></br>age: 58.0</br>sex: 0.0</br>trtbps: 150.0</br>chol: 283.0</br>fbs: 1.0</br>thalachh: 162.0</br>oldpeak: 1.0</br>thall: 2.0</br>exng_1: 0.0</br>caa_1: 0.0</br>caa_2: 0.0</br>caa_3: 0.0</br>caa_4: 0.0</br>cp_1: 0.0</br>cp_2: 0.0</br>cp_3: 1.0</br>restecg_1: 0.0</br>restecg_2: 0.0</br>_original_yhat_: 0.9919773936271667</br>"
          ],
          [
           "</br>id: 14</br>prediction: 0.907</br>slp: 0.34</br></br>age: 58.0</br>sex: 0.0</br>trtbps: 150.0</br>chol: 283.0</br>fbs: 1.0</br>thalachh: 162.0</br>oldpeak: 1.0</br>thall: 2.0</br>exng_1: 0.0</br>caa_1: 0.0</br>caa_2: 0.0</br>caa_3: 0.0</br>caa_4: 0.0</br>cp_1: 0.0</br>cp_2: 0.0</br>cp_3: 1.0</br>restecg_1: 0.0</br>restecg_2: 0.0</br>_original_yhat_: 0.9919773936271667</br>"
          ],
          [
           "</br>id: 14</br>prediction: 0.907</br>slp: 0.36</br></br>age: 58.0</br>sex: 0.0</br>trtbps: 150.0</br>chol: 283.0</br>fbs: 1.0</br>thalachh: 162.0</br>oldpeak: 1.0</br>thall: 2.0</br>exng_1: 0.0</br>caa_1: 0.0</br>caa_2: 0.0</br>caa_3: 0.0</br>caa_4: 0.0</br>cp_1: 0.0</br>cp_2: 0.0</br>cp_3: 1.0</br>restecg_1: 0.0</br>restecg_2: 0.0</br>_original_yhat_: 0.9919773936271667</br>"
          ],
          [
           "</br>id: 14</br>prediction: 0.907</br>slp: 0.38</br></br>age: 58.0</br>sex: 0.0</br>trtbps: 150.0</br>chol: 283.0</br>fbs: 1.0</br>thalachh: 162.0</br>oldpeak: 1.0</br>thall: 2.0</br>exng_1: 0.0</br>caa_1: 0.0</br>caa_2: 0.0</br>caa_3: 0.0</br>caa_4: 0.0</br>cp_1: 0.0</br>cp_2: 0.0</br>cp_3: 1.0</br>restecg_1: 0.0</br>restecg_2: 0.0</br>_original_yhat_: 0.9919773936271667</br>"
          ],
          [
           "</br>id: 14</br>prediction: 0.907</br>slp: 0.4</br></br>age: 58.0</br>sex: 0.0</br>trtbps: 150.0</br>chol: 283.0</br>fbs: 1.0</br>thalachh: 162.0</br>oldpeak: 1.0</br>thall: 2.0</br>exng_1: 0.0</br>caa_1: 0.0</br>caa_2: 0.0</br>caa_3: 0.0</br>caa_4: 0.0</br>cp_1: 0.0</br>cp_2: 0.0</br>cp_3: 1.0</br>restecg_1: 0.0</br>restecg_2: 0.0</br>_original_yhat_: 0.9919773936271667</br>"
          ],
          [
           "</br>id: 14</br>prediction: 0.907</br>slp: 0.42</br></br>age: 58.0</br>sex: 0.0</br>trtbps: 150.0</br>chol: 283.0</br>fbs: 1.0</br>thalachh: 162.0</br>oldpeak: 1.0</br>thall: 2.0</br>exng_1: 0.0</br>caa_1: 0.0</br>caa_2: 0.0</br>caa_3: 0.0</br>caa_4: 0.0</br>cp_1: 0.0</br>cp_2: 0.0</br>cp_3: 1.0</br>restecg_1: 0.0</br>restecg_2: 0.0</br>_original_yhat_: 0.9919773936271667</br>"
          ],
          [
           "</br>id: 14</br>prediction: 0.907</br>slp: 0.44</br></br>age: 58.0</br>sex: 0.0</br>trtbps: 150.0</br>chol: 283.0</br>fbs: 1.0</br>thalachh: 162.0</br>oldpeak: 1.0</br>thall: 2.0</br>exng_1: 0.0</br>caa_1: 0.0</br>caa_2: 0.0</br>caa_3: 0.0</br>caa_4: 0.0</br>cp_1: 0.0</br>cp_2: 0.0</br>cp_3: 1.0</br>restecg_1: 0.0</br>restecg_2: 0.0</br>_original_yhat_: 0.9919773936271667</br>"
          ],
          [
           "</br>id: 14</br>prediction: 0.907</br>slp: 0.46</br></br>age: 58.0</br>sex: 0.0</br>trtbps: 150.0</br>chol: 283.0</br>fbs: 1.0</br>thalachh: 162.0</br>oldpeak: 1.0</br>thall: 2.0</br>exng_1: 0.0</br>caa_1: 0.0</br>caa_2: 0.0</br>caa_3: 0.0</br>caa_4: 0.0</br>cp_1: 0.0</br>cp_2: 0.0</br>cp_3: 1.0</br>restecg_1: 0.0</br>restecg_2: 0.0</br>_original_yhat_: 0.9919773936271667</br>"
          ],
          [
           "</br>id: 14</br>prediction: 0.907</br>slp: 0.48</br></br>age: 58.0</br>sex: 0.0</br>trtbps: 150.0</br>chol: 283.0</br>fbs: 1.0</br>thalachh: 162.0</br>oldpeak: 1.0</br>thall: 2.0</br>exng_1: 0.0</br>caa_1: 0.0</br>caa_2: 0.0</br>caa_3: 0.0</br>caa_4: 0.0</br>cp_1: 0.0</br>cp_2: 0.0</br>cp_3: 1.0</br>restecg_1: 0.0</br>restecg_2: 0.0</br>_original_yhat_: 0.9919773936271667</br>"
          ],
          [
           "</br>id: 14</br>prediction: 0.879</br>slp: 0.5</br></br>age: 58.0</br>sex: 0.0</br>trtbps: 150.0</br>chol: 283.0</br>fbs: 1.0</br>thalachh: 162.0</br>oldpeak: 1.0</br>thall: 2.0</br>exng_1: 0.0</br>caa_1: 0.0</br>caa_2: 0.0</br>caa_3: 0.0</br>caa_4: 0.0</br>cp_1: 0.0</br>cp_2: 0.0</br>cp_3: 1.0</br>restecg_1: 0.0</br>restecg_2: 0.0</br>_original_yhat_: 0.9919773936271667</br>"
          ],
          [
           "</br>id: 14</br>prediction: 0.879</br>slp: 0.52</br></br>age: 58.0</br>sex: 0.0</br>trtbps: 150.0</br>chol: 283.0</br>fbs: 1.0</br>thalachh: 162.0</br>oldpeak: 1.0</br>thall: 2.0</br>exng_1: 0.0</br>caa_1: 0.0</br>caa_2: 0.0</br>caa_3: 0.0</br>caa_4: 0.0</br>cp_1: 0.0</br>cp_2: 0.0</br>cp_3: 1.0</br>restecg_1: 0.0</br>restecg_2: 0.0</br>_original_yhat_: 0.9919773936271667</br>"
          ],
          [
           "</br>id: 14</br>prediction: 0.879</br>slp: 0.54</br></br>age: 58.0</br>sex: 0.0</br>trtbps: 150.0</br>chol: 283.0</br>fbs: 1.0</br>thalachh: 162.0</br>oldpeak: 1.0</br>thall: 2.0</br>exng_1: 0.0</br>caa_1: 0.0</br>caa_2: 0.0</br>caa_3: 0.0</br>caa_4: 0.0</br>cp_1: 0.0</br>cp_2: 0.0</br>cp_3: 1.0</br>restecg_1: 0.0</br>restecg_2: 0.0</br>_original_yhat_: 0.9919773936271667</br>"
          ],
          [
           "</br>id: 14</br>prediction: 0.879</br>slp: 0.56</br></br>age: 58.0</br>sex: 0.0</br>trtbps: 150.0</br>chol: 283.0</br>fbs: 1.0</br>thalachh: 162.0</br>oldpeak: 1.0</br>thall: 2.0</br>exng_1: 0.0</br>caa_1: 0.0</br>caa_2: 0.0</br>caa_3: 0.0</br>caa_4: 0.0</br>cp_1: 0.0</br>cp_2: 0.0</br>cp_3: 1.0</br>restecg_1: 0.0</br>restecg_2: 0.0</br>_original_yhat_: 0.9919773936271667</br>"
          ],
          [
           "</br>id: 14</br>prediction: 0.879</br>slp: 0.58</br></br>age: 58.0</br>sex: 0.0</br>trtbps: 150.0</br>chol: 283.0</br>fbs: 1.0</br>thalachh: 162.0</br>oldpeak: 1.0</br>thall: 2.0</br>exng_1: 0.0</br>caa_1: 0.0</br>caa_2: 0.0</br>caa_3: 0.0</br>caa_4: 0.0</br>cp_1: 0.0</br>cp_2: 0.0</br>cp_3: 1.0</br>restecg_1: 0.0</br>restecg_2: 0.0</br>_original_yhat_: 0.9919773936271667</br>"
          ],
          [
           "</br>id: 14</br>prediction: 0.879</br>slp: 0.6</br></br>age: 58.0</br>sex: 0.0</br>trtbps: 150.0</br>chol: 283.0</br>fbs: 1.0</br>thalachh: 162.0</br>oldpeak: 1.0</br>thall: 2.0</br>exng_1: 0.0</br>caa_1: 0.0</br>caa_2: 0.0</br>caa_3: 0.0</br>caa_4: 0.0</br>cp_1: 0.0</br>cp_2: 0.0</br>cp_3: 1.0</br>restecg_1: 0.0</br>restecg_2: 0.0</br>_original_yhat_: 0.9919773936271667</br>"
          ],
          [
           "</br>id: 14</br>prediction: 0.879</br>slp: 0.62</br></br>age: 58.0</br>sex: 0.0</br>trtbps: 150.0</br>chol: 283.0</br>fbs: 1.0</br>thalachh: 162.0</br>oldpeak: 1.0</br>thall: 2.0</br>exng_1: 0.0</br>caa_1: 0.0</br>caa_2: 0.0</br>caa_3: 0.0</br>caa_4: 0.0</br>cp_1: 0.0</br>cp_2: 0.0</br>cp_3: 1.0</br>restecg_1: 0.0</br>restecg_2: 0.0</br>_original_yhat_: 0.9919773936271667</br>"
          ],
          [
           "</br>id: 14</br>prediction: 0.879</br>slp: 0.64</br></br>age: 58.0</br>sex: 0.0</br>trtbps: 150.0</br>chol: 283.0</br>fbs: 1.0</br>thalachh: 162.0</br>oldpeak: 1.0</br>thall: 2.0</br>exng_1: 0.0</br>caa_1: 0.0</br>caa_2: 0.0</br>caa_3: 0.0</br>caa_4: 0.0</br>cp_1: 0.0</br>cp_2: 0.0</br>cp_3: 1.0</br>restecg_1: 0.0</br>restecg_2: 0.0</br>_original_yhat_: 0.9919773936271667</br>"
          ],
          [
           "</br>id: 14</br>prediction: 0.879</br>slp: 0.66</br></br>age: 58.0</br>sex: 0.0</br>trtbps: 150.0</br>chol: 283.0</br>fbs: 1.0</br>thalachh: 162.0</br>oldpeak: 1.0</br>thall: 2.0</br>exng_1: 0.0</br>caa_1: 0.0</br>caa_2: 0.0</br>caa_3: 0.0</br>caa_4: 0.0</br>cp_1: 0.0</br>cp_2: 0.0</br>cp_3: 1.0</br>restecg_1: 0.0</br>restecg_2: 0.0</br>_original_yhat_: 0.9919773936271667</br>"
          ],
          [
           "</br>id: 14</br>prediction: 0.879</br>slp: 0.68</br></br>age: 58.0</br>sex: 0.0</br>trtbps: 150.0</br>chol: 283.0</br>fbs: 1.0</br>thalachh: 162.0</br>oldpeak: 1.0</br>thall: 2.0</br>exng_1: 0.0</br>caa_1: 0.0</br>caa_2: 0.0</br>caa_3: 0.0</br>caa_4: 0.0</br>cp_1: 0.0</br>cp_2: 0.0</br>cp_3: 1.0</br>restecg_1: 0.0</br>restecg_2: 0.0</br>_original_yhat_: 0.9919773936271667</br>"
          ],
          [
           "</br>id: 14</br>prediction: 0.879</br>slp: 0.7000000000000001</br></br>age: 58.0</br>sex: 0.0</br>trtbps: 150.0</br>chol: 283.0</br>fbs: 1.0</br>thalachh: 162.0</br>oldpeak: 1.0</br>thall: 2.0</br>exng_1: 0.0</br>caa_1: 0.0</br>caa_2: 0.0</br>caa_3: 0.0</br>caa_4: 0.0</br>cp_1: 0.0</br>cp_2: 0.0</br>cp_3: 1.0</br>restecg_1: 0.0</br>restecg_2: 0.0</br>_original_yhat_: 0.9919773936271667</br>"
          ],
          [
           "</br>id: 14</br>prediction: 0.879</br>slp: 0.72</br></br>age: 58.0</br>sex: 0.0</br>trtbps: 150.0</br>chol: 283.0</br>fbs: 1.0</br>thalachh: 162.0</br>oldpeak: 1.0</br>thall: 2.0</br>exng_1: 0.0</br>caa_1: 0.0</br>caa_2: 0.0</br>caa_3: 0.0</br>caa_4: 0.0</br>cp_1: 0.0</br>cp_2: 0.0</br>cp_3: 1.0</br>restecg_1: 0.0</br>restecg_2: 0.0</br>_original_yhat_: 0.9919773936271667</br>"
          ],
          [
           "</br>id: 14</br>prediction: 0.879</br>slp: 0.74</br></br>age: 58.0</br>sex: 0.0</br>trtbps: 150.0</br>chol: 283.0</br>fbs: 1.0</br>thalachh: 162.0</br>oldpeak: 1.0</br>thall: 2.0</br>exng_1: 0.0</br>caa_1: 0.0</br>caa_2: 0.0</br>caa_3: 0.0</br>caa_4: 0.0</br>cp_1: 0.0</br>cp_2: 0.0</br>cp_3: 1.0</br>restecg_1: 0.0</br>restecg_2: 0.0</br>_original_yhat_: 0.9919773936271667</br>"
          ],
          [
           "</br>id: 14</br>prediction: 0.879</br>slp: 0.76</br></br>age: 58.0</br>sex: 0.0</br>trtbps: 150.0</br>chol: 283.0</br>fbs: 1.0</br>thalachh: 162.0</br>oldpeak: 1.0</br>thall: 2.0</br>exng_1: 0.0</br>caa_1: 0.0</br>caa_2: 0.0</br>caa_3: 0.0</br>caa_4: 0.0</br>cp_1: 0.0</br>cp_2: 0.0</br>cp_3: 1.0</br>restecg_1: 0.0</br>restecg_2: 0.0</br>_original_yhat_: 0.9919773936271667</br>"
          ],
          [
           "</br>id: 14</br>prediction: 0.879</br>slp: 0.78</br></br>age: 58.0</br>sex: 0.0</br>trtbps: 150.0</br>chol: 283.0</br>fbs: 1.0</br>thalachh: 162.0</br>oldpeak: 1.0</br>thall: 2.0</br>exng_1: 0.0</br>caa_1: 0.0</br>caa_2: 0.0</br>caa_3: 0.0</br>caa_4: 0.0</br>cp_1: 0.0</br>cp_2: 0.0</br>cp_3: 1.0</br>restecg_1: 0.0</br>restecg_2: 0.0</br>_original_yhat_: 0.9919773936271667</br>"
          ],
          [
           "</br>id: 14</br>prediction: 0.879</br>slp: 0.8</br></br>age: 58.0</br>sex: 0.0</br>trtbps: 150.0</br>chol: 283.0</br>fbs: 1.0</br>thalachh: 162.0</br>oldpeak: 1.0</br>thall: 2.0</br>exng_1: 0.0</br>caa_1: 0.0</br>caa_2: 0.0</br>caa_3: 0.0</br>caa_4: 0.0</br>cp_1: 0.0</br>cp_2: 0.0</br>cp_3: 1.0</br>restecg_1: 0.0</br>restecg_2: 0.0</br>_original_yhat_: 0.9919773936271667</br>"
          ],
          [
           "</br>id: 14</br>prediction: 0.879</br>slp: 0.8200000000000001</br></br>age: 58.0</br>sex: 0.0</br>trtbps: 150.0</br>chol: 283.0</br>fbs: 1.0</br>thalachh: 162.0</br>oldpeak: 1.0</br>thall: 2.0</br>exng_1: 0.0</br>caa_1: 0.0</br>caa_2: 0.0</br>caa_3: 0.0</br>caa_4: 0.0</br>cp_1: 0.0</br>cp_2: 0.0</br>cp_3: 1.0</br>restecg_1: 0.0</br>restecg_2: 0.0</br>_original_yhat_: 0.9919773936271667</br>"
          ],
          [
           "</br>id: 14</br>prediction: 0.879</br>slp: 0.84</br></br>age: 58.0</br>sex: 0.0</br>trtbps: 150.0</br>chol: 283.0</br>fbs: 1.0</br>thalachh: 162.0</br>oldpeak: 1.0</br>thall: 2.0</br>exng_1: 0.0</br>caa_1: 0.0</br>caa_2: 0.0</br>caa_3: 0.0</br>caa_4: 0.0</br>cp_1: 0.0</br>cp_2: 0.0</br>cp_3: 1.0</br>restecg_1: 0.0</br>restecg_2: 0.0</br>_original_yhat_: 0.9919773936271667</br>"
          ],
          [
           "</br>id: 14</br>prediction: 0.879</br>slp: 0.86</br></br>age: 58.0</br>sex: 0.0</br>trtbps: 150.0</br>chol: 283.0</br>fbs: 1.0</br>thalachh: 162.0</br>oldpeak: 1.0</br>thall: 2.0</br>exng_1: 0.0</br>caa_1: 0.0</br>caa_2: 0.0</br>caa_3: 0.0</br>caa_4: 0.0</br>cp_1: 0.0</br>cp_2: 0.0</br>cp_3: 1.0</br>restecg_1: 0.0</br>restecg_2: 0.0</br>_original_yhat_: 0.9919773936271667</br>"
          ],
          [
           "</br>id: 14</br>prediction: 0.879</br>slp: 0.88</br></br>age: 58.0</br>sex: 0.0</br>trtbps: 150.0</br>chol: 283.0</br>fbs: 1.0</br>thalachh: 162.0</br>oldpeak: 1.0</br>thall: 2.0</br>exng_1: 0.0</br>caa_1: 0.0</br>caa_2: 0.0</br>caa_3: 0.0</br>caa_4: 0.0</br>cp_1: 0.0</br>cp_2: 0.0</br>cp_3: 1.0</br>restecg_1: 0.0</br>restecg_2: 0.0</br>_original_yhat_: 0.9919773936271667</br>"
          ],
          [
           "</br>id: 14</br>prediction: 0.879</br>slp: 0.9</br></br>age: 58.0</br>sex: 0.0</br>trtbps: 150.0</br>chol: 283.0</br>fbs: 1.0</br>thalachh: 162.0</br>oldpeak: 1.0</br>thall: 2.0</br>exng_1: 0.0</br>caa_1: 0.0</br>caa_2: 0.0</br>caa_3: 0.0</br>caa_4: 0.0</br>cp_1: 0.0</br>cp_2: 0.0</br>cp_3: 1.0</br>restecg_1: 0.0</br>restecg_2: 0.0</br>_original_yhat_: 0.9919773936271667</br>"
          ],
          [
           "</br>id: 14</br>prediction: 0.879</br>slp: 0.92</br></br>age: 58.0</br>sex: 0.0</br>trtbps: 150.0</br>chol: 283.0</br>fbs: 1.0</br>thalachh: 162.0</br>oldpeak: 1.0</br>thall: 2.0</br>exng_1: 0.0</br>caa_1: 0.0</br>caa_2: 0.0</br>caa_3: 0.0</br>caa_4: 0.0</br>cp_1: 0.0</br>cp_2: 0.0</br>cp_3: 1.0</br>restecg_1: 0.0</br>restecg_2: 0.0</br>_original_yhat_: 0.9919773936271667</br>"
          ],
          [
           "</br>id: 14</br>prediction: 0.879</br>slp: 0.9400000000000001</br></br>age: 58.0</br>sex: 0.0</br>trtbps: 150.0</br>chol: 283.0</br>fbs: 1.0</br>thalachh: 162.0</br>oldpeak: 1.0</br>thall: 2.0</br>exng_1: 0.0</br>caa_1: 0.0</br>caa_2: 0.0</br>caa_3: 0.0</br>caa_4: 0.0</br>cp_1: 0.0</br>cp_2: 0.0</br>cp_3: 1.0</br>restecg_1: 0.0</br>restecg_2: 0.0</br>_original_yhat_: 0.9919773936271667</br>"
          ],
          [
           "</br>id: 14</br>prediction: 0.879</br>slp: 0.96</br></br>age: 58.0</br>sex: 0.0</br>trtbps: 150.0</br>chol: 283.0</br>fbs: 1.0</br>thalachh: 162.0</br>oldpeak: 1.0</br>thall: 2.0</br>exng_1: 0.0</br>caa_1: 0.0</br>caa_2: 0.0</br>caa_3: 0.0</br>caa_4: 0.0</br>cp_1: 0.0</br>cp_2: 0.0</br>cp_3: 1.0</br>restecg_1: 0.0</br>restecg_2: 0.0</br>_original_yhat_: 0.9919773936271667</br>"
          ],
          [
           "</br>id: 14</br>prediction: 0.879</br>slp: 0.98</br></br>age: 58.0</br>sex: 0.0</br>trtbps: 150.0</br>chol: 283.0</br>fbs: 1.0</br>thalachh: 162.0</br>oldpeak: 1.0</br>thall: 2.0</br>exng_1: 0.0</br>caa_1: 0.0</br>caa_2: 0.0</br>caa_3: 0.0</br>caa_4: 0.0</br>cp_1: 0.0</br>cp_2: 0.0</br>cp_3: 1.0</br>restecg_1: 0.0</br>restecg_2: 0.0</br>_original_yhat_: 0.9919773936271667</br>"
          ],
          [
           "</br>id: 14</br>prediction: 0.879</br>slp: 1.0</br></br>age: 58.0</br>sex: 0.0</br>trtbps: 150.0</br>chol: 283.0</br>fbs: 1.0</br>thalachh: 162.0</br>oldpeak: 1.0</br>thall: 2.0</br>exng_1: 0.0</br>caa_1: 0.0</br>caa_2: 0.0</br>caa_3: 0.0</br>caa_4: 0.0</br>cp_1: 0.0</br>cp_2: 0.0</br>cp_3: 1.0</br>restecg_1: 0.0</br>restecg_2: 0.0</br>_original_yhat_: 0.9919773936271667</br>"
          ],
          [
           "</br>id: 14</br>prediction: 0.879</br>slp: 1.02</br></br>age: 58.0</br>sex: 0.0</br>trtbps: 150.0</br>chol: 283.0</br>fbs: 1.0</br>thalachh: 162.0</br>oldpeak: 1.0</br>thall: 2.0</br>exng_1: 0.0</br>caa_1: 0.0</br>caa_2: 0.0</br>caa_3: 0.0</br>caa_4: 0.0</br>cp_1: 0.0</br>cp_2: 0.0</br>cp_3: 1.0</br>restecg_1: 0.0</br>restecg_2: 0.0</br>_original_yhat_: 0.9919773936271667</br>"
          ],
          [
           "</br>id: 14</br>prediction: 0.879</br>slp: 1.04</br></br>age: 58.0</br>sex: 0.0</br>trtbps: 150.0</br>chol: 283.0</br>fbs: 1.0</br>thalachh: 162.0</br>oldpeak: 1.0</br>thall: 2.0</br>exng_1: 0.0</br>caa_1: 0.0</br>caa_2: 0.0</br>caa_3: 0.0</br>caa_4: 0.0</br>cp_1: 0.0</br>cp_2: 0.0</br>cp_3: 1.0</br>restecg_1: 0.0</br>restecg_2: 0.0</br>_original_yhat_: 0.9919773936271667</br>"
          ],
          [
           "</br>id: 14</br>prediction: 0.879</br>slp: 1.06</br></br>age: 58.0</br>sex: 0.0</br>trtbps: 150.0</br>chol: 283.0</br>fbs: 1.0</br>thalachh: 162.0</br>oldpeak: 1.0</br>thall: 2.0</br>exng_1: 0.0</br>caa_1: 0.0</br>caa_2: 0.0</br>caa_3: 0.0</br>caa_4: 0.0</br>cp_1: 0.0</br>cp_2: 0.0</br>cp_3: 1.0</br>restecg_1: 0.0</br>restecg_2: 0.0</br>_original_yhat_: 0.9919773936271667</br>"
          ],
          [
           "</br>id: 14</br>prediction: 0.879</br>slp: 1.08</br></br>age: 58.0</br>sex: 0.0</br>trtbps: 150.0</br>chol: 283.0</br>fbs: 1.0</br>thalachh: 162.0</br>oldpeak: 1.0</br>thall: 2.0</br>exng_1: 0.0</br>caa_1: 0.0</br>caa_2: 0.0</br>caa_3: 0.0</br>caa_4: 0.0</br>cp_1: 0.0</br>cp_2: 0.0</br>cp_3: 1.0</br>restecg_1: 0.0</br>restecg_2: 0.0</br>_original_yhat_: 0.9919773936271667</br>"
          ],
          [
           "</br>id: 14</br>prediction: 0.879</br>slp: 1.1</br></br>age: 58.0</br>sex: 0.0</br>trtbps: 150.0</br>chol: 283.0</br>fbs: 1.0</br>thalachh: 162.0</br>oldpeak: 1.0</br>thall: 2.0</br>exng_1: 0.0</br>caa_1: 0.0</br>caa_2: 0.0</br>caa_3: 0.0</br>caa_4: 0.0</br>cp_1: 0.0</br>cp_2: 0.0</br>cp_3: 1.0</br>restecg_1: 0.0</br>restecg_2: 0.0</br>_original_yhat_: 0.9919773936271667</br>"
          ],
          [
           "</br>id: 14</br>prediction: 0.879</br>slp: 1.12</br></br>age: 58.0</br>sex: 0.0</br>trtbps: 150.0</br>chol: 283.0</br>fbs: 1.0</br>thalachh: 162.0</br>oldpeak: 1.0</br>thall: 2.0</br>exng_1: 0.0</br>caa_1: 0.0</br>caa_2: 0.0</br>caa_3: 0.0</br>caa_4: 0.0</br>cp_1: 0.0</br>cp_2: 0.0</br>cp_3: 1.0</br>restecg_1: 0.0</br>restecg_2: 0.0</br>_original_yhat_: 0.9919773936271667</br>"
          ],
          [
           "</br>id: 14</br>prediction: 0.879</br>slp: 1.1400000000000001</br></br>age: 58.0</br>sex: 0.0</br>trtbps: 150.0</br>chol: 283.0</br>fbs: 1.0</br>thalachh: 162.0</br>oldpeak: 1.0</br>thall: 2.0</br>exng_1: 0.0</br>caa_1: 0.0</br>caa_2: 0.0</br>caa_3: 0.0</br>caa_4: 0.0</br>cp_1: 0.0</br>cp_2: 0.0</br>cp_3: 1.0</br>restecg_1: 0.0</br>restecg_2: 0.0</br>_original_yhat_: 0.9919773936271667</br>"
          ],
          [
           "</br>id: 14</br>prediction: 0.879</br>slp: 1.16</br></br>age: 58.0</br>sex: 0.0</br>trtbps: 150.0</br>chol: 283.0</br>fbs: 1.0</br>thalachh: 162.0</br>oldpeak: 1.0</br>thall: 2.0</br>exng_1: 0.0</br>caa_1: 0.0</br>caa_2: 0.0</br>caa_3: 0.0</br>caa_4: 0.0</br>cp_1: 0.0</br>cp_2: 0.0</br>cp_3: 1.0</br>restecg_1: 0.0</br>restecg_2: 0.0</br>_original_yhat_: 0.9919773936271667</br>"
          ],
          [
           "</br>id: 14</br>prediction: 0.879</br>slp: 1.18</br></br>age: 58.0</br>sex: 0.0</br>trtbps: 150.0</br>chol: 283.0</br>fbs: 1.0</br>thalachh: 162.0</br>oldpeak: 1.0</br>thall: 2.0</br>exng_1: 0.0</br>caa_1: 0.0</br>caa_2: 0.0</br>caa_3: 0.0</br>caa_4: 0.0</br>cp_1: 0.0</br>cp_2: 0.0</br>cp_3: 1.0</br>restecg_1: 0.0</br>restecg_2: 0.0</br>_original_yhat_: 0.9919773936271667</br>"
          ],
          [
           "</br>id: 14</br>prediction: 0.879</br>slp: 1.2</br></br>age: 58.0</br>sex: 0.0</br>trtbps: 150.0</br>chol: 283.0</br>fbs: 1.0</br>thalachh: 162.0</br>oldpeak: 1.0</br>thall: 2.0</br>exng_1: 0.0</br>caa_1: 0.0</br>caa_2: 0.0</br>caa_3: 0.0</br>caa_4: 0.0</br>cp_1: 0.0</br>cp_2: 0.0</br>cp_3: 1.0</br>restecg_1: 0.0</br>restecg_2: 0.0</br>_original_yhat_: 0.9919773936271667</br>"
          ],
          [
           "</br>id: 14</br>prediction: 0.879</br>slp: 1.22</br></br>age: 58.0</br>sex: 0.0</br>trtbps: 150.0</br>chol: 283.0</br>fbs: 1.0</br>thalachh: 162.0</br>oldpeak: 1.0</br>thall: 2.0</br>exng_1: 0.0</br>caa_1: 0.0</br>caa_2: 0.0</br>caa_3: 0.0</br>caa_4: 0.0</br>cp_1: 0.0</br>cp_2: 0.0</br>cp_3: 1.0</br>restecg_1: 0.0</br>restecg_2: 0.0</br>_original_yhat_: 0.9919773936271667</br>"
          ],
          [
           "</br>id: 14</br>prediction: 0.879</br>slp: 1.24</br></br>age: 58.0</br>sex: 0.0</br>trtbps: 150.0</br>chol: 283.0</br>fbs: 1.0</br>thalachh: 162.0</br>oldpeak: 1.0</br>thall: 2.0</br>exng_1: 0.0</br>caa_1: 0.0</br>caa_2: 0.0</br>caa_3: 0.0</br>caa_4: 0.0</br>cp_1: 0.0</br>cp_2: 0.0</br>cp_3: 1.0</br>restecg_1: 0.0</br>restecg_2: 0.0</br>_original_yhat_: 0.9919773936271667</br>"
          ],
          [
           "</br>id: 14</br>prediction: 0.879</br>slp: 1.26</br></br>age: 58.0</br>sex: 0.0</br>trtbps: 150.0</br>chol: 283.0</br>fbs: 1.0</br>thalachh: 162.0</br>oldpeak: 1.0</br>thall: 2.0</br>exng_1: 0.0</br>caa_1: 0.0</br>caa_2: 0.0</br>caa_3: 0.0</br>caa_4: 0.0</br>cp_1: 0.0</br>cp_2: 0.0</br>cp_3: 1.0</br>restecg_1: 0.0</br>restecg_2: 0.0</br>_original_yhat_: 0.9919773936271667</br>"
          ],
          [
           "</br>id: 14</br>prediction: 0.879</br>slp: 1.28</br></br>age: 58.0</br>sex: 0.0</br>trtbps: 150.0</br>chol: 283.0</br>fbs: 1.0</br>thalachh: 162.0</br>oldpeak: 1.0</br>thall: 2.0</br>exng_1: 0.0</br>caa_1: 0.0</br>caa_2: 0.0</br>caa_3: 0.0</br>caa_4: 0.0</br>cp_1: 0.0</br>cp_2: 0.0</br>cp_3: 1.0</br>restecg_1: 0.0</br>restecg_2: 0.0</br>_original_yhat_: 0.9919773936271667</br>"
          ],
          [
           "</br>id: 14</br>prediction: 0.879</br>slp: 1.3</br></br>age: 58.0</br>sex: 0.0</br>trtbps: 150.0</br>chol: 283.0</br>fbs: 1.0</br>thalachh: 162.0</br>oldpeak: 1.0</br>thall: 2.0</br>exng_1: 0.0</br>caa_1: 0.0</br>caa_2: 0.0</br>caa_3: 0.0</br>caa_4: 0.0</br>cp_1: 0.0</br>cp_2: 0.0</br>cp_3: 1.0</br>restecg_1: 0.0</br>restecg_2: 0.0</br>_original_yhat_: 0.9919773936271667</br>"
          ],
          [
           "</br>id: 14</br>prediction: 0.879</br>slp: 1.32</br></br>age: 58.0</br>sex: 0.0</br>trtbps: 150.0</br>chol: 283.0</br>fbs: 1.0</br>thalachh: 162.0</br>oldpeak: 1.0</br>thall: 2.0</br>exng_1: 0.0</br>caa_1: 0.0</br>caa_2: 0.0</br>caa_3: 0.0</br>caa_4: 0.0</br>cp_1: 0.0</br>cp_2: 0.0</br>cp_3: 1.0</br>restecg_1: 0.0</br>restecg_2: 0.0</br>_original_yhat_: 0.9919773936271667</br>"
          ],
          [
           "</br>id: 14</br>prediction: 0.879</br>slp: 1.34</br></br>age: 58.0</br>sex: 0.0</br>trtbps: 150.0</br>chol: 283.0</br>fbs: 1.0</br>thalachh: 162.0</br>oldpeak: 1.0</br>thall: 2.0</br>exng_1: 0.0</br>caa_1: 0.0</br>caa_2: 0.0</br>caa_3: 0.0</br>caa_4: 0.0</br>cp_1: 0.0</br>cp_2: 0.0</br>cp_3: 1.0</br>restecg_1: 0.0</br>restecg_2: 0.0</br>_original_yhat_: 0.9919773936271667</br>"
          ],
          [
           "</br>id: 14</br>prediction: 0.879</br>slp: 1.36</br></br>age: 58.0</br>sex: 0.0</br>trtbps: 150.0</br>chol: 283.0</br>fbs: 1.0</br>thalachh: 162.0</br>oldpeak: 1.0</br>thall: 2.0</br>exng_1: 0.0</br>caa_1: 0.0</br>caa_2: 0.0</br>caa_3: 0.0</br>caa_4: 0.0</br>cp_1: 0.0</br>cp_2: 0.0</br>cp_3: 1.0</br>restecg_1: 0.0</br>restecg_2: 0.0</br>_original_yhat_: 0.9919773936271667</br>"
          ],
          [
           "</br>id: 14</br>prediction: 0.879</br>slp: 1.3800000000000001</br></br>age: 58.0</br>sex: 0.0</br>trtbps: 150.0</br>chol: 283.0</br>fbs: 1.0</br>thalachh: 162.0</br>oldpeak: 1.0</br>thall: 2.0</br>exng_1: 0.0</br>caa_1: 0.0</br>caa_2: 0.0</br>caa_3: 0.0</br>caa_4: 0.0</br>cp_1: 0.0</br>cp_2: 0.0</br>cp_3: 1.0</br>restecg_1: 0.0</br>restecg_2: 0.0</br>_original_yhat_: 0.9919773936271667</br>"
          ],
          [
           "</br>id: 14</br>prediction: 0.879</br>slp: 1.4000000000000001</br></br>age: 58.0</br>sex: 0.0</br>trtbps: 150.0</br>chol: 283.0</br>fbs: 1.0</br>thalachh: 162.0</br>oldpeak: 1.0</br>thall: 2.0</br>exng_1: 0.0</br>caa_1: 0.0</br>caa_2: 0.0</br>caa_3: 0.0</br>caa_4: 0.0</br>cp_1: 0.0</br>cp_2: 0.0</br>cp_3: 1.0</br>restecg_1: 0.0</br>restecg_2: 0.0</br>_original_yhat_: 0.9919773936271667</br>"
          ],
          [
           "</br>id: 14</br>prediction: 0.879</br>slp: 1.42</br></br>age: 58.0</br>sex: 0.0</br>trtbps: 150.0</br>chol: 283.0</br>fbs: 1.0</br>thalachh: 162.0</br>oldpeak: 1.0</br>thall: 2.0</br>exng_1: 0.0</br>caa_1: 0.0</br>caa_2: 0.0</br>caa_3: 0.0</br>caa_4: 0.0</br>cp_1: 0.0</br>cp_2: 0.0</br>cp_3: 1.0</br>restecg_1: 0.0</br>restecg_2: 0.0</br>_original_yhat_: 0.9919773936271667</br>"
          ],
          [
           "</br>id: 14</br>prediction: 0.879</br>slp: 1.44</br></br>age: 58.0</br>sex: 0.0</br>trtbps: 150.0</br>chol: 283.0</br>fbs: 1.0</br>thalachh: 162.0</br>oldpeak: 1.0</br>thall: 2.0</br>exng_1: 0.0</br>caa_1: 0.0</br>caa_2: 0.0</br>caa_3: 0.0</br>caa_4: 0.0</br>cp_1: 0.0</br>cp_2: 0.0</br>cp_3: 1.0</br>restecg_1: 0.0</br>restecg_2: 0.0</br>_original_yhat_: 0.9919773936271667</br>"
          ],
          [
           "</br>id: 14</br>prediction: 0.879</br>slp: 1.46</br></br>age: 58.0</br>sex: 0.0</br>trtbps: 150.0</br>chol: 283.0</br>fbs: 1.0</br>thalachh: 162.0</br>oldpeak: 1.0</br>thall: 2.0</br>exng_1: 0.0</br>caa_1: 0.0</br>caa_2: 0.0</br>caa_3: 0.0</br>caa_4: 0.0</br>cp_1: 0.0</br>cp_2: 0.0</br>cp_3: 1.0</br>restecg_1: 0.0</br>restecg_2: 0.0</br>_original_yhat_: 0.9919773936271667</br>"
          ],
          [
           "</br>id: 14</br>prediction: 0.879</br>slp: 1.48</br></br>age: 58.0</br>sex: 0.0</br>trtbps: 150.0</br>chol: 283.0</br>fbs: 1.0</br>thalachh: 162.0</br>oldpeak: 1.0</br>thall: 2.0</br>exng_1: 0.0</br>caa_1: 0.0</br>caa_2: 0.0</br>caa_3: 0.0</br>caa_4: 0.0</br>cp_1: 0.0</br>cp_2: 0.0</br>cp_3: 1.0</br>restecg_1: 0.0</br>restecg_2: 0.0</br>_original_yhat_: 0.9919773936271667</br>"
          ],
          [
           "</br>id: 14</br>prediction: 0.992</br>slp: 1.5</br></br>age: 58.0</br>sex: 0.0</br>trtbps: 150.0</br>chol: 283.0</br>fbs: 1.0</br>thalachh: 162.0</br>oldpeak: 1.0</br>thall: 2.0</br>exng_1: 0.0</br>caa_1: 0.0</br>caa_2: 0.0</br>caa_3: 0.0</br>caa_4: 0.0</br>cp_1: 0.0</br>cp_2: 0.0</br>cp_3: 1.0</br>restecg_1: 0.0</br>restecg_2: 0.0</br>_original_yhat_: 0.9919773936271667</br>"
          ],
          [
           "</br>id: 14</br>prediction: 0.992</br>slp: 1.52</br></br>age: 58.0</br>sex: 0.0</br>trtbps: 150.0</br>chol: 283.0</br>fbs: 1.0</br>thalachh: 162.0</br>oldpeak: 1.0</br>thall: 2.0</br>exng_1: 0.0</br>caa_1: 0.0</br>caa_2: 0.0</br>caa_3: 0.0</br>caa_4: 0.0</br>cp_1: 0.0</br>cp_2: 0.0</br>cp_3: 1.0</br>restecg_1: 0.0</br>restecg_2: 0.0</br>_original_yhat_: 0.9919773936271667</br>"
          ],
          [
           "</br>id: 14</br>prediction: 0.992</br>slp: 1.54</br></br>age: 58.0</br>sex: 0.0</br>trtbps: 150.0</br>chol: 283.0</br>fbs: 1.0</br>thalachh: 162.0</br>oldpeak: 1.0</br>thall: 2.0</br>exng_1: 0.0</br>caa_1: 0.0</br>caa_2: 0.0</br>caa_3: 0.0</br>caa_4: 0.0</br>cp_1: 0.0</br>cp_2: 0.0</br>cp_3: 1.0</br>restecg_1: 0.0</br>restecg_2: 0.0</br>_original_yhat_: 0.9919773936271667</br>"
          ],
          [
           "</br>id: 14</br>prediction: 0.992</br>slp: 1.56</br></br>age: 58.0</br>sex: 0.0</br>trtbps: 150.0</br>chol: 283.0</br>fbs: 1.0</br>thalachh: 162.0</br>oldpeak: 1.0</br>thall: 2.0</br>exng_1: 0.0</br>caa_1: 0.0</br>caa_2: 0.0</br>caa_3: 0.0</br>caa_4: 0.0</br>cp_1: 0.0</br>cp_2: 0.0</br>cp_3: 1.0</br>restecg_1: 0.0</br>restecg_2: 0.0</br>_original_yhat_: 0.9919773936271667</br>"
          ],
          [
           "</br>id: 14</br>prediction: 0.992</br>slp: 1.58</br></br>age: 58.0</br>sex: 0.0</br>trtbps: 150.0</br>chol: 283.0</br>fbs: 1.0</br>thalachh: 162.0</br>oldpeak: 1.0</br>thall: 2.0</br>exng_1: 0.0</br>caa_1: 0.0</br>caa_2: 0.0</br>caa_3: 0.0</br>caa_4: 0.0</br>cp_1: 0.0</br>cp_2: 0.0</br>cp_3: 1.0</br>restecg_1: 0.0</br>restecg_2: 0.0</br>_original_yhat_: 0.9919773936271667</br>"
          ],
          [
           "</br>id: 14</br>prediction: 0.992</br>slp: 1.6</br></br>age: 58.0</br>sex: 0.0</br>trtbps: 150.0</br>chol: 283.0</br>fbs: 1.0</br>thalachh: 162.0</br>oldpeak: 1.0</br>thall: 2.0</br>exng_1: 0.0</br>caa_1: 0.0</br>caa_2: 0.0</br>caa_3: 0.0</br>caa_4: 0.0</br>cp_1: 0.0</br>cp_2: 0.0</br>cp_3: 1.0</br>restecg_1: 0.0</br>restecg_2: 0.0</br>_original_yhat_: 0.9919773936271667</br>"
          ],
          [
           "</br>id: 14</br>prediction: 0.992</br>slp: 1.62</br></br>age: 58.0</br>sex: 0.0</br>trtbps: 150.0</br>chol: 283.0</br>fbs: 1.0</br>thalachh: 162.0</br>oldpeak: 1.0</br>thall: 2.0</br>exng_1: 0.0</br>caa_1: 0.0</br>caa_2: 0.0</br>caa_3: 0.0</br>caa_4: 0.0</br>cp_1: 0.0</br>cp_2: 0.0</br>cp_3: 1.0</br>restecg_1: 0.0</br>restecg_2: 0.0</br>_original_yhat_: 0.9919773936271667</br>"
          ],
          [
           "</br>id: 14</br>prediction: 0.992</br>slp: 1.6400000000000001</br></br>age: 58.0</br>sex: 0.0</br>trtbps: 150.0</br>chol: 283.0</br>fbs: 1.0</br>thalachh: 162.0</br>oldpeak: 1.0</br>thall: 2.0</br>exng_1: 0.0</br>caa_1: 0.0</br>caa_2: 0.0</br>caa_3: 0.0</br>caa_4: 0.0</br>cp_1: 0.0</br>cp_2: 0.0</br>cp_3: 1.0</br>restecg_1: 0.0</br>restecg_2: 0.0</br>_original_yhat_: 0.9919773936271667</br>"
          ],
          [
           "</br>id: 14</br>prediction: 0.992</br>slp: 1.6600000000000001</br></br>age: 58.0</br>sex: 0.0</br>trtbps: 150.0</br>chol: 283.0</br>fbs: 1.0</br>thalachh: 162.0</br>oldpeak: 1.0</br>thall: 2.0</br>exng_1: 0.0</br>caa_1: 0.0</br>caa_2: 0.0</br>caa_3: 0.0</br>caa_4: 0.0</br>cp_1: 0.0</br>cp_2: 0.0</br>cp_3: 1.0</br>restecg_1: 0.0</br>restecg_2: 0.0</br>_original_yhat_: 0.9919773936271667</br>"
          ],
          [
           "</br>id: 14</br>prediction: 0.992</br>slp: 1.68</br></br>age: 58.0</br>sex: 0.0</br>trtbps: 150.0</br>chol: 283.0</br>fbs: 1.0</br>thalachh: 162.0</br>oldpeak: 1.0</br>thall: 2.0</br>exng_1: 0.0</br>caa_1: 0.0</br>caa_2: 0.0</br>caa_3: 0.0</br>caa_4: 0.0</br>cp_1: 0.0</br>cp_2: 0.0</br>cp_3: 1.0</br>restecg_1: 0.0</br>restecg_2: 0.0</br>_original_yhat_: 0.9919773936271667</br>"
          ],
          [
           "</br>id: 14</br>prediction: 0.992</br>slp: 1.7</br></br>age: 58.0</br>sex: 0.0</br>trtbps: 150.0</br>chol: 283.0</br>fbs: 1.0</br>thalachh: 162.0</br>oldpeak: 1.0</br>thall: 2.0</br>exng_1: 0.0</br>caa_1: 0.0</br>caa_2: 0.0</br>caa_3: 0.0</br>caa_4: 0.0</br>cp_1: 0.0</br>cp_2: 0.0</br>cp_3: 1.0</br>restecg_1: 0.0</br>restecg_2: 0.0</br>_original_yhat_: 0.9919773936271667</br>"
          ],
          [
           "</br>id: 14</br>prediction: 0.992</br>slp: 1.72</br></br>age: 58.0</br>sex: 0.0</br>trtbps: 150.0</br>chol: 283.0</br>fbs: 1.0</br>thalachh: 162.0</br>oldpeak: 1.0</br>thall: 2.0</br>exng_1: 0.0</br>caa_1: 0.0</br>caa_2: 0.0</br>caa_3: 0.0</br>caa_4: 0.0</br>cp_1: 0.0</br>cp_2: 0.0</br>cp_3: 1.0</br>restecg_1: 0.0</br>restecg_2: 0.0</br>_original_yhat_: 0.9919773936271667</br>"
          ],
          [
           "</br>id: 14</br>prediction: 0.992</br>slp: 1.74</br></br>age: 58.0</br>sex: 0.0</br>trtbps: 150.0</br>chol: 283.0</br>fbs: 1.0</br>thalachh: 162.0</br>oldpeak: 1.0</br>thall: 2.0</br>exng_1: 0.0</br>caa_1: 0.0</br>caa_2: 0.0</br>caa_3: 0.0</br>caa_4: 0.0</br>cp_1: 0.0</br>cp_2: 0.0</br>cp_3: 1.0</br>restecg_1: 0.0</br>restecg_2: 0.0</br>_original_yhat_: 0.9919773936271667</br>"
          ],
          [
           "</br>id: 14</br>prediction: 0.992</br>slp: 1.76</br></br>age: 58.0</br>sex: 0.0</br>trtbps: 150.0</br>chol: 283.0</br>fbs: 1.0</br>thalachh: 162.0</br>oldpeak: 1.0</br>thall: 2.0</br>exng_1: 0.0</br>caa_1: 0.0</br>caa_2: 0.0</br>caa_3: 0.0</br>caa_4: 0.0</br>cp_1: 0.0</br>cp_2: 0.0</br>cp_3: 1.0</br>restecg_1: 0.0</br>restecg_2: 0.0</br>_original_yhat_: 0.9919773936271667</br>"
          ],
          [
           "</br>id: 14</br>prediction: 0.992</br>slp: 1.78</br></br>age: 58.0</br>sex: 0.0</br>trtbps: 150.0</br>chol: 283.0</br>fbs: 1.0</br>thalachh: 162.0</br>oldpeak: 1.0</br>thall: 2.0</br>exng_1: 0.0</br>caa_1: 0.0</br>caa_2: 0.0</br>caa_3: 0.0</br>caa_4: 0.0</br>cp_1: 0.0</br>cp_2: 0.0</br>cp_3: 1.0</br>restecg_1: 0.0</br>restecg_2: 0.0</br>_original_yhat_: 0.9919773936271667</br>"
          ],
          [
           "</br>id: 14</br>prediction: 0.992</br>slp: 1.8</br></br>age: 58.0</br>sex: 0.0</br>trtbps: 150.0</br>chol: 283.0</br>fbs: 1.0</br>thalachh: 162.0</br>oldpeak: 1.0</br>thall: 2.0</br>exng_1: 0.0</br>caa_1: 0.0</br>caa_2: 0.0</br>caa_3: 0.0</br>caa_4: 0.0</br>cp_1: 0.0</br>cp_2: 0.0</br>cp_3: 1.0</br>restecg_1: 0.0</br>restecg_2: 0.0</br>_original_yhat_: 0.9919773936271667</br>"
          ],
          [
           "</br>id: 14</br>prediction: 0.992</br>slp: 1.82</br></br>age: 58.0</br>sex: 0.0</br>trtbps: 150.0</br>chol: 283.0</br>fbs: 1.0</br>thalachh: 162.0</br>oldpeak: 1.0</br>thall: 2.0</br>exng_1: 0.0</br>caa_1: 0.0</br>caa_2: 0.0</br>caa_3: 0.0</br>caa_4: 0.0</br>cp_1: 0.0</br>cp_2: 0.0</br>cp_3: 1.0</br>restecg_1: 0.0</br>restecg_2: 0.0</br>_original_yhat_: 0.9919773936271667</br>"
          ],
          [
           "</br>id: 14</br>prediction: 0.992</br>slp: 1.84</br></br>age: 58.0</br>sex: 0.0</br>trtbps: 150.0</br>chol: 283.0</br>fbs: 1.0</br>thalachh: 162.0</br>oldpeak: 1.0</br>thall: 2.0</br>exng_1: 0.0</br>caa_1: 0.0</br>caa_2: 0.0</br>caa_3: 0.0</br>caa_4: 0.0</br>cp_1: 0.0</br>cp_2: 0.0</br>cp_3: 1.0</br>restecg_1: 0.0</br>restecg_2: 0.0</br>_original_yhat_: 0.9919773936271667</br>"
          ],
          [
           "</br>id: 14</br>prediction: 0.992</br>slp: 1.86</br></br>age: 58.0</br>sex: 0.0</br>trtbps: 150.0</br>chol: 283.0</br>fbs: 1.0</br>thalachh: 162.0</br>oldpeak: 1.0</br>thall: 2.0</br>exng_1: 0.0</br>caa_1: 0.0</br>caa_2: 0.0</br>caa_3: 0.0</br>caa_4: 0.0</br>cp_1: 0.0</br>cp_2: 0.0</br>cp_3: 1.0</br>restecg_1: 0.0</br>restecg_2: 0.0</br>_original_yhat_: 0.9919773936271667</br>"
          ],
          [
           "</br>id: 14</br>prediction: 0.992</br>slp: 1.8800000000000001</br></br>age: 58.0</br>sex: 0.0</br>trtbps: 150.0</br>chol: 283.0</br>fbs: 1.0</br>thalachh: 162.0</br>oldpeak: 1.0</br>thall: 2.0</br>exng_1: 0.0</br>caa_1: 0.0</br>caa_2: 0.0</br>caa_3: 0.0</br>caa_4: 0.0</br>cp_1: 0.0</br>cp_2: 0.0</br>cp_3: 1.0</br>restecg_1: 0.0</br>restecg_2: 0.0</br>_original_yhat_: 0.9919773936271667</br>"
          ],
          [
           "</br>id: 14</br>prediction: 0.992</br>slp: 1.9000000000000001</br></br>age: 58.0</br>sex: 0.0</br>trtbps: 150.0</br>chol: 283.0</br>fbs: 1.0</br>thalachh: 162.0</br>oldpeak: 1.0</br>thall: 2.0</br>exng_1: 0.0</br>caa_1: 0.0</br>caa_2: 0.0</br>caa_3: 0.0</br>caa_4: 0.0</br>cp_1: 0.0</br>cp_2: 0.0</br>cp_3: 1.0</br>restecg_1: 0.0</br>restecg_2: 0.0</br>_original_yhat_: 0.9919773936271667</br>"
          ],
          [
           "</br>id: 14</br>prediction: 0.992</br>slp: 1.92</br></br>age: 58.0</br>sex: 0.0</br>trtbps: 150.0</br>chol: 283.0</br>fbs: 1.0</br>thalachh: 162.0</br>oldpeak: 1.0</br>thall: 2.0</br>exng_1: 0.0</br>caa_1: 0.0</br>caa_2: 0.0</br>caa_3: 0.0</br>caa_4: 0.0</br>cp_1: 0.0</br>cp_2: 0.0</br>cp_3: 1.0</br>restecg_1: 0.0</br>restecg_2: 0.0</br>_original_yhat_: 0.9919773936271667</br>"
          ],
          [
           "</br>id: 14</br>prediction: 0.992</br>slp: 1.94</br></br>age: 58.0</br>sex: 0.0</br>trtbps: 150.0</br>chol: 283.0</br>fbs: 1.0</br>thalachh: 162.0</br>oldpeak: 1.0</br>thall: 2.0</br>exng_1: 0.0</br>caa_1: 0.0</br>caa_2: 0.0</br>caa_3: 0.0</br>caa_4: 0.0</br>cp_1: 0.0</br>cp_2: 0.0</br>cp_3: 1.0</br>restecg_1: 0.0</br>restecg_2: 0.0</br>_original_yhat_: 0.9919773936271667</br>"
          ],
          [
           "</br>id: 14</br>prediction: 0.992</br>slp: 1.96</br></br>age: 58.0</br>sex: 0.0</br>trtbps: 150.0</br>chol: 283.0</br>fbs: 1.0</br>thalachh: 162.0</br>oldpeak: 1.0</br>thall: 2.0</br>exng_1: 0.0</br>caa_1: 0.0</br>caa_2: 0.0</br>caa_3: 0.0</br>caa_4: 0.0</br>cp_1: 0.0</br>cp_2: 0.0</br>cp_3: 1.0</br>restecg_1: 0.0</br>restecg_2: 0.0</br>_original_yhat_: 0.9919773936271667</br>"
          ],
          [
           "</br>id: 14</br>prediction: 0.992</br>slp: 1.98</br></br>age: 58.0</br>sex: 0.0</br>trtbps: 150.0</br>chol: 283.0</br>fbs: 1.0</br>thalachh: 162.0</br>oldpeak: 1.0</br>thall: 2.0</br>exng_1: 0.0</br>caa_1: 0.0</br>caa_2: 0.0</br>caa_3: 0.0</br>caa_4: 0.0</br>cp_1: 0.0</br>cp_2: 0.0</br>cp_3: 1.0</br>restecg_1: 0.0</br>restecg_2: 0.0</br>_original_yhat_: 0.9919773936271667</br>"
          ],
          [
           "</br>id: 14</br>prediction: 0.992</br>slp: 2.0</br></br>age: 58.0</br>sex: 0.0</br>trtbps: 150.0</br>chol: 283.0</br>fbs: 1.0</br>thalachh: 162.0</br>oldpeak: 1.0</br>thall: 2.0</br>exng_1: 0.0</br>caa_1: 0.0</br>caa_2: 0.0</br>caa_3: 0.0</br>caa_4: 0.0</br>cp_1: 0.0</br>cp_2: 0.0</br>cp_3: 1.0</br>restecg_1: 0.0</br>restecg_2: 0.0</br>_original_yhat_: 0.9919773936271667</br>"
          ]
         ],
         "hovertemplate": "%{customdata[0]}<extra></extra>",
         "legendgroup": "XGBClassifier",
         "line": {
          "color": "#46bac2",
          "dash": "solid",
          "width": 2
         },
         "marker": {
          "symbol": "circle"
         },
         "mode": "lines",
         "name": "XGBClassifier",
         "orientation": "v",
         "showlegend": true,
         "x": [
          0.0,
          0.02,
          0.04,
          0.06,
          0.08,
          0.1,
          0.12,
          0.14,
          0.16,
          0.18,
          0.2,
          0.22,
          0.24,
          0.26,
          0.28,
          0.3,
          0.32,
          0.34,
          0.36,
          0.38,
          0.4,
          0.42,
          0.44,
          0.46,
          0.48,
          0.5,
          0.52,
          0.54,
          0.56,
          0.58,
          0.6,
          0.62,
          0.64,
          0.66,
          0.68,
          0.7000000000000001,
          0.72,
          0.74,
          0.76,
          0.78,
          0.8,
          0.8200000000000001,
          0.84,
          0.86,
          0.88,
          0.9,
          0.92,
          0.9400000000000001,
          0.96,
          0.98,
          1.0,
          1.02,
          1.04,
          1.06,
          1.08,
          1.1,
          1.12,
          1.1400000000000001,
          1.16,
          1.18,
          1.2,
          1.22,
          1.24,
          1.26,
          1.28,
          1.3,
          1.32,
          1.34,
          1.36,
          1.3800000000000001,
          1.4000000000000001,
          1.42,
          1.44,
          1.46,
          1.48,
          1.5,
          1.52,
          1.54,
          1.56,
          1.58,
          1.6,
          1.62,
          1.6400000000000001,
          1.6600000000000001,
          1.68,
          1.7,
          1.72,
          1.74,
          1.76,
          1.78,
          1.8,
          1.82,
          1.84,
          1.86,
          1.8800000000000001,
          1.9000000000000001,
          1.92,
          1.94,
          1.96,
          1.98,
          2.0
         ],
         "xaxis": "x",
         "y": [
          0.9074269533157349,
          0.9074269533157349,
          0.9074269533157349,
          0.9074269533157349,
          0.9074269533157349,
          0.9074269533157349,
          0.9074269533157349,
          0.9074269533157349,
          0.9074269533157349,
          0.9074269533157349,
          0.9074269533157349,
          0.9074269533157349,
          0.9074269533157349,
          0.9074269533157349,
          0.9074269533157349,
          0.9074269533157349,
          0.9074269533157349,
          0.9074269533157349,
          0.9074269533157349,
          0.9074269533157349,
          0.9074269533157349,
          0.9074269533157349,
          0.9074269533157349,
          0.9074269533157349,
          0.9074269533157349,
          0.8794453740119934,
          0.8794453740119934,
          0.8794453740119934,
          0.8794453740119934,
          0.8794453740119934,
          0.8794453740119934,
          0.8794453740119934,
          0.8794453740119934,
          0.8794453740119934,
          0.8794453740119934,
          0.8794453740119934,
          0.8794453740119934,
          0.8794453740119934,
          0.8794453740119934,
          0.8794453740119934,
          0.8794453740119934,
          0.8794453740119934,
          0.8794453740119934,
          0.8794453740119934,
          0.8794453740119934,
          0.8794453740119934,
          0.8794453740119934,
          0.8794453740119934,
          0.8794453740119934,
          0.8794453740119934,
          0.8794453740119934,
          0.8794453740119934,
          0.8794453740119934,
          0.8794453740119934,
          0.8794453740119934,
          0.8794453740119934,
          0.8794453740119934,
          0.8794453740119934,
          0.8794453740119934,
          0.8794453740119934,
          0.8794453740119934,
          0.8794453740119934,
          0.8794453740119934,
          0.8794453740119934,
          0.8794453740119934,
          0.8794453740119934,
          0.8794453740119934,
          0.8794453740119934,
          0.8794453740119934,
          0.8794453740119934,
          0.8794453740119934,
          0.8794453740119934,
          0.8794453740119934,
          0.8794453740119934,
          0.8794453740119934,
          0.9919773936271667,
          0.9919773936271667,
          0.9919773936271667,
          0.9919773936271667,
          0.9919773936271667,
          0.9919773936271667,
          0.9919773936271667,
          0.9919773936271667,
          0.9919773936271667,
          0.9919773936271667,
          0.9919773936271667,
          0.9919773936271667,
          0.9919773936271667,
          0.9919773936271667,
          0.9919773936271667,
          0.9919773936271667,
          0.9919773936271667,
          0.9919773936271667,
          0.9919773936271667,
          0.9919773936271667,
          0.9919773936271667,
          0.9919773936271667,
          0.9919773936271667,
          0.9919773936271667,
          0.9919773936271667,
          0.9919773936271667
         ],
         "yaxis": "y",
         "type": "scatter",
         "opacity": 1
        },
        {
         "customdata": [
          [
           "</br>id: 108</br>prediction: 0.998</br>slp: 0.0</br></br>age: 50.0</br>sex: 0.0</br>trtbps: 120.0</br>chol: 244.0</br>fbs: 0.0</br>thalachh: 162.0</br>oldpeak: 1.1</br>thall: 2.0</br>exng_1: 0.0</br>caa_1: 0.0</br>caa_2: 0.0</br>caa_3: 0.0</br>caa_4: 0.0</br>cp_1: 1.0</br>cp_2: 0.0</br>cp_3: 0.0</br>restecg_1: 1.0</br>restecg_2: 0.0</br>_original_yhat_: 0.9995338916778564</br>"
          ],
          [
           "</br>id: 108</br>prediction: 0.998</br>slp: 0.02</br></br>age: 50.0</br>sex: 0.0</br>trtbps: 120.0</br>chol: 244.0</br>fbs: 0.0</br>thalachh: 162.0</br>oldpeak: 1.1</br>thall: 2.0</br>exng_1: 0.0</br>caa_1: 0.0</br>caa_2: 0.0</br>caa_3: 0.0</br>caa_4: 0.0</br>cp_1: 1.0</br>cp_2: 0.0</br>cp_3: 0.0</br>restecg_1: 1.0</br>restecg_2: 0.0</br>_original_yhat_: 0.9995338916778564</br>"
          ],
          [
           "</br>id: 108</br>prediction: 0.998</br>slp: 0.04</br></br>age: 50.0</br>sex: 0.0</br>trtbps: 120.0</br>chol: 244.0</br>fbs: 0.0</br>thalachh: 162.0</br>oldpeak: 1.1</br>thall: 2.0</br>exng_1: 0.0</br>caa_1: 0.0</br>caa_2: 0.0</br>caa_3: 0.0</br>caa_4: 0.0</br>cp_1: 1.0</br>cp_2: 0.0</br>cp_3: 0.0</br>restecg_1: 1.0</br>restecg_2: 0.0</br>_original_yhat_: 0.9995338916778564</br>"
          ],
          [
           "</br>id: 108</br>prediction: 0.998</br>slp: 0.06</br></br>age: 50.0</br>sex: 0.0</br>trtbps: 120.0</br>chol: 244.0</br>fbs: 0.0</br>thalachh: 162.0</br>oldpeak: 1.1</br>thall: 2.0</br>exng_1: 0.0</br>caa_1: 0.0</br>caa_2: 0.0</br>caa_3: 0.0</br>caa_4: 0.0</br>cp_1: 1.0</br>cp_2: 0.0</br>cp_3: 0.0</br>restecg_1: 1.0</br>restecg_2: 0.0</br>_original_yhat_: 0.9995338916778564</br>"
          ],
          [
           "</br>id: 108</br>prediction: 0.998</br>slp: 0.08</br></br>age: 50.0</br>sex: 0.0</br>trtbps: 120.0</br>chol: 244.0</br>fbs: 0.0</br>thalachh: 162.0</br>oldpeak: 1.1</br>thall: 2.0</br>exng_1: 0.0</br>caa_1: 0.0</br>caa_2: 0.0</br>caa_3: 0.0</br>caa_4: 0.0</br>cp_1: 1.0</br>cp_2: 0.0</br>cp_3: 0.0</br>restecg_1: 1.0</br>restecg_2: 0.0</br>_original_yhat_: 0.9995338916778564</br>"
          ],
          [
           "</br>id: 108</br>prediction: 0.998</br>slp: 0.1</br></br>age: 50.0</br>sex: 0.0</br>trtbps: 120.0</br>chol: 244.0</br>fbs: 0.0</br>thalachh: 162.0</br>oldpeak: 1.1</br>thall: 2.0</br>exng_1: 0.0</br>caa_1: 0.0</br>caa_2: 0.0</br>caa_3: 0.0</br>caa_4: 0.0</br>cp_1: 1.0</br>cp_2: 0.0</br>cp_3: 0.0</br>restecg_1: 1.0</br>restecg_2: 0.0</br>_original_yhat_: 0.9995338916778564</br>"
          ],
          [
           "</br>id: 108</br>prediction: 0.998</br>slp: 0.12</br></br>age: 50.0</br>sex: 0.0</br>trtbps: 120.0</br>chol: 244.0</br>fbs: 0.0</br>thalachh: 162.0</br>oldpeak: 1.1</br>thall: 2.0</br>exng_1: 0.0</br>caa_1: 0.0</br>caa_2: 0.0</br>caa_3: 0.0</br>caa_4: 0.0</br>cp_1: 1.0</br>cp_2: 0.0</br>cp_3: 0.0</br>restecg_1: 1.0</br>restecg_2: 0.0</br>_original_yhat_: 0.9995338916778564</br>"
          ],
          [
           "</br>id: 108</br>prediction: 0.998</br>slp: 0.14</br></br>age: 50.0</br>sex: 0.0</br>trtbps: 120.0</br>chol: 244.0</br>fbs: 0.0</br>thalachh: 162.0</br>oldpeak: 1.1</br>thall: 2.0</br>exng_1: 0.0</br>caa_1: 0.0</br>caa_2: 0.0</br>caa_3: 0.0</br>caa_4: 0.0</br>cp_1: 1.0</br>cp_2: 0.0</br>cp_3: 0.0</br>restecg_1: 1.0</br>restecg_2: 0.0</br>_original_yhat_: 0.9995338916778564</br>"
          ],
          [
           "</br>id: 108</br>prediction: 0.998</br>slp: 0.16</br></br>age: 50.0</br>sex: 0.0</br>trtbps: 120.0</br>chol: 244.0</br>fbs: 0.0</br>thalachh: 162.0</br>oldpeak: 1.1</br>thall: 2.0</br>exng_1: 0.0</br>caa_1: 0.0</br>caa_2: 0.0</br>caa_3: 0.0</br>caa_4: 0.0</br>cp_1: 1.0</br>cp_2: 0.0</br>cp_3: 0.0</br>restecg_1: 1.0</br>restecg_2: 0.0</br>_original_yhat_: 0.9995338916778564</br>"
          ],
          [
           "</br>id: 108</br>prediction: 0.998</br>slp: 0.18</br></br>age: 50.0</br>sex: 0.0</br>trtbps: 120.0</br>chol: 244.0</br>fbs: 0.0</br>thalachh: 162.0</br>oldpeak: 1.1</br>thall: 2.0</br>exng_1: 0.0</br>caa_1: 0.0</br>caa_2: 0.0</br>caa_3: 0.0</br>caa_4: 0.0</br>cp_1: 1.0</br>cp_2: 0.0</br>cp_3: 0.0</br>restecg_1: 1.0</br>restecg_2: 0.0</br>_original_yhat_: 0.9995338916778564</br>"
          ],
          [
           "</br>id: 108</br>prediction: 0.998</br>slp: 0.2</br></br>age: 50.0</br>sex: 0.0</br>trtbps: 120.0</br>chol: 244.0</br>fbs: 0.0</br>thalachh: 162.0</br>oldpeak: 1.1</br>thall: 2.0</br>exng_1: 0.0</br>caa_1: 0.0</br>caa_2: 0.0</br>caa_3: 0.0</br>caa_4: 0.0</br>cp_1: 1.0</br>cp_2: 0.0</br>cp_3: 0.0</br>restecg_1: 1.0</br>restecg_2: 0.0</br>_original_yhat_: 0.9995338916778564</br>"
          ],
          [
           "</br>id: 108</br>prediction: 0.998</br>slp: 0.22</br></br>age: 50.0</br>sex: 0.0</br>trtbps: 120.0</br>chol: 244.0</br>fbs: 0.0</br>thalachh: 162.0</br>oldpeak: 1.1</br>thall: 2.0</br>exng_1: 0.0</br>caa_1: 0.0</br>caa_2: 0.0</br>caa_3: 0.0</br>caa_4: 0.0</br>cp_1: 1.0</br>cp_2: 0.0</br>cp_3: 0.0</br>restecg_1: 1.0</br>restecg_2: 0.0</br>_original_yhat_: 0.9995338916778564</br>"
          ],
          [
           "</br>id: 108</br>prediction: 0.998</br>slp: 0.24</br></br>age: 50.0</br>sex: 0.0</br>trtbps: 120.0</br>chol: 244.0</br>fbs: 0.0</br>thalachh: 162.0</br>oldpeak: 1.1</br>thall: 2.0</br>exng_1: 0.0</br>caa_1: 0.0</br>caa_2: 0.0</br>caa_3: 0.0</br>caa_4: 0.0</br>cp_1: 1.0</br>cp_2: 0.0</br>cp_3: 0.0</br>restecg_1: 1.0</br>restecg_2: 0.0</br>_original_yhat_: 0.9995338916778564</br>"
          ],
          [
           "</br>id: 108</br>prediction: 0.998</br>slp: 0.26</br></br>age: 50.0</br>sex: 0.0</br>trtbps: 120.0</br>chol: 244.0</br>fbs: 0.0</br>thalachh: 162.0</br>oldpeak: 1.1</br>thall: 2.0</br>exng_1: 0.0</br>caa_1: 0.0</br>caa_2: 0.0</br>caa_3: 0.0</br>caa_4: 0.0</br>cp_1: 1.0</br>cp_2: 0.0</br>cp_3: 0.0</br>restecg_1: 1.0</br>restecg_2: 0.0</br>_original_yhat_: 0.9995338916778564</br>"
          ],
          [
           "</br>id: 108</br>prediction: 0.998</br>slp: 0.28</br></br>age: 50.0</br>sex: 0.0</br>trtbps: 120.0</br>chol: 244.0</br>fbs: 0.0</br>thalachh: 162.0</br>oldpeak: 1.1</br>thall: 2.0</br>exng_1: 0.0</br>caa_1: 0.0</br>caa_2: 0.0</br>caa_3: 0.0</br>caa_4: 0.0</br>cp_1: 1.0</br>cp_2: 0.0</br>cp_3: 0.0</br>restecg_1: 1.0</br>restecg_2: 0.0</br>_original_yhat_: 0.9995338916778564</br>"
          ],
          [
           "</br>id: 108</br>prediction: 0.998</br>slp: 0.3</br></br>age: 50.0</br>sex: 0.0</br>trtbps: 120.0</br>chol: 244.0</br>fbs: 0.0</br>thalachh: 162.0</br>oldpeak: 1.1</br>thall: 2.0</br>exng_1: 0.0</br>caa_1: 0.0</br>caa_2: 0.0</br>caa_3: 0.0</br>caa_4: 0.0</br>cp_1: 1.0</br>cp_2: 0.0</br>cp_3: 0.0</br>restecg_1: 1.0</br>restecg_2: 0.0</br>_original_yhat_: 0.9995338916778564</br>"
          ],
          [
           "</br>id: 108</br>prediction: 0.998</br>slp: 0.32</br></br>age: 50.0</br>sex: 0.0</br>trtbps: 120.0</br>chol: 244.0</br>fbs: 0.0</br>thalachh: 162.0</br>oldpeak: 1.1</br>thall: 2.0</br>exng_1: 0.0</br>caa_1: 0.0</br>caa_2: 0.0</br>caa_3: 0.0</br>caa_4: 0.0</br>cp_1: 1.0</br>cp_2: 0.0</br>cp_3: 0.0</br>restecg_1: 1.0</br>restecg_2: 0.0</br>_original_yhat_: 0.9995338916778564</br>"
          ],
          [
           "</br>id: 108</br>prediction: 0.998</br>slp: 0.34</br></br>age: 50.0</br>sex: 0.0</br>trtbps: 120.0</br>chol: 244.0</br>fbs: 0.0</br>thalachh: 162.0</br>oldpeak: 1.1</br>thall: 2.0</br>exng_1: 0.0</br>caa_1: 0.0</br>caa_2: 0.0</br>caa_3: 0.0</br>caa_4: 0.0</br>cp_1: 1.0</br>cp_2: 0.0</br>cp_3: 0.0</br>restecg_1: 1.0</br>restecg_2: 0.0</br>_original_yhat_: 0.9995338916778564</br>"
          ],
          [
           "</br>id: 108</br>prediction: 0.998</br>slp: 0.36</br></br>age: 50.0</br>sex: 0.0</br>trtbps: 120.0</br>chol: 244.0</br>fbs: 0.0</br>thalachh: 162.0</br>oldpeak: 1.1</br>thall: 2.0</br>exng_1: 0.0</br>caa_1: 0.0</br>caa_2: 0.0</br>caa_3: 0.0</br>caa_4: 0.0</br>cp_1: 1.0</br>cp_2: 0.0</br>cp_3: 0.0</br>restecg_1: 1.0</br>restecg_2: 0.0</br>_original_yhat_: 0.9995338916778564</br>"
          ],
          [
           "</br>id: 108</br>prediction: 0.998</br>slp: 0.38</br></br>age: 50.0</br>sex: 0.0</br>trtbps: 120.0</br>chol: 244.0</br>fbs: 0.0</br>thalachh: 162.0</br>oldpeak: 1.1</br>thall: 2.0</br>exng_1: 0.0</br>caa_1: 0.0</br>caa_2: 0.0</br>caa_3: 0.0</br>caa_4: 0.0</br>cp_1: 1.0</br>cp_2: 0.0</br>cp_3: 0.0</br>restecg_1: 1.0</br>restecg_2: 0.0</br>_original_yhat_: 0.9995338916778564</br>"
          ],
          [
           "</br>id: 108</br>prediction: 0.998</br>slp: 0.4</br></br>age: 50.0</br>sex: 0.0</br>trtbps: 120.0</br>chol: 244.0</br>fbs: 0.0</br>thalachh: 162.0</br>oldpeak: 1.1</br>thall: 2.0</br>exng_1: 0.0</br>caa_1: 0.0</br>caa_2: 0.0</br>caa_3: 0.0</br>caa_4: 0.0</br>cp_1: 1.0</br>cp_2: 0.0</br>cp_3: 0.0</br>restecg_1: 1.0</br>restecg_2: 0.0</br>_original_yhat_: 0.9995338916778564</br>"
          ],
          [
           "</br>id: 108</br>prediction: 0.998</br>slp: 0.42</br></br>age: 50.0</br>sex: 0.0</br>trtbps: 120.0</br>chol: 244.0</br>fbs: 0.0</br>thalachh: 162.0</br>oldpeak: 1.1</br>thall: 2.0</br>exng_1: 0.0</br>caa_1: 0.0</br>caa_2: 0.0</br>caa_3: 0.0</br>caa_4: 0.0</br>cp_1: 1.0</br>cp_2: 0.0</br>cp_3: 0.0</br>restecg_1: 1.0</br>restecg_2: 0.0</br>_original_yhat_: 0.9995338916778564</br>"
          ],
          [
           "</br>id: 108</br>prediction: 0.998</br>slp: 0.44</br></br>age: 50.0</br>sex: 0.0</br>trtbps: 120.0</br>chol: 244.0</br>fbs: 0.0</br>thalachh: 162.0</br>oldpeak: 1.1</br>thall: 2.0</br>exng_1: 0.0</br>caa_1: 0.0</br>caa_2: 0.0</br>caa_3: 0.0</br>caa_4: 0.0</br>cp_1: 1.0</br>cp_2: 0.0</br>cp_3: 0.0</br>restecg_1: 1.0</br>restecg_2: 0.0</br>_original_yhat_: 0.9995338916778564</br>"
          ],
          [
           "</br>id: 108</br>prediction: 0.998</br>slp: 0.46</br></br>age: 50.0</br>sex: 0.0</br>trtbps: 120.0</br>chol: 244.0</br>fbs: 0.0</br>thalachh: 162.0</br>oldpeak: 1.1</br>thall: 2.0</br>exng_1: 0.0</br>caa_1: 0.0</br>caa_2: 0.0</br>caa_3: 0.0</br>caa_4: 0.0</br>cp_1: 1.0</br>cp_2: 0.0</br>cp_3: 0.0</br>restecg_1: 1.0</br>restecg_2: 0.0</br>_original_yhat_: 0.9995338916778564</br>"
          ],
          [
           "</br>id: 108</br>prediction: 0.998</br>slp: 0.48</br></br>age: 50.0</br>sex: 0.0</br>trtbps: 120.0</br>chol: 244.0</br>fbs: 0.0</br>thalachh: 162.0</br>oldpeak: 1.1</br>thall: 2.0</br>exng_1: 0.0</br>caa_1: 0.0</br>caa_2: 0.0</br>caa_3: 0.0</br>caa_4: 0.0</br>cp_1: 1.0</br>cp_2: 0.0</br>cp_3: 0.0</br>restecg_1: 1.0</br>restecg_2: 0.0</br>_original_yhat_: 0.9995338916778564</br>"
          ],
          [
           "</br>id: 108</br>prediction: 0.997</br>slp: 0.5</br></br>age: 50.0</br>sex: 0.0</br>trtbps: 120.0</br>chol: 244.0</br>fbs: 0.0</br>thalachh: 162.0</br>oldpeak: 1.1</br>thall: 2.0</br>exng_1: 0.0</br>caa_1: 0.0</br>caa_2: 0.0</br>caa_3: 0.0</br>caa_4: 0.0</br>cp_1: 1.0</br>cp_2: 0.0</br>cp_3: 0.0</br>restecg_1: 1.0</br>restecg_2: 0.0</br>_original_yhat_: 0.9995338916778564</br>"
          ],
          [
           "</br>id: 108</br>prediction: 0.997</br>slp: 0.52</br></br>age: 50.0</br>sex: 0.0</br>trtbps: 120.0</br>chol: 244.0</br>fbs: 0.0</br>thalachh: 162.0</br>oldpeak: 1.1</br>thall: 2.0</br>exng_1: 0.0</br>caa_1: 0.0</br>caa_2: 0.0</br>caa_3: 0.0</br>caa_4: 0.0</br>cp_1: 1.0</br>cp_2: 0.0</br>cp_3: 0.0</br>restecg_1: 1.0</br>restecg_2: 0.0</br>_original_yhat_: 0.9995338916778564</br>"
          ],
          [
           "</br>id: 108</br>prediction: 0.997</br>slp: 0.54</br></br>age: 50.0</br>sex: 0.0</br>trtbps: 120.0</br>chol: 244.0</br>fbs: 0.0</br>thalachh: 162.0</br>oldpeak: 1.1</br>thall: 2.0</br>exng_1: 0.0</br>caa_1: 0.0</br>caa_2: 0.0</br>caa_3: 0.0</br>caa_4: 0.0</br>cp_1: 1.0</br>cp_2: 0.0</br>cp_3: 0.0</br>restecg_1: 1.0</br>restecg_2: 0.0</br>_original_yhat_: 0.9995338916778564</br>"
          ],
          [
           "</br>id: 108</br>prediction: 0.997</br>slp: 0.56</br></br>age: 50.0</br>sex: 0.0</br>trtbps: 120.0</br>chol: 244.0</br>fbs: 0.0</br>thalachh: 162.0</br>oldpeak: 1.1</br>thall: 2.0</br>exng_1: 0.0</br>caa_1: 0.0</br>caa_2: 0.0</br>caa_3: 0.0</br>caa_4: 0.0</br>cp_1: 1.0</br>cp_2: 0.0</br>cp_3: 0.0</br>restecg_1: 1.0</br>restecg_2: 0.0</br>_original_yhat_: 0.9995338916778564</br>"
          ],
          [
           "</br>id: 108</br>prediction: 0.997</br>slp: 0.58</br></br>age: 50.0</br>sex: 0.0</br>trtbps: 120.0</br>chol: 244.0</br>fbs: 0.0</br>thalachh: 162.0</br>oldpeak: 1.1</br>thall: 2.0</br>exng_1: 0.0</br>caa_1: 0.0</br>caa_2: 0.0</br>caa_3: 0.0</br>caa_4: 0.0</br>cp_1: 1.0</br>cp_2: 0.0</br>cp_3: 0.0</br>restecg_1: 1.0</br>restecg_2: 0.0</br>_original_yhat_: 0.9995338916778564</br>"
          ],
          [
           "</br>id: 108</br>prediction: 0.997</br>slp: 0.6</br></br>age: 50.0</br>sex: 0.0</br>trtbps: 120.0</br>chol: 244.0</br>fbs: 0.0</br>thalachh: 162.0</br>oldpeak: 1.1</br>thall: 2.0</br>exng_1: 0.0</br>caa_1: 0.0</br>caa_2: 0.0</br>caa_3: 0.0</br>caa_4: 0.0</br>cp_1: 1.0</br>cp_2: 0.0</br>cp_3: 0.0</br>restecg_1: 1.0</br>restecg_2: 0.0</br>_original_yhat_: 0.9995338916778564</br>"
          ],
          [
           "</br>id: 108</br>prediction: 0.997</br>slp: 0.62</br></br>age: 50.0</br>sex: 0.0</br>trtbps: 120.0</br>chol: 244.0</br>fbs: 0.0</br>thalachh: 162.0</br>oldpeak: 1.1</br>thall: 2.0</br>exng_1: 0.0</br>caa_1: 0.0</br>caa_2: 0.0</br>caa_3: 0.0</br>caa_4: 0.0</br>cp_1: 1.0</br>cp_2: 0.0</br>cp_3: 0.0</br>restecg_1: 1.0</br>restecg_2: 0.0</br>_original_yhat_: 0.9995338916778564</br>"
          ],
          [
           "</br>id: 108</br>prediction: 0.997</br>slp: 0.64</br></br>age: 50.0</br>sex: 0.0</br>trtbps: 120.0</br>chol: 244.0</br>fbs: 0.0</br>thalachh: 162.0</br>oldpeak: 1.1</br>thall: 2.0</br>exng_1: 0.0</br>caa_1: 0.0</br>caa_2: 0.0</br>caa_3: 0.0</br>caa_4: 0.0</br>cp_1: 1.0</br>cp_2: 0.0</br>cp_3: 0.0</br>restecg_1: 1.0</br>restecg_2: 0.0</br>_original_yhat_: 0.9995338916778564</br>"
          ],
          [
           "</br>id: 108</br>prediction: 0.997</br>slp: 0.66</br></br>age: 50.0</br>sex: 0.0</br>trtbps: 120.0</br>chol: 244.0</br>fbs: 0.0</br>thalachh: 162.0</br>oldpeak: 1.1</br>thall: 2.0</br>exng_1: 0.0</br>caa_1: 0.0</br>caa_2: 0.0</br>caa_3: 0.0</br>caa_4: 0.0</br>cp_1: 1.0</br>cp_2: 0.0</br>cp_3: 0.0</br>restecg_1: 1.0</br>restecg_2: 0.0</br>_original_yhat_: 0.9995338916778564</br>"
          ],
          [
           "</br>id: 108</br>prediction: 0.997</br>slp: 0.68</br></br>age: 50.0</br>sex: 0.0</br>trtbps: 120.0</br>chol: 244.0</br>fbs: 0.0</br>thalachh: 162.0</br>oldpeak: 1.1</br>thall: 2.0</br>exng_1: 0.0</br>caa_1: 0.0</br>caa_2: 0.0</br>caa_3: 0.0</br>caa_4: 0.0</br>cp_1: 1.0</br>cp_2: 0.0</br>cp_3: 0.0</br>restecg_1: 1.0</br>restecg_2: 0.0</br>_original_yhat_: 0.9995338916778564</br>"
          ],
          [
           "</br>id: 108</br>prediction: 0.997</br>slp: 0.7000000000000001</br></br>age: 50.0</br>sex: 0.0</br>trtbps: 120.0</br>chol: 244.0</br>fbs: 0.0</br>thalachh: 162.0</br>oldpeak: 1.1</br>thall: 2.0</br>exng_1: 0.0</br>caa_1: 0.0</br>caa_2: 0.0</br>caa_3: 0.0</br>caa_4: 0.0</br>cp_1: 1.0</br>cp_2: 0.0</br>cp_3: 0.0</br>restecg_1: 1.0</br>restecg_2: 0.0</br>_original_yhat_: 0.9995338916778564</br>"
          ],
          [
           "</br>id: 108</br>prediction: 0.997</br>slp: 0.72</br></br>age: 50.0</br>sex: 0.0</br>trtbps: 120.0</br>chol: 244.0</br>fbs: 0.0</br>thalachh: 162.0</br>oldpeak: 1.1</br>thall: 2.0</br>exng_1: 0.0</br>caa_1: 0.0</br>caa_2: 0.0</br>caa_3: 0.0</br>caa_4: 0.0</br>cp_1: 1.0</br>cp_2: 0.0</br>cp_3: 0.0</br>restecg_1: 1.0</br>restecg_2: 0.0</br>_original_yhat_: 0.9995338916778564</br>"
          ],
          [
           "</br>id: 108</br>prediction: 0.997</br>slp: 0.74</br></br>age: 50.0</br>sex: 0.0</br>trtbps: 120.0</br>chol: 244.0</br>fbs: 0.0</br>thalachh: 162.0</br>oldpeak: 1.1</br>thall: 2.0</br>exng_1: 0.0</br>caa_1: 0.0</br>caa_2: 0.0</br>caa_3: 0.0</br>caa_4: 0.0</br>cp_1: 1.0</br>cp_2: 0.0</br>cp_3: 0.0</br>restecg_1: 1.0</br>restecg_2: 0.0</br>_original_yhat_: 0.9995338916778564</br>"
          ],
          [
           "</br>id: 108</br>prediction: 0.997</br>slp: 0.76</br></br>age: 50.0</br>sex: 0.0</br>trtbps: 120.0</br>chol: 244.0</br>fbs: 0.0</br>thalachh: 162.0</br>oldpeak: 1.1</br>thall: 2.0</br>exng_1: 0.0</br>caa_1: 0.0</br>caa_2: 0.0</br>caa_3: 0.0</br>caa_4: 0.0</br>cp_1: 1.0</br>cp_2: 0.0</br>cp_3: 0.0</br>restecg_1: 1.0</br>restecg_2: 0.0</br>_original_yhat_: 0.9995338916778564</br>"
          ],
          [
           "</br>id: 108</br>prediction: 0.997</br>slp: 0.78</br></br>age: 50.0</br>sex: 0.0</br>trtbps: 120.0</br>chol: 244.0</br>fbs: 0.0</br>thalachh: 162.0</br>oldpeak: 1.1</br>thall: 2.0</br>exng_1: 0.0</br>caa_1: 0.0</br>caa_2: 0.0</br>caa_3: 0.0</br>caa_4: 0.0</br>cp_1: 1.0</br>cp_2: 0.0</br>cp_3: 0.0</br>restecg_1: 1.0</br>restecg_2: 0.0</br>_original_yhat_: 0.9995338916778564</br>"
          ],
          [
           "</br>id: 108</br>prediction: 0.997</br>slp: 0.8</br></br>age: 50.0</br>sex: 0.0</br>trtbps: 120.0</br>chol: 244.0</br>fbs: 0.0</br>thalachh: 162.0</br>oldpeak: 1.1</br>thall: 2.0</br>exng_1: 0.0</br>caa_1: 0.0</br>caa_2: 0.0</br>caa_3: 0.0</br>caa_4: 0.0</br>cp_1: 1.0</br>cp_2: 0.0</br>cp_3: 0.0</br>restecg_1: 1.0</br>restecg_2: 0.0</br>_original_yhat_: 0.9995338916778564</br>"
          ],
          [
           "</br>id: 108</br>prediction: 0.997</br>slp: 0.8200000000000001</br></br>age: 50.0</br>sex: 0.0</br>trtbps: 120.0</br>chol: 244.0</br>fbs: 0.0</br>thalachh: 162.0</br>oldpeak: 1.1</br>thall: 2.0</br>exng_1: 0.0</br>caa_1: 0.0</br>caa_2: 0.0</br>caa_3: 0.0</br>caa_4: 0.0</br>cp_1: 1.0</br>cp_2: 0.0</br>cp_3: 0.0</br>restecg_1: 1.0</br>restecg_2: 0.0</br>_original_yhat_: 0.9995338916778564</br>"
          ],
          [
           "</br>id: 108</br>prediction: 0.997</br>slp: 0.84</br></br>age: 50.0</br>sex: 0.0</br>trtbps: 120.0</br>chol: 244.0</br>fbs: 0.0</br>thalachh: 162.0</br>oldpeak: 1.1</br>thall: 2.0</br>exng_1: 0.0</br>caa_1: 0.0</br>caa_2: 0.0</br>caa_3: 0.0</br>caa_4: 0.0</br>cp_1: 1.0</br>cp_2: 0.0</br>cp_3: 0.0</br>restecg_1: 1.0</br>restecg_2: 0.0</br>_original_yhat_: 0.9995338916778564</br>"
          ],
          [
           "</br>id: 108</br>prediction: 0.997</br>slp: 0.86</br></br>age: 50.0</br>sex: 0.0</br>trtbps: 120.0</br>chol: 244.0</br>fbs: 0.0</br>thalachh: 162.0</br>oldpeak: 1.1</br>thall: 2.0</br>exng_1: 0.0</br>caa_1: 0.0</br>caa_2: 0.0</br>caa_3: 0.0</br>caa_4: 0.0</br>cp_1: 1.0</br>cp_2: 0.0</br>cp_3: 0.0</br>restecg_1: 1.0</br>restecg_2: 0.0</br>_original_yhat_: 0.9995338916778564</br>"
          ],
          [
           "</br>id: 108</br>prediction: 0.997</br>slp: 0.88</br></br>age: 50.0</br>sex: 0.0</br>trtbps: 120.0</br>chol: 244.0</br>fbs: 0.0</br>thalachh: 162.0</br>oldpeak: 1.1</br>thall: 2.0</br>exng_1: 0.0</br>caa_1: 0.0</br>caa_2: 0.0</br>caa_3: 0.0</br>caa_4: 0.0</br>cp_1: 1.0</br>cp_2: 0.0</br>cp_3: 0.0</br>restecg_1: 1.0</br>restecg_2: 0.0</br>_original_yhat_: 0.9995338916778564</br>"
          ],
          [
           "</br>id: 108</br>prediction: 0.997</br>slp: 0.9</br></br>age: 50.0</br>sex: 0.0</br>trtbps: 120.0</br>chol: 244.0</br>fbs: 0.0</br>thalachh: 162.0</br>oldpeak: 1.1</br>thall: 2.0</br>exng_1: 0.0</br>caa_1: 0.0</br>caa_2: 0.0</br>caa_3: 0.0</br>caa_4: 0.0</br>cp_1: 1.0</br>cp_2: 0.0</br>cp_3: 0.0</br>restecg_1: 1.0</br>restecg_2: 0.0</br>_original_yhat_: 0.9995338916778564</br>"
          ],
          [
           "</br>id: 108</br>prediction: 0.997</br>slp: 0.92</br></br>age: 50.0</br>sex: 0.0</br>trtbps: 120.0</br>chol: 244.0</br>fbs: 0.0</br>thalachh: 162.0</br>oldpeak: 1.1</br>thall: 2.0</br>exng_1: 0.0</br>caa_1: 0.0</br>caa_2: 0.0</br>caa_3: 0.0</br>caa_4: 0.0</br>cp_1: 1.0</br>cp_2: 0.0</br>cp_3: 0.0</br>restecg_1: 1.0</br>restecg_2: 0.0</br>_original_yhat_: 0.9995338916778564</br>"
          ],
          [
           "</br>id: 108</br>prediction: 0.997</br>slp: 0.9400000000000001</br></br>age: 50.0</br>sex: 0.0</br>trtbps: 120.0</br>chol: 244.0</br>fbs: 0.0</br>thalachh: 162.0</br>oldpeak: 1.1</br>thall: 2.0</br>exng_1: 0.0</br>caa_1: 0.0</br>caa_2: 0.0</br>caa_3: 0.0</br>caa_4: 0.0</br>cp_1: 1.0</br>cp_2: 0.0</br>cp_3: 0.0</br>restecg_1: 1.0</br>restecg_2: 0.0</br>_original_yhat_: 0.9995338916778564</br>"
          ],
          [
           "</br>id: 108</br>prediction: 0.997</br>slp: 0.96</br></br>age: 50.0</br>sex: 0.0</br>trtbps: 120.0</br>chol: 244.0</br>fbs: 0.0</br>thalachh: 162.0</br>oldpeak: 1.1</br>thall: 2.0</br>exng_1: 0.0</br>caa_1: 0.0</br>caa_2: 0.0</br>caa_3: 0.0</br>caa_4: 0.0</br>cp_1: 1.0</br>cp_2: 0.0</br>cp_3: 0.0</br>restecg_1: 1.0</br>restecg_2: 0.0</br>_original_yhat_: 0.9995338916778564</br>"
          ],
          [
           "</br>id: 108</br>prediction: 0.997</br>slp: 0.98</br></br>age: 50.0</br>sex: 0.0</br>trtbps: 120.0</br>chol: 244.0</br>fbs: 0.0</br>thalachh: 162.0</br>oldpeak: 1.1</br>thall: 2.0</br>exng_1: 0.0</br>caa_1: 0.0</br>caa_2: 0.0</br>caa_3: 0.0</br>caa_4: 0.0</br>cp_1: 1.0</br>cp_2: 0.0</br>cp_3: 0.0</br>restecg_1: 1.0</br>restecg_2: 0.0</br>_original_yhat_: 0.9995338916778564</br>"
          ],
          [
           "</br>id: 108</br>prediction: 0.997</br>slp: 1.0</br></br>age: 50.0</br>sex: 0.0</br>trtbps: 120.0</br>chol: 244.0</br>fbs: 0.0</br>thalachh: 162.0</br>oldpeak: 1.1</br>thall: 2.0</br>exng_1: 0.0</br>caa_1: 0.0</br>caa_2: 0.0</br>caa_3: 0.0</br>caa_4: 0.0</br>cp_1: 1.0</br>cp_2: 0.0</br>cp_3: 0.0</br>restecg_1: 1.0</br>restecg_2: 0.0</br>_original_yhat_: 0.9995338916778564</br>"
          ],
          [
           "</br>id: 108</br>prediction: 0.997</br>slp: 1.02</br></br>age: 50.0</br>sex: 0.0</br>trtbps: 120.0</br>chol: 244.0</br>fbs: 0.0</br>thalachh: 162.0</br>oldpeak: 1.1</br>thall: 2.0</br>exng_1: 0.0</br>caa_1: 0.0</br>caa_2: 0.0</br>caa_3: 0.0</br>caa_4: 0.0</br>cp_1: 1.0</br>cp_2: 0.0</br>cp_3: 0.0</br>restecg_1: 1.0</br>restecg_2: 0.0</br>_original_yhat_: 0.9995338916778564</br>"
          ],
          [
           "</br>id: 108</br>prediction: 0.997</br>slp: 1.04</br></br>age: 50.0</br>sex: 0.0</br>trtbps: 120.0</br>chol: 244.0</br>fbs: 0.0</br>thalachh: 162.0</br>oldpeak: 1.1</br>thall: 2.0</br>exng_1: 0.0</br>caa_1: 0.0</br>caa_2: 0.0</br>caa_3: 0.0</br>caa_4: 0.0</br>cp_1: 1.0</br>cp_2: 0.0</br>cp_3: 0.0</br>restecg_1: 1.0</br>restecg_2: 0.0</br>_original_yhat_: 0.9995338916778564</br>"
          ],
          [
           "</br>id: 108</br>prediction: 0.997</br>slp: 1.06</br></br>age: 50.0</br>sex: 0.0</br>trtbps: 120.0</br>chol: 244.0</br>fbs: 0.0</br>thalachh: 162.0</br>oldpeak: 1.1</br>thall: 2.0</br>exng_1: 0.0</br>caa_1: 0.0</br>caa_2: 0.0</br>caa_3: 0.0</br>caa_4: 0.0</br>cp_1: 1.0</br>cp_2: 0.0</br>cp_3: 0.0</br>restecg_1: 1.0</br>restecg_2: 0.0</br>_original_yhat_: 0.9995338916778564</br>"
          ],
          [
           "</br>id: 108</br>prediction: 0.997</br>slp: 1.08</br></br>age: 50.0</br>sex: 0.0</br>trtbps: 120.0</br>chol: 244.0</br>fbs: 0.0</br>thalachh: 162.0</br>oldpeak: 1.1</br>thall: 2.0</br>exng_1: 0.0</br>caa_1: 0.0</br>caa_2: 0.0</br>caa_3: 0.0</br>caa_4: 0.0</br>cp_1: 1.0</br>cp_2: 0.0</br>cp_3: 0.0</br>restecg_1: 1.0</br>restecg_2: 0.0</br>_original_yhat_: 0.9995338916778564</br>"
          ],
          [
           "</br>id: 108</br>prediction: 0.997</br>slp: 1.1</br></br>age: 50.0</br>sex: 0.0</br>trtbps: 120.0</br>chol: 244.0</br>fbs: 0.0</br>thalachh: 162.0</br>oldpeak: 1.1</br>thall: 2.0</br>exng_1: 0.0</br>caa_1: 0.0</br>caa_2: 0.0</br>caa_3: 0.0</br>caa_4: 0.0</br>cp_1: 1.0</br>cp_2: 0.0</br>cp_3: 0.0</br>restecg_1: 1.0</br>restecg_2: 0.0</br>_original_yhat_: 0.9995338916778564</br>"
          ],
          [
           "</br>id: 108</br>prediction: 0.997</br>slp: 1.12</br></br>age: 50.0</br>sex: 0.0</br>trtbps: 120.0</br>chol: 244.0</br>fbs: 0.0</br>thalachh: 162.0</br>oldpeak: 1.1</br>thall: 2.0</br>exng_1: 0.0</br>caa_1: 0.0</br>caa_2: 0.0</br>caa_3: 0.0</br>caa_4: 0.0</br>cp_1: 1.0</br>cp_2: 0.0</br>cp_3: 0.0</br>restecg_1: 1.0</br>restecg_2: 0.0</br>_original_yhat_: 0.9995338916778564</br>"
          ],
          [
           "</br>id: 108</br>prediction: 0.997</br>slp: 1.1400000000000001</br></br>age: 50.0</br>sex: 0.0</br>trtbps: 120.0</br>chol: 244.0</br>fbs: 0.0</br>thalachh: 162.0</br>oldpeak: 1.1</br>thall: 2.0</br>exng_1: 0.0</br>caa_1: 0.0</br>caa_2: 0.0</br>caa_3: 0.0</br>caa_4: 0.0</br>cp_1: 1.0</br>cp_2: 0.0</br>cp_3: 0.0</br>restecg_1: 1.0</br>restecg_2: 0.0</br>_original_yhat_: 0.9995338916778564</br>"
          ],
          [
           "</br>id: 108</br>prediction: 0.997</br>slp: 1.16</br></br>age: 50.0</br>sex: 0.0</br>trtbps: 120.0</br>chol: 244.0</br>fbs: 0.0</br>thalachh: 162.0</br>oldpeak: 1.1</br>thall: 2.0</br>exng_1: 0.0</br>caa_1: 0.0</br>caa_2: 0.0</br>caa_3: 0.0</br>caa_4: 0.0</br>cp_1: 1.0</br>cp_2: 0.0</br>cp_3: 0.0</br>restecg_1: 1.0</br>restecg_2: 0.0</br>_original_yhat_: 0.9995338916778564</br>"
          ],
          [
           "</br>id: 108</br>prediction: 0.997</br>slp: 1.18</br></br>age: 50.0</br>sex: 0.0</br>trtbps: 120.0</br>chol: 244.0</br>fbs: 0.0</br>thalachh: 162.0</br>oldpeak: 1.1</br>thall: 2.0</br>exng_1: 0.0</br>caa_1: 0.0</br>caa_2: 0.0</br>caa_3: 0.0</br>caa_4: 0.0</br>cp_1: 1.0</br>cp_2: 0.0</br>cp_3: 0.0</br>restecg_1: 1.0</br>restecg_2: 0.0</br>_original_yhat_: 0.9995338916778564</br>"
          ],
          [
           "</br>id: 108</br>prediction: 0.997</br>slp: 1.2</br></br>age: 50.0</br>sex: 0.0</br>trtbps: 120.0</br>chol: 244.0</br>fbs: 0.0</br>thalachh: 162.0</br>oldpeak: 1.1</br>thall: 2.0</br>exng_1: 0.0</br>caa_1: 0.0</br>caa_2: 0.0</br>caa_3: 0.0</br>caa_4: 0.0</br>cp_1: 1.0</br>cp_2: 0.0</br>cp_3: 0.0</br>restecg_1: 1.0</br>restecg_2: 0.0</br>_original_yhat_: 0.9995338916778564</br>"
          ],
          [
           "</br>id: 108</br>prediction: 0.997</br>slp: 1.22</br></br>age: 50.0</br>sex: 0.0</br>trtbps: 120.0</br>chol: 244.0</br>fbs: 0.0</br>thalachh: 162.0</br>oldpeak: 1.1</br>thall: 2.0</br>exng_1: 0.0</br>caa_1: 0.0</br>caa_2: 0.0</br>caa_3: 0.0</br>caa_4: 0.0</br>cp_1: 1.0</br>cp_2: 0.0</br>cp_3: 0.0</br>restecg_1: 1.0</br>restecg_2: 0.0</br>_original_yhat_: 0.9995338916778564</br>"
          ],
          [
           "</br>id: 108</br>prediction: 0.997</br>slp: 1.24</br></br>age: 50.0</br>sex: 0.0</br>trtbps: 120.0</br>chol: 244.0</br>fbs: 0.0</br>thalachh: 162.0</br>oldpeak: 1.1</br>thall: 2.0</br>exng_1: 0.0</br>caa_1: 0.0</br>caa_2: 0.0</br>caa_3: 0.0</br>caa_4: 0.0</br>cp_1: 1.0</br>cp_2: 0.0</br>cp_3: 0.0</br>restecg_1: 1.0</br>restecg_2: 0.0</br>_original_yhat_: 0.9995338916778564</br>"
          ],
          [
           "</br>id: 108</br>prediction: 0.997</br>slp: 1.26</br></br>age: 50.0</br>sex: 0.0</br>trtbps: 120.0</br>chol: 244.0</br>fbs: 0.0</br>thalachh: 162.0</br>oldpeak: 1.1</br>thall: 2.0</br>exng_1: 0.0</br>caa_1: 0.0</br>caa_2: 0.0</br>caa_3: 0.0</br>caa_4: 0.0</br>cp_1: 1.0</br>cp_2: 0.0</br>cp_3: 0.0</br>restecg_1: 1.0</br>restecg_2: 0.0</br>_original_yhat_: 0.9995338916778564</br>"
          ],
          [
           "</br>id: 108</br>prediction: 0.997</br>slp: 1.28</br></br>age: 50.0</br>sex: 0.0</br>trtbps: 120.0</br>chol: 244.0</br>fbs: 0.0</br>thalachh: 162.0</br>oldpeak: 1.1</br>thall: 2.0</br>exng_1: 0.0</br>caa_1: 0.0</br>caa_2: 0.0</br>caa_3: 0.0</br>caa_4: 0.0</br>cp_1: 1.0</br>cp_2: 0.0</br>cp_3: 0.0</br>restecg_1: 1.0</br>restecg_2: 0.0</br>_original_yhat_: 0.9995338916778564</br>"
          ],
          [
           "</br>id: 108</br>prediction: 0.997</br>slp: 1.3</br></br>age: 50.0</br>sex: 0.0</br>trtbps: 120.0</br>chol: 244.0</br>fbs: 0.0</br>thalachh: 162.0</br>oldpeak: 1.1</br>thall: 2.0</br>exng_1: 0.0</br>caa_1: 0.0</br>caa_2: 0.0</br>caa_3: 0.0</br>caa_4: 0.0</br>cp_1: 1.0</br>cp_2: 0.0</br>cp_3: 0.0</br>restecg_1: 1.0</br>restecg_2: 0.0</br>_original_yhat_: 0.9995338916778564</br>"
          ],
          [
           "</br>id: 108</br>prediction: 0.997</br>slp: 1.32</br></br>age: 50.0</br>sex: 0.0</br>trtbps: 120.0</br>chol: 244.0</br>fbs: 0.0</br>thalachh: 162.0</br>oldpeak: 1.1</br>thall: 2.0</br>exng_1: 0.0</br>caa_1: 0.0</br>caa_2: 0.0</br>caa_3: 0.0</br>caa_4: 0.0</br>cp_1: 1.0</br>cp_2: 0.0</br>cp_3: 0.0</br>restecg_1: 1.0</br>restecg_2: 0.0</br>_original_yhat_: 0.9995338916778564</br>"
          ],
          [
           "</br>id: 108</br>prediction: 0.997</br>slp: 1.34</br></br>age: 50.0</br>sex: 0.0</br>trtbps: 120.0</br>chol: 244.0</br>fbs: 0.0</br>thalachh: 162.0</br>oldpeak: 1.1</br>thall: 2.0</br>exng_1: 0.0</br>caa_1: 0.0</br>caa_2: 0.0</br>caa_3: 0.0</br>caa_4: 0.0</br>cp_1: 1.0</br>cp_2: 0.0</br>cp_3: 0.0</br>restecg_1: 1.0</br>restecg_2: 0.0</br>_original_yhat_: 0.9995338916778564</br>"
          ],
          [
           "</br>id: 108</br>prediction: 0.997</br>slp: 1.36</br></br>age: 50.0</br>sex: 0.0</br>trtbps: 120.0</br>chol: 244.0</br>fbs: 0.0</br>thalachh: 162.0</br>oldpeak: 1.1</br>thall: 2.0</br>exng_1: 0.0</br>caa_1: 0.0</br>caa_2: 0.0</br>caa_3: 0.0</br>caa_4: 0.0</br>cp_1: 1.0</br>cp_2: 0.0</br>cp_3: 0.0</br>restecg_1: 1.0</br>restecg_2: 0.0</br>_original_yhat_: 0.9995338916778564</br>"
          ],
          [
           "</br>id: 108</br>prediction: 0.997</br>slp: 1.3800000000000001</br></br>age: 50.0</br>sex: 0.0</br>trtbps: 120.0</br>chol: 244.0</br>fbs: 0.0</br>thalachh: 162.0</br>oldpeak: 1.1</br>thall: 2.0</br>exng_1: 0.0</br>caa_1: 0.0</br>caa_2: 0.0</br>caa_3: 0.0</br>caa_4: 0.0</br>cp_1: 1.0</br>cp_2: 0.0</br>cp_3: 0.0</br>restecg_1: 1.0</br>restecg_2: 0.0</br>_original_yhat_: 0.9995338916778564</br>"
          ],
          [
           "</br>id: 108</br>prediction: 0.997</br>slp: 1.4000000000000001</br></br>age: 50.0</br>sex: 0.0</br>trtbps: 120.0</br>chol: 244.0</br>fbs: 0.0</br>thalachh: 162.0</br>oldpeak: 1.1</br>thall: 2.0</br>exng_1: 0.0</br>caa_1: 0.0</br>caa_2: 0.0</br>caa_3: 0.0</br>caa_4: 0.0</br>cp_1: 1.0</br>cp_2: 0.0</br>cp_3: 0.0</br>restecg_1: 1.0</br>restecg_2: 0.0</br>_original_yhat_: 0.9995338916778564</br>"
          ],
          [
           "</br>id: 108</br>prediction: 0.997</br>slp: 1.42</br></br>age: 50.0</br>sex: 0.0</br>trtbps: 120.0</br>chol: 244.0</br>fbs: 0.0</br>thalachh: 162.0</br>oldpeak: 1.1</br>thall: 2.0</br>exng_1: 0.0</br>caa_1: 0.0</br>caa_2: 0.0</br>caa_3: 0.0</br>caa_4: 0.0</br>cp_1: 1.0</br>cp_2: 0.0</br>cp_3: 0.0</br>restecg_1: 1.0</br>restecg_2: 0.0</br>_original_yhat_: 0.9995338916778564</br>"
          ],
          [
           "</br>id: 108</br>prediction: 0.997</br>slp: 1.44</br></br>age: 50.0</br>sex: 0.0</br>trtbps: 120.0</br>chol: 244.0</br>fbs: 0.0</br>thalachh: 162.0</br>oldpeak: 1.1</br>thall: 2.0</br>exng_1: 0.0</br>caa_1: 0.0</br>caa_2: 0.0</br>caa_3: 0.0</br>caa_4: 0.0</br>cp_1: 1.0</br>cp_2: 0.0</br>cp_3: 0.0</br>restecg_1: 1.0</br>restecg_2: 0.0</br>_original_yhat_: 0.9995338916778564</br>"
          ],
          [
           "</br>id: 108</br>prediction: 0.997</br>slp: 1.46</br></br>age: 50.0</br>sex: 0.0</br>trtbps: 120.0</br>chol: 244.0</br>fbs: 0.0</br>thalachh: 162.0</br>oldpeak: 1.1</br>thall: 2.0</br>exng_1: 0.0</br>caa_1: 0.0</br>caa_2: 0.0</br>caa_3: 0.0</br>caa_4: 0.0</br>cp_1: 1.0</br>cp_2: 0.0</br>cp_3: 0.0</br>restecg_1: 1.0</br>restecg_2: 0.0</br>_original_yhat_: 0.9995338916778564</br>"
          ],
          [
           "</br>id: 108</br>prediction: 0.997</br>slp: 1.48</br></br>age: 50.0</br>sex: 0.0</br>trtbps: 120.0</br>chol: 244.0</br>fbs: 0.0</br>thalachh: 162.0</br>oldpeak: 1.1</br>thall: 2.0</br>exng_1: 0.0</br>caa_1: 0.0</br>caa_2: 0.0</br>caa_3: 0.0</br>caa_4: 0.0</br>cp_1: 1.0</br>cp_2: 0.0</br>cp_3: 0.0</br>restecg_1: 1.0</br>restecg_2: 0.0</br>_original_yhat_: 0.9995338916778564</br>"
          ],
          [
           "</br>id: 108</br>prediction: 1.0</br>slp: 1.5</br></br>age: 50.0</br>sex: 0.0</br>trtbps: 120.0</br>chol: 244.0</br>fbs: 0.0</br>thalachh: 162.0</br>oldpeak: 1.1</br>thall: 2.0</br>exng_1: 0.0</br>caa_1: 0.0</br>caa_2: 0.0</br>caa_3: 0.0</br>caa_4: 0.0</br>cp_1: 1.0</br>cp_2: 0.0</br>cp_3: 0.0</br>restecg_1: 1.0</br>restecg_2: 0.0</br>_original_yhat_: 0.9995338916778564</br>"
          ],
          [
           "</br>id: 108</br>prediction: 1.0</br>slp: 1.52</br></br>age: 50.0</br>sex: 0.0</br>trtbps: 120.0</br>chol: 244.0</br>fbs: 0.0</br>thalachh: 162.0</br>oldpeak: 1.1</br>thall: 2.0</br>exng_1: 0.0</br>caa_1: 0.0</br>caa_2: 0.0</br>caa_3: 0.0</br>caa_4: 0.0</br>cp_1: 1.0</br>cp_2: 0.0</br>cp_3: 0.0</br>restecg_1: 1.0</br>restecg_2: 0.0</br>_original_yhat_: 0.9995338916778564</br>"
          ],
          [
           "</br>id: 108</br>prediction: 1.0</br>slp: 1.54</br></br>age: 50.0</br>sex: 0.0</br>trtbps: 120.0</br>chol: 244.0</br>fbs: 0.0</br>thalachh: 162.0</br>oldpeak: 1.1</br>thall: 2.0</br>exng_1: 0.0</br>caa_1: 0.0</br>caa_2: 0.0</br>caa_3: 0.0</br>caa_4: 0.0</br>cp_1: 1.0</br>cp_2: 0.0</br>cp_3: 0.0</br>restecg_1: 1.0</br>restecg_2: 0.0</br>_original_yhat_: 0.9995338916778564</br>"
          ],
          [
           "</br>id: 108</br>prediction: 1.0</br>slp: 1.56</br></br>age: 50.0</br>sex: 0.0</br>trtbps: 120.0</br>chol: 244.0</br>fbs: 0.0</br>thalachh: 162.0</br>oldpeak: 1.1</br>thall: 2.0</br>exng_1: 0.0</br>caa_1: 0.0</br>caa_2: 0.0</br>caa_3: 0.0</br>caa_4: 0.0</br>cp_1: 1.0</br>cp_2: 0.0</br>cp_3: 0.0</br>restecg_1: 1.0</br>restecg_2: 0.0</br>_original_yhat_: 0.9995338916778564</br>"
          ],
          [
           "</br>id: 108</br>prediction: 1.0</br>slp: 1.58</br></br>age: 50.0</br>sex: 0.0</br>trtbps: 120.0</br>chol: 244.0</br>fbs: 0.0</br>thalachh: 162.0</br>oldpeak: 1.1</br>thall: 2.0</br>exng_1: 0.0</br>caa_1: 0.0</br>caa_2: 0.0</br>caa_3: 0.0</br>caa_4: 0.0</br>cp_1: 1.0</br>cp_2: 0.0</br>cp_3: 0.0</br>restecg_1: 1.0</br>restecg_2: 0.0</br>_original_yhat_: 0.9995338916778564</br>"
          ],
          [
           "</br>id: 108</br>prediction: 1.0</br>slp: 1.6</br></br>age: 50.0</br>sex: 0.0</br>trtbps: 120.0</br>chol: 244.0</br>fbs: 0.0</br>thalachh: 162.0</br>oldpeak: 1.1</br>thall: 2.0</br>exng_1: 0.0</br>caa_1: 0.0</br>caa_2: 0.0</br>caa_3: 0.0</br>caa_4: 0.0</br>cp_1: 1.0</br>cp_2: 0.0</br>cp_3: 0.0</br>restecg_1: 1.0</br>restecg_2: 0.0</br>_original_yhat_: 0.9995338916778564</br>"
          ],
          [
           "</br>id: 108</br>prediction: 1.0</br>slp: 1.62</br></br>age: 50.0</br>sex: 0.0</br>trtbps: 120.0</br>chol: 244.0</br>fbs: 0.0</br>thalachh: 162.0</br>oldpeak: 1.1</br>thall: 2.0</br>exng_1: 0.0</br>caa_1: 0.0</br>caa_2: 0.0</br>caa_3: 0.0</br>caa_4: 0.0</br>cp_1: 1.0</br>cp_2: 0.0</br>cp_3: 0.0</br>restecg_1: 1.0</br>restecg_2: 0.0</br>_original_yhat_: 0.9995338916778564</br>"
          ],
          [
           "</br>id: 108</br>prediction: 1.0</br>slp: 1.6400000000000001</br></br>age: 50.0</br>sex: 0.0</br>trtbps: 120.0</br>chol: 244.0</br>fbs: 0.0</br>thalachh: 162.0</br>oldpeak: 1.1</br>thall: 2.0</br>exng_1: 0.0</br>caa_1: 0.0</br>caa_2: 0.0</br>caa_3: 0.0</br>caa_4: 0.0</br>cp_1: 1.0</br>cp_2: 0.0</br>cp_3: 0.0</br>restecg_1: 1.0</br>restecg_2: 0.0</br>_original_yhat_: 0.9995338916778564</br>"
          ],
          [
           "</br>id: 108</br>prediction: 1.0</br>slp: 1.6600000000000001</br></br>age: 50.0</br>sex: 0.0</br>trtbps: 120.0</br>chol: 244.0</br>fbs: 0.0</br>thalachh: 162.0</br>oldpeak: 1.1</br>thall: 2.0</br>exng_1: 0.0</br>caa_1: 0.0</br>caa_2: 0.0</br>caa_3: 0.0</br>caa_4: 0.0</br>cp_1: 1.0</br>cp_2: 0.0</br>cp_3: 0.0</br>restecg_1: 1.0</br>restecg_2: 0.0</br>_original_yhat_: 0.9995338916778564</br>"
          ],
          [
           "</br>id: 108</br>prediction: 1.0</br>slp: 1.68</br></br>age: 50.0</br>sex: 0.0</br>trtbps: 120.0</br>chol: 244.0</br>fbs: 0.0</br>thalachh: 162.0</br>oldpeak: 1.1</br>thall: 2.0</br>exng_1: 0.0</br>caa_1: 0.0</br>caa_2: 0.0</br>caa_3: 0.0</br>caa_4: 0.0</br>cp_1: 1.0</br>cp_2: 0.0</br>cp_3: 0.0</br>restecg_1: 1.0</br>restecg_2: 0.0</br>_original_yhat_: 0.9995338916778564</br>"
          ],
          [
           "</br>id: 108</br>prediction: 1.0</br>slp: 1.7</br></br>age: 50.0</br>sex: 0.0</br>trtbps: 120.0</br>chol: 244.0</br>fbs: 0.0</br>thalachh: 162.0</br>oldpeak: 1.1</br>thall: 2.0</br>exng_1: 0.0</br>caa_1: 0.0</br>caa_2: 0.0</br>caa_3: 0.0</br>caa_4: 0.0</br>cp_1: 1.0</br>cp_2: 0.0</br>cp_3: 0.0</br>restecg_1: 1.0</br>restecg_2: 0.0</br>_original_yhat_: 0.9995338916778564</br>"
          ],
          [
           "</br>id: 108</br>prediction: 1.0</br>slp: 1.72</br></br>age: 50.0</br>sex: 0.0</br>trtbps: 120.0</br>chol: 244.0</br>fbs: 0.0</br>thalachh: 162.0</br>oldpeak: 1.1</br>thall: 2.0</br>exng_1: 0.0</br>caa_1: 0.0</br>caa_2: 0.0</br>caa_3: 0.0</br>caa_4: 0.0</br>cp_1: 1.0</br>cp_2: 0.0</br>cp_3: 0.0</br>restecg_1: 1.0</br>restecg_2: 0.0</br>_original_yhat_: 0.9995338916778564</br>"
          ],
          [
           "</br>id: 108</br>prediction: 1.0</br>slp: 1.74</br></br>age: 50.0</br>sex: 0.0</br>trtbps: 120.0</br>chol: 244.0</br>fbs: 0.0</br>thalachh: 162.0</br>oldpeak: 1.1</br>thall: 2.0</br>exng_1: 0.0</br>caa_1: 0.0</br>caa_2: 0.0</br>caa_3: 0.0</br>caa_4: 0.0</br>cp_1: 1.0</br>cp_2: 0.0</br>cp_3: 0.0</br>restecg_1: 1.0</br>restecg_2: 0.0</br>_original_yhat_: 0.9995338916778564</br>"
          ],
          [
           "</br>id: 108</br>prediction: 1.0</br>slp: 1.76</br></br>age: 50.0</br>sex: 0.0</br>trtbps: 120.0</br>chol: 244.0</br>fbs: 0.0</br>thalachh: 162.0</br>oldpeak: 1.1</br>thall: 2.0</br>exng_1: 0.0</br>caa_1: 0.0</br>caa_2: 0.0</br>caa_3: 0.0</br>caa_4: 0.0</br>cp_1: 1.0</br>cp_2: 0.0</br>cp_3: 0.0</br>restecg_1: 1.0</br>restecg_2: 0.0</br>_original_yhat_: 0.9995338916778564</br>"
          ],
          [
           "</br>id: 108</br>prediction: 1.0</br>slp: 1.78</br></br>age: 50.0</br>sex: 0.0</br>trtbps: 120.0</br>chol: 244.0</br>fbs: 0.0</br>thalachh: 162.0</br>oldpeak: 1.1</br>thall: 2.0</br>exng_1: 0.0</br>caa_1: 0.0</br>caa_2: 0.0</br>caa_3: 0.0</br>caa_4: 0.0</br>cp_1: 1.0</br>cp_2: 0.0</br>cp_3: 0.0</br>restecg_1: 1.0</br>restecg_2: 0.0</br>_original_yhat_: 0.9995338916778564</br>"
          ],
          [
           "</br>id: 108</br>prediction: 1.0</br>slp: 1.8</br></br>age: 50.0</br>sex: 0.0</br>trtbps: 120.0</br>chol: 244.0</br>fbs: 0.0</br>thalachh: 162.0</br>oldpeak: 1.1</br>thall: 2.0</br>exng_1: 0.0</br>caa_1: 0.0</br>caa_2: 0.0</br>caa_3: 0.0</br>caa_4: 0.0</br>cp_1: 1.0</br>cp_2: 0.0</br>cp_3: 0.0</br>restecg_1: 1.0</br>restecg_2: 0.0</br>_original_yhat_: 0.9995338916778564</br>"
          ],
          [
           "</br>id: 108</br>prediction: 1.0</br>slp: 1.82</br></br>age: 50.0</br>sex: 0.0</br>trtbps: 120.0</br>chol: 244.0</br>fbs: 0.0</br>thalachh: 162.0</br>oldpeak: 1.1</br>thall: 2.0</br>exng_1: 0.0</br>caa_1: 0.0</br>caa_2: 0.0</br>caa_3: 0.0</br>caa_4: 0.0</br>cp_1: 1.0</br>cp_2: 0.0</br>cp_3: 0.0</br>restecg_1: 1.0</br>restecg_2: 0.0</br>_original_yhat_: 0.9995338916778564</br>"
          ],
          [
           "</br>id: 108</br>prediction: 1.0</br>slp: 1.84</br></br>age: 50.0</br>sex: 0.0</br>trtbps: 120.0</br>chol: 244.0</br>fbs: 0.0</br>thalachh: 162.0</br>oldpeak: 1.1</br>thall: 2.0</br>exng_1: 0.0</br>caa_1: 0.0</br>caa_2: 0.0</br>caa_3: 0.0</br>caa_4: 0.0</br>cp_1: 1.0</br>cp_2: 0.0</br>cp_3: 0.0</br>restecg_1: 1.0</br>restecg_2: 0.0</br>_original_yhat_: 0.9995338916778564</br>"
          ],
          [
           "</br>id: 108</br>prediction: 1.0</br>slp: 1.86</br></br>age: 50.0</br>sex: 0.0</br>trtbps: 120.0</br>chol: 244.0</br>fbs: 0.0</br>thalachh: 162.0</br>oldpeak: 1.1</br>thall: 2.0</br>exng_1: 0.0</br>caa_1: 0.0</br>caa_2: 0.0</br>caa_3: 0.0</br>caa_4: 0.0</br>cp_1: 1.0</br>cp_2: 0.0</br>cp_3: 0.0</br>restecg_1: 1.0</br>restecg_2: 0.0</br>_original_yhat_: 0.9995338916778564</br>"
          ],
          [
           "</br>id: 108</br>prediction: 1.0</br>slp: 1.8800000000000001</br></br>age: 50.0</br>sex: 0.0</br>trtbps: 120.0</br>chol: 244.0</br>fbs: 0.0</br>thalachh: 162.0</br>oldpeak: 1.1</br>thall: 2.0</br>exng_1: 0.0</br>caa_1: 0.0</br>caa_2: 0.0</br>caa_3: 0.0</br>caa_4: 0.0</br>cp_1: 1.0</br>cp_2: 0.0</br>cp_3: 0.0</br>restecg_1: 1.0</br>restecg_2: 0.0</br>_original_yhat_: 0.9995338916778564</br>"
          ],
          [
           "</br>id: 108</br>prediction: 1.0</br>slp: 1.9000000000000001</br></br>age: 50.0</br>sex: 0.0</br>trtbps: 120.0</br>chol: 244.0</br>fbs: 0.0</br>thalachh: 162.0</br>oldpeak: 1.1</br>thall: 2.0</br>exng_1: 0.0</br>caa_1: 0.0</br>caa_2: 0.0</br>caa_3: 0.0</br>caa_4: 0.0</br>cp_1: 1.0</br>cp_2: 0.0</br>cp_3: 0.0</br>restecg_1: 1.0</br>restecg_2: 0.0</br>_original_yhat_: 0.9995338916778564</br>"
          ],
          [
           "</br>id: 108</br>prediction: 1.0</br>slp: 1.92</br></br>age: 50.0</br>sex: 0.0</br>trtbps: 120.0</br>chol: 244.0</br>fbs: 0.0</br>thalachh: 162.0</br>oldpeak: 1.1</br>thall: 2.0</br>exng_1: 0.0</br>caa_1: 0.0</br>caa_2: 0.0</br>caa_3: 0.0</br>caa_4: 0.0</br>cp_1: 1.0</br>cp_2: 0.0</br>cp_3: 0.0</br>restecg_1: 1.0</br>restecg_2: 0.0</br>_original_yhat_: 0.9995338916778564</br>"
          ],
          [
           "</br>id: 108</br>prediction: 1.0</br>slp: 1.94</br></br>age: 50.0</br>sex: 0.0</br>trtbps: 120.0</br>chol: 244.0</br>fbs: 0.0</br>thalachh: 162.0</br>oldpeak: 1.1</br>thall: 2.0</br>exng_1: 0.0</br>caa_1: 0.0</br>caa_2: 0.0</br>caa_3: 0.0</br>caa_4: 0.0</br>cp_1: 1.0</br>cp_2: 0.0</br>cp_3: 0.0</br>restecg_1: 1.0</br>restecg_2: 0.0</br>_original_yhat_: 0.9995338916778564</br>"
          ],
          [
           "</br>id: 108</br>prediction: 1.0</br>slp: 1.96</br></br>age: 50.0</br>sex: 0.0</br>trtbps: 120.0</br>chol: 244.0</br>fbs: 0.0</br>thalachh: 162.0</br>oldpeak: 1.1</br>thall: 2.0</br>exng_1: 0.0</br>caa_1: 0.0</br>caa_2: 0.0</br>caa_3: 0.0</br>caa_4: 0.0</br>cp_1: 1.0</br>cp_2: 0.0</br>cp_3: 0.0</br>restecg_1: 1.0</br>restecg_2: 0.0</br>_original_yhat_: 0.9995338916778564</br>"
          ],
          [
           "</br>id: 108</br>prediction: 1.0</br>slp: 1.98</br></br>age: 50.0</br>sex: 0.0</br>trtbps: 120.0</br>chol: 244.0</br>fbs: 0.0</br>thalachh: 162.0</br>oldpeak: 1.1</br>thall: 2.0</br>exng_1: 0.0</br>caa_1: 0.0</br>caa_2: 0.0</br>caa_3: 0.0</br>caa_4: 0.0</br>cp_1: 1.0</br>cp_2: 0.0</br>cp_3: 0.0</br>restecg_1: 1.0</br>restecg_2: 0.0</br>_original_yhat_: 0.9995338916778564</br>"
          ],
          [
           "</br>id: 108</br>prediction: 1.0</br>slp: 2.0</br></br>age: 50.0</br>sex: 0.0</br>trtbps: 120.0</br>chol: 244.0</br>fbs: 0.0</br>thalachh: 162.0</br>oldpeak: 1.1</br>thall: 2.0</br>exng_1: 0.0</br>caa_1: 0.0</br>caa_2: 0.0</br>caa_3: 0.0</br>caa_4: 0.0</br>cp_1: 1.0</br>cp_2: 0.0</br>cp_3: 0.0</br>restecg_1: 1.0</br>restecg_2: 0.0</br>_original_yhat_: 0.9995338916778564</br>"
          ]
         ],
         "hovertemplate": "%{customdata[0]}<extra></extra>",
         "legendgroup": "XGBClassifier",
         "line": {
          "color": "#46bac2",
          "dash": "solid",
          "width": 2
         },
         "marker": {
          "symbol": "circle"
         },
         "mode": "lines",
         "name": "XGBClassifier",
         "orientation": "v",
         "showlegend": false,
         "x": [
          0.0,
          0.02,
          0.04,
          0.06,
          0.08,
          0.1,
          0.12,
          0.14,
          0.16,
          0.18,
          0.2,
          0.22,
          0.24,
          0.26,
          0.28,
          0.3,
          0.32,
          0.34,
          0.36,
          0.38,
          0.4,
          0.42,
          0.44,
          0.46,
          0.48,
          0.5,
          0.52,
          0.54,
          0.56,
          0.58,
          0.6,
          0.62,
          0.64,
          0.66,
          0.68,
          0.7000000000000001,
          0.72,
          0.74,
          0.76,
          0.78,
          0.8,
          0.8200000000000001,
          0.84,
          0.86,
          0.88,
          0.9,
          0.92,
          0.9400000000000001,
          0.96,
          0.98,
          1.0,
          1.02,
          1.04,
          1.06,
          1.08,
          1.1,
          1.12,
          1.1400000000000001,
          1.16,
          1.18,
          1.2,
          1.22,
          1.24,
          1.26,
          1.28,
          1.3,
          1.32,
          1.34,
          1.36,
          1.3800000000000001,
          1.4000000000000001,
          1.42,
          1.44,
          1.46,
          1.48,
          1.5,
          1.52,
          1.54,
          1.56,
          1.58,
          1.6,
          1.62,
          1.6400000000000001,
          1.6600000000000001,
          1.68,
          1.7,
          1.72,
          1.74,
          1.76,
          1.78,
          1.8,
          1.82,
          1.84,
          1.86,
          1.8800000000000001,
          1.9000000000000001,
          1.92,
          1.94,
          1.96,
          1.98,
          2.0
         ],
         "xaxis": "x",
         "y": [
          0.9975945353507996,
          0.9975945353507996,
          0.9975945353507996,
          0.9975945353507996,
          0.9975945353507996,
          0.9975945353507996,
          0.9975945353507996,
          0.9975945353507996,
          0.9975945353507996,
          0.9975945353507996,
          0.9975945353507996,
          0.9975945353507996,
          0.9975945353507996,
          0.9975945353507996,
          0.9975945353507996,
          0.9975945353507996,
          0.9975945353507996,
          0.9975945353507996,
          0.9975945353507996,
          0.9975945353507996,
          0.9975945353507996,
          0.9975945353507996,
          0.9975945353507996,
          0.9975945353507996,
          0.9975945353507996,
          0.9972819089889526,
          0.9972819089889526,
          0.9972819089889526,
          0.9972819089889526,
          0.9972819089889526,
          0.9972819089889526,
          0.9972819089889526,
          0.9972819089889526,
          0.9972819089889526,
          0.9972819089889526,
          0.9972819089889526,
          0.9972819089889526,
          0.9972819089889526,
          0.9972819089889526,
          0.9972819089889526,
          0.9972819089889526,
          0.9972819089889526,
          0.9972819089889526,
          0.9972819089889526,
          0.9972819089889526,
          0.9972819089889526,
          0.9972819089889526,
          0.9972819089889526,
          0.9972819089889526,
          0.9972819089889526,
          0.9972819089889526,
          0.9972819089889526,
          0.9972819089889526,
          0.9972819089889526,
          0.9972819089889526,
          0.9972819089889526,
          0.9972819089889526,
          0.9972819089889526,
          0.9972819089889526,
          0.9972819089889526,
          0.9972819089889526,
          0.9972819089889526,
          0.9972819089889526,
          0.9972819089889526,
          0.9972819089889526,
          0.9972819089889526,
          0.9972819089889526,
          0.9972819089889526,
          0.9972819089889526,
          0.9972819089889526,
          0.9972819089889526,
          0.9972819089889526,
          0.9972819089889526,
          0.9972819089889526,
          0.9972819089889526,
          0.9995338916778564,
          0.9995338916778564,
          0.9995338916778564,
          0.9995338916778564,
          0.9995338916778564,
          0.9995338916778564,
          0.9995338916778564,
          0.9995338916778564,
          0.9995338916778564,
          0.9995338916778564,
          0.9995338916778564,
          0.9995338916778564,
          0.9995338916778564,
          0.9995338916778564,
          0.9995338916778564,
          0.9995338916778564,
          0.9995338916778564,
          0.9995338916778564,
          0.9995338916778564,
          0.9995338916778564,
          0.9995338916778564,
          0.9995338916778564,
          0.9995338916778564,
          0.9995338916778564,
          0.9995338916778564,
          0.9995338916778564
         ],
         "yaxis": "y",
         "type": "scatter",
         "opacity": 1
        },
        {
         "customdata": [
          [
           "</br>id: 14</br>prediction: 0.998</br>chol: 126.0</br></br>age: 58.0</br>sex: 0.0</br>trtbps: 150.0</br>fbs: 1.0</br>thalachh: 162.0</br>oldpeak: 1.0</br>slp: 2.0</br>thall: 2.0</br>exng_1: 0.0</br>caa_1: 0.0</br>caa_2: 0.0</br>caa_3: 0.0</br>caa_4: 0.0</br>cp_1: 0.0</br>cp_2: 0.0</br>cp_3: 1.0</br>restecg_1: 0.0</br>restecg_2: 0.0</br>_original_yhat_: 0.9919773936271667</br>"
          ],
          [
           "</br>id: 14</br>prediction: 0.998</br>chol: 130.38</br></br>age: 58.0</br>sex: 0.0</br>trtbps: 150.0</br>fbs: 1.0</br>thalachh: 162.0</br>oldpeak: 1.0</br>slp: 2.0</br>thall: 2.0</br>exng_1: 0.0</br>caa_1: 0.0</br>caa_2: 0.0</br>caa_3: 0.0</br>caa_4: 0.0</br>cp_1: 0.0</br>cp_2: 0.0</br>cp_3: 1.0</br>restecg_1: 0.0</br>restecg_2: 0.0</br>_original_yhat_: 0.9919773936271667</br>"
          ],
          [
           "</br>id: 14</br>prediction: 0.998</br>chol: 134.76</br></br>age: 58.0</br>sex: 0.0</br>trtbps: 150.0</br>fbs: 1.0</br>thalachh: 162.0</br>oldpeak: 1.0</br>slp: 2.0</br>thall: 2.0</br>exng_1: 0.0</br>caa_1: 0.0</br>caa_2: 0.0</br>caa_3: 0.0</br>caa_4: 0.0</br>cp_1: 0.0</br>cp_2: 0.0</br>cp_3: 1.0</br>restecg_1: 0.0</br>restecg_2: 0.0</br>_original_yhat_: 0.9919773936271667</br>"
          ],
          [
           "</br>id: 14</br>prediction: 0.998</br>chol: 139.14</br></br>age: 58.0</br>sex: 0.0</br>trtbps: 150.0</br>fbs: 1.0</br>thalachh: 162.0</br>oldpeak: 1.0</br>slp: 2.0</br>thall: 2.0</br>exng_1: 0.0</br>caa_1: 0.0</br>caa_2: 0.0</br>caa_3: 0.0</br>caa_4: 0.0</br>cp_1: 0.0</br>cp_2: 0.0</br>cp_3: 1.0</br>restecg_1: 0.0</br>restecg_2: 0.0</br>_original_yhat_: 0.9919773936271667</br>"
          ],
          [
           "</br>id: 14</br>prediction: 0.998</br>chol: 143.52</br></br>age: 58.0</br>sex: 0.0</br>trtbps: 150.0</br>fbs: 1.0</br>thalachh: 162.0</br>oldpeak: 1.0</br>slp: 2.0</br>thall: 2.0</br>exng_1: 0.0</br>caa_1: 0.0</br>caa_2: 0.0</br>caa_3: 0.0</br>caa_4: 0.0</br>cp_1: 0.0</br>cp_2: 0.0</br>cp_3: 1.0</br>restecg_1: 0.0</br>restecg_2: 0.0</br>_original_yhat_: 0.9919773936271667</br>"
          ],
          [
           "</br>id: 14</br>prediction: 0.998</br>chol: 147.9</br></br>age: 58.0</br>sex: 0.0</br>trtbps: 150.0</br>fbs: 1.0</br>thalachh: 162.0</br>oldpeak: 1.0</br>slp: 2.0</br>thall: 2.0</br>exng_1: 0.0</br>caa_1: 0.0</br>caa_2: 0.0</br>caa_3: 0.0</br>caa_4: 0.0</br>cp_1: 0.0</br>cp_2: 0.0</br>cp_3: 1.0</br>restecg_1: 0.0</br>restecg_2: 0.0</br>_original_yhat_: 0.9919773936271667</br>"
          ],
          [
           "</br>id: 14</br>prediction: 0.998</br>chol: 152.28</br></br>age: 58.0</br>sex: 0.0</br>trtbps: 150.0</br>fbs: 1.0</br>thalachh: 162.0</br>oldpeak: 1.0</br>slp: 2.0</br>thall: 2.0</br>exng_1: 0.0</br>caa_1: 0.0</br>caa_2: 0.0</br>caa_3: 0.0</br>caa_4: 0.0</br>cp_1: 0.0</br>cp_2: 0.0</br>cp_3: 1.0</br>restecg_1: 0.0</br>restecg_2: 0.0</br>_original_yhat_: 0.9919773936271667</br>"
          ],
          [
           "</br>id: 14</br>prediction: 0.998</br>chol: 156.66</br></br>age: 58.0</br>sex: 0.0</br>trtbps: 150.0</br>fbs: 1.0</br>thalachh: 162.0</br>oldpeak: 1.0</br>slp: 2.0</br>thall: 2.0</br>exng_1: 0.0</br>caa_1: 0.0</br>caa_2: 0.0</br>caa_3: 0.0</br>caa_4: 0.0</br>cp_1: 0.0</br>cp_2: 0.0</br>cp_3: 1.0</br>restecg_1: 0.0</br>restecg_2: 0.0</br>_original_yhat_: 0.9919773936271667</br>"
          ],
          [
           "</br>id: 14</br>prediction: 0.998</br>chol: 161.04</br></br>age: 58.0</br>sex: 0.0</br>trtbps: 150.0</br>fbs: 1.0</br>thalachh: 162.0</br>oldpeak: 1.0</br>slp: 2.0</br>thall: 2.0</br>exng_1: 0.0</br>caa_1: 0.0</br>caa_2: 0.0</br>caa_3: 0.0</br>caa_4: 0.0</br>cp_1: 0.0</br>cp_2: 0.0</br>cp_3: 1.0</br>restecg_1: 0.0</br>restecg_2: 0.0</br>_original_yhat_: 0.9919773936271667</br>"
          ],
          [
           "</br>id: 14</br>prediction: 0.998</br>chol: 165.42000000000002</br></br>age: 58.0</br>sex: 0.0</br>trtbps: 150.0</br>fbs: 1.0</br>thalachh: 162.0</br>oldpeak: 1.0</br>slp: 2.0</br>thall: 2.0</br>exng_1: 0.0</br>caa_1: 0.0</br>caa_2: 0.0</br>caa_3: 0.0</br>caa_4: 0.0</br>cp_1: 0.0</br>cp_2: 0.0</br>cp_3: 1.0</br>restecg_1: 0.0</br>restecg_2: 0.0</br>_original_yhat_: 0.9919773936271667</br>"
          ],
          [
           "</br>id: 14</br>prediction: 0.998</br>chol: 169.8</br></br>age: 58.0</br>sex: 0.0</br>trtbps: 150.0</br>fbs: 1.0</br>thalachh: 162.0</br>oldpeak: 1.0</br>slp: 2.0</br>thall: 2.0</br>exng_1: 0.0</br>caa_1: 0.0</br>caa_2: 0.0</br>caa_3: 0.0</br>caa_4: 0.0</br>cp_1: 0.0</br>cp_2: 0.0</br>cp_3: 1.0</br>restecg_1: 0.0</br>restecg_2: 0.0</br>_original_yhat_: 0.9919773936271667</br>"
          ],
          [
           "</br>id: 14</br>prediction: 0.998</br>chol: 174.18</br></br>age: 58.0</br>sex: 0.0</br>trtbps: 150.0</br>fbs: 1.0</br>thalachh: 162.0</br>oldpeak: 1.0</br>slp: 2.0</br>thall: 2.0</br>exng_1: 0.0</br>caa_1: 0.0</br>caa_2: 0.0</br>caa_3: 0.0</br>caa_4: 0.0</br>cp_1: 0.0</br>cp_2: 0.0</br>cp_3: 1.0</br>restecg_1: 0.0</br>restecg_2: 0.0</br>_original_yhat_: 0.9919773936271667</br>"
          ],
          [
           "</br>id: 14</br>prediction: 0.998</br>chol: 178.56</br></br>age: 58.0</br>sex: 0.0</br>trtbps: 150.0</br>fbs: 1.0</br>thalachh: 162.0</br>oldpeak: 1.0</br>slp: 2.0</br>thall: 2.0</br>exng_1: 0.0</br>caa_1: 0.0</br>caa_2: 0.0</br>caa_3: 0.0</br>caa_4: 0.0</br>cp_1: 0.0</br>cp_2: 0.0</br>cp_3: 1.0</br>restecg_1: 0.0</br>restecg_2: 0.0</br>_original_yhat_: 0.9919773936271667</br>"
          ],
          [
           "</br>id: 14</br>prediction: 0.998</br>chol: 182.94</br></br>age: 58.0</br>sex: 0.0</br>trtbps: 150.0</br>fbs: 1.0</br>thalachh: 162.0</br>oldpeak: 1.0</br>slp: 2.0</br>thall: 2.0</br>exng_1: 0.0</br>caa_1: 0.0</br>caa_2: 0.0</br>caa_3: 0.0</br>caa_4: 0.0</br>cp_1: 0.0</br>cp_2: 0.0</br>cp_3: 1.0</br>restecg_1: 0.0</br>restecg_2: 0.0</br>_original_yhat_: 0.9919773936271667</br>"
          ],
          [
           "</br>id: 14</br>prediction: 0.998</br>chol: 187.32</br></br>age: 58.0</br>sex: 0.0</br>trtbps: 150.0</br>fbs: 1.0</br>thalachh: 162.0</br>oldpeak: 1.0</br>slp: 2.0</br>thall: 2.0</br>exng_1: 0.0</br>caa_1: 0.0</br>caa_2: 0.0</br>caa_3: 0.0</br>caa_4: 0.0</br>cp_1: 0.0</br>cp_2: 0.0</br>cp_3: 1.0</br>restecg_1: 0.0</br>restecg_2: 0.0</br>_original_yhat_: 0.9919773936271667</br>"
          ],
          [
           "</br>id: 14</br>prediction: 0.998</br>chol: 191.7</br></br>age: 58.0</br>sex: 0.0</br>trtbps: 150.0</br>fbs: 1.0</br>thalachh: 162.0</br>oldpeak: 1.0</br>slp: 2.0</br>thall: 2.0</br>exng_1: 0.0</br>caa_1: 0.0</br>caa_2: 0.0</br>caa_3: 0.0</br>caa_4: 0.0</br>cp_1: 0.0</br>cp_2: 0.0</br>cp_3: 1.0</br>restecg_1: 0.0</br>restecg_2: 0.0</br>_original_yhat_: 0.9919773936271667</br>"
          ],
          [
           "</br>id: 14</br>prediction: 0.998</br>chol: 196.07999999999998</br></br>age: 58.0</br>sex: 0.0</br>trtbps: 150.0</br>fbs: 1.0</br>thalachh: 162.0</br>oldpeak: 1.0</br>slp: 2.0</br>thall: 2.0</br>exng_1: 0.0</br>caa_1: 0.0</br>caa_2: 0.0</br>caa_3: 0.0</br>caa_4: 0.0</br>cp_1: 0.0</br>cp_2: 0.0</br>cp_3: 1.0</br>restecg_1: 0.0</br>restecg_2: 0.0</br>_original_yhat_: 0.9919773936271667</br>"
          ],
          [
           "</br>id: 14</br>prediction: 0.998</br>chol: 200.45999999999998</br></br>age: 58.0</br>sex: 0.0</br>trtbps: 150.0</br>fbs: 1.0</br>thalachh: 162.0</br>oldpeak: 1.0</br>slp: 2.0</br>thall: 2.0</br>exng_1: 0.0</br>caa_1: 0.0</br>caa_2: 0.0</br>caa_3: 0.0</br>caa_4: 0.0</br>cp_1: 0.0</br>cp_2: 0.0</br>cp_3: 1.0</br>restecg_1: 0.0</br>restecg_2: 0.0</br>_original_yhat_: 0.9919773936271667</br>"
          ],
          [
           "</br>id: 14</br>prediction: 0.998</br>chol: 204.84</br></br>age: 58.0</br>sex: 0.0</br>trtbps: 150.0</br>fbs: 1.0</br>thalachh: 162.0</br>oldpeak: 1.0</br>slp: 2.0</br>thall: 2.0</br>exng_1: 0.0</br>caa_1: 0.0</br>caa_2: 0.0</br>caa_3: 0.0</br>caa_4: 0.0</br>cp_1: 0.0</br>cp_2: 0.0</br>cp_3: 1.0</br>restecg_1: 0.0</br>restecg_2: 0.0</br>_original_yhat_: 0.9919773936271667</br>"
          ],
          [
           "</br>id: 14</br>prediction: 0.999</br>chol: 209.22</br></br>age: 58.0</br>sex: 0.0</br>trtbps: 150.0</br>fbs: 1.0</br>thalachh: 162.0</br>oldpeak: 1.0</br>slp: 2.0</br>thall: 2.0</br>exng_1: 0.0</br>caa_1: 0.0</br>caa_2: 0.0</br>caa_3: 0.0</br>caa_4: 0.0</br>cp_1: 0.0</br>cp_2: 0.0</br>cp_3: 1.0</br>restecg_1: 0.0</br>restecg_2: 0.0</br>_original_yhat_: 0.9919773936271667</br>"
          ],
          [
           "</br>id: 14</br>prediction: 0.999</br>chol: 213.6</br></br>age: 58.0</br>sex: 0.0</br>trtbps: 150.0</br>fbs: 1.0</br>thalachh: 162.0</br>oldpeak: 1.0</br>slp: 2.0</br>thall: 2.0</br>exng_1: 0.0</br>caa_1: 0.0</br>caa_2: 0.0</br>caa_3: 0.0</br>caa_4: 0.0</br>cp_1: 0.0</br>cp_2: 0.0</br>cp_3: 1.0</br>restecg_1: 0.0</br>restecg_2: 0.0</br>_original_yhat_: 0.9919773936271667</br>"
          ],
          [
           "</br>id: 14</br>prediction: 0.999</br>chol: 217.98000000000002</br></br>age: 58.0</br>sex: 0.0</br>trtbps: 150.0</br>fbs: 1.0</br>thalachh: 162.0</br>oldpeak: 1.0</br>slp: 2.0</br>thall: 2.0</br>exng_1: 0.0</br>caa_1: 0.0</br>caa_2: 0.0</br>caa_3: 0.0</br>caa_4: 0.0</br>cp_1: 0.0</br>cp_2: 0.0</br>cp_3: 1.0</br>restecg_1: 0.0</br>restecg_2: 0.0</br>_original_yhat_: 0.9919773936271667</br>"
          ],
          [
           "</br>id: 14</br>prediction: 0.999</br>chol: 222.36</br></br>age: 58.0</br>sex: 0.0</br>trtbps: 150.0</br>fbs: 1.0</br>thalachh: 162.0</br>oldpeak: 1.0</br>slp: 2.0</br>thall: 2.0</br>exng_1: 0.0</br>caa_1: 0.0</br>caa_2: 0.0</br>caa_3: 0.0</br>caa_4: 0.0</br>cp_1: 0.0</br>cp_2: 0.0</br>cp_3: 1.0</br>restecg_1: 0.0</br>restecg_2: 0.0</br>_original_yhat_: 0.9919773936271667</br>"
          ],
          [
           "</br>id: 14</br>prediction: 0.999</br>chol: 226.74</br></br>age: 58.0</br>sex: 0.0</br>trtbps: 150.0</br>fbs: 1.0</br>thalachh: 162.0</br>oldpeak: 1.0</br>slp: 2.0</br>thall: 2.0</br>exng_1: 0.0</br>caa_1: 0.0</br>caa_2: 0.0</br>caa_3: 0.0</br>caa_4: 0.0</br>cp_1: 0.0</br>cp_2: 0.0</br>cp_3: 1.0</br>restecg_1: 0.0</br>restecg_2: 0.0</br>_original_yhat_: 0.9919773936271667</br>"
          ],
          [
           "</br>id: 14</br>prediction: 0.999</br>chol: 231.12</br></br>age: 58.0</br>sex: 0.0</br>trtbps: 150.0</br>fbs: 1.0</br>thalachh: 162.0</br>oldpeak: 1.0</br>slp: 2.0</br>thall: 2.0</br>exng_1: 0.0</br>caa_1: 0.0</br>caa_2: 0.0</br>caa_3: 0.0</br>caa_4: 0.0</br>cp_1: 0.0</br>cp_2: 0.0</br>cp_3: 1.0</br>restecg_1: 0.0</br>restecg_2: 0.0</br>_original_yhat_: 0.9919773936271667</br>"
          ],
          [
           "</br>id: 14</br>prediction: 0.999</br>chol: 235.5</br></br>age: 58.0</br>sex: 0.0</br>trtbps: 150.0</br>fbs: 1.0</br>thalachh: 162.0</br>oldpeak: 1.0</br>slp: 2.0</br>thall: 2.0</br>exng_1: 0.0</br>caa_1: 0.0</br>caa_2: 0.0</br>caa_3: 0.0</br>caa_4: 0.0</br>cp_1: 0.0</br>cp_2: 0.0</br>cp_3: 1.0</br>restecg_1: 0.0</br>restecg_2: 0.0</br>_original_yhat_: 0.9919773936271667</br>"
          ],
          [
           "</br>id: 14</br>prediction: 0.999</br>chol: 239.88</br></br>age: 58.0</br>sex: 0.0</br>trtbps: 150.0</br>fbs: 1.0</br>thalachh: 162.0</br>oldpeak: 1.0</br>slp: 2.0</br>thall: 2.0</br>exng_1: 0.0</br>caa_1: 0.0</br>caa_2: 0.0</br>caa_3: 0.0</br>caa_4: 0.0</br>cp_1: 0.0</br>cp_2: 0.0</br>cp_3: 1.0</br>restecg_1: 0.0</br>restecg_2: 0.0</br>_original_yhat_: 0.9919773936271667</br>"
          ],
          [
           "</br>id: 14</br>prediction: 0.999</br>chol: 244.0</br></br>age: 58.0</br>sex: 0.0</br>trtbps: 150.0</br>fbs: 1.0</br>thalachh: 162.0</br>oldpeak: 1.0</br>slp: 2.0</br>thall: 2.0</br>exng_1: 0.0</br>caa_1: 0.0</br>caa_2: 0.0</br>caa_3: 0.0</br>caa_4: 0.0</br>cp_1: 0.0</br>cp_2: 0.0</br>cp_3: 1.0</br>restecg_1: 0.0</br>restecg_2: 0.0</br>_original_yhat_: 0.9919773936271667</br>"
          ],
          [
           "</br>id: 14</br>prediction: 0.999</br>chol: 244.26</br></br>age: 58.0</br>sex: 0.0</br>trtbps: 150.0</br>fbs: 1.0</br>thalachh: 162.0</br>oldpeak: 1.0</br>slp: 2.0</br>thall: 2.0</br>exng_1: 0.0</br>caa_1: 0.0</br>caa_2: 0.0</br>caa_3: 0.0</br>caa_4: 0.0</br>cp_1: 0.0</br>cp_2: 0.0</br>cp_3: 1.0</br>restecg_1: 0.0</br>restecg_2: 0.0</br>_original_yhat_: 0.9919773936271667</br>"
          ],
          [
           "</br>id: 14</br>prediction: 0.999</br>chol: 248.64</br></br>age: 58.0</br>sex: 0.0</br>trtbps: 150.0</br>fbs: 1.0</br>thalachh: 162.0</br>oldpeak: 1.0</br>slp: 2.0</br>thall: 2.0</br>exng_1: 0.0</br>caa_1: 0.0</br>caa_2: 0.0</br>caa_3: 0.0</br>caa_4: 0.0</br>cp_1: 0.0</br>cp_2: 0.0</br>cp_3: 1.0</br>restecg_1: 0.0</br>restecg_2: 0.0</br>_original_yhat_: 0.9919773936271667</br>"
          ],
          [
           "</br>id: 14</br>prediction: 0.999</br>chol: 253.01999999999998</br></br>age: 58.0</br>sex: 0.0</br>trtbps: 150.0</br>fbs: 1.0</br>thalachh: 162.0</br>oldpeak: 1.0</br>slp: 2.0</br>thall: 2.0</br>exng_1: 0.0</br>caa_1: 0.0</br>caa_2: 0.0</br>caa_3: 0.0</br>caa_4: 0.0</br>cp_1: 0.0</br>cp_2: 0.0</br>cp_3: 1.0</br>restecg_1: 0.0</br>restecg_2: 0.0</br>_original_yhat_: 0.9919773936271667</br>"
          ],
          [
           "</br>id: 14</br>prediction: 0.998</br>chol: 257.4</br></br>age: 58.0</br>sex: 0.0</br>trtbps: 150.0</br>fbs: 1.0</br>thalachh: 162.0</br>oldpeak: 1.0</br>slp: 2.0</br>thall: 2.0</br>exng_1: 0.0</br>caa_1: 0.0</br>caa_2: 0.0</br>caa_3: 0.0</br>caa_4: 0.0</br>cp_1: 0.0</br>cp_2: 0.0</br>cp_3: 1.0</br>restecg_1: 0.0</br>restecg_2: 0.0</br>_original_yhat_: 0.9919773936271667</br>"
          ],
          [
           "</br>id: 14</br>prediction: 0.998</br>chol: 261.78</br></br>age: 58.0</br>sex: 0.0</br>trtbps: 150.0</br>fbs: 1.0</br>thalachh: 162.0</br>oldpeak: 1.0</br>slp: 2.0</br>thall: 2.0</br>exng_1: 0.0</br>caa_1: 0.0</br>caa_2: 0.0</br>caa_3: 0.0</br>caa_4: 0.0</br>cp_1: 0.0</br>cp_2: 0.0</br>cp_3: 1.0</br>restecg_1: 0.0</br>restecg_2: 0.0</br>_original_yhat_: 0.9919773936271667</br>"
          ],
          [
           "</br>id: 14</br>prediction: 0.998</br>chol: 266.15999999999997</br></br>age: 58.0</br>sex: 0.0</br>trtbps: 150.0</br>fbs: 1.0</br>thalachh: 162.0</br>oldpeak: 1.0</br>slp: 2.0</br>thall: 2.0</br>exng_1: 0.0</br>caa_1: 0.0</br>caa_2: 0.0</br>caa_3: 0.0</br>caa_4: 0.0</br>cp_1: 0.0</br>cp_2: 0.0</br>cp_3: 1.0</br>restecg_1: 0.0</br>restecg_2: 0.0</br>_original_yhat_: 0.9919773936271667</br>"
          ],
          [
           "</br>id: 14</br>prediction: 0.998</br>chol: 270.53999999999996</br></br>age: 58.0</br>sex: 0.0</br>trtbps: 150.0</br>fbs: 1.0</br>thalachh: 162.0</br>oldpeak: 1.0</br>slp: 2.0</br>thall: 2.0</br>exng_1: 0.0</br>caa_1: 0.0</br>caa_2: 0.0</br>caa_3: 0.0</br>caa_4: 0.0</br>cp_1: 0.0</br>cp_2: 0.0</br>cp_3: 1.0</br>restecg_1: 0.0</br>restecg_2: 0.0</br>_original_yhat_: 0.9919773936271667</br>"
          ],
          [
           "</br>id: 14</br>prediction: 0.992</br>chol: 274.91999999999996</br></br>age: 58.0</br>sex: 0.0</br>trtbps: 150.0</br>fbs: 1.0</br>thalachh: 162.0</br>oldpeak: 1.0</br>slp: 2.0</br>thall: 2.0</br>exng_1: 0.0</br>caa_1: 0.0</br>caa_2: 0.0</br>caa_3: 0.0</br>caa_4: 0.0</br>cp_1: 0.0</br>cp_2: 0.0</br>cp_3: 1.0</br>restecg_1: 0.0</br>restecg_2: 0.0</br>_original_yhat_: 0.9919773936271667</br>"
          ],
          [
           "</br>id: 14</br>prediction: 0.992</br>chol: 279.29999999999995</br></br>age: 58.0</br>sex: 0.0</br>trtbps: 150.0</br>fbs: 1.0</br>thalachh: 162.0</br>oldpeak: 1.0</br>slp: 2.0</br>thall: 2.0</br>exng_1: 0.0</br>caa_1: 0.0</br>caa_2: 0.0</br>caa_3: 0.0</br>caa_4: 0.0</br>cp_1: 0.0</br>cp_2: 0.0</br>cp_3: 1.0</br>restecg_1: 0.0</br>restecg_2: 0.0</br>_original_yhat_: 0.9919773936271667</br>"
          ],
          [
           "</br>id: 14</br>prediction: 0.992</br>chol: 283.0</br></br>age: 58.0</br>sex: 0.0</br>trtbps: 150.0</br>fbs: 1.0</br>thalachh: 162.0</br>oldpeak: 1.0</br>slp: 2.0</br>thall: 2.0</br>exng_1: 0.0</br>caa_1: 0.0</br>caa_2: 0.0</br>caa_3: 0.0</br>caa_4: 0.0</br>cp_1: 0.0</br>cp_2: 0.0</br>cp_3: 1.0</br>restecg_1: 0.0</br>restecg_2: 0.0</br>_original_yhat_: 0.9919773936271667</br>"
          ],
          [
           "</br>id: 14</br>prediction: 0.992</br>chol: 283.68</br></br>age: 58.0</br>sex: 0.0</br>trtbps: 150.0</br>fbs: 1.0</br>thalachh: 162.0</br>oldpeak: 1.0</br>slp: 2.0</br>thall: 2.0</br>exng_1: 0.0</br>caa_1: 0.0</br>caa_2: 0.0</br>caa_3: 0.0</br>caa_4: 0.0</br>cp_1: 0.0</br>cp_2: 0.0</br>cp_3: 1.0</br>restecg_1: 0.0</br>restecg_2: 0.0</br>_original_yhat_: 0.9919773936271667</br>"
          ],
          [
           "</br>id: 14</br>prediction: 0.992</br>chol: 288.06</br></br>age: 58.0</br>sex: 0.0</br>trtbps: 150.0</br>fbs: 1.0</br>thalachh: 162.0</br>oldpeak: 1.0</br>slp: 2.0</br>thall: 2.0</br>exng_1: 0.0</br>caa_1: 0.0</br>caa_2: 0.0</br>caa_3: 0.0</br>caa_4: 0.0</br>cp_1: 0.0</br>cp_2: 0.0</br>cp_3: 1.0</br>restecg_1: 0.0</br>restecg_2: 0.0</br>_original_yhat_: 0.9919773936271667</br>"
          ],
          [
           "</br>id: 14</br>prediction: 0.992</br>chol: 292.44</br></br>age: 58.0</br>sex: 0.0</br>trtbps: 150.0</br>fbs: 1.0</br>thalachh: 162.0</br>oldpeak: 1.0</br>slp: 2.0</br>thall: 2.0</br>exng_1: 0.0</br>caa_1: 0.0</br>caa_2: 0.0</br>caa_3: 0.0</br>caa_4: 0.0</br>cp_1: 0.0</br>cp_2: 0.0</br>cp_3: 1.0</br>restecg_1: 0.0</br>restecg_2: 0.0</br>_original_yhat_: 0.9919773936271667</br>"
          ],
          [
           "</br>id: 14</br>prediction: 0.992</br>chol: 296.82</br></br>age: 58.0</br>sex: 0.0</br>trtbps: 150.0</br>fbs: 1.0</br>thalachh: 162.0</br>oldpeak: 1.0</br>slp: 2.0</br>thall: 2.0</br>exng_1: 0.0</br>caa_1: 0.0</br>caa_2: 0.0</br>caa_3: 0.0</br>caa_4: 0.0</br>cp_1: 0.0</br>cp_2: 0.0</br>cp_3: 1.0</br>restecg_1: 0.0</br>restecg_2: 0.0</br>_original_yhat_: 0.9919773936271667</br>"
          ],
          [
           "</br>id: 14</br>prediction: 0.99</br>chol: 301.2</br></br>age: 58.0</br>sex: 0.0</br>trtbps: 150.0</br>fbs: 1.0</br>thalachh: 162.0</br>oldpeak: 1.0</br>slp: 2.0</br>thall: 2.0</br>exng_1: 0.0</br>caa_1: 0.0</br>caa_2: 0.0</br>caa_3: 0.0</br>caa_4: 0.0</br>cp_1: 0.0</br>cp_2: 0.0</br>cp_3: 1.0</br>restecg_1: 0.0</br>restecg_2: 0.0</br>_original_yhat_: 0.9919773936271667</br>"
          ],
          [
           "</br>id: 14</br>prediction: 0.99</br>chol: 305.58</br></br>age: 58.0</br>sex: 0.0</br>trtbps: 150.0</br>fbs: 1.0</br>thalachh: 162.0</br>oldpeak: 1.0</br>slp: 2.0</br>thall: 2.0</br>exng_1: 0.0</br>caa_1: 0.0</br>caa_2: 0.0</br>caa_3: 0.0</br>caa_4: 0.0</br>cp_1: 0.0</br>cp_2: 0.0</br>cp_3: 1.0</br>restecg_1: 0.0</br>restecg_2: 0.0</br>_original_yhat_: 0.9919773936271667</br>"
          ],
          [
           "</br>id: 14</br>prediction: 0.99</br>chol: 309.96000000000004</br></br>age: 58.0</br>sex: 0.0</br>trtbps: 150.0</br>fbs: 1.0</br>thalachh: 162.0</br>oldpeak: 1.0</br>slp: 2.0</br>thall: 2.0</br>exng_1: 0.0</br>caa_1: 0.0</br>caa_2: 0.0</br>caa_3: 0.0</br>caa_4: 0.0</br>cp_1: 0.0</br>cp_2: 0.0</br>cp_3: 1.0</br>restecg_1: 0.0</br>restecg_2: 0.0</br>_original_yhat_: 0.9919773936271667</br>"
          ],
          [
           "</br>id: 14</br>prediction: 0.99</br>chol: 314.34000000000003</br></br>age: 58.0</br>sex: 0.0</br>trtbps: 150.0</br>fbs: 1.0</br>thalachh: 162.0</br>oldpeak: 1.0</br>slp: 2.0</br>thall: 2.0</br>exng_1: 0.0</br>caa_1: 0.0</br>caa_2: 0.0</br>caa_3: 0.0</br>caa_4: 0.0</br>cp_1: 0.0</br>cp_2: 0.0</br>cp_3: 1.0</br>restecg_1: 0.0</br>restecg_2: 0.0</br>_original_yhat_: 0.9919773936271667</br>"
          ],
          [
           "</br>id: 14</br>prediction: 0.977</br>chol: 318.72</br></br>age: 58.0</br>sex: 0.0</br>trtbps: 150.0</br>fbs: 1.0</br>thalachh: 162.0</br>oldpeak: 1.0</br>slp: 2.0</br>thall: 2.0</br>exng_1: 0.0</br>caa_1: 0.0</br>caa_2: 0.0</br>caa_3: 0.0</br>caa_4: 0.0</br>cp_1: 0.0</br>cp_2: 0.0</br>cp_3: 1.0</br>restecg_1: 0.0</br>restecg_2: 0.0</br>_original_yhat_: 0.9919773936271667</br>"
          ],
          [
           "</br>id: 14</br>prediction: 0.977</br>chol: 323.1</br></br>age: 58.0</br>sex: 0.0</br>trtbps: 150.0</br>fbs: 1.0</br>thalachh: 162.0</br>oldpeak: 1.0</br>slp: 2.0</br>thall: 2.0</br>exng_1: 0.0</br>caa_1: 0.0</br>caa_2: 0.0</br>caa_3: 0.0</br>caa_4: 0.0</br>cp_1: 0.0</br>cp_2: 0.0</br>cp_3: 1.0</br>restecg_1: 0.0</br>restecg_2: 0.0</br>_original_yhat_: 0.9919773936271667</br>"
          ],
          [
           "</br>id: 14</br>prediction: 0.977</br>chol: 327.48</br></br>age: 58.0</br>sex: 0.0</br>trtbps: 150.0</br>fbs: 1.0</br>thalachh: 162.0</br>oldpeak: 1.0</br>slp: 2.0</br>thall: 2.0</br>exng_1: 0.0</br>caa_1: 0.0</br>caa_2: 0.0</br>caa_3: 0.0</br>caa_4: 0.0</br>cp_1: 0.0</br>cp_2: 0.0</br>cp_3: 1.0</br>restecg_1: 0.0</br>restecg_2: 0.0</br>_original_yhat_: 0.9919773936271667</br>"
          ],
          [
           "</br>id: 14</br>prediction: 0.968</br>chol: 331.86</br></br>age: 58.0</br>sex: 0.0</br>trtbps: 150.0</br>fbs: 1.0</br>thalachh: 162.0</br>oldpeak: 1.0</br>slp: 2.0</br>thall: 2.0</br>exng_1: 0.0</br>caa_1: 0.0</br>caa_2: 0.0</br>caa_3: 0.0</br>caa_4: 0.0</br>cp_1: 0.0</br>cp_2: 0.0</br>cp_3: 1.0</br>restecg_1: 0.0</br>restecg_2: 0.0</br>_original_yhat_: 0.9919773936271667</br>"
          ],
          [
           "</br>id: 14</br>prediction: 0.968</br>chol: 336.24</br></br>age: 58.0</br>sex: 0.0</br>trtbps: 150.0</br>fbs: 1.0</br>thalachh: 162.0</br>oldpeak: 1.0</br>slp: 2.0</br>thall: 2.0</br>exng_1: 0.0</br>caa_1: 0.0</br>caa_2: 0.0</br>caa_3: 0.0</br>caa_4: 0.0</br>cp_1: 0.0</br>cp_2: 0.0</br>cp_3: 1.0</br>restecg_1: 0.0</br>restecg_2: 0.0</br>_original_yhat_: 0.9919773936271667</br>"
          ],
          [
           "</br>id: 14</br>prediction: 0.968</br>chol: 340.62</br></br>age: 58.0</br>sex: 0.0</br>trtbps: 150.0</br>fbs: 1.0</br>thalachh: 162.0</br>oldpeak: 1.0</br>slp: 2.0</br>thall: 2.0</br>exng_1: 0.0</br>caa_1: 0.0</br>caa_2: 0.0</br>caa_3: 0.0</br>caa_4: 0.0</br>cp_1: 0.0</br>cp_2: 0.0</br>cp_3: 1.0</br>restecg_1: 0.0</br>restecg_2: 0.0</br>_original_yhat_: 0.9919773936271667</br>"
          ],
          [
           "</br>id: 14</br>prediction: 0.968</br>chol: 345.0</br></br>age: 58.0</br>sex: 0.0</br>trtbps: 150.0</br>fbs: 1.0</br>thalachh: 162.0</br>oldpeak: 1.0</br>slp: 2.0</br>thall: 2.0</br>exng_1: 0.0</br>caa_1: 0.0</br>caa_2: 0.0</br>caa_3: 0.0</br>caa_4: 0.0</br>cp_1: 0.0</br>cp_2: 0.0</br>cp_3: 1.0</br>restecg_1: 0.0</br>restecg_2: 0.0</br>_original_yhat_: 0.9919773936271667</br>"
          ],
          [
           "</br>id: 14</br>prediction: 0.968</br>chol: 349.38</br></br>age: 58.0</br>sex: 0.0</br>trtbps: 150.0</br>fbs: 1.0</br>thalachh: 162.0</br>oldpeak: 1.0</br>slp: 2.0</br>thall: 2.0</br>exng_1: 0.0</br>caa_1: 0.0</br>caa_2: 0.0</br>caa_3: 0.0</br>caa_4: 0.0</br>cp_1: 0.0</br>cp_2: 0.0</br>cp_3: 1.0</br>restecg_1: 0.0</br>restecg_2: 0.0</br>_original_yhat_: 0.9919773936271667</br>"
          ],
          [
           "</br>id: 14</br>prediction: 0.968</br>chol: 353.76</br></br>age: 58.0</br>sex: 0.0</br>trtbps: 150.0</br>fbs: 1.0</br>thalachh: 162.0</br>oldpeak: 1.0</br>slp: 2.0</br>thall: 2.0</br>exng_1: 0.0</br>caa_1: 0.0</br>caa_2: 0.0</br>caa_3: 0.0</br>caa_4: 0.0</br>cp_1: 0.0</br>cp_2: 0.0</br>cp_3: 1.0</br>restecg_1: 0.0</br>restecg_2: 0.0</br>_original_yhat_: 0.9919773936271667</br>"
          ],
          [
           "</br>id: 14</br>prediction: 0.968</br>chol: 358.14</br></br>age: 58.0</br>sex: 0.0</br>trtbps: 150.0</br>fbs: 1.0</br>thalachh: 162.0</br>oldpeak: 1.0</br>slp: 2.0</br>thall: 2.0</br>exng_1: 0.0</br>caa_1: 0.0</br>caa_2: 0.0</br>caa_3: 0.0</br>caa_4: 0.0</br>cp_1: 0.0</br>cp_2: 0.0</br>cp_3: 1.0</br>restecg_1: 0.0</br>restecg_2: 0.0</br>_original_yhat_: 0.9919773936271667</br>"
          ],
          [
           "</br>id: 14</br>prediction: 0.968</br>chol: 362.52</br></br>age: 58.0</br>sex: 0.0</br>trtbps: 150.0</br>fbs: 1.0</br>thalachh: 162.0</br>oldpeak: 1.0</br>slp: 2.0</br>thall: 2.0</br>exng_1: 0.0</br>caa_1: 0.0</br>caa_2: 0.0</br>caa_3: 0.0</br>caa_4: 0.0</br>cp_1: 0.0</br>cp_2: 0.0</br>cp_3: 1.0</br>restecg_1: 0.0</br>restecg_2: 0.0</br>_original_yhat_: 0.9919773936271667</br>"
          ],
          [
           "</br>id: 14</br>prediction: 0.968</br>chol: 366.9</br></br>age: 58.0</br>sex: 0.0</br>trtbps: 150.0</br>fbs: 1.0</br>thalachh: 162.0</br>oldpeak: 1.0</br>slp: 2.0</br>thall: 2.0</br>exng_1: 0.0</br>caa_1: 0.0</br>caa_2: 0.0</br>caa_3: 0.0</br>caa_4: 0.0</br>cp_1: 0.0</br>cp_2: 0.0</br>cp_3: 1.0</br>restecg_1: 0.0</br>restecg_2: 0.0</br>_original_yhat_: 0.9919773936271667</br>"
          ],
          [
           "</br>id: 14</br>prediction: 0.968</br>chol: 371.28</br></br>age: 58.0</br>sex: 0.0</br>trtbps: 150.0</br>fbs: 1.0</br>thalachh: 162.0</br>oldpeak: 1.0</br>slp: 2.0</br>thall: 2.0</br>exng_1: 0.0</br>caa_1: 0.0</br>caa_2: 0.0</br>caa_3: 0.0</br>caa_4: 0.0</br>cp_1: 0.0</br>cp_2: 0.0</br>cp_3: 1.0</br>restecg_1: 0.0</br>restecg_2: 0.0</br>_original_yhat_: 0.9919773936271667</br>"
          ],
          [
           "</br>id: 14</br>prediction: 0.968</br>chol: 375.65999999999997</br></br>age: 58.0</br>sex: 0.0</br>trtbps: 150.0</br>fbs: 1.0</br>thalachh: 162.0</br>oldpeak: 1.0</br>slp: 2.0</br>thall: 2.0</br>exng_1: 0.0</br>caa_1: 0.0</br>caa_2: 0.0</br>caa_3: 0.0</br>caa_4: 0.0</br>cp_1: 0.0</br>cp_2: 0.0</br>cp_3: 1.0</br>restecg_1: 0.0</br>restecg_2: 0.0</br>_original_yhat_: 0.9919773936271667</br>"
          ],
          [
           "</br>id: 14</br>prediction: 0.968</br>chol: 380.03999999999996</br></br>age: 58.0</br>sex: 0.0</br>trtbps: 150.0</br>fbs: 1.0</br>thalachh: 162.0</br>oldpeak: 1.0</br>slp: 2.0</br>thall: 2.0</br>exng_1: 0.0</br>caa_1: 0.0</br>caa_2: 0.0</br>caa_3: 0.0</br>caa_4: 0.0</br>cp_1: 0.0</br>cp_2: 0.0</br>cp_3: 1.0</br>restecg_1: 0.0</br>restecg_2: 0.0</br>_original_yhat_: 0.9919773936271667</br>"
          ],
          [
           "</br>id: 14</br>prediction: 0.968</br>chol: 384.42</br></br>age: 58.0</br>sex: 0.0</br>trtbps: 150.0</br>fbs: 1.0</br>thalachh: 162.0</br>oldpeak: 1.0</br>slp: 2.0</br>thall: 2.0</br>exng_1: 0.0</br>caa_1: 0.0</br>caa_2: 0.0</br>caa_3: 0.0</br>caa_4: 0.0</br>cp_1: 0.0</br>cp_2: 0.0</br>cp_3: 1.0</br>restecg_1: 0.0</br>restecg_2: 0.0</br>_original_yhat_: 0.9919773936271667</br>"
          ],
          [
           "</br>id: 14</br>prediction: 0.968</br>chol: 388.8</br></br>age: 58.0</br>sex: 0.0</br>trtbps: 150.0</br>fbs: 1.0</br>thalachh: 162.0</br>oldpeak: 1.0</br>slp: 2.0</br>thall: 2.0</br>exng_1: 0.0</br>caa_1: 0.0</br>caa_2: 0.0</br>caa_3: 0.0</br>caa_4: 0.0</br>cp_1: 0.0</br>cp_2: 0.0</br>cp_3: 1.0</br>restecg_1: 0.0</br>restecg_2: 0.0</br>_original_yhat_: 0.9919773936271667</br>"
          ],
          [
           "</br>id: 14</br>prediction: 0.968</br>chol: 393.18</br></br>age: 58.0</br>sex: 0.0</br>trtbps: 150.0</br>fbs: 1.0</br>thalachh: 162.0</br>oldpeak: 1.0</br>slp: 2.0</br>thall: 2.0</br>exng_1: 0.0</br>caa_1: 0.0</br>caa_2: 0.0</br>caa_3: 0.0</br>caa_4: 0.0</br>cp_1: 0.0</br>cp_2: 0.0</br>cp_3: 1.0</br>restecg_1: 0.0</br>restecg_2: 0.0</br>_original_yhat_: 0.9919773936271667</br>"
          ],
          [
           "</br>id: 14</br>prediction: 0.968</br>chol: 397.56</br></br>age: 58.0</br>sex: 0.0</br>trtbps: 150.0</br>fbs: 1.0</br>thalachh: 162.0</br>oldpeak: 1.0</br>slp: 2.0</br>thall: 2.0</br>exng_1: 0.0</br>caa_1: 0.0</br>caa_2: 0.0</br>caa_3: 0.0</br>caa_4: 0.0</br>cp_1: 0.0</br>cp_2: 0.0</br>cp_3: 1.0</br>restecg_1: 0.0</br>restecg_2: 0.0</br>_original_yhat_: 0.9919773936271667</br>"
          ],
          [
           "</br>id: 14</br>prediction: 0.968</br>chol: 401.94</br></br>age: 58.0</br>sex: 0.0</br>trtbps: 150.0</br>fbs: 1.0</br>thalachh: 162.0</br>oldpeak: 1.0</br>slp: 2.0</br>thall: 2.0</br>exng_1: 0.0</br>caa_1: 0.0</br>caa_2: 0.0</br>caa_3: 0.0</br>caa_4: 0.0</br>cp_1: 0.0</br>cp_2: 0.0</br>cp_3: 1.0</br>restecg_1: 0.0</br>restecg_2: 0.0</br>_original_yhat_: 0.9919773936271667</br>"
          ],
          [
           "</br>id: 14</br>prediction: 0.968</br>chol: 406.32</br></br>age: 58.0</br>sex: 0.0</br>trtbps: 150.0</br>fbs: 1.0</br>thalachh: 162.0</br>oldpeak: 1.0</br>slp: 2.0</br>thall: 2.0</br>exng_1: 0.0</br>caa_1: 0.0</br>caa_2: 0.0</br>caa_3: 0.0</br>caa_4: 0.0</br>cp_1: 0.0</br>cp_2: 0.0</br>cp_3: 1.0</br>restecg_1: 0.0</br>restecg_2: 0.0</br>_original_yhat_: 0.9919773936271667</br>"
          ],
          [
           "</br>id: 14</br>prediction: 0.968</br>chol: 410.7</br></br>age: 58.0</br>sex: 0.0</br>trtbps: 150.0</br>fbs: 1.0</br>thalachh: 162.0</br>oldpeak: 1.0</br>slp: 2.0</br>thall: 2.0</br>exng_1: 0.0</br>caa_1: 0.0</br>caa_2: 0.0</br>caa_3: 0.0</br>caa_4: 0.0</br>cp_1: 0.0</br>cp_2: 0.0</br>cp_3: 1.0</br>restecg_1: 0.0</br>restecg_2: 0.0</br>_original_yhat_: 0.9919773936271667</br>"
          ],
          [
           "</br>id: 14</br>prediction: 0.968</br>chol: 415.08</br></br>age: 58.0</br>sex: 0.0</br>trtbps: 150.0</br>fbs: 1.0</br>thalachh: 162.0</br>oldpeak: 1.0</br>slp: 2.0</br>thall: 2.0</br>exng_1: 0.0</br>caa_1: 0.0</br>caa_2: 0.0</br>caa_3: 0.0</br>caa_4: 0.0</br>cp_1: 0.0</br>cp_2: 0.0</br>cp_3: 1.0</br>restecg_1: 0.0</br>restecg_2: 0.0</br>_original_yhat_: 0.9919773936271667</br>"
          ],
          [
           "</br>id: 14</br>prediction: 0.968</br>chol: 419.46</br></br>age: 58.0</br>sex: 0.0</br>trtbps: 150.0</br>fbs: 1.0</br>thalachh: 162.0</br>oldpeak: 1.0</br>slp: 2.0</br>thall: 2.0</br>exng_1: 0.0</br>caa_1: 0.0</br>caa_2: 0.0</br>caa_3: 0.0</br>caa_4: 0.0</br>cp_1: 0.0</br>cp_2: 0.0</br>cp_3: 1.0</br>restecg_1: 0.0</br>restecg_2: 0.0</br>_original_yhat_: 0.9919773936271667</br>"
          ],
          [
           "</br>id: 14</br>prediction: 0.968</br>chol: 423.84</br></br>age: 58.0</br>sex: 0.0</br>trtbps: 150.0</br>fbs: 1.0</br>thalachh: 162.0</br>oldpeak: 1.0</br>slp: 2.0</br>thall: 2.0</br>exng_1: 0.0</br>caa_1: 0.0</br>caa_2: 0.0</br>caa_3: 0.0</br>caa_4: 0.0</br>cp_1: 0.0</br>cp_2: 0.0</br>cp_3: 1.0</br>restecg_1: 0.0</br>restecg_2: 0.0</br>_original_yhat_: 0.9919773936271667</br>"
          ],
          [
           "</br>id: 14</br>prediction: 0.968</br>chol: 428.21999999999997</br></br>age: 58.0</br>sex: 0.0</br>trtbps: 150.0</br>fbs: 1.0</br>thalachh: 162.0</br>oldpeak: 1.0</br>slp: 2.0</br>thall: 2.0</br>exng_1: 0.0</br>caa_1: 0.0</br>caa_2: 0.0</br>caa_3: 0.0</br>caa_4: 0.0</br>cp_1: 0.0</br>cp_2: 0.0</br>cp_3: 1.0</br>restecg_1: 0.0</br>restecg_2: 0.0</br>_original_yhat_: 0.9919773936271667</br>"
          ],
          [
           "</br>id: 14</br>prediction: 0.968</br>chol: 432.59999999999997</br></br>age: 58.0</br>sex: 0.0</br>trtbps: 150.0</br>fbs: 1.0</br>thalachh: 162.0</br>oldpeak: 1.0</br>slp: 2.0</br>thall: 2.0</br>exng_1: 0.0</br>caa_1: 0.0</br>caa_2: 0.0</br>caa_3: 0.0</br>caa_4: 0.0</br>cp_1: 0.0</br>cp_2: 0.0</br>cp_3: 1.0</br>restecg_1: 0.0</br>restecg_2: 0.0</br>_original_yhat_: 0.9919773936271667</br>"
          ],
          [
           "</br>id: 14</br>prediction: 0.968</br>chol: 436.98</br></br>age: 58.0</br>sex: 0.0</br>trtbps: 150.0</br>fbs: 1.0</br>thalachh: 162.0</br>oldpeak: 1.0</br>slp: 2.0</br>thall: 2.0</br>exng_1: 0.0</br>caa_1: 0.0</br>caa_2: 0.0</br>caa_3: 0.0</br>caa_4: 0.0</br>cp_1: 0.0</br>cp_2: 0.0</br>cp_3: 1.0</br>restecg_1: 0.0</br>restecg_2: 0.0</br>_original_yhat_: 0.9919773936271667</br>"
          ],
          [
           "</br>id: 14</br>prediction: 0.968</br>chol: 441.36</br></br>age: 58.0</br>sex: 0.0</br>trtbps: 150.0</br>fbs: 1.0</br>thalachh: 162.0</br>oldpeak: 1.0</br>slp: 2.0</br>thall: 2.0</br>exng_1: 0.0</br>caa_1: 0.0</br>caa_2: 0.0</br>caa_3: 0.0</br>caa_4: 0.0</br>cp_1: 0.0</br>cp_2: 0.0</br>cp_3: 1.0</br>restecg_1: 0.0</br>restecg_2: 0.0</br>_original_yhat_: 0.9919773936271667</br>"
          ],
          [
           "</br>id: 14</br>prediction: 0.968</br>chol: 445.74</br></br>age: 58.0</br>sex: 0.0</br>trtbps: 150.0</br>fbs: 1.0</br>thalachh: 162.0</br>oldpeak: 1.0</br>slp: 2.0</br>thall: 2.0</br>exng_1: 0.0</br>caa_1: 0.0</br>caa_2: 0.0</br>caa_3: 0.0</br>caa_4: 0.0</br>cp_1: 0.0</br>cp_2: 0.0</br>cp_3: 1.0</br>restecg_1: 0.0</br>restecg_2: 0.0</br>_original_yhat_: 0.9919773936271667</br>"
          ],
          [
           "</br>id: 14</br>prediction: 0.968</br>chol: 450.12</br></br>age: 58.0</br>sex: 0.0</br>trtbps: 150.0</br>fbs: 1.0</br>thalachh: 162.0</br>oldpeak: 1.0</br>slp: 2.0</br>thall: 2.0</br>exng_1: 0.0</br>caa_1: 0.0</br>caa_2: 0.0</br>caa_3: 0.0</br>caa_4: 0.0</br>cp_1: 0.0</br>cp_2: 0.0</br>cp_3: 1.0</br>restecg_1: 0.0</br>restecg_2: 0.0</br>_original_yhat_: 0.9919773936271667</br>"
          ],
          [
           "</br>id: 14</br>prediction: 0.968</br>chol: 454.5</br></br>age: 58.0</br>sex: 0.0</br>trtbps: 150.0</br>fbs: 1.0</br>thalachh: 162.0</br>oldpeak: 1.0</br>slp: 2.0</br>thall: 2.0</br>exng_1: 0.0</br>caa_1: 0.0</br>caa_2: 0.0</br>caa_3: 0.0</br>caa_4: 0.0</br>cp_1: 0.0</br>cp_2: 0.0</br>cp_3: 1.0</br>restecg_1: 0.0</br>restecg_2: 0.0</br>_original_yhat_: 0.9919773936271667</br>"
          ],
          [
           "</br>id: 14</br>prediction: 0.968</br>chol: 458.88</br></br>age: 58.0</br>sex: 0.0</br>trtbps: 150.0</br>fbs: 1.0</br>thalachh: 162.0</br>oldpeak: 1.0</br>slp: 2.0</br>thall: 2.0</br>exng_1: 0.0</br>caa_1: 0.0</br>caa_2: 0.0</br>caa_3: 0.0</br>caa_4: 0.0</br>cp_1: 0.0</br>cp_2: 0.0</br>cp_3: 1.0</br>restecg_1: 0.0</br>restecg_2: 0.0</br>_original_yhat_: 0.9919773936271667</br>"
          ],
          [
           "</br>id: 14</br>prediction: 0.968</br>chol: 463.26</br></br>age: 58.0</br>sex: 0.0</br>trtbps: 150.0</br>fbs: 1.0</br>thalachh: 162.0</br>oldpeak: 1.0</br>slp: 2.0</br>thall: 2.0</br>exng_1: 0.0</br>caa_1: 0.0</br>caa_2: 0.0</br>caa_3: 0.0</br>caa_4: 0.0</br>cp_1: 0.0</br>cp_2: 0.0</br>cp_3: 1.0</br>restecg_1: 0.0</br>restecg_2: 0.0</br>_original_yhat_: 0.9919773936271667</br>"
          ],
          [
           "</br>id: 14</br>prediction: 0.968</br>chol: 467.64</br></br>age: 58.0</br>sex: 0.0</br>trtbps: 150.0</br>fbs: 1.0</br>thalachh: 162.0</br>oldpeak: 1.0</br>slp: 2.0</br>thall: 2.0</br>exng_1: 0.0</br>caa_1: 0.0</br>caa_2: 0.0</br>caa_3: 0.0</br>caa_4: 0.0</br>cp_1: 0.0</br>cp_2: 0.0</br>cp_3: 1.0</br>restecg_1: 0.0</br>restecg_2: 0.0</br>_original_yhat_: 0.9919773936271667</br>"
          ],
          [
           "</br>id: 14</br>prediction: 0.968</br>chol: 472.02</br></br>age: 58.0</br>sex: 0.0</br>trtbps: 150.0</br>fbs: 1.0</br>thalachh: 162.0</br>oldpeak: 1.0</br>slp: 2.0</br>thall: 2.0</br>exng_1: 0.0</br>caa_1: 0.0</br>caa_2: 0.0</br>caa_3: 0.0</br>caa_4: 0.0</br>cp_1: 0.0</br>cp_2: 0.0</br>cp_3: 1.0</br>restecg_1: 0.0</br>restecg_2: 0.0</br>_original_yhat_: 0.9919773936271667</br>"
          ],
          [
           "</br>id: 14</br>prediction: 0.968</br>chol: 476.4</br></br>age: 58.0</br>sex: 0.0</br>trtbps: 150.0</br>fbs: 1.0</br>thalachh: 162.0</br>oldpeak: 1.0</br>slp: 2.0</br>thall: 2.0</br>exng_1: 0.0</br>caa_1: 0.0</br>caa_2: 0.0</br>caa_3: 0.0</br>caa_4: 0.0</br>cp_1: 0.0</br>cp_2: 0.0</br>cp_3: 1.0</br>restecg_1: 0.0</br>restecg_2: 0.0</br>_original_yhat_: 0.9919773936271667</br>"
          ],
          [
           "</br>id: 14</br>prediction: 0.968</br>chol: 480.78</br></br>age: 58.0</br>sex: 0.0</br>trtbps: 150.0</br>fbs: 1.0</br>thalachh: 162.0</br>oldpeak: 1.0</br>slp: 2.0</br>thall: 2.0</br>exng_1: 0.0</br>caa_1: 0.0</br>caa_2: 0.0</br>caa_3: 0.0</br>caa_4: 0.0</br>cp_1: 0.0</br>cp_2: 0.0</br>cp_3: 1.0</br>restecg_1: 0.0</br>restecg_2: 0.0</br>_original_yhat_: 0.9919773936271667</br>"
          ],
          [
           "</br>id: 14</br>prediction: 0.968</br>chol: 485.15999999999997</br></br>age: 58.0</br>sex: 0.0</br>trtbps: 150.0</br>fbs: 1.0</br>thalachh: 162.0</br>oldpeak: 1.0</br>slp: 2.0</br>thall: 2.0</br>exng_1: 0.0</br>caa_1: 0.0</br>caa_2: 0.0</br>caa_3: 0.0</br>caa_4: 0.0</br>cp_1: 0.0</br>cp_2: 0.0</br>cp_3: 1.0</br>restecg_1: 0.0</br>restecg_2: 0.0</br>_original_yhat_: 0.9919773936271667</br>"
          ],
          [
           "</br>id: 14</br>prediction: 0.968</br>chol: 489.53999999999996</br></br>age: 58.0</br>sex: 0.0</br>trtbps: 150.0</br>fbs: 1.0</br>thalachh: 162.0</br>oldpeak: 1.0</br>slp: 2.0</br>thall: 2.0</br>exng_1: 0.0</br>caa_1: 0.0</br>caa_2: 0.0</br>caa_3: 0.0</br>caa_4: 0.0</br>cp_1: 0.0</br>cp_2: 0.0</br>cp_3: 1.0</br>restecg_1: 0.0</br>restecg_2: 0.0</br>_original_yhat_: 0.9919773936271667</br>"
          ],
          [
           "</br>id: 14</br>prediction: 0.968</br>chol: 493.92</br></br>age: 58.0</br>sex: 0.0</br>trtbps: 150.0</br>fbs: 1.0</br>thalachh: 162.0</br>oldpeak: 1.0</br>slp: 2.0</br>thall: 2.0</br>exng_1: 0.0</br>caa_1: 0.0</br>caa_2: 0.0</br>caa_3: 0.0</br>caa_4: 0.0</br>cp_1: 0.0</br>cp_2: 0.0</br>cp_3: 1.0</br>restecg_1: 0.0</br>restecg_2: 0.0</br>_original_yhat_: 0.9919773936271667</br>"
          ],
          [
           "</br>id: 14</br>prediction: 0.968</br>chol: 498.3</br></br>age: 58.0</br>sex: 0.0</br>trtbps: 150.0</br>fbs: 1.0</br>thalachh: 162.0</br>oldpeak: 1.0</br>slp: 2.0</br>thall: 2.0</br>exng_1: 0.0</br>caa_1: 0.0</br>caa_2: 0.0</br>caa_3: 0.0</br>caa_4: 0.0</br>cp_1: 0.0</br>cp_2: 0.0</br>cp_3: 1.0</br>restecg_1: 0.0</br>restecg_2: 0.0</br>_original_yhat_: 0.9919773936271667</br>"
          ],
          [
           "</br>id: 14</br>prediction: 0.968</br>chol: 502.68</br></br>age: 58.0</br>sex: 0.0</br>trtbps: 150.0</br>fbs: 1.0</br>thalachh: 162.0</br>oldpeak: 1.0</br>slp: 2.0</br>thall: 2.0</br>exng_1: 0.0</br>caa_1: 0.0</br>caa_2: 0.0</br>caa_3: 0.0</br>caa_4: 0.0</br>cp_1: 0.0</br>cp_2: 0.0</br>cp_3: 1.0</br>restecg_1: 0.0</br>restecg_2: 0.0</br>_original_yhat_: 0.9919773936271667</br>"
          ],
          [
           "</br>id: 14</br>prediction: 0.968</br>chol: 507.06</br></br>age: 58.0</br>sex: 0.0</br>trtbps: 150.0</br>fbs: 1.0</br>thalachh: 162.0</br>oldpeak: 1.0</br>slp: 2.0</br>thall: 2.0</br>exng_1: 0.0</br>caa_1: 0.0</br>caa_2: 0.0</br>caa_3: 0.0</br>caa_4: 0.0</br>cp_1: 0.0</br>cp_2: 0.0</br>cp_3: 1.0</br>restecg_1: 0.0</br>restecg_2: 0.0</br>_original_yhat_: 0.9919773936271667</br>"
          ],
          [
           "</br>id: 14</br>prediction: 0.968</br>chol: 511.44</br></br>age: 58.0</br>sex: 0.0</br>trtbps: 150.0</br>fbs: 1.0</br>thalachh: 162.0</br>oldpeak: 1.0</br>slp: 2.0</br>thall: 2.0</br>exng_1: 0.0</br>caa_1: 0.0</br>caa_2: 0.0</br>caa_3: 0.0</br>caa_4: 0.0</br>cp_1: 0.0</br>cp_2: 0.0</br>cp_3: 1.0</br>restecg_1: 0.0</br>restecg_2: 0.0</br>_original_yhat_: 0.9919773936271667</br>"
          ],
          [
           "</br>id: 14</br>prediction: 0.968</br>chol: 515.8199999999999</br></br>age: 58.0</br>sex: 0.0</br>trtbps: 150.0</br>fbs: 1.0</br>thalachh: 162.0</br>oldpeak: 1.0</br>slp: 2.0</br>thall: 2.0</br>exng_1: 0.0</br>caa_1: 0.0</br>caa_2: 0.0</br>caa_3: 0.0</br>caa_4: 0.0</br>cp_1: 0.0</br>cp_2: 0.0</br>cp_3: 1.0</br>restecg_1: 0.0</br>restecg_2: 0.0</br>_original_yhat_: 0.9919773936271667</br>"
          ],
          [
           "</br>id: 14</br>prediction: 0.968</br>chol: 520.2</br></br>age: 58.0</br>sex: 0.0</br>trtbps: 150.0</br>fbs: 1.0</br>thalachh: 162.0</br>oldpeak: 1.0</br>slp: 2.0</br>thall: 2.0</br>exng_1: 0.0</br>caa_1: 0.0</br>caa_2: 0.0</br>caa_3: 0.0</br>caa_4: 0.0</br>cp_1: 0.0</br>cp_2: 0.0</br>cp_3: 1.0</br>restecg_1: 0.0</br>restecg_2: 0.0</br>_original_yhat_: 0.9919773936271667</br>"
          ],
          [
           "</br>id: 14</br>prediction: 0.968</br>chol: 524.5799999999999</br></br>age: 58.0</br>sex: 0.0</br>trtbps: 150.0</br>fbs: 1.0</br>thalachh: 162.0</br>oldpeak: 1.0</br>slp: 2.0</br>thall: 2.0</br>exng_1: 0.0</br>caa_1: 0.0</br>caa_2: 0.0</br>caa_3: 0.0</br>caa_4: 0.0</br>cp_1: 0.0</br>cp_2: 0.0</br>cp_3: 1.0</br>restecg_1: 0.0</br>restecg_2: 0.0</br>_original_yhat_: 0.9919773936271667</br>"
          ],
          [
           "</br>id: 14</br>prediction: 0.968</br>chol: 528.96</br></br>age: 58.0</br>sex: 0.0</br>trtbps: 150.0</br>fbs: 1.0</br>thalachh: 162.0</br>oldpeak: 1.0</br>slp: 2.0</br>thall: 2.0</br>exng_1: 0.0</br>caa_1: 0.0</br>caa_2: 0.0</br>caa_3: 0.0</br>caa_4: 0.0</br>cp_1: 0.0</br>cp_2: 0.0</br>cp_3: 1.0</br>restecg_1: 0.0</br>restecg_2: 0.0</br>_original_yhat_: 0.9919773936271667</br>"
          ],
          [
           "</br>id: 14</br>prediction: 0.968</br>chol: 533.3399999999999</br></br>age: 58.0</br>sex: 0.0</br>trtbps: 150.0</br>fbs: 1.0</br>thalachh: 162.0</br>oldpeak: 1.0</br>slp: 2.0</br>thall: 2.0</br>exng_1: 0.0</br>caa_1: 0.0</br>caa_2: 0.0</br>caa_3: 0.0</br>caa_4: 0.0</br>cp_1: 0.0</br>cp_2: 0.0</br>cp_3: 1.0</br>restecg_1: 0.0</br>restecg_2: 0.0</br>_original_yhat_: 0.9919773936271667</br>"
          ],
          [
           "</br>id: 14</br>prediction: 0.968</br>chol: 537.72</br></br>age: 58.0</br>sex: 0.0</br>trtbps: 150.0</br>fbs: 1.0</br>thalachh: 162.0</br>oldpeak: 1.0</br>slp: 2.0</br>thall: 2.0</br>exng_1: 0.0</br>caa_1: 0.0</br>caa_2: 0.0</br>caa_3: 0.0</br>caa_4: 0.0</br>cp_1: 0.0</br>cp_2: 0.0</br>cp_3: 1.0</br>restecg_1: 0.0</br>restecg_2: 0.0</br>_original_yhat_: 0.9919773936271667</br>"
          ],
          [
           "</br>id: 14</br>prediction: 0.968</br>chol: 542.0999999999999</br></br>age: 58.0</br>sex: 0.0</br>trtbps: 150.0</br>fbs: 1.0</br>thalachh: 162.0</br>oldpeak: 1.0</br>slp: 2.0</br>thall: 2.0</br>exng_1: 0.0</br>caa_1: 0.0</br>caa_2: 0.0</br>caa_3: 0.0</br>caa_4: 0.0</br>cp_1: 0.0</br>cp_2: 0.0</br>cp_3: 1.0</br>restecg_1: 0.0</br>restecg_2: 0.0</br>_original_yhat_: 0.9919773936271667</br>"
          ],
          [
           "</br>id: 14</br>prediction: 0.968</br>chol: 546.48</br></br>age: 58.0</br>sex: 0.0</br>trtbps: 150.0</br>fbs: 1.0</br>thalachh: 162.0</br>oldpeak: 1.0</br>slp: 2.0</br>thall: 2.0</br>exng_1: 0.0</br>caa_1: 0.0</br>caa_2: 0.0</br>caa_3: 0.0</br>caa_4: 0.0</br>cp_1: 0.0</br>cp_2: 0.0</br>cp_3: 1.0</br>restecg_1: 0.0</br>restecg_2: 0.0</br>_original_yhat_: 0.9919773936271667</br>"
          ],
          [
           "</br>id: 14</br>prediction: 0.968</br>chol: 550.86</br></br>age: 58.0</br>sex: 0.0</br>trtbps: 150.0</br>fbs: 1.0</br>thalachh: 162.0</br>oldpeak: 1.0</br>slp: 2.0</br>thall: 2.0</br>exng_1: 0.0</br>caa_1: 0.0</br>caa_2: 0.0</br>caa_3: 0.0</br>caa_4: 0.0</br>cp_1: 0.0</br>cp_2: 0.0</br>cp_3: 1.0</br>restecg_1: 0.0</br>restecg_2: 0.0</br>_original_yhat_: 0.9919773936271667</br>"
          ],
          [
           "</br>id: 14</br>prediction: 0.968</br>chol: 555.24</br></br>age: 58.0</br>sex: 0.0</br>trtbps: 150.0</br>fbs: 1.0</br>thalachh: 162.0</br>oldpeak: 1.0</br>slp: 2.0</br>thall: 2.0</br>exng_1: 0.0</br>caa_1: 0.0</br>caa_2: 0.0</br>caa_3: 0.0</br>caa_4: 0.0</br>cp_1: 0.0</br>cp_2: 0.0</br>cp_3: 1.0</br>restecg_1: 0.0</br>restecg_2: 0.0</br>_original_yhat_: 0.9919773936271667</br>"
          ],
          [
           "</br>id: 14</br>prediction: 0.968</br>chol: 559.62</br></br>age: 58.0</br>sex: 0.0</br>trtbps: 150.0</br>fbs: 1.0</br>thalachh: 162.0</br>oldpeak: 1.0</br>slp: 2.0</br>thall: 2.0</br>exng_1: 0.0</br>caa_1: 0.0</br>caa_2: 0.0</br>caa_3: 0.0</br>caa_4: 0.0</br>cp_1: 0.0</br>cp_2: 0.0</br>cp_3: 1.0</br>restecg_1: 0.0</br>restecg_2: 0.0</br>_original_yhat_: 0.9919773936271667</br>"
          ],
          [
           "</br>id: 14</br>prediction: 0.968</br>chol: 564.0</br></br>age: 58.0</br>sex: 0.0</br>trtbps: 150.0</br>fbs: 1.0</br>thalachh: 162.0</br>oldpeak: 1.0</br>slp: 2.0</br>thall: 2.0</br>exng_1: 0.0</br>caa_1: 0.0</br>caa_2: 0.0</br>caa_3: 0.0</br>caa_4: 0.0</br>cp_1: 0.0</br>cp_2: 0.0</br>cp_3: 1.0</br>restecg_1: 0.0</br>restecg_2: 0.0</br>_original_yhat_: 0.9919773936271667</br>"
          ]
         ],
         "hovertemplate": "%{customdata[0]}<extra></extra>",
         "legendgroup": "XGBClassifier",
         "line": {
          "color": "#46bac2",
          "dash": "solid",
          "width": 2
         },
         "marker": {
          "symbol": "circle"
         },
         "mode": "lines",
         "name": "XGBClassifier",
         "orientation": "v",
         "showlegend": false,
         "x": [
          126.0,
          130.38,
          134.76,
          139.14,
          143.52,
          147.9,
          152.28,
          156.66,
          161.04,
          165.42000000000002,
          169.8,
          174.18,
          178.56,
          182.94,
          187.32,
          191.7,
          196.07999999999998,
          200.45999999999998,
          204.84,
          209.22,
          213.6,
          217.98000000000002,
          222.36,
          226.74,
          231.12,
          235.5,
          239.88,
          244.0,
          244.26,
          248.64,
          253.01999999999998,
          257.4,
          261.78,
          266.15999999999997,
          270.53999999999996,
          274.91999999999996,
          279.29999999999995,
          283.0,
          283.68,
          288.06,
          292.44,
          296.82,
          301.2,
          305.58,
          309.96000000000004,
          314.34000000000003,
          318.72,
          323.1,
          327.48,
          331.86,
          336.24,
          340.62,
          345.0,
          349.38,
          353.76,
          358.14,
          362.52,
          366.9,
          371.28,
          375.65999999999997,
          380.03999999999996,
          384.42,
          388.8,
          393.18,
          397.56,
          401.94,
          406.32,
          410.7,
          415.08,
          419.46,
          423.84,
          428.21999999999997,
          432.59999999999997,
          436.98,
          441.36,
          445.74,
          450.12,
          454.5,
          458.88,
          463.26,
          467.64,
          472.02,
          476.4,
          480.78,
          485.15999999999997,
          489.53999999999996,
          493.92,
          498.3,
          502.68,
          507.06,
          511.44,
          515.8199999999999,
          520.2,
          524.5799999999999,
          528.96,
          533.3399999999999,
          537.72,
          542.0999999999999,
          546.48,
          550.86,
          555.24,
          559.62,
          564.0
         ],
         "xaxis": "x2",
         "y": [
          0.9984918832778931,
          0.9984918832778931,
          0.9984918832778931,
          0.9984918832778931,
          0.9984918832778931,
          0.9984918832778931,
          0.9984918832778931,
          0.9984918832778931,
          0.9984918832778931,
          0.9984918832778931,
          0.9984918832778931,
          0.9984918832778931,
          0.9984918832778931,
          0.9984918832778931,
          0.9984918832778931,
          0.9984918832778931,
          0.9984918832778931,
          0.9984918832778931,
          0.9984918832778931,
          0.9986787438392639,
          0.99858558177948,
          0.99858558177948,
          0.99858558177948,
          0.9986999034881592,
          0.9986472725868225,
          0.9988023042678833,
          0.9987435936927795,
          0.9985405206680298,
          0.9985405206680298,
          0.9985405206680298,
          0.9986134767532349,
          0.9980852603912354,
          0.9980288147926331,
          0.998238205909729,
          0.9984297156333923,
          0.9919773936271667,
          0.9919773936271667,
          0.9919773936271667,
          0.9919773936271667,
          0.9919773936271667,
          0.9919773936271667,
          0.9920335412025452,
          0.9897458553314209,
          0.9897458553314209,
          0.9897458553314209,
          0.9897458553314209,
          0.9767515659332275,
          0.9767515659332275,
          0.9767515659332275,
          0.9677658677101135,
          0.9677658677101135,
          0.9677658677101135,
          0.9677658677101135,
          0.9677658677101135,
          0.9677658677101135,
          0.9677658677101135,
          0.9677658677101135,
          0.9677658677101135,
          0.9677658677101135,
          0.9677658677101135,
          0.9677658677101135,
          0.9677658677101135,
          0.9677658677101135,
          0.9677658677101135,
          0.9677658677101135,
          0.9677658677101135,
          0.9677658677101135,
          0.9677658677101135,
          0.9677658677101135,
          0.9677658677101135,
          0.9677658677101135,
          0.9677658677101135,
          0.9677658677101135,
          0.9677658677101135,
          0.9677658677101135,
          0.9677658677101135,
          0.9677658677101135,
          0.9677658677101135,
          0.9677658677101135,
          0.9677658677101135,
          0.9677658677101135,
          0.9677658677101135,
          0.9677658677101135,
          0.9677658677101135,
          0.9677658677101135,
          0.9677658677101135,
          0.9677658677101135,
          0.9677658677101135,
          0.9677658677101135,
          0.9677658677101135,
          0.9677658677101135,
          0.9677658677101135,
          0.9677658677101135,
          0.9677658677101135,
          0.9677658677101135,
          0.9677658677101135,
          0.9677658677101135,
          0.9677658677101135,
          0.9677658677101135,
          0.9677658677101135,
          0.9677658677101135,
          0.9677658677101135,
          0.9677658677101135
         ],
         "yaxis": "y2",
         "type": "scatter",
         "opacity": 1
        },
        {
         "customdata": [
          [
           "</br>id: 108</br>prediction: 1.0</br>chol: 126.0</br></br>age: 50.0</br>sex: 0.0</br>trtbps: 120.0</br>fbs: 0.0</br>thalachh: 162.0</br>oldpeak: 1.1</br>slp: 2.0</br>thall: 2.0</br>exng_1: 0.0</br>caa_1: 0.0</br>caa_2: 0.0</br>caa_3: 0.0</br>caa_4: 0.0</br>cp_1: 1.0</br>cp_2: 0.0</br>cp_3: 0.0</br>restecg_1: 1.0</br>restecg_2: 0.0</br>_original_yhat_: 0.9995338916778564</br>"
          ],
          [
           "</br>id: 108</br>prediction: 1.0</br>chol: 130.38</br></br>age: 50.0</br>sex: 0.0</br>trtbps: 120.0</br>fbs: 0.0</br>thalachh: 162.0</br>oldpeak: 1.1</br>slp: 2.0</br>thall: 2.0</br>exng_1: 0.0</br>caa_1: 0.0</br>caa_2: 0.0</br>caa_3: 0.0</br>caa_4: 0.0</br>cp_1: 1.0</br>cp_2: 0.0</br>cp_3: 0.0</br>restecg_1: 1.0</br>restecg_2: 0.0</br>_original_yhat_: 0.9995338916778564</br>"
          ],
          [
           "</br>id: 108</br>prediction: 1.0</br>chol: 134.76</br></br>age: 50.0</br>sex: 0.0</br>trtbps: 120.0</br>fbs: 0.0</br>thalachh: 162.0</br>oldpeak: 1.1</br>slp: 2.0</br>thall: 2.0</br>exng_1: 0.0</br>caa_1: 0.0</br>caa_2: 0.0</br>caa_3: 0.0</br>caa_4: 0.0</br>cp_1: 1.0</br>cp_2: 0.0</br>cp_3: 0.0</br>restecg_1: 1.0</br>restecg_2: 0.0</br>_original_yhat_: 0.9995338916778564</br>"
          ],
          [
           "</br>id: 108</br>prediction: 1.0</br>chol: 139.14</br></br>age: 50.0</br>sex: 0.0</br>trtbps: 120.0</br>fbs: 0.0</br>thalachh: 162.0</br>oldpeak: 1.1</br>slp: 2.0</br>thall: 2.0</br>exng_1: 0.0</br>caa_1: 0.0</br>caa_2: 0.0</br>caa_3: 0.0</br>caa_4: 0.0</br>cp_1: 1.0</br>cp_2: 0.0</br>cp_3: 0.0</br>restecg_1: 1.0</br>restecg_2: 0.0</br>_original_yhat_: 0.9995338916778564</br>"
          ],
          [
           "</br>id: 108</br>prediction: 1.0</br>chol: 143.52</br></br>age: 50.0</br>sex: 0.0</br>trtbps: 120.0</br>fbs: 0.0</br>thalachh: 162.0</br>oldpeak: 1.1</br>slp: 2.0</br>thall: 2.0</br>exng_1: 0.0</br>caa_1: 0.0</br>caa_2: 0.0</br>caa_3: 0.0</br>caa_4: 0.0</br>cp_1: 1.0</br>cp_2: 0.0</br>cp_3: 0.0</br>restecg_1: 1.0</br>restecg_2: 0.0</br>_original_yhat_: 0.9995338916778564</br>"
          ],
          [
           "</br>id: 108</br>prediction: 1.0</br>chol: 147.9</br></br>age: 50.0</br>sex: 0.0</br>trtbps: 120.0</br>fbs: 0.0</br>thalachh: 162.0</br>oldpeak: 1.1</br>slp: 2.0</br>thall: 2.0</br>exng_1: 0.0</br>caa_1: 0.0</br>caa_2: 0.0</br>caa_3: 0.0</br>caa_4: 0.0</br>cp_1: 1.0</br>cp_2: 0.0</br>cp_3: 0.0</br>restecg_1: 1.0</br>restecg_2: 0.0</br>_original_yhat_: 0.9995338916778564</br>"
          ],
          [
           "</br>id: 108</br>prediction: 1.0</br>chol: 152.28</br></br>age: 50.0</br>sex: 0.0</br>trtbps: 120.0</br>fbs: 0.0</br>thalachh: 162.0</br>oldpeak: 1.1</br>slp: 2.0</br>thall: 2.0</br>exng_1: 0.0</br>caa_1: 0.0</br>caa_2: 0.0</br>caa_3: 0.0</br>caa_4: 0.0</br>cp_1: 1.0</br>cp_2: 0.0</br>cp_3: 0.0</br>restecg_1: 1.0</br>restecg_2: 0.0</br>_original_yhat_: 0.9995338916778564</br>"
          ],
          [
           "</br>id: 108</br>prediction: 1.0</br>chol: 156.66</br></br>age: 50.0</br>sex: 0.0</br>trtbps: 120.0</br>fbs: 0.0</br>thalachh: 162.0</br>oldpeak: 1.1</br>slp: 2.0</br>thall: 2.0</br>exng_1: 0.0</br>caa_1: 0.0</br>caa_2: 0.0</br>caa_3: 0.0</br>caa_4: 0.0</br>cp_1: 1.0</br>cp_2: 0.0</br>cp_3: 0.0</br>restecg_1: 1.0</br>restecg_2: 0.0</br>_original_yhat_: 0.9995338916778564</br>"
          ],
          [
           "</br>id: 108</br>prediction: 1.0</br>chol: 161.04</br></br>age: 50.0</br>sex: 0.0</br>trtbps: 120.0</br>fbs: 0.0</br>thalachh: 162.0</br>oldpeak: 1.1</br>slp: 2.0</br>thall: 2.0</br>exng_1: 0.0</br>caa_1: 0.0</br>caa_2: 0.0</br>caa_3: 0.0</br>caa_4: 0.0</br>cp_1: 1.0</br>cp_2: 0.0</br>cp_3: 0.0</br>restecg_1: 1.0</br>restecg_2: 0.0</br>_original_yhat_: 0.9995338916778564</br>"
          ],
          [
           "</br>id: 108</br>prediction: 1.0</br>chol: 165.42000000000002</br></br>age: 50.0</br>sex: 0.0</br>trtbps: 120.0</br>fbs: 0.0</br>thalachh: 162.0</br>oldpeak: 1.1</br>slp: 2.0</br>thall: 2.0</br>exng_1: 0.0</br>caa_1: 0.0</br>caa_2: 0.0</br>caa_3: 0.0</br>caa_4: 0.0</br>cp_1: 1.0</br>cp_2: 0.0</br>cp_3: 0.0</br>restecg_1: 1.0</br>restecg_2: 0.0</br>_original_yhat_: 0.9995338916778564</br>"
          ],
          [
           "</br>id: 108</br>prediction: 1.0</br>chol: 169.8</br></br>age: 50.0</br>sex: 0.0</br>trtbps: 120.0</br>fbs: 0.0</br>thalachh: 162.0</br>oldpeak: 1.1</br>slp: 2.0</br>thall: 2.0</br>exng_1: 0.0</br>caa_1: 0.0</br>caa_2: 0.0</br>caa_3: 0.0</br>caa_4: 0.0</br>cp_1: 1.0</br>cp_2: 0.0</br>cp_3: 0.0</br>restecg_1: 1.0</br>restecg_2: 0.0</br>_original_yhat_: 0.9995338916778564</br>"
          ],
          [
           "</br>id: 108</br>prediction: 1.0</br>chol: 174.18</br></br>age: 50.0</br>sex: 0.0</br>trtbps: 120.0</br>fbs: 0.0</br>thalachh: 162.0</br>oldpeak: 1.1</br>slp: 2.0</br>thall: 2.0</br>exng_1: 0.0</br>caa_1: 0.0</br>caa_2: 0.0</br>caa_3: 0.0</br>caa_4: 0.0</br>cp_1: 1.0</br>cp_2: 0.0</br>cp_3: 0.0</br>restecg_1: 1.0</br>restecg_2: 0.0</br>_original_yhat_: 0.9995338916778564</br>"
          ],
          [
           "</br>id: 108</br>prediction: 1.0</br>chol: 178.56</br></br>age: 50.0</br>sex: 0.0</br>trtbps: 120.0</br>fbs: 0.0</br>thalachh: 162.0</br>oldpeak: 1.1</br>slp: 2.0</br>thall: 2.0</br>exng_1: 0.0</br>caa_1: 0.0</br>caa_2: 0.0</br>caa_3: 0.0</br>caa_4: 0.0</br>cp_1: 1.0</br>cp_2: 0.0</br>cp_3: 0.0</br>restecg_1: 1.0</br>restecg_2: 0.0</br>_original_yhat_: 0.9995338916778564</br>"
          ],
          [
           "</br>id: 108</br>prediction: 1.0</br>chol: 182.94</br></br>age: 50.0</br>sex: 0.0</br>trtbps: 120.0</br>fbs: 0.0</br>thalachh: 162.0</br>oldpeak: 1.1</br>slp: 2.0</br>thall: 2.0</br>exng_1: 0.0</br>caa_1: 0.0</br>caa_2: 0.0</br>caa_3: 0.0</br>caa_4: 0.0</br>cp_1: 1.0</br>cp_2: 0.0</br>cp_3: 0.0</br>restecg_1: 1.0</br>restecg_2: 0.0</br>_original_yhat_: 0.9995338916778564</br>"
          ],
          [
           "</br>id: 108</br>prediction: 1.0</br>chol: 187.32</br></br>age: 50.0</br>sex: 0.0</br>trtbps: 120.0</br>fbs: 0.0</br>thalachh: 162.0</br>oldpeak: 1.1</br>slp: 2.0</br>thall: 2.0</br>exng_1: 0.0</br>caa_1: 0.0</br>caa_2: 0.0</br>caa_3: 0.0</br>caa_4: 0.0</br>cp_1: 1.0</br>cp_2: 0.0</br>cp_3: 0.0</br>restecg_1: 1.0</br>restecg_2: 0.0</br>_original_yhat_: 0.9995338916778564</br>"
          ],
          [
           "</br>id: 108</br>prediction: 1.0</br>chol: 191.7</br></br>age: 50.0</br>sex: 0.0</br>trtbps: 120.0</br>fbs: 0.0</br>thalachh: 162.0</br>oldpeak: 1.1</br>slp: 2.0</br>thall: 2.0</br>exng_1: 0.0</br>caa_1: 0.0</br>caa_2: 0.0</br>caa_3: 0.0</br>caa_4: 0.0</br>cp_1: 1.0</br>cp_2: 0.0</br>cp_3: 0.0</br>restecg_1: 1.0</br>restecg_2: 0.0</br>_original_yhat_: 0.9995338916778564</br>"
          ],
          [
           "</br>id: 108</br>prediction: 1.0</br>chol: 196.07999999999998</br></br>age: 50.0</br>sex: 0.0</br>trtbps: 120.0</br>fbs: 0.0</br>thalachh: 162.0</br>oldpeak: 1.1</br>slp: 2.0</br>thall: 2.0</br>exng_1: 0.0</br>caa_1: 0.0</br>caa_2: 0.0</br>caa_3: 0.0</br>caa_4: 0.0</br>cp_1: 1.0</br>cp_2: 0.0</br>cp_3: 0.0</br>restecg_1: 1.0</br>restecg_2: 0.0</br>_original_yhat_: 0.9995338916778564</br>"
          ],
          [
           "</br>id: 108</br>prediction: 1.0</br>chol: 200.45999999999998</br></br>age: 50.0</br>sex: 0.0</br>trtbps: 120.0</br>fbs: 0.0</br>thalachh: 162.0</br>oldpeak: 1.1</br>slp: 2.0</br>thall: 2.0</br>exng_1: 0.0</br>caa_1: 0.0</br>caa_2: 0.0</br>caa_3: 0.0</br>caa_4: 0.0</br>cp_1: 1.0</br>cp_2: 0.0</br>cp_3: 0.0</br>restecg_1: 1.0</br>restecg_2: 0.0</br>_original_yhat_: 0.9995338916778564</br>"
          ],
          [
           "</br>id: 108</br>prediction: 1.0</br>chol: 204.84</br></br>age: 50.0</br>sex: 0.0</br>trtbps: 120.0</br>fbs: 0.0</br>thalachh: 162.0</br>oldpeak: 1.1</br>slp: 2.0</br>thall: 2.0</br>exng_1: 0.0</br>caa_1: 0.0</br>caa_2: 0.0</br>caa_3: 0.0</br>caa_4: 0.0</br>cp_1: 1.0</br>cp_2: 0.0</br>cp_3: 0.0</br>restecg_1: 1.0</br>restecg_2: 0.0</br>_original_yhat_: 0.9995338916778564</br>"
          ],
          [
           "</br>id: 108</br>prediction: 1.0</br>chol: 209.22</br></br>age: 50.0</br>sex: 0.0</br>trtbps: 120.0</br>fbs: 0.0</br>thalachh: 162.0</br>oldpeak: 1.1</br>slp: 2.0</br>thall: 2.0</br>exng_1: 0.0</br>caa_1: 0.0</br>caa_2: 0.0</br>caa_3: 0.0</br>caa_4: 0.0</br>cp_1: 1.0</br>cp_2: 0.0</br>cp_3: 0.0</br>restecg_1: 1.0</br>restecg_2: 0.0</br>_original_yhat_: 0.9995338916778564</br>"
          ],
          [
           "</br>id: 108</br>prediction: 1.0</br>chol: 213.6</br></br>age: 50.0</br>sex: 0.0</br>trtbps: 120.0</br>fbs: 0.0</br>thalachh: 162.0</br>oldpeak: 1.1</br>slp: 2.0</br>thall: 2.0</br>exng_1: 0.0</br>caa_1: 0.0</br>caa_2: 0.0</br>caa_3: 0.0</br>caa_4: 0.0</br>cp_1: 1.0</br>cp_2: 0.0</br>cp_3: 0.0</br>restecg_1: 1.0</br>restecg_2: 0.0</br>_original_yhat_: 0.9995338916778564</br>"
          ],
          [
           "</br>id: 108</br>prediction: 1.0</br>chol: 217.98000000000002</br></br>age: 50.0</br>sex: 0.0</br>trtbps: 120.0</br>fbs: 0.0</br>thalachh: 162.0</br>oldpeak: 1.1</br>slp: 2.0</br>thall: 2.0</br>exng_1: 0.0</br>caa_1: 0.0</br>caa_2: 0.0</br>caa_3: 0.0</br>caa_4: 0.0</br>cp_1: 1.0</br>cp_2: 0.0</br>cp_3: 0.0</br>restecg_1: 1.0</br>restecg_2: 0.0</br>_original_yhat_: 0.9995338916778564</br>"
          ],
          [
           "</br>id: 108</br>prediction: 1.0</br>chol: 222.36</br></br>age: 50.0</br>sex: 0.0</br>trtbps: 120.0</br>fbs: 0.0</br>thalachh: 162.0</br>oldpeak: 1.1</br>slp: 2.0</br>thall: 2.0</br>exng_1: 0.0</br>caa_1: 0.0</br>caa_2: 0.0</br>caa_3: 0.0</br>caa_4: 0.0</br>cp_1: 1.0</br>cp_2: 0.0</br>cp_3: 0.0</br>restecg_1: 1.0</br>restecg_2: 0.0</br>_original_yhat_: 0.9995338916778564</br>"
          ],
          [
           "</br>id: 108</br>prediction: 0.999</br>chol: 226.74</br></br>age: 50.0</br>sex: 0.0</br>trtbps: 120.0</br>fbs: 0.0</br>thalachh: 162.0</br>oldpeak: 1.1</br>slp: 2.0</br>thall: 2.0</br>exng_1: 0.0</br>caa_1: 0.0</br>caa_2: 0.0</br>caa_3: 0.0</br>caa_4: 0.0</br>cp_1: 1.0</br>cp_2: 0.0</br>cp_3: 0.0</br>restecg_1: 1.0</br>restecg_2: 0.0</br>_original_yhat_: 0.9995338916778564</br>"
          ],
          [
           "</br>id: 108</br>prediction: 0.999</br>chol: 231.12</br></br>age: 50.0</br>sex: 0.0</br>trtbps: 120.0</br>fbs: 0.0</br>thalachh: 162.0</br>oldpeak: 1.1</br>slp: 2.0</br>thall: 2.0</br>exng_1: 0.0</br>caa_1: 0.0</br>caa_2: 0.0</br>caa_3: 0.0</br>caa_4: 0.0</br>cp_1: 1.0</br>cp_2: 0.0</br>cp_3: 0.0</br>restecg_1: 1.0</br>restecg_2: 0.0</br>_original_yhat_: 0.9995338916778564</br>"
          ],
          [
           "</br>id: 108</br>prediction: 0.999</br>chol: 235.5</br></br>age: 50.0</br>sex: 0.0</br>trtbps: 120.0</br>fbs: 0.0</br>thalachh: 162.0</br>oldpeak: 1.1</br>slp: 2.0</br>thall: 2.0</br>exng_1: 0.0</br>caa_1: 0.0</br>caa_2: 0.0</br>caa_3: 0.0</br>caa_4: 0.0</br>cp_1: 1.0</br>cp_2: 0.0</br>cp_3: 0.0</br>restecg_1: 1.0</br>restecg_2: 0.0</br>_original_yhat_: 0.9995338916778564</br>"
          ],
          [
           "</br>id: 108</br>prediction: 0.999</br>chol: 239.88</br></br>age: 50.0</br>sex: 0.0</br>trtbps: 120.0</br>fbs: 0.0</br>thalachh: 162.0</br>oldpeak: 1.1</br>slp: 2.0</br>thall: 2.0</br>exng_1: 0.0</br>caa_1: 0.0</br>caa_2: 0.0</br>caa_3: 0.0</br>caa_4: 0.0</br>cp_1: 1.0</br>cp_2: 0.0</br>cp_3: 0.0</br>restecg_1: 1.0</br>restecg_2: 0.0</br>_original_yhat_: 0.9995338916778564</br>"
          ],
          [
           "</br>id: 108</br>prediction: 1.0</br>chol: 244.0</br></br>age: 50.0</br>sex: 0.0</br>trtbps: 120.0</br>fbs: 0.0</br>thalachh: 162.0</br>oldpeak: 1.1</br>slp: 2.0</br>thall: 2.0</br>exng_1: 0.0</br>caa_1: 0.0</br>caa_2: 0.0</br>caa_3: 0.0</br>caa_4: 0.0</br>cp_1: 1.0</br>cp_2: 0.0</br>cp_3: 0.0</br>restecg_1: 1.0</br>restecg_2: 0.0</br>_original_yhat_: 0.9995338916778564</br>"
          ],
          [
           "</br>id: 108</br>prediction: 1.0</br>chol: 244.26</br></br>age: 50.0</br>sex: 0.0</br>trtbps: 120.0</br>fbs: 0.0</br>thalachh: 162.0</br>oldpeak: 1.1</br>slp: 2.0</br>thall: 2.0</br>exng_1: 0.0</br>caa_1: 0.0</br>caa_2: 0.0</br>caa_3: 0.0</br>caa_4: 0.0</br>cp_1: 1.0</br>cp_2: 0.0</br>cp_3: 0.0</br>restecg_1: 1.0</br>restecg_2: 0.0</br>_original_yhat_: 0.9995338916778564</br>"
          ],
          [
           "</br>id: 108</br>prediction: 1.0</br>chol: 248.64</br></br>age: 50.0</br>sex: 0.0</br>trtbps: 120.0</br>fbs: 0.0</br>thalachh: 162.0</br>oldpeak: 1.1</br>slp: 2.0</br>thall: 2.0</br>exng_1: 0.0</br>caa_1: 0.0</br>caa_2: 0.0</br>caa_3: 0.0</br>caa_4: 0.0</br>cp_1: 1.0</br>cp_2: 0.0</br>cp_3: 0.0</br>restecg_1: 1.0</br>restecg_2: 0.0</br>_original_yhat_: 0.9995338916778564</br>"
          ],
          [
           "</br>id: 108</br>prediction: 1.0</br>chol: 253.01999999999998</br></br>age: 50.0</br>sex: 0.0</br>trtbps: 120.0</br>fbs: 0.0</br>thalachh: 162.0</br>oldpeak: 1.1</br>slp: 2.0</br>thall: 2.0</br>exng_1: 0.0</br>caa_1: 0.0</br>caa_2: 0.0</br>caa_3: 0.0</br>caa_4: 0.0</br>cp_1: 1.0</br>cp_2: 0.0</br>cp_3: 0.0</br>restecg_1: 1.0</br>restecg_2: 0.0</br>_original_yhat_: 0.9995338916778564</br>"
          ],
          [
           "</br>id: 108</br>prediction: 1.0</br>chol: 257.4</br></br>age: 50.0</br>sex: 0.0</br>trtbps: 120.0</br>fbs: 0.0</br>thalachh: 162.0</br>oldpeak: 1.1</br>slp: 2.0</br>thall: 2.0</br>exng_1: 0.0</br>caa_1: 0.0</br>caa_2: 0.0</br>caa_3: 0.0</br>caa_4: 0.0</br>cp_1: 1.0</br>cp_2: 0.0</br>cp_3: 0.0</br>restecg_1: 1.0</br>restecg_2: 0.0</br>_original_yhat_: 0.9995338916778564</br>"
          ],
          [
           "</br>id: 108</br>prediction: 1.0</br>chol: 261.78</br></br>age: 50.0</br>sex: 0.0</br>trtbps: 120.0</br>fbs: 0.0</br>thalachh: 162.0</br>oldpeak: 1.1</br>slp: 2.0</br>thall: 2.0</br>exng_1: 0.0</br>caa_1: 0.0</br>caa_2: 0.0</br>caa_3: 0.0</br>caa_4: 0.0</br>cp_1: 1.0</br>cp_2: 0.0</br>cp_3: 0.0</br>restecg_1: 1.0</br>restecg_2: 0.0</br>_original_yhat_: 0.9995338916778564</br>"
          ],
          [
           "</br>id: 108</br>prediction: 1.0</br>chol: 266.15999999999997</br></br>age: 50.0</br>sex: 0.0</br>trtbps: 120.0</br>fbs: 0.0</br>thalachh: 162.0</br>oldpeak: 1.1</br>slp: 2.0</br>thall: 2.0</br>exng_1: 0.0</br>caa_1: 0.0</br>caa_2: 0.0</br>caa_3: 0.0</br>caa_4: 0.0</br>cp_1: 1.0</br>cp_2: 0.0</br>cp_3: 0.0</br>restecg_1: 1.0</br>restecg_2: 0.0</br>_original_yhat_: 0.9995338916778564</br>"
          ],
          [
           "</br>id: 108</br>prediction: 1.0</br>chol: 270.53999999999996</br></br>age: 50.0</br>sex: 0.0</br>trtbps: 120.0</br>fbs: 0.0</br>thalachh: 162.0</br>oldpeak: 1.1</br>slp: 2.0</br>thall: 2.0</br>exng_1: 0.0</br>caa_1: 0.0</br>caa_2: 0.0</br>caa_3: 0.0</br>caa_4: 0.0</br>cp_1: 1.0</br>cp_2: 0.0</br>cp_3: 0.0</br>restecg_1: 1.0</br>restecg_2: 0.0</br>_original_yhat_: 0.9995338916778564</br>"
          ],
          [
           "</br>id: 108</br>prediction: 1.0</br>chol: 274.91999999999996</br></br>age: 50.0</br>sex: 0.0</br>trtbps: 120.0</br>fbs: 0.0</br>thalachh: 162.0</br>oldpeak: 1.1</br>slp: 2.0</br>thall: 2.0</br>exng_1: 0.0</br>caa_1: 0.0</br>caa_2: 0.0</br>caa_3: 0.0</br>caa_4: 0.0</br>cp_1: 1.0</br>cp_2: 0.0</br>cp_3: 0.0</br>restecg_1: 1.0</br>restecg_2: 0.0</br>_original_yhat_: 0.9995338916778564</br>"
          ],
          [
           "</br>id: 108</br>prediction: 1.0</br>chol: 279.29999999999995</br></br>age: 50.0</br>sex: 0.0</br>trtbps: 120.0</br>fbs: 0.0</br>thalachh: 162.0</br>oldpeak: 1.1</br>slp: 2.0</br>thall: 2.0</br>exng_1: 0.0</br>caa_1: 0.0</br>caa_2: 0.0</br>caa_3: 0.0</br>caa_4: 0.0</br>cp_1: 1.0</br>cp_2: 0.0</br>cp_3: 0.0</br>restecg_1: 1.0</br>restecg_2: 0.0</br>_original_yhat_: 0.9995338916778564</br>"
          ],
          [
           "</br>id: 108</br>prediction: 1.0</br>chol: 283.0</br></br>age: 50.0</br>sex: 0.0</br>trtbps: 120.0</br>fbs: 0.0</br>thalachh: 162.0</br>oldpeak: 1.1</br>slp: 2.0</br>thall: 2.0</br>exng_1: 0.0</br>caa_1: 0.0</br>caa_2: 0.0</br>caa_3: 0.0</br>caa_4: 0.0</br>cp_1: 1.0</br>cp_2: 0.0</br>cp_3: 0.0</br>restecg_1: 1.0</br>restecg_2: 0.0</br>_original_yhat_: 0.9995338916778564</br>"
          ],
          [
           "</br>id: 108</br>prediction: 1.0</br>chol: 283.68</br></br>age: 50.0</br>sex: 0.0</br>trtbps: 120.0</br>fbs: 0.0</br>thalachh: 162.0</br>oldpeak: 1.1</br>slp: 2.0</br>thall: 2.0</br>exng_1: 0.0</br>caa_1: 0.0</br>caa_2: 0.0</br>caa_3: 0.0</br>caa_4: 0.0</br>cp_1: 1.0</br>cp_2: 0.0</br>cp_3: 0.0</br>restecg_1: 1.0</br>restecg_2: 0.0</br>_original_yhat_: 0.9995338916778564</br>"
          ],
          [
           "</br>id: 108</br>prediction: 1.0</br>chol: 288.06</br></br>age: 50.0</br>sex: 0.0</br>trtbps: 120.0</br>fbs: 0.0</br>thalachh: 162.0</br>oldpeak: 1.1</br>slp: 2.0</br>thall: 2.0</br>exng_1: 0.0</br>caa_1: 0.0</br>caa_2: 0.0</br>caa_3: 0.0</br>caa_4: 0.0</br>cp_1: 1.0</br>cp_2: 0.0</br>cp_3: 0.0</br>restecg_1: 1.0</br>restecg_2: 0.0</br>_original_yhat_: 0.9995338916778564</br>"
          ],
          [
           "</br>id: 108</br>prediction: 1.0</br>chol: 292.44</br></br>age: 50.0</br>sex: 0.0</br>trtbps: 120.0</br>fbs: 0.0</br>thalachh: 162.0</br>oldpeak: 1.1</br>slp: 2.0</br>thall: 2.0</br>exng_1: 0.0</br>caa_1: 0.0</br>caa_2: 0.0</br>caa_3: 0.0</br>caa_4: 0.0</br>cp_1: 1.0</br>cp_2: 0.0</br>cp_3: 0.0</br>restecg_1: 1.0</br>restecg_2: 0.0</br>_original_yhat_: 0.9995338916778564</br>"
          ],
          [
           "</br>id: 108</br>prediction: 1.0</br>chol: 296.82</br></br>age: 50.0</br>sex: 0.0</br>trtbps: 120.0</br>fbs: 0.0</br>thalachh: 162.0</br>oldpeak: 1.1</br>slp: 2.0</br>thall: 2.0</br>exng_1: 0.0</br>caa_1: 0.0</br>caa_2: 0.0</br>caa_3: 0.0</br>caa_4: 0.0</br>cp_1: 1.0</br>cp_2: 0.0</br>cp_3: 0.0</br>restecg_1: 1.0</br>restecg_2: 0.0</br>_original_yhat_: 0.9995338916778564</br>"
          ],
          [
           "</br>id: 108</br>prediction: 0.999</br>chol: 301.2</br></br>age: 50.0</br>sex: 0.0</br>trtbps: 120.0</br>fbs: 0.0</br>thalachh: 162.0</br>oldpeak: 1.1</br>slp: 2.0</br>thall: 2.0</br>exng_1: 0.0</br>caa_1: 0.0</br>caa_2: 0.0</br>caa_3: 0.0</br>caa_4: 0.0</br>cp_1: 1.0</br>cp_2: 0.0</br>cp_3: 0.0</br>restecg_1: 1.0</br>restecg_2: 0.0</br>_original_yhat_: 0.9995338916778564</br>"
          ],
          [
           "</br>id: 108</br>prediction: 0.999</br>chol: 305.58</br></br>age: 50.0</br>sex: 0.0</br>trtbps: 120.0</br>fbs: 0.0</br>thalachh: 162.0</br>oldpeak: 1.1</br>slp: 2.0</br>thall: 2.0</br>exng_1: 0.0</br>caa_1: 0.0</br>caa_2: 0.0</br>caa_3: 0.0</br>caa_4: 0.0</br>cp_1: 1.0</br>cp_2: 0.0</br>cp_3: 0.0</br>restecg_1: 1.0</br>restecg_2: 0.0</br>_original_yhat_: 0.9995338916778564</br>"
          ],
          [
           "</br>id: 108</br>prediction: 0.999</br>chol: 309.96000000000004</br></br>age: 50.0</br>sex: 0.0</br>trtbps: 120.0</br>fbs: 0.0</br>thalachh: 162.0</br>oldpeak: 1.1</br>slp: 2.0</br>thall: 2.0</br>exng_1: 0.0</br>caa_1: 0.0</br>caa_2: 0.0</br>caa_3: 0.0</br>caa_4: 0.0</br>cp_1: 1.0</br>cp_2: 0.0</br>cp_3: 0.0</br>restecg_1: 1.0</br>restecg_2: 0.0</br>_original_yhat_: 0.9995338916778564</br>"
          ],
          [
           "</br>id: 108</br>prediction: 0.999</br>chol: 314.34000000000003</br></br>age: 50.0</br>sex: 0.0</br>trtbps: 120.0</br>fbs: 0.0</br>thalachh: 162.0</br>oldpeak: 1.1</br>slp: 2.0</br>thall: 2.0</br>exng_1: 0.0</br>caa_1: 0.0</br>caa_2: 0.0</br>caa_3: 0.0</br>caa_4: 0.0</br>cp_1: 1.0</br>cp_2: 0.0</br>cp_3: 0.0</br>restecg_1: 1.0</br>restecg_2: 0.0</br>_original_yhat_: 0.9995338916778564</br>"
          ],
          [
           "</br>id: 108</br>prediction: 0.999</br>chol: 318.72</br></br>age: 50.0</br>sex: 0.0</br>trtbps: 120.0</br>fbs: 0.0</br>thalachh: 162.0</br>oldpeak: 1.1</br>slp: 2.0</br>thall: 2.0</br>exng_1: 0.0</br>caa_1: 0.0</br>caa_2: 0.0</br>caa_3: 0.0</br>caa_4: 0.0</br>cp_1: 1.0</br>cp_2: 0.0</br>cp_3: 0.0</br>restecg_1: 1.0</br>restecg_2: 0.0</br>_original_yhat_: 0.9995338916778564</br>"
          ],
          [
           "</br>id: 108</br>prediction: 0.999</br>chol: 323.1</br></br>age: 50.0</br>sex: 0.0</br>trtbps: 120.0</br>fbs: 0.0</br>thalachh: 162.0</br>oldpeak: 1.1</br>slp: 2.0</br>thall: 2.0</br>exng_1: 0.0</br>caa_1: 0.0</br>caa_2: 0.0</br>caa_3: 0.0</br>caa_4: 0.0</br>cp_1: 1.0</br>cp_2: 0.0</br>cp_3: 0.0</br>restecg_1: 1.0</br>restecg_2: 0.0</br>_original_yhat_: 0.9995338916778564</br>"
          ],
          [
           "</br>id: 108</br>prediction: 0.999</br>chol: 327.48</br></br>age: 50.0</br>sex: 0.0</br>trtbps: 120.0</br>fbs: 0.0</br>thalachh: 162.0</br>oldpeak: 1.1</br>slp: 2.0</br>thall: 2.0</br>exng_1: 0.0</br>caa_1: 0.0</br>caa_2: 0.0</br>caa_3: 0.0</br>caa_4: 0.0</br>cp_1: 1.0</br>cp_2: 0.0</br>cp_3: 0.0</br>restecg_1: 1.0</br>restecg_2: 0.0</br>_original_yhat_: 0.9995338916778564</br>"
          ],
          [
           "</br>id: 108</br>prediction: 0.998</br>chol: 331.86</br></br>age: 50.0</br>sex: 0.0</br>trtbps: 120.0</br>fbs: 0.0</br>thalachh: 162.0</br>oldpeak: 1.1</br>slp: 2.0</br>thall: 2.0</br>exng_1: 0.0</br>caa_1: 0.0</br>caa_2: 0.0</br>caa_3: 0.0</br>caa_4: 0.0</br>cp_1: 1.0</br>cp_2: 0.0</br>cp_3: 0.0</br>restecg_1: 1.0</br>restecg_2: 0.0</br>_original_yhat_: 0.9995338916778564</br>"
          ],
          [
           "</br>id: 108</br>prediction: 0.998</br>chol: 336.24</br></br>age: 50.0</br>sex: 0.0</br>trtbps: 120.0</br>fbs: 0.0</br>thalachh: 162.0</br>oldpeak: 1.1</br>slp: 2.0</br>thall: 2.0</br>exng_1: 0.0</br>caa_1: 0.0</br>caa_2: 0.0</br>caa_3: 0.0</br>caa_4: 0.0</br>cp_1: 1.0</br>cp_2: 0.0</br>cp_3: 0.0</br>restecg_1: 1.0</br>restecg_2: 0.0</br>_original_yhat_: 0.9995338916778564</br>"
          ],
          [
           "</br>id: 108</br>prediction: 0.998</br>chol: 340.62</br></br>age: 50.0</br>sex: 0.0</br>trtbps: 120.0</br>fbs: 0.0</br>thalachh: 162.0</br>oldpeak: 1.1</br>slp: 2.0</br>thall: 2.0</br>exng_1: 0.0</br>caa_1: 0.0</br>caa_2: 0.0</br>caa_3: 0.0</br>caa_4: 0.0</br>cp_1: 1.0</br>cp_2: 0.0</br>cp_3: 0.0</br>restecg_1: 1.0</br>restecg_2: 0.0</br>_original_yhat_: 0.9995338916778564</br>"
          ],
          [
           "</br>id: 108</br>prediction: 0.998</br>chol: 345.0</br></br>age: 50.0</br>sex: 0.0</br>trtbps: 120.0</br>fbs: 0.0</br>thalachh: 162.0</br>oldpeak: 1.1</br>slp: 2.0</br>thall: 2.0</br>exng_1: 0.0</br>caa_1: 0.0</br>caa_2: 0.0</br>caa_3: 0.0</br>caa_4: 0.0</br>cp_1: 1.0</br>cp_2: 0.0</br>cp_3: 0.0</br>restecg_1: 1.0</br>restecg_2: 0.0</br>_original_yhat_: 0.9995338916778564</br>"
          ],
          [
           "</br>id: 108</br>prediction: 0.998</br>chol: 349.38</br></br>age: 50.0</br>sex: 0.0</br>trtbps: 120.0</br>fbs: 0.0</br>thalachh: 162.0</br>oldpeak: 1.1</br>slp: 2.0</br>thall: 2.0</br>exng_1: 0.0</br>caa_1: 0.0</br>caa_2: 0.0</br>caa_3: 0.0</br>caa_4: 0.0</br>cp_1: 1.0</br>cp_2: 0.0</br>cp_3: 0.0</br>restecg_1: 1.0</br>restecg_2: 0.0</br>_original_yhat_: 0.9995338916778564</br>"
          ],
          [
           "</br>id: 108</br>prediction: 0.998</br>chol: 353.76</br></br>age: 50.0</br>sex: 0.0</br>trtbps: 120.0</br>fbs: 0.0</br>thalachh: 162.0</br>oldpeak: 1.1</br>slp: 2.0</br>thall: 2.0</br>exng_1: 0.0</br>caa_1: 0.0</br>caa_2: 0.0</br>caa_3: 0.0</br>caa_4: 0.0</br>cp_1: 1.0</br>cp_2: 0.0</br>cp_3: 0.0</br>restecg_1: 1.0</br>restecg_2: 0.0</br>_original_yhat_: 0.9995338916778564</br>"
          ],
          [
           "</br>id: 108</br>prediction: 0.998</br>chol: 358.14</br></br>age: 50.0</br>sex: 0.0</br>trtbps: 120.0</br>fbs: 0.0</br>thalachh: 162.0</br>oldpeak: 1.1</br>slp: 2.0</br>thall: 2.0</br>exng_1: 0.0</br>caa_1: 0.0</br>caa_2: 0.0</br>caa_3: 0.0</br>caa_4: 0.0</br>cp_1: 1.0</br>cp_2: 0.0</br>cp_3: 0.0</br>restecg_1: 1.0</br>restecg_2: 0.0</br>_original_yhat_: 0.9995338916778564</br>"
          ],
          [
           "</br>id: 108</br>prediction: 0.998</br>chol: 362.52</br></br>age: 50.0</br>sex: 0.0</br>trtbps: 120.0</br>fbs: 0.0</br>thalachh: 162.0</br>oldpeak: 1.1</br>slp: 2.0</br>thall: 2.0</br>exng_1: 0.0</br>caa_1: 0.0</br>caa_2: 0.0</br>caa_3: 0.0</br>caa_4: 0.0</br>cp_1: 1.0</br>cp_2: 0.0</br>cp_3: 0.0</br>restecg_1: 1.0</br>restecg_2: 0.0</br>_original_yhat_: 0.9995338916778564</br>"
          ],
          [
           "</br>id: 108</br>prediction: 0.998</br>chol: 366.9</br></br>age: 50.0</br>sex: 0.0</br>trtbps: 120.0</br>fbs: 0.0</br>thalachh: 162.0</br>oldpeak: 1.1</br>slp: 2.0</br>thall: 2.0</br>exng_1: 0.0</br>caa_1: 0.0</br>caa_2: 0.0</br>caa_3: 0.0</br>caa_4: 0.0</br>cp_1: 1.0</br>cp_2: 0.0</br>cp_3: 0.0</br>restecg_1: 1.0</br>restecg_2: 0.0</br>_original_yhat_: 0.9995338916778564</br>"
          ],
          [
           "</br>id: 108</br>prediction: 0.998</br>chol: 371.28</br></br>age: 50.0</br>sex: 0.0</br>trtbps: 120.0</br>fbs: 0.0</br>thalachh: 162.0</br>oldpeak: 1.1</br>slp: 2.0</br>thall: 2.0</br>exng_1: 0.0</br>caa_1: 0.0</br>caa_2: 0.0</br>caa_3: 0.0</br>caa_4: 0.0</br>cp_1: 1.0</br>cp_2: 0.0</br>cp_3: 0.0</br>restecg_1: 1.0</br>restecg_2: 0.0</br>_original_yhat_: 0.9995338916778564</br>"
          ],
          [
           "</br>id: 108</br>prediction: 0.998</br>chol: 375.65999999999997</br></br>age: 50.0</br>sex: 0.0</br>trtbps: 120.0</br>fbs: 0.0</br>thalachh: 162.0</br>oldpeak: 1.1</br>slp: 2.0</br>thall: 2.0</br>exng_1: 0.0</br>caa_1: 0.0</br>caa_2: 0.0</br>caa_3: 0.0</br>caa_4: 0.0</br>cp_1: 1.0</br>cp_2: 0.0</br>cp_3: 0.0</br>restecg_1: 1.0</br>restecg_2: 0.0</br>_original_yhat_: 0.9995338916778564</br>"
          ],
          [
           "</br>id: 108</br>prediction: 0.998</br>chol: 380.03999999999996</br></br>age: 50.0</br>sex: 0.0</br>trtbps: 120.0</br>fbs: 0.0</br>thalachh: 162.0</br>oldpeak: 1.1</br>slp: 2.0</br>thall: 2.0</br>exng_1: 0.0</br>caa_1: 0.0</br>caa_2: 0.0</br>caa_3: 0.0</br>caa_4: 0.0</br>cp_1: 1.0</br>cp_2: 0.0</br>cp_3: 0.0</br>restecg_1: 1.0</br>restecg_2: 0.0</br>_original_yhat_: 0.9995338916778564</br>"
          ],
          [
           "</br>id: 108</br>prediction: 0.998</br>chol: 384.42</br></br>age: 50.0</br>sex: 0.0</br>trtbps: 120.0</br>fbs: 0.0</br>thalachh: 162.0</br>oldpeak: 1.1</br>slp: 2.0</br>thall: 2.0</br>exng_1: 0.0</br>caa_1: 0.0</br>caa_2: 0.0</br>caa_3: 0.0</br>caa_4: 0.0</br>cp_1: 1.0</br>cp_2: 0.0</br>cp_3: 0.0</br>restecg_1: 1.0</br>restecg_2: 0.0</br>_original_yhat_: 0.9995338916778564</br>"
          ],
          [
           "</br>id: 108</br>prediction: 0.998</br>chol: 388.8</br></br>age: 50.0</br>sex: 0.0</br>trtbps: 120.0</br>fbs: 0.0</br>thalachh: 162.0</br>oldpeak: 1.1</br>slp: 2.0</br>thall: 2.0</br>exng_1: 0.0</br>caa_1: 0.0</br>caa_2: 0.0</br>caa_3: 0.0</br>caa_4: 0.0</br>cp_1: 1.0</br>cp_2: 0.0</br>cp_3: 0.0</br>restecg_1: 1.0</br>restecg_2: 0.0</br>_original_yhat_: 0.9995338916778564</br>"
          ],
          [
           "</br>id: 108</br>prediction: 0.998</br>chol: 393.18</br></br>age: 50.0</br>sex: 0.0</br>trtbps: 120.0</br>fbs: 0.0</br>thalachh: 162.0</br>oldpeak: 1.1</br>slp: 2.0</br>thall: 2.0</br>exng_1: 0.0</br>caa_1: 0.0</br>caa_2: 0.0</br>caa_3: 0.0</br>caa_4: 0.0</br>cp_1: 1.0</br>cp_2: 0.0</br>cp_3: 0.0</br>restecg_1: 1.0</br>restecg_2: 0.0</br>_original_yhat_: 0.9995338916778564</br>"
          ],
          [
           "</br>id: 108</br>prediction: 0.998</br>chol: 397.56</br></br>age: 50.0</br>sex: 0.0</br>trtbps: 120.0</br>fbs: 0.0</br>thalachh: 162.0</br>oldpeak: 1.1</br>slp: 2.0</br>thall: 2.0</br>exng_1: 0.0</br>caa_1: 0.0</br>caa_2: 0.0</br>caa_3: 0.0</br>caa_4: 0.0</br>cp_1: 1.0</br>cp_2: 0.0</br>cp_3: 0.0</br>restecg_1: 1.0</br>restecg_2: 0.0</br>_original_yhat_: 0.9995338916778564</br>"
          ],
          [
           "</br>id: 108</br>prediction: 0.998</br>chol: 401.94</br></br>age: 50.0</br>sex: 0.0</br>trtbps: 120.0</br>fbs: 0.0</br>thalachh: 162.0</br>oldpeak: 1.1</br>slp: 2.0</br>thall: 2.0</br>exng_1: 0.0</br>caa_1: 0.0</br>caa_2: 0.0</br>caa_3: 0.0</br>caa_4: 0.0</br>cp_1: 1.0</br>cp_2: 0.0</br>cp_3: 0.0</br>restecg_1: 1.0</br>restecg_2: 0.0</br>_original_yhat_: 0.9995338916778564</br>"
          ],
          [
           "</br>id: 108</br>prediction: 0.998</br>chol: 406.32</br></br>age: 50.0</br>sex: 0.0</br>trtbps: 120.0</br>fbs: 0.0</br>thalachh: 162.0</br>oldpeak: 1.1</br>slp: 2.0</br>thall: 2.0</br>exng_1: 0.0</br>caa_1: 0.0</br>caa_2: 0.0</br>caa_3: 0.0</br>caa_4: 0.0</br>cp_1: 1.0</br>cp_2: 0.0</br>cp_3: 0.0</br>restecg_1: 1.0</br>restecg_2: 0.0</br>_original_yhat_: 0.9995338916778564</br>"
          ],
          [
           "</br>id: 108</br>prediction: 0.998</br>chol: 410.7</br></br>age: 50.0</br>sex: 0.0</br>trtbps: 120.0</br>fbs: 0.0</br>thalachh: 162.0</br>oldpeak: 1.1</br>slp: 2.0</br>thall: 2.0</br>exng_1: 0.0</br>caa_1: 0.0</br>caa_2: 0.0</br>caa_3: 0.0</br>caa_4: 0.0</br>cp_1: 1.0</br>cp_2: 0.0</br>cp_3: 0.0</br>restecg_1: 1.0</br>restecg_2: 0.0</br>_original_yhat_: 0.9995338916778564</br>"
          ],
          [
           "</br>id: 108</br>prediction: 0.998</br>chol: 415.08</br></br>age: 50.0</br>sex: 0.0</br>trtbps: 120.0</br>fbs: 0.0</br>thalachh: 162.0</br>oldpeak: 1.1</br>slp: 2.0</br>thall: 2.0</br>exng_1: 0.0</br>caa_1: 0.0</br>caa_2: 0.0</br>caa_3: 0.0</br>caa_4: 0.0</br>cp_1: 1.0</br>cp_2: 0.0</br>cp_3: 0.0</br>restecg_1: 1.0</br>restecg_2: 0.0</br>_original_yhat_: 0.9995338916778564</br>"
          ],
          [
           "</br>id: 108</br>prediction: 0.998</br>chol: 419.46</br></br>age: 50.0</br>sex: 0.0</br>trtbps: 120.0</br>fbs: 0.0</br>thalachh: 162.0</br>oldpeak: 1.1</br>slp: 2.0</br>thall: 2.0</br>exng_1: 0.0</br>caa_1: 0.0</br>caa_2: 0.0</br>caa_3: 0.0</br>caa_4: 0.0</br>cp_1: 1.0</br>cp_2: 0.0</br>cp_3: 0.0</br>restecg_1: 1.0</br>restecg_2: 0.0</br>_original_yhat_: 0.9995338916778564</br>"
          ],
          [
           "</br>id: 108</br>prediction: 0.998</br>chol: 423.84</br></br>age: 50.0</br>sex: 0.0</br>trtbps: 120.0</br>fbs: 0.0</br>thalachh: 162.0</br>oldpeak: 1.1</br>slp: 2.0</br>thall: 2.0</br>exng_1: 0.0</br>caa_1: 0.0</br>caa_2: 0.0</br>caa_3: 0.0</br>caa_4: 0.0</br>cp_1: 1.0</br>cp_2: 0.0</br>cp_3: 0.0</br>restecg_1: 1.0</br>restecg_2: 0.0</br>_original_yhat_: 0.9995338916778564</br>"
          ],
          [
           "</br>id: 108</br>prediction: 0.998</br>chol: 428.21999999999997</br></br>age: 50.0</br>sex: 0.0</br>trtbps: 120.0</br>fbs: 0.0</br>thalachh: 162.0</br>oldpeak: 1.1</br>slp: 2.0</br>thall: 2.0</br>exng_1: 0.0</br>caa_1: 0.0</br>caa_2: 0.0</br>caa_3: 0.0</br>caa_4: 0.0</br>cp_1: 1.0</br>cp_2: 0.0</br>cp_3: 0.0</br>restecg_1: 1.0</br>restecg_2: 0.0</br>_original_yhat_: 0.9995338916778564</br>"
          ],
          [
           "</br>id: 108</br>prediction: 0.998</br>chol: 432.59999999999997</br></br>age: 50.0</br>sex: 0.0</br>trtbps: 120.0</br>fbs: 0.0</br>thalachh: 162.0</br>oldpeak: 1.1</br>slp: 2.0</br>thall: 2.0</br>exng_1: 0.0</br>caa_1: 0.0</br>caa_2: 0.0</br>caa_3: 0.0</br>caa_4: 0.0</br>cp_1: 1.0</br>cp_2: 0.0</br>cp_3: 0.0</br>restecg_1: 1.0</br>restecg_2: 0.0</br>_original_yhat_: 0.9995338916778564</br>"
          ],
          [
           "</br>id: 108</br>prediction: 0.998</br>chol: 436.98</br></br>age: 50.0</br>sex: 0.0</br>trtbps: 120.0</br>fbs: 0.0</br>thalachh: 162.0</br>oldpeak: 1.1</br>slp: 2.0</br>thall: 2.0</br>exng_1: 0.0</br>caa_1: 0.0</br>caa_2: 0.0</br>caa_3: 0.0</br>caa_4: 0.0</br>cp_1: 1.0</br>cp_2: 0.0</br>cp_3: 0.0</br>restecg_1: 1.0</br>restecg_2: 0.0</br>_original_yhat_: 0.9995338916778564</br>"
          ],
          [
           "</br>id: 108</br>prediction: 0.998</br>chol: 441.36</br></br>age: 50.0</br>sex: 0.0</br>trtbps: 120.0</br>fbs: 0.0</br>thalachh: 162.0</br>oldpeak: 1.1</br>slp: 2.0</br>thall: 2.0</br>exng_1: 0.0</br>caa_1: 0.0</br>caa_2: 0.0</br>caa_3: 0.0</br>caa_4: 0.0</br>cp_1: 1.0</br>cp_2: 0.0</br>cp_3: 0.0</br>restecg_1: 1.0</br>restecg_2: 0.0</br>_original_yhat_: 0.9995338916778564</br>"
          ],
          [
           "</br>id: 108</br>prediction: 0.998</br>chol: 445.74</br></br>age: 50.0</br>sex: 0.0</br>trtbps: 120.0</br>fbs: 0.0</br>thalachh: 162.0</br>oldpeak: 1.1</br>slp: 2.0</br>thall: 2.0</br>exng_1: 0.0</br>caa_1: 0.0</br>caa_2: 0.0</br>caa_3: 0.0</br>caa_4: 0.0</br>cp_1: 1.0</br>cp_2: 0.0</br>cp_3: 0.0</br>restecg_1: 1.0</br>restecg_2: 0.0</br>_original_yhat_: 0.9995338916778564</br>"
          ],
          [
           "</br>id: 108</br>prediction: 0.998</br>chol: 450.12</br></br>age: 50.0</br>sex: 0.0</br>trtbps: 120.0</br>fbs: 0.0</br>thalachh: 162.0</br>oldpeak: 1.1</br>slp: 2.0</br>thall: 2.0</br>exng_1: 0.0</br>caa_1: 0.0</br>caa_2: 0.0</br>caa_3: 0.0</br>caa_4: 0.0</br>cp_1: 1.0</br>cp_2: 0.0</br>cp_3: 0.0</br>restecg_1: 1.0</br>restecg_2: 0.0</br>_original_yhat_: 0.9995338916778564</br>"
          ],
          [
           "</br>id: 108</br>prediction: 0.998</br>chol: 454.5</br></br>age: 50.0</br>sex: 0.0</br>trtbps: 120.0</br>fbs: 0.0</br>thalachh: 162.0</br>oldpeak: 1.1</br>slp: 2.0</br>thall: 2.0</br>exng_1: 0.0</br>caa_1: 0.0</br>caa_2: 0.0</br>caa_3: 0.0</br>caa_4: 0.0</br>cp_1: 1.0</br>cp_2: 0.0</br>cp_3: 0.0</br>restecg_1: 1.0</br>restecg_2: 0.0</br>_original_yhat_: 0.9995338916778564</br>"
          ],
          [
           "</br>id: 108</br>prediction: 0.998</br>chol: 458.88</br></br>age: 50.0</br>sex: 0.0</br>trtbps: 120.0</br>fbs: 0.0</br>thalachh: 162.0</br>oldpeak: 1.1</br>slp: 2.0</br>thall: 2.0</br>exng_1: 0.0</br>caa_1: 0.0</br>caa_2: 0.0</br>caa_3: 0.0</br>caa_4: 0.0</br>cp_1: 1.0</br>cp_2: 0.0</br>cp_3: 0.0</br>restecg_1: 1.0</br>restecg_2: 0.0</br>_original_yhat_: 0.9995338916778564</br>"
          ],
          [
           "</br>id: 108</br>prediction: 0.998</br>chol: 463.26</br></br>age: 50.0</br>sex: 0.0</br>trtbps: 120.0</br>fbs: 0.0</br>thalachh: 162.0</br>oldpeak: 1.1</br>slp: 2.0</br>thall: 2.0</br>exng_1: 0.0</br>caa_1: 0.0</br>caa_2: 0.0</br>caa_3: 0.0</br>caa_4: 0.0</br>cp_1: 1.0</br>cp_2: 0.0</br>cp_3: 0.0</br>restecg_1: 1.0</br>restecg_2: 0.0</br>_original_yhat_: 0.9995338916778564</br>"
          ],
          [
           "</br>id: 108</br>prediction: 0.998</br>chol: 467.64</br></br>age: 50.0</br>sex: 0.0</br>trtbps: 120.0</br>fbs: 0.0</br>thalachh: 162.0</br>oldpeak: 1.1</br>slp: 2.0</br>thall: 2.0</br>exng_1: 0.0</br>caa_1: 0.0</br>caa_2: 0.0</br>caa_3: 0.0</br>caa_4: 0.0</br>cp_1: 1.0</br>cp_2: 0.0</br>cp_3: 0.0</br>restecg_1: 1.0</br>restecg_2: 0.0</br>_original_yhat_: 0.9995338916778564</br>"
          ],
          [
           "</br>id: 108</br>prediction: 0.998</br>chol: 472.02</br></br>age: 50.0</br>sex: 0.0</br>trtbps: 120.0</br>fbs: 0.0</br>thalachh: 162.0</br>oldpeak: 1.1</br>slp: 2.0</br>thall: 2.0</br>exng_1: 0.0</br>caa_1: 0.0</br>caa_2: 0.0</br>caa_3: 0.0</br>caa_4: 0.0</br>cp_1: 1.0</br>cp_2: 0.0</br>cp_3: 0.0</br>restecg_1: 1.0</br>restecg_2: 0.0</br>_original_yhat_: 0.9995338916778564</br>"
          ],
          [
           "</br>id: 108</br>prediction: 0.998</br>chol: 476.4</br></br>age: 50.0</br>sex: 0.0</br>trtbps: 120.0</br>fbs: 0.0</br>thalachh: 162.0</br>oldpeak: 1.1</br>slp: 2.0</br>thall: 2.0</br>exng_1: 0.0</br>caa_1: 0.0</br>caa_2: 0.0</br>caa_3: 0.0</br>caa_4: 0.0</br>cp_1: 1.0</br>cp_2: 0.0</br>cp_3: 0.0</br>restecg_1: 1.0</br>restecg_2: 0.0</br>_original_yhat_: 0.9995338916778564</br>"
          ],
          [
           "</br>id: 108</br>prediction: 0.998</br>chol: 480.78</br></br>age: 50.0</br>sex: 0.0</br>trtbps: 120.0</br>fbs: 0.0</br>thalachh: 162.0</br>oldpeak: 1.1</br>slp: 2.0</br>thall: 2.0</br>exng_1: 0.0</br>caa_1: 0.0</br>caa_2: 0.0</br>caa_3: 0.0</br>caa_4: 0.0</br>cp_1: 1.0</br>cp_2: 0.0</br>cp_3: 0.0</br>restecg_1: 1.0</br>restecg_2: 0.0</br>_original_yhat_: 0.9995338916778564</br>"
          ],
          [
           "</br>id: 108</br>prediction: 0.998</br>chol: 485.15999999999997</br></br>age: 50.0</br>sex: 0.0</br>trtbps: 120.0</br>fbs: 0.0</br>thalachh: 162.0</br>oldpeak: 1.1</br>slp: 2.0</br>thall: 2.0</br>exng_1: 0.0</br>caa_1: 0.0</br>caa_2: 0.0</br>caa_3: 0.0</br>caa_4: 0.0</br>cp_1: 1.0</br>cp_2: 0.0</br>cp_3: 0.0</br>restecg_1: 1.0</br>restecg_2: 0.0</br>_original_yhat_: 0.9995338916778564</br>"
          ],
          [
           "</br>id: 108</br>prediction: 0.998</br>chol: 489.53999999999996</br></br>age: 50.0</br>sex: 0.0</br>trtbps: 120.0</br>fbs: 0.0</br>thalachh: 162.0</br>oldpeak: 1.1</br>slp: 2.0</br>thall: 2.0</br>exng_1: 0.0</br>caa_1: 0.0</br>caa_2: 0.0</br>caa_3: 0.0</br>caa_4: 0.0</br>cp_1: 1.0</br>cp_2: 0.0</br>cp_3: 0.0</br>restecg_1: 1.0</br>restecg_2: 0.0</br>_original_yhat_: 0.9995338916778564</br>"
          ],
          [
           "</br>id: 108</br>prediction: 0.998</br>chol: 493.92</br></br>age: 50.0</br>sex: 0.0</br>trtbps: 120.0</br>fbs: 0.0</br>thalachh: 162.0</br>oldpeak: 1.1</br>slp: 2.0</br>thall: 2.0</br>exng_1: 0.0</br>caa_1: 0.0</br>caa_2: 0.0</br>caa_3: 0.0</br>caa_4: 0.0</br>cp_1: 1.0</br>cp_2: 0.0</br>cp_3: 0.0</br>restecg_1: 1.0</br>restecg_2: 0.0</br>_original_yhat_: 0.9995338916778564</br>"
          ],
          [
           "</br>id: 108</br>prediction: 0.998</br>chol: 498.3</br></br>age: 50.0</br>sex: 0.0</br>trtbps: 120.0</br>fbs: 0.0</br>thalachh: 162.0</br>oldpeak: 1.1</br>slp: 2.0</br>thall: 2.0</br>exng_1: 0.0</br>caa_1: 0.0</br>caa_2: 0.0</br>caa_3: 0.0</br>caa_4: 0.0</br>cp_1: 1.0</br>cp_2: 0.0</br>cp_3: 0.0</br>restecg_1: 1.0</br>restecg_2: 0.0</br>_original_yhat_: 0.9995338916778564</br>"
          ],
          [
           "</br>id: 108</br>prediction: 0.998</br>chol: 502.68</br></br>age: 50.0</br>sex: 0.0</br>trtbps: 120.0</br>fbs: 0.0</br>thalachh: 162.0</br>oldpeak: 1.1</br>slp: 2.0</br>thall: 2.0</br>exng_1: 0.0</br>caa_1: 0.0</br>caa_2: 0.0</br>caa_3: 0.0</br>caa_4: 0.0</br>cp_1: 1.0</br>cp_2: 0.0</br>cp_3: 0.0</br>restecg_1: 1.0</br>restecg_2: 0.0</br>_original_yhat_: 0.9995338916778564</br>"
          ],
          [
           "</br>id: 108</br>prediction: 0.998</br>chol: 507.06</br></br>age: 50.0</br>sex: 0.0</br>trtbps: 120.0</br>fbs: 0.0</br>thalachh: 162.0</br>oldpeak: 1.1</br>slp: 2.0</br>thall: 2.0</br>exng_1: 0.0</br>caa_1: 0.0</br>caa_2: 0.0</br>caa_3: 0.0</br>caa_4: 0.0</br>cp_1: 1.0</br>cp_2: 0.0</br>cp_3: 0.0</br>restecg_1: 1.0</br>restecg_2: 0.0</br>_original_yhat_: 0.9995338916778564</br>"
          ],
          [
           "</br>id: 108</br>prediction: 0.998</br>chol: 511.44</br></br>age: 50.0</br>sex: 0.0</br>trtbps: 120.0</br>fbs: 0.0</br>thalachh: 162.0</br>oldpeak: 1.1</br>slp: 2.0</br>thall: 2.0</br>exng_1: 0.0</br>caa_1: 0.0</br>caa_2: 0.0</br>caa_3: 0.0</br>caa_4: 0.0</br>cp_1: 1.0</br>cp_2: 0.0</br>cp_3: 0.0</br>restecg_1: 1.0</br>restecg_2: 0.0</br>_original_yhat_: 0.9995338916778564</br>"
          ],
          [
           "</br>id: 108</br>prediction: 0.998</br>chol: 515.8199999999999</br></br>age: 50.0</br>sex: 0.0</br>trtbps: 120.0</br>fbs: 0.0</br>thalachh: 162.0</br>oldpeak: 1.1</br>slp: 2.0</br>thall: 2.0</br>exng_1: 0.0</br>caa_1: 0.0</br>caa_2: 0.0</br>caa_3: 0.0</br>caa_4: 0.0</br>cp_1: 1.0</br>cp_2: 0.0</br>cp_3: 0.0</br>restecg_1: 1.0</br>restecg_2: 0.0</br>_original_yhat_: 0.9995338916778564</br>"
          ],
          [
           "</br>id: 108</br>prediction: 0.998</br>chol: 520.2</br></br>age: 50.0</br>sex: 0.0</br>trtbps: 120.0</br>fbs: 0.0</br>thalachh: 162.0</br>oldpeak: 1.1</br>slp: 2.0</br>thall: 2.0</br>exng_1: 0.0</br>caa_1: 0.0</br>caa_2: 0.0</br>caa_3: 0.0</br>caa_4: 0.0</br>cp_1: 1.0</br>cp_2: 0.0</br>cp_3: 0.0</br>restecg_1: 1.0</br>restecg_2: 0.0</br>_original_yhat_: 0.9995338916778564</br>"
          ],
          [
           "</br>id: 108</br>prediction: 0.998</br>chol: 524.5799999999999</br></br>age: 50.0</br>sex: 0.0</br>trtbps: 120.0</br>fbs: 0.0</br>thalachh: 162.0</br>oldpeak: 1.1</br>slp: 2.0</br>thall: 2.0</br>exng_1: 0.0</br>caa_1: 0.0</br>caa_2: 0.0</br>caa_3: 0.0</br>caa_4: 0.0</br>cp_1: 1.0</br>cp_2: 0.0</br>cp_3: 0.0</br>restecg_1: 1.0</br>restecg_2: 0.0</br>_original_yhat_: 0.9995338916778564</br>"
          ],
          [
           "</br>id: 108</br>prediction: 0.998</br>chol: 528.96</br></br>age: 50.0</br>sex: 0.0</br>trtbps: 120.0</br>fbs: 0.0</br>thalachh: 162.0</br>oldpeak: 1.1</br>slp: 2.0</br>thall: 2.0</br>exng_1: 0.0</br>caa_1: 0.0</br>caa_2: 0.0</br>caa_3: 0.0</br>caa_4: 0.0</br>cp_1: 1.0</br>cp_2: 0.0</br>cp_3: 0.0</br>restecg_1: 1.0</br>restecg_2: 0.0</br>_original_yhat_: 0.9995338916778564</br>"
          ],
          [
           "</br>id: 108</br>prediction: 0.998</br>chol: 533.3399999999999</br></br>age: 50.0</br>sex: 0.0</br>trtbps: 120.0</br>fbs: 0.0</br>thalachh: 162.0</br>oldpeak: 1.1</br>slp: 2.0</br>thall: 2.0</br>exng_1: 0.0</br>caa_1: 0.0</br>caa_2: 0.0</br>caa_3: 0.0</br>caa_4: 0.0</br>cp_1: 1.0</br>cp_2: 0.0</br>cp_3: 0.0</br>restecg_1: 1.0</br>restecg_2: 0.0</br>_original_yhat_: 0.9995338916778564</br>"
          ],
          [
           "</br>id: 108</br>prediction: 0.998</br>chol: 537.72</br></br>age: 50.0</br>sex: 0.0</br>trtbps: 120.0</br>fbs: 0.0</br>thalachh: 162.0</br>oldpeak: 1.1</br>slp: 2.0</br>thall: 2.0</br>exng_1: 0.0</br>caa_1: 0.0</br>caa_2: 0.0</br>caa_3: 0.0</br>caa_4: 0.0</br>cp_1: 1.0</br>cp_2: 0.0</br>cp_3: 0.0</br>restecg_1: 1.0</br>restecg_2: 0.0</br>_original_yhat_: 0.9995338916778564</br>"
          ],
          [
           "</br>id: 108</br>prediction: 0.998</br>chol: 542.0999999999999</br></br>age: 50.0</br>sex: 0.0</br>trtbps: 120.0</br>fbs: 0.0</br>thalachh: 162.0</br>oldpeak: 1.1</br>slp: 2.0</br>thall: 2.0</br>exng_1: 0.0</br>caa_1: 0.0</br>caa_2: 0.0</br>caa_3: 0.0</br>caa_4: 0.0</br>cp_1: 1.0</br>cp_2: 0.0</br>cp_3: 0.0</br>restecg_1: 1.0</br>restecg_2: 0.0</br>_original_yhat_: 0.9995338916778564</br>"
          ],
          [
           "</br>id: 108</br>prediction: 0.998</br>chol: 546.48</br></br>age: 50.0</br>sex: 0.0</br>trtbps: 120.0</br>fbs: 0.0</br>thalachh: 162.0</br>oldpeak: 1.1</br>slp: 2.0</br>thall: 2.0</br>exng_1: 0.0</br>caa_1: 0.0</br>caa_2: 0.0</br>caa_3: 0.0</br>caa_4: 0.0</br>cp_1: 1.0</br>cp_2: 0.0</br>cp_3: 0.0</br>restecg_1: 1.0</br>restecg_2: 0.0</br>_original_yhat_: 0.9995338916778564</br>"
          ],
          [
           "</br>id: 108</br>prediction: 0.998</br>chol: 550.86</br></br>age: 50.0</br>sex: 0.0</br>trtbps: 120.0</br>fbs: 0.0</br>thalachh: 162.0</br>oldpeak: 1.1</br>slp: 2.0</br>thall: 2.0</br>exng_1: 0.0</br>caa_1: 0.0</br>caa_2: 0.0</br>caa_3: 0.0</br>caa_4: 0.0</br>cp_1: 1.0</br>cp_2: 0.0</br>cp_3: 0.0</br>restecg_1: 1.0</br>restecg_2: 0.0</br>_original_yhat_: 0.9995338916778564</br>"
          ],
          [
           "</br>id: 108</br>prediction: 0.998</br>chol: 555.24</br></br>age: 50.0</br>sex: 0.0</br>trtbps: 120.0</br>fbs: 0.0</br>thalachh: 162.0</br>oldpeak: 1.1</br>slp: 2.0</br>thall: 2.0</br>exng_1: 0.0</br>caa_1: 0.0</br>caa_2: 0.0</br>caa_3: 0.0</br>caa_4: 0.0</br>cp_1: 1.0</br>cp_2: 0.0</br>cp_3: 0.0</br>restecg_1: 1.0</br>restecg_2: 0.0</br>_original_yhat_: 0.9995338916778564</br>"
          ],
          [
           "</br>id: 108</br>prediction: 0.998</br>chol: 559.62</br></br>age: 50.0</br>sex: 0.0</br>trtbps: 120.0</br>fbs: 0.0</br>thalachh: 162.0</br>oldpeak: 1.1</br>slp: 2.0</br>thall: 2.0</br>exng_1: 0.0</br>caa_1: 0.0</br>caa_2: 0.0</br>caa_3: 0.0</br>caa_4: 0.0</br>cp_1: 1.0</br>cp_2: 0.0</br>cp_3: 0.0</br>restecg_1: 1.0</br>restecg_2: 0.0</br>_original_yhat_: 0.9995338916778564</br>"
          ],
          [
           "</br>id: 108</br>prediction: 0.998</br>chol: 564.0</br></br>age: 50.0</br>sex: 0.0</br>trtbps: 120.0</br>fbs: 0.0</br>thalachh: 162.0</br>oldpeak: 1.1</br>slp: 2.0</br>thall: 2.0</br>exng_1: 0.0</br>caa_1: 0.0</br>caa_2: 0.0</br>caa_3: 0.0</br>caa_4: 0.0</br>cp_1: 1.0</br>cp_2: 0.0</br>cp_3: 0.0</br>restecg_1: 1.0</br>restecg_2: 0.0</br>_original_yhat_: 0.9995338916778564</br>"
          ]
         ],
         "hovertemplate": "%{customdata[0]}<extra></extra>",
         "legendgroup": "XGBClassifier",
         "line": {
          "color": "#46bac2",
          "dash": "solid",
          "width": 2
         },
         "marker": {
          "symbol": "circle"
         },
         "mode": "lines",
         "name": "XGBClassifier",
         "orientation": "v",
         "showlegend": false,
         "x": [
          126.0,
          130.38,
          134.76,
          139.14,
          143.52,
          147.9,
          152.28,
          156.66,
          161.04,
          165.42000000000002,
          169.8,
          174.18,
          178.56,
          182.94,
          187.32,
          191.7,
          196.07999999999998,
          200.45999999999998,
          204.84,
          209.22,
          213.6,
          217.98000000000002,
          222.36,
          226.74,
          231.12,
          235.5,
          239.88,
          244.0,
          244.26,
          248.64,
          253.01999999999998,
          257.4,
          261.78,
          266.15999999999997,
          270.53999999999996,
          274.91999999999996,
          279.29999999999995,
          283.0,
          283.68,
          288.06,
          292.44,
          296.82,
          301.2,
          305.58,
          309.96000000000004,
          314.34000000000003,
          318.72,
          323.1,
          327.48,
          331.86,
          336.24,
          340.62,
          345.0,
          349.38,
          353.76,
          358.14,
          362.52,
          366.9,
          371.28,
          375.65999999999997,
          380.03999999999996,
          384.42,
          388.8,
          393.18,
          397.56,
          401.94,
          406.32,
          410.7,
          415.08,
          419.46,
          423.84,
          428.21999999999997,
          432.59999999999997,
          436.98,
          441.36,
          445.74,
          450.12,
          454.5,
          458.88,
          463.26,
          467.64,
          472.02,
          476.4,
          480.78,
          485.15999999999997,
          489.53999999999996,
          493.92,
          498.3,
          502.68,
          507.06,
          511.44,
          515.8199999999999,
          520.2,
          524.5799999999999,
          528.96,
          533.3399999999999,
          537.72,
          542.0999999999999,
          546.48,
          550.86,
          555.24,
          559.62,
          564.0
         ],
         "xaxis": "x2",
         "y": [
          0.9997455477714539,
          0.9997455477714539,
          0.9997455477714539,
          0.9997455477714539,
          0.9997455477714539,
          0.9997455477714539,
          0.9997455477714539,
          0.9997455477714539,
          0.9997455477714539,
          0.9997455477714539,
          0.9997455477714539,
          0.9997455477714539,
          0.9997455477714539,
          0.9997455477714539,
          0.9997455477714539,
          0.9997455477714539,
          0.9997455477714539,
          0.9997455477714539,
          0.9997254014015198,
          0.9997907280921936,
          0.9997759461402893,
          0.9997759461402893,
          0.9996531009674072,
          0.9993520379066467,
          0.9992048144340515,
          0.9993497729301453,
          0.9992954730987549,
          0.9995338916778564,
          0.9995338916778564,
          0.9995782971382141,
          0.9995782971382141,
          0.9995782971382141,
          0.9997227787971497,
          0.9997523427009583,
          0.9997792840003967,
          0.9996016621589661,
          0.9996016621589661,
          0.9996016621589661,
          0.9996016621589661,
          0.9996016621589661,
          0.9996016621589661,
          0.9996045231819153,
          0.9994897842407227,
          0.9994897842407227,
          0.9994897842407227,
          0.9994897842407227,
          0.9988285899162292,
          0.9988285899162292,
          0.9988285899162292,
          0.9983614087104797,
          0.9983614087104797,
          0.9983614087104797,
          0.9983614087104797,
          0.9983614087104797,
          0.9983614087104797,
          0.9983614087104797,
          0.9983614087104797,
          0.9983614087104797,
          0.9983614087104797,
          0.9983614087104797,
          0.9983614087104797,
          0.9983614087104797,
          0.9983614087104797,
          0.9983614087104797,
          0.9983614087104797,
          0.9983614087104797,
          0.9983614087104797,
          0.9983614087104797,
          0.9983614087104797,
          0.9983614087104797,
          0.9983614087104797,
          0.9983614087104797,
          0.9983614087104797,
          0.9983614087104797,
          0.9983614087104797,
          0.9983614087104797,
          0.9983614087104797,
          0.9983614087104797,
          0.9983614087104797,
          0.9983614087104797,
          0.9983614087104797,
          0.9983614087104797,
          0.9983614087104797,
          0.9983614087104797,
          0.9983614087104797,
          0.9983614087104797,
          0.9983614087104797,
          0.9983614087104797,
          0.9983614087104797,
          0.9983614087104797,
          0.9983614087104797,
          0.9983614087104797,
          0.9983614087104797,
          0.9983614087104797,
          0.9983614087104797,
          0.9983614087104797,
          0.9983614087104797,
          0.9983614087104797,
          0.9983614087104797,
          0.9983614087104797,
          0.9983614087104797,
          0.9983614087104797,
          0.9983614087104797
         ],
         "yaxis": "y2",
         "type": "scatter",
         "opacity": 1
        },
        {
         "customdata": [
          [
           "</br>id: 14</br>prediction: 0.992</br>slp: 2.0</br></br>age: 58.0</br>sex: 0.0</br>trtbps: 150.0</br>chol: 283.0</br>fbs: 1.0</br>thalachh: 162.0</br>oldpeak: 1.0</br>thall: 2.0</br>exng_1: 0.0</br>caa_1: 0.0</br>caa_2: 0.0</br>caa_3: 0.0</br>caa_4: 0.0</br>cp_1: 0.0</br>cp_2: 0.0</br>cp_3: 1.0</br>restecg_1: 0.0</br>restecg_2: 0.0</br>_original_yhat_: 0.9919773936271667</br>"
          ],
          [
           "</br>id: 108</br>prediction: 1.0</br>slp: 2.0</br></br>age: 50.0</br>sex: 0.0</br>trtbps: 120.0</br>chol: 244.0</br>fbs: 0.0</br>thalachh: 162.0</br>oldpeak: 1.1</br>thall: 2.0</br>exng_1: 0.0</br>caa_1: 0.0</br>caa_2: 0.0</br>caa_3: 0.0</br>caa_4: 0.0</br>cp_1: 1.0</br>cp_2: 0.0</br>cp_3: 0.0</br>restecg_1: 1.0</br>restecg_2: 0.0</br>_original_yhat_: 0.9995338916778564</br>"
          ]
         ],
         "hovertemplate": "%{customdata[0]}<extra></extra>",
         "legendgroup": "",
         "marker": {
          "color": "#371ea3",
          "size": 10,
          "symbol": "circle"
         },
         "mode": "markers",
         "name": "",
         "opacity": 1,
         "orientation": "v",
         "showlegend": false,
         "x": [
          2.0,
          2.0
         ],
         "xaxis": "x",
         "y": [
          0.9919773936271667,
          0.9995338916778564
         ],
         "yaxis": "y",
         "type": "scatter"
        },
        {
         "customdata": [
          [
           "</br>id: 14</br>prediction: 0.992</br>chol: 283.0</br></br>age: 58.0</br>sex: 0.0</br>trtbps: 150.0</br>fbs: 1.0</br>thalachh: 162.0</br>oldpeak: 1.0</br>slp: 2.0</br>thall: 2.0</br>exng_1: 0.0</br>caa_1: 0.0</br>caa_2: 0.0</br>caa_3: 0.0</br>caa_4: 0.0</br>cp_1: 0.0</br>cp_2: 0.0</br>cp_3: 1.0</br>restecg_1: 0.0</br>restecg_2: 0.0</br>_original_yhat_: 0.9919773936271667</br>"
          ],
          [
           "</br>id: 108</br>prediction: 1.0</br>chol: 244.0</br></br>age: 50.0</br>sex: 0.0</br>trtbps: 120.0</br>fbs: 0.0</br>thalachh: 162.0</br>oldpeak: 1.1</br>slp: 2.0</br>thall: 2.0</br>exng_1: 0.0</br>caa_1: 0.0</br>caa_2: 0.0</br>caa_3: 0.0</br>caa_4: 0.0</br>cp_1: 1.0</br>cp_2: 0.0</br>cp_3: 0.0</br>restecg_1: 1.0</br>restecg_2: 0.0</br>_original_yhat_: 0.9995338916778564</br>"
          ]
         ],
         "hovertemplate": "%{customdata[0]}<extra></extra>",
         "legendgroup": "",
         "marker": {
          "color": "#371ea3",
          "size": 10,
          "symbol": "circle"
         },
         "mode": "markers",
         "name": "",
         "opacity": 1,
         "orientation": "v",
         "showlegend": false,
         "x": [
          283.0,
          244.0
         ],
         "xaxis": "x2",
         "y": [
          0.9919773936271667,
          0.9995338916778564
         ],
         "yaxis": "y2",
         "type": "scatter"
        }
       ],
       "layout": {
        "template": {
         "data": {
          "scatter": [
           {
            "type": "scatter"
           }
          ]
         }
        },
        "xaxis": {
         "anchor": "y",
         "domain": [
          0.0,
          0.475
         ],
         "title": {
          "text": ""
         },
         "showticklabels": true,
         "type": "linear",
         "gridwidth": 2,
         "zeroline": false,
         "automargin": true,
         "ticks": "outside",
         "tickcolor": "white",
         "ticklen": 3,
         "fixedrange": true
        },
        "yaxis": {
         "anchor": "x",
         "domain": [
          0.0,
          1.0
         ],
         "title": {
          "text": ""
         },
         "type": "linear",
         "gridwidth": 2,
         "zeroline": false,
         "automargin": true,
         "ticks": "outside",
         "tickcolor": "white",
         "ticklen": 3,
         "fixedrange": true,
         "range": [
          0.8674108386039734,
          1.0118252635002136
         ]
        },
        "xaxis2": {
         "anchor": "y2",
         "domain": [
          0.525,
          1.0
         ],
         "title": {
          "text": ""
         },
         "showticklabels": true,
         "type": "linear",
         "gridwidth": 2,
         "zeroline": false,
         "automargin": true,
         "ticks": "outside",
         "tickcolor": "white",
         "ticklen": 3,
         "fixedrange": true
        },
        "yaxis2": {
         "anchor": "x2",
         "domain": [
          0.0,
          1.0
         ],
         "matches": "y",
         "showticklabels": false,
         "type": "linear",
         "gridwidth": 2,
         "zeroline": false,
         "automargin": true,
         "ticks": "outside",
         "tickcolor": "white",
         "ticklen": 3,
         "fixedrange": true,
         "range": [
          0.8674108386039734,
          1.0118252635002136
         ],
         "title": {
          "text": ""
         }
        },
        "annotations": [
         {
          "font": {
           "size": 13
          },
          "showarrow": false,
          "text": "slp",
          "x": 0.2375,
          "xanchor": "center",
          "xref": "paper",
          "y": 1.0,
          "yanchor": "bottom",
          "yref": "paper"
         },
         {
          "font": {
           "size": 13
          },
          "showarrow": false,
          "text": "chol",
          "x": 0.7625,
          "xanchor": "center",
          "xref": "paper",
          "y": 1.0,
          "yanchor": "bottom",
          "yref": "paper"
         },
         {
          "font": {
           "size": 13
          },
          "showarrow": false,
          "text": "prediction",
          "textangle": -90,
          "x": -0.07,
          "xref": "paper",
          "y": 0.5,
          "yref": "paper"
         }
        ],
        "legend": {
         "title": {
          "text": "label",
          "font": {
           "size": 12
          }
         },
         "tracegroupgap": 0,
         "font": {
          "size": 11
         },
         "orientation": "h",
         "yanchor": "bottom",
         "y": 1.0613496932515338,
         "xanchor": "right",
         "x": 1,
         "itemsizing": "constant"
        },
        "margin": {
         "t": 78,
         "b": 71,
         "r": 30
        },
        "font": {
         "color": "#371ea3"
        },
        "title": {
         "font": {
          "size": 16
         },
         "text": "Ceteris Paribus Profiles",
         "x": 0.15
        },
        "hovermode": "closest",
        "height": 489,
        "hoverlabel": {
         "bgcolor": "rgba(0,0,0,0.8)"
        }
       },
       "config": {
        "displaylogo": false,
        "staticPlot": false,
        "toImageButtonOptions": {
         "height": null,
         "width": null
        },
        "modeBarButtonsToRemove": [
         "sendDataToCloud",
         "lasso2d",
         "autoScale2d",
         "select2d",
         "zoom2d",
         "pan2d",
         "zoomIn2d",
         "zoomOut2d",
         "resetScale2d",
         "toggleSpikelines",
         "hoverCompareCartesian",
         "hoverClosestCartesian"
        ],
        "plotlyServerURL": "https://plot.ly"
       }
      },
      "text/html": "<div>                            <div id=\"30342e74-5d98-4f37-bebc-9c8d24c634e2\" class=\"plotly-graph-div\" style=\"height:489px; width:100%;\"></div>            <script type=\"text/javascript\">                require([\"plotly\"], function(Plotly) {                    window.PLOTLYENV=window.PLOTLYENV || {};                                    if (document.getElementById(\"30342e74-5d98-4f37-bebc-9c8d24c634e2\")) {                    Plotly.newPlot(                        \"30342e74-5d98-4f37-bebc-9c8d24c634e2\",                        [{\"customdata\":[[\"</br>id: 14</br>prediction: 0.907</br>slp: 0.0</br></br>age: 58.0</br>sex: 0.0</br>trtbps: 150.0</br>chol: 283.0</br>fbs: 1.0</br>thalachh: 162.0</br>oldpeak: 1.0</br>thall: 2.0</br>exng_1: 0.0</br>caa_1: 0.0</br>caa_2: 0.0</br>caa_3: 0.0</br>caa_4: 0.0</br>cp_1: 0.0</br>cp_2: 0.0</br>cp_3: 1.0</br>restecg_1: 0.0</br>restecg_2: 0.0</br>_original_yhat_: 0.9919773936271667</br>\"],[\"</br>id: 14</br>prediction: 0.907</br>slp: 0.02</br></br>age: 58.0</br>sex: 0.0</br>trtbps: 150.0</br>chol: 283.0</br>fbs: 1.0</br>thalachh: 162.0</br>oldpeak: 1.0</br>thall: 2.0</br>exng_1: 0.0</br>caa_1: 0.0</br>caa_2: 0.0</br>caa_3: 0.0</br>caa_4: 0.0</br>cp_1: 0.0</br>cp_2: 0.0</br>cp_3: 1.0</br>restecg_1: 0.0</br>restecg_2: 0.0</br>_original_yhat_: 0.9919773936271667</br>\"],[\"</br>id: 14</br>prediction: 0.907</br>slp: 0.04</br></br>age: 58.0</br>sex: 0.0</br>trtbps: 150.0</br>chol: 283.0</br>fbs: 1.0</br>thalachh: 162.0</br>oldpeak: 1.0</br>thall: 2.0</br>exng_1: 0.0</br>caa_1: 0.0</br>caa_2: 0.0</br>caa_3: 0.0</br>caa_4: 0.0</br>cp_1: 0.0</br>cp_2: 0.0</br>cp_3: 1.0</br>restecg_1: 0.0</br>restecg_2: 0.0</br>_original_yhat_: 0.9919773936271667</br>\"],[\"</br>id: 14</br>prediction: 0.907</br>slp: 0.06</br></br>age: 58.0</br>sex: 0.0</br>trtbps: 150.0</br>chol: 283.0</br>fbs: 1.0</br>thalachh: 162.0</br>oldpeak: 1.0</br>thall: 2.0</br>exng_1: 0.0</br>caa_1: 0.0</br>caa_2: 0.0</br>caa_3: 0.0</br>caa_4: 0.0</br>cp_1: 0.0</br>cp_2: 0.0</br>cp_3: 1.0</br>restecg_1: 0.0</br>restecg_2: 0.0</br>_original_yhat_: 0.9919773936271667</br>\"],[\"</br>id: 14</br>prediction: 0.907</br>slp: 0.08</br></br>age: 58.0</br>sex: 0.0</br>trtbps: 150.0</br>chol: 283.0</br>fbs: 1.0</br>thalachh: 162.0</br>oldpeak: 1.0</br>thall: 2.0</br>exng_1: 0.0</br>caa_1: 0.0</br>caa_2: 0.0</br>caa_3: 0.0</br>caa_4: 0.0</br>cp_1: 0.0</br>cp_2: 0.0</br>cp_3: 1.0</br>restecg_1: 0.0</br>restecg_2: 0.0</br>_original_yhat_: 0.9919773936271667</br>\"],[\"</br>id: 14</br>prediction: 0.907</br>slp: 0.1</br></br>age: 58.0</br>sex: 0.0</br>trtbps: 150.0</br>chol: 283.0</br>fbs: 1.0</br>thalachh: 162.0</br>oldpeak: 1.0</br>thall: 2.0</br>exng_1: 0.0</br>caa_1: 0.0</br>caa_2: 0.0</br>caa_3: 0.0</br>caa_4: 0.0</br>cp_1: 0.0</br>cp_2: 0.0</br>cp_3: 1.0</br>restecg_1: 0.0</br>restecg_2: 0.0</br>_original_yhat_: 0.9919773936271667</br>\"],[\"</br>id: 14</br>prediction: 0.907</br>slp: 0.12</br></br>age: 58.0</br>sex: 0.0</br>trtbps: 150.0</br>chol: 283.0</br>fbs: 1.0</br>thalachh: 162.0</br>oldpeak: 1.0</br>thall: 2.0</br>exng_1: 0.0</br>caa_1: 0.0</br>caa_2: 0.0</br>caa_3: 0.0</br>caa_4: 0.0</br>cp_1: 0.0</br>cp_2: 0.0</br>cp_3: 1.0</br>restecg_1: 0.0</br>restecg_2: 0.0</br>_original_yhat_: 0.9919773936271667</br>\"],[\"</br>id: 14</br>prediction: 0.907</br>slp: 0.14</br></br>age: 58.0</br>sex: 0.0</br>trtbps: 150.0</br>chol: 283.0</br>fbs: 1.0</br>thalachh: 162.0</br>oldpeak: 1.0</br>thall: 2.0</br>exng_1: 0.0</br>caa_1: 0.0</br>caa_2: 0.0</br>caa_3: 0.0</br>caa_4: 0.0</br>cp_1: 0.0</br>cp_2: 0.0</br>cp_3: 1.0</br>restecg_1: 0.0</br>restecg_2: 0.0</br>_original_yhat_: 0.9919773936271667</br>\"],[\"</br>id: 14</br>prediction: 0.907</br>slp: 0.16</br></br>age: 58.0</br>sex: 0.0</br>trtbps: 150.0</br>chol: 283.0</br>fbs: 1.0</br>thalachh: 162.0</br>oldpeak: 1.0</br>thall: 2.0</br>exng_1: 0.0</br>caa_1: 0.0</br>caa_2: 0.0</br>caa_3: 0.0</br>caa_4: 0.0</br>cp_1: 0.0</br>cp_2: 0.0</br>cp_3: 1.0</br>restecg_1: 0.0</br>restecg_2: 0.0</br>_original_yhat_: 0.9919773936271667</br>\"],[\"</br>id: 14</br>prediction: 0.907</br>slp: 0.18</br></br>age: 58.0</br>sex: 0.0</br>trtbps: 150.0</br>chol: 283.0</br>fbs: 1.0</br>thalachh: 162.0</br>oldpeak: 1.0</br>thall: 2.0</br>exng_1: 0.0</br>caa_1: 0.0</br>caa_2: 0.0</br>caa_3: 0.0</br>caa_4: 0.0</br>cp_1: 0.0</br>cp_2: 0.0</br>cp_3: 1.0</br>restecg_1: 0.0</br>restecg_2: 0.0</br>_original_yhat_: 0.9919773936271667</br>\"],[\"</br>id: 14</br>prediction: 0.907</br>slp: 0.2</br></br>age: 58.0</br>sex: 0.0</br>trtbps: 150.0</br>chol: 283.0</br>fbs: 1.0</br>thalachh: 162.0</br>oldpeak: 1.0</br>thall: 2.0</br>exng_1: 0.0</br>caa_1: 0.0</br>caa_2: 0.0</br>caa_3: 0.0</br>caa_4: 0.0</br>cp_1: 0.0</br>cp_2: 0.0</br>cp_3: 1.0</br>restecg_1: 0.0</br>restecg_2: 0.0</br>_original_yhat_: 0.9919773936271667</br>\"],[\"</br>id: 14</br>prediction: 0.907</br>slp: 0.22</br></br>age: 58.0</br>sex: 0.0</br>trtbps: 150.0</br>chol: 283.0</br>fbs: 1.0</br>thalachh: 162.0</br>oldpeak: 1.0</br>thall: 2.0</br>exng_1: 0.0</br>caa_1: 0.0</br>caa_2: 0.0</br>caa_3: 0.0</br>caa_4: 0.0</br>cp_1: 0.0</br>cp_2: 0.0</br>cp_3: 1.0</br>restecg_1: 0.0</br>restecg_2: 0.0</br>_original_yhat_: 0.9919773936271667</br>\"],[\"</br>id: 14</br>prediction: 0.907</br>slp: 0.24</br></br>age: 58.0</br>sex: 0.0</br>trtbps: 150.0</br>chol: 283.0</br>fbs: 1.0</br>thalachh: 162.0</br>oldpeak: 1.0</br>thall: 2.0</br>exng_1: 0.0</br>caa_1: 0.0</br>caa_2: 0.0</br>caa_3: 0.0</br>caa_4: 0.0</br>cp_1: 0.0</br>cp_2: 0.0</br>cp_3: 1.0</br>restecg_1: 0.0</br>restecg_2: 0.0</br>_original_yhat_: 0.9919773936271667</br>\"],[\"</br>id: 14</br>prediction: 0.907</br>slp: 0.26</br></br>age: 58.0</br>sex: 0.0</br>trtbps: 150.0</br>chol: 283.0</br>fbs: 1.0</br>thalachh: 162.0</br>oldpeak: 1.0</br>thall: 2.0</br>exng_1: 0.0</br>caa_1: 0.0</br>caa_2: 0.0</br>caa_3: 0.0</br>caa_4: 0.0</br>cp_1: 0.0</br>cp_2: 0.0</br>cp_3: 1.0</br>restecg_1: 0.0</br>restecg_2: 0.0</br>_original_yhat_: 0.9919773936271667</br>\"],[\"</br>id: 14</br>prediction: 0.907</br>slp: 0.28</br></br>age: 58.0</br>sex: 0.0</br>trtbps: 150.0</br>chol: 283.0</br>fbs: 1.0</br>thalachh: 162.0</br>oldpeak: 1.0</br>thall: 2.0</br>exng_1: 0.0</br>caa_1: 0.0</br>caa_2: 0.0</br>caa_3: 0.0</br>caa_4: 0.0</br>cp_1: 0.0</br>cp_2: 0.0</br>cp_3: 1.0</br>restecg_1: 0.0</br>restecg_2: 0.0</br>_original_yhat_: 0.9919773936271667</br>\"],[\"</br>id: 14</br>prediction: 0.907</br>slp: 0.3</br></br>age: 58.0</br>sex: 0.0</br>trtbps: 150.0</br>chol: 283.0</br>fbs: 1.0</br>thalachh: 162.0</br>oldpeak: 1.0</br>thall: 2.0</br>exng_1: 0.0</br>caa_1: 0.0</br>caa_2: 0.0</br>caa_3: 0.0</br>caa_4: 0.0</br>cp_1: 0.0</br>cp_2: 0.0</br>cp_3: 1.0</br>restecg_1: 0.0</br>restecg_2: 0.0</br>_original_yhat_: 0.9919773936271667</br>\"],[\"</br>id: 14</br>prediction: 0.907</br>slp: 0.32</br></br>age: 58.0</br>sex: 0.0</br>trtbps: 150.0</br>chol: 283.0</br>fbs: 1.0</br>thalachh: 162.0</br>oldpeak: 1.0</br>thall: 2.0</br>exng_1: 0.0</br>caa_1: 0.0</br>caa_2: 0.0</br>caa_3: 0.0</br>caa_4: 0.0</br>cp_1: 0.0</br>cp_2: 0.0</br>cp_3: 1.0</br>restecg_1: 0.0</br>restecg_2: 0.0</br>_original_yhat_: 0.9919773936271667</br>\"],[\"</br>id: 14</br>prediction: 0.907</br>slp: 0.34</br></br>age: 58.0</br>sex: 0.0</br>trtbps: 150.0</br>chol: 283.0</br>fbs: 1.0</br>thalachh: 162.0</br>oldpeak: 1.0</br>thall: 2.0</br>exng_1: 0.0</br>caa_1: 0.0</br>caa_2: 0.0</br>caa_3: 0.0</br>caa_4: 0.0</br>cp_1: 0.0</br>cp_2: 0.0</br>cp_3: 1.0</br>restecg_1: 0.0</br>restecg_2: 0.0</br>_original_yhat_: 0.9919773936271667</br>\"],[\"</br>id: 14</br>prediction: 0.907</br>slp: 0.36</br></br>age: 58.0</br>sex: 0.0</br>trtbps: 150.0</br>chol: 283.0</br>fbs: 1.0</br>thalachh: 162.0</br>oldpeak: 1.0</br>thall: 2.0</br>exng_1: 0.0</br>caa_1: 0.0</br>caa_2: 0.0</br>caa_3: 0.0</br>caa_4: 0.0</br>cp_1: 0.0</br>cp_2: 0.0</br>cp_3: 1.0</br>restecg_1: 0.0</br>restecg_2: 0.0</br>_original_yhat_: 0.9919773936271667</br>\"],[\"</br>id: 14</br>prediction: 0.907</br>slp: 0.38</br></br>age: 58.0</br>sex: 0.0</br>trtbps: 150.0</br>chol: 283.0</br>fbs: 1.0</br>thalachh: 162.0</br>oldpeak: 1.0</br>thall: 2.0</br>exng_1: 0.0</br>caa_1: 0.0</br>caa_2: 0.0</br>caa_3: 0.0</br>caa_4: 0.0</br>cp_1: 0.0</br>cp_2: 0.0</br>cp_3: 1.0</br>restecg_1: 0.0</br>restecg_2: 0.0</br>_original_yhat_: 0.9919773936271667</br>\"],[\"</br>id: 14</br>prediction: 0.907</br>slp: 0.4</br></br>age: 58.0</br>sex: 0.0</br>trtbps: 150.0</br>chol: 283.0</br>fbs: 1.0</br>thalachh: 162.0</br>oldpeak: 1.0</br>thall: 2.0</br>exng_1: 0.0</br>caa_1: 0.0</br>caa_2: 0.0</br>caa_3: 0.0</br>caa_4: 0.0</br>cp_1: 0.0</br>cp_2: 0.0</br>cp_3: 1.0</br>restecg_1: 0.0</br>restecg_2: 0.0</br>_original_yhat_: 0.9919773936271667</br>\"],[\"</br>id: 14</br>prediction: 0.907</br>slp: 0.42</br></br>age: 58.0</br>sex: 0.0</br>trtbps: 150.0</br>chol: 283.0</br>fbs: 1.0</br>thalachh: 162.0</br>oldpeak: 1.0</br>thall: 2.0</br>exng_1: 0.0</br>caa_1: 0.0</br>caa_2: 0.0</br>caa_3: 0.0</br>caa_4: 0.0</br>cp_1: 0.0</br>cp_2: 0.0</br>cp_3: 1.0</br>restecg_1: 0.0</br>restecg_2: 0.0</br>_original_yhat_: 0.9919773936271667</br>\"],[\"</br>id: 14</br>prediction: 0.907</br>slp: 0.44</br></br>age: 58.0</br>sex: 0.0</br>trtbps: 150.0</br>chol: 283.0</br>fbs: 1.0</br>thalachh: 162.0</br>oldpeak: 1.0</br>thall: 2.0</br>exng_1: 0.0</br>caa_1: 0.0</br>caa_2: 0.0</br>caa_3: 0.0</br>caa_4: 0.0</br>cp_1: 0.0</br>cp_2: 0.0</br>cp_3: 1.0</br>restecg_1: 0.0</br>restecg_2: 0.0</br>_original_yhat_: 0.9919773936271667</br>\"],[\"</br>id: 14</br>prediction: 0.907</br>slp: 0.46</br></br>age: 58.0</br>sex: 0.0</br>trtbps: 150.0</br>chol: 283.0</br>fbs: 1.0</br>thalachh: 162.0</br>oldpeak: 1.0</br>thall: 2.0</br>exng_1: 0.0</br>caa_1: 0.0</br>caa_2: 0.0</br>caa_3: 0.0</br>caa_4: 0.0</br>cp_1: 0.0</br>cp_2: 0.0</br>cp_3: 1.0</br>restecg_1: 0.0</br>restecg_2: 0.0</br>_original_yhat_: 0.9919773936271667</br>\"],[\"</br>id: 14</br>prediction: 0.907</br>slp: 0.48</br></br>age: 58.0</br>sex: 0.0</br>trtbps: 150.0</br>chol: 283.0</br>fbs: 1.0</br>thalachh: 162.0</br>oldpeak: 1.0</br>thall: 2.0</br>exng_1: 0.0</br>caa_1: 0.0</br>caa_2: 0.0</br>caa_3: 0.0</br>caa_4: 0.0</br>cp_1: 0.0</br>cp_2: 0.0</br>cp_3: 1.0</br>restecg_1: 0.0</br>restecg_2: 0.0</br>_original_yhat_: 0.9919773936271667</br>\"],[\"</br>id: 14</br>prediction: 0.879</br>slp: 0.5</br></br>age: 58.0</br>sex: 0.0</br>trtbps: 150.0</br>chol: 283.0</br>fbs: 1.0</br>thalachh: 162.0</br>oldpeak: 1.0</br>thall: 2.0</br>exng_1: 0.0</br>caa_1: 0.0</br>caa_2: 0.0</br>caa_3: 0.0</br>caa_4: 0.0</br>cp_1: 0.0</br>cp_2: 0.0</br>cp_3: 1.0</br>restecg_1: 0.0</br>restecg_2: 0.0</br>_original_yhat_: 0.9919773936271667</br>\"],[\"</br>id: 14</br>prediction: 0.879</br>slp: 0.52</br></br>age: 58.0</br>sex: 0.0</br>trtbps: 150.0</br>chol: 283.0</br>fbs: 1.0</br>thalachh: 162.0</br>oldpeak: 1.0</br>thall: 2.0</br>exng_1: 0.0</br>caa_1: 0.0</br>caa_2: 0.0</br>caa_3: 0.0</br>caa_4: 0.0</br>cp_1: 0.0</br>cp_2: 0.0</br>cp_3: 1.0</br>restecg_1: 0.0</br>restecg_2: 0.0</br>_original_yhat_: 0.9919773936271667</br>\"],[\"</br>id: 14</br>prediction: 0.879</br>slp: 0.54</br></br>age: 58.0</br>sex: 0.0</br>trtbps: 150.0</br>chol: 283.0</br>fbs: 1.0</br>thalachh: 162.0</br>oldpeak: 1.0</br>thall: 2.0</br>exng_1: 0.0</br>caa_1: 0.0</br>caa_2: 0.0</br>caa_3: 0.0</br>caa_4: 0.0</br>cp_1: 0.0</br>cp_2: 0.0</br>cp_3: 1.0</br>restecg_1: 0.0</br>restecg_2: 0.0</br>_original_yhat_: 0.9919773936271667</br>\"],[\"</br>id: 14</br>prediction: 0.879</br>slp: 0.56</br></br>age: 58.0</br>sex: 0.0</br>trtbps: 150.0</br>chol: 283.0</br>fbs: 1.0</br>thalachh: 162.0</br>oldpeak: 1.0</br>thall: 2.0</br>exng_1: 0.0</br>caa_1: 0.0</br>caa_2: 0.0</br>caa_3: 0.0</br>caa_4: 0.0</br>cp_1: 0.0</br>cp_2: 0.0</br>cp_3: 1.0</br>restecg_1: 0.0</br>restecg_2: 0.0</br>_original_yhat_: 0.9919773936271667</br>\"],[\"</br>id: 14</br>prediction: 0.879</br>slp: 0.58</br></br>age: 58.0</br>sex: 0.0</br>trtbps: 150.0</br>chol: 283.0</br>fbs: 1.0</br>thalachh: 162.0</br>oldpeak: 1.0</br>thall: 2.0</br>exng_1: 0.0</br>caa_1: 0.0</br>caa_2: 0.0</br>caa_3: 0.0</br>caa_4: 0.0</br>cp_1: 0.0</br>cp_2: 0.0</br>cp_3: 1.0</br>restecg_1: 0.0</br>restecg_2: 0.0</br>_original_yhat_: 0.9919773936271667</br>\"],[\"</br>id: 14</br>prediction: 0.879</br>slp: 0.6</br></br>age: 58.0</br>sex: 0.0</br>trtbps: 150.0</br>chol: 283.0</br>fbs: 1.0</br>thalachh: 162.0</br>oldpeak: 1.0</br>thall: 2.0</br>exng_1: 0.0</br>caa_1: 0.0</br>caa_2: 0.0</br>caa_3: 0.0</br>caa_4: 0.0</br>cp_1: 0.0</br>cp_2: 0.0</br>cp_3: 1.0</br>restecg_1: 0.0</br>restecg_2: 0.0</br>_original_yhat_: 0.9919773936271667</br>\"],[\"</br>id: 14</br>prediction: 0.879</br>slp: 0.62</br></br>age: 58.0</br>sex: 0.0</br>trtbps: 150.0</br>chol: 283.0</br>fbs: 1.0</br>thalachh: 162.0</br>oldpeak: 1.0</br>thall: 2.0</br>exng_1: 0.0</br>caa_1: 0.0</br>caa_2: 0.0</br>caa_3: 0.0</br>caa_4: 0.0</br>cp_1: 0.0</br>cp_2: 0.0</br>cp_3: 1.0</br>restecg_1: 0.0</br>restecg_2: 0.0</br>_original_yhat_: 0.9919773936271667</br>\"],[\"</br>id: 14</br>prediction: 0.879</br>slp: 0.64</br></br>age: 58.0</br>sex: 0.0</br>trtbps: 150.0</br>chol: 283.0</br>fbs: 1.0</br>thalachh: 162.0</br>oldpeak: 1.0</br>thall: 2.0</br>exng_1: 0.0</br>caa_1: 0.0</br>caa_2: 0.0</br>caa_3: 0.0</br>caa_4: 0.0</br>cp_1: 0.0</br>cp_2: 0.0</br>cp_3: 1.0</br>restecg_1: 0.0</br>restecg_2: 0.0</br>_original_yhat_: 0.9919773936271667</br>\"],[\"</br>id: 14</br>prediction: 0.879</br>slp: 0.66</br></br>age: 58.0</br>sex: 0.0</br>trtbps: 150.0</br>chol: 283.0</br>fbs: 1.0</br>thalachh: 162.0</br>oldpeak: 1.0</br>thall: 2.0</br>exng_1: 0.0</br>caa_1: 0.0</br>caa_2: 0.0</br>caa_3: 0.0</br>caa_4: 0.0</br>cp_1: 0.0</br>cp_2: 0.0</br>cp_3: 1.0</br>restecg_1: 0.0</br>restecg_2: 0.0</br>_original_yhat_: 0.9919773936271667</br>\"],[\"</br>id: 14</br>prediction: 0.879</br>slp: 0.68</br></br>age: 58.0</br>sex: 0.0</br>trtbps: 150.0</br>chol: 283.0</br>fbs: 1.0</br>thalachh: 162.0</br>oldpeak: 1.0</br>thall: 2.0</br>exng_1: 0.0</br>caa_1: 0.0</br>caa_2: 0.0</br>caa_3: 0.0</br>caa_4: 0.0</br>cp_1: 0.0</br>cp_2: 0.0</br>cp_3: 1.0</br>restecg_1: 0.0</br>restecg_2: 0.0</br>_original_yhat_: 0.9919773936271667</br>\"],[\"</br>id: 14</br>prediction: 0.879</br>slp: 0.7000000000000001</br></br>age: 58.0</br>sex: 0.0</br>trtbps: 150.0</br>chol: 283.0</br>fbs: 1.0</br>thalachh: 162.0</br>oldpeak: 1.0</br>thall: 2.0</br>exng_1: 0.0</br>caa_1: 0.0</br>caa_2: 0.0</br>caa_3: 0.0</br>caa_4: 0.0</br>cp_1: 0.0</br>cp_2: 0.0</br>cp_3: 1.0</br>restecg_1: 0.0</br>restecg_2: 0.0</br>_original_yhat_: 0.9919773936271667</br>\"],[\"</br>id: 14</br>prediction: 0.879</br>slp: 0.72</br></br>age: 58.0</br>sex: 0.0</br>trtbps: 150.0</br>chol: 283.0</br>fbs: 1.0</br>thalachh: 162.0</br>oldpeak: 1.0</br>thall: 2.0</br>exng_1: 0.0</br>caa_1: 0.0</br>caa_2: 0.0</br>caa_3: 0.0</br>caa_4: 0.0</br>cp_1: 0.0</br>cp_2: 0.0</br>cp_3: 1.0</br>restecg_1: 0.0</br>restecg_2: 0.0</br>_original_yhat_: 0.9919773936271667</br>\"],[\"</br>id: 14</br>prediction: 0.879</br>slp: 0.74</br></br>age: 58.0</br>sex: 0.0</br>trtbps: 150.0</br>chol: 283.0</br>fbs: 1.0</br>thalachh: 162.0</br>oldpeak: 1.0</br>thall: 2.0</br>exng_1: 0.0</br>caa_1: 0.0</br>caa_2: 0.0</br>caa_3: 0.0</br>caa_4: 0.0</br>cp_1: 0.0</br>cp_2: 0.0</br>cp_3: 1.0</br>restecg_1: 0.0</br>restecg_2: 0.0</br>_original_yhat_: 0.9919773936271667</br>\"],[\"</br>id: 14</br>prediction: 0.879</br>slp: 0.76</br></br>age: 58.0</br>sex: 0.0</br>trtbps: 150.0</br>chol: 283.0</br>fbs: 1.0</br>thalachh: 162.0</br>oldpeak: 1.0</br>thall: 2.0</br>exng_1: 0.0</br>caa_1: 0.0</br>caa_2: 0.0</br>caa_3: 0.0</br>caa_4: 0.0</br>cp_1: 0.0</br>cp_2: 0.0</br>cp_3: 1.0</br>restecg_1: 0.0</br>restecg_2: 0.0</br>_original_yhat_: 0.9919773936271667</br>\"],[\"</br>id: 14</br>prediction: 0.879</br>slp: 0.78</br></br>age: 58.0</br>sex: 0.0</br>trtbps: 150.0</br>chol: 283.0</br>fbs: 1.0</br>thalachh: 162.0</br>oldpeak: 1.0</br>thall: 2.0</br>exng_1: 0.0</br>caa_1: 0.0</br>caa_2: 0.0</br>caa_3: 0.0</br>caa_4: 0.0</br>cp_1: 0.0</br>cp_2: 0.0</br>cp_3: 1.0</br>restecg_1: 0.0</br>restecg_2: 0.0</br>_original_yhat_: 0.9919773936271667</br>\"],[\"</br>id: 14</br>prediction: 0.879</br>slp: 0.8</br></br>age: 58.0</br>sex: 0.0</br>trtbps: 150.0</br>chol: 283.0</br>fbs: 1.0</br>thalachh: 162.0</br>oldpeak: 1.0</br>thall: 2.0</br>exng_1: 0.0</br>caa_1: 0.0</br>caa_2: 0.0</br>caa_3: 0.0</br>caa_4: 0.0</br>cp_1: 0.0</br>cp_2: 0.0</br>cp_3: 1.0</br>restecg_1: 0.0</br>restecg_2: 0.0</br>_original_yhat_: 0.9919773936271667</br>\"],[\"</br>id: 14</br>prediction: 0.879</br>slp: 0.8200000000000001</br></br>age: 58.0</br>sex: 0.0</br>trtbps: 150.0</br>chol: 283.0</br>fbs: 1.0</br>thalachh: 162.0</br>oldpeak: 1.0</br>thall: 2.0</br>exng_1: 0.0</br>caa_1: 0.0</br>caa_2: 0.0</br>caa_3: 0.0</br>caa_4: 0.0</br>cp_1: 0.0</br>cp_2: 0.0</br>cp_3: 1.0</br>restecg_1: 0.0</br>restecg_2: 0.0</br>_original_yhat_: 0.9919773936271667</br>\"],[\"</br>id: 14</br>prediction: 0.879</br>slp: 0.84</br></br>age: 58.0</br>sex: 0.0</br>trtbps: 150.0</br>chol: 283.0</br>fbs: 1.0</br>thalachh: 162.0</br>oldpeak: 1.0</br>thall: 2.0</br>exng_1: 0.0</br>caa_1: 0.0</br>caa_2: 0.0</br>caa_3: 0.0</br>caa_4: 0.0</br>cp_1: 0.0</br>cp_2: 0.0</br>cp_3: 1.0</br>restecg_1: 0.0</br>restecg_2: 0.0</br>_original_yhat_: 0.9919773936271667</br>\"],[\"</br>id: 14</br>prediction: 0.879</br>slp: 0.86</br></br>age: 58.0</br>sex: 0.0</br>trtbps: 150.0</br>chol: 283.0</br>fbs: 1.0</br>thalachh: 162.0</br>oldpeak: 1.0</br>thall: 2.0</br>exng_1: 0.0</br>caa_1: 0.0</br>caa_2: 0.0</br>caa_3: 0.0</br>caa_4: 0.0</br>cp_1: 0.0</br>cp_2: 0.0</br>cp_3: 1.0</br>restecg_1: 0.0</br>restecg_2: 0.0</br>_original_yhat_: 0.9919773936271667</br>\"],[\"</br>id: 14</br>prediction: 0.879</br>slp: 0.88</br></br>age: 58.0</br>sex: 0.0</br>trtbps: 150.0</br>chol: 283.0</br>fbs: 1.0</br>thalachh: 162.0</br>oldpeak: 1.0</br>thall: 2.0</br>exng_1: 0.0</br>caa_1: 0.0</br>caa_2: 0.0</br>caa_3: 0.0</br>caa_4: 0.0</br>cp_1: 0.0</br>cp_2: 0.0</br>cp_3: 1.0</br>restecg_1: 0.0</br>restecg_2: 0.0</br>_original_yhat_: 0.9919773936271667</br>\"],[\"</br>id: 14</br>prediction: 0.879</br>slp: 0.9</br></br>age: 58.0</br>sex: 0.0</br>trtbps: 150.0</br>chol: 283.0</br>fbs: 1.0</br>thalachh: 162.0</br>oldpeak: 1.0</br>thall: 2.0</br>exng_1: 0.0</br>caa_1: 0.0</br>caa_2: 0.0</br>caa_3: 0.0</br>caa_4: 0.0</br>cp_1: 0.0</br>cp_2: 0.0</br>cp_3: 1.0</br>restecg_1: 0.0</br>restecg_2: 0.0</br>_original_yhat_: 0.9919773936271667</br>\"],[\"</br>id: 14</br>prediction: 0.879</br>slp: 0.92</br></br>age: 58.0</br>sex: 0.0</br>trtbps: 150.0</br>chol: 283.0</br>fbs: 1.0</br>thalachh: 162.0</br>oldpeak: 1.0</br>thall: 2.0</br>exng_1: 0.0</br>caa_1: 0.0</br>caa_2: 0.0</br>caa_3: 0.0</br>caa_4: 0.0</br>cp_1: 0.0</br>cp_2: 0.0</br>cp_3: 1.0</br>restecg_1: 0.0</br>restecg_2: 0.0</br>_original_yhat_: 0.9919773936271667</br>\"],[\"</br>id: 14</br>prediction: 0.879</br>slp: 0.9400000000000001</br></br>age: 58.0</br>sex: 0.0</br>trtbps: 150.0</br>chol: 283.0</br>fbs: 1.0</br>thalachh: 162.0</br>oldpeak: 1.0</br>thall: 2.0</br>exng_1: 0.0</br>caa_1: 0.0</br>caa_2: 0.0</br>caa_3: 0.0</br>caa_4: 0.0</br>cp_1: 0.0</br>cp_2: 0.0</br>cp_3: 1.0</br>restecg_1: 0.0</br>restecg_2: 0.0</br>_original_yhat_: 0.9919773936271667</br>\"],[\"</br>id: 14</br>prediction: 0.879</br>slp: 0.96</br></br>age: 58.0</br>sex: 0.0</br>trtbps: 150.0</br>chol: 283.0</br>fbs: 1.0</br>thalachh: 162.0</br>oldpeak: 1.0</br>thall: 2.0</br>exng_1: 0.0</br>caa_1: 0.0</br>caa_2: 0.0</br>caa_3: 0.0</br>caa_4: 0.0</br>cp_1: 0.0</br>cp_2: 0.0</br>cp_3: 1.0</br>restecg_1: 0.0</br>restecg_2: 0.0</br>_original_yhat_: 0.9919773936271667</br>\"],[\"</br>id: 14</br>prediction: 0.879</br>slp: 0.98</br></br>age: 58.0</br>sex: 0.0</br>trtbps: 150.0</br>chol: 283.0</br>fbs: 1.0</br>thalachh: 162.0</br>oldpeak: 1.0</br>thall: 2.0</br>exng_1: 0.0</br>caa_1: 0.0</br>caa_2: 0.0</br>caa_3: 0.0</br>caa_4: 0.0</br>cp_1: 0.0</br>cp_2: 0.0</br>cp_3: 1.0</br>restecg_1: 0.0</br>restecg_2: 0.0</br>_original_yhat_: 0.9919773936271667</br>\"],[\"</br>id: 14</br>prediction: 0.879</br>slp: 1.0</br></br>age: 58.0</br>sex: 0.0</br>trtbps: 150.0</br>chol: 283.0</br>fbs: 1.0</br>thalachh: 162.0</br>oldpeak: 1.0</br>thall: 2.0</br>exng_1: 0.0</br>caa_1: 0.0</br>caa_2: 0.0</br>caa_3: 0.0</br>caa_4: 0.0</br>cp_1: 0.0</br>cp_2: 0.0</br>cp_3: 1.0</br>restecg_1: 0.0</br>restecg_2: 0.0</br>_original_yhat_: 0.9919773936271667</br>\"],[\"</br>id: 14</br>prediction: 0.879</br>slp: 1.02</br></br>age: 58.0</br>sex: 0.0</br>trtbps: 150.0</br>chol: 283.0</br>fbs: 1.0</br>thalachh: 162.0</br>oldpeak: 1.0</br>thall: 2.0</br>exng_1: 0.0</br>caa_1: 0.0</br>caa_2: 0.0</br>caa_3: 0.0</br>caa_4: 0.0</br>cp_1: 0.0</br>cp_2: 0.0</br>cp_3: 1.0</br>restecg_1: 0.0</br>restecg_2: 0.0</br>_original_yhat_: 0.9919773936271667</br>\"],[\"</br>id: 14</br>prediction: 0.879</br>slp: 1.04</br></br>age: 58.0</br>sex: 0.0</br>trtbps: 150.0</br>chol: 283.0</br>fbs: 1.0</br>thalachh: 162.0</br>oldpeak: 1.0</br>thall: 2.0</br>exng_1: 0.0</br>caa_1: 0.0</br>caa_2: 0.0</br>caa_3: 0.0</br>caa_4: 0.0</br>cp_1: 0.0</br>cp_2: 0.0</br>cp_3: 1.0</br>restecg_1: 0.0</br>restecg_2: 0.0</br>_original_yhat_: 0.9919773936271667</br>\"],[\"</br>id: 14</br>prediction: 0.879</br>slp: 1.06</br></br>age: 58.0</br>sex: 0.0</br>trtbps: 150.0</br>chol: 283.0</br>fbs: 1.0</br>thalachh: 162.0</br>oldpeak: 1.0</br>thall: 2.0</br>exng_1: 0.0</br>caa_1: 0.0</br>caa_2: 0.0</br>caa_3: 0.0</br>caa_4: 0.0</br>cp_1: 0.0</br>cp_2: 0.0</br>cp_3: 1.0</br>restecg_1: 0.0</br>restecg_2: 0.0</br>_original_yhat_: 0.9919773936271667</br>\"],[\"</br>id: 14</br>prediction: 0.879</br>slp: 1.08</br></br>age: 58.0</br>sex: 0.0</br>trtbps: 150.0</br>chol: 283.0</br>fbs: 1.0</br>thalachh: 162.0</br>oldpeak: 1.0</br>thall: 2.0</br>exng_1: 0.0</br>caa_1: 0.0</br>caa_2: 0.0</br>caa_3: 0.0</br>caa_4: 0.0</br>cp_1: 0.0</br>cp_2: 0.0</br>cp_3: 1.0</br>restecg_1: 0.0</br>restecg_2: 0.0</br>_original_yhat_: 0.9919773936271667</br>\"],[\"</br>id: 14</br>prediction: 0.879</br>slp: 1.1</br></br>age: 58.0</br>sex: 0.0</br>trtbps: 150.0</br>chol: 283.0</br>fbs: 1.0</br>thalachh: 162.0</br>oldpeak: 1.0</br>thall: 2.0</br>exng_1: 0.0</br>caa_1: 0.0</br>caa_2: 0.0</br>caa_3: 0.0</br>caa_4: 0.0</br>cp_1: 0.0</br>cp_2: 0.0</br>cp_3: 1.0</br>restecg_1: 0.0</br>restecg_2: 0.0</br>_original_yhat_: 0.9919773936271667</br>\"],[\"</br>id: 14</br>prediction: 0.879</br>slp: 1.12</br></br>age: 58.0</br>sex: 0.0</br>trtbps: 150.0</br>chol: 283.0</br>fbs: 1.0</br>thalachh: 162.0</br>oldpeak: 1.0</br>thall: 2.0</br>exng_1: 0.0</br>caa_1: 0.0</br>caa_2: 0.0</br>caa_3: 0.0</br>caa_4: 0.0</br>cp_1: 0.0</br>cp_2: 0.0</br>cp_3: 1.0</br>restecg_1: 0.0</br>restecg_2: 0.0</br>_original_yhat_: 0.9919773936271667</br>\"],[\"</br>id: 14</br>prediction: 0.879</br>slp: 1.1400000000000001</br></br>age: 58.0</br>sex: 0.0</br>trtbps: 150.0</br>chol: 283.0</br>fbs: 1.0</br>thalachh: 162.0</br>oldpeak: 1.0</br>thall: 2.0</br>exng_1: 0.0</br>caa_1: 0.0</br>caa_2: 0.0</br>caa_3: 0.0</br>caa_4: 0.0</br>cp_1: 0.0</br>cp_2: 0.0</br>cp_3: 1.0</br>restecg_1: 0.0</br>restecg_2: 0.0</br>_original_yhat_: 0.9919773936271667</br>\"],[\"</br>id: 14</br>prediction: 0.879</br>slp: 1.16</br></br>age: 58.0</br>sex: 0.0</br>trtbps: 150.0</br>chol: 283.0</br>fbs: 1.0</br>thalachh: 162.0</br>oldpeak: 1.0</br>thall: 2.0</br>exng_1: 0.0</br>caa_1: 0.0</br>caa_2: 0.0</br>caa_3: 0.0</br>caa_4: 0.0</br>cp_1: 0.0</br>cp_2: 0.0</br>cp_3: 1.0</br>restecg_1: 0.0</br>restecg_2: 0.0</br>_original_yhat_: 0.9919773936271667</br>\"],[\"</br>id: 14</br>prediction: 0.879</br>slp: 1.18</br></br>age: 58.0</br>sex: 0.0</br>trtbps: 150.0</br>chol: 283.0</br>fbs: 1.0</br>thalachh: 162.0</br>oldpeak: 1.0</br>thall: 2.0</br>exng_1: 0.0</br>caa_1: 0.0</br>caa_2: 0.0</br>caa_3: 0.0</br>caa_4: 0.0</br>cp_1: 0.0</br>cp_2: 0.0</br>cp_3: 1.0</br>restecg_1: 0.0</br>restecg_2: 0.0</br>_original_yhat_: 0.9919773936271667</br>\"],[\"</br>id: 14</br>prediction: 0.879</br>slp: 1.2</br></br>age: 58.0</br>sex: 0.0</br>trtbps: 150.0</br>chol: 283.0</br>fbs: 1.0</br>thalachh: 162.0</br>oldpeak: 1.0</br>thall: 2.0</br>exng_1: 0.0</br>caa_1: 0.0</br>caa_2: 0.0</br>caa_3: 0.0</br>caa_4: 0.0</br>cp_1: 0.0</br>cp_2: 0.0</br>cp_3: 1.0</br>restecg_1: 0.0</br>restecg_2: 0.0</br>_original_yhat_: 0.9919773936271667</br>\"],[\"</br>id: 14</br>prediction: 0.879</br>slp: 1.22</br></br>age: 58.0</br>sex: 0.0</br>trtbps: 150.0</br>chol: 283.0</br>fbs: 1.0</br>thalachh: 162.0</br>oldpeak: 1.0</br>thall: 2.0</br>exng_1: 0.0</br>caa_1: 0.0</br>caa_2: 0.0</br>caa_3: 0.0</br>caa_4: 0.0</br>cp_1: 0.0</br>cp_2: 0.0</br>cp_3: 1.0</br>restecg_1: 0.0</br>restecg_2: 0.0</br>_original_yhat_: 0.9919773936271667</br>\"],[\"</br>id: 14</br>prediction: 0.879</br>slp: 1.24</br></br>age: 58.0</br>sex: 0.0</br>trtbps: 150.0</br>chol: 283.0</br>fbs: 1.0</br>thalachh: 162.0</br>oldpeak: 1.0</br>thall: 2.0</br>exng_1: 0.0</br>caa_1: 0.0</br>caa_2: 0.0</br>caa_3: 0.0</br>caa_4: 0.0</br>cp_1: 0.0</br>cp_2: 0.0</br>cp_3: 1.0</br>restecg_1: 0.0</br>restecg_2: 0.0</br>_original_yhat_: 0.9919773936271667</br>\"],[\"</br>id: 14</br>prediction: 0.879</br>slp: 1.26</br></br>age: 58.0</br>sex: 0.0</br>trtbps: 150.0</br>chol: 283.0</br>fbs: 1.0</br>thalachh: 162.0</br>oldpeak: 1.0</br>thall: 2.0</br>exng_1: 0.0</br>caa_1: 0.0</br>caa_2: 0.0</br>caa_3: 0.0</br>caa_4: 0.0</br>cp_1: 0.0</br>cp_2: 0.0</br>cp_3: 1.0</br>restecg_1: 0.0</br>restecg_2: 0.0</br>_original_yhat_: 0.9919773936271667</br>\"],[\"</br>id: 14</br>prediction: 0.879</br>slp: 1.28</br></br>age: 58.0</br>sex: 0.0</br>trtbps: 150.0</br>chol: 283.0</br>fbs: 1.0</br>thalachh: 162.0</br>oldpeak: 1.0</br>thall: 2.0</br>exng_1: 0.0</br>caa_1: 0.0</br>caa_2: 0.0</br>caa_3: 0.0</br>caa_4: 0.0</br>cp_1: 0.0</br>cp_2: 0.0</br>cp_3: 1.0</br>restecg_1: 0.0</br>restecg_2: 0.0</br>_original_yhat_: 0.9919773936271667</br>\"],[\"</br>id: 14</br>prediction: 0.879</br>slp: 1.3</br></br>age: 58.0</br>sex: 0.0</br>trtbps: 150.0</br>chol: 283.0</br>fbs: 1.0</br>thalachh: 162.0</br>oldpeak: 1.0</br>thall: 2.0</br>exng_1: 0.0</br>caa_1: 0.0</br>caa_2: 0.0</br>caa_3: 0.0</br>caa_4: 0.0</br>cp_1: 0.0</br>cp_2: 0.0</br>cp_3: 1.0</br>restecg_1: 0.0</br>restecg_2: 0.0</br>_original_yhat_: 0.9919773936271667</br>\"],[\"</br>id: 14</br>prediction: 0.879</br>slp: 1.32</br></br>age: 58.0</br>sex: 0.0</br>trtbps: 150.0</br>chol: 283.0</br>fbs: 1.0</br>thalachh: 162.0</br>oldpeak: 1.0</br>thall: 2.0</br>exng_1: 0.0</br>caa_1: 0.0</br>caa_2: 0.0</br>caa_3: 0.0</br>caa_4: 0.0</br>cp_1: 0.0</br>cp_2: 0.0</br>cp_3: 1.0</br>restecg_1: 0.0</br>restecg_2: 0.0</br>_original_yhat_: 0.9919773936271667</br>\"],[\"</br>id: 14</br>prediction: 0.879</br>slp: 1.34</br></br>age: 58.0</br>sex: 0.0</br>trtbps: 150.0</br>chol: 283.0</br>fbs: 1.0</br>thalachh: 162.0</br>oldpeak: 1.0</br>thall: 2.0</br>exng_1: 0.0</br>caa_1: 0.0</br>caa_2: 0.0</br>caa_3: 0.0</br>caa_4: 0.0</br>cp_1: 0.0</br>cp_2: 0.0</br>cp_3: 1.0</br>restecg_1: 0.0</br>restecg_2: 0.0</br>_original_yhat_: 0.9919773936271667</br>\"],[\"</br>id: 14</br>prediction: 0.879</br>slp: 1.36</br></br>age: 58.0</br>sex: 0.0</br>trtbps: 150.0</br>chol: 283.0</br>fbs: 1.0</br>thalachh: 162.0</br>oldpeak: 1.0</br>thall: 2.0</br>exng_1: 0.0</br>caa_1: 0.0</br>caa_2: 0.0</br>caa_3: 0.0</br>caa_4: 0.0</br>cp_1: 0.0</br>cp_2: 0.0</br>cp_3: 1.0</br>restecg_1: 0.0</br>restecg_2: 0.0</br>_original_yhat_: 0.9919773936271667</br>\"],[\"</br>id: 14</br>prediction: 0.879</br>slp: 1.3800000000000001</br></br>age: 58.0</br>sex: 0.0</br>trtbps: 150.0</br>chol: 283.0</br>fbs: 1.0</br>thalachh: 162.0</br>oldpeak: 1.0</br>thall: 2.0</br>exng_1: 0.0</br>caa_1: 0.0</br>caa_2: 0.0</br>caa_3: 0.0</br>caa_4: 0.0</br>cp_1: 0.0</br>cp_2: 0.0</br>cp_3: 1.0</br>restecg_1: 0.0</br>restecg_2: 0.0</br>_original_yhat_: 0.9919773936271667</br>\"],[\"</br>id: 14</br>prediction: 0.879</br>slp: 1.4000000000000001</br></br>age: 58.0</br>sex: 0.0</br>trtbps: 150.0</br>chol: 283.0</br>fbs: 1.0</br>thalachh: 162.0</br>oldpeak: 1.0</br>thall: 2.0</br>exng_1: 0.0</br>caa_1: 0.0</br>caa_2: 0.0</br>caa_3: 0.0</br>caa_4: 0.0</br>cp_1: 0.0</br>cp_2: 0.0</br>cp_3: 1.0</br>restecg_1: 0.0</br>restecg_2: 0.0</br>_original_yhat_: 0.9919773936271667</br>\"],[\"</br>id: 14</br>prediction: 0.879</br>slp: 1.42</br></br>age: 58.0</br>sex: 0.0</br>trtbps: 150.0</br>chol: 283.0</br>fbs: 1.0</br>thalachh: 162.0</br>oldpeak: 1.0</br>thall: 2.0</br>exng_1: 0.0</br>caa_1: 0.0</br>caa_2: 0.0</br>caa_3: 0.0</br>caa_4: 0.0</br>cp_1: 0.0</br>cp_2: 0.0</br>cp_3: 1.0</br>restecg_1: 0.0</br>restecg_2: 0.0</br>_original_yhat_: 0.9919773936271667</br>\"],[\"</br>id: 14</br>prediction: 0.879</br>slp: 1.44</br></br>age: 58.0</br>sex: 0.0</br>trtbps: 150.0</br>chol: 283.0</br>fbs: 1.0</br>thalachh: 162.0</br>oldpeak: 1.0</br>thall: 2.0</br>exng_1: 0.0</br>caa_1: 0.0</br>caa_2: 0.0</br>caa_3: 0.0</br>caa_4: 0.0</br>cp_1: 0.0</br>cp_2: 0.0</br>cp_3: 1.0</br>restecg_1: 0.0</br>restecg_2: 0.0</br>_original_yhat_: 0.9919773936271667</br>\"],[\"</br>id: 14</br>prediction: 0.879</br>slp: 1.46</br></br>age: 58.0</br>sex: 0.0</br>trtbps: 150.0</br>chol: 283.0</br>fbs: 1.0</br>thalachh: 162.0</br>oldpeak: 1.0</br>thall: 2.0</br>exng_1: 0.0</br>caa_1: 0.0</br>caa_2: 0.0</br>caa_3: 0.0</br>caa_4: 0.0</br>cp_1: 0.0</br>cp_2: 0.0</br>cp_3: 1.0</br>restecg_1: 0.0</br>restecg_2: 0.0</br>_original_yhat_: 0.9919773936271667</br>\"],[\"</br>id: 14</br>prediction: 0.879</br>slp: 1.48</br></br>age: 58.0</br>sex: 0.0</br>trtbps: 150.0</br>chol: 283.0</br>fbs: 1.0</br>thalachh: 162.0</br>oldpeak: 1.0</br>thall: 2.0</br>exng_1: 0.0</br>caa_1: 0.0</br>caa_2: 0.0</br>caa_3: 0.0</br>caa_4: 0.0</br>cp_1: 0.0</br>cp_2: 0.0</br>cp_3: 1.0</br>restecg_1: 0.0</br>restecg_2: 0.0</br>_original_yhat_: 0.9919773936271667</br>\"],[\"</br>id: 14</br>prediction: 0.992</br>slp: 1.5</br></br>age: 58.0</br>sex: 0.0</br>trtbps: 150.0</br>chol: 283.0</br>fbs: 1.0</br>thalachh: 162.0</br>oldpeak: 1.0</br>thall: 2.0</br>exng_1: 0.0</br>caa_1: 0.0</br>caa_2: 0.0</br>caa_3: 0.0</br>caa_4: 0.0</br>cp_1: 0.0</br>cp_2: 0.0</br>cp_3: 1.0</br>restecg_1: 0.0</br>restecg_2: 0.0</br>_original_yhat_: 0.9919773936271667</br>\"],[\"</br>id: 14</br>prediction: 0.992</br>slp: 1.52</br></br>age: 58.0</br>sex: 0.0</br>trtbps: 150.0</br>chol: 283.0</br>fbs: 1.0</br>thalachh: 162.0</br>oldpeak: 1.0</br>thall: 2.0</br>exng_1: 0.0</br>caa_1: 0.0</br>caa_2: 0.0</br>caa_3: 0.0</br>caa_4: 0.0</br>cp_1: 0.0</br>cp_2: 0.0</br>cp_3: 1.0</br>restecg_1: 0.0</br>restecg_2: 0.0</br>_original_yhat_: 0.9919773936271667</br>\"],[\"</br>id: 14</br>prediction: 0.992</br>slp: 1.54</br></br>age: 58.0</br>sex: 0.0</br>trtbps: 150.0</br>chol: 283.0</br>fbs: 1.0</br>thalachh: 162.0</br>oldpeak: 1.0</br>thall: 2.0</br>exng_1: 0.0</br>caa_1: 0.0</br>caa_2: 0.0</br>caa_3: 0.0</br>caa_4: 0.0</br>cp_1: 0.0</br>cp_2: 0.0</br>cp_3: 1.0</br>restecg_1: 0.0</br>restecg_2: 0.0</br>_original_yhat_: 0.9919773936271667</br>\"],[\"</br>id: 14</br>prediction: 0.992</br>slp: 1.56</br></br>age: 58.0</br>sex: 0.0</br>trtbps: 150.0</br>chol: 283.0</br>fbs: 1.0</br>thalachh: 162.0</br>oldpeak: 1.0</br>thall: 2.0</br>exng_1: 0.0</br>caa_1: 0.0</br>caa_2: 0.0</br>caa_3: 0.0</br>caa_4: 0.0</br>cp_1: 0.0</br>cp_2: 0.0</br>cp_3: 1.0</br>restecg_1: 0.0</br>restecg_2: 0.0</br>_original_yhat_: 0.9919773936271667</br>\"],[\"</br>id: 14</br>prediction: 0.992</br>slp: 1.58</br></br>age: 58.0</br>sex: 0.0</br>trtbps: 150.0</br>chol: 283.0</br>fbs: 1.0</br>thalachh: 162.0</br>oldpeak: 1.0</br>thall: 2.0</br>exng_1: 0.0</br>caa_1: 0.0</br>caa_2: 0.0</br>caa_3: 0.0</br>caa_4: 0.0</br>cp_1: 0.0</br>cp_2: 0.0</br>cp_3: 1.0</br>restecg_1: 0.0</br>restecg_2: 0.0</br>_original_yhat_: 0.9919773936271667</br>\"],[\"</br>id: 14</br>prediction: 0.992</br>slp: 1.6</br></br>age: 58.0</br>sex: 0.0</br>trtbps: 150.0</br>chol: 283.0</br>fbs: 1.0</br>thalachh: 162.0</br>oldpeak: 1.0</br>thall: 2.0</br>exng_1: 0.0</br>caa_1: 0.0</br>caa_2: 0.0</br>caa_3: 0.0</br>caa_4: 0.0</br>cp_1: 0.0</br>cp_2: 0.0</br>cp_3: 1.0</br>restecg_1: 0.0</br>restecg_2: 0.0</br>_original_yhat_: 0.9919773936271667</br>\"],[\"</br>id: 14</br>prediction: 0.992</br>slp: 1.62</br></br>age: 58.0</br>sex: 0.0</br>trtbps: 150.0</br>chol: 283.0</br>fbs: 1.0</br>thalachh: 162.0</br>oldpeak: 1.0</br>thall: 2.0</br>exng_1: 0.0</br>caa_1: 0.0</br>caa_2: 0.0</br>caa_3: 0.0</br>caa_4: 0.0</br>cp_1: 0.0</br>cp_2: 0.0</br>cp_3: 1.0</br>restecg_1: 0.0</br>restecg_2: 0.0</br>_original_yhat_: 0.9919773936271667</br>\"],[\"</br>id: 14</br>prediction: 0.992</br>slp: 1.6400000000000001</br></br>age: 58.0</br>sex: 0.0</br>trtbps: 150.0</br>chol: 283.0</br>fbs: 1.0</br>thalachh: 162.0</br>oldpeak: 1.0</br>thall: 2.0</br>exng_1: 0.0</br>caa_1: 0.0</br>caa_2: 0.0</br>caa_3: 0.0</br>caa_4: 0.0</br>cp_1: 0.0</br>cp_2: 0.0</br>cp_3: 1.0</br>restecg_1: 0.0</br>restecg_2: 0.0</br>_original_yhat_: 0.9919773936271667</br>\"],[\"</br>id: 14</br>prediction: 0.992</br>slp: 1.6600000000000001</br></br>age: 58.0</br>sex: 0.0</br>trtbps: 150.0</br>chol: 283.0</br>fbs: 1.0</br>thalachh: 162.0</br>oldpeak: 1.0</br>thall: 2.0</br>exng_1: 0.0</br>caa_1: 0.0</br>caa_2: 0.0</br>caa_3: 0.0</br>caa_4: 0.0</br>cp_1: 0.0</br>cp_2: 0.0</br>cp_3: 1.0</br>restecg_1: 0.0</br>restecg_2: 0.0</br>_original_yhat_: 0.9919773936271667</br>\"],[\"</br>id: 14</br>prediction: 0.992</br>slp: 1.68</br></br>age: 58.0</br>sex: 0.0</br>trtbps: 150.0</br>chol: 283.0</br>fbs: 1.0</br>thalachh: 162.0</br>oldpeak: 1.0</br>thall: 2.0</br>exng_1: 0.0</br>caa_1: 0.0</br>caa_2: 0.0</br>caa_3: 0.0</br>caa_4: 0.0</br>cp_1: 0.0</br>cp_2: 0.0</br>cp_3: 1.0</br>restecg_1: 0.0</br>restecg_2: 0.0</br>_original_yhat_: 0.9919773936271667</br>\"],[\"</br>id: 14</br>prediction: 0.992</br>slp: 1.7</br></br>age: 58.0</br>sex: 0.0</br>trtbps: 150.0</br>chol: 283.0</br>fbs: 1.0</br>thalachh: 162.0</br>oldpeak: 1.0</br>thall: 2.0</br>exng_1: 0.0</br>caa_1: 0.0</br>caa_2: 0.0</br>caa_3: 0.0</br>caa_4: 0.0</br>cp_1: 0.0</br>cp_2: 0.0</br>cp_3: 1.0</br>restecg_1: 0.0</br>restecg_2: 0.0</br>_original_yhat_: 0.9919773936271667</br>\"],[\"</br>id: 14</br>prediction: 0.992</br>slp: 1.72</br></br>age: 58.0</br>sex: 0.0</br>trtbps: 150.0</br>chol: 283.0</br>fbs: 1.0</br>thalachh: 162.0</br>oldpeak: 1.0</br>thall: 2.0</br>exng_1: 0.0</br>caa_1: 0.0</br>caa_2: 0.0</br>caa_3: 0.0</br>caa_4: 0.0</br>cp_1: 0.0</br>cp_2: 0.0</br>cp_3: 1.0</br>restecg_1: 0.0</br>restecg_2: 0.0</br>_original_yhat_: 0.9919773936271667</br>\"],[\"</br>id: 14</br>prediction: 0.992</br>slp: 1.74</br></br>age: 58.0</br>sex: 0.0</br>trtbps: 150.0</br>chol: 283.0</br>fbs: 1.0</br>thalachh: 162.0</br>oldpeak: 1.0</br>thall: 2.0</br>exng_1: 0.0</br>caa_1: 0.0</br>caa_2: 0.0</br>caa_3: 0.0</br>caa_4: 0.0</br>cp_1: 0.0</br>cp_2: 0.0</br>cp_3: 1.0</br>restecg_1: 0.0</br>restecg_2: 0.0</br>_original_yhat_: 0.9919773936271667</br>\"],[\"</br>id: 14</br>prediction: 0.992</br>slp: 1.76</br></br>age: 58.0</br>sex: 0.0</br>trtbps: 150.0</br>chol: 283.0</br>fbs: 1.0</br>thalachh: 162.0</br>oldpeak: 1.0</br>thall: 2.0</br>exng_1: 0.0</br>caa_1: 0.0</br>caa_2: 0.0</br>caa_3: 0.0</br>caa_4: 0.0</br>cp_1: 0.0</br>cp_2: 0.0</br>cp_3: 1.0</br>restecg_1: 0.0</br>restecg_2: 0.0</br>_original_yhat_: 0.9919773936271667</br>\"],[\"</br>id: 14</br>prediction: 0.992</br>slp: 1.78</br></br>age: 58.0</br>sex: 0.0</br>trtbps: 150.0</br>chol: 283.0</br>fbs: 1.0</br>thalachh: 162.0</br>oldpeak: 1.0</br>thall: 2.0</br>exng_1: 0.0</br>caa_1: 0.0</br>caa_2: 0.0</br>caa_3: 0.0</br>caa_4: 0.0</br>cp_1: 0.0</br>cp_2: 0.0</br>cp_3: 1.0</br>restecg_1: 0.0</br>restecg_2: 0.0</br>_original_yhat_: 0.9919773936271667</br>\"],[\"</br>id: 14</br>prediction: 0.992</br>slp: 1.8</br></br>age: 58.0</br>sex: 0.0</br>trtbps: 150.0</br>chol: 283.0</br>fbs: 1.0</br>thalachh: 162.0</br>oldpeak: 1.0</br>thall: 2.0</br>exng_1: 0.0</br>caa_1: 0.0</br>caa_2: 0.0</br>caa_3: 0.0</br>caa_4: 0.0</br>cp_1: 0.0</br>cp_2: 0.0</br>cp_3: 1.0</br>restecg_1: 0.0</br>restecg_2: 0.0</br>_original_yhat_: 0.9919773936271667</br>\"],[\"</br>id: 14</br>prediction: 0.992</br>slp: 1.82</br></br>age: 58.0</br>sex: 0.0</br>trtbps: 150.0</br>chol: 283.0</br>fbs: 1.0</br>thalachh: 162.0</br>oldpeak: 1.0</br>thall: 2.0</br>exng_1: 0.0</br>caa_1: 0.0</br>caa_2: 0.0</br>caa_3: 0.0</br>caa_4: 0.0</br>cp_1: 0.0</br>cp_2: 0.0</br>cp_3: 1.0</br>restecg_1: 0.0</br>restecg_2: 0.0</br>_original_yhat_: 0.9919773936271667</br>\"],[\"</br>id: 14</br>prediction: 0.992</br>slp: 1.84</br></br>age: 58.0</br>sex: 0.0</br>trtbps: 150.0</br>chol: 283.0</br>fbs: 1.0</br>thalachh: 162.0</br>oldpeak: 1.0</br>thall: 2.0</br>exng_1: 0.0</br>caa_1: 0.0</br>caa_2: 0.0</br>caa_3: 0.0</br>caa_4: 0.0</br>cp_1: 0.0</br>cp_2: 0.0</br>cp_3: 1.0</br>restecg_1: 0.0</br>restecg_2: 0.0</br>_original_yhat_: 0.9919773936271667</br>\"],[\"</br>id: 14</br>prediction: 0.992</br>slp: 1.86</br></br>age: 58.0</br>sex: 0.0</br>trtbps: 150.0</br>chol: 283.0</br>fbs: 1.0</br>thalachh: 162.0</br>oldpeak: 1.0</br>thall: 2.0</br>exng_1: 0.0</br>caa_1: 0.0</br>caa_2: 0.0</br>caa_3: 0.0</br>caa_4: 0.0</br>cp_1: 0.0</br>cp_2: 0.0</br>cp_3: 1.0</br>restecg_1: 0.0</br>restecg_2: 0.0</br>_original_yhat_: 0.9919773936271667</br>\"],[\"</br>id: 14</br>prediction: 0.992</br>slp: 1.8800000000000001</br></br>age: 58.0</br>sex: 0.0</br>trtbps: 150.0</br>chol: 283.0</br>fbs: 1.0</br>thalachh: 162.0</br>oldpeak: 1.0</br>thall: 2.0</br>exng_1: 0.0</br>caa_1: 0.0</br>caa_2: 0.0</br>caa_3: 0.0</br>caa_4: 0.0</br>cp_1: 0.0</br>cp_2: 0.0</br>cp_3: 1.0</br>restecg_1: 0.0</br>restecg_2: 0.0</br>_original_yhat_: 0.9919773936271667</br>\"],[\"</br>id: 14</br>prediction: 0.992</br>slp: 1.9000000000000001</br></br>age: 58.0</br>sex: 0.0</br>trtbps: 150.0</br>chol: 283.0</br>fbs: 1.0</br>thalachh: 162.0</br>oldpeak: 1.0</br>thall: 2.0</br>exng_1: 0.0</br>caa_1: 0.0</br>caa_2: 0.0</br>caa_3: 0.0</br>caa_4: 0.0</br>cp_1: 0.0</br>cp_2: 0.0</br>cp_3: 1.0</br>restecg_1: 0.0</br>restecg_2: 0.0</br>_original_yhat_: 0.9919773936271667</br>\"],[\"</br>id: 14</br>prediction: 0.992</br>slp: 1.92</br></br>age: 58.0</br>sex: 0.0</br>trtbps: 150.0</br>chol: 283.0</br>fbs: 1.0</br>thalachh: 162.0</br>oldpeak: 1.0</br>thall: 2.0</br>exng_1: 0.0</br>caa_1: 0.0</br>caa_2: 0.0</br>caa_3: 0.0</br>caa_4: 0.0</br>cp_1: 0.0</br>cp_2: 0.0</br>cp_3: 1.0</br>restecg_1: 0.0</br>restecg_2: 0.0</br>_original_yhat_: 0.9919773936271667</br>\"],[\"</br>id: 14</br>prediction: 0.992</br>slp: 1.94</br></br>age: 58.0</br>sex: 0.0</br>trtbps: 150.0</br>chol: 283.0</br>fbs: 1.0</br>thalachh: 162.0</br>oldpeak: 1.0</br>thall: 2.0</br>exng_1: 0.0</br>caa_1: 0.0</br>caa_2: 0.0</br>caa_3: 0.0</br>caa_4: 0.0</br>cp_1: 0.0</br>cp_2: 0.0</br>cp_3: 1.0</br>restecg_1: 0.0</br>restecg_2: 0.0</br>_original_yhat_: 0.9919773936271667</br>\"],[\"</br>id: 14</br>prediction: 0.992</br>slp: 1.96</br></br>age: 58.0</br>sex: 0.0</br>trtbps: 150.0</br>chol: 283.0</br>fbs: 1.0</br>thalachh: 162.0</br>oldpeak: 1.0</br>thall: 2.0</br>exng_1: 0.0</br>caa_1: 0.0</br>caa_2: 0.0</br>caa_3: 0.0</br>caa_4: 0.0</br>cp_1: 0.0</br>cp_2: 0.0</br>cp_3: 1.0</br>restecg_1: 0.0</br>restecg_2: 0.0</br>_original_yhat_: 0.9919773936271667</br>\"],[\"</br>id: 14</br>prediction: 0.992</br>slp: 1.98</br></br>age: 58.0</br>sex: 0.0</br>trtbps: 150.0</br>chol: 283.0</br>fbs: 1.0</br>thalachh: 162.0</br>oldpeak: 1.0</br>thall: 2.0</br>exng_1: 0.0</br>caa_1: 0.0</br>caa_2: 0.0</br>caa_3: 0.0</br>caa_4: 0.0</br>cp_1: 0.0</br>cp_2: 0.0</br>cp_3: 1.0</br>restecg_1: 0.0</br>restecg_2: 0.0</br>_original_yhat_: 0.9919773936271667</br>\"],[\"</br>id: 14</br>prediction: 0.992</br>slp: 2.0</br></br>age: 58.0</br>sex: 0.0</br>trtbps: 150.0</br>chol: 283.0</br>fbs: 1.0</br>thalachh: 162.0</br>oldpeak: 1.0</br>thall: 2.0</br>exng_1: 0.0</br>caa_1: 0.0</br>caa_2: 0.0</br>caa_3: 0.0</br>caa_4: 0.0</br>cp_1: 0.0</br>cp_2: 0.0</br>cp_3: 1.0</br>restecg_1: 0.0</br>restecg_2: 0.0</br>_original_yhat_: 0.9919773936271667</br>\"]],\"hovertemplate\":\"%{customdata[0]}<extra></extra>\",\"legendgroup\":\"XGBClassifier\",\"line\":{\"color\":\"#46bac2\",\"dash\":\"solid\",\"width\":2},\"marker\":{\"symbol\":\"circle\"},\"mode\":\"lines\",\"name\":\"XGBClassifier\",\"orientation\":\"v\",\"showlegend\":true,\"x\":[0.0,0.02,0.04,0.06,0.08,0.1,0.12,0.14,0.16,0.18,0.2,0.22,0.24,0.26,0.28,0.3,0.32,0.34,0.36,0.38,0.4,0.42,0.44,0.46,0.48,0.5,0.52,0.54,0.56,0.58,0.6,0.62,0.64,0.66,0.68,0.7000000000000001,0.72,0.74,0.76,0.78,0.8,0.8200000000000001,0.84,0.86,0.88,0.9,0.92,0.9400000000000001,0.96,0.98,1.0,1.02,1.04,1.06,1.08,1.1,1.12,1.1400000000000001,1.16,1.18,1.2,1.22,1.24,1.26,1.28,1.3,1.32,1.34,1.36,1.3800000000000001,1.4000000000000001,1.42,1.44,1.46,1.48,1.5,1.52,1.54,1.56,1.58,1.6,1.62,1.6400000000000001,1.6600000000000001,1.68,1.7,1.72,1.74,1.76,1.78,1.8,1.82,1.84,1.86,1.8800000000000001,1.9000000000000001,1.92,1.94,1.96,1.98,2.0],\"xaxis\":\"x\",\"y\":[0.9074269533157349,0.9074269533157349,0.9074269533157349,0.9074269533157349,0.9074269533157349,0.9074269533157349,0.9074269533157349,0.9074269533157349,0.9074269533157349,0.9074269533157349,0.9074269533157349,0.9074269533157349,0.9074269533157349,0.9074269533157349,0.9074269533157349,0.9074269533157349,0.9074269533157349,0.9074269533157349,0.9074269533157349,0.9074269533157349,0.9074269533157349,0.9074269533157349,0.9074269533157349,0.9074269533157349,0.9074269533157349,0.8794453740119934,0.8794453740119934,0.8794453740119934,0.8794453740119934,0.8794453740119934,0.8794453740119934,0.8794453740119934,0.8794453740119934,0.8794453740119934,0.8794453740119934,0.8794453740119934,0.8794453740119934,0.8794453740119934,0.8794453740119934,0.8794453740119934,0.8794453740119934,0.8794453740119934,0.8794453740119934,0.8794453740119934,0.8794453740119934,0.8794453740119934,0.8794453740119934,0.8794453740119934,0.8794453740119934,0.8794453740119934,0.8794453740119934,0.8794453740119934,0.8794453740119934,0.8794453740119934,0.8794453740119934,0.8794453740119934,0.8794453740119934,0.8794453740119934,0.8794453740119934,0.8794453740119934,0.8794453740119934,0.8794453740119934,0.8794453740119934,0.8794453740119934,0.8794453740119934,0.8794453740119934,0.8794453740119934,0.8794453740119934,0.8794453740119934,0.8794453740119934,0.8794453740119934,0.8794453740119934,0.8794453740119934,0.8794453740119934,0.8794453740119934,0.9919773936271667,0.9919773936271667,0.9919773936271667,0.9919773936271667,0.9919773936271667,0.9919773936271667,0.9919773936271667,0.9919773936271667,0.9919773936271667,0.9919773936271667,0.9919773936271667,0.9919773936271667,0.9919773936271667,0.9919773936271667,0.9919773936271667,0.9919773936271667,0.9919773936271667,0.9919773936271667,0.9919773936271667,0.9919773936271667,0.9919773936271667,0.9919773936271667,0.9919773936271667,0.9919773936271667,0.9919773936271667,0.9919773936271667],\"yaxis\":\"y\",\"type\":\"scatter\",\"opacity\":1},{\"customdata\":[[\"</br>id: 108</br>prediction: 0.998</br>slp: 0.0</br></br>age: 50.0</br>sex: 0.0</br>trtbps: 120.0</br>chol: 244.0</br>fbs: 0.0</br>thalachh: 162.0</br>oldpeak: 1.1</br>thall: 2.0</br>exng_1: 0.0</br>caa_1: 0.0</br>caa_2: 0.0</br>caa_3: 0.0</br>caa_4: 0.0</br>cp_1: 1.0</br>cp_2: 0.0</br>cp_3: 0.0</br>restecg_1: 1.0</br>restecg_2: 0.0</br>_original_yhat_: 0.9995338916778564</br>\"],[\"</br>id: 108</br>prediction: 0.998</br>slp: 0.02</br></br>age: 50.0</br>sex: 0.0</br>trtbps: 120.0</br>chol: 244.0</br>fbs: 0.0</br>thalachh: 162.0</br>oldpeak: 1.1</br>thall: 2.0</br>exng_1: 0.0</br>caa_1: 0.0</br>caa_2: 0.0</br>caa_3: 0.0</br>caa_4: 0.0</br>cp_1: 1.0</br>cp_2: 0.0</br>cp_3: 0.0</br>restecg_1: 1.0</br>restecg_2: 0.0</br>_original_yhat_: 0.9995338916778564</br>\"],[\"</br>id: 108</br>prediction: 0.998</br>slp: 0.04</br></br>age: 50.0</br>sex: 0.0</br>trtbps: 120.0</br>chol: 244.0</br>fbs: 0.0</br>thalachh: 162.0</br>oldpeak: 1.1</br>thall: 2.0</br>exng_1: 0.0</br>caa_1: 0.0</br>caa_2: 0.0</br>caa_3: 0.0</br>caa_4: 0.0</br>cp_1: 1.0</br>cp_2: 0.0</br>cp_3: 0.0</br>restecg_1: 1.0</br>restecg_2: 0.0</br>_original_yhat_: 0.9995338916778564</br>\"],[\"</br>id: 108</br>prediction: 0.998</br>slp: 0.06</br></br>age: 50.0</br>sex: 0.0</br>trtbps: 120.0</br>chol: 244.0</br>fbs: 0.0</br>thalachh: 162.0</br>oldpeak: 1.1</br>thall: 2.0</br>exng_1: 0.0</br>caa_1: 0.0</br>caa_2: 0.0</br>caa_3: 0.0</br>caa_4: 0.0</br>cp_1: 1.0</br>cp_2: 0.0</br>cp_3: 0.0</br>restecg_1: 1.0</br>restecg_2: 0.0</br>_original_yhat_: 0.9995338916778564</br>\"],[\"</br>id: 108</br>prediction: 0.998</br>slp: 0.08</br></br>age: 50.0</br>sex: 0.0</br>trtbps: 120.0</br>chol: 244.0</br>fbs: 0.0</br>thalachh: 162.0</br>oldpeak: 1.1</br>thall: 2.0</br>exng_1: 0.0</br>caa_1: 0.0</br>caa_2: 0.0</br>caa_3: 0.0</br>caa_4: 0.0</br>cp_1: 1.0</br>cp_2: 0.0</br>cp_3: 0.0</br>restecg_1: 1.0</br>restecg_2: 0.0</br>_original_yhat_: 0.9995338916778564</br>\"],[\"</br>id: 108</br>prediction: 0.998</br>slp: 0.1</br></br>age: 50.0</br>sex: 0.0</br>trtbps: 120.0</br>chol: 244.0</br>fbs: 0.0</br>thalachh: 162.0</br>oldpeak: 1.1</br>thall: 2.0</br>exng_1: 0.0</br>caa_1: 0.0</br>caa_2: 0.0</br>caa_3: 0.0</br>caa_4: 0.0</br>cp_1: 1.0</br>cp_2: 0.0</br>cp_3: 0.0</br>restecg_1: 1.0</br>restecg_2: 0.0</br>_original_yhat_: 0.9995338916778564</br>\"],[\"</br>id: 108</br>prediction: 0.998</br>slp: 0.12</br></br>age: 50.0</br>sex: 0.0</br>trtbps: 120.0</br>chol: 244.0</br>fbs: 0.0</br>thalachh: 162.0</br>oldpeak: 1.1</br>thall: 2.0</br>exng_1: 0.0</br>caa_1: 0.0</br>caa_2: 0.0</br>caa_3: 0.0</br>caa_4: 0.0</br>cp_1: 1.0</br>cp_2: 0.0</br>cp_3: 0.0</br>restecg_1: 1.0</br>restecg_2: 0.0</br>_original_yhat_: 0.9995338916778564</br>\"],[\"</br>id: 108</br>prediction: 0.998</br>slp: 0.14</br></br>age: 50.0</br>sex: 0.0</br>trtbps: 120.0</br>chol: 244.0</br>fbs: 0.0</br>thalachh: 162.0</br>oldpeak: 1.1</br>thall: 2.0</br>exng_1: 0.0</br>caa_1: 0.0</br>caa_2: 0.0</br>caa_3: 0.0</br>caa_4: 0.0</br>cp_1: 1.0</br>cp_2: 0.0</br>cp_3: 0.0</br>restecg_1: 1.0</br>restecg_2: 0.0</br>_original_yhat_: 0.9995338916778564</br>\"],[\"</br>id: 108</br>prediction: 0.998</br>slp: 0.16</br></br>age: 50.0</br>sex: 0.0</br>trtbps: 120.0</br>chol: 244.0</br>fbs: 0.0</br>thalachh: 162.0</br>oldpeak: 1.1</br>thall: 2.0</br>exng_1: 0.0</br>caa_1: 0.0</br>caa_2: 0.0</br>caa_3: 0.0</br>caa_4: 0.0</br>cp_1: 1.0</br>cp_2: 0.0</br>cp_3: 0.0</br>restecg_1: 1.0</br>restecg_2: 0.0</br>_original_yhat_: 0.9995338916778564</br>\"],[\"</br>id: 108</br>prediction: 0.998</br>slp: 0.18</br></br>age: 50.0</br>sex: 0.0</br>trtbps: 120.0</br>chol: 244.0</br>fbs: 0.0</br>thalachh: 162.0</br>oldpeak: 1.1</br>thall: 2.0</br>exng_1: 0.0</br>caa_1: 0.0</br>caa_2: 0.0</br>caa_3: 0.0</br>caa_4: 0.0</br>cp_1: 1.0</br>cp_2: 0.0</br>cp_3: 0.0</br>restecg_1: 1.0</br>restecg_2: 0.0</br>_original_yhat_: 0.9995338916778564</br>\"],[\"</br>id: 108</br>prediction: 0.998</br>slp: 0.2</br></br>age: 50.0</br>sex: 0.0</br>trtbps: 120.0</br>chol: 244.0</br>fbs: 0.0</br>thalachh: 162.0</br>oldpeak: 1.1</br>thall: 2.0</br>exng_1: 0.0</br>caa_1: 0.0</br>caa_2: 0.0</br>caa_3: 0.0</br>caa_4: 0.0</br>cp_1: 1.0</br>cp_2: 0.0</br>cp_3: 0.0</br>restecg_1: 1.0</br>restecg_2: 0.0</br>_original_yhat_: 0.9995338916778564</br>\"],[\"</br>id: 108</br>prediction: 0.998</br>slp: 0.22</br></br>age: 50.0</br>sex: 0.0</br>trtbps: 120.0</br>chol: 244.0</br>fbs: 0.0</br>thalachh: 162.0</br>oldpeak: 1.1</br>thall: 2.0</br>exng_1: 0.0</br>caa_1: 0.0</br>caa_2: 0.0</br>caa_3: 0.0</br>caa_4: 0.0</br>cp_1: 1.0</br>cp_2: 0.0</br>cp_3: 0.0</br>restecg_1: 1.0</br>restecg_2: 0.0</br>_original_yhat_: 0.9995338916778564</br>\"],[\"</br>id: 108</br>prediction: 0.998</br>slp: 0.24</br></br>age: 50.0</br>sex: 0.0</br>trtbps: 120.0</br>chol: 244.0</br>fbs: 0.0</br>thalachh: 162.0</br>oldpeak: 1.1</br>thall: 2.0</br>exng_1: 0.0</br>caa_1: 0.0</br>caa_2: 0.0</br>caa_3: 0.0</br>caa_4: 0.0</br>cp_1: 1.0</br>cp_2: 0.0</br>cp_3: 0.0</br>restecg_1: 1.0</br>restecg_2: 0.0</br>_original_yhat_: 0.9995338916778564</br>\"],[\"</br>id: 108</br>prediction: 0.998</br>slp: 0.26</br></br>age: 50.0</br>sex: 0.0</br>trtbps: 120.0</br>chol: 244.0</br>fbs: 0.0</br>thalachh: 162.0</br>oldpeak: 1.1</br>thall: 2.0</br>exng_1: 0.0</br>caa_1: 0.0</br>caa_2: 0.0</br>caa_3: 0.0</br>caa_4: 0.0</br>cp_1: 1.0</br>cp_2: 0.0</br>cp_3: 0.0</br>restecg_1: 1.0</br>restecg_2: 0.0</br>_original_yhat_: 0.9995338916778564</br>\"],[\"</br>id: 108</br>prediction: 0.998</br>slp: 0.28</br></br>age: 50.0</br>sex: 0.0</br>trtbps: 120.0</br>chol: 244.0</br>fbs: 0.0</br>thalachh: 162.0</br>oldpeak: 1.1</br>thall: 2.0</br>exng_1: 0.0</br>caa_1: 0.0</br>caa_2: 0.0</br>caa_3: 0.0</br>caa_4: 0.0</br>cp_1: 1.0</br>cp_2: 0.0</br>cp_3: 0.0</br>restecg_1: 1.0</br>restecg_2: 0.0</br>_original_yhat_: 0.9995338916778564</br>\"],[\"</br>id: 108</br>prediction: 0.998</br>slp: 0.3</br></br>age: 50.0</br>sex: 0.0</br>trtbps: 120.0</br>chol: 244.0</br>fbs: 0.0</br>thalachh: 162.0</br>oldpeak: 1.1</br>thall: 2.0</br>exng_1: 0.0</br>caa_1: 0.0</br>caa_2: 0.0</br>caa_3: 0.0</br>caa_4: 0.0</br>cp_1: 1.0</br>cp_2: 0.0</br>cp_3: 0.0</br>restecg_1: 1.0</br>restecg_2: 0.0</br>_original_yhat_: 0.9995338916778564</br>\"],[\"</br>id: 108</br>prediction: 0.998</br>slp: 0.32</br></br>age: 50.0</br>sex: 0.0</br>trtbps: 120.0</br>chol: 244.0</br>fbs: 0.0</br>thalachh: 162.0</br>oldpeak: 1.1</br>thall: 2.0</br>exng_1: 0.0</br>caa_1: 0.0</br>caa_2: 0.0</br>caa_3: 0.0</br>caa_4: 0.0</br>cp_1: 1.0</br>cp_2: 0.0</br>cp_3: 0.0</br>restecg_1: 1.0</br>restecg_2: 0.0</br>_original_yhat_: 0.9995338916778564</br>\"],[\"</br>id: 108</br>prediction: 0.998</br>slp: 0.34</br></br>age: 50.0</br>sex: 0.0</br>trtbps: 120.0</br>chol: 244.0</br>fbs: 0.0</br>thalachh: 162.0</br>oldpeak: 1.1</br>thall: 2.0</br>exng_1: 0.0</br>caa_1: 0.0</br>caa_2: 0.0</br>caa_3: 0.0</br>caa_4: 0.0</br>cp_1: 1.0</br>cp_2: 0.0</br>cp_3: 0.0</br>restecg_1: 1.0</br>restecg_2: 0.0</br>_original_yhat_: 0.9995338916778564</br>\"],[\"</br>id: 108</br>prediction: 0.998</br>slp: 0.36</br></br>age: 50.0</br>sex: 0.0</br>trtbps: 120.0</br>chol: 244.0</br>fbs: 0.0</br>thalachh: 162.0</br>oldpeak: 1.1</br>thall: 2.0</br>exng_1: 0.0</br>caa_1: 0.0</br>caa_2: 0.0</br>caa_3: 0.0</br>caa_4: 0.0</br>cp_1: 1.0</br>cp_2: 0.0</br>cp_3: 0.0</br>restecg_1: 1.0</br>restecg_2: 0.0</br>_original_yhat_: 0.9995338916778564</br>\"],[\"</br>id: 108</br>prediction: 0.998</br>slp: 0.38</br></br>age: 50.0</br>sex: 0.0</br>trtbps: 120.0</br>chol: 244.0</br>fbs: 0.0</br>thalachh: 162.0</br>oldpeak: 1.1</br>thall: 2.0</br>exng_1: 0.0</br>caa_1: 0.0</br>caa_2: 0.0</br>caa_3: 0.0</br>caa_4: 0.0</br>cp_1: 1.0</br>cp_2: 0.0</br>cp_3: 0.0</br>restecg_1: 1.0</br>restecg_2: 0.0</br>_original_yhat_: 0.9995338916778564</br>\"],[\"</br>id: 108</br>prediction: 0.998</br>slp: 0.4</br></br>age: 50.0</br>sex: 0.0</br>trtbps: 120.0</br>chol: 244.0</br>fbs: 0.0</br>thalachh: 162.0</br>oldpeak: 1.1</br>thall: 2.0</br>exng_1: 0.0</br>caa_1: 0.0</br>caa_2: 0.0</br>caa_3: 0.0</br>caa_4: 0.0</br>cp_1: 1.0</br>cp_2: 0.0</br>cp_3: 0.0</br>restecg_1: 1.0</br>restecg_2: 0.0</br>_original_yhat_: 0.9995338916778564</br>\"],[\"</br>id: 108</br>prediction: 0.998</br>slp: 0.42</br></br>age: 50.0</br>sex: 0.0</br>trtbps: 120.0</br>chol: 244.0</br>fbs: 0.0</br>thalachh: 162.0</br>oldpeak: 1.1</br>thall: 2.0</br>exng_1: 0.0</br>caa_1: 0.0</br>caa_2: 0.0</br>caa_3: 0.0</br>caa_4: 0.0</br>cp_1: 1.0</br>cp_2: 0.0</br>cp_3: 0.0</br>restecg_1: 1.0</br>restecg_2: 0.0</br>_original_yhat_: 0.9995338916778564</br>\"],[\"</br>id: 108</br>prediction: 0.998</br>slp: 0.44</br></br>age: 50.0</br>sex: 0.0</br>trtbps: 120.0</br>chol: 244.0</br>fbs: 0.0</br>thalachh: 162.0</br>oldpeak: 1.1</br>thall: 2.0</br>exng_1: 0.0</br>caa_1: 0.0</br>caa_2: 0.0</br>caa_3: 0.0</br>caa_4: 0.0</br>cp_1: 1.0</br>cp_2: 0.0</br>cp_3: 0.0</br>restecg_1: 1.0</br>restecg_2: 0.0</br>_original_yhat_: 0.9995338916778564</br>\"],[\"</br>id: 108</br>prediction: 0.998</br>slp: 0.46</br></br>age: 50.0</br>sex: 0.0</br>trtbps: 120.0</br>chol: 244.0</br>fbs: 0.0</br>thalachh: 162.0</br>oldpeak: 1.1</br>thall: 2.0</br>exng_1: 0.0</br>caa_1: 0.0</br>caa_2: 0.0</br>caa_3: 0.0</br>caa_4: 0.0</br>cp_1: 1.0</br>cp_2: 0.0</br>cp_3: 0.0</br>restecg_1: 1.0</br>restecg_2: 0.0</br>_original_yhat_: 0.9995338916778564</br>\"],[\"</br>id: 108</br>prediction: 0.998</br>slp: 0.48</br></br>age: 50.0</br>sex: 0.0</br>trtbps: 120.0</br>chol: 244.0</br>fbs: 0.0</br>thalachh: 162.0</br>oldpeak: 1.1</br>thall: 2.0</br>exng_1: 0.0</br>caa_1: 0.0</br>caa_2: 0.0</br>caa_3: 0.0</br>caa_4: 0.0</br>cp_1: 1.0</br>cp_2: 0.0</br>cp_3: 0.0</br>restecg_1: 1.0</br>restecg_2: 0.0</br>_original_yhat_: 0.9995338916778564</br>\"],[\"</br>id: 108</br>prediction: 0.997</br>slp: 0.5</br></br>age: 50.0</br>sex: 0.0</br>trtbps: 120.0</br>chol: 244.0</br>fbs: 0.0</br>thalachh: 162.0</br>oldpeak: 1.1</br>thall: 2.0</br>exng_1: 0.0</br>caa_1: 0.0</br>caa_2: 0.0</br>caa_3: 0.0</br>caa_4: 0.0</br>cp_1: 1.0</br>cp_2: 0.0</br>cp_3: 0.0</br>restecg_1: 1.0</br>restecg_2: 0.0</br>_original_yhat_: 0.9995338916778564</br>\"],[\"</br>id: 108</br>prediction: 0.997</br>slp: 0.52</br></br>age: 50.0</br>sex: 0.0</br>trtbps: 120.0</br>chol: 244.0</br>fbs: 0.0</br>thalachh: 162.0</br>oldpeak: 1.1</br>thall: 2.0</br>exng_1: 0.0</br>caa_1: 0.0</br>caa_2: 0.0</br>caa_3: 0.0</br>caa_4: 0.0</br>cp_1: 1.0</br>cp_2: 0.0</br>cp_3: 0.0</br>restecg_1: 1.0</br>restecg_2: 0.0</br>_original_yhat_: 0.9995338916778564</br>\"],[\"</br>id: 108</br>prediction: 0.997</br>slp: 0.54</br></br>age: 50.0</br>sex: 0.0</br>trtbps: 120.0</br>chol: 244.0</br>fbs: 0.0</br>thalachh: 162.0</br>oldpeak: 1.1</br>thall: 2.0</br>exng_1: 0.0</br>caa_1: 0.0</br>caa_2: 0.0</br>caa_3: 0.0</br>caa_4: 0.0</br>cp_1: 1.0</br>cp_2: 0.0</br>cp_3: 0.0</br>restecg_1: 1.0</br>restecg_2: 0.0</br>_original_yhat_: 0.9995338916778564</br>\"],[\"</br>id: 108</br>prediction: 0.997</br>slp: 0.56</br></br>age: 50.0</br>sex: 0.0</br>trtbps: 120.0</br>chol: 244.0</br>fbs: 0.0</br>thalachh: 162.0</br>oldpeak: 1.1</br>thall: 2.0</br>exng_1: 0.0</br>caa_1: 0.0</br>caa_2: 0.0</br>caa_3: 0.0</br>caa_4: 0.0</br>cp_1: 1.0</br>cp_2: 0.0</br>cp_3: 0.0</br>restecg_1: 1.0</br>restecg_2: 0.0</br>_original_yhat_: 0.9995338916778564</br>\"],[\"</br>id: 108</br>prediction: 0.997</br>slp: 0.58</br></br>age: 50.0</br>sex: 0.0</br>trtbps: 120.0</br>chol: 244.0</br>fbs: 0.0</br>thalachh: 162.0</br>oldpeak: 1.1</br>thall: 2.0</br>exng_1: 0.0</br>caa_1: 0.0</br>caa_2: 0.0</br>caa_3: 0.0</br>caa_4: 0.0</br>cp_1: 1.0</br>cp_2: 0.0</br>cp_3: 0.0</br>restecg_1: 1.0</br>restecg_2: 0.0</br>_original_yhat_: 0.9995338916778564</br>\"],[\"</br>id: 108</br>prediction: 0.997</br>slp: 0.6</br></br>age: 50.0</br>sex: 0.0</br>trtbps: 120.0</br>chol: 244.0</br>fbs: 0.0</br>thalachh: 162.0</br>oldpeak: 1.1</br>thall: 2.0</br>exng_1: 0.0</br>caa_1: 0.0</br>caa_2: 0.0</br>caa_3: 0.0</br>caa_4: 0.0</br>cp_1: 1.0</br>cp_2: 0.0</br>cp_3: 0.0</br>restecg_1: 1.0</br>restecg_2: 0.0</br>_original_yhat_: 0.9995338916778564</br>\"],[\"</br>id: 108</br>prediction: 0.997</br>slp: 0.62</br></br>age: 50.0</br>sex: 0.0</br>trtbps: 120.0</br>chol: 244.0</br>fbs: 0.0</br>thalachh: 162.0</br>oldpeak: 1.1</br>thall: 2.0</br>exng_1: 0.0</br>caa_1: 0.0</br>caa_2: 0.0</br>caa_3: 0.0</br>caa_4: 0.0</br>cp_1: 1.0</br>cp_2: 0.0</br>cp_3: 0.0</br>restecg_1: 1.0</br>restecg_2: 0.0</br>_original_yhat_: 0.9995338916778564</br>\"],[\"</br>id: 108</br>prediction: 0.997</br>slp: 0.64</br></br>age: 50.0</br>sex: 0.0</br>trtbps: 120.0</br>chol: 244.0</br>fbs: 0.0</br>thalachh: 162.0</br>oldpeak: 1.1</br>thall: 2.0</br>exng_1: 0.0</br>caa_1: 0.0</br>caa_2: 0.0</br>caa_3: 0.0</br>caa_4: 0.0</br>cp_1: 1.0</br>cp_2: 0.0</br>cp_3: 0.0</br>restecg_1: 1.0</br>restecg_2: 0.0</br>_original_yhat_: 0.9995338916778564</br>\"],[\"</br>id: 108</br>prediction: 0.997</br>slp: 0.66</br></br>age: 50.0</br>sex: 0.0</br>trtbps: 120.0</br>chol: 244.0</br>fbs: 0.0</br>thalachh: 162.0</br>oldpeak: 1.1</br>thall: 2.0</br>exng_1: 0.0</br>caa_1: 0.0</br>caa_2: 0.0</br>caa_3: 0.0</br>caa_4: 0.0</br>cp_1: 1.0</br>cp_2: 0.0</br>cp_3: 0.0</br>restecg_1: 1.0</br>restecg_2: 0.0</br>_original_yhat_: 0.9995338916778564</br>\"],[\"</br>id: 108</br>prediction: 0.997</br>slp: 0.68</br></br>age: 50.0</br>sex: 0.0</br>trtbps: 120.0</br>chol: 244.0</br>fbs: 0.0</br>thalachh: 162.0</br>oldpeak: 1.1</br>thall: 2.0</br>exng_1: 0.0</br>caa_1: 0.0</br>caa_2: 0.0</br>caa_3: 0.0</br>caa_4: 0.0</br>cp_1: 1.0</br>cp_2: 0.0</br>cp_3: 0.0</br>restecg_1: 1.0</br>restecg_2: 0.0</br>_original_yhat_: 0.9995338916778564</br>\"],[\"</br>id: 108</br>prediction: 0.997</br>slp: 0.7000000000000001</br></br>age: 50.0</br>sex: 0.0</br>trtbps: 120.0</br>chol: 244.0</br>fbs: 0.0</br>thalachh: 162.0</br>oldpeak: 1.1</br>thall: 2.0</br>exng_1: 0.0</br>caa_1: 0.0</br>caa_2: 0.0</br>caa_3: 0.0</br>caa_4: 0.0</br>cp_1: 1.0</br>cp_2: 0.0</br>cp_3: 0.0</br>restecg_1: 1.0</br>restecg_2: 0.0</br>_original_yhat_: 0.9995338916778564</br>\"],[\"</br>id: 108</br>prediction: 0.997</br>slp: 0.72</br></br>age: 50.0</br>sex: 0.0</br>trtbps: 120.0</br>chol: 244.0</br>fbs: 0.0</br>thalachh: 162.0</br>oldpeak: 1.1</br>thall: 2.0</br>exng_1: 0.0</br>caa_1: 0.0</br>caa_2: 0.0</br>caa_3: 0.0</br>caa_4: 0.0</br>cp_1: 1.0</br>cp_2: 0.0</br>cp_3: 0.0</br>restecg_1: 1.0</br>restecg_2: 0.0</br>_original_yhat_: 0.9995338916778564</br>\"],[\"</br>id: 108</br>prediction: 0.997</br>slp: 0.74</br></br>age: 50.0</br>sex: 0.0</br>trtbps: 120.0</br>chol: 244.0</br>fbs: 0.0</br>thalachh: 162.0</br>oldpeak: 1.1</br>thall: 2.0</br>exng_1: 0.0</br>caa_1: 0.0</br>caa_2: 0.0</br>caa_3: 0.0</br>caa_4: 0.0</br>cp_1: 1.0</br>cp_2: 0.0</br>cp_3: 0.0</br>restecg_1: 1.0</br>restecg_2: 0.0</br>_original_yhat_: 0.9995338916778564</br>\"],[\"</br>id: 108</br>prediction: 0.997</br>slp: 0.76</br></br>age: 50.0</br>sex: 0.0</br>trtbps: 120.0</br>chol: 244.0</br>fbs: 0.0</br>thalachh: 162.0</br>oldpeak: 1.1</br>thall: 2.0</br>exng_1: 0.0</br>caa_1: 0.0</br>caa_2: 0.0</br>caa_3: 0.0</br>caa_4: 0.0</br>cp_1: 1.0</br>cp_2: 0.0</br>cp_3: 0.0</br>restecg_1: 1.0</br>restecg_2: 0.0</br>_original_yhat_: 0.9995338916778564</br>\"],[\"</br>id: 108</br>prediction: 0.997</br>slp: 0.78</br></br>age: 50.0</br>sex: 0.0</br>trtbps: 120.0</br>chol: 244.0</br>fbs: 0.0</br>thalachh: 162.0</br>oldpeak: 1.1</br>thall: 2.0</br>exng_1: 0.0</br>caa_1: 0.0</br>caa_2: 0.0</br>caa_3: 0.0</br>caa_4: 0.0</br>cp_1: 1.0</br>cp_2: 0.0</br>cp_3: 0.0</br>restecg_1: 1.0</br>restecg_2: 0.0</br>_original_yhat_: 0.9995338916778564</br>\"],[\"</br>id: 108</br>prediction: 0.997</br>slp: 0.8</br></br>age: 50.0</br>sex: 0.0</br>trtbps: 120.0</br>chol: 244.0</br>fbs: 0.0</br>thalachh: 162.0</br>oldpeak: 1.1</br>thall: 2.0</br>exng_1: 0.0</br>caa_1: 0.0</br>caa_2: 0.0</br>caa_3: 0.0</br>caa_4: 0.0</br>cp_1: 1.0</br>cp_2: 0.0</br>cp_3: 0.0</br>restecg_1: 1.0</br>restecg_2: 0.0</br>_original_yhat_: 0.9995338916778564</br>\"],[\"</br>id: 108</br>prediction: 0.997</br>slp: 0.8200000000000001</br></br>age: 50.0</br>sex: 0.0</br>trtbps: 120.0</br>chol: 244.0</br>fbs: 0.0</br>thalachh: 162.0</br>oldpeak: 1.1</br>thall: 2.0</br>exng_1: 0.0</br>caa_1: 0.0</br>caa_2: 0.0</br>caa_3: 0.0</br>caa_4: 0.0</br>cp_1: 1.0</br>cp_2: 0.0</br>cp_3: 0.0</br>restecg_1: 1.0</br>restecg_2: 0.0</br>_original_yhat_: 0.9995338916778564</br>\"],[\"</br>id: 108</br>prediction: 0.997</br>slp: 0.84</br></br>age: 50.0</br>sex: 0.0</br>trtbps: 120.0</br>chol: 244.0</br>fbs: 0.0</br>thalachh: 162.0</br>oldpeak: 1.1</br>thall: 2.0</br>exng_1: 0.0</br>caa_1: 0.0</br>caa_2: 0.0</br>caa_3: 0.0</br>caa_4: 0.0</br>cp_1: 1.0</br>cp_2: 0.0</br>cp_3: 0.0</br>restecg_1: 1.0</br>restecg_2: 0.0</br>_original_yhat_: 0.9995338916778564</br>\"],[\"</br>id: 108</br>prediction: 0.997</br>slp: 0.86</br></br>age: 50.0</br>sex: 0.0</br>trtbps: 120.0</br>chol: 244.0</br>fbs: 0.0</br>thalachh: 162.0</br>oldpeak: 1.1</br>thall: 2.0</br>exng_1: 0.0</br>caa_1: 0.0</br>caa_2: 0.0</br>caa_3: 0.0</br>caa_4: 0.0</br>cp_1: 1.0</br>cp_2: 0.0</br>cp_3: 0.0</br>restecg_1: 1.0</br>restecg_2: 0.0</br>_original_yhat_: 0.9995338916778564</br>\"],[\"</br>id: 108</br>prediction: 0.997</br>slp: 0.88</br></br>age: 50.0</br>sex: 0.0</br>trtbps: 120.0</br>chol: 244.0</br>fbs: 0.0</br>thalachh: 162.0</br>oldpeak: 1.1</br>thall: 2.0</br>exng_1: 0.0</br>caa_1: 0.0</br>caa_2: 0.0</br>caa_3: 0.0</br>caa_4: 0.0</br>cp_1: 1.0</br>cp_2: 0.0</br>cp_3: 0.0</br>restecg_1: 1.0</br>restecg_2: 0.0</br>_original_yhat_: 0.9995338916778564</br>\"],[\"</br>id: 108</br>prediction: 0.997</br>slp: 0.9</br></br>age: 50.0</br>sex: 0.0</br>trtbps: 120.0</br>chol: 244.0</br>fbs: 0.0</br>thalachh: 162.0</br>oldpeak: 1.1</br>thall: 2.0</br>exng_1: 0.0</br>caa_1: 0.0</br>caa_2: 0.0</br>caa_3: 0.0</br>caa_4: 0.0</br>cp_1: 1.0</br>cp_2: 0.0</br>cp_3: 0.0</br>restecg_1: 1.0</br>restecg_2: 0.0</br>_original_yhat_: 0.9995338916778564</br>\"],[\"</br>id: 108</br>prediction: 0.997</br>slp: 0.92</br></br>age: 50.0</br>sex: 0.0</br>trtbps: 120.0</br>chol: 244.0</br>fbs: 0.0</br>thalachh: 162.0</br>oldpeak: 1.1</br>thall: 2.0</br>exng_1: 0.0</br>caa_1: 0.0</br>caa_2: 0.0</br>caa_3: 0.0</br>caa_4: 0.0</br>cp_1: 1.0</br>cp_2: 0.0</br>cp_3: 0.0</br>restecg_1: 1.0</br>restecg_2: 0.0</br>_original_yhat_: 0.9995338916778564</br>\"],[\"</br>id: 108</br>prediction: 0.997</br>slp: 0.9400000000000001</br></br>age: 50.0</br>sex: 0.0</br>trtbps: 120.0</br>chol: 244.0</br>fbs: 0.0</br>thalachh: 162.0</br>oldpeak: 1.1</br>thall: 2.0</br>exng_1: 0.0</br>caa_1: 0.0</br>caa_2: 0.0</br>caa_3: 0.0</br>caa_4: 0.0</br>cp_1: 1.0</br>cp_2: 0.0</br>cp_3: 0.0</br>restecg_1: 1.0</br>restecg_2: 0.0</br>_original_yhat_: 0.9995338916778564</br>\"],[\"</br>id: 108</br>prediction: 0.997</br>slp: 0.96</br></br>age: 50.0</br>sex: 0.0</br>trtbps: 120.0</br>chol: 244.0</br>fbs: 0.0</br>thalachh: 162.0</br>oldpeak: 1.1</br>thall: 2.0</br>exng_1: 0.0</br>caa_1: 0.0</br>caa_2: 0.0</br>caa_3: 0.0</br>caa_4: 0.0</br>cp_1: 1.0</br>cp_2: 0.0</br>cp_3: 0.0</br>restecg_1: 1.0</br>restecg_2: 0.0</br>_original_yhat_: 0.9995338916778564</br>\"],[\"</br>id: 108</br>prediction: 0.997</br>slp: 0.98</br></br>age: 50.0</br>sex: 0.0</br>trtbps: 120.0</br>chol: 244.0</br>fbs: 0.0</br>thalachh: 162.0</br>oldpeak: 1.1</br>thall: 2.0</br>exng_1: 0.0</br>caa_1: 0.0</br>caa_2: 0.0</br>caa_3: 0.0</br>caa_4: 0.0</br>cp_1: 1.0</br>cp_2: 0.0</br>cp_3: 0.0</br>restecg_1: 1.0</br>restecg_2: 0.0</br>_original_yhat_: 0.9995338916778564</br>\"],[\"</br>id: 108</br>prediction: 0.997</br>slp: 1.0</br></br>age: 50.0</br>sex: 0.0</br>trtbps: 120.0</br>chol: 244.0</br>fbs: 0.0</br>thalachh: 162.0</br>oldpeak: 1.1</br>thall: 2.0</br>exng_1: 0.0</br>caa_1: 0.0</br>caa_2: 0.0</br>caa_3: 0.0</br>caa_4: 0.0</br>cp_1: 1.0</br>cp_2: 0.0</br>cp_3: 0.0</br>restecg_1: 1.0</br>restecg_2: 0.0</br>_original_yhat_: 0.9995338916778564</br>\"],[\"</br>id: 108</br>prediction: 0.997</br>slp: 1.02</br></br>age: 50.0</br>sex: 0.0</br>trtbps: 120.0</br>chol: 244.0</br>fbs: 0.0</br>thalachh: 162.0</br>oldpeak: 1.1</br>thall: 2.0</br>exng_1: 0.0</br>caa_1: 0.0</br>caa_2: 0.0</br>caa_3: 0.0</br>caa_4: 0.0</br>cp_1: 1.0</br>cp_2: 0.0</br>cp_3: 0.0</br>restecg_1: 1.0</br>restecg_2: 0.0</br>_original_yhat_: 0.9995338916778564</br>\"],[\"</br>id: 108</br>prediction: 0.997</br>slp: 1.04</br></br>age: 50.0</br>sex: 0.0</br>trtbps: 120.0</br>chol: 244.0</br>fbs: 0.0</br>thalachh: 162.0</br>oldpeak: 1.1</br>thall: 2.0</br>exng_1: 0.0</br>caa_1: 0.0</br>caa_2: 0.0</br>caa_3: 0.0</br>caa_4: 0.0</br>cp_1: 1.0</br>cp_2: 0.0</br>cp_3: 0.0</br>restecg_1: 1.0</br>restecg_2: 0.0</br>_original_yhat_: 0.9995338916778564</br>\"],[\"</br>id: 108</br>prediction: 0.997</br>slp: 1.06</br></br>age: 50.0</br>sex: 0.0</br>trtbps: 120.0</br>chol: 244.0</br>fbs: 0.0</br>thalachh: 162.0</br>oldpeak: 1.1</br>thall: 2.0</br>exng_1: 0.0</br>caa_1: 0.0</br>caa_2: 0.0</br>caa_3: 0.0</br>caa_4: 0.0</br>cp_1: 1.0</br>cp_2: 0.0</br>cp_3: 0.0</br>restecg_1: 1.0</br>restecg_2: 0.0</br>_original_yhat_: 0.9995338916778564</br>\"],[\"</br>id: 108</br>prediction: 0.997</br>slp: 1.08</br></br>age: 50.0</br>sex: 0.0</br>trtbps: 120.0</br>chol: 244.0</br>fbs: 0.0</br>thalachh: 162.0</br>oldpeak: 1.1</br>thall: 2.0</br>exng_1: 0.0</br>caa_1: 0.0</br>caa_2: 0.0</br>caa_3: 0.0</br>caa_4: 0.0</br>cp_1: 1.0</br>cp_2: 0.0</br>cp_3: 0.0</br>restecg_1: 1.0</br>restecg_2: 0.0</br>_original_yhat_: 0.9995338916778564</br>\"],[\"</br>id: 108</br>prediction: 0.997</br>slp: 1.1</br></br>age: 50.0</br>sex: 0.0</br>trtbps: 120.0</br>chol: 244.0</br>fbs: 0.0</br>thalachh: 162.0</br>oldpeak: 1.1</br>thall: 2.0</br>exng_1: 0.0</br>caa_1: 0.0</br>caa_2: 0.0</br>caa_3: 0.0</br>caa_4: 0.0</br>cp_1: 1.0</br>cp_2: 0.0</br>cp_3: 0.0</br>restecg_1: 1.0</br>restecg_2: 0.0</br>_original_yhat_: 0.9995338916778564</br>\"],[\"</br>id: 108</br>prediction: 0.997</br>slp: 1.12</br></br>age: 50.0</br>sex: 0.0</br>trtbps: 120.0</br>chol: 244.0</br>fbs: 0.0</br>thalachh: 162.0</br>oldpeak: 1.1</br>thall: 2.0</br>exng_1: 0.0</br>caa_1: 0.0</br>caa_2: 0.0</br>caa_3: 0.0</br>caa_4: 0.0</br>cp_1: 1.0</br>cp_2: 0.0</br>cp_3: 0.0</br>restecg_1: 1.0</br>restecg_2: 0.0</br>_original_yhat_: 0.9995338916778564</br>\"],[\"</br>id: 108</br>prediction: 0.997</br>slp: 1.1400000000000001</br></br>age: 50.0</br>sex: 0.0</br>trtbps: 120.0</br>chol: 244.0</br>fbs: 0.0</br>thalachh: 162.0</br>oldpeak: 1.1</br>thall: 2.0</br>exng_1: 0.0</br>caa_1: 0.0</br>caa_2: 0.0</br>caa_3: 0.0</br>caa_4: 0.0</br>cp_1: 1.0</br>cp_2: 0.0</br>cp_3: 0.0</br>restecg_1: 1.0</br>restecg_2: 0.0</br>_original_yhat_: 0.9995338916778564</br>\"],[\"</br>id: 108</br>prediction: 0.997</br>slp: 1.16</br></br>age: 50.0</br>sex: 0.0</br>trtbps: 120.0</br>chol: 244.0</br>fbs: 0.0</br>thalachh: 162.0</br>oldpeak: 1.1</br>thall: 2.0</br>exng_1: 0.0</br>caa_1: 0.0</br>caa_2: 0.0</br>caa_3: 0.0</br>caa_4: 0.0</br>cp_1: 1.0</br>cp_2: 0.0</br>cp_3: 0.0</br>restecg_1: 1.0</br>restecg_2: 0.0</br>_original_yhat_: 0.9995338916778564</br>\"],[\"</br>id: 108</br>prediction: 0.997</br>slp: 1.18</br></br>age: 50.0</br>sex: 0.0</br>trtbps: 120.0</br>chol: 244.0</br>fbs: 0.0</br>thalachh: 162.0</br>oldpeak: 1.1</br>thall: 2.0</br>exng_1: 0.0</br>caa_1: 0.0</br>caa_2: 0.0</br>caa_3: 0.0</br>caa_4: 0.0</br>cp_1: 1.0</br>cp_2: 0.0</br>cp_3: 0.0</br>restecg_1: 1.0</br>restecg_2: 0.0</br>_original_yhat_: 0.9995338916778564</br>\"],[\"</br>id: 108</br>prediction: 0.997</br>slp: 1.2</br></br>age: 50.0</br>sex: 0.0</br>trtbps: 120.0</br>chol: 244.0</br>fbs: 0.0</br>thalachh: 162.0</br>oldpeak: 1.1</br>thall: 2.0</br>exng_1: 0.0</br>caa_1: 0.0</br>caa_2: 0.0</br>caa_3: 0.0</br>caa_4: 0.0</br>cp_1: 1.0</br>cp_2: 0.0</br>cp_3: 0.0</br>restecg_1: 1.0</br>restecg_2: 0.0</br>_original_yhat_: 0.9995338916778564</br>\"],[\"</br>id: 108</br>prediction: 0.997</br>slp: 1.22</br></br>age: 50.0</br>sex: 0.0</br>trtbps: 120.0</br>chol: 244.0</br>fbs: 0.0</br>thalachh: 162.0</br>oldpeak: 1.1</br>thall: 2.0</br>exng_1: 0.0</br>caa_1: 0.0</br>caa_2: 0.0</br>caa_3: 0.0</br>caa_4: 0.0</br>cp_1: 1.0</br>cp_2: 0.0</br>cp_3: 0.0</br>restecg_1: 1.0</br>restecg_2: 0.0</br>_original_yhat_: 0.9995338916778564</br>\"],[\"</br>id: 108</br>prediction: 0.997</br>slp: 1.24</br></br>age: 50.0</br>sex: 0.0</br>trtbps: 120.0</br>chol: 244.0</br>fbs: 0.0</br>thalachh: 162.0</br>oldpeak: 1.1</br>thall: 2.0</br>exng_1: 0.0</br>caa_1: 0.0</br>caa_2: 0.0</br>caa_3: 0.0</br>caa_4: 0.0</br>cp_1: 1.0</br>cp_2: 0.0</br>cp_3: 0.0</br>restecg_1: 1.0</br>restecg_2: 0.0</br>_original_yhat_: 0.9995338916778564</br>\"],[\"</br>id: 108</br>prediction: 0.997</br>slp: 1.26</br></br>age: 50.0</br>sex: 0.0</br>trtbps: 120.0</br>chol: 244.0</br>fbs: 0.0</br>thalachh: 162.0</br>oldpeak: 1.1</br>thall: 2.0</br>exng_1: 0.0</br>caa_1: 0.0</br>caa_2: 0.0</br>caa_3: 0.0</br>caa_4: 0.0</br>cp_1: 1.0</br>cp_2: 0.0</br>cp_3: 0.0</br>restecg_1: 1.0</br>restecg_2: 0.0</br>_original_yhat_: 0.9995338916778564</br>\"],[\"</br>id: 108</br>prediction: 0.997</br>slp: 1.28</br></br>age: 50.0</br>sex: 0.0</br>trtbps: 120.0</br>chol: 244.0</br>fbs: 0.0</br>thalachh: 162.0</br>oldpeak: 1.1</br>thall: 2.0</br>exng_1: 0.0</br>caa_1: 0.0</br>caa_2: 0.0</br>caa_3: 0.0</br>caa_4: 0.0</br>cp_1: 1.0</br>cp_2: 0.0</br>cp_3: 0.0</br>restecg_1: 1.0</br>restecg_2: 0.0</br>_original_yhat_: 0.9995338916778564</br>\"],[\"</br>id: 108</br>prediction: 0.997</br>slp: 1.3</br></br>age: 50.0</br>sex: 0.0</br>trtbps: 120.0</br>chol: 244.0</br>fbs: 0.0</br>thalachh: 162.0</br>oldpeak: 1.1</br>thall: 2.0</br>exng_1: 0.0</br>caa_1: 0.0</br>caa_2: 0.0</br>caa_3: 0.0</br>caa_4: 0.0</br>cp_1: 1.0</br>cp_2: 0.0</br>cp_3: 0.0</br>restecg_1: 1.0</br>restecg_2: 0.0</br>_original_yhat_: 0.9995338916778564</br>\"],[\"</br>id: 108</br>prediction: 0.997</br>slp: 1.32</br></br>age: 50.0</br>sex: 0.0</br>trtbps: 120.0</br>chol: 244.0</br>fbs: 0.0</br>thalachh: 162.0</br>oldpeak: 1.1</br>thall: 2.0</br>exng_1: 0.0</br>caa_1: 0.0</br>caa_2: 0.0</br>caa_3: 0.0</br>caa_4: 0.0</br>cp_1: 1.0</br>cp_2: 0.0</br>cp_3: 0.0</br>restecg_1: 1.0</br>restecg_2: 0.0</br>_original_yhat_: 0.9995338916778564</br>\"],[\"</br>id: 108</br>prediction: 0.997</br>slp: 1.34</br></br>age: 50.0</br>sex: 0.0</br>trtbps: 120.0</br>chol: 244.0</br>fbs: 0.0</br>thalachh: 162.0</br>oldpeak: 1.1</br>thall: 2.0</br>exng_1: 0.0</br>caa_1: 0.0</br>caa_2: 0.0</br>caa_3: 0.0</br>caa_4: 0.0</br>cp_1: 1.0</br>cp_2: 0.0</br>cp_3: 0.0</br>restecg_1: 1.0</br>restecg_2: 0.0</br>_original_yhat_: 0.9995338916778564</br>\"],[\"</br>id: 108</br>prediction: 0.997</br>slp: 1.36</br></br>age: 50.0</br>sex: 0.0</br>trtbps: 120.0</br>chol: 244.0</br>fbs: 0.0</br>thalachh: 162.0</br>oldpeak: 1.1</br>thall: 2.0</br>exng_1: 0.0</br>caa_1: 0.0</br>caa_2: 0.0</br>caa_3: 0.0</br>caa_4: 0.0</br>cp_1: 1.0</br>cp_2: 0.0</br>cp_3: 0.0</br>restecg_1: 1.0</br>restecg_2: 0.0</br>_original_yhat_: 0.9995338916778564</br>\"],[\"</br>id: 108</br>prediction: 0.997</br>slp: 1.3800000000000001</br></br>age: 50.0</br>sex: 0.0</br>trtbps: 120.0</br>chol: 244.0</br>fbs: 0.0</br>thalachh: 162.0</br>oldpeak: 1.1</br>thall: 2.0</br>exng_1: 0.0</br>caa_1: 0.0</br>caa_2: 0.0</br>caa_3: 0.0</br>caa_4: 0.0</br>cp_1: 1.0</br>cp_2: 0.0</br>cp_3: 0.0</br>restecg_1: 1.0</br>restecg_2: 0.0</br>_original_yhat_: 0.9995338916778564</br>\"],[\"</br>id: 108</br>prediction: 0.997</br>slp: 1.4000000000000001</br></br>age: 50.0</br>sex: 0.0</br>trtbps: 120.0</br>chol: 244.0</br>fbs: 0.0</br>thalachh: 162.0</br>oldpeak: 1.1</br>thall: 2.0</br>exng_1: 0.0</br>caa_1: 0.0</br>caa_2: 0.0</br>caa_3: 0.0</br>caa_4: 0.0</br>cp_1: 1.0</br>cp_2: 0.0</br>cp_3: 0.0</br>restecg_1: 1.0</br>restecg_2: 0.0</br>_original_yhat_: 0.9995338916778564</br>\"],[\"</br>id: 108</br>prediction: 0.997</br>slp: 1.42</br></br>age: 50.0</br>sex: 0.0</br>trtbps: 120.0</br>chol: 244.0</br>fbs: 0.0</br>thalachh: 162.0</br>oldpeak: 1.1</br>thall: 2.0</br>exng_1: 0.0</br>caa_1: 0.0</br>caa_2: 0.0</br>caa_3: 0.0</br>caa_4: 0.0</br>cp_1: 1.0</br>cp_2: 0.0</br>cp_3: 0.0</br>restecg_1: 1.0</br>restecg_2: 0.0</br>_original_yhat_: 0.9995338916778564</br>\"],[\"</br>id: 108</br>prediction: 0.997</br>slp: 1.44</br></br>age: 50.0</br>sex: 0.0</br>trtbps: 120.0</br>chol: 244.0</br>fbs: 0.0</br>thalachh: 162.0</br>oldpeak: 1.1</br>thall: 2.0</br>exng_1: 0.0</br>caa_1: 0.0</br>caa_2: 0.0</br>caa_3: 0.0</br>caa_4: 0.0</br>cp_1: 1.0</br>cp_2: 0.0</br>cp_3: 0.0</br>restecg_1: 1.0</br>restecg_2: 0.0</br>_original_yhat_: 0.9995338916778564</br>\"],[\"</br>id: 108</br>prediction: 0.997</br>slp: 1.46</br></br>age: 50.0</br>sex: 0.0</br>trtbps: 120.0</br>chol: 244.0</br>fbs: 0.0</br>thalachh: 162.0</br>oldpeak: 1.1</br>thall: 2.0</br>exng_1: 0.0</br>caa_1: 0.0</br>caa_2: 0.0</br>caa_3: 0.0</br>caa_4: 0.0</br>cp_1: 1.0</br>cp_2: 0.0</br>cp_3: 0.0</br>restecg_1: 1.0</br>restecg_2: 0.0</br>_original_yhat_: 0.9995338916778564</br>\"],[\"</br>id: 108</br>prediction: 0.997</br>slp: 1.48</br></br>age: 50.0</br>sex: 0.0</br>trtbps: 120.0</br>chol: 244.0</br>fbs: 0.0</br>thalachh: 162.0</br>oldpeak: 1.1</br>thall: 2.0</br>exng_1: 0.0</br>caa_1: 0.0</br>caa_2: 0.0</br>caa_3: 0.0</br>caa_4: 0.0</br>cp_1: 1.0</br>cp_2: 0.0</br>cp_3: 0.0</br>restecg_1: 1.0</br>restecg_2: 0.0</br>_original_yhat_: 0.9995338916778564</br>\"],[\"</br>id: 108</br>prediction: 1.0</br>slp: 1.5</br></br>age: 50.0</br>sex: 0.0</br>trtbps: 120.0</br>chol: 244.0</br>fbs: 0.0</br>thalachh: 162.0</br>oldpeak: 1.1</br>thall: 2.0</br>exng_1: 0.0</br>caa_1: 0.0</br>caa_2: 0.0</br>caa_3: 0.0</br>caa_4: 0.0</br>cp_1: 1.0</br>cp_2: 0.0</br>cp_3: 0.0</br>restecg_1: 1.0</br>restecg_2: 0.0</br>_original_yhat_: 0.9995338916778564</br>\"],[\"</br>id: 108</br>prediction: 1.0</br>slp: 1.52</br></br>age: 50.0</br>sex: 0.0</br>trtbps: 120.0</br>chol: 244.0</br>fbs: 0.0</br>thalachh: 162.0</br>oldpeak: 1.1</br>thall: 2.0</br>exng_1: 0.0</br>caa_1: 0.0</br>caa_2: 0.0</br>caa_3: 0.0</br>caa_4: 0.0</br>cp_1: 1.0</br>cp_2: 0.0</br>cp_3: 0.0</br>restecg_1: 1.0</br>restecg_2: 0.0</br>_original_yhat_: 0.9995338916778564</br>\"],[\"</br>id: 108</br>prediction: 1.0</br>slp: 1.54</br></br>age: 50.0</br>sex: 0.0</br>trtbps: 120.0</br>chol: 244.0</br>fbs: 0.0</br>thalachh: 162.0</br>oldpeak: 1.1</br>thall: 2.0</br>exng_1: 0.0</br>caa_1: 0.0</br>caa_2: 0.0</br>caa_3: 0.0</br>caa_4: 0.0</br>cp_1: 1.0</br>cp_2: 0.0</br>cp_3: 0.0</br>restecg_1: 1.0</br>restecg_2: 0.0</br>_original_yhat_: 0.9995338916778564</br>\"],[\"</br>id: 108</br>prediction: 1.0</br>slp: 1.56</br></br>age: 50.0</br>sex: 0.0</br>trtbps: 120.0</br>chol: 244.0</br>fbs: 0.0</br>thalachh: 162.0</br>oldpeak: 1.1</br>thall: 2.0</br>exng_1: 0.0</br>caa_1: 0.0</br>caa_2: 0.0</br>caa_3: 0.0</br>caa_4: 0.0</br>cp_1: 1.0</br>cp_2: 0.0</br>cp_3: 0.0</br>restecg_1: 1.0</br>restecg_2: 0.0</br>_original_yhat_: 0.9995338916778564</br>\"],[\"</br>id: 108</br>prediction: 1.0</br>slp: 1.58</br></br>age: 50.0</br>sex: 0.0</br>trtbps: 120.0</br>chol: 244.0</br>fbs: 0.0</br>thalachh: 162.0</br>oldpeak: 1.1</br>thall: 2.0</br>exng_1: 0.0</br>caa_1: 0.0</br>caa_2: 0.0</br>caa_3: 0.0</br>caa_4: 0.0</br>cp_1: 1.0</br>cp_2: 0.0</br>cp_3: 0.0</br>restecg_1: 1.0</br>restecg_2: 0.0</br>_original_yhat_: 0.9995338916778564</br>\"],[\"</br>id: 108</br>prediction: 1.0</br>slp: 1.6</br></br>age: 50.0</br>sex: 0.0</br>trtbps: 120.0</br>chol: 244.0</br>fbs: 0.0</br>thalachh: 162.0</br>oldpeak: 1.1</br>thall: 2.0</br>exng_1: 0.0</br>caa_1: 0.0</br>caa_2: 0.0</br>caa_3: 0.0</br>caa_4: 0.0</br>cp_1: 1.0</br>cp_2: 0.0</br>cp_3: 0.0</br>restecg_1: 1.0</br>restecg_2: 0.0</br>_original_yhat_: 0.9995338916778564</br>\"],[\"</br>id: 108</br>prediction: 1.0</br>slp: 1.62</br></br>age: 50.0</br>sex: 0.0</br>trtbps: 120.0</br>chol: 244.0</br>fbs: 0.0</br>thalachh: 162.0</br>oldpeak: 1.1</br>thall: 2.0</br>exng_1: 0.0</br>caa_1: 0.0</br>caa_2: 0.0</br>caa_3: 0.0</br>caa_4: 0.0</br>cp_1: 1.0</br>cp_2: 0.0</br>cp_3: 0.0</br>restecg_1: 1.0</br>restecg_2: 0.0</br>_original_yhat_: 0.9995338916778564</br>\"],[\"</br>id: 108</br>prediction: 1.0</br>slp: 1.6400000000000001</br></br>age: 50.0</br>sex: 0.0</br>trtbps: 120.0</br>chol: 244.0</br>fbs: 0.0</br>thalachh: 162.0</br>oldpeak: 1.1</br>thall: 2.0</br>exng_1: 0.0</br>caa_1: 0.0</br>caa_2: 0.0</br>caa_3: 0.0</br>caa_4: 0.0</br>cp_1: 1.0</br>cp_2: 0.0</br>cp_3: 0.0</br>restecg_1: 1.0</br>restecg_2: 0.0</br>_original_yhat_: 0.9995338916778564</br>\"],[\"</br>id: 108</br>prediction: 1.0</br>slp: 1.6600000000000001</br></br>age: 50.0</br>sex: 0.0</br>trtbps: 120.0</br>chol: 244.0</br>fbs: 0.0</br>thalachh: 162.0</br>oldpeak: 1.1</br>thall: 2.0</br>exng_1: 0.0</br>caa_1: 0.0</br>caa_2: 0.0</br>caa_3: 0.0</br>caa_4: 0.0</br>cp_1: 1.0</br>cp_2: 0.0</br>cp_3: 0.0</br>restecg_1: 1.0</br>restecg_2: 0.0</br>_original_yhat_: 0.9995338916778564</br>\"],[\"</br>id: 108</br>prediction: 1.0</br>slp: 1.68</br></br>age: 50.0</br>sex: 0.0</br>trtbps: 120.0</br>chol: 244.0</br>fbs: 0.0</br>thalachh: 162.0</br>oldpeak: 1.1</br>thall: 2.0</br>exng_1: 0.0</br>caa_1: 0.0</br>caa_2: 0.0</br>caa_3: 0.0</br>caa_4: 0.0</br>cp_1: 1.0</br>cp_2: 0.0</br>cp_3: 0.0</br>restecg_1: 1.0</br>restecg_2: 0.0</br>_original_yhat_: 0.9995338916778564</br>\"],[\"</br>id: 108</br>prediction: 1.0</br>slp: 1.7</br></br>age: 50.0</br>sex: 0.0</br>trtbps: 120.0</br>chol: 244.0</br>fbs: 0.0</br>thalachh: 162.0</br>oldpeak: 1.1</br>thall: 2.0</br>exng_1: 0.0</br>caa_1: 0.0</br>caa_2: 0.0</br>caa_3: 0.0</br>caa_4: 0.0</br>cp_1: 1.0</br>cp_2: 0.0</br>cp_3: 0.0</br>restecg_1: 1.0</br>restecg_2: 0.0</br>_original_yhat_: 0.9995338916778564</br>\"],[\"</br>id: 108</br>prediction: 1.0</br>slp: 1.72</br></br>age: 50.0</br>sex: 0.0</br>trtbps: 120.0</br>chol: 244.0</br>fbs: 0.0</br>thalachh: 162.0</br>oldpeak: 1.1</br>thall: 2.0</br>exng_1: 0.0</br>caa_1: 0.0</br>caa_2: 0.0</br>caa_3: 0.0</br>caa_4: 0.0</br>cp_1: 1.0</br>cp_2: 0.0</br>cp_3: 0.0</br>restecg_1: 1.0</br>restecg_2: 0.0</br>_original_yhat_: 0.9995338916778564</br>\"],[\"</br>id: 108</br>prediction: 1.0</br>slp: 1.74</br></br>age: 50.0</br>sex: 0.0</br>trtbps: 120.0</br>chol: 244.0</br>fbs: 0.0</br>thalachh: 162.0</br>oldpeak: 1.1</br>thall: 2.0</br>exng_1: 0.0</br>caa_1: 0.0</br>caa_2: 0.0</br>caa_3: 0.0</br>caa_4: 0.0</br>cp_1: 1.0</br>cp_2: 0.0</br>cp_3: 0.0</br>restecg_1: 1.0</br>restecg_2: 0.0</br>_original_yhat_: 0.9995338916778564</br>\"],[\"</br>id: 108</br>prediction: 1.0</br>slp: 1.76</br></br>age: 50.0</br>sex: 0.0</br>trtbps: 120.0</br>chol: 244.0</br>fbs: 0.0</br>thalachh: 162.0</br>oldpeak: 1.1</br>thall: 2.0</br>exng_1: 0.0</br>caa_1: 0.0</br>caa_2: 0.0</br>caa_3: 0.0</br>caa_4: 0.0</br>cp_1: 1.0</br>cp_2: 0.0</br>cp_3: 0.0</br>restecg_1: 1.0</br>restecg_2: 0.0</br>_original_yhat_: 0.9995338916778564</br>\"],[\"</br>id: 108</br>prediction: 1.0</br>slp: 1.78</br></br>age: 50.0</br>sex: 0.0</br>trtbps: 120.0</br>chol: 244.0</br>fbs: 0.0</br>thalachh: 162.0</br>oldpeak: 1.1</br>thall: 2.0</br>exng_1: 0.0</br>caa_1: 0.0</br>caa_2: 0.0</br>caa_3: 0.0</br>caa_4: 0.0</br>cp_1: 1.0</br>cp_2: 0.0</br>cp_3: 0.0</br>restecg_1: 1.0</br>restecg_2: 0.0</br>_original_yhat_: 0.9995338916778564</br>\"],[\"</br>id: 108</br>prediction: 1.0</br>slp: 1.8</br></br>age: 50.0</br>sex: 0.0</br>trtbps: 120.0</br>chol: 244.0</br>fbs: 0.0</br>thalachh: 162.0</br>oldpeak: 1.1</br>thall: 2.0</br>exng_1: 0.0</br>caa_1: 0.0</br>caa_2: 0.0</br>caa_3: 0.0</br>caa_4: 0.0</br>cp_1: 1.0</br>cp_2: 0.0</br>cp_3: 0.0</br>restecg_1: 1.0</br>restecg_2: 0.0</br>_original_yhat_: 0.9995338916778564</br>\"],[\"</br>id: 108</br>prediction: 1.0</br>slp: 1.82</br></br>age: 50.0</br>sex: 0.0</br>trtbps: 120.0</br>chol: 244.0</br>fbs: 0.0</br>thalachh: 162.0</br>oldpeak: 1.1</br>thall: 2.0</br>exng_1: 0.0</br>caa_1: 0.0</br>caa_2: 0.0</br>caa_3: 0.0</br>caa_4: 0.0</br>cp_1: 1.0</br>cp_2: 0.0</br>cp_3: 0.0</br>restecg_1: 1.0</br>restecg_2: 0.0</br>_original_yhat_: 0.9995338916778564</br>\"],[\"</br>id: 108</br>prediction: 1.0</br>slp: 1.84</br></br>age: 50.0</br>sex: 0.0</br>trtbps: 120.0</br>chol: 244.0</br>fbs: 0.0</br>thalachh: 162.0</br>oldpeak: 1.1</br>thall: 2.0</br>exng_1: 0.0</br>caa_1: 0.0</br>caa_2: 0.0</br>caa_3: 0.0</br>caa_4: 0.0</br>cp_1: 1.0</br>cp_2: 0.0</br>cp_3: 0.0</br>restecg_1: 1.0</br>restecg_2: 0.0</br>_original_yhat_: 0.9995338916778564</br>\"],[\"</br>id: 108</br>prediction: 1.0</br>slp: 1.86</br></br>age: 50.0</br>sex: 0.0</br>trtbps: 120.0</br>chol: 244.0</br>fbs: 0.0</br>thalachh: 162.0</br>oldpeak: 1.1</br>thall: 2.0</br>exng_1: 0.0</br>caa_1: 0.0</br>caa_2: 0.0</br>caa_3: 0.0</br>caa_4: 0.0</br>cp_1: 1.0</br>cp_2: 0.0</br>cp_3: 0.0</br>restecg_1: 1.0</br>restecg_2: 0.0</br>_original_yhat_: 0.9995338916778564</br>\"],[\"</br>id: 108</br>prediction: 1.0</br>slp: 1.8800000000000001</br></br>age: 50.0</br>sex: 0.0</br>trtbps: 120.0</br>chol: 244.0</br>fbs: 0.0</br>thalachh: 162.0</br>oldpeak: 1.1</br>thall: 2.0</br>exng_1: 0.0</br>caa_1: 0.0</br>caa_2: 0.0</br>caa_3: 0.0</br>caa_4: 0.0</br>cp_1: 1.0</br>cp_2: 0.0</br>cp_3: 0.0</br>restecg_1: 1.0</br>restecg_2: 0.0</br>_original_yhat_: 0.9995338916778564</br>\"],[\"</br>id: 108</br>prediction: 1.0</br>slp: 1.9000000000000001</br></br>age: 50.0</br>sex: 0.0</br>trtbps: 120.0</br>chol: 244.0</br>fbs: 0.0</br>thalachh: 162.0</br>oldpeak: 1.1</br>thall: 2.0</br>exng_1: 0.0</br>caa_1: 0.0</br>caa_2: 0.0</br>caa_3: 0.0</br>caa_4: 0.0</br>cp_1: 1.0</br>cp_2: 0.0</br>cp_3: 0.0</br>restecg_1: 1.0</br>restecg_2: 0.0</br>_original_yhat_: 0.9995338916778564</br>\"],[\"</br>id: 108</br>prediction: 1.0</br>slp: 1.92</br></br>age: 50.0</br>sex: 0.0</br>trtbps: 120.0</br>chol: 244.0</br>fbs: 0.0</br>thalachh: 162.0</br>oldpeak: 1.1</br>thall: 2.0</br>exng_1: 0.0</br>caa_1: 0.0</br>caa_2: 0.0</br>caa_3: 0.0</br>caa_4: 0.0</br>cp_1: 1.0</br>cp_2: 0.0</br>cp_3: 0.0</br>restecg_1: 1.0</br>restecg_2: 0.0</br>_original_yhat_: 0.9995338916778564</br>\"],[\"</br>id: 108</br>prediction: 1.0</br>slp: 1.94</br></br>age: 50.0</br>sex: 0.0</br>trtbps: 120.0</br>chol: 244.0</br>fbs: 0.0</br>thalachh: 162.0</br>oldpeak: 1.1</br>thall: 2.0</br>exng_1: 0.0</br>caa_1: 0.0</br>caa_2: 0.0</br>caa_3: 0.0</br>caa_4: 0.0</br>cp_1: 1.0</br>cp_2: 0.0</br>cp_3: 0.0</br>restecg_1: 1.0</br>restecg_2: 0.0</br>_original_yhat_: 0.9995338916778564</br>\"],[\"</br>id: 108</br>prediction: 1.0</br>slp: 1.96</br></br>age: 50.0</br>sex: 0.0</br>trtbps: 120.0</br>chol: 244.0</br>fbs: 0.0</br>thalachh: 162.0</br>oldpeak: 1.1</br>thall: 2.0</br>exng_1: 0.0</br>caa_1: 0.0</br>caa_2: 0.0</br>caa_3: 0.0</br>caa_4: 0.0</br>cp_1: 1.0</br>cp_2: 0.0</br>cp_3: 0.0</br>restecg_1: 1.0</br>restecg_2: 0.0</br>_original_yhat_: 0.9995338916778564</br>\"],[\"</br>id: 108</br>prediction: 1.0</br>slp: 1.98</br></br>age: 50.0</br>sex: 0.0</br>trtbps: 120.0</br>chol: 244.0</br>fbs: 0.0</br>thalachh: 162.0</br>oldpeak: 1.1</br>thall: 2.0</br>exng_1: 0.0</br>caa_1: 0.0</br>caa_2: 0.0</br>caa_3: 0.0</br>caa_4: 0.0</br>cp_1: 1.0</br>cp_2: 0.0</br>cp_3: 0.0</br>restecg_1: 1.0</br>restecg_2: 0.0</br>_original_yhat_: 0.9995338916778564</br>\"],[\"</br>id: 108</br>prediction: 1.0</br>slp: 2.0</br></br>age: 50.0</br>sex: 0.0</br>trtbps: 120.0</br>chol: 244.0</br>fbs: 0.0</br>thalachh: 162.0</br>oldpeak: 1.1</br>thall: 2.0</br>exng_1: 0.0</br>caa_1: 0.0</br>caa_2: 0.0</br>caa_3: 0.0</br>caa_4: 0.0</br>cp_1: 1.0</br>cp_2: 0.0</br>cp_3: 0.0</br>restecg_1: 1.0</br>restecg_2: 0.0</br>_original_yhat_: 0.9995338916778564</br>\"]],\"hovertemplate\":\"%{customdata[0]}<extra></extra>\",\"legendgroup\":\"XGBClassifier\",\"line\":{\"color\":\"#46bac2\",\"dash\":\"solid\",\"width\":2},\"marker\":{\"symbol\":\"circle\"},\"mode\":\"lines\",\"name\":\"XGBClassifier\",\"orientation\":\"v\",\"showlegend\":false,\"x\":[0.0,0.02,0.04,0.06,0.08,0.1,0.12,0.14,0.16,0.18,0.2,0.22,0.24,0.26,0.28,0.3,0.32,0.34,0.36,0.38,0.4,0.42,0.44,0.46,0.48,0.5,0.52,0.54,0.56,0.58,0.6,0.62,0.64,0.66,0.68,0.7000000000000001,0.72,0.74,0.76,0.78,0.8,0.8200000000000001,0.84,0.86,0.88,0.9,0.92,0.9400000000000001,0.96,0.98,1.0,1.02,1.04,1.06,1.08,1.1,1.12,1.1400000000000001,1.16,1.18,1.2,1.22,1.24,1.26,1.28,1.3,1.32,1.34,1.36,1.3800000000000001,1.4000000000000001,1.42,1.44,1.46,1.48,1.5,1.52,1.54,1.56,1.58,1.6,1.62,1.6400000000000001,1.6600000000000001,1.68,1.7,1.72,1.74,1.76,1.78,1.8,1.82,1.84,1.86,1.8800000000000001,1.9000000000000001,1.92,1.94,1.96,1.98,2.0],\"xaxis\":\"x\",\"y\":[0.9975945353507996,0.9975945353507996,0.9975945353507996,0.9975945353507996,0.9975945353507996,0.9975945353507996,0.9975945353507996,0.9975945353507996,0.9975945353507996,0.9975945353507996,0.9975945353507996,0.9975945353507996,0.9975945353507996,0.9975945353507996,0.9975945353507996,0.9975945353507996,0.9975945353507996,0.9975945353507996,0.9975945353507996,0.9975945353507996,0.9975945353507996,0.9975945353507996,0.9975945353507996,0.9975945353507996,0.9975945353507996,0.9972819089889526,0.9972819089889526,0.9972819089889526,0.9972819089889526,0.9972819089889526,0.9972819089889526,0.9972819089889526,0.9972819089889526,0.9972819089889526,0.9972819089889526,0.9972819089889526,0.9972819089889526,0.9972819089889526,0.9972819089889526,0.9972819089889526,0.9972819089889526,0.9972819089889526,0.9972819089889526,0.9972819089889526,0.9972819089889526,0.9972819089889526,0.9972819089889526,0.9972819089889526,0.9972819089889526,0.9972819089889526,0.9972819089889526,0.9972819089889526,0.9972819089889526,0.9972819089889526,0.9972819089889526,0.9972819089889526,0.9972819089889526,0.9972819089889526,0.9972819089889526,0.9972819089889526,0.9972819089889526,0.9972819089889526,0.9972819089889526,0.9972819089889526,0.9972819089889526,0.9972819089889526,0.9972819089889526,0.9972819089889526,0.9972819089889526,0.9972819089889526,0.9972819089889526,0.9972819089889526,0.9972819089889526,0.9972819089889526,0.9972819089889526,0.9995338916778564,0.9995338916778564,0.9995338916778564,0.9995338916778564,0.9995338916778564,0.9995338916778564,0.9995338916778564,0.9995338916778564,0.9995338916778564,0.9995338916778564,0.9995338916778564,0.9995338916778564,0.9995338916778564,0.9995338916778564,0.9995338916778564,0.9995338916778564,0.9995338916778564,0.9995338916778564,0.9995338916778564,0.9995338916778564,0.9995338916778564,0.9995338916778564,0.9995338916778564,0.9995338916778564,0.9995338916778564,0.9995338916778564],\"yaxis\":\"y\",\"type\":\"scatter\",\"opacity\":1},{\"customdata\":[[\"</br>id: 14</br>prediction: 0.998</br>chol: 126.0</br></br>age: 58.0</br>sex: 0.0</br>trtbps: 150.0</br>fbs: 1.0</br>thalachh: 162.0</br>oldpeak: 1.0</br>slp: 2.0</br>thall: 2.0</br>exng_1: 0.0</br>caa_1: 0.0</br>caa_2: 0.0</br>caa_3: 0.0</br>caa_4: 0.0</br>cp_1: 0.0</br>cp_2: 0.0</br>cp_3: 1.0</br>restecg_1: 0.0</br>restecg_2: 0.0</br>_original_yhat_: 0.9919773936271667</br>\"],[\"</br>id: 14</br>prediction: 0.998</br>chol: 130.38</br></br>age: 58.0</br>sex: 0.0</br>trtbps: 150.0</br>fbs: 1.0</br>thalachh: 162.0</br>oldpeak: 1.0</br>slp: 2.0</br>thall: 2.0</br>exng_1: 0.0</br>caa_1: 0.0</br>caa_2: 0.0</br>caa_3: 0.0</br>caa_4: 0.0</br>cp_1: 0.0</br>cp_2: 0.0</br>cp_3: 1.0</br>restecg_1: 0.0</br>restecg_2: 0.0</br>_original_yhat_: 0.9919773936271667</br>\"],[\"</br>id: 14</br>prediction: 0.998</br>chol: 134.76</br></br>age: 58.0</br>sex: 0.0</br>trtbps: 150.0</br>fbs: 1.0</br>thalachh: 162.0</br>oldpeak: 1.0</br>slp: 2.0</br>thall: 2.0</br>exng_1: 0.0</br>caa_1: 0.0</br>caa_2: 0.0</br>caa_3: 0.0</br>caa_4: 0.0</br>cp_1: 0.0</br>cp_2: 0.0</br>cp_3: 1.0</br>restecg_1: 0.0</br>restecg_2: 0.0</br>_original_yhat_: 0.9919773936271667</br>\"],[\"</br>id: 14</br>prediction: 0.998</br>chol: 139.14</br></br>age: 58.0</br>sex: 0.0</br>trtbps: 150.0</br>fbs: 1.0</br>thalachh: 162.0</br>oldpeak: 1.0</br>slp: 2.0</br>thall: 2.0</br>exng_1: 0.0</br>caa_1: 0.0</br>caa_2: 0.0</br>caa_3: 0.0</br>caa_4: 0.0</br>cp_1: 0.0</br>cp_2: 0.0</br>cp_3: 1.0</br>restecg_1: 0.0</br>restecg_2: 0.0</br>_original_yhat_: 0.9919773936271667</br>\"],[\"</br>id: 14</br>prediction: 0.998</br>chol: 143.52</br></br>age: 58.0</br>sex: 0.0</br>trtbps: 150.0</br>fbs: 1.0</br>thalachh: 162.0</br>oldpeak: 1.0</br>slp: 2.0</br>thall: 2.0</br>exng_1: 0.0</br>caa_1: 0.0</br>caa_2: 0.0</br>caa_3: 0.0</br>caa_4: 0.0</br>cp_1: 0.0</br>cp_2: 0.0</br>cp_3: 1.0</br>restecg_1: 0.0</br>restecg_2: 0.0</br>_original_yhat_: 0.9919773936271667</br>\"],[\"</br>id: 14</br>prediction: 0.998</br>chol: 147.9</br></br>age: 58.0</br>sex: 0.0</br>trtbps: 150.0</br>fbs: 1.0</br>thalachh: 162.0</br>oldpeak: 1.0</br>slp: 2.0</br>thall: 2.0</br>exng_1: 0.0</br>caa_1: 0.0</br>caa_2: 0.0</br>caa_3: 0.0</br>caa_4: 0.0</br>cp_1: 0.0</br>cp_2: 0.0</br>cp_3: 1.0</br>restecg_1: 0.0</br>restecg_2: 0.0</br>_original_yhat_: 0.9919773936271667</br>\"],[\"</br>id: 14</br>prediction: 0.998</br>chol: 152.28</br></br>age: 58.0</br>sex: 0.0</br>trtbps: 150.0</br>fbs: 1.0</br>thalachh: 162.0</br>oldpeak: 1.0</br>slp: 2.0</br>thall: 2.0</br>exng_1: 0.0</br>caa_1: 0.0</br>caa_2: 0.0</br>caa_3: 0.0</br>caa_4: 0.0</br>cp_1: 0.0</br>cp_2: 0.0</br>cp_3: 1.0</br>restecg_1: 0.0</br>restecg_2: 0.0</br>_original_yhat_: 0.9919773936271667</br>\"],[\"</br>id: 14</br>prediction: 0.998</br>chol: 156.66</br></br>age: 58.0</br>sex: 0.0</br>trtbps: 150.0</br>fbs: 1.0</br>thalachh: 162.0</br>oldpeak: 1.0</br>slp: 2.0</br>thall: 2.0</br>exng_1: 0.0</br>caa_1: 0.0</br>caa_2: 0.0</br>caa_3: 0.0</br>caa_4: 0.0</br>cp_1: 0.0</br>cp_2: 0.0</br>cp_3: 1.0</br>restecg_1: 0.0</br>restecg_2: 0.0</br>_original_yhat_: 0.9919773936271667</br>\"],[\"</br>id: 14</br>prediction: 0.998</br>chol: 161.04</br></br>age: 58.0</br>sex: 0.0</br>trtbps: 150.0</br>fbs: 1.0</br>thalachh: 162.0</br>oldpeak: 1.0</br>slp: 2.0</br>thall: 2.0</br>exng_1: 0.0</br>caa_1: 0.0</br>caa_2: 0.0</br>caa_3: 0.0</br>caa_4: 0.0</br>cp_1: 0.0</br>cp_2: 0.0</br>cp_3: 1.0</br>restecg_1: 0.0</br>restecg_2: 0.0</br>_original_yhat_: 0.9919773936271667</br>\"],[\"</br>id: 14</br>prediction: 0.998</br>chol: 165.42000000000002</br></br>age: 58.0</br>sex: 0.0</br>trtbps: 150.0</br>fbs: 1.0</br>thalachh: 162.0</br>oldpeak: 1.0</br>slp: 2.0</br>thall: 2.0</br>exng_1: 0.0</br>caa_1: 0.0</br>caa_2: 0.0</br>caa_3: 0.0</br>caa_4: 0.0</br>cp_1: 0.0</br>cp_2: 0.0</br>cp_3: 1.0</br>restecg_1: 0.0</br>restecg_2: 0.0</br>_original_yhat_: 0.9919773936271667</br>\"],[\"</br>id: 14</br>prediction: 0.998</br>chol: 169.8</br></br>age: 58.0</br>sex: 0.0</br>trtbps: 150.0</br>fbs: 1.0</br>thalachh: 162.0</br>oldpeak: 1.0</br>slp: 2.0</br>thall: 2.0</br>exng_1: 0.0</br>caa_1: 0.0</br>caa_2: 0.0</br>caa_3: 0.0</br>caa_4: 0.0</br>cp_1: 0.0</br>cp_2: 0.0</br>cp_3: 1.0</br>restecg_1: 0.0</br>restecg_2: 0.0</br>_original_yhat_: 0.9919773936271667</br>\"],[\"</br>id: 14</br>prediction: 0.998</br>chol: 174.18</br></br>age: 58.0</br>sex: 0.0</br>trtbps: 150.0</br>fbs: 1.0</br>thalachh: 162.0</br>oldpeak: 1.0</br>slp: 2.0</br>thall: 2.0</br>exng_1: 0.0</br>caa_1: 0.0</br>caa_2: 0.0</br>caa_3: 0.0</br>caa_4: 0.0</br>cp_1: 0.0</br>cp_2: 0.0</br>cp_3: 1.0</br>restecg_1: 0.0</br>restecg_2: 0.0</br>_original_yhat_: 0.9919773936271667</br>\"],[\"</br>id: 14</br>prediction: 0.998</br>chol: 178.56</br></br>age: 58.0</br>sex: 0.0</br>trtbps: 150.0</br>fbs: 1.0</br>thalachh: 162.0</br>oldpeak: 1.0</br>slp: 2.0</br>thall: 2.0</br>exng_1: 0.0</br>caa_1: 0.0</br>caa_2: 0.0</br>caa_3: 0.0</br>caa_4: 0.0</br>cp_1: 0.0</br>cp_2: 0.0</br>cp_3: 1.0</br>restecg_1: 0.0</br>restecg_2: 0.0</br>_original_yhat_: 0.9919773936271667</br>\"],[\"</br>id: 14</br>prediction: 0.998</br>chol: 182.94</br></br>age: 58.0</br>sex: 0.0</br>trtbps: 150.0</br>fbs: 1.0</br>thalachh: 162.0</br>oldpeak: 1.0</br>slp: 2.0</br>thall: 2.0</br>exng_1: 0.0</br>caa_1: 0.0</br>caa_2: 0.0</br>caa_3: 0.0</br>caa_4: 0.0</br>cp_1: 0.0</br>cp_2: 0.0</br>cp_3: 1.0</br>restecg_1: 0.0</br>restecg_2: 0.0</br>_original_yhat_: 0.9919773936271667</br>\"],[\"</br>id: 14</br>prediction: 0.998</br>chol: 187.32</br></br>age: 58.0</br>sex: 0.0</br>trtbps: 150.0</br>fbs: 1.0</br>thalachh: 162.0</br>oldpeak: 1.0</br>slp: 2.0</br>thall: 2.0</br>exng_1: 0.0</br>caa_1: 0.0</br>caa_2: 0.0</br>caa_3: 0.0</br>caa_4: 0.0</br>cp_1: 0.0</br>cp_2: 0.0</br>cp_3: 1.0</br>restecg_1: 0.0</br>restecg_2: 0.0</br>_original_yhat_: 0.9919773936271667</br>\"],[\"</br>id: 14</br>prediction: 0.998</br>chol: 191.7</br></br>age: 58.0</br>sex: 0.0</br>trtbps: 150.0</br>fbs: 1.0</br>thalachh: 162.0</br>oldpeak: 1.0</br>slp: 2.0</br>thall: 2.0</br>exng_1: 0.0</br>caa_1: 0.0</br>caa_2: 0.0</br>caa_3: 0.0</br>caa_4: 0.0</br>cp_1: 0.0</br>cp_2: 0.0</br>cp_3: 1.0</br>restecg_1: 0.0</br>restecg_2: 0.0</br>_original_yhat_: 0.9919773936271667</br>\"],[\"</br>id: 14</br>prediction: 0.998</br>chol: 196.07999999999998</br></br>age: 58.0</br>sex: 0.0</br>trtbps: 150.0</br>fbs: 1.0</br>thalachh: 162.0</br>oldpeak: 1.0</br>slp: 2.0</br>thall: 2.0</br>exng_1: 0.0</br>caa_1: 0.0</br>caa_2: 0.0</br>caa_3: 0.0</br>caa_4: 0.0</br>cp_1: 0.0</br>cp_2: 0.0</br>cp_3: 1.0</br>restecg_1: 0.0</br>restecg_2: 0.0</br>_original_yhat_: 0.9919773936271667</br>\"],[\"</br>id: 14</br>prediction: 0.998</br>chol: 200.45999999999998</br></br>age: 58.0</br>sex: 0.0</br>trtbps: 150.0</br>fbs: 1.0</br>thalachh: 162.0</br>oldpeak: 1.0</br>slp: 2.0</br>thall: 2.0</br>exng_1: 0.0</br>caa_1: 0.0</br>caa_2: 0.0</br>caa_3: 0.0</br>caa_4: 0.0</br>cp_1: 0.0</br>cp_2: 0.0</br>cp_3: 1.0</br>restecg_1: 0.0</br>restecg_2: 0.0</br>_original_yhat_: 0.9919773936271667</br>\"],[\"</br>id: 14</br>prediction: 0.998</br>chol: 204.84</br></br>age: 58.0</br>sex: 0.0</br>trtbps: 150.0</br>fbs: 1.0</br>thalachh: 162.0</br>oldpeak: 1.0</br>slp: 2.0</br>thall: 2.0</br>exng_1: 0.0</br>caa_1: 0.0</br>caa_2: 0.0</br>caa_3: 0.0</br>caa_4: 0.0</br>cp_1: 0.0</br>cp_2: 0.0</br>cp_3: 1.0</br>restecg_1: 0.0</br>restecg_2: 0.0</br>_original_yhat_: 0.9919773936271667</br>\"],[\"</br>id: 14</br>prediction: 0.999</br>chol: 209.22</br></br>age: 58.0</br>sex: 0.0</br>trtbps: 150.0</br>fbs: 1.0</br>thalachh: 162.0</br>oldpeak: 1.0</br>slp: 2.0</br>thall: 2.0</br>exng_1: 0.0</br>caa_1: 0.0</br>caa_2: 0.0</br>caa_3: 0.0</br>caa_4: 0.0</br>cp_1: 0.0</br>cp_2: 0.0</br>cp_3: 1.0</br>restecg_1: 0.0</br>restecg_2: 0.0</br>_original_yhat_: 0.9919773936271667</br>\"],[\"</br>id: 14</br>prediction: 0.999</br>chol: 213.6</br></br>age: 58.0</br>sex: 0.0</br>trtbps: 150.0</br>fbs: 1.0</br>thalachh: 162.0</br>oldpeak: 1.0</br>slp: 2.0</br>thall: 2.0</br>exng_1: 0.0</br>caa_1: 0.0</br>caa_2: 0.0</br>caa_3: 0.0</br>caa_4: 0.0</br>cp_1: 0.0</br>cp_2: 0.0</br>cp_3: 1.0</br>restecg_1: 0.0</br>restecg_2: 0.0</br>_original_yhat_: 0.9919773936271667</br>\"],[\"</br>id: 14</br>prediction: 0.999</br>chol: 217.98000000000002</br></br>age: 58.0</br>sex: 0.0</br>trtbps: 150.0</br>fbs: 1.0</br>thalachh: 162.0</br>oldpeak: 1.0</br>slp: 2.0</br>thall: 2.0</br>exng_1: 0.0</br>caa_1: 0.0</br>caa_2: 0.0</br>caa_3: 0.0</br>caa_4: 0.0</br>cp_1: 0.0</br>cp_2: 0.0</br>cp_3: 1.0</br>restecg_1: 0.0</br>restecg_2: 0.0</br>_original_yhat_: 0.9919773936271667</br>\"],[\"</br>id: 14</br>prediction: 0.999</br>chol: 222.36</br></br>age: 58.0</br>sex: 0.0</br>trtbps: 150.0</br>fbs: 1.0</br>thalachh: 162.0</br>oldpeak: 1.0</br>slp: 2.0</br>thall: 2.0</br>exng_1: 0.0</br>caa_1: 0.0</br>caa_2: 0.0</br>caa_3: 0.0</br>caa_4: 0.0</br>cp_1: 0.0</br>cp_2: 0.0</br>cp_3: 1.0</br>restecg_1: 0.0</br>restecg_2: 0.0</br>_original_yhat_: 0.9919773936271667</br>\"],[\"</br>id: 14</br>prediction: 0.999</br>chol: 226.74</br></br>age: 58.0</br>sex: 0.0</br>trtbps: 150.0</br>fbs: 1.0</br>thalachh: 162.0</br>oldpeak: 1.0</br>slp: 2.0</br>thall: 2.0</br>exng_1: 0.0</br>caa_1: 0.0</br>caa_2: 0.0</br>caa_3: 0.0</br>caa_4: 0.0</br>cp_1: 0.0</br>cp_2: 0.0</br>cp_3: 1.0</br>restecg_1: 0.0</br>restecg_2: 0.0</br>_original_yhat_: 0.9919773936271667</br>\"],[\"</br>id: 14</br>prediction: 0.999</br>chol: 231.12</br></br>age: 58.0</br>sex: 0.0</br>trtbps: 150.0</br>fbs: 1.0</br>thalachh: 162.0</br>oldpeak: 1.0</br>slp: 2.0</br>thall: 2.0</br>exng_1: 0.0</br>caa_1: 0.0</br>caa_2: 0.0</br>caa_3: 0.0</br>caa_4: 0.0</br>cp_1: 0.0</br>cp_2: 0.0</br>cp_3: 1.0</br>restecg_1: 0.0</br>restecg_2: 0.0</br>_original_yhat_: 0.9919773936271667</br>\"],[\"</br>id: 14</br>prediction: 0.999</br>chol: 235.5</br></br>age: 58.0</br>sex: 0.0</br>trtbps: 150.0</br>fbs: 1.0</br>thalachh: 162.0</br>oldpeak: 1.0</br>slp: 2.0</br>thall: 2.0</br>exng_1: 0.0</br>caa_1: 0.0</br>caa_2: 0.0</br>caa_3: 0.0</br>caa_4: 0.0</br>cp_1: 0.0</br>cp_2: 0.0</br>cp_3: 1.0</br>restecg_1: 0.0</br>restecg_2: 0.0</br>_original_yhat_: 0.9919773936271667</br>\"],[\"</br>id: 14</br>prediction: 0.999</br>chol: 239.88</br></br>age: 58.0</br>sex: 0.0</br>trtbps: 150.0</br>fbs: 1.0</br>thalachh: 162.0</br>oldpeak: 1.0</br>slp: 2.0</br>thall: 2.0</br>exng_1: 0.0</br>caa_1: 0.0</br>caa_2: 0.0</br>caa_3: 0.0</br>caa_4: 0.0</br>cp_1: 0.0</br>cp_2: 0.0</br>cp_3: 1.0</br>restecg_1: 0.0</br>restecg_2: 0.0</br>_original_yhat_: 0.9919773936271667</br>\"],[\"</br>id: 14</br>prediction: 0.999</br>chol: 244.0</br></br>age: 58.0</br>sex: 0.0</br>trtbps: 150.0</br>fbs: 1.0</br>thalachh: 162.0</br>oldpeak: 1.0</br>slp: 2.0</br>thall: 2.0</br>exng_1: 0.0</br>caa_1: 0.0</br>caa_2: 0.0</br>caa_3: 0.0</br>caa_4: 0.0</br>cp_1: 0.0</br>cp_2: 0.0</br>cp_3: 1.0</br>restecg_1: 0.0</br>restecg_2: 0.0</br>_original_yhat_: 0.9919773936271667</br>\"],[\"</br>id: 14</br>prediction: 0.999</br>chol: 244.26</br></br>age: 58.0</br>sex: 0.0</br>trtbps: 150.0</br>fbs: 1.0</br>thalachh: 162.0</br>oldpeak: 1.0</br>slp: 2.0</br>thall: 2.0</br>exng_1: 0.0</br>caa_1: 0.0</br>caa_2: 0.0</br>caa_3: 0.0</br>caa_4: 0.0</br>cp_1: 0.0</br>cp_2: 0.0</br>cp_3: 1.0</br>restecg_1: 0.0</br>restecg_2: 0.0</br>_original_yhat_: 0.9919773936271667</br>\"],[\"</br>id: 14</br>prediction: 0.999</br>chol: 248.64</br></br>age: 58.0</br>sex: 0.0</br>trtbps: 150.0</br>fbs: 1.0</br>thalachh: 162.0</br>oldpeak: 1.0</br>slp: 2.0</br>thall: 2.0</br>exng_1: 0.0</br>caa_1: 0.0</br>caa_2: 0.0</br>caa_3: 0.0</br>caa_4: 0.0</br>cp_1: 0.0</br>cp_2: 0.0</br>cp_3: 1.0</br>restecg_1: 0.0</br>restecg_2: 0.0</br>_original_yhat_: 0.9919773936271667</br>\"],[\"</br>id: 14</br>prediction: 0.999</br>chol: 253.01999999999998</br></br>age: 58.0</br>sex: 0.0</br>trtbps: 150.0</br>fbs: 1.0</br>thalachh: 162.0</br>oldpeak: 1.0</br>slp: 2.0</br>thall: 2.0</br>exng_1: 0.0</br>caa_1: 0.0</br>caa_2: 0.0</br>caa_3: 0.0</br>caa_4: 0.0</br>cp_1: 0.0</br>cp_2: 0.0</br>cp_3: 1.0</br>restecg_1: 0.0</br>restecg_2: 0.0</br>_original_yhat_: 0.9919773936271667</br>\"],[\"</br>id: 14</br>prediction: 0.998</br>chol: 257.4</br></br>age: 58.0</br>sex: 0.0</br>trtbps: 150.0</br>fbs: 1.0</br>thalachh: 162.0</br>oldpeak: 1.0</br>slp: 2.0</br>thall: 2.0</br>exng_1: 0.0</br>caa_1: 0.0</br>caa_2: 0.0</br>caa_3: 0.0</br>caa_4: 0.0</br>cp_1: 0.0</br>cp_2: 0.0</br>cp_3: 1.0</br>restecg_1: 0.0</br>restecg_2: 0.0</br>_original_yhat_: 0.9919773936271667</br>\"],[\"</br>id: 14</br>prediction: 0.998</br>chol: 261.78</br></br>age: 58.0</br>sex: 0.0</br>trtbps: 150.0</br>fbs: 1.0</br>thalachh: 162.0</br>oldpeak: 1.0</br>slp: 2.0</br>thall: 2.0</br>exng_1: 0.0</br>caa_1: 0.0</br>caa_2: 0.0</br>caa_3: 0.0</br>caa_4: 0.0</br>cp_1: 0.0</br>cp_2: 0.0</br>cp_3: 1.0</br>restecg_1: 0.0</br>restecg_2: 0.0</br>_original_yhat_: 0.9919773936271667</br>\"],[\"</br>id: 14</br>prediction: 0.998</br>chol: 266.15999999999997</br></br>age: 58.0</br>sex: 0.0</br>trtbps: 150.0</br>fbs: 1.0</br>thalachh: 162.0</br>oldpeak: 1.0</br>slp: 2.0</br>thall: 2.0</br>exng_1: 0.0</br>caa_1: 0.0</br>caa_2: 0.0</br>caa_3: 0.0</br>caa_4: 0.0</br>cp_1: 0.0</br>cp_2: 0.0</br>cp_3: 1.0</br>restecg_1: 0.0</br>restecg_2: 0.0</br>_original_yhat_: 0.9919773936271667</br>\"],[\"</br>id: 14</br>prediction: 0.998</br>chol: 270.53999999999996</br></br>age: 58.0</br>sex: 0.0</br>trtbps: 150.0</br>fbs: 1.0</br>thalachh: 162.0</br>oldpeak: 1.0</br>slp: 2.0</br>thall: 2.0</br>exng_1: 0.0</br>caa_1: 0.0</br>caa_2: 0.0</br>caa_3: 0.0</br>caa_4: 0.0</br>cp_1: 0.0</br>cp_2: 0.0</br>cp_3: 1.0</br>restecg_1: 0.0</br>restecg_2: 0.0</br>_original_yhat_: 0.9919773936271667</br>\"],[\"</br>id: 14</br>prediction: 0.992</br>chol: 274.91999999999996</br></br>age: 58.0</br>sex: 0.0</br>trtbps: 150.0</br>fbs: 1.0</br>thalachh: 162.0</br>oldpeak: 1.0</br>slp: 2.0</br>thall: 2.0</br>exng_1: 0.0</br>caa_1: 0.0</br>caa_2: 0.0</br>caa_3: 0.0</br>caa_4: 0.0</br>cp_1: 0.0</br>cp_2: 0.0</br>cp_3: 1.0</br>restecg_1: 0.0</br>restecg_2: 0.0</br>_original_yhat_: 0.9919773936271667</br>\"],[\"</br>id: 14</br>prediction: 0.992</br>chol: 279.29999999999995</br></br>age: 58.0</br>sex: 0.0</br>trtbps: 150.0</br>fbs: 1.0</br>thalachh: 162.0</br>oldpeak: 1.0</br>slp: 2.0</br>thall: 2.0</br>exng_1: 0.0</br>caa_1: 0.0</br>caa_2: 0.0</br>caa_3: 0.0</br>caa_4: 0.0</br>cp_1: 0.0</br>cp_2: 0.0</br>cp_3: 1.0</br>restecg_1: 0.0</br>restecg_2: 0.0</br>_original_yhat_: 0.9919773936271667</br>\"],[\"</br>id: 14</br>prediction: 0.992</br>chol: 283.0</br></br>age: 58.0</br>sex: 0.0</br>trtbps: 150.0</br>fbs: 1.0</br>thalachh: 162.0</br>oldpeak: 1.0</br>slp: 2.0</br>thall: 2.0</br>exng_1: 0.0</br>caa_1: 0.0</br>caa_2: 0.0</br>caa_3: 0.0</br>caa_4: 0.0</br>cp_1: 0.0</br>cp_2: 0.0</br>cp_3: 1.0</br>restecg_1: 0.0</br>restecg_2: 0.0</br>_original_yhat_: 0.9919773936271667</br>\"],[\"</br>id: 14</br>prediction: 0.992</br>chol: 283.68</br></br>age: 58.0</br>sex: 0.0</br>trtbps: 150.0</br>fbs: 1.0</br>thalachh: 162.0</br>oldpeak: 1.0</br>slp: 2.0</br>thall: 2.0</br>exng_1: 0.0</br>caa_1: 0.0</br>caa_2: 0.0</br>caa_3: 0.0</br>caa_4: 0.0</br>cp_1: 0.0</br>cp_2: 0.0</br>cp_3: 1.0</br>restecg_1: 0.0</br>restecg_2: 0.0</br>_original_yhat_: 0.9919773936271667</br>\"],[\"</br>id: 14</br>prediction: 0.992</br>chol: 288.06</br></br>age: 58.0</br>sex: 0.0</br>trtbps: 150.0</br>fbs: 1.0</br>thalachh: 162.0</br>oldpeak: 1.0</br>slp: 2.0</br>thall: 2.0</br>exng_1: 0.0</br>caa_1: 0.0</br>caa_2: 0.0</br>caa_3: 0.0</br>caa_4: 0.0</br>cp_1: 0.0</br>cp_2: 0.0</br>cp_3: 1.0</br>restecg_1: 0.0</br>restecg_2: 0.0</br>_original_yhat_: 0.9919773936271667</br>\"],[\"</br>id: 14</br>prediction: 0.992</br>chol: 292.44</br></br>age: 58.0</br>sex: 0.0</br>trtbps: 150.0</br>fbs: 1.0</br>thalachh: 162.0</br>oldpeak: 1.0</br>slp: 2.0</br>thall: 2.0</br>exng_1: 0.0</br>caa_1: 0.0</br>caa_2: 0.0</br>caa_3: 0.0</br>caa_4: 0.0</br>cp_1: 0.0</br>cp_2: 0.0</br>cp_3: 1.0</br>restecg_1: 0.0</br>restecg_2: 0.0</br>_original_yhat_: 0.9919773936271667</br>\"],[\"</br>id: 14</br>prediction: 0.992</br>chol: 296.82</br></br>age: 58.0</br>sex: 0.0</br>trtbps: 150.0</br>fbs: 1.0</br>thalachh: 162.0</br>oldpeak: 1.0</br>slp: 2.0</br>thall: 2.0</br>exng_1: 0.0</br>caa_1: 0.0</br>caa_2: 0.0</br>caa_3: 0.0</br>caa_4: 0.0</br>cp_1: 0.0</br>cp_2: 0.0</br>cp_3: 1.0</br>restecg_1: 0.0</br>restecg_2: 0.0</br>_original_yhat_: 0.9919773936271667</br>\"],[\"</br>id: 14</br>prediction: 0.99</br>chol: 301.2</br></br>age: 58.0</br>sex: 0.0</br>trtbps: 150.0</br>fbs: 1.0</br>thalachh: 162.0</br>oldpeak: 1.0</br>slp: 2.0</br>thall: 2.0</br>exng_1: 0.0</br>caa_1: 0.0</br>caa_2: 0.0</br>caa_3: 0.0</br>caa_4: 0.0</br>cp_1: 0.0</br>cp_2: 0.0</br>cp_3: 1.0</br>restecg_1: 0.0</br>restecg_2: 0.0</br>_original_yhat_: 0.9919773936271667</br>\"],[\"</br>id: 14</br>prediction: 0.99</br>chol: 305.58</br></br>age: 58.0</br>sex: 0.0</br>trtbps: 150.0</br>fbs: 1.0</br>thalachh: 162.0</br>oldpeak: 1.0</br>slp: 2.0</br>thall: 2.0</br>exng_1: 0.0</br>caa_1: 0.0</br>caa_2: 0.0</br>caa_3: 0.0</br>caa_4: 0.0</br>cp_1: 0.0</br>cp_2: 0.0</br>cp_3: 1.0</br>restecg_1: 0.0</br>restecg_2: 0.0</br>_original_yhat_: 0.9919773936271667</br>\"],[\"</br>id: 14</br>prediction: 0.99</br>chol: 309.96000000000004</br></br>age: 58.0</br>sex: 0.0</br>trtbps: 150.0</br>fbs: 1.0</br>thalachh: 162.0</br>oldpeak: 1.0</br>slp: 2.0</br>thall: 2.0</br>exng_1: 0.0</br>caa_1: 0.0</br>caa_2: 0.0</br>caa_3: 0.0</br>caa_4: 0.0</br>cp_1: 0.0</br>cp_2: 0.0</br>cp_3: 1.0</br>restecg_1: 0.0</br>restecg_2: 0.0</br>_original_yhat_: 0.9919773936271667</br>\"],[\"</br>id: 14</br>prediction: 0.99</br>chol: 314.34000000000003</br></br>age: 58.0</br>sex: 0.0</br>trtbps: 150.0</br>fbs: 1.0</br>thalachh: 162.0</br>oldpeak: 1.0</br>slp: 2.0</br>thall: 2.0</br>exng_1: 0.0</br>caa_1: 0.0</br>caa_2: 0.0</br>caa_3: 0.0</br>caa_4: 0.0</br>cp_1: 0.0</br>cp_2: 0.0</br>cp_3: 1.0</br>restecg_1: 0.0</br>restecg_2: 0.0</br>_original_yhat_: 0.9919773936271667</br>\"],[\"</br>id: 14</br>prediction: 0.977</br>chol: 318.72</br></br>age: 58.0</br>sex: 0.0</br>trtbps: 150.0</br>fbs: 1.0</br>thalachh: 162.0</br>oldpeak: 1.0</br>slp: 2.0</br>thall: 2.0</br>exng_1: 0.0</br>caa_1: 0.0</br>caa_2: 0.0</br>caa_3: 0.0</br>caa_4: 0.0</br>cp_1: 0.0</br>cp_2: 0.0</br>cp_3: 1.0</br>restecg_1: 0.0</br>restecg_2: 0.0</br>_original_yhat_: 0.9919773936271667</br>\"],[\"</br>id: 14</br>prediction: 0.977</br>chol: 323.1</br></br>age: 58.0</br>sex: 0.0</br>trtbps: 150.0</br>fbs: 1.0</br>thalachh: 162.0</br>oldpeak: 1.0</br>slp: 2.0</br>thall: 2.0</br>exng_1: 0.0</br>caa_1: 0.0</br>caa_2: 0.0</br>caa_3: 0.0</br>caa_4: 0.0</br>cp_1: 0.0</br>cp_2: 0.0</br>cp_3: 1.0</br>restecg_1: 0.0</br>restecg_2: 0.0</br>_original_yhat_: 0.9919773936271667</br>\"],[\"</br>id: 14</br>prediction: 0.977</br>chol: 327.48</br></br>age: 58.0</br>sex: 0.0</br>trtbps: 150.0</br>fbs: 1.0</br>thalachh: 162.0</br>oldpeak: 1.0</br>slp: 2.0</br>thall: 2.0</br>exng_1: 0.0</br>caa_1: 0.0</br>caa_2: 0.0</br>caa_3: 0.0</br>caa_4: 0.0</br>cp_1: 0.0</br>cp_2: 0.0</br>cp_3: 1.0</br>restecg_1: 0.0</br>restecg_2: 0.0</br>_original_yhat_: 0.9919773936271667</br>\"],[\"</br>id: 14</br>prediction: 0.968</br>chol: 331.86</br></br>age: 58.0</br>sex: 0.0</br>trtbps: 150.0</br>fbs: 1.0</br>thalachh: 162.0</br>oldpeak: 1.0</br>slp: 2.0</br>thall: 2.0</br>exng_1: 0.0</br>caa_1: 0.0</br>caa_2: 0.0</br>caa_3: 0.0</br>caa_4: 0.0</br>cp_1: 0.0</br>cp_2: 0.0</br>cp_3: 1.0</br>restecg_1: 0.0</br>restecg_2: 0.0</br>_original_yhat_: 0.9919773936271667</br>\"],[\"</br>id: 14</br>prediction: 0.968</br>chol: 336.24</br></br>age: 58.0</br>sex: 0.0</br>trtbps: 150.0</br>fbs: 1.0</br>thalachh: 162.0</br>oldpeak: 1.0</br>slp: 2.0</br>thall: 2.0</br>exng_1: 0.0</br>caa_1: 0.0</br>caa_2: 0.0</br>caa_3: 0.0</br>caa_4: 0.0</br>cp_1: 0.0</br>cp_2: 0.0</br>cp_3: 1.0</br>restecg_1: 0.0</br>restecg_2: 0.0</br>_original_yhat_: 0.9919773936271667</br>\"],[\"</br>id: 14</br>prediction: 0.968</br>chol: 340.62</br></br>age: 58.0</br>sex: 0.0</br>trtbps: 150.0</br>fbs: 1.0</br>thalachh: 162.0</br>oldpeak: 1.0</br>slp: 2.0</br>thall: 2.0</br>exng_1: 0.0</br>caa_1: 0.0</br>caa_2: 0.0</br>caa_3: 0.0</br>caa_4: 0.0</br>cp_1: 0.0</br>cp_2: 0.0</br>cp_3: 1.0</br>restecg_1: 0.0</br>restecg_2: 0.0</br>_original_yhat_: 0.9919773936271667</br>\"],[\"</br>id: 14</br>prediction: 0.968</br>chol: 345.0</br></br>age: 58.0</br>sex: 0.0</br>trtbps: 150.0</br>fbs: 1.0</br>thalachh: 162.0</br>oldpeak: 1.0</br>slp: 2.0</br>thall: 2.0</br>exng_1: 0.0</br>caa_1: 0.0</br>caa_2: 0.0</br>caa_3: 0.0</br>caa_4: 0.0</br>cp_1: 0.0</br>cp_2: 0.0</br>cp_3: 1.0</br>restecg_1: 0.0</br>restecg_2: 0.0</br>_original_yhat_: 0.9919773936271667</br>\"],[\"</br>id: 14</br>prediction: 0.968</br>chol: 349.38</br></br>age: 58.0</br>sex: 0.0</br>trtbps: 150.0</br>fbs: 1.0</br>thalachh: 162.0</br>oldpeak: 1.0</br>slp: 2.0</br>thall: 2.0</br>exng_1: 0.0</br>caa_1: 0.0</br>caa_2: 0.0</br>caa_3: 0.0</br>caa_4: 0.0</br>cp_1: 0.0</br>cp_2: 0.0</br>cp_3: 1.0</br>restecg_1: 0.0</br>restecg_2: 0.0</br>_original_yhat_: 0.9919773936271667</br>\"],[\"</br>id: 14</br>prediction: 0.968</br>chol: 353.76</br></br>age: 58.0</br>sex: 0.0</br>trtbps: 150.0</br>fbs: 1.0</br>thalachh: 162.0</br>oldpeak: 1.0</br>slp: 2.0</br>thall: 2.0</br>exng_1: 0.0</br>caa_1: 0.0</br>caa_2: 0.0</br>caa_3: 0.0</br>caa_4: 0.0</br>cp_1: 0.0</br>cp_2: 0.0</br>cp_3: 1.0</br>restecg_1: 0.0</br>restecg_2: 0.0</br>_original_yhat_: 0.9919773936271667</br>\"],[\"</br>id: 14</br>prediction: 0.968</br>chol: 358.14</br></br>age: 58.0</br>sex: 0.0</br>trtbps: 150.0</br>fbs: 1.0</br>thalachh: 162.0</br>oldpeak: 1.0</br>slp: 2.0</br>thall: 2.0</br>exng_1: 0.0</br>caa_1: 0.0</br>caa_2: 0.0</br>caa_3: 0.0</br>caa_4: 0.0</br>cp_1: 0.0</br>cp_2: 0.0</br>cp_3: 1.0</br>restecg_1: 0.0</br>restecg_2: 0.0</br>_original_yhat_: 0.9919773936271667</br>\"],[\"</br>id: 14</br>prediction: 0.968</br>chol: 362.52</br></br>age: 58.0</br>sex: 0.0</br>trtbps: 150.0</br>fbs: 1.0</br>thalachh: 162.0</br>oldpeak: 1.0</br>slp: 2.0</br>thall: 2.0</br>exng_1: 0.0</br>caa_1: 0.0</br>caa_2: 0.0</br>caa_3: 0.0</br>caa_4: 0.0</br>cp_1: 0.0</br>cp_2: 0.0</br>cp_3: 1.0</br>restecg_1: 0.0</br>restecg_2: 0.0</br>_original_yhat_: 0.9919773936271667</br>\"],[\"</br>id: 14</br>prediction: 0.968</br>chol: 366.9</br></br>age: 58.0</br>sex: 0.0</br>trtbps: 150.0</br>fbs: 1.0</br>thalachh: 162.0</br>oldpeak: 1.0</br>slp: 2.0</br>thall: 2.0</br>exng_1: 0.0</br>caa_1: 0.0</br>caa_2: 0.0</br>caa_3: 0.0</br>caa_4: 0.0</br>cp_1: 0.0</br>cp_2: 0.0</br>cp_3: 1.0</br>restecg_1: 0.0</br>restecg_2: 0.0</br>_original_yhat_: 0.9919773936271667</br>\"],[\"</br>id: 14</br>prediction: 0.968</br>chol: 371.28</br></br>age: 58.0</br>sex: 0.0</br>trtbps: 150.0</br>fbs: 1.0</br>thalachh: 162.0</br>oldpeak: 1.0</br>slp: 2.0</br>thall: 2.0</br>exng_1: 0.0</br>caa_1: 0.0</br>caa_2: 0.0</br>caa_3: 0.0</br>caa_4: 0.0</br>cp_1: 0.0</br>cp_2: 0.0</br>cp_3: 1.0</br>restecg_1: 0.0</br>restecg_2: 0.0</br>_original_yhat_: 0.9919773936271667</br>\"],[\"</br>id: 14</br>prediction: 0.968</br>chol: 375.65999999999997</br></br>age: 58.0</br>sex: 0.0</br>trtbps: 150.0</br>fbs: 1.0</br>thalachh: 162.0</br>oldpeak: 1.0</br>slp: 2.0</br>thall: 2.0</br>exng_1: 0.0</br>caa_1: 0.0</br>caa_2: 0.0</br>caa_3: 0.0</br>caa_4: 0.0</br>cp_1: 0.0</br>cp_2: 0.0</br>cp_3: 1.0</br>restecg_1: 0.0</br>restecg_2: 0.0</br>_original_yhat_: 0.9919773936271667</br>\"],[\"</br>id: 14</br>prediction: 0.968</br>chol: 380.03999999999996</br></br>age: 58.0</br>sex: 0.0</br>trtbps: 150.0</br>fbs: 1.0</br>thalachh: 162.0</br>oldpeak: 1.0</br>slp: 2.0</br>thall: 2.0</br>exng_1: 0.0</br>caa_1: 0.0</br>caa_2: 0.0</br>caa_3: 0.0</br>caa_4: 0.0</br>cp_1: 0.0</br>cp_2: 0.0</br>cp_3: 1.0</br>restecg_1: 0.0</br>restecg_2: 0.0</br>_original_yhat_: 0.9919773936271667</br>\"],[\"</br>id: 14</br>prediction: 0.968</br>chol: 384.42</br></br>age: 58.0</br>sex: 0.0</br>trtbps: 150.0</br>fbs: 1.0</br>thalachh: 162.0</br>oldpeak: 1.0</br>slp: 2.0</br>thall: 2.0</br>exng_1: 0.0</br>caa_1: 0.0</br>caa_2: 0.0</br>caa_3: 0.0</br>caa_4: 0.0</br>cp_1: 0.0</br>cp_2: 0.0</br>cp_3: 1.0</br>restecg_1: 0.0</br>restecg_2: 0.0</br>_original_yhat_: 0.9919773936271667</br>\"],[\"</br>id: 14</br>prediction: 0.968</br>chol: 388.8</br></br>age: 58.0</br>sex: 0.0</br>trtbps: 150.0</br>fbs: 1.0</br>thalachh: 162.0</br>oldpeak: 1.0</br>slp: 2.0</br>thall: 2.0</br>exng_1: 0.0</br>caa_1: 0.0</br>caa_2: 0.0</br>caa_3: 0.0</br>caa_4: 0.0</br>cp_1: 0.0</br>cp_2: 0.0</br>cp_3: 1.0</br>restecg_1: 0.0</br>restecg_2: 0.0</br>_original_yhat_: 0.9919773936271667</br>\"],[\"</br>id: 14</br>prediction: 0.968</br>chol: 393.18</br></br>age: 58.0</br>sex: 0.0</br>trtbps: 150.0</br>fbs: 1.0</br>thalachh: 162.0</br>oldpeak: 1.0</br>slp: 2.0</br>thall: 2.0</br>exng_1: 0.0</br>caa_1: 0.0</br>caa_2: 0.0</br>caa_3: 0.0</br>caa_4: 0.0</br>cp_1: 0.0</br>cp_2: 0.0</br>cp_3: 1.0</br>restecg_1: 0.0</br>restecg_2: 0.0</br>_original_yhat_: 0.9919773936271667</br>\"],[\"</br>id: 14</br>prediction: 0.968</br>chol: 397.56</br></br>age: 58.0</br>sex: 0.0</br>trtbps: 150.0</br>fbs: 1.0</br>thalachh: 162.0</br>oldpeak: 1.0</br>slp: 2.0</br>thall: 2.0</br>exng_1: 0.0</br>caa_1: 0.0</br>caa_2: 0.0</br>caa_3: 0.0</br>caa_4: 0.0</br>cp_1: 0.0</br>cp_2: 0.0</br>cp_3: 1.0</br>restecg_1: 0.0</br>restecg_2: 0.0</br>_original_yhat_: 0.9919773936271667</br>\"],[\"</br>id: 14</br>prediction: 0.968</br>chol: 401.94</br></br>age: 58.0</br>sex: 0.0</br>trtbps: 150.0</br>fbs: 1.0</br>thalachh: 162.0</br>oldpeak: 1.0</br>slp: 2.0</br>thall: 2.0</br>exng_1: 0.0</br>caa_1: 0.0</br>caa_2: 0.0</br>caa_3: 0.0</br>caa_4: 0.0</br>cp_1: 0.0</br>cp_2: 0.0</br>cp_3: 1.0</br>restecg_1: 0.0</br>restecg_2: 0.0</br>_original_yhat_: 0.9919773936271667</br>\"],[\"</br>id: 14</br>prediction: 0.968</br>chol: 406.32</br></br>age: 58.0</br>sex: 0.0</br>trtbps: 150.0</br>fbs: 1.0</br>thalachh: 162.0</br>oldpeak: 1.0</br>slp: 2.0</br>thall: 2.0</br>exng_1: 0.0</br>caa_1: 0.0</br>caa_2: 0.0</br>caa_3: 0.0</br>caa_4: 0.0</br>cp_1: 0.0</br>cp_2: 0.0</br>cp_3: 1.0</br>restecg_1: 0.0</br>restecg_2: 0.0</br>_original_yhat_: 0.9919773936271667</br>\"],[\"</br>id: 14</br>prediction: 0.968</br>chol: 410.7</br></br>age: 58.0</br>sex: 0.0</br>trtbps: 150.0</br>fbs: 1.0</br>thalachh: 162.0</br>oldpeak: 1.0</br>slp: 2.0</br>thall: 2.0</br>exng_1: 0.0</br>caa_1: 0.0</br>caa_2: 0.0</br>caa_3: 0.0</br>caa_4: 0.0</br>cp_1: 0.0</br>cp_2: 0.0</br>cp_3: 1.0</br>restecg_1: 0.0</br>restecg_2: 0.0</br>_original_yhat_: 0.9919773936271667</br>\"],[\"</br>id: 14</br>prediction: 0.968</br>chol: 415.08</br></br>age: 58.0</br>sex: 0.0</br>trtbps: 150.0</br>fbs: 1.0</br>thalachh: 162.0</br>oldpeak: 1.0</br>slp: 2.0</br>thall: 2.0</br>exng_1: 0.0</br>caa_1: 0.0</br>caa_2: 0.0</br>caa_3: 0.0</br>caa_4: 0.0</br>cp_1: 0.0</br>cp_2: 0.0</br>cp_3: 1.0</br>restecg_1: 0.0</br>restecg_2: 0.0</br>_original_yhat_: 0.9919773936271667</br>\"],[\"</br>id: 14</br>prediction: 0.968</br>chol: 419.46</br></br>age: 58.0</br>sex: 0.0</br>trtbps: 150.0</br>fbs: 1.0</br>thalachh: 162.0</br>oldpeak: 1.0</br>slp: 2.0</br>thall: 2.0</br>exng_1: 0.0</br>caa_1: 0.0</br>caa_2: 0.0</br>caa_3: 0.0</br>caa_4: 0.0</br>cp_1: 0.0</br>cp_2: 0.0</br>cp_3: 1.0</br>restecg_1: 0.0</br>restecg_2: 0.0</br>_original_yhat_: 0.9919773936271667</br>\"],[\"</br>id: 14</br>prediction: 0.968</br>chol: 423.84</br></br>age: 58.0</br>sex: 0.0</br>trtbps: 150.0</br>fbs: 1.0</br>thalachh: 162.0</br>oldpeak: 1.0</br>slp: 2.0</br>thall: 2.0</br>exng_1: 0.0</br>caa_1: 0.0</br>caa_2: 0.0</br>caa_3: 0.0</br>caa_4: 0.0</br>cp_1: 0.0</br>cp_2: 0.0</br>cp_3: 1.0</br>restecg_1: 0.0</br>restecg_2: 0.0</br>_original_yhat_: 0.9919773936271667</br>\"],[\"</br>id: 14</br>prediction: 0.968</br>chol: 428.21999999999997</br></br>age: 58.0</br>sex: 0.0</br>trtbps: 150.0</br>fbs: 1.0</br>thalachh: 162.0</br>oldpeak: 1.0</br>slp: 2.0</br>thall: 2.0</br>exng_1: 0.0</br>caa_1: 0.0</br>caa_2: 0.0</br>caa_3: 0.0</br>caa_4: 0.0</br>cp_1: 0.0</br>cp_2: 0.0</br>cp_3: 1.0</br>restecg_1: 0.0</br>restecg_2: 0.0</br>_original_yhat_: 0.9919773936271667</br>\"],[\"</br>id: 14</br>prediction: 0.968</br>chol: 432.59999999999997</br></br>age: 58.0</br>sex: 0.0</br>trtbps: 150.0</br>fbs: 1.0</br>thalachh: 162.0</br>oldpeak: 1.0</br>slp: 2.0</br>thall: 2.0</br>exng_1: 0.0</br>caa_1: 0.0</br>caa_2: 0.0</br>caa_3: 0.0</br>caa_4: 0.0</br>cp_1: 0.0</br>cp_2: 0.0</br>cp_3: 1.0</br>restecg_1: 0.0</br>restecg_2: 0.0</br>_original_yhat_: 0.9919773936271667</br>\"],[\"</br>id: 14</br>prediction: 0.968</br>chol: 436.98</br></br>age: 58.0</br>sex: 0.0</br>trtbps: 150.0</br>fbs: 1.0</br>thalachh: 162.0</br>oldpeak: 1.0</br>slp: 2.0</br>thall: 2.0</br>exng_1: 0.0</br>caa_1: 0.0</br>caa_2: 0.0</br>caa_3: 0.0</br>caa_4: 0.0</br>cp_1: 0.0</br>cp_2: 0.0</br>cp_3: 1.0</br>restecg_1: 0.0</br>restecg_2: 0.0</br>_original_yhat_: 0.9919773936271667</br>\"],[\"</br>id: 14</br>prediction: 0.968</br>chol: 441.36</br></br>age: 58.0</br>sex: 0.0</br>trtbps: 150.0</br>fbs: 1.0</br>thalachh: 162.0</br>oldpeak: 1.0</br>slp: 2.0</br>thall: 2.0</br>exng_1: 0.0</br>caa_1: 0.0</br>caa_2: 0.0</br>caa_3: 0.0</br>caa_4: 0.0</br>cp_1: 0.0</br>cp_2: 0.0</br>cp_3: 1.0</br>restecg_1: 0.0</br>restecg_2: 0.0</br>_original_yhat_: 0.9919773936271667</br>\"],[\"</br>id: 14</br>prediction: 0.968</br>chol: 445.74</br></br>age: 58.0</br>sex: 0.0</br>trtbps: 150.0</br>fbs: 1.0</br>thalachh: 162.0</br>oldpeak: 1.0</br>slp: 2.0</br>thall: 2.0</br>exng_1: 0.0</br>caa_1: 0.0</br>caa_2: 0.0</br>caa_3: 0.0</br>caa_4: 0.0</br>cp_1: 0.0</br>cp_2: 0.0</br>cp_3: 1.0</br>restecg_1: 0.0</br>restecg_2: 0.0</br>_original_yhat_: 0.9919773936271667</br>\"],[\"</br>id: 14</br>prediction: 0.968</br>chol: 450.12</br></br>age: 58.0</br>sex: 0.0</br>trtbps: 150.0</br>fbs: 1.0</br>thalachh: 162.0</br>oldpeak: 1.0</br>slp: 2.0</br>thall: 2.0</br>exng_1: 0.0</br>caa_1: 0.0</br>caa_2: 0.0</br>caa_3: 0.0</br>caa_4: 0.0</br>cp_1: 0.0</br>cp_2: 0.0</br>cp_3: 1.0</br>restecg_1: 0.0</br>restecg_2: 0.0</br>_original_yhat_: 0.9919773936271667</br>\"],[\"</br>id: 14</br>prediction: 0.968</br>chol: 454.5</br></br>age: 58.0</br>sex: 0.0</br>trtbps: 150.0</br>fbs: 1.0</br>thalachh: 162.0</br>oldpeak: 1.0</br>slp: 2.0</br>thall: 2.0</br>exng_1: 0.0</br>caa_1: 0.0</br>caa_2: 0.0</br>caa_3: 0.0</br>caa_4: 0.0</br>cp_1: 0.0</br>cp_2: 0.0</br>cp_3: 1.0</br>restecg_1: 0.0</br>restecg_2: 0.0</br>_original_yhat_: 0.9919773936271667</br>\"],[\"</br>id: 14</br>prediction: 0.968</br>chol: 458.88</br></br>age: 58.0</br>sex: 0.0</br>trtbps: 150.0</br>fbs: 1.0</br>thalachh: 162.0</br>oldpeak: 1.0</br>slp: 2.0</br>thall: 2.0</br>exng_1: 0.0</br>caa_1: 0.0</br>caa_2: 0.0</br>caa_3: 0.0</br>caa_4: 0.0</br>cp_1: 0.0</br>cp_2: 0.0</br>cp_3: 1.0</br>restecg_1: 0.0</br>restecg_2: 0.0</br>_original_yhat_: 0.9919773936271667</br>\"],[\"</br>id: 14</br>prediction: 0.968</br>chol: 463.26</br></br>age: 58.0</br>sex: 0.0</br>trtbps: 150.0</br>fbs: 1.0</br>thalachh: 162.0</br>oldpeak: 1.0</br>slp: 2.0</br>thall: 2.0</br>exng_1: 0.0</br>caa_1: 0.0</br>caa_2: 0.0</br>caa_3: 0.0</br>caa_4: 0.0</br>cp_1: 0.0</br>cp_2: 0.0</br>cp_3: 1.0</br>restecg_1: 0.0</br>restecg_2: 0.0</br>_original_yhat_: 0.9919773936271667</br>\"],[\"</br>id: 14</br>prediction: 0.968</br>chol: 467.64</br></br>age: 58.0</br>sex: 0.0</br>trtbps: 150.0</br>fbs: 1.0</br>thalachh: 162.0</br>oldpeak: 1.0</br>slp: 2.0</br>thall: 2.0</br>exng_1: 0.0</br>caa_1: 0.0</br>caa_2: 0.0</br>caa_3: 0.0</br>caa_4: 0.0</br>cp_1: 0.0</br>cp_2: 0.0</br>cp_3: 1.0</br>restecg_1: 0.0</br>restecg_2: 0.0</br>_original_yhat_: 0.9919773936271667</br>\"],[\"</br>id: 14</br>prediction: 0.968</br>chol: 472.02</br></br>age: 58.0</br>sex: 0.0</br>trtbps: 150.0</br>fbs: 1.0</br>thalachh: 162.0</br>oldpeak: 1.0</br>slp: 2.0</br>thall: 2.0</br>exng_1: 0.0</br>caa_1: 0.0</br>caa_2: 0.0</br>caa_3: 0.0</br>caa_4: 0.0</br>cp_1: 0.0</br>cp_2: 0.0</br>cp_3: 1.0</br>restecg_1: 0.0</br>restecg_2: 0.0</br>_original_yhat_: 0.9919773936271667</br>\"],[\"</br>id: 14</br>prediction: 0.968</br>chol: 476.4</br></br>age: 58.0</br>sex: 0.0</br>trtbps: 150.0</br>fbs: 1.0</br>thalachh: 162.0</br>oldpeak: 1.0</br>slp: 2.0</br>thall: 2.0</br>exng_1: 0.0</br>caa_1: 0.0</br>caa_2: 0.0</br>caa_3: 0.0</br>caa_4: 0.0</br>cp_1: 0.0</br>cp_2: 0.0</br>cp_3: 1.0</br>restecg_1: 0.0</br>restecg_2: 0.0</br>_original_yhat_: 0.9919773936271667</br>\"],[\"</br>id: 14</br>prediction: 0.968</br>chol: 480.78</br></br>age: 58.0</br>sex: 0.0</br>trtbps: 150.0</br>fbs: 1.0</br>thalachh: 162.0</br>oldpeak: 1.0</br>slp: 2.0</br>thall: 2.0</br>exng_1: 0.0</br>caa_1: 0.0</br>caa_2: 0.0</br>caa_3: 0.0</br>caa_4: 0.0</br>cp_1: 0.0</br>cp_2: 0.0</br>cp_3: 1.0</br>restecg_1: 0.0</br>restecg_2: 0.0</br>_original_yhat_: 0.9919773936271667</br>\"],[\"</br>id: 14</br>prediction: 0.968</br>chol: 485.15999999999997</br></br>age: 58.0</br>sex: 0.0</br>trtbps: 150.0</br>fbs: 1.0</br>thalachh: 162.0</br>oldpeak: 1.0</br>slp: 2.0</br>thall: 2.0</br>exng_1: 0.0</br>caa_1: 0.0</br>caa_2: 0.0</br>caa_3: 0.0</br>caa_4: 0.0</br>cp_1: 0.0</br>cp_2: 0.0</br>cp_3: 1.0</br>restecg_1: 0.0</br>restecg_2: 0.0</br>_original_yhat_: 0.9919773936271667</br>\"],[\"</br>id: 14</br>prediction: 0.968</br>chol: 489.53999999999996</br></br>age: 58.0</br>sex: 0.0</br>trtbps: 150.0</br>fbs: 1.0</br>thalachh: 162.0</br>oldpeak: 1.0</br>slp: 2.0</br>thall: 2.0</br>exng_1: 0.0</br>caa_1: 0.0</br>caa_2: 0.0</br>caa_3: 0.0</br>caa_4: 0.0</br>cp_1: 0.0</br>cp_2: 0.0</br>cp_3: 1.0</br>restecg_1: 0.0</br>restecg_2: 0.0</br>_original_yhat_: 0.9919773936271667</br>\"],[\"</br>id: 14</br>prediction: 0.968</br>chol: 493.92</br></br>age: 58.0</br>sex: 0.0</br>trtbps: 150.0</br>fbs: 1.0</br>thalachh: 162.0</br>oldpeak: 1.0</br>slp: 2.0</br>thall: 2.0</br>exng_1: 0.0</br>caa_1: 0.0</br>caa_2: 0.0</br>caa_3: 0.0</br>caa_4: 0.0</br>cp_1: 0.0</br>cp_2: 0.0</br>cp_3: 1.0</br>restecg_1: 0.0</br>restecg_2: 0.0</br>_original_yhat_: 0.9919773936271667</br>\"],[\"</br>id: 14</br>prediction: 0.968</br>chol: 498.3</br></br>age: 58.0</br>sex: 0.0</br>trtbps: 150.0</br>fbs: 1.0</br>thalachh: 162.0</br>oldpeak: 1.0</br>slp: 2.0</br>thall: 2.0</br>exng_1: 0.0</br>caa_1: 0.0</br>caa_2: 0.0</br>caa_3: 0.0</br>caa_4: 0.0</br>cp_1: 0.0</br>cp_2: 0.0</br>cp_3: 1.0</br>restecg_1: 0.0</br>restecg_2: 0.0</br>_original_yhat_: 0.9919773936271667</br>\"],[\"</br>id: 14</br>prediction: 0.968</br>chol: 502.68</br></br>age: 58.0</br>sex: 0.0</br>trtbps: 150.0</br>fbs: 1.0</br>thalachh: 162.0</br>oldpeak: 1.0</br>slp: 2.0</br>thall: 2.0</br>exng_1: 0.0</br>caa_1: 0.0</br>caa_2: 0.0</br>caa_3: 0.0</br>caa_4: 0.0</br>cp_1: 0.0</br>cp_2: 0.0</br>cp_3: 1.0</br>restecg_1: 0.0</br>restecg_2: 0.0</br>_original_yhat_: 0.9919773936271667</br>\"],[\"</br>id: 14</br>prediction: 0.968</br>chol: 507.06</br></br>age: 58.0</br>sex: 0.0</br>trtbps: 150.0</br>fbs: 1.0</br>thalachh: 162.0</br>oldpeak: 1.0</br>slp: 2.0</br>thall: 2.0</br>exng_1: 0.0</br>caa_1: 0.0</br>caa_2: 0.0</br>caa_3: 0.0</br>caa_4: 0.0</br>cp_1: 0.0</br>cp_2: 0.0</br>cp_3: 1.0</br>restecg_1: 0.0</br>restecg_2: 0.0</br>_original_yhat_: 0.9919773936271667</br>\"],[\"</br>id: 14</br>prediction: 0.968</br>chol: 511.44</br></br>age: 58.0</br>sex: 0.0</br>trtbps: 150.0</br>fbs: 1.0</br>thalachh: 162.0</br>oldpeak: 1.0</br>slp: 2.0</br>thall: 2.0</br>exng_1: 0.0</br>caa_1: 0.0</br>caa_2: 0.0</br>caa_3: 0.0</br>caa_4: 0.0</br>cp_1: 0.0</br>cp_2: 0.0</br>cp_3: 1.0</br>restecg_1: 0.0</br>restecg_2: 0.0</br>_original_yhat_: 0.9919773936271667</br>\"],[\"</br>id: 14</br>prediction: 0.968</br>chol: 515.8199999999999</br></br>age: 58.0</br>sex: 0.0</br>trtbps: 150.0</br>fbs: 1.0</br>thalachh: 162.0</br>oldpeak: 1.0</br>slp: 2.0</br>thall: 2.0</br>exng_1: 0.0</br>caa_1: 0.0</br>caa_2: 0.0</br>caa_3: 0.0</br>caa_4: 0.0</br>cp_1: 0.0</br>cp_2: 0.0</br>cp_3: 1.0</br>restecg_1: 0.0</br>restecg_2: 0.0</br>_original_yhat_: 0.9919773936271667</br>\"],[\"</br>id: 14</br>prediction: 0.968</br>chol: 520.2</br></br>age: 58.0</br>sex: 0.0</br>trtbps: 150.0</br>fbs: 1.0</br>thalachh: 162.0</br>oldpeak: 1.0</br>slp: 2.0</br>thall: 2.0</br>exng_1: 0.0</br>caa_1: 0.0</br>caa_2: 0.0</br>caa_3: 0.0</br>caa_4: 0.0</br>cp_1: 0.0</br>cp_2: 0.0</br>cp_3: 1.0</br>restecg_1: 0.0</br>restecg_2: 0.0</br>_original_yhat_: 0.9919773936271667</br>\"],[\"</br>id: 14</br>prediction: 0.968</br>chol: 524.5799999999999</br></br>age: 58.0</br>sex: 0.0</br>trtbps: 150.0</br>fbs: 1.0</br>thalachh: 162.0</br>oldpeak: 1.0</br>slp: 2.0</br>thall: 2.0</br>exng_1: 0.0</br>caa_1: 0.0</br>caa_2: 0.0</br>caa_3: 0.0</br>caa_4: 0.0</br>cp_1: 0.0</br>cp_2: 0.0</br>cp_3: 1.0</br>restecg_1: 0.0</br>restecg_2: 0.0</br>_original_yhat_: 0.9919773936271667</br>\"],[\"</br>id: 14</br>prediction: 0.968</br>chol: 528.96</br></br>age: 58.0</br>sex: 0.0</br>trtbps: 150.0</br>fbs: 1.0</br>thalachh: 162.0</br>oldpeak: 1.0</br>slp: 2.0</br>thall: 2.0</br>exng_1: 0.0</br>caa_1: 0.0</br>caa_2: 0.0</br>caa_3: 0.0</br>caa_4: 0.0</br>cp_1: 0.0</br>cp_2: 0.0</br>cp_3: 1.0</br>restecg_1: 0.0</br>restecg_2: 0.0</br>_original_yhat_: 0.9919773936271667</br>\"],[\"</br>id: 14</br>prediction: 0.968</br>chol: 533.3399999999999</br></br>age: 58.0</br>sex: 0.0</br>trtbps: 150.0</br>fbs: 1.0</br>thalachh: 162.0</br>oldpeak: 1.0</br>slp: 2.0</br>thall: 2.0</br>exng_1: 0.0</br>caa_1: 0.0</br>caa_2: 0.0</br>caa_3: 0.0</br>caa_4: 0.0</br>cp_1: 0.0</br>cp_2: 0.0</br>cp_3: 1.0</br>restecg_1: 0.0</br>restecg_2: 0.0</br>_original_yhat_: 0.9919773936271667</br>\"],[\"</br>id: 14</br>prediction: 0.968</br>chol: 537.72</br></br>age: 58.0</br>sex: 0.0</br>trtbps: 150.0</br>fbs: 1.0</br>thalachh: 162.0</br>oldpeak: 1.0</br>slp: 2.0</br>thall: 2.0</br>exng_1: 0.0</br>caa_1: 0.0</br>caa_2: 0.0</br>caa_3: 0.0</br>caa_4: 0.0</br>cp_1: 0.0</br>cp_2: 0.0</br>cp_3: 1.0</br>restecg_1: 0.0</br>restecg_2: 0.0</br>_original_yhat_: 0.9919773936271667</br>\"],[\"</br>id: 14</br>prediction: 0.968</br>chol: 542.0999999999999</br></br>age: 58.0</br>sex: 0.0</br>trtbps: 150.0</br>fbs: 1.0</br>thalachh: 162.0</br>oldpeak: 1.0</br>slp: 2.0</br>thall: 2.0</br>exng_1: 0.0</br>caa_1: 0.0</br>caa_2: 0.0</br>caa_3: 0.0</br>caa_4: 0.0</br>cp_1: 0.0</br>cp_2: 0.0</br>cp_3: 1.0</br>restecg_1: 0.0</br>restecg_2: 0.0</br>_original_yhat_: 0.9919773936271667</br>\"],[\"</br>id: 14</br>prediction: 0.968</br>chol: 546.48</br></br>age: 58.0</br>sex: 0.0</br>trtbps: 150.0</br>fbs: 1.0</br>thalachh: 162.0</br>oldpeak: 1.0</br>slp: 2.0</br>thall: 2.0</br>exng_1: 0.0</br>caa_1: 0.0</br>caa_2: 0.0</br>caa_3: 0.0</br>caa_4: 0.0</br>cp_1: 0.0</br>cp_2: 0.0</br>cp_3: 1.0</br>restecg_1: 0.0</br>restecg_2: 0.0</br>_original_yhat_: 0.9919773936271667</br>\"],[\"</br>id: 14</br>prediction: 0.968</br>chol: 550.86</br></br>age: 58.0</br>sex: 0.0</br>trtbps: 150.0</br>fbs: 1.0</br>thalachh: 162.0</br>oldpeak: 1.0</br>slp: 2.0</br>thall: 2.0</br>exng_1: 0.0</br>caa_1: 0.0</br>caa_2: 0.0</br>caa_3: 0.0</br>caa_4: 0.0</br>cp_1: 0.0</br>cp_2: 0.0</br>cp_3: 1.0</br>restecg_1: 0.0</br>restecg_2: 0.0</br>_original_yhat_: 0.9919773936271667</br>\"],[\"</br>id: 14</br>prediction: 0.968</br>chol: 555.24</br></br>age: 58.0</br>sex: 0.0</br>trtbps: 150.0</br>fbs: 1.0</br>thalachh: 162.0</br>oldpeak: 1.0</br>slp: 2.0</br>thall: 2.0</br>exng_1: 0.0</br>caa_1: 0.0</br>caa_2: 0.0</br>caa_3: 0.0</br>caa_4: 0.0</br>cp_1: 0.0</br>cp_2: 0.0</br>cp_3: 1.0</br>restecg_1: 0.0</br>restecg_2: 0.0</br>_original_yhat_: 0.9919773936271667</br>\"],[\"</br>id: 14</br>prediction: 0.968</br>chol: 559.62</br></br>age: 58.0</br>sex: 0.0</br>trtbps: 150.0</br>fbs: 1.0</br>thalachh: 162.0</br>oldpeak: 1.0</br>slp: 2.0</br>thall: 2.0</br>exng_1: 0.0</br>caa_1: 0.0</br>caa_2: 0.0</br>caa_3: 0.0</br>caa_4: 0.0</br>cp_1: 0.0</br>cp_2: 0.0</br>cp_3: 1.0</br>restecg_1: 0.0</br>restecg_2: 0.0</br>_original_yhat_: 0.9919773936271667</br>\"],[\"</br>id: 14</br>prediction: 0.968</br>chol: 564.0</br></br>age: 58.0</br>sex: 0.0</br>trtbps: 150.0</br>fbs: 1.0</br>thalachh: 162.0</br>oldpeak: 1.0</br>slp: 2.0</br>thall: 2.0</br>exng_1: 0.0</br>caa_1: 0.0</br>caa_2: 0.0</br>caa_3: 0.0</br>caa_4: 0.0</br>cp_1: 0.0</br>cp_2: 0.0</br>cp_3: 1.0</br>restecg_1: 0.0</br>restecg_2: 0.0</br>_original_yhat_: 0.9919773936271667</br>\"]],\"hovertemplate\":\"%{customdata[0]}<extra></extra>\",\"legendgroup\":\"XGBClassifier\",\"line\":{\"color\":\"#46bac2\",\"dash\":\"solid\",\"width\":2},\"marker\":{\"symbol\":\"circle\"},\"mode\":\"lines\",\"name\":\"XGBClassifier\",\"orientation\":\"v\",\"showlegend\":false,\"x\":[126.0,130.38,134.76,139.14,143.52,147.9,152.28,156.66,161.04,165.42000000000002,169.8,174.18,178.56,182.94,187.32,191.7,196.07999999999998,200.45999999999998,204.84,209.22,213.6,217.98000000000002,222.36,226.74,231.12,235.5,239.88,244.0,244.26,248.64,253.01999999999998,257.4,261.78,266.15999999999997,270.53999999999996,274.91999999999996,279.29999999999995,283.0,283.68,288.06,292.44,296.82,301.2,305.58,309.96000000000004,314.34000000000003,318.72,323.1,327.48,331.86,336.24,340.62,345.0,349.38,353.76,358.14,362.52,366.9,371.28,375.65999999999997,380.03999999999996,384.42,388.8,393.18,397.56,401.94,406.32,410.7,415.08,419.46,423.84,428.21999999999997,432.59999999999997,436.98,441.36,445.74,450.12,454.5,458.88,463.26,467.64,472.02,476.4,480.78,485.15999999999997,489.53999999999996,493.92,498.3,502.68,507.06,511.44,515.8199999999999,520.2,524.5799999999999,528.96,533.3399999999999,537.72,542.0999999999999,546.48,550.86,555.24,559.62,564.0],\"xaxis\":\"x2\",\"y\":[0.9984918832778931,0.9984918832778931,0.9984918832778931,0.9984918832778931,0.9984918832778931,0.9984918832778931,0.9984918832778931,0.9984918832778931,0.9984918832778931,0.9984918832778931,0.9984918832778931,0.9984918832778931,0.9984918832778931,0.9984918832778931,0.9984918832778931,0.9984918832778931,0.9984918832778931,0.9984918832778931,0.9984918832778931,0.9986787438392639,0.99858558177948,0.99858558177948,0.99858558177948,0.9986999034881592,0.9986472725868225,0.9988023042678833,0.9987435936927795,0.9985405206680298,0.9985405206680298,0.9985405206680298,0.9986134767532349,0.9980852603912354,0.9980288147926331,0.998238205909729,0.9984297156333923,0.9919773936271667,0.9919773936271667,0.9919773936271667,0.9919773936271667,0.9919773936271667,0.9919773936271667,0.9920335412025452,0.9897458553314209,0.9897458553314209,0.9897458553314209,0.9897458553314209,0.9767515659332275,0.9767515659332275,0.9767515659332275,0.9677658677101135,0.9677658677101135,0.9677658677101135,0.9677658677101135,0.9677658677101135,0.9677658677101135,0.9677658677101135,0.9677658677101135,0.9677658677101135,0.9677658677101135,0.9677658677101135,0.9677658677101135,0.9677658677101135,0.9677658677101135,0.9677658677101135,0.9677658677101135,0.9677658677101135,0.9677658677101135,0.9677658677101135,0.9677658677101135,0.9677658677101135,0.9677658677101135,0.9677658677101135,0.9677658677101135,0.9677658677101135,0.9677658677101135,0.9677658677101135,0.9677658677101135,0.9677658677101135,0.9677658677101135,0.9677658677101135,0.9677658677101135,0.9677658677101135,0.9677658677101135,0.9677658677101135,0.9677658677101135,0.9677658677101135,0.9677658677101135,0.9677658677101135,0.9677658677101135,0.9677658677101135,0.9677658677101135,0.9677658677101135,0.9677658677101135,0.9677658677101135,0.9677658677101135,0.9677658677101135,0.9677658677101135,0.9677658677101135,0.9677658677101135,0.9677658677101135,0.9677658677101135,0.9677658677101135,0.9677658677101135],\"yaxis\":\"y2\",\"type\":\"scatter\",\"opacity\":1},{\"customdata\":[[\"</br>id: 108</br>prediction: 1.0</br>chol: 126.0</br></br>age: 50.0</br>sex: 0.0</br>trtbps: 120.0</br>fbs: 0.0</br>thalachh: 162.0</br>oldpeak: 1.1</br>slp: 2.0</br>thall: 2.0</br>exng_1: 0.0</br>caa_1: 0.0</br>caa_2: 0.0</br>caa_3: 0.0</br>caa_4: 0.0</br>cp_1: 1.0</br>cp_2: 0.0</br>cp_3: 0.0</br>restecg_1: 1.0</br>restecg_2: 0.0</br>_original_yhat_: 0.9995338916778564</br>\"],[\"</br>id: 108</br>prediction: 1.0</br>chol: 130.38</br></br>age: 50.0</br>sex: 0.0</br>trtbps: 120.0</br>fbs: 0.0</br>thalachh: 162.0</br>oldpeak: 1.1</br>slp: 2.0</br>thall: 2.0</br>exng_1: 0.0</br>caa_1: 0.0</br>caa_2: 0.0</br>caa_3: 0.0</br>caa_4: 0.0</br>cp_1: 1.0</br>cp_2: 0.0</br>cp_3: 0.0</br>restecg_1: 1.0</br>restecg_2: 0.0</br>_original_yhat_: 0.9995338916778564</br>\"],[\"</br>id: 108</br>prediction: 1.0</br>chol: 134.76</br></br>age: 50.0</br>sex: 0.0</br>trtbps: 120.0</br>fbs: 0.0</br>thalachh: 162.0</br>oldpeak: 1.1</br>slp: 2.0</br>thall: 2.0</br>exng_1: 0.0</br>caa_1: 0.0</br>caa_2: 0.0</br>caa_3: 0.0</br>caa_4: 0.0</br>cp_1: 1.0</br>cp_2: 0.0</br>cp_3: 0.0</br>restecg_1: 1.0</br>restecg_2: 0.0</br>_original_yhat_: 0.9995338916778564</br>\"],[\"</br>id: 108</br>prediction: 1.0</br>chol: 139.14</br></br>age: 50.0</br>sex: 0.0</br>trtbps: 120.0</br>fbs: 0.0</br>thalachh: 162.0</br>oldpeak: 1.1</br>slp: 2.0</br>thall: 2.0</br>exng_1: 0.0</br>caa_1: 0.0</br>caa_2: 0.0</br>caa_3: 0.0</br>caa_4: 0.0</br>cp_1: 1.0</br>cp_2: 0.0</br>cp_3: 0.0</br>restecg_1: 1.0</br>restecg_2: 0.0</br>_original_yhat_: 0.9995338916778564</br>\"],[\"</br>id: 108</br>prediction: 1.0</br>chol: 143.52</br></br>age: 50.0</br>sex: 0.0</br>trtbps: 120.0</br>fbs: 0.0</br>thalachh: 162.0</br>oldpeak: 1.1</br>slp: 2.0</br>thall: 2.0</br>exng_1: 0.0</br>caa_1: 0.0</br>caa_2: 0.0</br>caa_3: 0.0</br>caa_4: 0.0</br>cp_1: 1.0</br>cp_2: 0.0</br>cp_3: 0.0</br>restecg_1: 1.0</br>restecg_2: 0.0</br>_original_yhat_: 0.9995338916778564</br>\"],[\"</br>id: 108</br>prediction: 1.0</br>chol: 147.9</br></br>age: 50.0</br>sex: 0.0</br>trtbps: 120.0</br>fbs: 0.0</br>thalachh: 162.0</br>oldpeak: 1.1</br>slp: 2.0</br>thall: 2.0</br>exng_1: 0.0</br>caa_1: 0.0</br>caa_2: 0.0</br>caa_3: 0.0</br>caa_4: 0.0</br>cp_1: 1.0</br>cp_2: 0.0</br>cp_3: 0.0</br>restecg_1: 1.0</br>restecg_2: 0.0</br>_original_yhat_: 0.9995338916778564</br>\"],[\"</br>id: 108</br>prediction: 1.0</br>chol: 152.28</br></br>age: 50.0</br>sex: 0.0</br>trtbps: 120.0</br>fbs: 0.0</br>thalachh: 162.0</br>oldpeak: 1.1</br>slp: 2.0</br>thall: 2.0</br>exng_1: 0.0</br>caa_1: 0.0</br>caa_2: 0.0</br>caa_3: 0.0</br>caa_4: 0.0</br>cp_1: 1.0</br>cp_2: 0.0</br>cp_3: 0.0</br>restecg_1: 1.0</br>restecg_2: 0.0</br>_original_yhat_: 0.9995338916778564</br>\"],[\"</br>id: 108</br>prediction: 1.0</br>chol: 156.66</br></br>age: 50.0</br>sex: 0.0</br>trtbps: 120.0</br>fbs: 0.0</br>thalachh: 162.0</br>oldpeak: 1.1</br>slp: 2.0</br>thall: 2.0</br>exng_1: 0.0</br>caa_1: 0.0</br>caa_2: 0.0</br>caa_3: 0.0</br>caa_4: 0.0</br>cp_1: 1.0</br>cp_2: 0.0</br>cp_3: 0.0</br>restecg_1: 1.0</br>restecg_2: 0.0</br>_original_yhat_: 0.9995338916778564</br>\"],[\"</br>id: 108</br>prediction: 1.0</br>chol: 161.04</br></br>age: 50.0</br>sex: 0.0</br>trtbps: 120.0</br>fbs: 0.0</br>thalachh: 162.0</br>oldpeak: 1.1</br>slp: 2.0</br>thall: 2.0</br>exng_1: 0.0</br>caa_1: 0.0</br>caa_2: 0.0</br>caa_3: 0.0</br>caa_4: 0.0</br>cp_1: 1.0</br>cp_2: 0.0</br>cp_3: 0.0</br>restecg_1: 1.0</br>restecg_2: 0.0</br>_original_yhat_: 0.9995338916778564</br>\"],[\"</br>id: 108</br>prediction: 1.0</br>chol: 165.42000000000002</br></br>age: 50.0</br>sex: 0.0</br>trtbps: 120.0</br>fbs: 0.0</br>thalachh: 162.0</br>oldpeak: 1.1</br>slp: 2.0</br>thall: 2.0</br>exng_1: 0.0</br>caa_1: 0.0</br>caa_2: 0.0</br>caa_3: 0.0</br>caa_4: 0.0</br>cp_1: 1.0</br>cp_2: 0.0</br>cp_3: 0.0</br>restecg_1: 1.0</br>restecg_2: 0.0</br>_original_yhat_: 0.9995338916778564</br>\"],[\"</br>id: 108</br>prediction: 1.0</br>chol: 169.8</br></br>age: 50.0</br>sex: 0.0</br>trtbps: 120.0</br>fbs: 0.0</br>thalachh: 162.0</br>oldpeak: 1.1</br>slp: 2.0</br>thall: 2.0</br>exng_1: 0.0</br>caa_1: 0.0</br>caa_2: 0.0</br>caa_3: 0.0</br>caa_4: 0.0</br>cp_1: 1.0</br>cp_2: 0.0</br>cp_3: 0.0</br>restecg_1: 1.0</br>restecg_2: 0.0</br>_original_yhat_: 0.9995338916778564</br>\"],[\"</br>id: 108</br>prediction: 1.0</br>chol: 174.18</br></br>age: 50.0</br>sex: 0.0</br>trtbps: 120.0</br>fbs: 0.0</br>thalachh: 162.0</br>oldpeak: 1.1</br>slp: 2.0</br>thall: 2.0</br>exng_1: 0.0</br>caa_1: 0.0</br>caa_2: 0.0</br>caa_3: 0.0</br>caa_4: 0.0</br>cp_1: 1.0</br>cp_2: 0.0</br>cp_3: 0.0</br>restecg_1: 1.0</br>restecg_2: 0.0</br>_original_yhat_: 0.9995338916778564</br>\"],[\"</br>id: 108</br>prediction: 1.0</br>chol: 178.56</br></br>age: 50.0</br>sex: 0.0</br>trtbps: 120.0</br>fbs: 0.0</br>thalachh: 162.0</br>oldpeak: 1.1</br>slp: 2.0</br>thall: 2.0</br>exng_1: 0.0</br>caa_1: 0.0</br>caa_2: 0.0</br>caa_3: 0.0</br>caa_4: 0.0</br>cp_1: 1.0</br>cp_2: 0.0</br>cp_3: 0.0</br>restecg_1: 1.0</br>restecg_2: 0.0</br>_original_yhat_: 0.9995338916778564</br>\"],[\"</br>id: 108</br>prediction: 1.0</br>chol: 182.94</br></br>age: 50.0</br>sex: 0.0</br>trtbps: 120.0</br>fbs: 0.0</br>thalachh: 162.0</br>oldpeak: 1.1</br>slp: 2.0</br>thall: 2.0</br>exng_1: 0.0</br>caa_1: 0.0</br>caa_2: 0.0</br>caa_3: 0.0</br>caa_4: 0.0</br>cp_1: 1.0</br>cp_2: 0.0</br>cp_3: 0.0</br>restecg_1: 1.0</br>restecg_2: 0.0</br>_original_yhat_: 0.9995338916778564</br>\"],[\"</br>id: 108</br>prediction: 1.0</br>chol: 187.32</br></br>age: 50.0</br>sex: 0.0</br>trtbps: 120.0</br>fbs: 0.0</br>thalachh: 162.0</br>oldpeak: 1.1</br>slp: 2.0</br>thall: 2.0</br>exng_1: 0.0</br>caa_1: 0.0</br>caa_2: 0.0</br>caa_3: 0.0</br>caa_4: 0.0</br>cp_1: 1.0</br>cp_2: 0.0</br>cp_3: 0.0</br>restecg_1: 1.0</br>restecg_2: 0.0</br>_original_yhat_: 0.9995338916778564</br>\"],[\"</br>id: 108</br>prediction: 1.0</br>chol: 191.7</br></br>age: 50.0</br>sex: 0.0</br>trtbps: 120.0</br>fbs: 0.0</br>thalachh: 162.0</br>oldpeak: 1.1</br>slp: 2.0</br>thall: 2.0</br>exng_1: 0.0</br>caa_1: 0.0</br>caa_2: 0.0</br>caa_3: 0.0</br>caa_4: 0.0</br>cp_1: 1.0</br>cp_2: 0.0</br>cp_3: 0.0</br>restecg_1: 1.0</br>restecg_2: 0.0</br>_original_yhat_: 0.9995338916778564</br>\"],[\"</br>id: 108</br>prediction: 1.0</br>chol: 196.07999999999998</br></br>age: 50.0</br>sex: 0.0</br>trtbps: 120.0</br>fbs: 0.0</br>thalachh: 162.0</br>oldpeak: 1.1</br>slp: 2.0</br>thall: 2.0</br>exng_1: 0.0</br>caa_1: 0.0</br>caa_2: 0.0</br>caa_3: 0.0</br>caa_4: 0.0</br>cp_1: 1.0</br>cp_2: 0.0</br>cp_3: 0.0</br>restecg_1: 1.0</br>restecg_2: 0.0</br>_original_yhat_: 0.9995338916778564</br>\"],[\"</br>id: 108</br>prediction: 1.0</br>chol: 200.45999999999998</br></br>age: 50.0</br>sex: 0.0</br>trtbps: 120.0</br>fbs: 0.0</br>thalachh: 162.0</br>oldpeak: 1.1</br>slp: 2.0</br>thall: 2.0</br>exng_1: 0.0</br>caa_1: 0.0</br>caa_2: 0.0</br>caa_3: 0.0</br>caa_4: 0.0</br>cp_1: 1.0</br>cp_2: 0.0</br>cp_3: 0.0</br>restecg_1: 1.0</br>restecg_2: 0.0</br>_original_yhat_: 0.9995338916778564</br>\"],[\"</br>id: 108</br>prediction: 1.0</br>chol: 204.84</br></br>age: 50.0</br>sex: 0.0</br>trtbps: 120.0</br>fbs: 0.0</br>thalachh: 162.0</br>oldpeak: 1.1</br>slp: 2.0</br>thall: 2.0</br>exng_1: 0.0</br>caa_1: 0.0</br>caa_2: 0.0</br>caa_3: 0.0</br>caa_4: 0.0</br>cp_1: 1.0</br>cp_2: 0.0</br>cp_3: 0.0</br>restecg_1: 1.0</br>restecg_2: 0.0</br>_original_yhat_: 0.9995338916778564</br>\"],[\"</br>id: 108</br>prediction: 1.0</br>chol: 209.22</br></br>age: 50.0</br>sex: 0.0</br>trtbps: 120.0</br>fbs: 0.0</br>thalachh: 162.0</br>oldpeak: 1.1</br>slp: 2.0</br>thall: 2.0</br>exng_1: 0.0</br>caa_1: 0.0</br>caa_2: 0.0</br>caa_3: 0.0</br>caa_4: 0.0</br>cp_1: 1.0</br>cp_2: 0.0</br>cp_3: 0.0</br>restecg_1: 1.0</br>restecg_2: 0.0</br>_original_yhat_: 0.9995338916778564</br>\"],[\"</br>id: 108</br>prediction: 1.0</br>chol: 213.6</br></br>age: 50.0</br>sex: 0.0</br>trtbps: 120.0</br>fbs: 0.0</br>thalachh: 162.0</br>oldpeak: 1.1</br>slp: 2.0</br>thall: 2.0</br>exng_1: 0.0</br>caa_1: 0.0</br>caa_2: 0.0</br>caa_3: 0.0</br>caa_4: 0.0</br>cp_1: 1.0</br>cp_2: 0.0</br>cp_3: 0.0</br>restecg_1: 1.0</br>restecg_2: 0.0</br>_original_yhat_: 0.9995338916778564</br>\"],[\"</br>id: 108</br>prediction: 1.0</br>chol: 217.98000000000002</br></br>age: 50.0</br>sex: 0.0</br>trtbps: 120.0</br>fbs: 0.0</br>thalachh: 162.0</br>oldpeak: 1.1</br>slp: 2.0</br>thall: 2.0</br>exng_1: 0.0</br>caa_1: 0.0</br>caa_2: 0.0</br>caa_3: 0.0</br>caa_4: 0.0</br>cp_1: 1.0</br>cp_2: 0.0</br>cp_3: 0.0</br>restecg_1: 1.0</br>restecg_2: 0.0</br>_original_yhat_: 0.9995338916778564</br>\"],[\"</br>id: 108</br>prediction: 1.0</br>chol: 222.36</br></br>age: 50.0</br>sex: 0.0</br>trtbps: 120.0</br>fbs: 0.0</br>thalachh: 162.0</br>oldpeak: 1.1</br>slp: 2.0</br>thall: 2.0</br>exng_1: 0.0</br>caa_1: 0.0</br>caa_2: 0.0</br>caa_3: 0.0</br>caa_4: 0.0</br>cp_1: 1.0</br>cp_2: 0.0</br>cp_3: 0.0</br>restecg_1: 1.0</br>restecg_2: 0.0</br>_original_yhat_: 0.9995338916778564</br>\"],[\"</br>id: 108</br>prediction: 0.999</br>chol: 226.74</br></br>age: 50.0</br>sex: 0.0</br>trtbps: 120.0</br>fbs: 0.0</br>thalachh: 162.0</br>oldpeak: 1.1</br>slp: 2.0</br>thall: 2.0</br>exng_1: 0.0</br>caa_1: 0.0</br>caa_2: 0.0</br>caa_3: 0.0</br>caa_4: 0.0</br>cp_1: 1.0</br>cp_2: 0.0</br>cp_3: 0.0</br>restecg_1: 1.0</br>restecg_2: 0.0</br>_original_yhat_: 0.9995338916778564</br>\"],[\"</br>id: 108</br>prediction: 0.999</br>chol: 231.12</br></br>age: 50.0</br>sex: 0.0</br>trtbps: 120.0</br>fbs: 0.0</br>thalachh: 162.0</br>oldpeak: 1.1</br>slp: 2.0</br>thall: 2.0</br>exng_1: 0.0</br>caa_1: 0.0</br>caa_2: 0.0</br>caa_3: 0.0</br>caa_4: 0.0</br>cp_1: 1.0</br>cp_2: 0.0</br>cp_3: 0.0</br>restecg_1: 1.0</br>restecg_2: 0.0</br>_original_yhat_: 0.9995338916778564</br>\"],[\"</br>id: 108</br>prediction: 0.999</br>chol: 235.5</br></br>age: 50.0</br>sex: 0.0</br>trtbps: 120.0</br>fbs: 0.0</br>thalachh: 162.0</br>oldpeak: 1.1</br>slp: 2.0</br>thall: 2.0</br>exng_1: 0.0</br>caa_1: 0.0</br>caa_2: 0.0</br>caa_3: 0.0</br>caa_4: 0.0</br>cp_1: 1.0</br>cp_2: 0.0</br>cp_3: 0.0</br>restecg_1: 1.0</br>restecg_2: 0.0</br>_original_yhat_: 0.9995338916778564</br>\"],[\"</br>id: 108</br>prediction: 0.999</br>chol: 239.88</br></br>age: 50.0</br>sex: 0.0</br>trtbps: 120.0</br>fbs: 0.0</br>thalachh: 162.0</br>oldpeak: 1.1</br>slp: 2.0</br>thall: 2.0</br>exng_1: 0.0</br>caa_1: 0.0</br>caa_2: 0.0</br>caa_3: 0.0</br>caa_4: 0.0</br>cp_1: 1.0</br>cp_2: 0.0</br>cp_3: 0.0</br>restecg_1: 1.0</br>restecg_2: 0.0</br>_original_yhat_: 0.9995338916778564</br>\"],[\"</br>id: 108</br>prediction: 1.0</br>chol: 244.0</br></br>age: 50.0</br>sex: 0.0</br>trtbps: 120.0</br>fbs: 0.0</br>thalachh: 162.0</br>oldpeak: 1.1</br>slp: 2.0</br>thall: 2.0</br>exng_1: 0.0</br>caa_1: 0.0</br>caa_2: 0.0</br>caa_3: 0.0</br>caa_4: 0.0</br>cp_1: 1.0</br>cp_2: 0.0</br>cp_3: 0.0</br>restecg_1: 1.0</br>restecg_2: 0.0</br>_original_yhat_: 0.9995338916778564</br>\"],[\"</br>id: 108</br>prediction: 1.0</br>chol: 244.26</br></br>age: 50.0</br>sex: 0.0</br>trtbps: 120.0</br>fbs: 0.0</br>thalachh: 162.0</br>oldpeak: 1.1</br>slp: 2.0</br>thall: 2.0</br>exng_1: 0.0</br>caa_1: 0.0</br>caa_2: 0.0</br>caa_3: 0.0</br>caa_4: 0.0</br>cp_1: 1.0</br>cp_2: 0.0</br>cp_3: 0.0</br>restecg_1: 1.0</br>restecg_2: 0.0</br>_original_yhat_: 0.9995338916778564</br>\"],[\"</br>id: 108</br>prediction: 1.0</br>chol: 248.64</br></br>age: 50.0</br>sex: 0.0</br>trtbps: 120.0</br>fbs: 0.0</br>thalachh: 162.0</br>oldpeak: 1.1</br>slp: 2.0</br>thall: 2.0</br>exng_1: 0.0</br>caa_1: 0.0</br>caa_2: 0.0</br>caa_3: 0.0</br>caa_4: 0.0</br>cp_1: 1.0</br>cp_2: 0.0</br>cp_3: 0.0</br>restecg_1: 1.0</br>restecg_2: 0.0</br>_original_yhat_: 0.9995338916778564</br>\"],[\"</br>id: 108</br>prediction: 1.0</br>chol: 253.01999999999998</br></br>age: 50.0</br>sex: 0.0</br>trtbps: 120.0</br>fbs: 0.0</br>thalachh: 162.0</br>oldpeak: 1.1</br>slp: 2.0</br>thall: 2.0</br>exng_1: 0.0</br>caa_1: 0.0</br>caa_2: 0.0</br>caa_3: 0.0</br>caa_4: 0.0</br>cp_1: 1.0</br>cp_2: 0.0</br>cp_3: 0.0</br>restecg_1: 1.0</br>restecg_2: 0.0</br>_original_yhat_: 0.9995338916778564</br>\"],[\"</br>id: 108</br>prediction: 1.0</br>chol: 257.4</br></br>age: 50.0</br>sex: 0.0</br>trtbps: 120.0</br>fbs: 0.0</br>thalachh: 162.0</br>oldpeak: 1.1</br>slp: 2.0</br>thall: 2.0</br>exng_1: 0.0</br>caa_1: 0.0</br>caa_2: 0.0</br>caa_3: 0.0</br>caa_4: 0.0</br>cp_1: 1.0</br>cp_2: 0.0</br>cp_3: 0.0</br>restecg_1: 1.0</br>restecg_2: 0.0</br>_original_yhat_: 0.9995338916778564</br>\"],[\"</br>id: 108</br>prediction: 1.0</br>chol: 261.78</br></br>age: 50.0</br>sex: 0.0</br>trtbps: 120.0</br>fbs: 0.0</br>thalachh: 162.0</br>oldpeak: 1.1</br>slp: 2.0</br>thall: 2.0</br>exng_1: 0.0</br>caa_1: 0.0</br>caa_2: 0.0</br>caa_3: 0.0</br>caa_4: 0.0</br>cp_1: 1.0</br>cp_2: 0.0</br>cp_3: 0.0</br>restecg_1: 1.0</br>restecg_2: 0.0</br>_original_yhat_: 0.9995338916778564</br>\"],[\"</br>id: 108</br>prediction: 1.0</br>chol: 266.15999999999997</br></br>age: 50.0</br>sex: 0.0</br>trtbps: 120.0</br>fbs: 0.0</br>thalachh: 162.0</br>oldpeak: 1.1</br>slp: 2.0</br>thall: 2.0</br>exng_1: 0.0</br>caa_1: 0.0</br>caa_2: 0.0</br>caa_3: 0.0</br>caa_4: 0.0</br>cp_1: 1.0</br>cp_2: 0.0</br>cp_3: 0.0</br>restecg_1: 1.0</br>restecg_2: 0.0</br>_original_yhat_: 0.9995338916778564</br>\"],[\"</br>id: 108</br>prediction: 1.0</br>chol: 270.53999999999996</br></br>age: 50.0</br>sex: 0.0</br>trtbps: 120.0</br>fbs: 0.0</br>thalachh: 162.0</br>oldpeak: 1.1</br>slp: 2.0</br>thall: 2.0</br>exng_1: 0.0</br>caa_1: 0.0</br>caa_2: 0.0</br>caa_3: 0.0</br>caa_4: 0.0</br>cp_1: 1.0</br>cp_2: 0.0</br>cp_3: 0.0</br>restecg_1: 1.0</br>restecg_2: 0.0</br>_original_yhat_: 0.9995338916778564</br>\"],[\"</br>id: 108</br>prediction: 1.0</br>chol: 274.91999999999996</br></br>age: 50.0</br>sex: 0.0</br>trtbps: 120.0</br>fbs: 0.0</br>thalachh: 162.0</br>oldpeak: 1.1</br>slp: 2.0</br>thall: 2.0</br>exng_1: 0.0</br>caa_1: 0.0</br>caa_2: 0.0</br>caa_3: 0.0</br>caa_4: 0.0</br>cp_1: 1.0</br>cp_2: 0.0</br>cp_3: 0.0</br>restecg_1: 1.0</br>restecg_2: 0.0</br>_original_yhat_: 0.9995338916778564</br>\"],[\"</br>id: 108</br>prediction: 1.0</br>chol: 279.29999999999995</br></br>age: 50.0</br>sex: 0.0</br>trtbps: 120.0</br>fbs: 0.0</br>thalachh: 162.0</br>oldpeak: 1.1</br>slp: 2.0</br>thall: 2.0</br>exng_1: 0.0</br>caa_1: 0.0</br>caa_2: 0.0</br>caa_3: 0.0</br>caa_4: 0.0</br>cp_1: 1.0</br>cp_2: 0.0</br>cp_3: 0.0</br>restecg_1: 1.0</br>restecg_2: 0.0</br>_original_yhat_: 0.9995338916778564</br>\"],[\"</br>id: 108</br>prediction: 1.0</br>chol: 283.0</br></br>age: 50.0</br>sex: 0.0</br>trtbps: 120.0</br>fbs: 0.0</br>thalachh: 162.0</br>oldpeak: 1.1</br>slp: 2.0</br>thall: 2.0</br>exng_1: 0.0</br>caa_1: 0.0</br>caa_2: 0.0</br>caa_3: 0.0</br>caa_4: 0.0</br>cp_1: 1.0</br>cp_2: 0.0</br>cp_3: 0.0</br>restecg_1: 1.0</br>restecg_2: 0.0</br>_original_yhat_: 0.9995338916778564</br>\"],[\"</br>id: 108</br>prediction: 1.0</br>chol: 283.68</br></br>age: 50.0</br>sex: 0.0</br>trtbps: 120.0</br>fbs: 0.0</br>thalachh: 162.0</br>oldpeak: 1.1</br>slp: 2.0</br>thall: 2.0</br>exng_1: 0.0</br>caa_1: 0.0</br>caa_2: 0.0</br>caa_3: 0.0</br>caa_4: 0.0</br>cp_1: 1.0</br>cp_2: 0.0</br>cp_3: 0.0</br>restecg_1: 1.0</br>restecg_2: 0.0</br>_original_yhat_: 0.9995338916778564</br>\"],[\"</br>id: 108</br>prediction: 1.0</br>chol: 288.06</br></br>age: 50.0</br>sex: 0.0</br>trtbps: 120.0</br>fbs: 0.0</br>thalachh: 162.0</br>oldpeak: 1.1</br>slp: 2.0</br>thall: 2.0</br>exng_1: 0.0</br>caa_1: 0.0</br>caa_2: 0.0</br>caa_3: 0.0</br>caa_4: 0.0</br>cp_1: 1.0</br>cp_2: 0.0</br>cp_3: 0.0</br>restecg_1: 1.0</br>restecg_2: 0.0</br>_original_yhat_: 0.9995338916778564</br>\"],[\"</br>id: 108</br>prediction: 1.0</br>chol: 292.44</br></br>age: 50.0</br>sex: 0.0</br>trtbps: 120.0</br>fbs: 0.0</br>thalachh: 162.0</br>oldpeak: 1.1</br>slp: 2.0</br>thall: 2.0</br>exng_1: 0.0</br>caa_1: 0.0</br>caa_2: 0.0</br>caa_3: 0.0</br>caa_4: 0.0</br>cp_1: 1.0</br>cp_2: 0.0</br>cp_3: 0.0</br>restecg_1: 1.0</br>restecg_2: 0.0</br>_original_yhat_: 0.9995338916778564</br>\"],[\"</br>id: 108</br>prediction: 1.0</br>chol: 296.82</br></br>age: 50.0</br>sex: 0.0</br>trtbps: 120.0</br>fbs: 0.0</br>thalachh: 162.0</br>oldpeak: 1.1</br>slp: 2.0</br>thall: 2.0</br>exng_1: 0.0</br>caa_1: 0.0</br>caa_2: 0.0</br>caa_3: 0.0</br>caa_4: 0.0</br>cp_1: 1.0</br>cp_2: 0.0</br>cp_3: 0.0</br>restecg_1: 1.0</br>restecg_2: 0.0</br>_original_yhat_: 0.9995338916778564</br>\"],[\"</br>id: 108</br>prediction: 0.999</br>chol: 301.2</br></br>age: 50.0</br>sex: 0.0</br>trtbps: 120.0</br>fbs: 0.0</br>thalachh: 162.0</br>oldpeak: 1.1</br>slp: 2.0</br>thall: 2.0</br>exng_1: 0.0</br>caa_1: 0.0</br>caa_2: 0.0</br>caa_3: 0.0</br>caa_4: 0.0</br>cp_1: 1.0</br>cp_2: 0.0</br>cp_3: 0.0</br>restecg_1: 1.0</br>restecg_2: 0.0</br>_original_yhat_: 0.9995338916778564</br>\"],[\"</br>id: 108</br>prediction: 0.999</br>chol: 305.58</br></br>age: 50.0</br>sex: 0.0</br>trtbps: 120.0</br>fbs: 0.0</br>thalachh: 162.0</br>oldpeak: 1.1</br>slp: 2.0</br>thall: 2.0</br>exng_1: 0.0</br>caa_1: 0.0</br>caa_2: 0.0</br>caa_3: 0.0</br>caa_4: 0.0</br>cp_1: 1.0</br>cp_2: 0.0</br>cp_3: 0.0</br>restecg_1: 1.0</br>restecg_2: 0.0</br>_original_yhat_: 0.9995338916778564</br>\"],[\"</br>id: 108</br>prediction: 0.999</br>chol: 309.96000000000004</br></br>age: 50.0</br>sex: 0.0</br>trtbps: 120.0</br>fbs: 0.0</br>thalachh: 162.0</br>oldpeak: 1.1</br>slp: 2.0</br>thall: 2.0</br>exng_1: 0.0</br>caa_1: 0.0</br>caa_2: 0.0</br>caa_3: 0.0</br>caa_4: 0.0</br>cp_1: 1.0</br>cp_2: 0.0</br>cp_3: 0.0</br>restecg_1: 1.0</br>restecg_2: 0.0</br>_original_yhat_: 0.9995338916778564</br>\"],[\"</br>id: 108</br>prediction: 0.999</br>chol: 314.34000000000003</br></br>age: 50.0</br>sex: 0.0</br>trtbps: 120.0</br>fbs: 0.0</br>thalachh: 162.0</br>oldpeak: 1.1</br>slp: 2.0</br>thall: 2.0</br>exng_1: 0.0</br>caa_1: 0.0</br>caa_2: 0.0</br>caa_3: 0.0</br>caa_4: 0.0</br>cp_1: 1.0</br>cp_2: 0.0</br>cp_3: 0.0</br>restecg_1: 1.0</br>restecg_2: 0.0</br>_original_yhat_: 0.9995338916778564</br>\"],[\"</br>id: 108</br>prediction: 0.999</br>chol: 318.72</br></br>age: 50.0</br>sex: 0.0</br>trtbps: 120.0</br>fbs: 0.0</br>thalachh: 162.0</br>oldpeak: 1.1</br>slp: 2.0</br>thall: 2.0</br>exng_1: 0.0</br>caa_1: 0.0</br>caa_2: 0.0</br>caa_3: 0.0</br>caa_4: 0.0</br>cp_1: 1.0</br>cp_2: 0.0</br>cp_3: 0.0</br>restecg_1: 1.0</br>restecg_2: 0.0</br>_original_yhat_: 0.9995338916778564</br>\"],[\"</br>id: 108</br>prediction: 0.999</br>chol: 323.1</br></br>age: 50.0</br>sex: 0.0</br>trtbps: 120.0</br>fbs: 0.0</br>thalachh: 162.0</br>oldpeak: 1.1</br>slp: 2.0</br>thall: 2.0</br>exng_1: 0.0</br>caa_1: 0.0</br>caa_2: 0.0</br>caa_3: 0.0</br>caa_4: 0.0</br>cp_1: 1.0</br>cp_2: 0.0</br>cp_3: 0.0</br>restecg_1: 1.0</br>restecg_2: 0.0</br>_original_yhat_: 0.9995338916778564</br>\"],[\"</br>id: 108</br>prediction: 0.999</br>chol: 327.48</br></br>age: 50.0</br>sex: 0.0</br>trtbps: 120.0</br>fbs: 0.0</br>thalachh: 162.0</br>oldpeak: 1.1</br>slp: 2.0</br>thall: 2.0</br>exng_1: 0.0</br>caa_1: 0.0</br>caa_2: 0.0</br>caa_3: 0.0</br>caa_4: 0.0</br>cp_1: 1.0</br>cp_2: 0.0</br>cp_3: 0.0</br>restecg_1: 1.0</br>restecg_2: 0.0</br>_original_yhat_: 0.9995338916778564</br>\"],[\"</br>id: 108</br>prediction: 0.998</br>chol: 331.86</br></br>age: 50.0</br>sex: 0.0</br>trtbps: 120.0</br>fbs: 0.0</br>thalachh: 162.0</br>oldpeak: 1.1</br>slp: 2.0</br>thall: 2.0</br>exng_1: 0.0</br>caa_1: 0.0</br>caa_2: 0.0</br>caa_3: 0.0</br>caa_4: 0.0</br>cp_1: 1.0</br>cp_2: 0.0</br>cp_3: 0.0</br>restecg_1: 1.0</br>restecg_2: 0.0</br>_original_yhat_: 0.9995338916778564</br>\"],[\"</br>id: 108</br>prediction: 0.998</br>chol: 336.24</br></br>age: 50.0</br>sex: 0.0</br>trtbps: 120.0</br>fbs: 0.0</br>thalachh: 162.0</br>oldpeak: 1.1</br>slp: 2.0</br>thall: 2.0</br>exng_1: 0.0</br>caa_1: 0.0</br>caa_2: 0.0</br>caa_3: 0.0</br>caa_4: 0.0</br>cp_1: 1.0</br>cp_2: 0.0</br>cp_3: 0.0</br>restecg_1: 1.0</br>restecg_2: 0.0</br>_original_yhat_: 0.9995338916778564</br>\"],[\"</br>id: 108</br>prediction: 0.998</br>chol: 340.62</br></br>age: 50.0</br>sex: 0.0</br>trtbps: 120.0</br>fbs: 0.0</br>thalachh: 162.0</br>oldpeak: 1.1</br>slp: 2.0</br>thall: 2.0</br>exng_1: 0.0</br>caa_1: 0.0</br>caa_2: 0.0</br>caa_3: 0.0</br>caa_4: 0.0</br>cp_1: 1.0</br>cp_2: 0.0</br>cp_3: 0.0</br>restecg_1: 1.0</br>restecg_2: 0.0</br>_original_yhat_: 0.9995338916778564</br>\"],[\"</br>id: 108</br>prediction: 0.998</br>chol: 345.0</br></br>age: 50.0</br>sex: 0.0</br>trtbps: 120.0</br>fbs: 0.0</br>thalachh: 162.0</br>oldpeak: 1.1</br>slp: 2.0</br>thall: 2.0</br>exng_1: 0.0</br>caa_1: 0.0</br>caa_2: 0.0</br>caa_3: 0.0</br>caa_4: 0.0</br>cp_1: 1.0</br>cp_2: 0.0</br>cp_3: 0.0</br>restecg_1: 1.0</br>restecg_2: 0.0</br>_original_yhat_: 0.9995338916778564</br>\"],[\"</br>id: 108</br>prediction: 0.998</br>chol: 349.38</br></br>age: 50.0</br>sex: 0.0</br>trtbps: 120.0</br>fbs: 0.0</br>thalachh: 162.0</br>oldpeak: 1.1</br>slp: 2.0</br>thall: 2.0</br>exng_1: 0.0</br>caa_1: 0.0</br>caa_2: 0.0</br>caa_3: 0.0</br>caa_4: 0.0</br>cp_1: 1.0</br>cp_2: 0.0</br>cp_3: 0.0</br>restecg_1: 1.0</br>restecg_2: 0.0</br>_original_yhat_: 0.9995338916778564</br>\"],[\"</br>id: 108</br>prediction: 0.998</br>chol: 353.76</br></br>age: 50.0</br>sex: 0.0</br>trtbps: 120.0</br>fbs: 0.0</br>thalachh: 162.0</br>oldpeak: 1.1</br>slp: 2.0</br>thall: 2.0</br>exng_1: 0.0</br>caa_1: 0.0</br>caa_2: 0.0</br>caa_3: 0.0</br>caa_4: 0.0</br>cp_1: 1.0</br>cp_2: 0.0</br>cp_3: 0.0</br>restecg_1: 1.0</br>restecg_2: 0.0</br>_original_yhat_: 0.9995338916778564</br>\"],[\"</br>id: 108</br>prediction: 0.998</br>chol: 358.14</br></br>age: 50.0</br>sex: 0.0</br>trtbps: 120.0</br>fbs: 0.0</br>thalachh: 162.0</br>oldpeak: 1.1</br>slp: 2.0</br>thall: 2.0</br>exng_1: 0.0</br>caa_1: 0.0</br>caa_2: 0.0</br>caa_3: 0.0</br>caa_4: 0.0</br>cp_1: 1.0</br>cp_2: 0.0</br>cp_3: 0.0</br>restecg_1: 1.0</br>restecg_2: 0.0</br>_original_yhat_: 0.9995338916778564</br>\"],[\"</br>id: 108</br>prediction: 0.998</br>chol: 362.52</br></br>age: 50.0</br>sex: 0.0</br>trtbps: 120.0</br>fbs: 0.0</br>thalachh: 162.0</br>oldpeak: 1.1</br>slp: 2.0</br>thall: 2.0</br>exng_1: 0.0</br>caa_1: 0.0</br>caa_2: 0.0</br>caa_3: 0.0</br>caa_4: 0.0</br>cp_1: 1.0</br>cp_2: 0.0</br>cp_3: 0.0</br>restecg_1: 1.0</br>restecg_2: 0.0</br>_original_yhat_: 0.9995338916778564</br>\"],[\"</br>id: 108</br>prediction: 0.998</br>chol: 366.9</br></br>age: 50.0</br>sex: 0.0</br>trtbps: 120.0</br>fbs: 0.0</br>thalachh: 162.0</br>oldpeak: 1.1</br>slp: 2.0</br>thall: 2.0</br>exng_1: 0.0</br>caa_1: 0.0</br>caa_2: 0.0</br>caa_3: 0.0</br>caa_4: 0.0</br>cp_1: 1.0</br>cp_2: 0.0</br>cp_3: 0.0</br>restecg_1: 1.0</br>restecg_2: 0.0</br>_original_yhat_: 0.9995338916778564</br>\"],[\"</br>id: 108</br>prediction: 0.998</br>chol: 371.28</br></br>age: 50.0</br>sex: 0.0</br>trtbps: 120.0</br>fbs: 0.0</br>thalachh: 162.0</br>oldpeak: 1.1</br>slp: 2.0</br>thall: 2.0</br>exng_1: 0.0</br>caa_1: 0.0</br>caa_2: 0.0</br>caa_3: 0.0</br>caa_4: 0.0</br>cp_1: 1.0</br>cp_2: 0.0</br>cp_3: 0.0</br>restecg_1: 1.0</br>restecg_2: 0.0</br>_original_yhat_: 0.9995338916778564</br>\"],[\"</br>id: 108</br>prediction: 0.998</br>chol: 375.65999999999997</br></br>age: 50.0</br>sex: 0.0</br>trtbps: 120.0</br>fbs: 0.0</br>thalachh: 162.0</br>oldpeak: 1.1</br>slp: 2.0</br>thall: 2.0</br>exng_1: 0.0</br>caa_1: 0.0</br>caa_2: 0.0</br>caa_3: 0.0</br>caa_4: 0.0</br>cp_1: 1.0</br>cp_2: 0.0</br>cp_3: 0.0</br>restecg_1: 1.0</br>restecg_2: 0.0</br>_original_yhat_: 0.9995338916778564</br>\"],[\"</br>id: 108</br>prediction: 0.998</br>chol: 380.03999999999996</br></br>age: 50.0</br>sex: 0.0</br>trtbps: 120.0</br>fbs: 0.0</br>thalachh: 162.0</br>oldpeak: 1.1</br>slp: 2.0</br>thall: 2.0</br>exng_1: 0.0</br>caa_1: 0.0</br>caa_2: 0.0</br>caa_3: 0.0</br>caa_4: 0.0</br>cp_1: 1.0</br>cp_2: 0.0</br>cp_3: 0.0</br>restecg_1: 1.0</br>restecg_2: 0.0</br>_original_yhat_: 0.9995338916778564</br>\"],[\"</br>id: 108</br>prediction: 0.998</br>chol: 384.42</br></br>age: 50.0</br>sex: 0.0</br>trtbps: 120.0</br>fbs: 0.0</br>thalachh: 162.0</br>oldpeak: 1.1</br>slp: 2.0</br>thall: 2.0</br>exng_1: 0.0</br>caa_1: 0.0</br>caa_2: 0.0</br>caa_3: 0.0</br>caa_4: 0.0</br>cp_1: 1.0</br>cp_2: 0.0</br>cp_3: 0.0</br>restecg_1: 1.0</br>restecg_2: 0.0</br>_original_yhat_: 0.9995338916778564</br>\"],[\"</br>id: 108</br>prediction: 0.998</br>chol: 388.8</br></br>age: 50.0</br>sex: 0.0</br>trtbps: 120.0</br>fbs: 0.0</br>thalachh: 162.0</br>oldpeak: 1.1</br>slp: 2.0</br>thall: 2.0</br>exng_1: 0.0</br>caa_1: 0.0</br>caa_2: 0.0</br>caa_3: 0.0</br>caa_4: 0.0</br>cp_1: 1.0</br>cp_2: 0.0</br>cp_3: 0.0</br>restecg_1: 1.0</br>restecg_2: 0.0</br>_original_yhat_: 0.9995338916778564</br>\"],[\"</br>id: 108</br>prediction: 0.998</br>chol: 393.18</br></br>age: 50.0</br>sex: 0.0</br>trtbps: 120.0</br>fbs: 0.0</br>thalachh: 162.0</br>oldpeak: 1.1</br>slp: 2.0</br>thall: 2.0</br>exng_1: 0.0</br>caa_1: 0.0</br>caa_2: 0.0</br>caa_3: 0.0</br>caa_4: 0.0</br>cp_1: 1.0</br>cp_2: 0.0</br>cp_3: 0.0</br>restecg_1: 1.0</br>restecg_2: 0.0</br>_original_yhat_: 0.9995338916778564</br>\"],[\"</br>id: 108</br>prediction: 0.998</br>chol: 397.56</br></br>age: 50.0</br>sex: 0.0</br>trtbps: 120.0</br>fbs: 0.0</br>thalachh: 162.0</br>oldpeak: 1.1</br>slp: 2.0</br>thall: 2.0</br>exng_1: 0.0</br>caa_1: 0.0</br>caa_2: 0.0</br>caa_3: 0.0</br>caa_4: 0.0</br>cp_1: 1.0</br>cp_2: 0.0</br>cp_3: 0.0</br>restecg_1: 1.0</br>restecg_2: 0.0</br>_original_yhat_: 0.9995338916778564</br>\"],[\"</br>id: 108</br>prediction: 0.998</br>chol: 401.94</br></br>age: 50.0</br>sex: 0.0</br>trtbps: 120.0</br>fbs: 0.0</br>thalachh: 162.0</br>oldpeak: 1.1</br>slp: 2.0</br>thall: 2.0</br>exng_1: 0.0</br>caa_1: 0.0</br>caa_2: 0.0</br>caa_3: 0.0</br>caa_4: 0.0</br>cp_1: 1.0</br>cp_2: 0.0</br>cp_3: 0.0</br>restecg_1: 1.0</br>restecg_2: 0.0</br>_original_yhat_: 0.9995338916778564</br>\"],[\"</br>id: 108</br>prediction: 0.998</br>chol: 406.32</br></br>age: 50.0</br>sex: 0.0</br>trtbps: 120.0</br>fbs: 0.0</br>thalachh: 162.0</br>oldpeak: 1.1</br>slp: 2.0</br>thall: 2.0</br>exng_1: 0.0</br>caa_1: 0.0</br>caa_2: 0.0</br>caa_3: 0.0</br>caa_4: 0.0</br>cp_1: 1.0</br>cp_2: 0.0</br>cp_3: 0.0</br>restecg_1: 1.0</br>restecg_2: 0.0</br>_original_yhat_: 0.9995338916778564</br>\"],[\"</br>id: 108</br>prediction: 0.998</br>chol: 410.7</br></br>age: 50.0</br>sex: 0.0</br>trtbps: 120.0</br>fbs: 0.0</br>thalachh: 162.0</br>oldpeak: 1.1</br>slp: 2.0</br>thall: 2.0</br>exng_1: 0.0</br>caa_1: 0.0</br>caa_2: 0.0</br>caa_3: 0.0</br>caa_4: 0.0</br>cp_1: 1.0</br>cp_2: 0.0</br>cp_3: 0.0</br>restecg_1: 1.0</br>restecg_2: 0.0</br>_original_yhat_: 0.9995338916778564</br>\"],[\"</br>id: 108</br>prediction: 0.998</br>chol: 415.08</br></br>age: 50.0</br>sex: 0.0</br>trtbps: 120.0</br>fbs: 0.0</br>thalachh: 162.0</br>oldpeak: 1.1</br>slp: 2.0</br>thall: 2.0</br>exng_1: 0.0</br>caa_1: 0.0</br>caa_2: 0.0</br>caa_3: 0.0</br>caa_4: 0.0</br>cp_1: 1.0</br>cp_2: 0.0</br>cp_3: 0.0</br>restecg_1: 1.0</br>restecg_2: 0.0</br>_original_yhat_: 0.9995338916778564</br>\"],[\"</br>id: 108</br>prediction: 0.998</br>chol: 419.46</br></br>age: 50.0</br>sex: 0.0</br>trtbps: 120.0</br>fbs: 0.0</br>thalachh: 162.0</br>oldpeak: 1.1</br>slp: 2.0</br>thall: 2.0</br>exng_1: 0.0</br>caa_1: 0.0</br>caa_2: 0.0</br>caa_3: 0.0</br>caa_4: 0.0</br>cp_1: 1.0</br>cp_2: 0.0</br>cp_3: 0.0</br>restecg_1: 1.0</br>restecg_2: 0.0</br>_original_yhat_: 0.9995338916778564</br>\"],[\"</br>id: 108</br>prediction: 0.998</br>chol: 423.84</br></br>age: 50.0</br>sex: 0.0</br>trtbps: 120.0</br>fbs: 0.0</br>thalachh: 162.0</br>oldpeak: 1.1</br>slp: 2.0</br>thall: 2.0</br>exng_1: 0.0</br>caa_1: 0.0</br>caa_2: 0.0</br>caa_3: 0.0</br>caa_4: 0.0</br>cp_1: 1.0</br>cp_2: 0.0</br>cp_3: 0.0</br>restecg_1: 1.0</br>restecg_2: 0.0</br>_original_yhat_: 0.9995338916778564</br>\"],[\"</br>id: 108</br>prediction: 0.998</br>chol: 428.21999999999997</br></br>age: 50.0</br>sex: 0.0</br>trtbps: 120.0</br>fbs: 0.0</br>thalachh: 162.0</br>oldpeak: 1.1</br>slp: 2.0</br>thall: 2.0</br>exng_1: 0.0</br>caa_1: 0.0</br>caa_2: 0.0</br>caa_3: 0.0</br>caa_4: 0.0</br>cp_1: 1.0</br>cp_2: 0.0</br>cp_3: 0.0</br>restecg_1: 1.0</br>restecg_2: 0.0</br>_original_yhat_: 0.9995338916778564</br>\"],[\"</br>id: 108</br>prediction: 0.998</br>chol: 432.59999999999997</br></br>age: 50.0</br>sex: 0.0</br>trtbps: 120.0</br>fbs: 0.0</br>thalachh: 162.0</br>oldpeak: 1.1</br>slp: 2.0</br>thall: 2.0</br>exng_1: 0.0</br>caa_1: 0.0</br>caa_2: 0.0</br>caa_3: 0.0</br>caa_4: 0.0</br>cp_1: 1.0</br>cp_2: 0.0</br>cp_3: 0.0</br>restecg_1: 1.0</br>restecg_2: 0.0</br>_original_yhat_: 0.9995338916778564</br>\"],[\"</br>id: 108</br>prediction: 0.998</br>chol: 436.98</br></br>age: 50.0</br>sex: 0.0</br>trtbps: 120.0</br>fbs: 0.0</br>thalachh: 162.0</br>oldpeak: 1.1</br>slp: 2.0</br>thall: 2.0</br>exng_1: 0.0</br>caa_1: 0.0</br>caa_2: 0.0</br>caa_3: 0.0</br>caa_4: 0.0</br>cp_1: 1.0</br>cp_2: 0.0</br>cp_3: 0.0</br>restecg_1: 1.0</br>restecg_2: 0.0</br>_original_yhat_: 0.9995338916778564</br>\"],[\"</br>id: 108</br>prediction: 0.998</br>chol: 441.36</br></br>age: 50.0</br>sex: 0.0</br>trtbps: 120.0</br>fbs: 0.0</br>thalachh: 162.0</br>oldpeak: 1.1</br>slp: 2.0</br>thall: 2.0</br>exng_1: 0.0</br>caa_1: 0.0</br>caa_2: 0.0</br>caa_3: 0.0</br>caa_4: 0.0</br>cp_1: 1.0</br>cp_2: 0.0</br>cp_3: 0.0</br>restecg_1: 1.0</br>restecg_2: 0.0</br>_original_yhat_: 0.9995338916778564</br>\"],[\"</br>id: 108</br>prediction: 0.998</br>chol: 445.74</br></br>age: 50.0</br>sex: 0.0</br>trtbps: 120.0</br>fbs: 0.0</br>thalachh: 162.0</br>oldpeak: 1.1</br>slp: 2.0</br>thall: 2.0</br>exng_1: 0.0</br>caa_1: 0.0</br>caa_2: 0.0</br>caa_3: 0.0</br>caa_4: 0.0</br>cp_1: 1.0</br>cp_2: 0.0</br>cp_3: 0.0</br>restecg_1: 1.0</br>restecg_2: 0.0</br>_original_yhat_: 0.9995338916778564</br>\"],[\"</br>id: 108</br>prediction: 0.998</br>chol: 450.12</br></br>age: 50.0</br>sex: 0.0</br>trtbps: 120.0</br>fbs: 0.0</br>thalachh: 162.0</br>oldpeak: 1.1</br>slp: 2.0</br>thall: 2.0</br>exng_1: 0.0</br>caa_1: 0.0</br>caa_2: 0.0</br>caa_3: 0.0</br>caa_4: 0.0</br>cp_1: 1.0</br>cp_2: 0.0</br>cp_3: 0.0</br>restecg_1: 1.0</br>restecg_2: 0.0</br>_original_yhat_: 0.9995338916778564</br>\"],[\"</br>id: 108</br>prediction: 0.998</br>chol: 454.5</br></br>age: 50.0</br>sex: 0.0</br>trtbps: 120.0</br>fbs: 0.0</br>thalachh: 162.0</br>oldpeak: 1.1</br>slp: 2.0</br>thall: 2.0</br>exng_1: 0.0</br>caa_1: 0.0</br>caa_2: 0.0</br>caa_3: 0.0</br>caa_4: 0.0</br>cp_1: 1.0</br>cp_2: 0.0</br>cp_3: 0.0</br>restecg_1: 1.0</br>restecg_2: 0.0</br>_original_yhat_: 0.9995338916778564</br>\"],[\"</br>id: 108</br>prediction: 0.998</br>chol: 458.88</br></br>age: 50.0</br>sex: 0.0</br>trtbps: 120.0</br>fbs: 0.0</br>thalachh: 162.0</br>oldpeak: 1.1</br>slp: 2.0</br>thall: 2.0</br>exng_1: 0.0</br>caa_1: 0.0</br>caa_2: 0.0</br>caa_3: 0.0</br>caa_4: 0.0</br>cp_1: 1.0</br>cp_2: 0.0</br>cp_3: 0.0</br>restecg_1: 1.0</br>restecg_2: 0.0</br>_original_yhat_: 0.9995338916778564</br>\"],[\"</br>id: 108</br>prediction: 0.998</br>chol: 463.26</br></br>age: 50.0</br>sex: 0.0</br>trtbps: 120.0</br>fbs: 0.0</br>thalachh: 162.0</br>oldpeak: 1.1</br>slp: 2.0</br>thall: 2.0</br>exng_1: 0.0</br>caa_1: 0.0</br>caa_2: 0.0</br>caa_3: 0.0</br>caa_4: 0.0</br>cp_1: 1.0</br>cp_2: 0.0</br>cp_3: 0.0</br>restecg_1: 1.0</br>restecg_2: 0.0</br>_original_yhat_: 0.9995338916778564</br>\"],[\"</br>id: 108</br>prediction: 0.998</br>chol: 467.64</br></br>age: 50.0</br>sex: 0.0</br>trtbps: 120.0</br>fbs: 0.0</br>thalachh: 162.0</br>oldpeak: 1.1</br>slp: 2.0</br>thall: 2.0</br>exng_1: 0.0</br>caa_1: 0.0</br>caa_2: 0.0</br>caa_3: 0.0</br>caa_4: 0.0</br>cp_1: 1.0</br>cp_2: 0.0</br>cp_3: 0.0</br>restecg_1: 1.0</br>restecg_2: 0.0</br>_original_yhat_: 0.9995338916778564</br>\"],[\"</br>id: 108</br>prediction: 0.998</br>chol: 472.02</br></br>age: 50.0</br>sex: 0.0</br>trtbps: 120.0</br>fbs: 0.0</br>thalachh: 162.0</br>oldpeak: 1.1</br>slp: 2.0</br>thall: 2.0</br>exng_1: 0.0</br>caa_1: 0.0</br>caa_2: 0.0</br>caa_3: 0.0</br>caa_4: 0.0</br>cp_1: 1.0</br>cp_2: 0.0</br>cp_3: 0.0</br>restecg_1: 1.0</br>restecg_2: 0.0</br>_original_yhat_: 0.9995338916778564</br>\"],[\"</br>id: 108</br>prediction: 0.998</br>chol: 476.4</br></br>age: 50.0</br>sex: 0.0</br>trtbps: 120.0</br>fbs: 0.0</br>thalachh: 162.0</br>oldpeak: 1.1</br>slp: 2.0</br>thall: 2.0</br>exng_1: 0.0</br>caa_1: 0.0</br>caa_2: 0.0</br>caa_3: 0.0</br>caa_4: 0.0</br>cp_1: 1.0</br>cp_2: 0.0</br>cp_3: 0.0</br>restecg_1: 1.0</br>restecg_2: 0.0</br>_original_yhat_: 0.9995338916778564</br>\"],[\"</br>id: 108</br>prediction: 0.998</br>chol: 480.78</br></br>age: 50.0</br>sex: 0.0</br>trtbps: 120.0</br>fbs: 0.0</br>thalachh: 162.0</br>oldpeak: 1.1</br>slp: 2.0</br>thall: 2.0</br>exng_1: 0.0</br>caa_1: 0.0</br>caa_2: 0.0</br>caa_3: 0.0</br>caa_4: 0.0</br>cp_1: 1.0</br>cp_2: 0.0</br>cp_3: 0.0</br>restecg_1: 1.0</br>restecg_2: 0.0</br>_original_yhat_: 0.9995338916778564</br>\"],[\"</br>id: 108</br>prediction: 0.998</br>chol: 485.15999999999997</br></br>age: 50.0</br>sex: 0.0</br>trtbps: 120.0</br>fbs: 0.0</br>thalachh: 162.0</br>oldpeak: 1.1</br>slp: 2.0</br>thall: 2.0</br>exng_1: 0.0</br>caa_1: 0.0</br>caa_2: 0.0</br>caa_3: 0.0</br>caa_4: 0.0</br>cp_1: 1.0</br>cp_2: 0.0</br>cp_3: 0.0</br>restecg_1: 1.0</br>restecg_2: 0.0</br>_original_yhat_: 0.9995338916778564</br>\"],[\"</br>id: 108</br>prediction: 0.998</br>chol: 489.53999999999996</br></br>age: 50.0</br>sex: 0.0</br>trtbps: 120.0</br>fbs: 0.0</br>thalachh: 162.0</br>oldpeak: 1.1</br>slp: 2.0</br>thall: 2.0</br>exng_1: 0.0</br>caa_1: 0.0</br>caa_2: 0.0</br>caa_3: 0.0</br>caa_4: 0.0</br>cp_1: 1.0</br>cp_2: 0.0</br>cp_3: 0.0</br>restecg_1: 1.0</br>restecg_2: 0.0</br>_original_yhat_: 0.9995338916778564</br>\"],[\"</br>id: 108</br>prediction: 0.998</br>chol: 493.92</br></br>age: 50.0</br>sex: 0.0</br>trtbps: 120.0</br>fbs: 0.0</br>thalachh: 162.0</br>oldpeak: 1.1</br>slp: 2.0</br>thall: 2.0</br>exng_1: 0.0</br>caa_1: 0.0</br>caa_2: 0.0</br>caa_3: 0.0</br>caa_4: 0.0</br>cp_1: 1.0</br>cp_2: 0.0</br>cp_3: 0.0</br>restecg_1: 1.0</br>restecg_2: 0.0</br>_original_yhat_: 0.9995338916778564</br>\"],[\"</br>id: 108</br>prediction: 0.998</br>chol: 498.3</br></br>age: 50.0</br>sex: 0.0</br>trtbps: 120.0</br>fbs: 0.0</br>thalachh: 162.0</br>oldpeak: 1.1</br>slp: 2.0</br>thall: 2.0</br>exng_1: 0.0</br>caa_1: 0.0</br>caa_2: 0.0</br>caa_3: 0.0</br>caa_4: 0.0</br>cp_1: 1.0</br>cp_2: 0.0</br>cp_3: 0.0</br>restecg_1: 1.0</br>restecg_2: 0.0</br>_original_yhat_: 0.9995338916778564</br>\"],[\"</br>id: 108</br>prediction: 0.998</br>chol: 502.68</br></br>age: 50.0</br>sex: 0.0</br>trtbps: 120.0</br>fbs: 0.0</br>thalachh: 162.0</br>oldpeak: 1.1</br>slp: 2.0</br>thall: 2.0</br>exng_1: 0.0</br>caa_1: 0.0</br>caa_2: 0.0</br>caa_3: 0.0</br>caa_4: 0.0</br>cp_1: 1.0</br>cp_2: 0.0</br>cp_3: 0.0</br>restecg_1: 1.0</br>restecg_2: 0.0</br>_original_yhat_: 0.9995338916778564</br>\"],[\"</br>id: 108</br>prediction: 0.998</br>chol: 507.06</br></br>age: 50.0</br>sex: 0.0</br>trtbps: 120.0</br>fbs: 0.0</br>thalachh: 162.0</br>oldpeak: 1.1</br>slp: 2.0</br>thall: 2.0</br>exng_1: 0.0</br>caa_1: 0.0</br>caa_2: 0.0</br>caa_3: 0.0</br>caa_4: 0.0</br>cp_1: 1.0</br>cp_2: 0.0</br>cp_3: 0.0</br>restecg_1: 1.0</br>restecg_2: 0.0</br>_original_yhat_: 0.9995338916778564</br>\"],[\"</br>id: 108</br>prediction: 0.998</br>chol: 511.44</br></br>age: 50.0</br>sex: 0.0</br>trtbps: 120.0</br>fbs: 0.0</br>thalachh: 162.0</br>oldpeak: 1.1</br>slp: 2.0</br>thall: 2.0</br>exng_1: 0.0</br>caa_1: 0.0</br>caa_2: 0.0</br>caa_3: 0.0</br>caa_4: 0.0</br>cp_1: 1.0</br>cp_2: 0.0</br>cp_3: 0.0</br>restecg_1: 1.0</br>restecg_2: 0.0</br>_original_yhat_: 0.9995338916778564</br>\"],[\"</br>id: 108</br>prediction: 0.998</br>chol: 515.8199999999999</br></br>age: 50.0</br>sex: 0.0</br>trtbps: 120.0</br>fbs: 0.0</br>thalachh: 162.0</br>oldpeak: 1.1</br>slp: 2.0</br>thall: 2.0</br>exng_1: 0.0</br>caa_1: 0.0</br>caa_2: 0.0</br>caa_3: 0.0</br>caa_4: 0.0</br>cp_1: 1.0</br>cp_2: 0.0</br>cp_3: 0.0</br>restecg_1: 1.0</br>restecg_2: 0.0</br>_original_yhat_: 0.9995338916778564</br>\"],[\"</br>id: 108</br>prediction: 0.998</br>chol: 520.2</br></br>age: 50.0</br>sex: 0.0</br>trtbps: 120.0</br>fbs: 0.0</br>thalachh: 162.0</br>oldpeak: 1.1</br>slp: 2.0</br>thall: 2.0</br>exng_1: 0.0</br>caa_1: 0.0</br>caa_2: 0.0</br>caa_3: 0.0</br>caa_4: 0.0</br>cp_1: 1.0</br>cp_2: 0.0</br>cp_3: 0.0</br>restecg_1: 1.0</br>restecg_2: 0.0</br>_original_yhat_: 0.9995338916778564</br>\"],[\"</br>id: 108</br>prediction: 0.998</br>chol: 524.5799999999999</br></br>age: 50.0</br>sex: 0.0</br>trtbps: 120.0</br>fbs: 0.0</br>thalachh: 162.0</br>oldpeak: 1.1</br>slp: 2.0</br>thall: 2.0</br>exng_1: 0.0</br>caa_1: 0.0</br>caa_2: 0.0</br>caa_3: 0.0</br>caa_4: 0.0</br>cp_1: 1.0</br>cp_2: 0.0</br>cp_3: 0.0</br>restecg_1: 1.0</br>restecg_2: 0.0</br>_original_yhat_: 0.9995338916778564</br>\"],[\"</br>id: 108</br>prediction: 0.998</br>chol: 528.96</br></br>age: 50.0</br>sex: 0.0</br>trtbps: 120.0</br>fbs: 0.0</br>thalachh: 162.0</br>oldpeak: 1.1</br>slp: 2.0</br>thall: 2.0</br>exng_1: 0.0</br>caa_1: 0.0</br>caa_2: 0.0</br>caa_3: 0.0</br>caa_4: 0.0</br>cp_1: 1.0</br>cp_2: 0.0</br>cp_3: 0.0</br>restecg_1: 1.0</br>restecg_2: 0.0</br>_original_yhat_: 0.9995338916778564</br>\"],[\"</br>id: 108</br>prediction: 0.998</br>chol: 533.3399999999999</br></br>age: 50.0</br>sex: 0.0</br>trtbps: 120.0</br>fbs: 0.0</br>thalachh: 162.0</br>oldpeak: 1.1</br>slp: 2.0</br>thall: 2.0</br>exng_1: 0.0</br>caa_1: 0.0</br>caa_2: 0.0</br>caa_3: 0.0</br>caa_4: 0.0</br>cp_1: 1.0</br>cp_2: 0.0</br>cp_3: 0.0</br>restecg_1: 1.0</br>restecg_2: 0.0</br>_original_yhat_: 0.9995338916778564</br>\"],[\"</br>id: 108</br>prediction: 0.998</br>chol: 537.72</br></br>age: 50.0</br>sex: 0.0</br>trtbps: 120.0</br>fbs: 0.0</br>thalachh: 162.0</br>oldpeak: 1.1</br>slp: 2.0</br>thall: 2.0</br>exng_1: 0.0</br>caa_1: 0.0</br>caa_2: 0.0</br>caa_3: 0.0</br>caa_4: 0.0</br>cp_1: 1.0</br>cp_2: 0.0</br>cp_3: 0.0</br>restecg_1: 1.0</br>restecg_2: 0.0</br>_original_yhat_: 0.9995338916778564</br>\"],[\"</br>id: 108</br>prediction: 0.998</br>chol: 542.0999999999999</br></br>age: 50.0</br>sex: 0.0</br>trtbps: 120.0</br>fbs: 0.0</br>thalachh: 162.0</br>oldpeak: 1.1</br>slp: 2.0</br>thall: 2.0</br>exng_1: 0.0</br>caa_1: 0.0</br>caa_2: 0.0</br>caa_3: 0.0</br>caa_4: 0.0</br>cp_1: 1.0</br>cp_2: 0.0</br>cp_3: 0.0</br>restecg_1: 1.0</br>restecg_2: 0.0</br>_original_yhat_: 0.9995338916778564</br>\"],[\"</br>id: 108</br>prediction: 0.998</br>chol: 546.48</br></br>age: 50.0</br>sex: 0.0</br>trtbps: 120.0</br>fbs: 0.0</br>thalachh: 162.0</br>oldpeak: 1.1</br>slp: 2.0</br>thall: 2.0</br>exng_1: 0.0</br>caa_1: 0.0</br>caa_2: 0.0</br>caa_3: 0.0</br>caa_4: 0.0</br>cp_1: 1.0</br>cp_2: 0.0</br>cp_3: 0.0</br>restecg_1: 1.0</br>restecg_2: 0.0</br>_original_yhat_: 0.9995338916778564</br>\"],[\"</br>id: 108</br>prediction: 0.998</br>chol: 550.86</br></br>age: 50.0</br>sex: 0.0</br>trtbps: 120.0</br>fbs: 0.0</br>thalachh: 162.0</br>oldpeak: 1.1</br>slp: 2.0</br>thall: 2.0</br>exng_1: 0.0</br>caa_1: 0.0</br>caa_2: 0.0</br>caa_3: 0.0</br>caa_4: 0.0</br>cp_1: 1.0</br>cp_2: 0.0</br>cp_3: 0.0</br>restecg_1: 1.0</br>restecg_2: 0.0</br>_original_yhat_: 0.9995338916778564</br>\"],[\"</br>id: 108</br>prediction: 0.998</br>chol: 555.24</br></br>age: 50.0</br>sex: 0.0</br>trtbps: 120.0</br>fbs: 0.0</br>thalachh: 162.0</br>oldpeak: 1.1</br>slp: 2.0</br>thall: 2.0</br>exng_1: 0.0</br>caa_1: 0.0</br>caa_2: 0.0</br>caa_3: 0.0</br>caa_4: 0.0</br>cp_1: 1.0</br>cp_2: 0.0</br>cp_3: 0.0</br>restecg_1: 1.0</br>restecg_2: 0.0</br>_original_yhat_: 0.9995338916778564</br>\"],[\"</br>id: 108</br>prediction: 0.998</br>chol: 559.62</br></br>age: 50.0</br>sex: 0.0</br>trtbps: 120.0</br>fbs: 0.0</br>thalachh: 162.0</br>oldpeak: 1.1</br>slp: 2.0</br>thall: 2.0</br>exng_1: 0.0</br>caa_1: 0.0</br>caa_2: 0.0</br>caa_3: 0.0</br>caa_4: 0.0</br>cp_1: 1.0</br>cp_2: 0.0</br>cp_3: 0.0</br>restecg_1: 1.0</br>restecg_2: 0.0</br>_original_yhat_: 0.9995338916778564</br>\"],[\"</br>id: 108</br>prediction: 0.998</br>chol: 564.0</br></br>age: 50.0</br>sex: 0.0</br>trtbps: 120.0</br>fbs: 0.0</br>thalachh: 162.0</br>oldpeak: 1.1</br>slp: 2.0</br>thall: 2.0</br>exng_1: 0.0</br>caa_1: 0.0</br>caa_2: 0.0</br>caa_3: 0.0</br>caa_4: 0.0</br>cp_1: 1.0</br>cp_2: 0.0</br>cp_3: 0.0</br>restecg_1: 1.0</br>restecg_2: 0.0</br>_original_yhat_: 0.9995338916778564</br>\"]],\"hovertemplate\":\"%{customdata[0]}<extra></extra>\",\"legendgroup\":\"XGBClassifier\",\"line\":{\"color\":\"#46bac2\",\"dash\":\"solid\",\"width\":2},\"marker\":{\"symbol\":\"circle\"},\"mode\":\"lines\",\"name\":\"XGBClassifier\",\"orientation\":\"v\",\"showlegend\":false,\"x\":[126.0,130.38,134.76,139.14,143.52,147.9,152.28,156.66,161.04,165.42000000000002,169.8,174.18,178.56,182.94,187.32,191.7,196.07999999999998,200.45999999999998,204.84,209.22,213.6,217.98000000000002,222.36,226.74,231.12,235.5,239.88,244.0,244.26,248.64,253.01999999999998,257.4,261.78,266.15999999999997,270.53999999999996,274.91999999999996,279.29999999999995,283.0,283.68,288.06,292.44,296.82,301.2,305.58,309.96000000000004,314.34000000000003,318.72,323.1,327.48,331.86,336.24,340.62,345.0,349.38,353.76,358.14,362.52,366.9,371.28,375.65999999999997,380.03999999999996,384.42,388.8,393.18,397.56,401.94,406.32,410.7,415.08,419.46,423.84,428.21999999999997,432.59999999999997,436.98,441.36,445.74,450.12,454.5,458.88,463.26,467.64,472.02,476.4,480.78,485.15999999999997,489.53999999999996,493.92,498.3,502.68,507.06,511.44,515.8199999999999,520.2,524.5799999999999,528.96,533.3399999999999,537.72,542.0999999999999,546.48,550.86,555.24,559.62,564.0],\"xaxis\":\"x2\",\"y\":[0.9997455477714539,0.9997455477714539,0.9997455477714539,0.9997455477714539,0.9997455477714539,0.9997455477714539,0.9997455477714539,0.9997455477714539,0.9997455477714539,0.9997455477714539,0.9997455477714539,0.9997455477714539,0.9997455477714539,0.9997455477714539,0.9997455477714539,0.9997455477714539,0.9997455477714539,0.9997455477714539,0.9997254014015198,0.9997907280921936,0.9997759461402893,0.9997759461402893,0.9996531009674072,0.9993520379066467,0.9992048144340515,0.9993497729301453,0.9992954730987549,0.9995338916778564,0.9995338916778564,0.9995782971382141,0.9995782971382141,0.9995782971382141,0.9997227787971497,0.9997523427009583,0.9997792840003967,0.9996016621589661,0.9996016621589661,0.9996016621589661,0.9996016621589661,0.9996016621589661,0.9996016621589661,0.9996045231819153,0.9994897842407227,0.9994897842407227,0.9994897842407227,0.9994897842407227,0.9988285899162292,0.9988285899162292,0.9988285899162292,0.9983614087104797,0.9983614087104797,0.9983614087104797,0.9983614087104797,0.9983614087104797,0.9983614087104797,0.9983614087104797,0.9983614087104797,0.9983614087104797,0.9983614087104797,0.9983614087104797,0.9983614087104797,0.9983614087104797,0.9983614087104797,0.9983614087104797,0.9983614087104797,0.9983614087104797,0.9983614087104797,0.9983614087104797,0.9983614087104797,0.9983614087104797,0.9983614087104797,0.9983614087104797,0.9983614087104797,0.9983614087104797,0.9983614087104797,0.9983614087104797,0.9983614087104797,0.9983614087104797,0.9983614087104797,0.9983614087104797,0.9983614087104797,0.9983614087104797,0.9983614087104797,0.9983614087104797,0.9983614087104797,0.9983614087104797,0.9983614087104797,0.9983614087104797,0.9983614087104797,0.9983614087104797,0.9983614087104797,0.9983614087104797,0.9983614087104797,0.9983614087104797,0.9983614087104797,0.9983614087104797,0.9983614087104797,0.9983614087104797,0.9983614087104797,0.9983614087104797,0.9983614087104797,0.9983614087104797,0.9983614087104797],\"yaxis\":\"y2\",\"type\":\"scatter\",\"opacity\":1},{\"customdata\":[[\"</br>id: 14</br>prediction: 0.992</br>slp: 2.0</br></br>age: 58.0</br>sex: 0.0</br>trtbps: 150.0</br>chol: 283.0</br>fbs: 1.0</br>thalachh: 162.0</br>oldpeak: 1.0</br>thall: 2.0</br>exng_1: 0.0</br>caa_1: 0.0</br>caa_2: 0.0</br>caa_3: 0.0</br>caa_4: 0.0</br>cp_1: 0.0</br>cp_2: 0.0</br>cp_3: 1.0</br>restecg_1: 0.0</br>restecg_2: 0.0</br>_original_yhat_: 0.9919773936271667</br>\"],[\"</br>id: 108</br>prediction: 1.0</br>slp: 2.0</br></br>age: 50.0</br>sex: 0.0</br>trtbps: 120.0</br>chol: 244.0</br>fbs: 0.0</br>thalachh: 162.0</br>oldpeak: 1.1</br>thall: 2.0</br>exng_1: 0.0</br>caa_1: 0.0</br>caa_2: 0.0</br>caa_3: 0.0</br>caa_4: 0.0</br>cp_1: 1.0</br>cp_2: 0.0</br>cp_3: 0.0</br>restecg_1: 1.0</br>restecg_2: 0.0</br>_original_yhat_: 0.9995338916778564</br>\"]],\"hovertemplate\":\"%{customdata[0]}<extra></extra>\",\"legendgroup\":\"\",\"marker\":{\"color\":\"#371ea3\",\"size\":10,\"symbol\":\"circle\"},\"mode\":\"markers\",\"name\":\"\",\"opacity\":1,\"orientation\":\"v\",\"showlegend\":false,\"x\":[2.0,2.0],\"xaxis\":\"x\",\"y\":[0.9919773936271667,0.9995338916778564],\"yaxis\":\"y\",\"type\":\"scatter\"},{\"customdata\":[[\"</br>id: 14</br>prediction: 0.992</br>chol: 283.0</br></br>age: 58.0</br>sex: 0.0</br>trtbps: 150.0</br>fbs: 1.0</br>thalachh: 162.0</br>oldpeak: 1.0</br>slp: 2.0</br>thall: 2.0</br>exng_1: 0.0</br>caa_1: 0.0</br>caa_2: 0.0</br>caa_3: 0.0</br>caa_4: 0.0</br>cp_1: 0.0</br>cp_2: 0.0</br>cp_3: 1.0</br>restecg_1: 0.0</br>restecg_2: 0.0</br>_original_yhat_: 0.9919773936271667</br>\"],[\"</br>id: 108</br>prediction: 1.0</br>chol: 244.0</br></br>age: 50.0</br>sex: 0.0</br>trtbps: 120.0</br>fbs: 0.0</br>thalachh: 162.0</br>oldpeak: 1.1</br>slp: 2.0</br>thall: 2.0</br>exng_1: 0.0</br>caa_1: 0.0</br>caa_2: 0.0</br>caa_3: 0.0</br>caa_4: 0.0</br>cp_1: 1.0</br>cp_2: 0.0</br>cp_3: 0.0</br>restecg_1: 1.0</br>restecg_2: 0.0</br>_original_yhat_: 0.9995338916778564</br>\"]],\"hovertemplate\":\"%{customdata[0]}<extra></extra>\",\"legendgroup\":\"\",\"marker\":{\"color\":\"#371ea3\",\"size\":10,\"symbol\":\"circle\"},\"mode\":\"markers\",\"name\":\"\",\"opacity\":1,\"orientation\":\"v\",\"showlegend\":false,\"x\":[283.0,244.0],\"xaxis\":\"x2\",\"y\":[0.9919773936271667,0.9995338916778564],\"yaxis\":\"y2\",\"type\":\"scatter\"}],                        {\"template\":{\"data\":{\"scatter\":[{\"type\":\"scatter\"}]}},\"xaxis\":{\"anchor\":\"y\",\"domain\":[0.0,0.475],\"title\":{\"text\":\"\"},\"showticklabels\":true,\"type\":\"linear\",\"gridwidth\":2,\"zeroline\":false,\"automargin\":true,\"ticks\":\"outside\",\"tickcolor\":\"white\",\"ticklen\":3,\"fixedrange\":true},\"yaxis\":{\"anchor\":\"x\",\"domain\":[0.0,1.0],\"title\":{\"text\":\"\"},\"type\":\"linear\",\"gridwidth\":2,\"zeroline\":false,\"automargin\":true,\"ticks\":\"outside\",\"tickcolor\":\"white\",\"ticklen\":3,\"fixedrange\":true,\"range\":[0.8674108386039734,1.0118252635002136]},\"xaxis2\":{\"anchor\":\"y2\",\"domain\":[0.525,1.0],\"title\":{\"text\":\"\"},\"showticklabels\":true,\"type\":\"linear\",\"gridwidth\":2,\"zeroline\":false,\"automargin\":true,\"ticks\":\"outside\",\"tickcolor\":\"white\",\"ticklen\":3,\"fixedrange\":true},\"yaxis2\":{\"anchor\":\"x2\",\"domain\":[0.0,1.0],\"matches\":\"y\",\"showticklabels\":false,\"type\":\"linear\",\"gridwidth\":2,\"zeroline\":false,\"automargin\":true,\"ticks\":\"outside\",\"tickcolor\":\"white\",\"ticklen\":3,\"fixedrange\":true,\"range\":[0.8674108386039734,1.0118252635002136],\"title\":{\"text\":\"\"}},\"annotations\":[{\"font\":{\"size\":13},\"showarrow\":false,\"text\":\"slp\",\"x\":0.2375,\"xanchor\":\"center\",\"xref\":\"paper\",\"y\":1.0,\"yanchor\":\"bottom\",\"yref\":\"paper\"},{\"font\":{\"size\":13},\"showarrow\":false,\"text\":\"chol\",\"x\":0.7625,\"xanchor\":\"center\",\"xref\":\"paper\",\"y\":1.0,\"yanchor\":\"bottom\",\"yref\":\"paper\"},{\"font\":{\"size\":13},\"showarrow\":false,\"text\":\"prediction\",\"textangle\":-90,\"x\":-0.07,\"xref\":\"paper\",\"y\":0.5,\"yref\":\"paper\"}],\"legend\":{\"title\":{\"text\":\"label\",\"font\":{\"size\":12}},\"tracegroupgap\":0,\"font\":{\"size\":11},\"orientation\":\"h\",\"yanchor\":\"bottom\",\"y\":1.0613496932515338,\"xanchor\":\"right\",\"x\":1,\"itemsizing\":\"constant\"},\"margin\":{\"t\":78,\"b\":71,\"r\":30},\"font\":{\"color\":\"#371ea3\"},\"title\":{\"font\":{\"size\":16},\"text\":\"Ceteris Paribus Profiles\",\"x\":0.15},\"hovermode\":\"closest\",\"height\":489,\"hoverlabel\":{\"bgcolor\":\"rgba(0,0,0,0.8)\"}},                        {\"displaylogo\": false, \"staticPlot\": false, \"toImageButtonOptions\": {\"height\": null, \"width\": null}, \"modeBarButtonsToRemove\": [\"sendDataToCloud\", \"lasso2d\", \"autoScale2d\", \"select2d\", \"zoom2d\", \"pan2d\", \"zoomIn2d\", \"zoomOut2d\", \"resetScale2d\", \"toggleSpikelines\", \"hoverCompareCartesian\", \"hoverClosestCartesian\"], \"responsive\": true}                    ).then(function(){\n                            \nvar gd = document.getElementById('30342e74-5d98-4f37-bebc-9c8d24c634e2');\nvar x = new MutationObserver(function (mutations, observer) {{\n        var display = window.getComputedStyle(gd).display;\n        if (!display || display === 'none') {{\n            console.log([gd, 'removed!']);\n            Plotly.purge(gd);\n            observer.disconnect();\n        }}\n}});\n\n// Listen for the removal of the full notebook cells\nvar notebookContainer = gd.closest('#notebook-container');\nif (notebookContainer) {{\n    x.observe(notebookContainer, {childList: true});\n}}\n\n// Listen for the clearing of the current output cell\nvar outputEl = gd.closest('.output');\nif (outputEl) {{\n    x.observe(outputEl, {childList: true});\n}}\n\n                        })                };                });            </script>        </div>"
     },
     "metadata": {},
     "output_type": "display_data"
    }
   ],
   "source": [
    "cp1 = explainer.predict_profile(new_observation=patients)\n",
    "cp1.plot(variables=['slp', 'chol'])"
   ],
   "metadata": {
    "collapsed": false
   }
  },
  {
   "cell_type": "code",
   "execution_count": 55,
   "outputs": [
    {
     "name": "stderr",
     "output_type": "stream",
     "text": [
      "Calculating ceteris paribus: 100%|██████████| 19/19 [00:01<00:00, 13.58it/s]\n"
     ]
    },
    {
     "data": {
      "text/plain": "        _vname_        _label_    _x_    _yhat_  _ids_\n0           age  XGBClassifier  29.00  0.559517      0\n1           age  XGBClassifier  29.48  0.559517      0\n2           age  XGBClassifier  29.96  0.559517      0\n3           age  XGBClassifier  30.44  0.559517      0\n4           age  XGBClassifier  30.92  0.559517      0\n...         ...            ...    ...       ...    ...\n1914  restecg_2  XGBClassifier   0.96  0.543292      0\n1915  restecg_2  XGBClassifier   0.97  0.543292      0\n1916  restecg_2  XGBClassifier   0.98  0.543292      0\n1917  restecg_2  XGBClassifier   0.99  0.543292      0\n1918  restecg_2  XGBClassifier   1.00  0.543292      0\n\n[1919 rows x 5 columns]",
      "text/html": "<div>\n<style scoped>\n    .dataframe tbody tr th:only-of-type {\n        vertical-align: middle;\n    }\n\n    .dataframe tbody tr th {\n        vertical-align: top;\n    }\n\n    .dataframe thead th {\n        text-align: right;\n    }\n</style>\n<table border=\"1\" class=\"dataframe\">\n  <thead>\n    <tr style=\"text-align: right;\">\n      <th></th>\n      <th>_vname_</th>\n      <th>_label_</th>\n      <th>_x_</th>\n      <th>_yhat_</th>\n      <th>_ids_</th>\n    </tr>\n  </thead>\n  <tbody>\n    <tr>\n      <th>0</th>\n      <td>age</td>\n      <td>XGBClassifier</td>\n      <td>29.00</td>\n      <td>0.559517</td>\n      <td>0</td>\n    </tr>\n    <tr>\n      <th>1</th>\n      <td>age</td>\n      <td>XGBClassifier</td>\n      <td>29.48</td>\n      <td>0.559517</td>\n      <td>0</td>\n    </tr>\n    <tr>\n      <th>2</th>\n      <td>age</td>\n      <td>XGBClassifier</td>\n      <td>29.96</td>\n      <td>0.559517</td>\n      <td>0</td>\n    </tr>\n    <tr>\n      <th>3</th>\n      <td>age</td>\n      <td>XGBClassifier</td>\n      <td>30.44</td>\n      <td>0.559517</td>\n      <td>0</td>\n    </tr>\n    <tr>\n      <th>4</th>\n      <td>age</td>\n      <td>XGBClassifier</td>\n      <td>30.92</td>\n      <td>0.559517</td>\n      <td>0</td>\n    </tr>\n    <tr>\n      <th>...</th>\n      <td>...</td>\n      <td>...</td>\n      <td>...</td>\n      <td>...</td>\n      <td>...</td>\n    </tr>\n    <tr>\n      <th>1914</th>\n      <td>restecg_2</td>\n      <td>XGBClassifier</td>\n      <td>0.96</td>\n      <td>0.543292</td>\n      <td>0</td>\n    </tr>\n    <tr>\n      <th>1915</th>\n      <td>restecg_2</td>\n      <td>XGBClassifier</td>\n      <td>0.97</td>\n      <td>0.543292</td>\n      <td>0</td>\n    </tr>\n    <tr>\n      <th>1916</th>\n      <td>restecg_2</td>\n      <td>XGBClassifier</td>\n      <td>0.98</td>\n      <td>0.543292</td>\n      <td>0</td>\n    </tr>\n    <tr>\n      <th>1917</th>\n      <td>restecg_2</td>\n      <td>XGBClassifier</td>\n      <td>0.99</td>\n      <td>0.543292</td>\n      <td>0</td>\n    </tr>\n    <tr>\n      <th>1918</th>\n      <td>restecg_2</td>\n      <td>XGBClassifier</td>\n      <td>1.00</td>\n      <td>0.543292</td>\n      <td>0</td>\n    </tr>\n  </tbody>\n</table>\n<p>1919 rows × 5 columns</p>\n</div>"
     },
     "execution_count": 55,
     "metadata": {},
     "output_type": "execute_result"
    }
   ],
   "source": [
    "pdp = explainer.model_profile()\n",
    "pdp.result"
   ],
   "metadata": {
    "collapsed": false
   }
  },
  {
   "cell_type": "code",
   "execution_count": 57,
   "outputs": [
    {
     "data": {
      "application/vnd.plotly.v1+json": {
       "data": [
        {
         "customdata": [
          [
           0.5432924628257751,
           "XGBClassifier",
           "age"
          ],
          [
           0.5432924628257751,
           "XGBClassifier",
           "age"
          ],
          [
           0.5432924628257751,
           "XGBClassifier",
           "age"
          ],
          [
           0.5432924628257751,
           "XGBClassifier",
           "age"
          ],
          [
           0.5432924628257751,
           "XGBClassifier",
           "age"
          ],
          [
           0.5432924628257751,
           "XGBClassifier",
           "age"
          ],
          [
           0.5432924628257751,
           "XGBClassifier",
           "age"
          ],
          [
           0.5432924628257751,
           "XGBClassifier",
           "age"
          ],
          [
           0.5432924628257751,
           "XGBClassifier",
           "age"
          ],
          [
           0.5432924628257751,
           "XGBClassifier",
           "age"
          ],
          [
           0.5432924628257751,
           "XGBClassifier",
           "age"
          ],
          [
           0.5432924628257751,
           "XGBClassifier",
           "age"
          ],
          [
           0.5432924628257751,
           "XGBClassifier",
           "age"
          ],
          [
           0.5432924628257751,
           "XGBClassifier",
           "age"
          ],
          [
           0.5432924628257751,
           "XGBClassifier",
           "age"
          ],
          [
           0.5432924628257751,
           "XGBClassifier",
           "age"
          ],
          [
           0.5432924628257751,
           "XGBClassifier",
           "age"
          ],
          [
           0.5432924628257751,
           "XGBClassifier",
           "age"
          ],
          [
           0.5432924628257751,
           "XGBClassifier",
           "age"
          ],
          [
           0.5432924628257751,
           "XGBClassifier",
           "age"
          ],
          [
           0.5432924628257751,
           "XGBClassifier",
           "age"
          ],
          [
           0.5432924628257751,
           "XGBClassifier",
           "age"
          ],
          [
           0.5432924628257751,
           "XGBClassifier",
           "age"
          ],
          [
           0.5432924628257751,
           "XGBClassifier",
           "age"
          ],
          [
           0.5432924628257751,
           "XGBClassifier",
           "age"
          ],
          [
           0.5432924628257751,
           "XGBClassifier",
           "age"
          ],
          [
           0.5432924628257751,
           "XGBClassifier",
           "age"
          ],
          [
           0.5432924628257751,
           "XGBClassifier",
           "age"
          ],
          [
           0.5432924628257751,
           "XGBClassifier",
           "age"
          ],
          [
           0.5432924628257751,
           "XGBClassifier",
           "age"
          ],
          [
           0.5432924628257751,
           "XGBClassifier",
           "age"
          ],
          [
           0.5432924628257751,
           "XGBClassifier",
           "age"
          ],
          [
           0.5432924628257751,
           "XGBClassifier",
           "age"
          ],
          [
           0.5432924628257751,
           "XGBClassifier",
           "age"
          ],
          [
           0.5432924628257751,
           "XGBClassifier",
           "age"
          ],
          [
           0.5432924628257751,
           "XGBClassifier",
           "age"
          ],
          [
           0.5432924628257751,
           "XGBClassifier",
           "age"
          ],
          [
           0.5432924628257751,
           "XGBClassifier",
           "age"
          ],
          [
           0.5432924628257751,
           "XGBClassifier",
           "age"
          ],
          [
           0.5432924628257751,
           "XGBClassifier",
           "age"
          ],
          [
           0.5432924628257751,
           "XGBClassifier",
           "age"
          ],
          [
           0.5432924628257751,
           "XGBClassifier",
           "age"
          ],
          [
           0.5432924628257751,
           "XGBClassifier",
           "age"
          ],
          [
           0.5432924628257751,
           "XGBClassifier",
           "age"
          ],
          [
           0.5432924628257751,
           "XGBClassifier",
           "age"
          ],
          [
           0.5432924628257751,
           "XGBClassifier",
           "age"
          ],
          [
           0.5432924628257751,
           "XGBClassifier",
           "age"
          ],
          [
           0.5432924628257751,
           "XGBClassifier",
           "age"
          ],
          [
           0.5432924628257751,
           "XGBClassifier",
           "age"
          ],
          [
           0.5432924628257751,
           "XGBClassifier",
           "age"
          ],
          [
           0.5432924628257751,
           "XGBClassifier",
           "age"
          ],
          [
           0.5432924628257751,
           "XGBClassifier",
           "age"
          ],
          [
           0.5432924628257751,
           "XGBClassifier",
           "age"
          ],
          [
           0.5432924628257751,
           "XGBClassifier",
           "age"
          ],
          [
           0.5432924628257751,
           "XGBClassifier",
           "age"
          ],
          [
           0.5432924628257751,
           "XGBClassifier",
           "age"
          ],
          [
           0.5432924628257751,
           "XGBClassifier",
           "age"
          ],
          [
           0.5432924628257751,
           "XGBClassifier",
           "age"
          ],
          [
           0.5432924628257751,
           "XGBClassifier",
           "age"
          ],
          [
           0.5432924628257751,
           "XGBClassifier",
           "age"
          ],
          [
           0.5432924628257751,
           "XGBClassifier",
           "age"
          ],
          [
           0.5432924628257751,
           "XGBClassifier",
           "age"
          ],
          [
           0.5432924628257751,
           "XGBClassifier",
           "age"
          ],
          [
           0.5432924628257751,
           "XGBClassifier",
           "age"
          ],
          [
           0.5432924628257751,
           "XGBClassifier",
           "age"
          ],
          [
           0.5432924628257751,
           "XGBClassifier",
           "age"
          ],
          [
           0.5432924628257751,
           "XGBClassifier",
           "age"
          ],
          [
           0.5432924628257751,
           "XGBClassifier",
           "age"
          ],
          [
           0.5432924628257751,
           "XGBClassifier",
           "age"
          ],
          [
           0.5432924628257751,
           "XGBClassifier",
           "age"
          ],
          [
           0.5432924628257751,
           "XGBClassifier",
           "age"
          ],
          [
           0.5432924628257751,
           "XGBClassifier",
           "age"
          ],
          [
           0.5432924628257751,
           "XGBClassifier",
           "age"
          ],
          [
           0.5432924628257751,
           "XGBClassifier",
           "age"
          ],
          [
           0.5432924628257751,
           "XGBClassifier",
           "age"
          ],
          [
           0.5432924628257751,
           "XGBClassifier",
           "age"
          ],
          [
           0.5432924628257751,
           "XGBClassifier",
           "age"
          ],
          [
           0.5432924628257751,
           "XGBClassifier",
           "age"
          ],
          [
           0.5432924628257751,
           "XGBClassifier",
           "age"
          ],
          [
           0.5432924628257751,
           "XGBClassifier",
           "age"
          ],
          [
           0.5432924628257751,
           "XGBClassifier",
           "age"
          ],
          [
           0.5432924628257751,
           "XGBClassifier",
           "age"
          ],
          [
           0.5432924628257751,
           "XGBClassifier",
           "age"
          ],
          [
           0.5432924628257751,
           "XGBClassifier",
           "age"
          ],
          [
           0.5432924628257751,
           "XGBClassifier",
           "age"
          ],
          [
           0.5432924628257751,
           "XGBClassifier",
           "age"
          ],
          [
           0.5432924628257751,
           "XGBClassifier",
           "age"
          ],
          [
           0.5432924628257751,
           "XGBClassifier",
           "age"
          ],
          [
           0.5432924628257751,
           "XGBClassifier",
           "age"
          ],
          [
           0.5432924628257751,
           "XGBClassifier",
           "age"
          ],
          [
           0.5432924628257751,
           "XGBClassifier",
           "age"
          ],
          [
           0.5432924628257751,
           "XGBClassifier",
           "age"
          ],
          [
           0.5432924628257751,
           "XGBClassifier",
           "age"
          ],
          [
           0.5432924628257751,
           "XGBClassifier",
           "age"
          ],
          [
           0.5432924628257751,
           "XGBClassifier",
           "age"
          ],
          [
           0.5432924628257751,
           "XGBClassifier",
           "age"
          ],
          [
           0.5432924628257751,
           "XGBClassifier",
           "age"
          ],
          [
           0.5432924628257751,
           "XGBClassifier",
           "age"
          ],
          [
           0.5432924628257751,
           "XGBClassifier",
           "age"
          ],
          [
           0.5432924628257751,
           "XGBClassifier",
           "age"
          ],
          [
           0.5432924628257751,
           "XGBClassifier",
           "age"
          ]
         ],
         "hovertemplate": "<b>%{hovertext}</b><br><br>prediction=%{y:.3f}<br>mean_prediction=%{customdata[0]:.3f}<extra></extra>",
         "hovertext": [
          "XGBClassifier",
          "XGBClassifier",
          "XGBClassifier",
          "XGBClassifier",
          "XGBClassifier",
          "XGBClassifier",
          "XGBClassifier",
          "XGBClassifier",
          "XGBClassifier",
          "XGBClassifier",
          "XGBClassifier",
          "XGBClassifier",
          "XGBClassifier",
          "XGBClassifier",
          "XGBClassifier",
          "XGBClassifier",
          "XGBClassifier",
          "XGBClassifier",
          "XGBClassifier",
          "XGBClassifier",
          "XGBClassifier",
          "XGBClassifier",
          "XGBClassifier",
          "XGBClassifier",
          "XGBClassifier",
          "XGBClassifier",
          "XGBClassifier",
          "XGBClassifier",
          "XGBClassifier",
          "XGBClassifier",
          "XGBClassifier",
          "XGBClassifier",
          "XGBClassifier",
          "XGBClassifier",
          "XGBClassifier",
          "XGBClassifier",
          "XGBClassifier",
          "XGBClassifier",
          "XGBClassifier",
          "XGBClassifier",
          "XGBClassifier",
          "XGBClassifier",
          "XGBClassifier",
          "XGBClassifier",
          "XGBClassifier",
          "XGBClassifier",
          "XGBClassifier",
          "XGBClassifier",
          "XGBClassifier",
          "XGBClassifier",
          "XGBClassifier",
          "XGBClassifier",
          "XGBClassifier",
          "XGBClassifier",
          "XGBClassifier",
          "XGBClassifier",
          "XGBClassifier",
          "XGBClassifier",
          "XGBClassifier",
          "XGBClassifier",
          "XGBClassifier",
          "XGBClassifier",
          "XGBClassifier",
          "XGBClassifier",
          "XGBClassifier",
          "XGBClassifier",
          "XGBClassifier",
          "XGBClassifier",
          "XGBClassifier",
          "XGBClassifier",
          "XGBClassifier",
          "XGBClassifier",
          "XGBClassifier",
          "XGBClassifier",
          "XGBClassifier",
          "XGBClassifier",
          "XGBClassifier",
          "XGBClassifier",
          "XGBClassifier",
          "XGBClassifier",
          "XGBClassifier",
          "XGBClassifier",
          "XGBClassifier",
          "XGBClassifier",
          "XGBClassifier",
          "XGBClassifier",
          "XGBClassifier",
          "XGBClassifier",
          "XGBClassifier",
          "XGBClassifier",
          "XGBClassifier",
          "XGBClassifier",
          "XGBClassifier",
          "XGBClassifier",
          "XGBClassifier",
          "XGBClassifier",
          "XGBClassifier",
          "XGBClassifier",
          "XGBClassifier",
          "XGBClassifier",
          "XGBClassifier"
         ],
         "legendgroup": "XGBClassifier",
         "line": {
          "color": "#46bac2",
          "dash": "solid",
          "width": 2
         },
         "marker": {
          "symbol": "circle"
         },
         "mode": "lines",
         "name": "XGBClassifier",
         "orientation": "v",
         "showlegend": true,
         "x": [
          29.0,
          29.48,
          29.96,
          30.44,
          30.92,
          31.4,
          31.88,
          32.36,
          32.84,
          33.32,
          33.8,
          34.28,
          34.76,
          35.24,
          35.72,
          36.2,
          36.68,
          37.16,
          37.64,
          38.12,
          38.6,
          39.08,
          39.56,
          40.04,
          40.519999999999996,
          41.0,
          41.480000000000004,
          41.96,
          42.44,
          42.92,
          43.4,
          43.879999999999995,
          44.36,
          44.84,
          45.32,
          45.8,
          46.28,
          46.76,
          47.239999999999995,
          47.72,
          48.2,
          48.68,
          49.16,
          49.64,
          50.12,
          50.599999999999994,
          51.08,
          51.56,
          52.04,
          52.519999999999996,
          53.0,
          53.480000000000004,
          53.96,
          54.44,
          54.92,
          55.4,
          55.879999999999995,
          56.36,
          56.84,
          57.32,
          57.8,
          58.28,
          58.76,
          59.239999999999995,
          59.72,
          60.2,
          60.68,
          61.16,
          61.64,
          62.12,
          62.6,
          63.08,
          63.56,
          64.03999999999999,
          64.52,
          65.0,
          65.47999999999999,
          65.96000000000001,
          66.44,
          66.92,
          67.4,
          67.88,
          68.36,
          68.84,
          69.32,
          69.8,
          70.28,
          70.75999999999999,
          71.24,
          71.72,
          72.19999999999999,
          72.68,
          73.16,
          73.64,
          74.12,
          74.6,
          75.08,
          75.56,
          76.03999999999999,
          76.52,
          77.0
         ],
         "xaxis": "x",
         "y": [
          0.5595170855522156,
          0.5595170855522156,
          0.5595170855522156,
          0.5595170855522156,
          0.5595170855522156,
          0.5595170855522156,
          0.5595170855522156,
          0.5595170855522156,
          0.5595170855522156,
          0.5595170855522156,
          0.5595170855522156,
          0.5595170855522156,
          0.5595170855522156,
          0.5595170855522156,
          0.5595170855522156,
          0.5595170855522156,
          0.5595170855522156,
          0.5595170855522156,
          0.5595170855522156,
          0.5595170855522156,
          0.5595170855522156,
          0.5595170855522156,
          0.5595170855522156,
          0.5595170855522156,
          0.5624421238899231,
          0.5624421238899231,
          0.5624421238899231,
          0.5646842122077942,
          0.5646842122077942,
          0.5646842122077942,
          0.5646842122077942,
          0.5646842122077942,
          0.5646842122077942,
          0.5646842122077942,
          0.5646842122077942,
          0.5551941990852356,
          0.5551941990852356,
          0.5470235347747803,
          0.5470235347747803,
          0.5491712689399719,
          0.5491712689399719,
          0.5491712689399719,
          0.5507722496986389,
          0.5571693181991577,
          0.5595619082450867,
          0.5899465084075928,
          0.5899465084075928,
          0.5882051587104797,
          0.5894863605499268,
          0.5973522663116455,
          0.5940709710121155,
          0.5940709710121155,
          0.5940709710121155,
          0.5940709710121155,
          0.5819844603538513,
          0.5819844603538513,
          0.5791517496109009,
          0.5791517496109009,
          0.5419108867645264,
          0.5419108867645264,
          0.48023462295532227,
          0.4793669581413269,
          0.4826168715953827,
          0.4826168715953827,
          0.47604867815971375,
          0.47604867815971375,
          0.47721922397613525,
          0.47721922397613525,
          0.4817861318588257,
          0.4817861318588257,
          0.48858216404914856,
          0.487441748380661,
          0.5402754545211792,
          0.5402754545211792,
          0.5436854958534241,
          0.5436854958534241,
          0.5436854958534241,
          0.5364366769790649,
          0.5364366769790649,
          0.5364366769790649,
          0.5364366769790649,
          0.5364366769790649,
          0.5407859683036804,
          0.5407859683036804,
          0.5407859683036804,
          0.5407859683036804,
          0.5407859683036804,
          0.5407859683036804,
          0.5407859683036804,
          0.5407859683036804,
          0.5407859683036804,
          0.5407859683036804,
          0.5407859683036804,
          0.5407859683036804,
          0.5407859683036804,
          0.5407859683036804,
          0.5407859683036804,
          0.5407859683036804,
          0.5407859683036804,
          0.5407859683036804,
          0.5407859683036804
         ],
         "yaxis": "y",
         "type": "scatter",
         "opacity": 1
        },
        {
         "customdata": [
          [
           0.5432924628257751,
           "XGBClassifier",
           "sex"
          ],
          [
           0.5432924628257751,
           "XGBClassifier",
           "sex"
          ],
          [
           0.5432924628257751,
           "XGBClassifier",
           "sex"
          ],
          [
           0.5432924628257751,
           "XGBClassifier",
           "sex"
          ],
          [
           0.5432924628257751,
           "XGBClassifier",
           "sex"
          ],
          [
           0.5432924628257751,
           "XGBClassifier",
           "sex"
          ],
          [
           0.5432924628257751,
           "XGBClassifier",
           "sex"
          ],
          [
           0.5432924628257751,
           "XGBClassifier",
           "sex"
          ],
          [
           0.5432924628257751,
           "XGBClassifier",
           "sex"
          ],
          [
           0.5432924628257751,
           "XGBClassifier",
           "sex"
          ],
          [
           0.5432924628257751,
           "XGBClassifier",
           "sex"
          ],
          [
           0.5432924628257751,
           "XGBClassifier",
           "sex"
          ],
          [
           0.5432924628257751,
           "XGBClassifier",
           "sex"
          ],
          [
           0.5432924628257751,
           "XGBClassifier",
           "sex"
          ],
          [
           0.5432924628257751,
           "XGBClassifier",
           "sex"
          ],
          [
           0.5432924628257751,
           "XGBClassifier",
           "sex"
          ],
          [
           0.5432924628257751,
           "XGBClassifier",
           "sex"
          ],
          [
           0.5432924628257751,
           "XGBClassifier",
           "sex"
          ],
          [
           0.5432924628257751,
           "XGBClassifier",
           "sex"
          ],
          [
           0.5432924628257751,
           "XGBClassifier",
           "sex"
          ],
          [
           0.5432924628257751,
           "XGBClassifier",
           "sex"
          ],
          [
           0.5432924628257751,
           "XGBClassifier",
           "sex"
          ],
          [
           0.5432924628257751,
           "XGBClassifier",
           "sex"
          ],
          [
           0.5432924628257751,
           "XGBClassifier",
           "sex"
          ],
          [
           0.5432924628257751,
           "XGBClassifier",
           "sex"
          ],
          [
           0.5432924628257751,
           "XGBClassifier",
           "sex"
          ],
          [
           0.5432924628257751,
           "XGBClassifier",
           "sex"
          ],
          [
           0.5432924628257751,
           "XGBClassifier",
           "sex"
          ],
          [
           0.5432924628257751,
           "XGBClassifier",
           "sex"
          ],
          [
           0.5432924628257751,
           "XGBClassifier",
           "sex"
          ],
          [
           0.5432924628257751,
           "XGBClassifier",
           "sex"
          ],
          [
           0.5432924628257751,
           "XGBClassifier",
           "sex"
          ],
          [
           0.5432924628257751,
           "XGBClassifier",
           "sex"
          ],
          [
           0.5432924628257751,
           "XGBClassifier",
           "sex"
          ],
          [
           0.5432924628257751,
           "XGBClassifier",
           "sex"
          ],
          [
           0.5432924628257751,
           "XGBClassifier",
           "sex"
          ],
          [
           0.5432924628257751,
           "XGBClassifier",
           "sex"
          ],
          [
           0.5432924628257751,
           "XGBClassifier",
           "sex"
          ],
          [
           0.5432924628257751,
           "XGBClassifier",
           "sex"
          ],
          [
           0.5432924628257751,
           "XGBClassifier",
           "sex"
          ],
          [
           0.5432924628257751,
           "XGBClassifier",
           "sex"
          ],
          [
           0.5432924628257751,
           "XGBClassifier",
           "sex"
          ],
          [
           0.5432924628257751,
           "XGBClassifier",
           "sex"
          ],
          [
           0.5432924628257751,
           "XGBClassifier",
           "sex"
          ],
          [
           0.5432924628257751,
           "XGBClassifier",
           "sex"
          ],
          [
           0.5432924628257751,
           "XGBClassifier",
           "sex"
          ],
          [
           0.5432924628257751,
           "XGBClassifier",
           "sex"
          ],
          [
           0.5432924628257751,
           "XGBClassifier",
           "sex"
          ],
          [
           0.5432924628257751,
           "XGBClassifier",
           "sex"
          ],
          [
           0.5432924628257751,
           "XGBClassifier",
           "sex"
          ],
          [
           0.5432924628257751,
           "XGBClassifier",
           "sex"
          ],
          [
           0.5432924628257751,
           "XGBClassifier",
           "sex"
          ],
          [
           0.5432924628257751,
           "XGBClassifier",
           "sex"
          ],
          [
           0.5432924628257751,
           "XGBClassifier",
           "sex"
          ],
          [
           0.5432924628257751,
           "XGBClassifier",
           "sex"
          ],
          [
           0.5432924628257751,
           "XGBClassifier",
           "sex"
          ],
          [
           0.5432924628257751,
           "XGBClassifier",
           "sex"
          ],
          [
           0.5432924628257751,
           "XGBClassifier",
           "sex"
          ],
          [
           0.5432924628257751,
           "XGBClassifier",
           "sex"
          ],
          [
           0.5432924628257751,
           "XGBClassifier",
           "sex"
          ],
          [
           0.5432924628257751,
           "XGBClassifier",
           "sex"
          ],
          [
           0.5432924628257751,
           "XGBClassifier",
           "sex"
          ],
          [
           0.5432924628257751,
           "XGBClassifier",
           "sex"
          ],
          [
           0.5432924628257751,
           "XGBClassifier",
           "sex"
          ],
          [
           0.5432924628257751,
           "XGBClassifier",
           "sex"
          ],
          [
           0.5432924628257751,
           "XGBClassifier",
           "sex"
          ],
          [
           0.5432924628257751,
           "XGBClassifier",
           "sex"
          ],
          [
           0.5432924628257751,
           "XGBClassifier",
           "sex"
          ],
          [
           0.5432924628257751,
           "XGBClassifier",
           "sex"
          ],
          [
           0.5432924628257751,
           "XGBClassifier",
           "sex"
          ],
          [
           0.5432924628257751,
           "XGBClassifier",
           "sex"
          ],
          [
           0.5432924628257751,
           "XGBClassifier",
           "sex"
          ],
          [
           0.5432924628257751,
           "XGBClassifier",
           "sex"
          ],
          [
           0.5432924628257751,
           "XGBClassifier",
           "sex"
          ],
          [
           0.5432924628257751,
           "XGBClassifier",
           "sex"
          ],
          [
           0.5432924628257751,
           "XGBClassifier",
           "sex"
          ],
          [
           0.5432924628257751,
           "XGBClassifier",
           "sex"
          ],
          [
           0.5432924628257751,
           "XGBClassifier",
           "sex"
          ],
          [
           0.5432924628257751,
           "XGBClassifier",
           "sex"
          ],
          [
           0.5432924628257751,
           "XGBClassifier",
           "sex"
          ],
          [
           0.5432924628257751,
           "XGBClassifier",
           "sex"
          ],
          [
           0.5432924628257751,
           "XGBClassifier",
           "sex"
          ],
          [
           0.5432924628257751,
           "XGBClassifier",
           "sex"
          ],
          [
           0.5432924628257751,
           "XGBClassifier",
           "sex"
          ],
          [
           0.5432924628257751,
           "XGBClassifier",
           "sex"
          ],
          [
           0.5432924628257751,
           "XGBClassifier",
           "sex"
          ],
          [
           0.5432924628257751,
           "XGBClassifier",
           "sex"
          ],
          [
           0.5432924628257751,
           "XGBClassifier",
           "sex"
          ],
          [
           0.5432924628257751,
           "XGBClassifier",
           "sex"
          ],
          [
           0.5432924628257751,
           "XGBClassifier",
           "sex"
          ],
          [
           0.5432924628257751,
           "XGBClassifier",
           "sex"
          ],
          [
           0.5432924628257751,
           "XGBClassifier",
           "sex"
          ],
          [
           0.5432924628257751,
           "XGBClassifier",
           "sex"
          ],
          [
           0.5432924628257751,
           "XGBClassifier",
           "sex"
          ],
          [
           0.5432924628257751,
           "XGBClassifier",
           "sex"
          ],
          [
           0.5432924628257751,
           "XGBClassifier",
           "sex"
          ],
          [
           0.5432924628257751,
           "XGBClassifier",
           "sex"
          ],
          [
           0.5432924628257751,
           "XGBClassifier",
           "sex"
          ],
          [
           0.5432924628257751,
           "XGBClassifier",
           "sex"
          ],
          [
           0.5432924628257751,
           "XGBClassifier",
           "sex"
          ],
          [
           0.5432924628257751,
           "XGBClassifier",
           "sex"
          ]
         ],
         "hovertemplate": "<b>%{hovertext}</b><br><br>prediction=%{y:.3f}<br>mean_prediction=%{customdata[0]:.3f}<extra></extra>",
         "hovertext": [
          "XGBClassifier",
          "XGBClassifier",
          "XGBClassifier",
          "XGBClassifier",
          "XGBClassifier",
          "XGBClassifier",
          "XGBClassifier",
          "XGBClassifier",
          "XGBClassifier",
          "XGBClassifier",
          "XGBClassifier",
          "XGBClassifier",
          "XGBClassifier",
          "XGBClassifier",
          "XGBClassifier",
          "XGBClassifier",
          "XGBClassifier",
          "XGBClassifier",
          "XGBClassifier",
          "XGBClassifier",
          "XGBClassifier",
          "XGBClassifier",
          "XGBClassifier",
          "XGBClassifier",
          "XGBClassifier",
          "XGBClassifier",
          "XGBClassifier",
          "XGBClassifier",
          "XGBClassifier",
          "XGBClassifier",
          "XGBClassifier",
          "XGBClassifier",
          "XGBClassifier",
          "XGBClassifier",
          "XGBClassifier",
          "XGBClassifier",
          "XGBClassifier",
          "XGBClassifier",
          "XGBClassifier",
          "XGBClassifier",
          "XGBClassifier",
          "XGBClassifier",
          "XGBClassifier",
          "XGBClassifier",
          "XGBClassifier",
          "XGBClassifier",
          "XGBClassifier",
          "XGBClassifier",
          "XGBClassifier",
          "XGBClassifier",
          "XGBClassifier",
          "XGBClassifier",
          "XGBClassifier",
          "XGBClassifier",
          "XGBClassifier",
          "XGBClassifier",
          "XGBClassifier",
          "XGBClassifier",
          "XGBClassifier",
          "XGBClassifier",
          "XGBClassifier",
          "XGBClassifier",
          "XGBClassifier",
          "XGBClassifier",
          "XGBClassifier",
          "XGBClassifier",
          "XGBClassifier",
          "XGBClassifier",
          "XGBClassifier",
          "XGBClassifier",
          "XGBClassifier",
          "XGBClassifier",
          "XGBClassifier",
          "XGBClassifier",
          "XGBClassifier",
          "XGBClassifier",
          "XGBClassifier",
          "XGBClassifier",
          "XGBClassifier",
          "XGBClassifier",
          "XGBClassifier",
          "XGBClassifier",
          "XGBClassifier",
          "XGBClassifier",
          "XGBClassifier",
          "XGBClassifier",
          "XGBClassifier",
          "XGBClassifier",
          "XGBClassifier",
          "XGBClassifier",
          "XGBClassifier",
          "XGBClassifier",
          "XGBClassifier",
          "XGBClassifier",
          "XGBClassifier",
          "XGBClassifier",
          "XGBClassifier",
          "XGBClassifier",
          "XGBClassifier",
          "XGBClassifier",
          "XGBClassifier"
         ],
         "legendgroup": "XGBClassifier",
         "line": {
          "color": "#46bac2",
          "dash": "solid",
          "width": 2
         },
         "marker": {
          "symbol": "circle"
         },
         "mode": "lines",
         "name": "XGBClassifier",
         "orientation": "v",
         "showlegend": false,
         "x": [
          0.0,
          0.01,
          0.02,
          0.03,
          0.04,
          0.05,
          0.06,
          0.07,
          0.08,
          0.09,
          0.1,
          0.11,
          0.12,
          0.13,
          0.14,
          0.15,
          0.16,
          0.17,
          0.18,
          0.19,
          0.2,
          0.21,
          0.22,
          0.23,
          0.24,
          0.25,
          0.26,
          0.27,
          0.28,
          0.29,
          0.3,
          0.31,
          0.32,
          0.33,
          0.34,
          0.35000000000000003,
          0.36,
          0.37,
          0.38,
          0.39,
          0.4,
          0.41000000000000003,
          0.42,
          0.43,
          0.44,
          0.45,
          0.46,
          0.47000000000000003,
          0.48,
          0.49,
          0.5,
          0.51,
          0.52,
          0.53,
          0.54,
          0.55,
          0.56,
          0.5700000000000001,
          0.58,
          0.59,
          0.6,
          0.61,
          0.62,
          0.63,
          0.64,
          0.65,
          0.66,
          0.67,
          0.68,
          0.6900000000000001,
          0.7000000000000001,
          0.71,
          0.72,
          0.73,
          0.74,
          0.75,
          0.76,
          0.77,
          0.78,
          0.79,
          0.8,
          0.81,
          0.8200000000000001,
          0.8300000000000001,
          0.84,
          0.85,
          0.86,
          0.87,
          0.88,
          0.89,
          0.9,
          0.91,
          0.92,
          0.93,
          0.9400000000000001,
          0.9500000000000001,
          0.96,
          0.97,
          0.98,
          0.99,
          1.0
         ],
         "xaxis": "x2",
         "y": [
          0.61626797914505,
          0.61626797914505,
          0.61626797914505,
          0.61626797914505,
          0.61626797914505,
          0.61626797914505,
          0.61626797914505,
          0.61626797914505,
          0.61626797914505,
          0.61626797914505,
          0.61626797914505,
          0.61626797914505,
          0.61626797914505,
          0.61626797914505,
          0.61626797914505,
          0.61626797914505,
          0.61626797914505,
          0.61626797914505,
          0.61626797914505,
          0.61626797914505,
          0.61626797914505,
          0.61626797914505,
          0.61626797914505,
          0.61626797914505,
          0.61626797914505,
          0.61626797914505,
          0.61626797914505,
          0.61626797914505,
          0.61626797914505,
          0.61626797914505,
          0.61626797914505,
          0.61626797914505,
          0.61626797914505,
          0.61626797914505,
          0.61626797914505,
          0.61626797914505,
          0.61626797914505,
          0.61626797914505,
          0.61626797914505,
          0.61626797914505,
          0.61626797914505,
          0.61626797914505,
          0.61626797914505,
          0.61626797914505,
          0.61626797914505,
          0.61626797914505,
          0.61626797914505,
          0.61626797914505,
          0.61626797914505,
          0.61626797914505,
          0.4885883629322052,
          0.4885883629322052,
          0.4885883629322052,
          0.4885883629322052,
          0.4885883629322052,
          0.4885883629322052,
          0.4885883629322052,
          0.4885883629322052,
          0.4885883629322052,
          0.4885883629322052,
          0.4885883629322052,
          0.4885883629322052,
          0.4885883629322052,
          0.4885883629322052,
          0.4885883629322052,
          0.4885883629322052,
          0.4885883629322052,
          0.4885883629322052,
          0.4885883629322052,
          0.4885883629322052,
          0.4885883629322052,
          0.4885883629322052,
          0.4885883629322052,
          0.4885883629322052,
          0.4885883629322052,
          0.4885883629322052,
          0.4885883629322052,
          0.4885883629322052,
          0.4885883629322052,
          0.4885883629322052,
          0.4885883629322052,
          0.4885883629322052,
          0.4885883629322052,
          0.4885883629322052,
          0.4885883629322052,
          0.4885883629322052,
          0.4885883629322052,
          0.4885883629322052,
          0.4885883629322052,
          0.4885883629322052,
          0.4885883629322052,
          0.4885883629322052,
          0.4885883629322052,
          0.4885883629322052,
          0.4885883629322052,
          0.4885883629322052,
          0.4885883629322052,
          0.4885883629322052,
          0.4885883629322052,
          0.4885883629322052,
          0.4885883629322052
         ],
         "yaxis": "y2",
         "type": "scatter",
         "opacity": 1
        }
       ],
       "layout": {
        "template": {
         "data": {
          "scatter": [
           {
            "type": "scatter"
           }
          ]
         }
        },
        "xaxis": {
         "anchor": "y",
         "domain": [
          0.0,
          0.475
         ],
         "title": {
          "text": ""
         },
         "showticklabels": true,
         "type": "linear",
         "gridwidth": 2,
         "zeroline": false,
         "automargin": true,
         "ticks": "outside",
         "tickcolor": "white",
         "ticklen": 3,
         "fixedrange": true
        },
        "yaxis": {
         "anchor": "x",
         "domain": [
          0.0,
          1.0
         ],
         "title": {
          "text": ""
         },
         "range": [
          0.4620267480611801,
          0.6302899092435836
         ],
         "type": "linear",
         "gridwidth": 2,
         "zeroline": false,
         "automargin": true,
         "ticks": "outside",
         "tickcolor": "white",
         "ticklen": 3,
         "fixedrange": true
        },
        "xaxis2": {
         "anchor": "y2",
         "domain": [
          0.525,
          1.0
         ],
         "title": {
          "text": ""
         },
         "showticklabels": true,
         "type": "linear",
         "gridwidth": 2,
         "zeroline": false,
         "automargin": true,
         "ticks": "outside",
         "tickcolor": "white",
         "ticklen": 3,
         "fixedrange": true
        },
        "yaxis2": {
         "anchor": "x2",
         "domain": [
          0.0,
          1.0
         ],
         "matches": "y",
         "showticklabels": false,
         "type": "linear",
         "gridwidth": 2,
         "zeroline": false,
         "automargin": true,
         "ticks": "outside",
         "tickcolor": "white",
         "ticklen": 3,
         "fixedrange": true,
         "title": {
          "text": ""
         }
        },
        "annotations": [
         {
          "font": {
           "size": 13
          },
          "showarrow": false,
          "text": "age",
          "x": 0.2375,
          "xanchor": "center",
          "xref": "paper",
          "y": 1.0,
          "yanchor": "bottom",
          "yref": "paper"
         },
         {
          "font": {
           "size": 13
          },
          "showarrow": false,
          "text": "sex",
          "x": 0.7625,
          "xanchor": "center",
          "xref": "paper",
          "y": 1.0,
          "yanchor": "bottom",
          "yref": "paper"
         },
         {
          "font": {
           "size": 13
          },
          "showarrow": false,
          "text": "prediction",
          "textangle": -90,
          "x": -0.07,
          "xref": "paper",
          "y": 0.5,
          "yref": "paper"
         }
        ],
        "legend": {
         "title": {
          "text": "label",
          "font": {
           "size": 12
          }
         },
         "tracegroupgap": 0,
         "font": {
          "size": 11
         },
         "orientation": "h",
         "yanchor": "bottom",
         "y": 1.0613496932515338,
         "xanchor": "right",
         "x": 1,
         "itemsizing": "constant"
        },
        "margin": {
         "t": 78,
         "b": 71,
         "r": 30
        },
        "font": {
         "color": "#371ea3"
        },
        "title": {
         "font": {
          "size": 16
         },
         "text": "Aggregated Profiles",
         "x": 0.15
        },
        "hovermode": "x unified",
        "height": 489
       },
       "config": {
        "displaylogo": false,
        "staticPlot": false,
        "toImageButtonOptions": {
         "height": null,
         "width": null
        },
        "modeBarButtonsToRemove": [
         "sendDataToCloud",
         "lasso2d",
         "autoScale2d",
         "select2d",
         "zoom2d",
         "pan2d",
         "zoomIn2d",
         "zoomOut2d",
         "resetScale2d",
         "toggleSpikelines",
         "hoverCompareCartesian",
         "hoverClosestCartesian"
        ],
        "plotlyServerURL": "https://plot.ly"
       }
      },
      "text/html": "<div>                            <div id=\"bd6eb522-74b4-4942-adb3-c02fa021b01f\" class=\"plotly-graph-div\" style=\"height:489px; width:100%;\"></div>            <script type=\"text/javascript\">                require([\"plotly\"], function(Plotly) {                    window.PLOTLYENV=window.PLOTLYENV || {};                                    if (document.getElementById(\"bd6eb522-74b4-4942-adb3-c02fa021b01f\")) {                    Plotly.newPlot(                        \"bd6eb522-74b4-4942-adb3-c02fa021b01f\",                        [{\"customdata\":[[0.5432924628257751,\"XGBClassifier\",\"age\"],[0.5432924628257751,\"XGBClassifier\",\"age\"],[0.5432924628257751,\"XGBClassifier\",\"age\"],[0.5432924628257751,\"XGBClassifier\",\"age\"],[0.5432924628257751,\"XGBClassifier\",\"age\"],[0.5432924628257751,\"XGBClassifier\",\"age\"],[0.5432924628257751,\"XGBClassifier\",\"age\"],[0.5432924628257751,\"XGBClassifier\",\"age\"],[0.5432924628257751,\"XGBClassifier\",\"age\"],[0.5432924628257751,\"XGBClassifier\",\"age\"],[0.5432924628257751,\"XGBClassifier\",\"age\"],[0.5432924628257751,\"XGBClassifier\",\"age\"],[0.5432924628257751,\"XGBClassifier\",\"age\"],[0.5432924628257751,\"XGBClassifier\",\"age\"],[0.5432924628257751,\"XGBClassifier\",\"age\"],[0.5432924628257751,\"XGBClassifier\",\"age\"],[0.5432924628257751,\"XGBClassifier\",\"age\"],[0.5432924628257751,\"XGBClassifier\",\"age\"],[0.5432924628257751,\"XGBClassifier\",\"age\"],[0.5432924628257751,\"XGBClassifier\",\"age\"],[0.5432924628257751,\"XGBClassifier\",\"age\"],[0.5432924628257751,\"XGBClassifier\",\"age\"],[0.5432924628257751,\"XGBClassifier\",\"age\"],[0.5432924628257751,\"XGBClassifier\",\"age\"],[0.5432924628257751,\"XGBClassifier\",\"age\"],[0.5432924628257751,\"XGBClassifier\",\"age\"],[0.5432924628257751,\"XGBClassifier\",\"age\"],[0.5432924628257751,\"XGBClassifier\",\"age\"],[0.5432924628257751,\"XGBClassifier\",\"age\"],[0.5432924628257751,\"XGBClassifier\",\"age\"],[0.5432924628257751,\"XGBClassifier\",\"age\"],[0.5432924628257751,\"XGBClassifier\",\"age\"],[0.5432924628257751,\"XGBClassifier\",\"age\"],[0.5432924628257751,\"XGBClassifier\",\"age\"],[0.5432924628257751,\"XGBClassifier\",\"age\"],[0.5432924628257751,\"XGBClassifier\",\"age\"],[0.5432924628257751,\"XGBClassifier\",\"age\"],[0.5432924628257751,\"XGBClassifier\",\"age\"],[0.5432924628257751,\"XGBClassifier\",\"age\"],[0.5432924628257751,\"XGBClassifier\",\"age\"],[0.5432924628257751,\"XGBClassifier\",\"age\"],[0.5432924628257751,\"XGBClassifier\",\"age\"],[0.5432924628257751,\"XGBClassifier\",\"age\"],[0.5432924628257751,\"XGBClassifier\",\"age\"],[0.5432924628257751,\"XGBClassifier\",\"age\"],[0.5432924628257751,\"XGBClassifier\",\"age\"],[0.5432924628257751,\"XGBClassifier\",\"age\"],[0.5432924628257751,\"XGBClassifier\",\"age\"],[0.5432924628257751,\"XGBClassifier\",\"age\"],[0.5432924628257751,\"XGBClassifier\",\"age\"],[0.5432924628257751,\"XGBClassifier\",\"age\"],[0.5432924628257751,\"XGBClassifier\",\"age\"],[0.5432924628257751,\"XGBClassifier\",\"age\"],[0.5432924628257751,\"XGBClassifier\",\"age\"],[0.5432924628257751,\"XGBClassifier\",\"age\"],[0.5432924628257751,\"XGBClassifier\",\"age\"],[0.5432924628257751,\"XGBClassifier\",\"age\"],[0.5432924628257751,\"XGBClassifier\",\"age\"],[0.5432924628257751,\"XGBClassifier\",\"age\"],[0.5432924628257751,\"XGBClassifier\",\"age\"],[0.5432924628257751,\"XGBClassifier\",\"age\"],[0.5432924628257751,\"XGBClassifier\",\"age\"],[0.5432924628257751,\"XGBClassifier\",\"age\"],[0.5432924628257751,\"XGBClassifier\",\"age\"],[0.5432924628257751,\"XGBClassifier\",\"age\"],[0.5432924628257751,\"XGBClassifier\",\"age\"],[0.5432924628257751,\"XGBClassifier\",\"age\"],[0.5432924628257751,\"XGBClassifier\",\"age\"],[0.5432924628257751,\"XGBClassifier\",\"age\"],[0.5432924628257751,\"XGBClassifier\",\"age\"],[0.5432924628257751,\"XGBClassifier\",\"age\"],[0.5432924628257751,\"XGBClassifier\",\"age\"],[0.5432924628257751,\"XGBClassifier\",\"age\"],[0.5432924628257751,\"XGBClassifier\",\"age\"],[0.5432924628257751,\"XGBClassifier\",\"age\"],[0.5432924628257751,\"XGBClassifier\",\"age\"],[0.5432924628257751,\"XGBClassifier\",\"age\"],[0.5432924628257751,\"XGBClassifier\",\"age\"],[0.5432924628257751,\"XGBClassifier\",\"age\"],[0.5432924628257751,\"XGBClassifier\",\"age\"],[0.5432924628257751,\"XGBClassifier\",\"age\"],[0.5432924628257751,\"XGBClassifier\",\"age\"],[0.5432924628257751,\"XGBClassifier\",\"age\"],[0.5432924628257751,\"XGBClassifier\",\"age\"],[0.5432924628257751,\"XGBClassifier\",\"age\"],[0.5432924628257751,\"XGBClassifier\",\"age\"],[0.5432924628257751,\"XGBClassifier\",\"age\"],[0.5432924628257751,\"XGBClassifier\",\"age\"],[0.5432924628257751,\"XGBClassifier\",\"age\"],[0.5432924628257751,\"XGBClassifier\",\"age\"],[0.5432924628257751,\"XGBClassifier\",\"age\"],[0.5432924628257751,\"XGBClassifier\",\"age\"],[0.5432924628257751,\"XGBClassifier\",\"age\"],[0.5432924628257751,\"XGBClassifier\",\"age\"],[0.5432924628257751,\"XGBClassifier\",\"age\"],[0.5432924628257751,\"XGBClassifier\",\"age\"],[0.5432924628257751,\"XGBClassifier\",\"age\"],[0.5432924628257751,\"XGBClassifier\",\"age\"],[0.5432924628257751,\"XGBClassifier\",\"age\"],[0.5432924628257751,\"XGBClassifier\",\"age\"],[0.5432924628257751,\"XGBClassifier\",\"age\"]],\"hovertemplate\":\"<b>%{hovertext}</b><br><br>prediction=%{y:.3f}<br>mean_prediction=%{customdata[0]:.3f}<extra></extra>\",\"hovertext\":[\"XGBClassifier\",\"XGBClassifier\",\"XGBClassifier\",\"XGBClassifier\",\"XGBClassifier\",\"XGBClassifier\",\"XGBClassifier\",\"XGBClassifier\",\"XGBClassifier\",\"XGBClassifier\",\"XGBClassifier\",\"XGBClassifier\",\"XGBClassifier\",\"XGBClassifier\",\"XGBClassifier\",\"XGBClassifier\",\"XGBClassifier\",\"XGBClassifier\",\"XGBClassifier\",\"XGBClassifier\",\"XGBClassifier\",\"XGBClassifier\",\"XGBClassifier\",\"XGBClassifier\",\"XGBClassifier\",\"XGBClassifier\",\"XGBClassifier\",\"XGBClassifier\",\"XGBClassifier\",\"XGBClassifier\",\"XGBClassifier\",\"XGBClassifier\",\"XGBClassifier\",\"XGBClassifier\",\"XGBClassifier\",\"XGBClassifier\",\"XGBClassifier\",\"XGBClassifier\",\"XGBClassifier\",\"XGBClassifier\",\"XGBClassifier\",\"XGBClassifier\",\"XGBClassifier\",\"XGBClassifier\",\"XGBClassifier\",\"XGBClassifier\",\"XGBClassifier\",\"XGBClassifier\",\"XGBClassifier\",\"XGBClassifier\",\"XGBClassifier\",\"XGBClassifier\",\"XGBClassifier\",\"XGBClassifier\",\"XGBClassifier\",\"XGBClassifier\",\"XGBClassifier\",\"XGBClassifier\",\"XGBClassifier\",\"XGBClassifier\",\"XGBClassifier\",\"XGBClassifier\",\"XGBClassifier\",\"XGBClassifier\",\"XGBClassifier\",\"XGBClassifier\",\"XGBClassifier\",\"XGBClassifier\",\"XGBClassifier\",\"XGBClassifier\",\"XGBClassifier\",\"XGBClassifier\",\"XGBClassifier\",\"XGBClassifier\",\"XGBClassifier\",\"XGBClassifier\",\"XGBClassifier\",\"XGBClassifier\",\"XGBClassifier\",\"XGBClassifier\",\"XGBClassifier\",\"XGBClassifier\",\"XGBClassifier\",\"XGBClassifier\",\"XGBClassifier\",\"XGBClassifier\",\"XGBClassifier\",\"XGBClassifier\",\"XGBClassifier\",\"XGBClassifier\",\"XGBClassifier\",\"XGBClassifier\",\"XGBClassifier\",\"XGBClassifier\",\"XGBClassifier\",\"XGBClassifier\",\"XGBClassifier\",\"XGBClassifier\",\"XGBClassifier\",\"XGBClassifier\",\"XGBClassifier\"],\"legendgroup\":\"XGBClassifier\",\"line\":{\"color\":\"#46bac2\",\"dash\":\"solid\",\"width\":2},\"marker\":{\"symbol\":\"circle\"},\"mode\":\"lines\",\"name\":\"XGBClassifier\",\"orientation\":\"v\",\"showlegend\":true,\"x\":[29.0,29.48,29.96,30.44,30.92,31.4,31.88,32.36,32.84,33.32,33.8,34.28,34.76,35.24,35.72,36.2,36.68,37.16,37.64,38.12,38.6,39.08,39.56,40.04,40.519999999999996,41.0,41.480000000000004,41.96,42.44,42.92,43.4,43.879999999999995,44.36,44.84,45.32,45.8,46.28,46.76,47.239999999999995,47.72,48.2,48.68,49.16,49.64,50.12,50.599999999999994,51.08,51.56,52.04,52.519999999999996,53.0,53.480000000000004,53.96,54.44,54.92,55.4,55.879999999999995,56.36,56.84,57.32,57.8,58.28,58.76,59.239999999999995,59.72,60.2,60.68,61.16,61.64,62.12,62.6,63.08,63.56,64.03999999999999,64.52,65.0,65.47999999999999,65.96000000000001,66.44,66.92,67.4,67.88,68.36,68.84,69.32,69.8,70.28,70.75999999999999,71.24,71.72,72.19999999999999,72.68,73.16,73.64,74.12,74.6,75.08,75.56,76.03999999999999,76.52,77.0],\"xaxis\":\"x\",\"y\":[0.5595170855522156,0.5595170855522156,0.5595170855522156,0.5595170855522156,0.5595170855522156,0.5595170855522156,0.5595170855522156,0.5595170855522156,0.5595170855522156,0.5595170855522156,0.5595170855522156,0.5595170855522156,0.5595170855522156,0.5595170855522156,0.5595170855522156,0.5595170855522156,0.5595170855522156,0.5595170855522156,0.5595170855522156,0.5595170855522156,0.5595170855522156,0.5595170855522156,0.5595170855522156,0.5595170855522156,0.5624421238899231,0.5624421238899231,0.5624421238899231,0.5646842122077942,0.5646842122077942,0.5646842122077942,0.5646842122077942,0.5646842122077942,0.5646842122077942,0.5646842122077942,0.5646842122077942,0.5551941990852356,0.5551941990852356,0.5470235347747803,0.5470235347747803,0.5491712689399719,0.5491712689399719,0.5491712689399719,0.5507722496986389,0.5571693181991577,0.5595619082450867,0.5899465084075928,0.5899465084075928,0.5882051587104797,0.5894863605499268,0.5973522663116455,0.5940709710121155,0.5940709710121155,0.5940709710121155,0.5940709710121155,0.5819844603538513,0.5819844603538513,0.5791517496109009,0.5791517496109009,0.5419108867645264,0.5419108867645264,0.48023462295532227,0.4793669581413269,0.4826168715953827,0.4826168715953827,0.47604867815971375,0.47604867815971375,0.47721922397613525,0.47721922397613525,0.4817861318588257,0.4817861318588257,0.48858216404914856,0.487441748380661,0.5402754545211792,0.5402754545211792,0.5436854958534241,0.5436854958534241,0.5436854958534241,0.5364366769790649,0.5364366769790649,0.5364366769790649,0.5364366769790649,0.5364366769790649,0.5407859683036804,0.5407859683036804,0.5407859683036804,0.5407859683036804,0.5407859683036804,0.5407859683036804,0.5407859683036804,0.5407859683036804,0.5407859683036804,0.5407859683036804,0.5407859683036804,0.5407859683036804,0.5407859683036804,0.5407859683036804,0.5407859683036804,0.5407859683036804,0.5407859683036804,0.5407859683036804,0.5407859683036804],\"yaxis\":\"y\",\"type\":\"scatter\",\"opacity\":1},{\"customdata\":[[0.5432924628257751,\"XGBClassifier\",\"sex\"],[0.5432924628257751,\"XGBClassifier\",\"sex\"],[0.5432924628257751,\"XGBClassifier\",\"sex\"],[0.5432924628257751,\"XGBClassifier\",\"sex\"],[0.5432924628257751,\"XGBClassifier\",\"sex\"],[0.5432924628257751,\"XGBClassifier\",\"sex\"],[0.5432924628257751,\"XGBClassifier\",\"sex\"],[0.5432924628257751,\"XGBClassifier\",\"sex\"],[0.5432924628257751,\"XGBClassifier\",\"sex\"],[0.5432924628257751,\"XGBClassifier\",\"sex\"],[0.5432924628257751,\"XGBClassifier\",\"sex\"],[0.5432924628257751,\"XGBClassifier\",\"sex\"],[0.5432924628257751,\"XGBClassifier\",\"sex\"],[0.5432924628257751,\"XGBClassifier\",\"sex\"],[0.5432924628257751,\"XGBClassifier\",\"sex\"],[0.5432924628257751,\"XGBClassifier\",\"sex\"],[0.5432924628257751,\"XGBClassifier\",\"sex\"],[0.5432924628257751,\"XGBClassifier\",\"sex\"],[0.5432924628257751,\"XGBClassifier\",\"sex\"],[0.5432924628257751,\"XGBClassifier\",\"sex\"],[0.5432924628257751,\"XGBClassifier\",\"sex\"],[0.5432924628257751,\"XGBClassifier\",\"sex\"],[0.5432924628257751,\"XGBClassifier\",\"sex\"],[0.5432924628257751,\"XGBClassifier\",\"sex\"],[0.5432924628257751,\"XGBClassifier\",\"sex\"],[0.5432924628257751,\"XGBClassifier\",\"sex\"],[0.5432924628257751,\"XGBClassifier\",\"sex\"],[0.5432924628257751,\"XGBClassifier\",\"sex\"],[0.5432924628257751,\"XGBClassifier\",\"sex\"],[0.5432924628257751,\"XGBClassifier\",\"sex\"],[0.5432924628257751,\"XGBClassifier\",\"sex\"],[0.5432924628257751,\"XGBClassifier\",\"sex\"],[0.5432924628257751,\"XGBClassifier\",\"sex\"],[0.5432924628257751,\"XGBClassifier\",\"sex\"],[0.5432924628257751,\"XGBClassifier\",\"sex\"],[0.5432924628257751,\"XGBClassifier\",\"sex\"],[0.5432924628257751,\"XGBClassifier\",\"sex\"],[0.5432924628257751,\"XGBClassifier\",\"sex\"],[0.5432924628257751,\"XGBClassifier\",\"sex\"],[0.5432924628257751,\"XGBClassifier\",\"sex\"],[0.5432924628257751,\"XGBClassifier\",\"sex\"],[0.5432924628257751,\"XGBClassifier\",\"sex\"],[0.5432924628257751,\"XGBClassifier\",\"sex\"],[0.5432924628257751,\"XGBClassifier\",\"sex\"],[0.5432924628257751,\"XGBClassifier\",\"sex\"],[0.5432924628257751,\"XGBClassifier\",\"sex\"],[0.5432924628257751,\"XGBClassifier\",\"sex\"],[0.5432924628257751,\"XGBClassifier\",\"sex\"],[0.5432924628257751,\"XGBClassifier\",\"sex\"],[0.5432924628257751,\"XGBClassifier\",\"sex\"],[0.5432924628257751,\"XGBClassifier\",\"sex\"],[0.5432924628257751,\"XGBClassifier\",\"sex\"],[0.5432924628257751,\"XGBClassifier\",\"sex\"],[0.5432924628257751,\"XGBClassifier\",\"sex\"],[0.5432924628257751,\"XGBClassifier\",\"sex\"],[0.5432924628257751,\"XGBClassifier\",\"sex\"],[0.5432924628257751,\"XGBClassifier\",\"sex\"],[0.5432924628257751,\"XGBClassifier\",\"sex\"],[0.5432924628257751,\"XGBClassifier\",\"sex\"],[0.5432924628257751,\"XGBClassifier\",\"sex\"],[0.5432924628257751,\"XGBClassifier\",\"sex\"],[0.5432924628257751,\"XGBClassifier\",\"sex\"],[0.5432924628257751,\"XGBClassifier\",\"sex\"],[0.5432924628257751,\"XGBClassifier\",\"sex\"],[0.5432924628257751,\"XGBClassifier\",\"sex\"],[0.5432924628257751,\"XGBClassifier\",\"sex\"],[0.5432924628257751,\"XGBClassifier\",\"sex\"],[0.5432924628257751,\"XGBClassifier\",\"sex\"],[0.5432924628257751,\"XGBClassifier\",\"sex\"],[0.5432924628257751,\"XGBClassifier\",\"sex\"],[0.5432924628257751,\"XGBClassifier\",\"sex\"],[0.5432924628257751,\"XGBClassifier\",\"sex\"],[0.5432924628257751,\"XGBClassifier\",\"sex\"],[0.5432924628257751,\"XGBClassifier\",\"sex\"],[0.5432924628257751,\"XGBClassifier\",\"sex\"],[0.5432924628257751,\"XGBClassifier\",\"sex\"],[0.5432924628257751,\"XGBClassifier\",\"sex\"],[0.5432924628257751,\"XGBClassifier\",\"sex\"],[0.5432924628257751,\"XGBClassifier\",\"sex\"],[0.5432924628257751,\"XGBClassifier\",\"sex\"],[0.5432924628257751,\"XGBClassifier\",\"sex\"],[0.5432924628257751,\"XGBClassifier\",\"sex\"],[0.5432924628257751,\"XGBClassifier\",\"sex\"],[0.5432924628257751,\"XGBClassifier\",\"sex\"],[0.5432924628257751,\"XGBClassifier\",\"sex\"],[0.5432924628257751,\"XGBClassifier\",\"sex\"],[0.5432924628257751,\"XGBClassifier\",\"sex\"],[0.5432924628257751,\"XGBClassifier\",\"sex\"],[0.5432924628257751,\"XGBClassifier\",\"sex\"],[0.5432924628257751,\"XGBClassifier\",\"sex\"],[0.5432924628257751,\"XGBClassifier\",\"sex\"],[0.5432924628257751,\"XGBClassifier\",\"sex\"],[0.5432924628257751,\"XGBClassifier\",\"sex\"],[0.5432924628257751,\"XGBClassifier\",\"sex\"],[0.5432924628257751,\"XGBClassifier\",\"sex\"],[0.5432924628257751,\"XGBClassifier\",\"sex\"],[0.5432924628257751,\"XGBClassifier\",\"sex\"],[0.5432924628257751,\"XGBClassifier\",\"sex\"],[0.5432924628257751,\"XGBClassifier\",\"sex\"],[0.5432924628257751,\"XGBClassifier\",\"sex\"],[0.5432924628257751,\"XGBClassifier\",\"sex\"]],\"hovertemplate\":\"<b>%{hovertext}</b><br><br>prediction=%{y:.3f}<br>mean_prediction=%{customdata[0]:.3f}<extra></extra>\",\"hovertext\":[\"XGBClassifier\",\"XGBClassifier\",\"XGBClassifier\",\"XGBClassifier\",\"XGBClassifier\",\"XGBClassifier\",\"XGBClassifier\",\"XGBClassifier\",\"XGBClassifier\",\"XGBClassifier\",\"XGBClassifier\",\"XGBClassifier\",\"XGBClassifier\",\"XGBClassifier\",\"XGBClassifier\",\"XGBClassifier\",\"XGBClassifier\",\"XGBClassifier\",\"XGBClassifier\",\"XGBClassifier\",\"XGBClassifier\",\"XGBClassifier\",\"XGBClassifier\",\"XGBClassifier\",\"XGBClassifier\",\"XGBClassifier\",\"XGBClassifier\",\"XGBClassifier\",\"XGBClassifier\",\"XGBClassifier\",\"XGBClassifier\",\"XGBClassifier\",\"XGBClassifier\",\"XGBClassifier\",\"XGBClassifier\",\"XGBClassifier\",\"XGBClassifier\",\"XGBClassifier\",\"XGBClassifier\",\"XGBClassifier\",\"XGBClassifier\",\"XGBClassifier\",\"XGBClassifier\",\"XGBClassifier\",\"XGBClassifier\",\"XGBClassifier\",\"XGBClassifier\",\"XGBClassifier\",\"XGBClassifier\",\"XGBClassifier\",\"XGBClassifier\",\"XGBClassifier\",\"XGBClassifier\",\"XGBClassifier\",\"XGBClassifier\",\"XGBClassifier\",\"XGBClassifier\",\"XGBClassifier\",\"XGBClassifier\",\"XGBClassifier\",\"XGBClassifier\",\"XGBClassifier\",\"XGBClassifier\",\"XGBClassifier\",\"XGBClassifier\",\"XGBClassifier\",\"XGBClassifier\",\"XGBClassifier\",\"XGBClassifier\",\"XGBClassifier\",\"XGBClassifier\",\"XGBClassifier\",\"XGBClassifier\",\"XGBClassifier\",\"XGBClassifier\",\"XGBClassifier\",\"XGBClassifier\",\"XGBClassifier\",\"XGBClassifier\",\"XGBClassifier\",\"XGBClassifier\",\"XGBClassifier\",\"XGBClassifier\",\"XGBClassifier\",\"XGBClassifier\",\"XGBClassifier\",\"XGBClassifier\",\"XGBClassifier\",\"XGBClassifier\",\"XGBClassifier\",\"XGBClassifier\",\"XGBClassifier\",\"XGBClassifier\",\"XGBClassifier\",\"XGBClassifier\",\"XGBClassifier\",\"XGBClassifier\",\"XGBClassifier\",\"XGBClassifier\",\"XGBClassifier\",\"XGBClassifier\"],\"legendgroup\":\"XGBClassifier\",\"line\":{\"color\":\"#46bac2\",\"dash\":\"solid\",\"width\":2},\"marker\":{\"symbol\":\"circle\"},\"mode\":\"lines\",\"name\":\"XGBClassifier\",\"orientation\":\"v\",\"showlegend\":false,\"x\":[0.0,0.01,0.02,0.03,0.04,0.05,0.06,0.07,0.08,0.09,0.1,0.11,0.12,0.13,0.14,0.15,0.16,0.17,0.18,0.19,0.2,0.21,0.22,0.23,0.24,0.25,0.26,0.27,0.28,0.29,0.3,0.31,0.32,0.33,0.34,0.35000000000000003,0.36,0.37,0.38,0.39,0.4,0.41000000000000003,0.42,0.43,0.44,0.45,0.46,0.47000000000000003,0.48,0.49,0.5,0.51,0.52,0.53,0.54,0.55,0.56,0.5700000000000001,0.58,0.59,0.6,0.61,0.62,0.63,0.64,0.65,0.66,0.67,0.68,0.6900000000000001,0.7000000000000001,0.71,0.72,0.73,0.74,0.75,0.76,0.77,0.78,0.79,0.8,0.81,0.8200000000000001,0.8300000000000001,0.84,0.85,0.86,0.87,0.88,0.89,0.9,0.91,0.92,0.93,0.9400000000000001,0.9500000000000001,0.96,0.97,0.98,0.99,1.0],\"xaxis\":\"x2\",\"y\":[0.61626797914505,0.61626797914505,0.61626797914505,0.61626797914505,0.61626797914505,0.61626797914505,0.61626797914505,0.61626797914505,0.61626797914505,0.61626797914505,0.61626797914505,0.61626797914505,0.61626797914505,0.61626797914505,0.61626797914505,0.61626797914505,0.61626797914505,0.61626797914505,0.61626797914505,0.61626797914505,0.61626797914505,0.61626797914505,0.61626797914505,0.61626797914505,0.61626797914505,0.61626797914505,0.61626797914505,0.61626797914505,0.61626797914505,0.61626797914505,0.61626797914505,0.61626797914505,0.61626797914505,0.61626797914505,0.61626797914505,0.61626797914505,0.61626797914505,0.61626797914505,0.61626797914505,0.61626797914505,0.61626797914505,0.61626797914505,0.61626797914505,0.61626797914505,0.61626797914505,0.61626797914505,0.61626797914505,0.61626797914505,0.61626797914505,0.61626797914505,0.4885883629322052,0.4885883629322052,0.4885883629322052,0.4885883629322052,0.4885883629322052,0.4885883629322052,0.4885883629322052,0.4885883629322052,0.4885883629322052,0.4885883629322052,0.4885883629322052,0.4885883629322052,0.4885883629322052,0.4885883629322052,0.4885883629322052,0.4885883629322052,0.4885883629322052,0.4885883629322052,0.4885883629322052,0.4885883629322052,0.4885883629322052,0.4885883629322052,0.4885883629322052,0.4885883629322052,0.4885883629322052,0.4885883629322052,0.4885883629322052,0.4885883629322052,0.4885883629322052,0.4885883629322052,0.4885883629322052,0.4885883629322052,0.4885883629322052,0.4885883629322052,0.4885883629322052,0.4885883629322052,0.4885883629322052,0.4885883629322052,0.4885883629322052,0.4885883629322052,0.4885883629322052,0.4885883629322052,0.4885883629322052,0.4885883629322052,0.4885883629322052,0.4885883629322052,0.4885883629322052,0.4885883629322052,0.4885883629322052,0.4885883629322052,0.4885883629322052],\"yaxis\":\"y2\",\"type\":\"scatter\",\"opacity\":1}],                        {\"template\":{\"data\":{\"scatter\":[{\"type\":\"scatter\"}]}},\"xaxis\":{\"anchor\":\"y\",\"domain\":[0.0,0.475],\"title\":{\"text\":\"\"},\"showticklabels\":true,\"type\":\"linear\",\"gridwidth\":2,\"zeroline\":false,\"automargin\":true,\"ticks\":\"outside\",\"tickcolor\":\"white\",\"ticklen\":3,\"fixedrange\":true},\"yaxis\":{\"anchor\":\"x\",\"domain\":[0.0,1.0],\"title\":{\"text\":\"\"},\"range\":[0.4620267480611801,0.6302899092435836],\"type\":\"linear\",\"gridwidth\":2,\"zeroline\":false,\"automargin\":true,\"ticks\":\"outside\",\"tickcolor\":\"white\",\"ticklen\":3,\"fixedrange\":true},\"xaxis2\":{\"anchor\":\"y2\",\"domain\":[0.525,1.0],\"title\":{\"text\":\"\"},\"showticklabels\":true,\"type\":\"linear\",\"gridwidth\":2,\"zeroline\":false,\"automargin\":true,\"ticks\":\"outside\",\"tickcolor\":\"white\",\"ticklen\":3,\"fixedrange\":true},\"yaxis2\":{\"anchor\":\"x2\",\"domain\":[0.0,1.0],\"matches\":\"y\",\"showticklabels\":false,\"type\":\"linear\",\"gridwidth\":2,\"zeroline\":false,\"automargin\":true,\"ticks\":\"outside\",\"tickcolor\":\"white\",\"ticklen\":3,\"fixedrange\":true,\"title\":{\"text\":\"\"}},\"annotations\":[{\"font\":{\"size\":13},\"showarrow\":false,\"text\":\"age\",\"x\":0.2375,\"xanchor\":\"center\",\"xref\":\"paper\",\"y\":1.0,\"yanchor\":\"bottom\",\"yref\":\"paper\"},{\"font\":{\"size\":13},\"showarrow\":false,\"text\":\"sex\",\"x\":0.7625,\"xanchor\":\"center\",\"xref\":\"paper\",\"y\":1.0,\"yanchor\":\"bottom\",\"yref\":\"paper\"},{\"font\":{\"size\":13},\"showarrow\":false,\"text\":\"prediction\",\"textangle\":-90,\"x\":-0.07,\"xref\":\"paper\",\"y\":0.5,\"yref\":\"paper\"}],\"legend\":{\"title\":{\"text\":\"label\",\"font\":{\"size\":12}},\"tracegroupgap\":0,\"font\":{\"size\":11},\"orientation\":\"h\",\"yanchor\":\"bottom\",\"y\":1.0613496932515338,\"xanchor\":\"right\",\"x\":1,\"itemsizing\":\"constant\"},\"margin\":{\"t\":78,\"b\":71,\"r\":30},\"font\":{\"color\":\"#371ea3\"},\"title\":{\"font\":{\"size\":16},\"text\":\"Aggregated Profiles\",\"x\":0.15},\"hovermode\":\"x unified\",\"height\":489},                        {\"displaylogo\": false, \"staticPlot\": false, \"toImageButtonOptions\": {\"height\": null, \"width\": null}, \"modeBarButtonsToRemove\": [\"sendDataToCloud\", \"lasso2d\", \"autoScale2d\", \"select2d\", \"zoom2d\", \"pan2d\", \"zoomIn2d\", \"zoomOut2d\", \"resetScale2d\", \"toggleSpikelines\", \"hoverCompareCartesian\", \"hoverClosestCartesian\"], \"responsive\": true}                    ).then(function(){\n                            \nvar gd = document.getElementById('bd6eb522-74b4-4942-adb3-c02fa021b01f');\nvar x = new MutationObserver(function (mutations, observer) {{\n        var display = window.getComputedStyle(gd).display;\n        if (!display || display === 'none') {{\n            console.log([gd, 'removed!']);\n            Plotly.purge(gd);\n            observer.disconnect();\n        }}\n}});\n\n// Listen for the removal of the full notebook cells\nvar notebookContainer = gd.closest('#notebook-container');\nif (notebookContainer) {{\n    x.observe(notebookContainer, {childList: true});\n}}\n\n// Listen for the clearing of the current output cell\nvar outputEl = gd.closest('.output');\nif (outputEl) {{\n    x.observe(outputEl, {childList: true});\n}}\n\n                        })                };                });            </script>        </div>"
     },
     "metadata": {},
     "output_type": "display_data"
    },
    {
     "name": "stderr",
     "output_type": "stream",
     "text": [
      "Calculating ceteris paribus: 100%|██████████| 19/19 [00:00<00:00, 25.24it/s]\n"
     ]
    },
    {
     "data": {
      "application/vnd.plotly.v1+json": {
       "data": [
        {
         "customdata": [
          [
           "</br>id: 14</br>prediction: 0.999</br>age: 29.0</br></br>sex: 0.0</br>trtbps: 150.0</br>chol: 283.0</br>fbs: 1.0</br>thalachh: 162.0</br>oldpeak: 1.0</br>slp: 2.0</br>thall: 2.0</br>exng_1: 0.0</br>caa_1: 0.0</br>caa_2: 0.0</br>caa_3: 0.0</br>caa_4: 0.0</br>cp_1: 0.0</br>cp_2: 0.0</br>cp_3: 1.0</br>restecg_1: 0.0</br>restecg_2: 0.0</br>_original_yhat_: 0.9919773936271667</br>"
          ],
          [
           "</br>id: 14</br>prediction: 0.999</br>age: 29.48</br></br>sex: 0.0</br>trtbps: 150.0</br>chol: 283.0</br>fbs: 1.0</br>thalachh: 162.0</br>oldpeak: 1.0</br>slp: 2.0</br>thall: 2.0</br>exng_1: 0.0</br>caa_1: 0.0</br>caa_2: 0.0</br>caa_3: 0.0</br>caa_4: 0.0</br>cp_1: 0.0</br>cp_2: 0.0</br>cp_3: 1.0</br>restecg_1: 0.0</br>restecg_2: 0.0</br>_original_yhat_: 0.9919773936271667</br>"
          ],
          [
           "</br>id: 14</br>prediction: 0.999</br>age: 29.96</br></br>sex: 0.0</br>trtbps: 150.0</br>chol: 283.0</br>fbs: 1.0</br>thalachh: 162.0</br>oldpeak: 1.0</br>slp: 2.0</br>thall: 2.0</br>exng_1: 0.0</br>caa_1: 0.0</br>caa_2: 0.0</br>caa_3: 0.0</br>caa_4: 0.0</br>cp_1: 0.0</br>cp_2: 0.0</br>cp_3: 1.0</br>restecg_1: 0.0</br>restecg_2: 0.0</br>_original_yhat_: 0.9919773936271667</br>"
          ],
          [
           "</br>id: 14</br>prediction: 0.999</br>age: 30.44</br></br>sex: 0.0</br>trtbps: 150.0</br>chol: 283.0</br>fbs: 1.0</br>thalachh: 162.0</br>oldpeak: 1.0</br>slp: 2.0</br>thall: 2.0</br>exng_1: 0.0</br>caa_1: 0.0</br>caa_2: 0.0</br>caa_3: 0.0</br>caa_4: 0.0</br>cp_1: 0.0</br>cp_2: 0.0</br>cp_3: 1.0</br>restecg_1: 0.0</br>restecg_2: 0.0</br>_original_yhat_: 0.9919773936271667</br>"
          ],
          [
           "</br>id: 14</br>prediction: 0.999</br>age: 30.92</br></br>sex: 0.0</br>trtbps: 150.0</br>chol: 283.0</br>fbs: 1.0</br>thalachh: 162.0</br>oldpeak: 1.0</br>slp: 2.0</br>thall: 2.0</br>exng_1: 0.0</br>caa_1: 0.0</br>caa_2: 0.0</br>caa_3: 0.0</br>caa_4: 0.0</br>cp_1: 0.0</br>cp_2: 0.0</br>cp_3: 1.0</br>restecg_1: 0.0</br>restecg_2: 0.0</br>_original_yhat_: 0.9919773936271667</br>"
          ],
          [
           "</br>id: 14</br>prediction: 0.999</br>age: 31.4</br></br>sex: 0.0</br>trtbps: 150.0</br>chol: 283.0</br>fbs: 1.0</br>thalachh: 162.0</br>oldpeak: 1.0</br>slp: 2.0</br>thall: 2.0</br>exng_1: 0.0</br>caa_1: 0.0</br>caa_2: 0.0</br>caa_3: 0.0</br>caa_4: 0.0</br>cp_1: 0.0</br>cp_2: 0.0</br>cp_3: 1.0</br>restecg_1: 0.0</br>restecg_2: 0.0</br>_original_yhat_: 0.9919773936271667</br>"
          ],
          [
           "</br>id: 14</br>prediction: 0.999</br>age: 31.88</br></br>sex: 0.0</br>trtbps: 150.0</br>chol: 283.0</br>fbs: 1.0</br>thalachh: 162.0</br>oldpeak: 1.0</br>slp: 2.0</br>thall: 2.0</br>exng_1: 0.0</br>caa_1: 0.0</br>caa_2: 0.0</br>caa_3: 0.0</br>caa_4: 0.0</br>cp_1: 0.0</br>cp_2: 0.0</br>cp_3: 1.0</br>restecg_1: 0.0</br>restecg_2: 0.0</br>_original_yhat_: 0.9919773936271667</br>"
          ],
          [
           "</br>id: 14</br>prediction: 0.999</br>age: 32.36</br></br>sex: 0.0</br>trtbps: 150.0</br>chol: 283.0</br>fbs: 1.0</br>thalachh: 162.0</br>oldpeak: 1.0</br>slp: 2.0</br>thall: 2.0</br>exng_1: 0.0</br>caa_1: 0.0</br>caa_2: 0.0</br>caa_3: 0.0</br>caa_4: 0.0</br>cp_1: 0.0</br>cp_2: 0.0</br>cp_3: 1.0</br>restecg_1: 0.0</br>restecg_2: 0.0</br>_original_yhat_: 0.9919773936271667</br>"
          ],
          [
           "</br>id: 14</br>prediction: 0.999</br>age: 32.84</br></br>sex: 0.0</br>trtbps: 150.0</br>chol: 283.0</br>fbs: 1.0</br>thalachh: 162.0</br>oldpeak: 1.0</br>slp: 2.0</br>thall: 2.0</br>exng_1: 0.0</br>caa_1: 0.0</br>caa_2: 0.0</br>caa_3: 0.0</br>caa_4: 0.0</br>cp_1: 0.0</br>cp_2: 0.0</br>cp_3: 1.0</br>restecg_1: 0.0</br>restecg_2: 0.0</br>_original_yhat_: 0.9919773936271667</br>"
          ],
          [
           "</br>id: 14</br>prediction: 0.999</br>age: 33.32</br></br>sex: 0.0</br>trtbps: 150.0</br>chol: 283.0</br>fbs: 1.0</br>thalachh: 162.0</br>oldpeak: 1.0</br>slp: 2.0</br>thall: 2.0</br>exng_1: 0.0</br>caa_1: 0.0</br>caa_2: 0.0</br>caa_3: 0.0</br>caa_4: 0.0</br>cp_1: 0.0</br>cp_2: 0.0</br>cp_3: 1.0</br>restecg_1: 0.0</br>restecg_2: 0.0</br>_original_yhat_: 0.9919773936271667</br>"
          ],
          [
           "</br>id: 14</br>prediction: 0.999</br>age: 33.8</br></br>sex: 0.0</br>trtbps: 150.0</br>chol: 283.0</br>fbs: 1.0</br>thalachh: 162.0</br>oldpeak: 1.0</br>slp: 2.0</br>thall: 2.0</br>exng_1: 0.0</br>caa_1: 0.0</br>caa_2: 0.0</br>caa_3: 0.0</br>caa_4: 0.0</br>cp_1: 0.0</br>cp_2: 0.0</br>cp_3: 1.0</br>restecg_1: 0.0</br>restecg_2: 0.0</br>_original_yhat_: 0.9919773936271667</br>"
          ],
          [
           "</br>id: 14</br>prediction: 0.999</br>age: 34.28</br></br>sex: 0.0</br>trtbps: 150.0</br>chol: 283.0</br>fbs: 1.0</br>thalachh: 162.0</br>oldpeak: 1.0</br>slp: 2.0</br>thall: 2.0</br>exng_1: 0.0</br>caa_1: 0.0</br>caa_2: 0.0</br>caa_3: 0.0</br>caa_4: 0.0</br>cp_1: 0.0</br>cp_2: 0.0</br>cp_3: 1.0</br>restecg_1: 0.0</br>restecg_2: 0.0</br>_original_yhat_: 0.9919773936271667</br>"
          ],
          [
           "</br>id: 14</br>prediction: 0.999</br>age: 34.76</br></br>sex: 0.0</br>trtbps: 150.0</br>chol: 283.0</br>fbs: 1.0</br>thalachh: 162.0</br>oldpeak: 1.0</br>slp: 2.0</br>thall: 2.0</br>exng_1: 0.0</br>caa_1: 0.0</br>caa_2: 0.0</br>caa_3: 0.0</br>caa_4: 0.0</br>cp_1: 0.0</br>cp_2: 0.0</br>cp_3: 1.0</br>restecg_1: 0.0</br>restecg_2: 0.0</br>_original_yhat_: 0.9919773936271667</br>"
          ],
          [
           "</br>id: 14</br>prediction: 0.999</br>age: 35.24</br></br>sex: 0.0</br>trtbps: 150.0</br>chol: 283.0</br>fbs: 1.0</br>thalachh: 162.0</br>oldpeak: 1.0</br>slp: 2.0</br>thall: 2.0</br>exng_1: 0.0</br>caa_1: 0.0</br>caa_2: 0.0</br>caa_3: 0.0</br>caa_4: 0.0</br>cp_1: 0.0</br>cp_2: 0.0</br>cp_3: 1.0</br>restecg_1: 0.0</br>restecg_2: 0.0</br>_original_yhat_: 0.9919773936271667</br>"
          ],
          [
           "</br>id: 14</br>prediction: 0.999</br>age: 35.72</br></br>sex: 0.0</br>trtbps: 150.0</br>chol: 283.0</br>fbs: 1.0</br>thalachh: 162.0</br>oldpeak: 1.0</br>slp: 2.0</br>thall: 2.0</br>exng_1: 0.0</br>caa_1: 0.0</br>caa_2: 0.0</br>caa_3: 0.0</br>caa_4: 0.0</br>cp_1: 0.0</br>cp_2: 0.0</br>cp_3: 1.0</br>restecg_1: 0.0</br>restecg_2: 0.0</br>_original_yhat_: 0.9919773936271667</br>"
          ],
          [
           "</br>id: 14</br>prediction: 0.999</br>age: 36.2</br></br>sex: 0.0</br>trtbps: 150.0</br>chol: 283.0</br>fbs: 1.0</br>thalachh: 162.0</br>oldpeak: 1.0</br>slp: 2.0</br>thall: 2.0</br>exng_1: 0.0</br>caa_1: 0.0</br>caa_2: 0.0</br>caa_3: 0.0</br>caa_4: 0.0</br>cp_1: 0.0</br>cp_2: 0.0</br>cp_3: 1.0</br>restecg_1: 0.0</br>restecg_2: 0.0</br>_original_yhat_: 0.9919773936271667</br>"
          ],
          [
           "</br>id: 14</br>prediction: 0.999</br>age: 36.68</br></br>sex: 0.0</br>trtbps: 150.0</br>chol: 283.0</br>fbs: 1.0</br>thalachh: 162.0</br>oldpeak: 1.0</br>slp: 2.0</br>thall: 2.0</br>exng_1: 0.0</br>caa_1: 0.0</br>caa_2: 0.0</br>caa_3: 0.0</br>caa_4: 0.0</br>cp_1: 0.0</br>cp_2: 0.0</br>cp_3: 1.0</br>restecg_1: 0.0</br>restecg_2: 0.0</br>_original_yhat_: 0.9919773936271667</br>"
          ],
          [
           "</br>id: 14</br>prediction: 0.999</br>age: 37.16</br></br>sex: 0.0</br>trtbps: 150.0</br>chol: 283.0</br>fbs: 1.0</br>thalachh: 162.0</br>oldpeak: 1.0</br>slp: 2.0</br>thall: 2.0</br>exng_1: 0.0</br>caa_1: 0.0</br>caa_2: 0.0</br>caa_3: 0.0</br>caa_4: 0.0</br>cp_1: 0.0</br>cp_2: 0.0</br>cp_3: 1.0</br>restecg_1: 0.0</br>restecg_2: 0.0</br>_original_yhat_: 0.9919773936271667</br>"
          ],
          [
           "</br>id: 14</br>prediction: 0.999</br>age: 37.64</br></br>sex: 0.0</br>trtbps: 150.0</br>chol: 283.0</br>fbs: 1.0</br>thalachh: 162.0</br>oldpeak: 1.0</br>slp: 2.0</br>thall: 2.0</br>exng_1: 0.0</br>caa_1: 0.0</br>caa_2: 0.0</br>caa_3: 0.0</br>caa_4: 0.0</br>cp_1: 0.0</br>cp_2: 0.0</br>cp_3: 1.0</br>restecg_1: 0.0</br>restecg_2: 0.0</br>_original_yhat_: 0.9919773936271667</br>"
          ],
          [
           "</br>id: 14</br>prediction: 0.999</br>age: 38.12</br></br>sex: 0.0</br>trtbps: 150.0</br>chol: 283.0</br>fbs: 1.0</br>thalachh: 162.0</br>oldpeak: 1.0</br>slp: 2.0</br>thall: 2.0</br>exng_1: 0.0</br>caa_1: 0.0</br>caa_2: 0.0</br>caa_3: 0.0</br>caa_4: 0.0</br>cp_1: 0.0</br>cp_2: 0.0</br>cp_3: 1.0</br>restecg_1: 0.0</br>restecg_2: 0.0</br>_original_yhat_: 0.9919773936271667</br>"
          ],
          [
           "</br>id: 14</br>prediction: 0.999</br>age: 38.6</br></br>sex: 0.0</br>trtbps: 150.0</br>chol: 283.0</br>fbs: 1.0</br>thalachh: 162.0</br>oldpeak: 1.0</br>slp: 2.0</br>thall: 2.0</br>exng_1: 0.0</br>caa_1: 0.0</br>caa_2: 0.0</br>caa_3: 0.0</br>caa_4: 0.0</br>cp_1: 0.0</br>cp_2: 0.0</br>cp_3: 1.0</br>restecg_1: 0.0</br>restecg_2: 0.0</br>_original_yhat_: 0.9919773936271667</br>"
          ],
          [
           "</br>id: 14</br>prediction: 0.999</br>age: 39.08</br></br>sex: 0.0</br>trtbps: 150.0</br>chol: 283.0</br>fbs: 1.0</br>thalachh: 162.0</br>oldpeak: 1.0</br>slp: 2.0</br>thall: 2.0</br>exng_1: 0.0</br>caa_1: 0.0</br>caa_2: 0.0</br>caa_3: 0.0</br>caa_4: 0.0</br>cp_1: 0.0</br>cp_2: 0.0</br>cp_3: 1.0</br>restecg_1: 0.0</br>restecg_2: 0.0</br>_original_yhat_: 0.9919773936271667</br>"
          ],
          [
           "</br>id: 14</br>prediction: 0.999</br>age: 39.56</br></br>sex: 0.0</br>trtbps: 150.0</br>chol: 283.0</br>fbs: 1.0</br>thalachh: 162.0</br>oldpeak: 1.0</br>slp: 2.0</br>thall: 2.0</br>exng_1: 0.0</br>caa_1: 0.0</br>caa_2: 0.0</br>caa_3: 0.0</br>caa_4: 0.0</br>cp_1: 0.0</br>cp_2: 0.0</br>cp_3: 1.0</br>restecg_1: 0.0</br>restecg_2: 0.0</br>_original_yhat_: 0.9919773936271667</br>"
          ],
          [
           "</br>id: 14</br>prediction: 0.999</br>age: 40.04</br></br>sex: 0.0</br>trtbps: 150.0</br>chol: 283.0</br>fbs: 1.0</br>thalachh: 162.0</br>oldpeak: 1.0</br>slp: 2.0</br>thall: 2.0</br>exng_1: 0.0</br>caa_1: 0.0</br>caa_2: 0.0</br>caa_3: 0.0</br>caa_4: 0.0</br>cp_1: 0.0</br>cp_2: 0.0</br>cp_3: 1.0</br>restecg_1: 0.0</br>restecg_2: 0.0</br>_original_yhat_: 0.9919773936271667</br>"
          ],
          [
           "</br>id: 14</br>prediction: 0.999</br>age: 40.519999999999996</br></br>sex: 0.0</br>trtbps: 150.0</br>chol: 283.0</br>fbs: 1.0</br>thalachh: 162.0</br>oldpeak: 1.0</br>slp: 2.0</br>thall: 2.0</br>exng_1: 0.0</br>caa_1: 0.0</br>caa_2: 0.0</br>caa_3: 0.0</br>caa_4: 0.0</br>cp_1: 0.0</br>cp_2: 0.0</br>cp_3: 1.0</br>restecg_1: 0.0</br>restecg_2: 0.0</br>_original_yhat_: 0.9919773936271667</br>"
          ],
          [
           "</br>id: 14</br>prediction: 0.999</br>age: 41.0</br></br>sex: 0.0</br>trtbps: 150.0</br>chol: 283.0</br>fbs: 1.0</br>thalachh: 162.0</br>oldpeak: 1.0</br>slp: 2.0</br>thall: 2.0</br>exng_1: 0.0</br>caa_1: 0.0</br>caa_2: 0.0</br>caa_3: 0.0</br>caa_4: 0.0</br>cp_1: 0.0</br>cp_2: 0.0</br>cp_3: 1.0</br>restecg_1: 0.0</br>restecg_2: 0.0</br>_original_yhat_: 0.9919773936271667</br>"
          ],
          [
           "</br>id: 14</br>prediction: 0.999</br>age: 41.480000000000004</br></br>sex: 0.0</br>trtbps: 150.0</br>chol: 283.0</br>fbs: 1.0</br>thalachh: 162.0</br>oldpeak: 1.0</br>slp: 2.0</br>thall: 2.0</br>exng_1: 0.0</br>caa_1: 0.0</br>caa_2: 0.0</br>caa_3: 0.0</br>caa_4: 0.0</br>cp_1: 0.0</br>cp_2: 0.0</br>cp_3: 1.0</br>restecg_1: 0.0</br>restecg_2: 0.0</br>_original_yhat_: 0.9919773936271667</br>"
          ],
          [
           "</br>id: 14</br>prediction: 0.999</br>age: 41.96</br></br>sex: 0.0</br>trtbps: 150.0</br>chol: 283.0</br>fbs: 1.0</br>thalachh: 162.0</br>oldpeak: 1.0</br>slp: 2.0</br>thall: 2.0</br>exng_1: 0.0</br>caa_1: 0.0</br>caa_2: 0.0</br>caa_3: 0.0</br>caa_4: 0.0</br>cp_1: 0.0</br>cp_2: 0.0</br>cp_3: 1.0</br>restecg_1: 0.0</br>restecg_2: 0.0</br>_original_yhat_: 0.9919773936271667</br>"
          ],
          [
           "</br>id: 14</br>prediction: 0.999</br>age: 42.44</br></br>sex: 0.0</br>trtbps: 150.0</br>chol: 283.0</br>fbs: 1.0</br>thalachh: 162.0</br>oldpeak: 1.0</br>slp: 2.0</br>thall: 2.0</br>exng_1: 0.0</br>caa_1: 0.0</br>caa_2: 0.0</br>caa_3: 0.0</br>caa_4: 0.0</br>cp_1: 0.0</br>cp_2: 0.0</br>cp_3: 1.0</br>restecg_1: 0.0</br>restecg_2: 0.0</br>_original_yhat_: 0.9919773936271667</br>"
          ],
          [
           "</br>id: 14</br>prediction: 0.999</br>age: 42.92</br></br>sex: 0.0</br>trtbps: 150.0</br>chol: 283.0</br>fbs: 1.0</br>thalachh: 162.0</br>oldpeak: 1.0</br>slp: 2.0</br>thall: 2.0</br>exng_1: 0.0</br>caa_1: 0.0</br>caa_2: 0.0</br>caa_3: 0.0</br>caa_4: 0.0</br>cp_1: 0.0</br>cp_2: 0.0</br>cp_3: 1.0</br>restecg_1: 0.0</br>restecg_2: 0.0</br>_original_yhat_: 0.9919773936271667</br>"
          ],
          [
           "</br>id: 14</br>prediction: 0.999</br>age: 43.4</br></br>sex: 0.0</br>trtbps: 150.0</br>chol: 283.0</br>fbs: 1.0</br>thalachh: 162.0</br>oldpeak: 1.0</br>slp: 2.0</br>thall: 2.0</br>exng_1: 0.0</br>caa_1: 0.0</br>caa_2: 0.0</br>caa_3: 0.0</br>caa_4: 0.0</br>cp_1: 0.0</br>cp_2: 0.0</br>cp_3: 1.0</br>restecg_1: 0.0</br>restecg_2: 0.0</br>_original_yhat_: 0.9919773936271667</br>"
          ],
          [
           "</br>id: 14</br>prediction: 0.999</br>age: 43.879999999999995</br></br>sex: 0.0</br>trtbps: 150.0</br>chol: 283.0</br>fbs: 1.0</br>thalachh: 162.0</br>oldpeak: 1.0</br>slp: 2.0</br>thall: 2.0</br>exng_1: 0.0</br>caa_1: 0.0</br>caa_2: 0.0</br>caa_3: 0.0</br>caa_4: 0.0</br>cp_1: 0.0</br>cp_2: 0.0</br>cp_3: 1.0</br>restecg_1: 0.0</br>restecg_2: 0.0</br>_original_yhat_: 0.9919773936271667</br>"
          ],
          [
           "</br>id: 14</br>prediction: 0.999</br>age: 44.36</br></br>sex: 0.0</br>trtbps: 150.0</br>chol: 283.0</br>fbs: 1.0</br>thalachh: 162.0</br>oldpeak: 1.0</br>slp: 2.0</br>thall: 2.0</br>exng_1: 0.0</br>caa_1: 0.0</br>caa_2: 0.0</br>caa_3: 0.0</br>caa_4: 0.0</br>cp_1: 0.0</br>cp_2: 0.0</br>cp_3: 1.0</br>restecg_1: 0.0</br>restecg_2: 0.0</br>_original_yhat_: 0.9919773936271667</br>"
          ],
          [
           "</br>id: 14</br>prediction: 0.999</br>age: 44.84</br></br>sex: 0.0</br>trtbps: 150.0</br>chol: 283.0</br>fbs: 1.0</br>thalachh: 162.0</br>oldpeak: 1.0</br>slp: 2.0</br>thall: 2.0</br>exng_1: 0.0</br>caa_1: 0.0</br>caa_2: 0.0</br>caa_3: 0.0</br>caa_4: 0.0</br>cp_1: 0.0</br>cp_2: 0.0</br>cp_3: 1.0</br>restecg_1: 0.0</br>restecg_2: 0.0</br>_original_yhat_: 0.9919773936271667</br>"
          ],
          [
           "</br>id: 14</br>prediction: 0.999</br>age: 45.32</br></br>sex: 0.0</br>trtbps: 150.0</br>chol: 283.0</br>fbs: 1.0</br>thalachh: 162.0</br>oldpeak: 1.0</br>slp: 2.0</br>thall: 2.0</br>exng_1: 0.0</br>caa_1: 0.0</br>caa_2: 0.0</br>caa_3: 0.0</br>caa_4: 0.0</br>cp_1: 0.0</br>cp_2: 0.0</br>cp_3: 1.0</br>restecg_1: 0.0</br>restecg_2: 0.0</br>_original_yhat_: 0.9919773936271667</br>"
          ],
          [
           "</br>id: 14</br>prediction: 0.999</br>age: 45.8</br></br>sex: 0.0</br>trtbps: 150.0</br>chol: 283.0</br>fbs: 1.0</br>thalachh: 162.0</br>oldpeak: 1.0</br>slp: 2.0</br>thall: 2.0</br>exng_1: 0.0</br>caa_1: 0.0</br>caa_2: 0.0</br>caa_3: 0.0</br>caa_4: 0.0</br>cp_1: 0.0</br>cp_2: 0.0</br>cp_3: 1.0</br>restecg_1: 0.0</br>restecg_2: 0.0</br>_original_yhat_: 0.9919773936271667</br>"
          ],
          [
           "</br>id: 14</br>prediction: 0.999</br>age: 46.28</br></br>sex: 0.0</br>trtbps: 150.0</br>chol: 283.0</br>fbs: 1.0</br>thalachh: 162.0</br>oldpeak: 1.0</br>slp: 2.0</br>thall: 2.0</br>exng_1: 0.0</br>caa_1: 0.0</br>caa_2: 0.0</br>caa_3: 0.0</br>caa_4: 0.0</br>cp_1: 0.0</br>cp_2: 0.0</br>cp_3: 1.0</br>restecg_1: 0.0</br>restecg_2: 0.0</br>_original_yhat_: 0.9919773936271667</br>"
          ],
          [
           "</br>id: 14</br>prediction: 0.999</br>age: 46.76</br></br>sex: 0.0</br>trtbps: 150.0</br>chol: 283.0</br>fbs: 1.0</br>thalachh: 162.0</br>oldpeak: 1.0</br>slp: 2.0</br>thall: 2.0</br>exng_1: 0.0</br>caa_1: 0.0</br>caa_2: 0.0</br>caa_3: 0.0</br>caa_4: 0.0</br>cp_1: 0.0</br>cp_2: 0.0</br>cp_3: 1.0</br>restecg_1: 0.0</br>restecg_2: 0.0</br>_original_yhat_: 0.9919773936271667</br>"
          ],
          [
           "</br>id: 14</br>prediction: 0.999</br>age: 47.239999999999995</br></br>sex: 0.0</br>trtbps: 150.0</br>chol: 283.0</br>fbs: 1.0</br>thalachh: 162.0</br>oldpeak: 1.0</br>slp: 2.0</br>thall: 2.0</br>exng_1: 0.0</br>caa_1: 0.0</br>caa_2: 0.0</br>caa_3: 0.0</br>caa_4: 0.0</br>cp_1: 0.0</br>cp_2: 0.0</br>cp_3: 1.0</br>restecg_1: 0.0</br>restecg_2: 0.0</br>_original_yhat_: 0.9919773936271667</br>"
          ],
          [
           "</br>id: 14</br>prediction: 0.999</br>age: 47.72</br></br>sex: 0.0</br>trtbps: 150.0</br>chol: 283.0</br>fbs: 1.0</br>thalachh: 162.0</br>oldpeak: 1.0</br>slp: 2.0</br>thall: 2.0</br>exng_1: 0.0</br>caa_1: 0.0</br>caa_2: 0.0</br>caa_3: 0.0</br>caa_4: 0.0</br>cp_1: 0.0</br>cp_2: 0.0</br>cp_3: 1.0</br>restecg_1: 0.0</br>restecg_2: 0.0</br>_original_yhat_: 0.9919773936271667</br>"
          ],
          [
           "</br>id: 14</br>prediction: 0.999</br>age: 48.2</br></br>sex: 0.0</br>trtbps: 150.0</br>chol: 283.0</br>fbs: 1.0</br>thalachh: 162.0</br>oldpeak: 1.0</br>slp: 2.0</br>thall: 2.0</br>exng_1: 0.0</br>caa_1: 0.0</br>caa_2: 0.0</br>caa_3: 0.0</br>caa_4: 0.0</br>cp_1: 0.0</br>cp_2: 0.0</br>cp_3: 1.0</br>restecg_1: 0.0</br>restecg_2: 0.0</br>_original_yhat_: 0.9919773936271667</br>"
          ],
          [
           "</br>id: 14</br>prediction: 0.999</br>age: 48.68</br></br>sex: 0.0</br>trtbps: 150.0</br>chol: 283.0</br>fbs: 1.0</br>thalachh: 162.0</br>oldpeak: 1.0</br>slp: 2.0</br>thall: 2.0</br>exng_1: 0.0</br>caa_1: 0.0</br>caa_2: 0.0</br>caa_3: 0.0</br>caa_4: 0.0</br>cp_1: 0.0</br>cp_2: 0.0</br>cp_3: 1.0</br>restecg_1: 0.0</br>restecg_2: 0.0</br>_original_yhat_: 0.9919773936271667</br>"
          ],
          [
           "</br>id: 14</br>prediction: 0.999</br>age: 49.16</br></br>sex: 0.0</br>trtbps: 150.0</br>chol: 283.0</br>fbs: 1.0</br>thalachh: 162.0</br>oldpeak: 1.0</br>slp: 2.0</br>thall: 2.0</br>exng_1: 0.0</br>caa_1: 0.0</br>caa_2: 0.0</br>caa_3: 0.0</br>caa_4: 0.0</br>cp_1: 0.0</br>cp_2: 0.0</br>cp_3: 1.0</br>restecg_1: 0.0</br>restecg_2: 0.0</br>_original_yhat_: 0.9919773936271667</br>"
          ],
          [
           "</br>id: 14</br>prediction: 0.999</br>age: 49.64</br></br>sex: 0.0</br>trtbps: 150.0</br>chol: 283.0</br>fbs: 1.0</br>thalachh: 162.0</br>oldpeak: 1.0</br>slp: 2.0</br>thall: 2.0</br>exng_1: 0.0</br>caa_1: 0.0</br>caa_2: 0.0</br>caa_3: 0.0</br>caa_4: 0.0</br>cp_1: 0.0</br>cp_2: 0.0</br>cp_3: 1.0</br>restecg_1: 0.0</br>restecg_2: 0.0</br>_original_yhat_: 0.9919773936271667</br>"
          ],
          [
           "</br>id: 14</br>prediction: 0.999</br>age: 50.12</br></br>sex: 0.0</br>trtbps: 150.0</br>chol: 283.0</br>fbs: 1.0</br>thalachh: 162.0</br>oldpeak: 1.0</br>slp: 2.0</br>thall: 2.0</br>exng_1: 0.0</br>caa_1: 0.0</br>caa_2: 0.0</br>caa_3: 0.0</br>caa_4: 0.0</br>cp_1: 0.0</br>cp_2: 0.0</br>cp_3: 1.0</br>restecg_1: 0.0</br>restecg_2: 0.0</br>_original_yhat_: 0.9919773936271667</br>"
          ],
          [
           "</br>id: 14</br>prediction: 0.999</br>age: 50.599999999999994</br></br>sex: 0.0</br>trtbps: 150.0</br>chol: 283.0</br>fbs: 1.0</br>thalachh: 162.0</br>oldpeak: 1.0</br>slp: 2.0</br>thall: 2.0</br>exng_1: 0.0</br>caa_1: 0.0</br>caa_2: 0.0</br>caa_3: 0.0</br>caa_4: 0.0</br>cp_1: 0.0</br>cp_2: 0.0</br>cp_3: 1.0</br>restecg_1: 0.0</br>restecg_2: 0.0</br>_original_yhat_: 0.9919773936271667</br>"
          ],
          [
           "</br>id: 14</br>prediction: 0.999</br>age: 51.08</br></br>sex: 0.0</br>trtbps: 150.0</br>chol: 283.0</br>fbs: 1.0</br>thalachh: 162.0</br>oldpeak: 1.0</br>slp: 2.0</br>thall: 2.0</br>exng_1: 0.0</br>caa_1: 0.0</br>caa_2: 0.0</br>caa_3: 0.0</br>caa_4: 0.0</br>cp_1: 0.0</br>cp_2: 0.0</br>cp_3: 1.0</br>restecg_1: 0.0</br>restecg_2: 0.0</br>_original_yhat_: 0.9919773936271667</br>"
          ],
          [
           "</br>id: 14</br>prediction: 0.999</br>age: 51.56</br></br>sex: 0.0</br>trtbps: 150.0</br>chol: 283.0</br>fbs: 1.0</br>thalachh: 162.0</br>oldpeak: 1.0</br>slp: 2.0</br>thall: 2.0</br>exng_1: 0.0</br>caa_1: 0.0</br>caa_2: 0.0</br>caa_3: 0.0</br>caa_4: 0.0</br>cp_1: 0.0</br>cp_2: 0.0</br>cp_3: 1.0</br>restecg_1: 0.0</br>restecg_2: 0.0</br>_original_yhat_: 0.9919773936271667</br>"
          ],
          [
           "</br>id: 14</br>prediction: 0.999</br>age: 52.04</br></br>sex: 0.0</br>trtbps: 150.0</br>chol: 283.0</br>fbs: 1.0</br>thalachh: 162.0</br>oldpeak: 1.0</br>slp: 2.0</br>thall: 2.0</br>exng_1: 0.0</br>caa_1: 0.0</br>caa_2: 0.0</br>caa_3: 0.0</br>caa_4: 0.0</br>cp_1: 0.0</br>cp_2: 0.0</br>cp_3: 1.0</br>restecg_1: 0.0</br>restecg_2: 0.0</br>_original_yhat_: 0.9919773936271667</br>"
          ],
          [
           "</br>id: 14</br>prediction: 0.999</br>age: 52.519999999999996</br></br>sex: 0.0</br>trtbps: 150.0</br>chol: 283.0</br>fbs: 1.0</br>thalachh: 162.0</br>oldpeak: 1.0</br>slp: 2.0</br>thall: 2.0</br>exng_1: 0.0</br>caa_1: 0.0</br>caa_2: 0.0</br>caa_3: 0.0</br>caa_4: 0.0</br>cp_1: 0.0</br>cp_2: 0.0</br>cp_3: 1.0</br>restecg_1: 0.0</br>restecg_2: 0.0</br>_original_yhat_: 0.9919773936271667</br>"
          ],
          [
           "</br>id: 14</br>prediction: 0.999</br>age: 53.0</br></br>sex: 0.0</br>trtbps: 150.0</br>chol: 283.0</br>fbs: 1.0</br>thalachh: 162.0</br>oldpeak: 1.0</br>slp: 2.0</br>thall: 2.0</br>exng_1: 0.0</br>caa_1: 0.0</br>caa_2: 0.0</br>caa_3: 0.0</br>caa_4: 0.0</br>cp_1: 0.0</br>cp_2: 0.0</br>cp_3: 1.0</br>restecg_1: 0.0</br>restecg_2: 0.0</br>_original_yhat_: 0.9919773936271667</br>"
          ],
          [
           "</br>id: 14</br>prediction: 0.999</br>age: 53.480000000000004</br></br>sex: 0.0</br>trtbps: 150.0</br>chol: 283.0</br>fbs: 1.0</br>thalachh: 162.0</br>oldpeak: 1.0</br>slp: 2.0</br>thall: 2.0</br>exng_1: 0.0</br>caa_1: 0.0</br>caa_2: 0.0</br>caa_3: 0.0</br>caa_4: 0.0</br>cp_1: 0.0</br>cp_2: 0.0</br>cp_3: 1.0</br>restecg_1: 0.0</br>restecg_2: 0.0</br>_original_yhat_: 0.9919773936271667</br>"
          ],
          [
           "</br>id: 14</br>prediction: 0.999</br>age: 53.96</br></br>sex: 0.0</br>trtbps: 150.0</br>chol: 283.0</br>fbs: 1.0</br>thalachh: 162.0</br>oldpeak: 1.0</br>slp: 2.0</br>thall: 2.0</br>exng_1: 0.0</br>caa_1: 0.0</br>caa_2: 0.0</br>caa_3: 0.0</br>caa_4: 0.0</br>cp_1: 0.0</br>cp_2: 0.0</br>cp_3: 1.0</br>restecg_1: 0.0</br>restecg_2: 0.0</br>_original_yhat_: 0.9919773936271667</br>"
          ],
          [
           "</br>id: 14</br>prediction: 0.999</br>age: 54.44</br></br>sex: 0.0</br>trtbps: 150.0</br>chol: 283.0</br>fbs: 1.0</br>thalachh: 162.0</br>oldpeak: 1.0</br>slp: 2.0</br>thall: 2.0</br>exng_1: 0.0</br>caa_1: 0.0</br>caa_2: 0.0</br>caa_3: 0.0</br>caa_4: 0.0</br>cp_1: 0.0</br>cp_2: 0.0</br>cp_3: 1.0</br>restecg_1: 0.0</br>restecg_2: 0.0</br>_original_yhat_: 0.9919773936271667</br>"
          ],
          [
           "</br>id: 14</br>prediction: 0.998</br>age: 54.92</br></br>sex: 0.0</br>trtbps: 150.0</br>chol: 283.0</br>fbs: 1.0</br>thalachh: 162.0</br>oldpeak: 1.0</br>slp: 2.0</br>thall: 2.0</br>exng_1: 0.0</br>caa_1: 0.0</br>caa_2: 0.0</br>caa_3: 0.0</br>caa_4: 0.0</br>cp_1: 0.0</br>cp_2: 0.0</br>cp_3: 1.0</br>restecg_1: 0.0</br>restecg_2: 0.0</br>_original_yhat_: 0.9919773936271667</br>"
          ],
          [
           "</br>id: 14</br>prediction: 0.998</br>age: 55.4</br></br>sex: 0.0</br>trtbps: 150.0</br>chol: 283.0</br>fbs: 1.0</br>thalachh: 162.0</br>oldpeak: 1.0</br>slp: 2.0</br>thall: 2.0</br>exng_1: 0.0</br>caa_1: 0.0</br>caa_2: 0.0</br>caa_3: 0.0</br>caa_4: 0.0</br>cp_1: 0.0</br>cp_2: 0.0</br>cp_3: 1.0</br>restecg_1: 0.0</br>restecg_2: 0.0</br>_original_yhat_: 0.9919773936271667</br>"
          ],
          [
           "</br>id: 14</br>prediction: 0.998</br>age: 55.879999999999995</br></br>sex: 0.0</br>trtbps: 150.0</br>chol: 283.0</br>fbs: 1.0</br>thalachh: 162.0</br>oldpeak: 1.0</br>slp: 2.0</br>thall: 2.0</br>exng_1: 0.0</br>caa_1: 0.0</br>caa_2: 0.0</br>caa_3: 0.0</br>caa_4: 0.0</br>cp_1: 0.0</br>cp_2: 0.0</br>cp_3: 1.0</br>restecg_1: 0.0</br>restecg_2: 0.0</br>_original_yhat_: 0.9919773936271667</br>"
          ],
          [
           "</br>id: 14</br>prediction: 0.998</br>age: 56.36</br></br>sex: 0.0</br>trtbps: 150.0</br>chol: 283.0</br>fbs: 1.0</br>thalachh: 162.0</br>oldpeak: 1.0</br>slp: 2.0</br>thall: 2.0</br>exng_1: 0.0</br>caa_1: 0.0</br>caa_2: 0.0</br>caa_3: 0.0</br>caa_4: 0.0</br>cp_1: 0.0</br>cp_2: 0.0</br>cp_3: 1.0</br>restecg_1: 0.0</br>restecg_2: 0.0</br>_original_yhat_: 0.9919773936271667</br>"
          ],
          [
           "</br>id: 14</br>prediction: 0.997</br>age: 56.84</br></br>sex: 0.0</br>trtbps: 150.0</br>chol: 283.0</br>fbs: 1.0</br>thalachh: 162.0</br>oldpeak: 1.0</br>slp: 2.0</br>thall: 2.0</br>exng_1: 0.0</br>caa_1: 0.0</br>caa_2: 0.0</br>caa_3: 0.0</br>caa_4: 0.0</br>cp_1: 0.0</br>cp_2: 0.0</br>cp_3: 1.0</br>restecg_1: 0.0</br>restecg_2: 0.0</br>_original_yhat_: 0.9919773936271667</br>"
          ],
          [
           "</br>id: 14</br>prediction: 0.997</br>age: 57.32</br></br>sex: 0.0</br>trtbps: 150.0</br>chol: 283.0</br>fbs: 1.0</br>thalachh: 162.0</br>oldpeak: 1.0</br>slp: 2.0</br>thall: 2.0</br>exng_1: 0.0</br>caa_1: 0.0</br>caa_2: 0.0</br>caa_3: 0.0</br>caa_4: 0.0</br>cp_1: 0.0</br>cp_2: 0.0</br>cp_3: 1.0</br>restecg_1: 0.0</br>restecg_2: 0.0</br>_original_yhat_: 0.9919773936271667</br>"
          ],
          [
           "</br>id: 14</br>prediction: 0.992</br>age: 57.8</br></br>sex: 0.0</br>trtbps: 150.0</br>chol: 283.0</br>fbs: 1.0</br>thalachh: 162.0</br>oldpeak: 1.0</br>slp: 2.0</br>thall: 2.0</br>exng_1: 0.0</br>caa_1: 0.0</br>caa_2: 0.0</br>caa_3: 0.0</br>caa_4: 0.0</br>cp_1: 0.0</br>cp_2: 0.0</br>cp_3: 1.0</br>restecg_1: 0.0</br>restecg_2: 0.0</br>_original_yhat_: 0.9919773936271667</br>"
          ],
          [
           "</br>id: 14</br>prediction: 0.992</br>age: 58.0</br></br>sex: 0.0</br>trtbps: 150.0</br>chol: 283.0</br>fbs: 1.0</br>thalachh: 162.0</br>oldpeak: 1.0</br>slp: 2.0</br>thall: 2.0</br>exng_1: 0.0</br>caa_1: 0.0</br>caa_2: 0.0</br>caa_3: 0.0</br>caa_4: 0.0</br>cp_1: 0.0</br>cp_2: 0.0</br>cp_3: 1.0</br>restecg_1: 0.0</br>restecg_2: 0.0</br>_original_yhat_: 0.9919773936271667</br>"
          ],
          [
           "</br>id: 14</br>prediction: 0.992</br>age: 58.28</br></br>sex: 0.0</br>trtbps: 150.0</br>chol: 283.0</br>fbs: 1.0</br>thalachh: 162.0</br>oldpeak: 1.0</br>slp: 2.0</br>thall: 2.0</br>exng_1: 0.0</br>caa_1: 0.0</br>caa_2: 0.0</br>caa_3: 0.0</br>caa_4: 0.0</br>cp_1: 0.0</br>cp_2: 0.0</br>cp_3: 1.0</br>restecg_1: 0.0</br>restecg_2: 0.0</br>_original_yhat_: 0.9919773936271667</br>"
          ],
          [
           "</br>id: 14</br>prediction: 0.988</br>age: 58.76</br></br>sex: 0.0</br>trtbps: 150.0</br>chol: 283.0</br>fbs: 1.0</br>thalachh: 162.0</br>oldpeak: 1.0</br>slp: 2.0</br>thall: 2.0</br>exng_1: 0.0</br>caa_1: 0.0</br>caa_2: 0.0</br>caa_3: 0.0</br>caa_4: 0.0</br>cp_1: 0.0</br>cp_2: 0.0</br>cp_3: 1.0</br>restecg_1: 0.0</br>restecg_2: 0.0</br>_original_yhat_: 0.9919773936271667</br>"
          ],
          [
           "</br>id: 14</br>prediction: 0.988</br>age: 59.239999999999995</br></br>sex: 0.0</br>trtbps: 150.0</br>chol: 283.0</br>fbs: 1.0</br>thalachh: 162.0</br>oldpeak: 1.0</br>slp: 2.0</br>thall: 2.0</br>exng_1: 0.0</br>caa_1: 0.0</br>caa_2: 0.0</br>caa_3: 0.0</br>caa_4: 0.0</br>cp_1: 0.0</br>cp_2: 0.0</br>cp_3: 1.0</br>restecg_1: 0.0</br>restecg_2: 0.0</br>_original_yhat_: 0.9919773936271667</br>"
          ],
          [
           "</br>id: 14</br>prediction: 0.988</br>age: 59.72</br></br>sex: 0.0</br>trtbps: 150.0</br>chol: 283.0</br>fbs: 1.0</br>thalachh: 162.0</br>oldpeak: 1.0</br>slp: 2.0</br>thall: 2.0</br>exng_1: 0.0</br>caa_1: 0.0</br>caa_2: 0.0</br>caa_3: 0.0</br>caa_4: 0.0</br>cp_1: 0.0</br>cp_2: 0.0</br>cp_3: 1.0</br>restecg_1: 0.0</br>restecg_2: 0.0</br>_original_yhat_: 0.9919773936271667</br>"
          ],
          [
           "</br>id: 14</br>prediction: 0.988</br>age: 60.2</br></br>sex: 0.0</br>trtbps: 150.0</br>chol: 283.0</br>fbs: 1.0</br>thalachh: 162.0</br>oldpeak: 1.0</br>slp: 2.0</br>thall: 2.0</br>exng_1: 0.0</br>caa_1: 0.0</br>caa_2: 0.0</br>caa_3: 0.0</br>caa_4: 0.0</br>cp_1: 0.0</br>cp_2: 0.0</br>cp_3: 1.0</br>restecg_1: 0.0</br>restecg_2: 0.0</br>_original_yhat_: 0.9919773936271667</br>"
          ],
          [
           "</br>id: 14</br>prediction: 0.988</br>age: 60.68</br></br>sex: 0.0</br>trtbps: 150.0</br>chol: 283.0</br>fbs: 1.0</br>thalachh: 162.0</br>oldpeak: 1.0</br>slp: 2.0</br>thall: 2.0</br>exng_1: 0.0</br>caa_1: 0.0</br>caa_2: 0.0</br>caa_3: 0.0</br>caa_4: 0.0</br>cp_1: 0.0</br>cp_2: 0.0</br>cp_3: 1.0</br>restecg_1: 0.0</br>restecg_2: 0.0</br>_original_yhat_: 0.9919773936271667</br>"
          ],
          [
           "</br>id: 14</br>prediction: 0.988</br>age: 61.16</br></br>sex: 0.0</br>trtbps: 150.0</br>chol: 283.0</br>fbs: 1.0</br>thalachh: 162.0</br>oldpeak: 1.0</br>slp: 2.0</br>thall: 2.0</br>exng_1: 0.0</br>caa_1: 0.0</br>caa_2: 0.0</br>caa_3: 0.0</br>caa_4: 0.0</br>cp_1: 0.0</br>cp_2: 0.0</br>cp_3: 1.0</br>restecg_1: 0.0</br>restecg_2: 0.0</br>_original_yhat_: 0.9919773936271667</br>"
          ],
          [
           "</br>id: 14</br>prediction: 0.988</br>age: 61.64</br></br>sex: 0.0</br>trtbps: 150.0</br>chol: 283.0</br>fbs: 1.0</br>thalachh: 162.0</br>oldpeak: 1.0</br>slp: 2.0</br>thall: 2.0</br>exng_1: 0.0</br>caa_1: 0.0</br>caa_2: 0.0</br>caa_3: 0.0</br>caa_4: 0.0</br>cp_1: 0.0</br>cp_2: 0.0</br>cp_3: 1.0</br>restecg_1: 0.0</br>restecg_2: 0.0</br>_original_yhat_: 0.9919773936271667</br>"
          ],
          [
           "</br>id: 14</br>prediction: 0.988</br>age: 62.12</br></br>sex: 0.0</br>trtbps: 150.0</br>chol: 283.0</br>fbs: 1.0</br>thalachh: 162.0</br>oldpeak: 1.0</br>slp: 2.0</br>thall: 2.0</br>exng_1: 0.0</br>caa_1: 0.0</br>caa_2: 0.0</br>caa_3: 0.0</br>caa_4: 0.0</br>cp_1: 0.0</br>cp_2: 0.0</br>cp_3: 1.0</br>restecg_1: 0.0</br>restecg_2: 0.0</br>_original_yhat_: 0.9919773936271667</br>"
          ],
          [
           "</br>id: 14</br>prediction: 0.99</br>age: 62.6</br></br>sex: 0.0</br>trtbps: 150.0</br>chol: 283.0</br>fbs: 1.0</br>thalachh: 162.0</br>oldpeak: 1.0</br>slp: 2.0</br>thall: 2.0</br>exng_1: 0.0</br>caa_1: 0.0</br>caa_2: 0.0</br>caa_3: 0.0</br>caa_4: 0.0</br>cp_1: 0.0</br>cp_2: 0.0</br>cp_3: 1.0</br>restecg_1: 0.0</br>restecg_2: 0.0</br>_original_yhat_: 0.9919773936271667</br>"
          ],
          [
           "</br>id: 14</br>prediction: 0.99</br>age: 63.08</br></br>sex: 0.0</br>trtbps: 150.0</br>chol: 283.0</br>fbs: 1.0</br>thalachh: 162.0</br>oldpeak: 1.0</br>slp: 2.0</br>thall: 2.0</br>exng_1: 0.0</br>caa_1: 0.0</br>caa_2: 0.0</br>caa_3: 0.0</br>caa_4: 0.0</br>cp_1: 0.0</br>cp_2: 0.0</br>cp_3: 1.0</br>restecg_1: 0.0</br>restecg_2: 0.0</br>_original_yhat_: 0.9919773936271667</br>"
          ],
          [
           "</br>id: 14</br>prediction: 0.996</br>age: 63.56</br></br>sex: 0.0</br>trtbps: 150.0</br>chol: 283.0</br>fbs: 1.0</br>thalachh: 162.0</br>oldpeak: 1.0</br>slp: 2.0</br>thall: 2.0</br>exng_1: 0.0</br>caa_1: 0.0</br>caa_2: 0.0</br>caa_3: 0.0</br>caa_4: 0.0</br>cp_1: 0.0</br>cp_2: 0.0</br>cp_3: 1.0</br>restecg_1: 0.0</br>restecg_2: 0.0</br>_original_yhat_: 0.9919773936271667</br>"
          ],
          [
           "</br>id: 14</br>prediction: 0.996</br>age: 64.03999999999999</br></br>sex: 0.0</br>trtbps: 150.0</br>chol: 283.0</br>fbs: 1.0</br>thalachh: 162.0</br>oldpeak: 1.0</br>slp: 2.0</br>thall: 2.0</br>exng_1: 0.0</br>caa_1: 0.0</br>caa_2: 0.0</br>caa_3: 0.0</br>caa_4: 0.0</br>cp_1: 0.0</br>cp_2: 0.0</br>cp_3: 1.0</br>restecg_1: 0.0</br>restecg_2: 0.0</br>_original_yhat_: 0.9919773936271667</br>"
          ],
          [
           "</br>id: 14</br>prediction: 0.996</br>age: 64.52</br></br>sex: 0.0</br>trtbps: 150.0</br>chol: 283.0</br>fbs: 1.0</br>thalachh: 162.0</br>oldpeak: 1.0</br>slp: 2.0</br>thall: 2.0</br>exng_1: 0.0</br>caa_1: 0.0</br>caa_2: 0.0</br>caa_3: 0.0</br>caa_4: 0.0</br>cp_1: 0.0</br>cp_2: 0.0</br>cp_3: 1.0</br>restecg_1: 0.0</br>restecg_2: 0.0</br>_original_yhat_: 0.9919773936271667</br>"
          ],
          [
           "</br>id: 14</br>prediction: 0.996</br>age: 65.0</br></br>sex: 0.0</br>trtbps: 150.0</br>chol: 283.0</br>fbs: 1.0</br>thalachh: 162.0</br>oldpeak: 1.0</br>slp: 2.0</br>thall: 2.0</br>exng_1: 0.0</br>caa_1: 0.0</br>caa_2: 0.0</br>caa_3: 0.0</br>caa_4: 0.0</br>cp_1: 0.0</br>cp_2: 0.0</br>cp_3: 1.0</br>restecg_1: 0.0</br>restecg_2: 0.0</br>_original_yhat_: 0.9919773936271667</br>"
          ],
          [
           "</br>id: 14</br>prediction: 0.996</br>age: 65.47999999999999</br></br>sex: 0.0</br>trtbps: 150.0</br>chol: 283.0</br>fbs: 1.0</br>thalachh: 162.0</br>oldpeak: 1.0</br>slp: 2.0</br>thall: 2.0</br>exng_1: 0.0</br>caa_1: 0.0</br>caa_2: 0.0</br>caa_3: 0.0</br>caa_4: 0.0</br>cp_1: 0.0</br>cp_2: 0.0</br>cp_3: 1.0</br>restecg_1: 0.0</br>restecg_2: 0.0</br>_original_yhat_: 0.9919773936271667</br>"
          ],
          [
           "</br>id: 14</br>prediction: 0.996</br>age: 65.96000000000001</br></br>sex: 0.0</br>trtbps: 150.0</br>chol: 283.0</br>fbs: 1.0</br>thalachh: 162.0</br>oldpeak: 1.0</br>slp: 2.0</br>thall: 2.0</br>exng_1: 0.0</br>caa_1: 0.0</br>caa_2: 0.0</br>caa_3: 0.0</br>caa_4: 0.0</br>cp_1: 0.0</br>cp_2: 0.0</br>cp_3: 1.0</br>restecg_1: 0.0</br>restecg_2: 0.0</br>_original_yhat_: 0.9919773936271667</br>"
          ],
          [
           "</br>id: 14</br>prediction: 0.996</br>age: 66.44</br></br>sex: 0.0</br>trtbps: 150.0</br>chol: 283.0</br>fbs: 1.0</br>thalachh: 162.0</br>oldpeak: 1.0</br>slp: 2.0</br>thall: 2.0</br>exng_1: 0.0</br>caa_1: 0.0</br>caa_2: 0.0</br>caa_3: 0.0</br>caa_4: 0.0</br>cp_1: 0.0</br>cp_2: 0.0</br>cp_3: 1.0</br>restecg_1: 0.0</br>restecg_2: 0.0</br>_original_yhat_: 0.9919773936271667</br>"
          ],
          [
           "</br>id: 14</br>prediction: 0.996</br>age: 66.92</br></br>sex: 0.0</br>trtbps: 150.0</br>chol: 283.0</br>fbs: 1.0</br>thalachh: 162.0</br>oldpeak: 1.0</br>slp: 2.0</br>thall: 2.0</br>exng_1: 0.0</br>caa_1: 0.0</br>caa_2: 0.0</br>caa_3: 0.0</br>caa_4: 0.0</br>cp_1: 0.0</br>cp_2: 0.0</br>cp_3: 1.0</br>restecg_1: 0.0</br>restecg_2: 0.0</br>_original_yhat_: 0.9919773936271667</br>"
          ],
          [
           "</br>id: 14</br>prediction: 0.996</br>age: 67.4</br></br>sex: 0.0</br>trtbps: 150.0</br>chol: 283.0</br>fbs: 1.0</br>thalachh: 162.0</br>oldpeak: 1.0</br>slp: 2.0</br>thall: 2.0</br>exng_1: 0.0</br>caa_1: 0.0</br>caa_2: 0.0</br>caa_3: 0.0</br>caa_4: 0.0</br>cp_1: 0.0</br>cp_2: 0.0</br>cp_3: 1.0</br>restecg_1: 0.0</br>restecg_2: 0.0</br>_original_yhat_: 0.9919773936271667</br>"
          ],
          [
           "</br>id: 14</br>prediction: 0.996</br>age: 67.88</br></br>sex: 0.0</br>trtbps: 150.0</br>chol: 283.0</br>fbs: 1.0</br>thalachh: 162.0</br>oldpeak: 1.0</br>slp: 2.0</br>thall: 2.0</br>exng_1: 0.0</br>caa_1: 0.0</br>caa_2: 0.0</br>caa_3: 0.0</br>caa_4: 0.0</br>cp_1: 0.0</br>cp_2: 0.0</br>cp_3: 1.0</br>restecg_1: 0.0</br>restecg_2: 0.0</br>_original_yhat_: 0.9919773936271667</br>"
          ],
          [
           "</br>id: 14</br>prediction: 0.997</br>age: 68.36</br></br>sex: 0.0</br>trtbps: 150.0</br>chol: 283.0</br>fbs: 1.0</br>thalachh: 162.0</br>oldpeak: 1.0</br>slp: 2.0</br>thall: 2.0</br>exng_1: 0.0</br>caa_1: 0.0</br>caa_2: 0.0</br>caa_3: 0.0</br>caa_4: 0.0</br>cp_1: 0.0</br>cp_2: 0.0</br>cp_3: 1.0</br>restecg_1: 0.0</br>restecg_2: 0.0</br>_original_yhat_: 0.9919773936271667</br>"
          ],
          [
           "</br>id: 14</br>prediction: 0.997</br>age: 68.84</br></br>sex: 0.0</br>trtbps: 150.0</br>chol: 283.0</br>fbs: 1.0</br>thalachh: 162.0</br>oldpeak: 1.0</br>slp: 2.0</br>thall: 2.0</br>exng_1: 0.0</br>caa_1: 0.0</br>caa_2: 0.0</br>caa_3: 0.0</br>caa_4: 0.0</br>cp_1: 0.0</br>cp_2: 0.0</br>cp_3: 1.0</br>restecg_1: 0.0</br>restecg_2: 0.0</br>_original_yhat_: 0.9919773936271667</br>"
          ],
          [
           "</br>id: 14</br>prediction: 0.997</br>age: 69.32</br></br>sex: 0.0</br>trtbps: 150.0</br>chol: 283.0</br>fbs: 1.0</br>thalachh: 162.0</br>oldpeak: 1.0</br>slp: 2.0</br>thall: 2.0</br>exng_1: 0.0</br>caa_1: 0.0</br>caa_2: 0.0</br>caa_3: 0.0</br>caa_4: 0.0</br>cp_1: 0.0</br>cp_2: 0.0</br>cp_3: 1.0</br>restecg_1: 0.0</br>restecg_2: 0.0</br>_original_yhat_: 0.9919773936271667</br>"
          ],
          [
           "</br>id: 14</br>prediction: 0.997</br>age: 69.8</br></br>sex: 0.0</br>trtbps: 150.0</br>chol: 283.0</br>fbs: 1.0</br>thalachh: 162.0</br>oldpeak: 1.0</br>slp: 2.0</br>thall: 2.0</br>exng_1: 0.0</br>caa_1: 0.0</br>caa_2: 0.0</br>caa_3: 0.0</br>caa_4: 0.0</br>cp_1: 0.0</br>cp_2: 0.0</br>cp_3: 1.0</br>restecg_1: 0.0</br>restecg_2: 0.0</br>_original_yhat_: 0.9919773936271667</br>"
          ],
          [
           "</br>id: 14</br>prediction: 0.997</br>age: 70.28</br></br>sex: 0.0</br>trtbps: 150.0</br>chol: 283.0</br>fbs: 1.0</br>thalachh: 162.0</br>oldpeak: 1.0</br>slp: 2.0</br>thall: 2.0</br>exng_1: 0.0</br>caa_1: 0.0</br>caa_2: 0.0</br>caa_3: 0.0</br>caa_4: 0.0</br>cp_1: 0.0</br>cp_2: 0.0</br>cp_3: 1.0</br>restecg_1: 0.0</br>restecg_2: 0.0</br>_original_yhat_: 0.9919773936271667</br>"
          ],
          [
           "</br>id: 14</br>prediction: 0.997</br>age: 70.75999999999999</br></br>sex: 0.0</br>trtbps: 150.0</br>chol: 283.0</br>fbs: 1.0</br>thalachh: 162.0</br>oldpeak: 1.0</br>slp: 2.0</br>thall: 2.0</br>exng_1: 0.0</br>caa_1: 0.0</br>caa_2: 0.0</br>caa_3: 0.0</br>caa_4: 0.0</br>cp_1: 0.0</br>cp_2: 0.0</br>cp_3: 1.0</br>restecg_1: 0.0</br>restecg_2: 0.0</br>_original_yhat_: 0.9919773936271667</br>"
          ],
          [
           "</br>id: 14</br>prediction: 0.997</br>age: 71.24</br></br>sex: 0.0</br>trtbps: 150.0</br>chol: 283.0</br>fbs: 1.0</br>thalachh: 162.0</br>oldpeak: 1.0</br>slp: 2.0</br>thall: 2.0</br>exng_1: 0.0</br>caa_1: 0.0</br>caa_2: 0.0</br>caa_3: 0.0</br>caa_4: 0.0</br>cp_1: 0.0</br>cp_2: 0.0</br>cp_3: 1.0</br>restecg_1: 0.0</br>restecg_2: 0.0</br>_original_yhat_: 0.9919773936271667</br>"
          ],
          [
           "</br>id: 14</br>prediction: 0.997</br>age: 71.72</br></br>sex: 0.0</br>trtbps: 150.0</br>chol: 283.0</br>fbs: 1.0</br>thalachh: 162.0</br>oldpeak: 1.0</br>slp: 2.0</br>thall: 2.0</br>exng_1: 0.0</br>caa_1: 0.0</br>caa_2: 0.0</br>caa_3: 0.0</br>caa_4: 0.0</br>cp_1: 0.0</br>cp_2: 0.0</br>cp_3: 1.0</br>restecg_1: 0.0</br>restecg_2: 0.0</br>_original_yhat_: 0.9919773936271667</br>"
          ],
          [
           "</br>id: 14</br>prediction: 0.997</br>age: 72.19999999999999</br></br>sex: 0.0</br>trtbps: 150.0</br>chol: 283.0</br>fbs: 1.0</br>thalachh: 162.0</br>oldpeak: 1.0</br>slp: 2.0</br>thall: 2.0</br>exng_1: 0.0</br>caa_1: 0.0</br>caa_2: 0.0</br>caa_3: 0.0</br>caa_4: 0.0</br>cp_1: 0.0</br>cp_2: 0.0</br>cp_3: 1.0</br>restecg_1: 0.0</br>restecg_2: 0.0</br>_original_yhat_: 0.9919773936271667</br>"
          ],
          [
           "</br>id: 14</br>prediction: 0.997</br>age: 72.68</br></br>sex: 0.0</br>trtbps: 150.0</br>chol: 283.0</br>fbs: 1.0</br>thalachh: 162.0</br>oldpeak: 1.0</br>slp: 2.0</br>thall: 2.0</br>exng_1: 0.0</br>caa_1: 0.0</br>caa_2: 0.0</br>caa_3: 0.0</br>caa_4: 0.0</br>cp_1: 0.0</br>cp_2: 0.0</br>cp_3: 1.0</br>restecg_1: 0.0</br>restecg_2: 0.0</br>_original_yhat_: 0.9919773936271667</br>"
          ],
          [
           "</br>id: 14</br>prediction: 0.997</br>age: 73.16</br></br>sex: 0.0</br>trtbps: 150.0</br>chol: 283.0</br>fbs: 1.0</br>thalachh: 162.0</br>oldpeak: 1.0</br>slp: 2.0</br>thall: 2.0</br>exng_1: 0.0</br>caa_1: 0.0</br>caa_2: 0.0</br>caa_3: 0.0</br>caa_4: 0.0</br>cp_1: 0.0</br>cp_2: 0.0</br>cp_3: 1.0</br>restecg_1: 0.0</br>restecg_2: 0.0</br>_original_yhat_: 0.9919773936271667</br>"
          ],
          [
           "</br>id: 14</br>prediction: 0.997</br>age: 73.64</br></br>sex: 0.0</br>trtbps: 150.0</br>chol: 283.0</br>fbs: 1.0</br>thalachh: 162.0</br>oldpeak: 1.0</br>slp: 2.0</br>thall: 2.0</br>exng_1: 0.0</br>caa_1: 0.0</br>caa_2: 0.0</br>caa_3: 0.0</br>caa_4: 0.0</br>cp_1: 0.0</br>cp_2: 0.0</br>cp_3: 1.0</br>restecg_1: 0.0</br>restecg_2: 0.0</br>_original_yhat_: 0.9919773936271667</br>"
          ],
          [
           "</br>id: 14</br>prediction: 0.997</br>age: 74.12</br></br>sex: 0.0</br>trtbps: 150.0</br>chol: 283.0</br>fbs: 1.0</br>thalachh: 162.0</br>oldpeak: 1.0</br>slp: 2.0</br>thall: 2.0</br>exng_1: 0.0</br>caa_1: 0.0</br>caa_2: 0.0</br>caa_3: 0.0</br>caa_4: 0.0</br>cp_1: 0.0</br>cp_2: 0.0</br>cp_3: 1.0</br>restecg_1: 0.0</br>restecg_2: 0.0</br>_original_yhat_: 0.9919773936271667</br>"
          ],
          [
           "</br>id: 14</br>prediction: 0.997</br>age: 74.6</br></br>sex: 0.0</br>trtbps: 150.0</br>chol: 283.0</br>fbs: 1.0</br>thalachh: 162.0</br>oldpeak: 1.0</br>slp: 2.0</br>thall: 2.0</br>exng_1: 0.0</br>caa_1: 0.0</br>caa_2: 0.0</br>caa_3: 0.0</br>caa_4: 0.0</br>cp_1: 0.0</br>cp_2: 0.0</br>cp_3: 1.0</br>restecg_1: 0.0</br>restecg_2: 0.0</br>_original_yhat_: 0.9919773936271667</br>"
          ],
          [
           "</br>id: 14</br>prediction: 0.997</br>age: 75.08</br></br>sex: 0.0</br>trtbps: 150.0</br>chol: 283.0</br>fbs: 1.0</br>thalachh: 162.0</br>oldpeak: 1.0</br>slp: 2.0</br>thall: 2.0</br>exng_1: 0.0</br>caa_1: 0.0</br>caa_2: 0.0</br>caa_3: 0.0</br>caa_4: 0.0</br>cp_1: 0.0</br>cp_2: 0.0</br>cp_3: 1.0</br>restecg_1: 0.0</br>restecg_2: 0.0</br>_original_yhat_: 0.9919773936271667</br>"
          ],
          [
           "</br>id: 14</br>prediction: 0.997</br>age: 75.56</br></br>sex: 0.0</br>trtbps: 150.0</br>chol: 283.0</br>fbs: 1.0</br>thalachh: 162.0</br>oldpeak: 1.0</br>slp: 2.0</br>thall: 2.0</br>exng_1: 0.0</br>caa_1: 0.0</br>caa_2: 0.0</br>caa_3: 0.0</br>caa_4: 0.0</br>cp_1: 0.0</br>cp_2: 0.0</br>cp_3: 1.0</br>restecg_1: 0.0</br>restecg_2: 0.0</br>_original_yhat_: 0.9919773936271667</br>"
          ],
          [
           "</br>id: 14</br>prediction: 0.997</br>age: 76.03999999999999</br></br>sex: 0.0</br>trtbps: 150.0</br>chol: 283.0</br>fbs: 1.0</br>thalachh: 162.0</br>oldpeak: 1.0</br>slp: 2.0</br>thall: 2.0</br>exng_1: 0.0</br>caa_1: 0.0</br>caa_2: 0.0</br>caa_3: 0.0</br>caa_4: 0.0</br>cp_1: 0.0</br>cp_2: 0.0</br>cp_3: 1.0</br>restecg_1: 0.0</br>restecg_2: 0.0</br>_original_yhat_: 0.9919773936271667</br>"
          ],
          [
           "</br>id: 14</br>prediction: 0.997</br>age: 76.52</br></br>sex: 0.0</br>trtbps: 150.0</br>chol: 283.0</br>fbs: 1.0</br>thalachh: 162.0</br>oldpeak: 1.0</br>slp: 2.0</br>thall: 2.0</br>exng_1: 0.0</br>caa_1: 0.0</br>caa_2: 0.0</br>caa_3: 0.0</br>caa_4: 0.0</br>cp_1: 0.0</br>cp_2: 0.0</br>cp_3: 1.0</br>restecg_1: 0.0</br>restecg_2: 0.0</br>_original_yhat_: 0.9919773936271667</br>"
          ],
          [
           "</br>id: 14</br>prediction: 0.997</br>age: 77.0</br></br>sex: 0.0</br>trtbps: 150.0</br>chol: 283.0</br>fbs: 1.0</br>thalachh: 162.0</br>oldpeak: 1.0</br>slp: 2.0</br>thall: 2.0</br>exng_1: 0.0</br>caa_1: 0.0</br>caa_2: 0.0</br>caa_3: 0.0</br>caa_4: 0.0</br>cp_1: 0.0</br>cp_2: 0.0</br>cp_3: 1.0</br>restecg_1: 0.0</br>restecg_2: 0.0</br>_original_yhat_: 0.9919773936271667</br>"
          ]
         ],
         "hovertemplate": "%{customdata[0]}<extra></extra>",
         "legendgroup": "XGBClassifier",
         "line": {
          "color": "#46bac2",
          "dash": "solid",
          "width": 2
         },
         "marker": {
          "symbol": "circle"
         },
         "mode": "lines",
         "name": "XGBClassifier",
         "orientation": "v",
         "showlegend": true,
         "x": [
          29.0,
          29.48,
          29.96,
          30.44,
          30.92,
          31.4,
          31.88,
          32.36,
          32.84,
          33.32,
          33.8,
          34.28,
          34.76,
          35.24,
          35.72,
          36.2,
          36.68,
          37.16,
          37.64,
          38.12,
          38.6,
          39.08,
          39.56,
          40.04,
          40.519999999999996,
          41.0,
          41.480000000000004,
          41.96,
          42.44,
          42.92,
          43.4,
          43.879999999999995,
          44.36,
          44.84,
          45.32,
          45.8,
          46.28,
          46.76,
          47.239999999999995,
          47.72,
          48.2,
          48.68,
          49.16,
          49.64,
          50.12,
          50.599999999999994,
          51.08,
          51.56,
          52.04,
          52.519999999999996,
          53.0,
          53.480000000000004,
          53.96,
          54.44,
          54.92,
          55.4,
          55.879999999999995,
          56.36,
          56.84,
          57.32,
          57.8,
          58.0,
          58.28,
          58.76,
          59.239999999999995,
          59.72,
          60.2,
          60.68,
          61.16,
          61.64,
          62.12,
          62.6,
          63.08,
          63.56,
          64.03999999999999,
          64.52,
          65.0,
          65.47999999999999,
          65.96000000000001,
          66.44,
          66.92,
          67.4,
          67.88,
          68.36,
          68.84,
          69.32,
          69.8,
          70.28,
          70.75999999999999,
          71.24,
          71.72,
          72.19999999999999,
          72.68,
          73.16,
          73.64,
          74.12,
          74.6,
          75.08,
          75.56,
          76.03999999999999,
          76.52,
          77.0
         ],
         "xaxis": "x",
         "y": [
          0.9986590147018433,
          0.9986590147018433,
          0.9986590147018433,
          0.9986590147018433,
          0.9986590147018433,
          0.9986590147018433,
          0.9986590147018433,
          0.9986590147018433,
          0.9986590147018433,
          0.9986590147018433,
          0.9986590147018433,
          0.9986590147018433,
          0.9986590147018433,
          0.9986590147018433,
          0.9986590147018433,
          0.9986590147018433,
          0.9986590147018433,
          0.9986590147018433,
          0.9986590147018433,
          0.9986590147018433,
          0.9986590147018433,
          0.9986590147018433,
          0.9986590147018433,
          0.9986590147018433,
          0.9989495873451233,
          0.9989495873451233,
          0.9989495873451233,
          0.9989068508148193,
          0.9989068508148193,
          0.9989068508148193,
          0.9989068508148193,
          0.9989068508148193,
          0.9989068508148193,
          0.9989068508148193,
          0.9989068508148193,
          0.9987120628356934,
          0.9987120628356934,
          0.998674750328064,
          0.998674750328064,
          0.998674750328064,
          0.998674750328064,
          0.998674750328064,
          0.998674750328064,
          0.998674750328064,
          0.998674750328064,
          0.9989182949066162,
          0.9989182949066162,
          0.9986341595649719,
          0.9986341595649719,
          0.9986341595649719,
          0.9986341595649719,
          0.9986341595649719,
          0.9986341595649719,
          0.9986341595649719,
          0.9984543323516846,
          0.9984543323516846,
          0.9981591105461121,
          0.9981591105461121,
          0.9973559379577637,
          0.9973559379577637,
          0.9919773936271667,
          0.9919773936271667,
          0.9919773936271667,
          0.9882176518440247,
          0.9882176518440247,
          0.9882176518440247,
          0.9882176518440247,
          0.9882176518440247,
          0.9882176518440247,
          0.9882176518440247,
          0.9882176518440247,
          0.989910900592804,
          0.989910900592804,
          0.9963917136192322,
          0.9963917136192322,
          0.9963917136192322,
          0.9963917136192322,
          0.9963917136192322,
          0.9963917136192322,
          0.9963917136192322,
          0.9963917136192322,
          0.9963917136192322,
          0.9963917136192322,
          0.9967283010482788,
          0.9967283010482788,
          0.9967283010482788,
          0.9967283010482788,
          0.9967283010482788,
          0.9967283010482788,
          0.9967283010482788,
          0.9967283010482788,
          0.9967283010482788,
          0.9967283010482788,
          0.9967283010482788,
          0.9967283010482788,
          0.9967283010482788,
          0.9967283010482788,
          0.9967283010482788,
          0.9967283010482788,
          0.9967283010482788,
          0.9967283010482788,
          0.9967283010482788
         ],
         "yaxis": "y",
         "type": "scatter",
         "opacity": 1
        },
        {
         "customdata": [
          [
           "</br>id: 14</br>prediction: 0.992</br>sex: 0.0</br></br>age: 58.0</br>trtbps: 150.0</br>chol: 283.0</br>fbs: 1.0</br>thalachh: 162.0</br>oldpeak: 1.0</br>slp: 2.0</br>thall: 2.0</br>exng_1: 0.0</br>caa_1: 0.0</br>caa_2: 0.0</br>caa_3: 0.0</br>caa_4: 0.0</br>cp_1: 0.0</br>cp_2: 0.0</br>cp_3: 1.0</br>restecg_1: 0.0</br>restecg_2: 0.0</br>_original_yhat_: 0.9919773936271667</br>"
          ],
          [
           "</br>id: 14</br>prediction: 0.992</br>sex: 0.01</br></br>age: 58.0</br>trtbps: 150.0</br>chol: 283.0</br>fbs: 1.0</br>thalachh: 162.0</br>oldpeak: 1.0</br>slp: 2.0</br>thall: 2.0</br>exng_1: 0.0</br>caa_1: 0.0</br>caa_2: 0.0</br>caa_3: 0.0</br>caa_4: 0.0</br>cp_1: 0.0</br>cp_2: 0.0</br>cp_3: 1.0</br>restecg_1: 0.0</br>restecg_2: 0.0</br>_original_yhat_: 0.9919773936271667</br>"
          ],
          [
           "</br>id: 14</br>prediction: 0.992</br>sex: 0.02</br></br>age: 58.0</br>trtbps: 150.0</br>chol: 283.0</br>fbs: 1.0</br>thalachh: 162.0</br>oldpeak: 1.0</br>slp: 2.0</br>thall: 2.0</br>exng_1: 0.0</br>caa_1: 0.0</br>caa_2: 0.0</br>caa_3: 0.0</br>caa_4: 0.0</br>cp_1: 0.0</br>cp_2: 0.0</br>cp_3: 1.0</br>restecg_1: 0.0</br>restecg_2: 0.0</br>_original_yhat_: 0.9919773936271667</br>"
          ],
          [
           "</br>id: 14</br>prediction: 0.992</br>sex: 0.03</br></br>age: 58.0</br>trtbps: 150.0</br>chol: 283.0</br>fbs: 1.0</br>thalachh: 162.0</br>oldpeak: 1.0</br>slp: 2.0</br>thall: 2.0</br>exng_1: 0.0</br>caa_1: 0.0</br>caa_2: 0.0</br>caa_3: 0.0</br>caa_4: 0.0</br>cp_1: 0.0</br>cp_2: 0.0</br>cp_3: 1.0</br>restecg_1: 0.0</br>restecg_2: 0.0</br>_original_yhat_: 0.9919773936271667</br>"
          ],
          [
           "</br>id: 14</br>prediction: 0.992</br>sex: 0.04</br></br>age: 58.0</br>trtbps: 150.0</br>chol: 283.0</br>fbs: 1.0</br>thalachh: 162.0</br>oldpeak: 1.0</br>slp: 2.0</br>thall: 2.0</br>exng_1: 0.0</br>caa_1: 0.0</br>caa_2: 0.0</br>caa_3: 0.0</br>caa_4: 0.0</br>cp_1: 0.0</br>cp_2: 0.0</br>cp_3: 1.0</br>restecg_1: 0.0</br>restecg_2: 0.0</br>_original_yhat_: 0.9919773936271667</br>"
          ],
          [
           "</br>id: 14</br>prediction: 0.992</br>sex: 0.05</br></br>age: 58.0</br>trtbps: 150.0</br>chol: 283.0</br>fbs: 1.0</br>thalachh: 162.0</br>oldpeak: 1.0</br>slp: 2.0</br>thall: 2.0</br>exng_1: 0.0</br>caa_1: 0.0</br>caa_2: 0.0</br>caa_3: 0.0</br>caa_4: 0.0</br>cp_1: 0.0</br>cp_2: 0.0</br>cp_3: 1.0</br>restecg_1: 0.0</br>restecg_2: 0.0</br>_original_yhat_: 0.9919773936271667</br>"
          ],
          [
           "</br>id: 14</br>prediction: 0.992</br>sex: 0.06</br></br>age: 58.0</br>trtbps: 150.0</br>chol: 283.0</br>fbs: 1.0</br>thalachh: 162.0</br>oldpeak: 1.0</br>slp: 2.0</br>thall: 2.0</br>exng_1: 0.0</br>caa_1: 0.0</br>caa_2: 0.0</br>caa_3: 0.0</br>caa_4: 0.0</br>cp_1: 0.0</br>cp_2: 0.0</br>cp_3: 1.0</br>restecg_1: 0.0</br>restecg_2: 0.0</br>_original_yhat_: 0.9919773936271667</br>"
          ],
          [
           "</br>id: 14</br>prediction: 0.992</br>sex: 0.07</br></br>age: 58.0</br>trtbps: 150.0</br>chol: 283.0</br>fbs: 1.0</br>thalachh: 162.0</br>oldpeak: 1.0</br>slp: 2.0</br>thall: 2.0</br>exng_1: 0.0</br>caa_1: 0.0</br>caa_2: 0.0</br>caa_3: 0.0</br>caa_4: 0.0</br>cp_1: 0.0</br>cp_2: 0.0</br>cp_3: 1.0</br>restecg_1: 0.0</br>restecg_2: 0.0</br>_original_yhat_: 0.9919773936271667</br>"
          ],
          [
           "</br>id: 14</br>prediction: 0.992</br>sex: 0.08</br></br>age: 58.0</br>trtbps: 150.0</br>chol: 283.0</br>fbs: 1.0</br>thalachh: 162.0</br>oldpeak: 1.0</br>slp: 2.0</br>thall: 2.0</br>exng_1: 0.0</br>caa_1: 0.0</br>caa_2: 0.0</br>caa_3: 0.0</br>caa_4: 0.0</br>cp_1: 0.0</br>cp_2: 0.0</br>cp_3: 1.0</br>restecg_1: 0.0</br>restecg_2: 0.0</br>_original_yhat_: 0.9919773936271667</br>"
          ],
          [
           "</br>id: 14</br>prediction: 0.992</br>sex: 0.09</br></br>age: 58.0</br>trtbps: 150.0</br>chol: 283.0</br>fbs: 1.0</br>thalachh: 162.0</br>oldpeak: 1.0</br>slp: 2.0</br>thall: 2.0</br>exng_1: 0.0</br>caa_1: 0.0</br>caa_2: 0.0</br>caa_3: 0.0</br>caa_4: 0.0</br>cp_1: 0.0</br>cp_2: 0.0</br>cp_3: 1.0</br>restecg_1: 0.0</br>restecg_2: 0.0</br>_original_yhat_: 0.9919773936271667</br>"
          ],
          [
           "</br>id: 14</br>prediction: 0.992</br>sex: 0.1</br></br>age: 58.0</br>trtbps: 150.0</br>chol: 283.0</br>fbs: 1.0</br>thalachh: 162.0</br>oldpeak: 1.0</br>slp: 2.0</br>thall: 2.0</br>exng_1: 0.0</br>caa_1: 0.0</br>caa_2: 0.0</br>caa_3: 0.0</br>caa_4: 0.0</br>cp_1: 0.0</br>cp_2: 0.0</br>cp_3: 1.0</br>restecg_1: 0.0</br>restecg_2: 0.0</br>_original_yhat_: 0.9919773936271667</br>"
          ],
          [
           "</br>id: 14</br>prediction: 0.992</br>sex: 0.11</br></br>age: 58.0</br>trtbps: 150.0</br>chol: 283.0</br>fbs: 1.0</br>thalachh: 162.0</br>oldpeak: 1.0</br>slp: 2.0</br>thall: 2.0</br>exng_1: 0.0</br>caa_1: 0.0</br>caa_2: 0.0</br>caa_3: 0.0</br>caa_4: 0.0</br>cp_1: 0.0</br>cp_2: 0.0</br>cp_3: 1.0</br>restecg_1: 0.0</br>restecg_2: 0.0</br>_original_yhat_: 0.9919773936271667</br>"
          ],
          [
           "</br>id: 14</br>prediction: 0.992</br>sex: 0.12</br></br>age: 58.0</br>trtbps: 150.0</br>chol: 283.0</br>fbs: 1.0</br>thalachh: 162.0</br>oldpeak: 1.0</br>slp: 2.0</br>thall: 2.0</br>exng_1: 0.0</br>caa_1: 0.0</br>caa_2: 0.0</br>caa_3: 0.0</br>caa_4: 0.0</br>cp_1: 0.0</br>cp_2: 0.0</br>cp_3: 1.0</br>restecg_1: 0.0</br>restecg_2: 0.0</br>_original_yhat_: 0.9919773936271667</br>"
          ],
          [
           "</br>id: 14</br>prediction: 0.992</br>sex: 0.13</br></br>age: 58.0</br>trtbps: 150.0</br>chol: 283.0</br>fbs: 1.0</br>thalachh: 162.0</br>oldpeak: 1.0</br>slp: 2.0</br>thall: 2.0</br>exng_1: 0.0</br>caa_1: 0.0</br>caa_2: 0.0</br>caa_3: 0.0</br>caa_4: 0.0</br>cp_1: 0.0</br>cp_2: 0.0</br>cp_3: 1.0</br>restecg_1: 0.0</br>restecg_2: 0.0</br>_original_yhat_: 0.9919773936271667</br>"
          ],
          [
           "</br>id: 14</br>prediction: 0.992</br>sex: 0.14</br></br>age: 58.0</br>trtbps: 150.0</br>chol: 283.0</br>fbs: 1.0</br>thalachh: 162.0</br>oldpeak: 1.0</br>slp: 2.0</br>thall: 2.0</br>exng_1: 0.0</br>caa_1: 0.0</br>caa_2: 0.0</br>caa_3: 0.0</br>caa_4: 0.0</br>cp_1: 0.0</br>cp_2: 0.0</br>cp_3: 1.0</br>restecg_1: 0.0</br>restecg_2: 0.0</br>_original_yhat_: 0.9919773936271667</br>"
          ],
          [
           "</br>id: 14</br>prediction: 0.992</br>sex: 0.15</br></br>age: 58.0</br>trtbps: 150.0</br>chol: 283.0</br>fbs: 1.0</br>thalachh: 162.0</br>oldpeak: 1.0</br>slp: 2.0</br>thall: 2.0</br>exng_1: 0.0</br>caa_1: 0.0</br>caa_2: 0.0</br>caa_3: 0.0</br>caa_4: 0.0</br>cp_1: 0.0</br>cp_2: 0.0</br>cp_3: 1.0</br>restecg_1: 0.0</br>restecg_2: 0.0</br>_original_yhat_: 0.9919773936271667</br>"
          ],
          [
           "</br>id: 14</br>prediction: 0.992</br>sex: 0.16</br></br>age: 58.0</br>trtbps: 150.0</br>chol: 283.0</br>fbs: 1.0</br>thalachh: 162.0</br>oldpeak: 1.0</br>slp: 2.0</br>thall: 2.0</br>exng_1: 0.0</br>caa_1: 0.0</br>caa_2: 0.0</br>caa_3: 0.0</br>caa_4: 0.0</br>cp_1: 0.0</br>cp_2: 0.0</br>cp_3: 1.0</br>restecg_1: 0.0</br>restecg_2: 0.0</br>_original_yhat_: 0.9919773936271667</br>"
          ],
          [
           "</br>id: 14</br>prediction: 0.992</br>sex: 0.17</br></br>age: 58.0</br>trtbps: 150.0</br>chol: 283.0</br>fbs: 1.0</br>thalachh: 162.0</br>oldpeak: 1.0</br>slp: 2.0</br>thall: 2.0</br>exng_1: 0.0</br>caa_1: 0.0</br>caa_2: 0.0</br>caa_3: 0.0</br>caa_4: 0.0</br>cp_1: 0.0</br>cp_2: 0.0</br>cp_3: 1.0</br>restecg_1: 0.0</br>restecg_2: 0.0</br>_original_yhat_: 0.9919773936271667</br>"
          ],
          [
           "</br>id: 14</br>prediction: 0.992</br>sex: 0.18</br></br>age: 58.0</br>trtbps: 150.0</br>chol: 283.0</br>fbs: 1.0</br>thalachh: 162.0</br>oldpeak: 1.0</br>slp: 2.0</br>thall: 2.0</br>exng_1: 0.0</br>caa_1: 0.0</br>caa_2: 0.0</br>caa_3: 0.0</br>caa_4: 0.0</br>cp_1: 0.0</br>cp_2: 0.0</br>cp_3: 1.0</br>restecg_1: 0.0</br>restecg_2: 0.0</br>_original_yhat_: 0.9919773936271667</br>"
          ],
          [
           "</br>id: 14</br>prediction: 0.992</br>sex: 0.19</br></br>age: 58.0</br>trtbps: 150.0</br>chol: 283.0</br>fbs: 1.0</br>thalachh: 162.0</br>oldpeak: 1.0</br>slp: 2.0</br>thall: 2.0</br>exng_1: 0.0</br>caa_1: 0.0</br>caa_2: 0.0</br>caa_3: 0.0</br>caa_4: 0.0</br>cp_1: 0.0</br>cp_2: 0.0</br>cp_3: 1.0</br>restecg_1: 0.0</br>restecg_2: 0.0</br>_original_yhat_: 0.9919773936271667</br>"
          ],
          [
           "</br>id: 14</br>prediction: 0.992</br>sex: 0.2</br></br>age: 58.0</br>trtbps: 150.0</br>chol: 283.0</br>fbs: 1.0</br>thalachh: 162.0</br>oldpeak: 1.0</br>slp: 2.0</br>thall: 2.0</br>exng_1: 0.0</br>caa_1: 0.0</br>caa_2: 0.0</br>caa_3: 0.0</br>caa_4: 0.0</br>cp_1: 0.0</br>cp_2: 0.0</br>cp_3: 1.0</br>restecg_1: 0.0</br>restecg_2: 0.0</br>_original_yhat_: 0.9919773936271667</br>"
          ],
          [
           "</br>id: 14</br>prediction: 0.992</br>sex: 0.21</br></br>age: 58.0</br>trtbps: 150.0</br>chol: 283.0</br>fbs: 1.0</br>thalachh: 162.0</br>oldpeak: 1.0</br>slp: 2.0</br>thall: 2.0</br>exng_1: 0.0</br>caa_1: 0.0</br>caa_2: 0.0</br>caa_3: 0.0</br>caa_4: 0.0</br>cp_1: 0.0</br>cp_2: 0.0</br>cp_3: 1.0</br>restecg_1: 0.0</br>restecg_2: 0.0</br>_original_yhat_: 0.9919773936271667</br>"
          ],
          [
           "</br>id: 14</br>prediction: 0.992</br>sex: 0.22</br></br>age: 58.0</br>trtbps: 150.0</br>chol: 283.0</br>fbs: 1.0</br>thalachh: 162.0</br>oldpeak: 1.0</br>slp: 2.0</br>thall: 2.0</br>exng_1: 0.0</br>caa_1: 0.0</br>caa_2: 0.0</br>caa_3: 0.0</br>caa_4: 0.0</br>cp_1: 0.0</br>cp_2: 0.0</br>cp_3: 1.0</br>restecg_1: 0.0</br>restecg_2: 0.0</br>_original_yhat_: 0.9919773936271667</br>"
          ],
          [
           "</br>id: 14</br>prediction: 0.992</br>sex: 0.23</br></br>age: 58.0</br>trtbps: 150.0</br>chol: 283.0</br>fbs: 1.0</br>thalachh: 162.0</br>oldpeak: 1.0</br>slp: 2.0</br>thall: 2.0</br>exng_1: 0.0</br>caa_1: 0.0</br>caa_2: 0.0</br>caa_3: 0.0</br>caa_4: 0.0</br>cp_1: 0.0</br>cp_2: 0.0</br>cp_3: 1.0</br>restecg_1: 0.0</br>restecg_2: 0.0</br>_original_yhat_: 0.9919773936271667</br>"
          ],
          [
           "</br>id: 14</br>prediction: 0.992</br>sex: 0.24</br></br>age: 58.0</br>trtbps: 150.0</br>chol: 283.0</br>fbs: 1.0</br>thalachh: 162.0</br>oldpeak: 1.0</br>slp: 2.0</br>thall: 2.0</br>exng_1: 0.0</br>caa_1: 0.0</br>caa_2: 0.0</br>caa_3: 0.0</br>caa_4: 0.0</br>cp_1: 0.0</br>cp_2: 0.0</br>cp_3: 1.0</br>restecg_1: 0.0</br>restecg_2: 0.0</br>_original_yhat_: 0.9919773936271667</br>"
          ],
          [
           "</br>id: 14</br>prediction: 0.992</br>sex: 0.25</br></br>age: 58.0</br>trtbps: 150.0</br>chol: 283.0</br>fbs: 1.0</br>thalachh: 162.0</br>oldpeak: 1.0</br>slp: 2.0</br>thall: 2.0</br>exng_1: 0.0</br>caa_1: 0.0</br>caa_2: 0.0</br>caa_3: 0.0</br>caa_4: 0.0</br>cp_1: 0.0</br>cp_2: 0.0</br>cp_3: 1.0</br>restecg_1: 0.0</br>restecg_2: 0.0</br>_original_yhat_: 0.9919773936271667</br>"
          ],
          [
           "</br>id: 14</br>prediction: 0.992</br>sex: 0.26</br></br>age: 58.0</br>trtbps: 150.0</br>chol: 283.0</br>fbs: 1.0</br>thalachh: 162.0</br>oldpeak: 1.0</br>slp: 2.0</br>thall: 2.0</br>exng_1: 0.0</br>caa_1: 0.0</br>caa_2: 0.0</br>caa_3: 0.0</br>caa_4: 0.0</br>cp_1: 0.0</br>cp_2: 0.0</br>cp_3: 1.0</br>restecg_1: 0.0</br>restecg_2: 0.0</br>_original_yhat_: 0.9919773936271667</br>"
          ],
          [
           "</br>id: 14</br>prediction: 0.992</br>sex: 0.27</br></br>age: 58.0</br>trtbps: 150.0</br>chol: 283.0</br>fbs: 1.0</br>thalachh: 162.0</br>oldpeak: 1.0</br>slp: 2.0</br>thall: 2.0</br>exng_1: 0.0</br>caa_1: 0.0</br>caa_2: 0.0</br>caa_3: 0.0</br>caa_4: 0.0</br>cp_1: 0.0</br>cp_2: 0.0</br>cp_3: 1.0</br>restecg_1: 0.0</br>restecg_2: 0.0</br>_original_yhat_: 0.9919773936271667</br>"
          ],
          [
           "</br>id: 14</br>prediction: 0.992</br>sex: 0.28</br></br>age: 58.0</br>trtbps: 150.0</br>chol: 283.0</br>fbs: 1.0</br>thalachh: 162.0</br>oldpeak: 1.0</br>slp: 2.0</br>thall: 2.0</br>exng_1: 0.0</br>caa_1: 0.0</br>caa_2: 0.0</br>caa_3: 0.0</br>caa_4: 0.0</br>cp_1: 0.0</br>cp_2: 0.0</br>cp_3: 1.0</br>restecg_1: 0.0</br>restecg_2: 0.0</br>_original_yhat_: 0.9919773936271667</br>"
          ],
          [
           "</br>id: 14</br>prediction: 0.992</br>sex: 0.29</br></br>age: 58.0</br>trtbps: 150.0</br>chol: 283.0</br>fbs: 1.0</br>thalachh: 162.0</br>oldpeak: 1.0</br>slp: 2.0</br>thall: 2.0</br>exng_1: 0.0</br>caa_1: 0.0</br>caa_2: 0.0</br>caa_3: 0.0</br>caa_4: 0.0</br>cp_1: 0.0</br>cp_2: 0.0</br>cp_3: 1.0</br>restecg_1: 0.0</br>restecg_2: 0.0</br>_original_yhat_: 0.9919773936271667</br>"
          ],
          [
           "</br>id: 14</br>prediction: 0.992</br>sex: 0.3</br></br>age: 58.0</br>trtbps: 150.0</br>chol: 283.0</br>fbs: 1.0</br>thalachh: 162.0</br>oldpeak: 1.0</br>slp: 2.0</br>thall: 2.0</br>exng_1: 0.0</br>caa_1: 0.0</br>caa_2: 0.0</br>caa_3: 0.0</br>caa_4: 0.0</br>cp_1: 0.0</br>cp_2: 0.0</br>cp_3: 1.0</br>restecg_1: 0.0</br>restecg_2: 0.0</br>_original_yhat_: 0.9919773936271667</br>"
          ],
          [
           "</br>id: 14</br>prediction: 0.992</br>sex: 0.31</br></br>age: 58.0</br>trtbps: 150.0</br>chol: 283.0</br>fbs: 1.0</br>thalachh: 162.0</br>oldpeak: 1.0</br>slp: 2.0</br>thall: 2.0</br>exng_1: 0.0</br>caa_1: 0.0</br>caa_2: 0.0</br>caa_3: 0.0</br>caa_4: 0.0</br>cp_1: 0.0</br>cp_2: 0.0</br>cp_3: 1.0</br>restecg_1: 0.0</br>restecg_2: 0.0</br>_original_yhat_: 0.9919773936271667</br>"
          ],
          [
           "</br>id: 14</br>prediction: 0.992</br>sex: 0.32</br></br>age: 58.0</br>trtbps: 150.0</br>chol: 283.0</br>fbs: 1.0</br>thalachh: 162.0</br>oldpeak: 1.0</br>slp: 2.0</br>thall: 2.0</br>exng_1: 0.0</br>caa_1: 0.0</br>caa_2: 0.0</br>caa_3: 0.0</br>caa_4: 0.0</br>cp_1: 0.0</br>cp_2: 0.0</br>cp_3: 1.0</br>restecg_1: 0.0</br>restecg_2: 0.0</br>_original_yhat_: 0.9919773936271667</br>"
          ],
          [
           "</br>id: 14</br>prediction: 0.992</br>sex: 0.33</br></br>age: 58.0</br>trtbps: 150.0</br>chol: 283.0</br>fbs: 1.0</br>thalachh: 162.0</br>oldpeak: 1.0</br>slp: 2.0</br>thall: 2.0</br>exng_1: 0.0</br>caa_1: 0.0</br>caa_2: 0.0</br>caa_3: 0.0</br>caa_4: 0.0</br>cp_1: 0.0</br>cp_2: 0.0</br>cp_3: 1.0</br>restecg_1: 0.0</br>restecg_2: 0.0</br>_original_yhat_: 0.9919773936271667</br>"
          ],
          [
           "</br>id: 14</br>prediction: 0.992</br>sex: 0.34</br></br>age: 58.0</br>trtbps: 150.0</br>chol: 283.0</br>fbs: 1.0</br>thalachh: 162.0</br>oldpeak: 1.0</br>slp: 2.0</br>thall: 2.0</br>exng_1: 0.0</br>caa_1: 0.0</br>caa_2: 0.0</br>caa_3: 0.0</br>caa_4: 0.0</br>cp_1: 0.0</br>cp_2: 0.0</br>cp_3: 1.0</br>restecg_1: 0.0</br>restecg_2: 0.0</br>_original_yhat_: 0.9919773936271667</br>"
          ],
          [
           "</br>id: 14</br>prediction: 0.992</br>sex: 0.35000000000000003</br></br>age: 58.0</br>trtbps: 150.0</br>chol: 283.0</br>fbs: 1.0</br>thalachh: 162.0</br>oldpeak: 1.0</br>slp: 2.0</br>thall: 2.0</br>exng_1: 0.0</br>caa_1: 0.0</br>caa_2: 0.0</br>caa_3: 0.0</br>caa_4: 0.0</br>cp_1: 0.0</br>cp_2: 0.0</br>cp_3: 1.0</br>restecg_1: 0.0</br>restecg_2: 0.0</br>_original_yhat_: 0.9919773936271667</br>"
          ],
          [
           "</br>id: 14</br>prediction: 0.992</br>sex: 0.36</br></br>age: 58.0</br>trtbps: 150.0</br>chol: 283.0</br>fbs: 1.0</br>thalachh: 162.0</br>oldpeak: 1.0</br>slp: 2.0</br>thall: 2.0</br>exng_1: 0.0</br>caa_1: 0.0</br>caa_2: 0.0</br>caa_3: 0.0</br>caa_4: 0.0</br>cp_1: 0.0</br>cp_2: 0.0</br>cp_3: 1.0</br>restecg_1: 0.0</br>restecg_2: 0.0</br>_original_yhat_: 0.9919773936271667</br>"
          ],
          [
           "</br>id: 14</br>prediction: 0.992</br>sex: 0.37</br></br>age: 58.0</br>trtbps: 150.0</br>chol: 283.0</br>fbs: 1.0</br>thalachh: 162.0</br>oldpeak: 1.0</br>slp: 2.0</br>thall: 2.0</br>exng_1: 0.0</br>caa_1: 0.0</br>caa_2: 0.0</br>caa_3: 0.0</br>caa_4: 0.0</br>cp_1: 0.0</br>cp_2: 0.0</br>cp_3: 1.0</br>restecg_1: 0.0</br>restecg_2: 0.0</br>_original_yhat_: 0.9919773936271667</br>"
          ],
          [
           "</br>id: 14</br>prediction: 0.992</br>sex: 0.38</br></br>age: 58.0</br>trtbps: 150.0</br>chol: 283.0</br>fbs: 1.0</br>thalachh: 162.0</br>oldpeak: 1.0</br>slp: 2.0</br>thall: 2.0</br>exng_1: 0.0</br>caa_1: 0.0</br>caa_2: 0.0</br>caa_3: 0.0</br>caa_4: 0.0</br>cp_1: 0.0</br>cp_2: 0.0</br>cp_3: 1.0</br>restecg_1: 0.0</br>restecg_2: 0.0</br>_original_yhat_: 0.9919773936271667</br>"
          ],
          [
           "</br>id: 14</br>prediction: 0.992</br>sex: 0.39</br></br>age: 58.0</br>trtbps: 150.0</br>chol: 283.0</br>fbs: 1.0</br>thalachh: 162.0</br>oldpeak: 1.0</br>slp: 2.0</br>thall: 2.0</br>exng_1: 0.0</br>caa_1: 0.0</br>caa_2: 0.0</br>caa_3: 0.0</br>caa_4: 0.0</br>cp_1: 0.0</br>cp_2: 0.0</br>cp_3: 1.0</br>restecg_1: 0.0</br>restecg_2: 0.0</br>_original_yhat_: 0.9919773936271667</br>"
          ],
          [
           "</br>id: 14</br>prediction: 0.992</br>sex: 0.4</br></br>age: 58.0</br>trtbps: 150.0</br>chol: 283.0</br>fbs: 1.0</br>thalachh: 162.0</br>oldpeak: 1.0</br>slp: 2.0</br>thall: 2.0</br>exng_1: 0.0</br>caa_1: 0.0</br>caa_2: 0.0</br>caa_3: 0.0</br>caa_4: 0.0</br>cp_1: 0.0</br>cp_2: 0.0</br>cp_3: 1.0</br>restecg_1: 0.0</br>restecg_2: 0.0</br>_original_yhat_: 0.9919773936271667</br>"
          ],
          [
           "</br>id: 14</br>prediction: 0.992</br>sex: 0.41000000000000003</br></br>age: 58.0</br>trtbps: 150.0</br>chol: 283.0</br>fbs: 1.0</br>thalachh: 162.0</br>oldpeak: 1.0</br>slp: 2.0</br>thall: 2.0</br>exng_1: 0.0</br>caa_1: 0.0</br>caa_2: 0.0</br>caa_3: 0.0</br>caa_4: 0.0</br>cp_1: 0.0</br>cp_2: 0.0</br>cp_3: 1.0</br>restecg_1: 0.0</br>restecg_2: 0.0</br>_original_yhat_: 0.9919773936271667</br>"
          ],
          [
           "</br>id: 14</br>prediction: 0.992</br>sex: 0.42</br></br>age: 58.0</br>trtbps: 150.0</br>chol: 283.0</br>fbs: 1.0</br>thalachh: 162.0</br>oldpeak: 1.0</br>slp: 2.0</br>thall: 2.0</br>exng_1: 0.0</br>caa_1: 0.0</br>caa_2: 0.0</br>caa_3: 0.0</br>caa_4: 0.0</br>cp_1: 0.0</br>cp_2: 0.0</br>cp_3: 1.0</br>restecg_1: 0.0</br>restecg_2: 0.0</br>_original_yhat_: 0.9919773936271667</br>"
          ],
          [
           "</br>id: 14</br>prediction: 0.992</br>sex: 0.43</br></br>age: 58.0</br>trtbps: 150.0</br>chol: 283.0</br>fbs: 1.0</br>thalachh: 162.0</br>oldpeak: 1.0</br>slp: 2.0</br>thall: 2.0</br>exng_1: 0.0</br>caa_1: 0.0</br>caa_2: 0.0</br>caa_3: 0.0</br>caa_4: 0.0</br>cp_1: 0.0</br>cp_2: 0.0</br>cp_3: 1.0</br>restecg_1: 0.0</br>restecg_2: 0.0</br>_original_yhat_: 0.9919773936271667</br>"
          ],
          [
           "</br>id: 14</br>prediction: 0.992</br>sex: 0.44</br></br>age: 58.0</br>trtbps: 150.0</br>chol: 283.0</br>fbs: 1.0</br>thalachh: 162.0</br>oldpeak: 1.0</br>slp: 2.0</br>thall: 2.0</br>exng_1: 0.0</br>caa_1: 0.0</br>caa_2: 0.0</br>caa_3: 0.0</br>caa_4: 0.0</br>cp_1: 0.0</br>cp_2: 0.0</br>cp_3: 1.0</br>restecg_1: 0.0</br>restecg_2: 0.0</br>_original_yhat_: 0.9919773936271667</br>"
          ],
          [
           "</br>id: 14</br>prediction: 0.992</br>sex: 0.45</br></br>age: 58.0</br>trtbps: 150.0</br>chol: 283.0</br>fbs: 1.0</br>thalachh: 162.0</br>oldpeak: 1.0</br>slp: 2.0</br>thall: 2.0</br>exng_1: 0.0</br>caa_1: 0.0</br>caa_2: 0.0</br>caa_3: 0.0</br>caa_4: 0.0</br>cp_1: 0.0</br>cp_2: 0.0</br>cp_3: 1.0</br>restecg_1: 0.0</br>restecg_2: 0.0</br>_original_yhat_: 0.9919773936271667</br>"
          ],
          [
           "</br>id: 14</br>prediction: 0.992</br>sex: 0.46</br></br>age: 58.0</br>trtbps: 150.0</br>chol: 283.0</br>fbs: 1.0</br>thalachh: 162.0</br>oldpeak: 1.0</br>slp: 2.0</br>thall: 2.0</br>exng_1: 0.0</br>caa_1: 0.0</br>caa_2: 0.0</br>caa_3: 0.0</br>caa_4: 0.0</br>cp_1: 0.0</br>cp_2: 0.0</br>cp_3: 1.0</br>restecg_1: 0.0</br>restecg_2: 0.0</br>_original_yhat_: 0.9919773936271667</br>"
          ],
          [
           "</br>id: 14</br>prediction: 0.992</br>sex: 0.47000000000000003</br></br>age: 58.0</br>trtbps: 150.0</br>chol: 283.0</br>fbs: 1.0</br>thalachh: 162.0</br>oldpeak: 1.0</br>slp: 2.0</br>thall: 2.0</br>exng_1: 0.0</br>caa_1: 0.0</br>caa_2: 0.0</br>caa_3: 0.0</br>caa_4: 0.0</br>cp_1: 0.0</br>cp_2: 0.0</br>cp_3: 1.0</br>restecg_1: 0.0</br>restecg_2: 0.0</br>_original_yhat_: 0.9919773936271667</br>"
          ],
          [
           "</br>id: 14</br>prediction: 0.992</br>sex: 0.48</br></br>age: 58.0</br>trtbps: 150.0</br>chol: 283.0</br>fbs: 1.0</br>thalachh: 162.0</br>oldpeak: 1.0</br>slp: 2.0</br>thall: 2.0</br>exng_1: 0.0</br>caa_1: 0.0</br>caa_2: 0.0</br>caa_3: 0.0</br>caa_4: 0.0</br>cp_1: 0.0</br>cp_2: 0.0</br>cp_3: 1.0</br>restecg_1: 0.0</br>restecg_2: 0.0</br>_original_yhat_: 0.9919773936271667</br>"
          ],
          [
           "</br>id: 14</br>prediction: 0.992</br>sex: 0.49</br></br>age: 58.0</br>trtbps: 150.0</br>chol: 283.0</br>fbs: 1.0</br>thalachh: 162.0</br>oldpeak: 1.0</br>slp: 2.0</br>thall: 2.0</br>exng_1: 0.0</br>caa_1: 0.0</br>caa_2: 0.0</br>caa_3: 0.0</br>caa_4: 0.0</br>cp_1: 0.0</br>cp_2: 0.0</br>cp_3: 1.0</br>restecg_1: 0.0</br>restecg_2: 0.0</br>_original_yhat_: 0.9919773936271667</br>"
          ],
          [
           "</br>id: 14</br>prediction: 0.453</br>sex: 0.5</br></br>age: 58.0</br>trtbps: 150.0</br>chol: 283.0</br>fbs: 1.0</br>thalachh: 162.0</br>oldpeak: 1.0</br>slp: 2.0</br>thall: 2.0</br>exng_1: 0.0</br>caa_1: 0.0</br>caa_2: 0.0</br>caa_3: 0.0</br>caa_4: 0.0</br>cp_1: 0.0</br>cp_2: 0.0</br>cp_3: 1.0</br>restecg_1: 0.0</br>restecg_2: 0.0</br>_original_yhat_: 0.9919773936271667</br>"
          ],
          [
           "</br>id: 14</br>prediction: 0.453</br>sex: 0.51</br></br>age: 58.0</br>trtbps: 150.0</br>chol: 283.0</br>fbs: 1.0</br>thalachh: 162.0</br>oldpeak: 1.0</br>slp: 2.0</br>thall: 2.0</br>exng_1: 0.0</br>caa_1: 0.0</br>caa_2: 0.0</br>caa_3: 0.0</br>caa_4: 0.0</br>cp_1: 0.0</br>cp_2: 0.0</br>cp_3: 1.0</br>restecg_1: 0.0</br>restecg_2: 0.0</br>_original_yhat_: 0.9919773936271667</br>"
          ],
          [
           "</br>id: 14</br>prediction: 0.453</br>sex: 0.52</br></br>age: 58.0</br>trtbps: 150.0</br>chol: 283.0</br>fbs: 1.0</br>thalachh: 162.0</br>oldpeak: 1.0</br>slp: 2.0</br>thall: 2.0</br>exng_1: 0.0</br>caa_1: 0.0</br>caa_2: 0.0</br>caa_3: 0.0</br>caa_4: 0.0</br>cp_1: 0.0</br>cp_2: 0.0</br>cp_3: 1.0</br>restecg_1: 0.0</br>restecg_2: 0.0</br>_original_yhat_: 0.9919773936271667</br>"
          ],
          [
           "</br>id: 14</br>prediction: 0.453</br>sex: 0.53</br></br>age: 58.0</br>trtbps: 150.0</br>chol: 283.0</br>fbs: 1.0</br>thalachh: 162.0</br>oldpeak: 1.0</br>slp: 2.0</br>thall: 2.0</br>exng_1: 0.0</br>caa_1: 0.0</br>caa_2: 0.0</br>caa_3: 0.0</br>caa_4: 0.0</br>cp_1: 0.0</br>cp_2: 0.0</br>cp_3: 1.0</br>restecg_1: 0.0</br>restecg_2: 0.0</br>_original_yhat_: 0.9919773936271667</br>"
          ],
          [
           "</br>id: 14</br>prediction: 0.453</br>sex: 0.54</br></br>age: 58.0</br>trtbps: 150.0</br>chol: 283.0</br>fbs: 1.0</br>thalachh: 162.0</br>oldpeak: 1.0</br>slp: 2.0</br>thall: 2.0</br>exng_1: 0.0</br>caa_1: 0.0</br>caa_2: 0.0</br>caa_3: 0.0</br>caa_4: 0.0</br>cp_1: 0.0</br>cp_2: 0.0</br>cp_3: 1.0</br>restecg_1: 0.0</br>restecg_2: 0.0</br>_original_yhat_: 0.9919773936271667</br>"
          ],
          [
           "</br>id: 14</br>prediction: 0.453</br>sex: 0.55</br></br>age: 58.0</br>trtbps: 150.0</br>chol: 283.0</br>fbs: 1.0</br>thalachh: 162.0</br>oldpeak: 1.0</br>slp: 2.0</br>thall: 2.0</br>exng_1: 0.0</br>caa_1: 0.0</br>caa_2: 0.0</br>caa_3: 0.0</br>caa_4: 0.0</br>cp_1: 0.0</br>cp_2: 0.0</br>cp_3: 1.0</br>restecg_1: 0.0</br>restecg_2: 0.0</br>_original_yhat_: 0.9919773936271667</br>"
          ],
          [
           "</br>id: 14</br>prediction: 0.453</br>sex: 0.56</br></br>age: 58.0</br>trtbps: 150.0</br>chol: 283.0</br>fbs: 1.0</br>thalachh: 162.0</br>oldpeak: 1.0</br>slp: 2.0</br>thall: 2.0</br>exng_1: 0.0</br>caa_1: 0.0</br>caa_2: 0.0</br>caa_3: 0.0</br>caa_4: 0.0</br>cp_1: 0.0</br>cp_2: 0.0</br>cp_3: 1.0</br>restecg_1: 0.0</br>restecg_2: 0.0</br>_original_yhat_: 0.9919773936271667</br>"
          ],
          [
           "</br>id: 14</br>prediction: 0.453</br>sex: 0.5700000000000001</br></br>age: 58.0</br>trtbps: 150.0</br>chol: 283.0</br>fbs: 1.0</br>thalachh: 162.0</br>oldpeak: 1.0</br>slp: 2.0</br>thall: 2.0</br>exng_1: 0.0</br>caa_1: 0.0</br>caa_2: 0.0</br>caa_3: 0.0</br>caa_4: 0.0</br>cp_1: 0.0</br>cp_2: 0.0</br>cp_3: 1.0</br>restecg_1: 0.0</br>restecg_2: 0.0</br>_original_yhat_: 0.9919773936271667</br>"
          ],
          [
           "</br>id: 14</br>prediction: 0.453</br>sex: 0.58</br></br>age: 58.0</br>trtbps: 150.0</br>chol: 283.0</br>fbs: 1.0</br>thalachh: 162.0</br>oldpeak: 1.0</br>slp: 2.0</br>thall: 2.0</br>exng_1: 0.0</br>caa_1: 0.0</br>caa_2: 0.0</br>caa_3: 0.0</br>caa_4: 0.0</br>cp_1: 0.0</br>cp_2: 0.0</br>cp_3: 1.0</br>restecg_1: 0.0</br>restecg_2: 0.0</br>_original_yhat_: 0.9919773936271667</br>"
          ],
          [
           "</br>id: 14</br>prediction: 0.453</br>sex: 0.59</br></br>age: 58.0</br>trtbps: 150.0</br>chol: 283.0</br>fbs: 1.0</br>thalachh: 162.0</br>oldpeak: 1.0</br>slp: 2.0</br>thall: 2.0</br>exng_1: 0.0</br>caa_1: 0.0</br>caa_2: 0.0</br>caa_3: 0.0</br>caa_4: 0.0</br>cp_1: 0.0</br>cp_2: 0.0</br>cp_3: 1.0</br>restecg_1: 0.0</br>restecg_2: 0.0</br>_original_yhat_: 0.9919773936271667</br>"
          ],
          [
           "</br>id: 14</br>prediction: 0.453</br>sex: 0.6</br></br>age: 58.0</br>trtbps: 150.0</br>chol: 283.0</br>fbs: 1.0</br>thalachh: 162.0</br>oldpeak: 1.0</br>slp: 2.0</br>thall: 2.0</br>exng_1: 0.0</br>caa_1: 0.0</br>caa_2: 0.0</br>caa_3: 0.0</br>caa_4: 0.0</br>cp_1: 0.0</br>cp_2: 0.0</br>cp_3: 1.0</br>restecg_1: 0.0</br>restecg_2: 0.0</br>_original_yhat_: 0.9919773936271667</br>"
          ],
          [
           "</br>id: 14</br>prediction: 0.453</br>sex: 0.61</br></br>age: 58.0</br>trtbps: 150.0</br>chol: 283.0</br>fbs: 1.0</br>thalachh: 162.0</br>oldpeak: 1.0</br>slp: 2.0</br>thall: 2.0</br>exng_1: 0.0</br>caa_1: 0.0</br>caa_2: 0.0</br>caa_3: 0.0</br>caa_4: 0.0</br>cp_1: 0.0</br>cp_2: 0.0</br>cp_3: 1.0</br>restecg_1: 0.0</br>restecg_2: 0.0</br>_original_yhat_: 0.9919773936271667</br>"
          ],
          [
           "</br>id: 14</br>prediction: 0.453</br>sex: 0.62</br></br>age: 58.0</br>trtbps: 150.0</br>chol: 283.0</br>fbs: 1.0</br>thalachh: 162.0</br>oldpeak: 1.0</br>slp: 2.0</br>thall: 2.0</br>exng_1: 0.0</br>caa_1: 0.0</br>caa_2: 0.0</br>caa_3: 0.0</br>caa_4: 0.0</br>cp_1: 0.0</br>cp_2: 0.0</br>cp_3: 1.0</br>restecg_1: 0.0</br>restecg_2: 0.0</br>_original_yhat_: 0.9919773936271667</br>"
          ],
          [
           "</br>id: 14</br>prediction: 0.453</br>sex: 0.63</br></br>age: 58.0</br>trtbps: 150.0</br>chol: 283.0</br>fbs: 1.0</br>thalachh: 162.0</br>oldpeak: 1.0</br>slp: 2.0</br>thall: 2.0</br>exng_1: 0.0</br>caa_1: 0.0</br>caa_2: 0.0</br>caa_3: 0.0</br>caa_4: 0.0</br>cp_1: 0.0</br>cp_2: 0.0</br>cp_3: 1.0</br>restecg_1: 0.0</br>restecg_2: 0.0</br>_original_yhat_: 0.9919773936271667</br>"
          ],
          [
           "</br>id: 14</br>prediction: 0.453</br>sex: 0.64</br></br>age: 58.0</br>trtbps: 150.0</br>chol: 283.0</br>fbs: 1.0</br>thalachh: 162.0</br>oldpeak: 1.0</br>slp: 2.0</br>thall: 2.0</br>exng_1: 0.0</br>caa_1: 0.0</br>caa_2: 0.0</br>caa_3: 0.0</br>caa_4: 0.0</br>cp_1: 0.0</br>cp_2: 0.0</br>cp_3: 1.0</br>restecg_1: 0.0</br>restecg_2: 0.0</br>_original_yhat_: 0.9919773936271667</br>"
          ],
          [
           "</br>id: 14</br>prediction: 0.453</br>sex: 0.65</br></br>age: 58.0</br>trtbps: 150.0</br>chol: 283.0</br>fbs: 1.0</br>thalachh: 162.0</br>oldpeak: 1.0</br>slp: 2.0</br>thall: 2.0</br>exng_1: 0.0</br>caa_1: 0.0</br>caa_2: 0.0</br>caa_3: 0.0</br>caa_4: 0.0</br>cp_1: 0.0</br>cp_2: 0.0</br>cp_3: 1.0</br>restecg_1: 0.0</br>restecg_2: 0.0</br>_original_yhat_: 0.9919773936271667</br>"
          ],
          [
           "</br>id: 14</br>prediction: 0.453</br>sex: 0.66</br></br>age: 58.0</br>trtbps: 150.0</br>chol: 283.0</br>fbs: 1.0</br>thalachh: 162.0</br>oldpeak: 1.0</br>slp: 2.0</br>thall: 2.0</br>exng_1: 0.0</br>caa_1: 0.0</br>caa_2: 0.0</br>caa_3: 0.0</br>caa_4: 0.0</br>cp_1: 0.0</br>cp_2: 0.0</br>cp_3: 1.0</br>restecg_1: 0.0</br>restecg_2: 0.0</br>_original_yhat_: 0.9919773936271667</br>"
          ],
          [
           "</br>id: 14</br>prediction: 0.453</br>sex: 0.67</br></br>age: 58.0</br>trtbps: 150.0</br>chol: 283.0</br>fbs: 1.0</br>thalachh: 162.0</br>oldpeak: 1.0</br>slp: 2.0</br>thall: 2.0</br>exng_1: 0.0</br>caa_1: 0.0</br>caa_2: 0.0</br>caa_3: 0.0</br>caa_4: 0.0</br>cp_1: 0.0</br>cp_2: 0.0</br>cp_3: 1.0</br>restecg_1: 0.0</br>restecg_2: 0.0</br>_original_yhat_: 0.9919773936271667</br>"
          ],
          [
           "</br>id: 14</br>prediction: 0.453</br>sex: 0.68</br></br>age: 58.0</br>trtbps: 150.0</br>chol: 283.0</br>fbs: 1.0</br>thalachh: 162.0</br>oldpeak: 1.0</br>slp: 2.0</br>thall: 2.0</br>exng_1: 0.0</br>caa_1: 0.0</br>caa_2: 0.0</br>caa_3: 0.0</br>caa_4: 0.0</br>cp_1: 0.0</br>cp_2: 0.0</br>cp_3: 1.0</br>restecg_1: 0.0</br>restecg_2: 0.0</br>_original_yhat_: 0.9919773936271667</br>"
          ],
          [
           "</br>id: 14</br>prediction: 0.453</br>sex: 0.6900000000000001</br></br>age: 58.0</br>trtbps: 150.0</br>chol: 283.0</br>fbs: 1.0</br>thalachh: 162.0</br>oldpeak: 1.0</br>slp: 2.0</br>thall: 2.0</br>exng_1: 0.0</br>caa_1: 0.0</br>caa_2: 0.0</br>caa_3: 0.0</br>caa_4: 0.0</br>cp_1: 0.0</br>cp_2: 0.0</br>cp_3: 1.0</br>restecg_1: 0.0</br>restecg_2: 0.0</br>_original_yhat_: 0.9919773936271667</br>"
          ],
          [
           "</br>id: 14</br>prediction: 0.453</br>sex: 0.7000000000000001</br></br>age: 58.0</br>trtbps: 150.0</br>chol: 283.0</br>fbs: 1.0</br>thalachh: 162.0</br>oldpeak: 1.0</br>slp: 2.0</br>thall: 2.0</br>exng_1: 0.0</br>caa_1: 0.0</br>caa_2: 0.0</br>caa_3: 0.0</br>caa_4: 0.0</br>cp_1: 0.0</br>cp_2: 0.0</br>cp_3: 1.0</br>restecg_1: 0.0</br>restecg_2: 0.0</br>_original_yhat_: 0.9919773936271667</br>"
          ],
          [
           "</br>id: 14</br>prediction: 0.453</br>sex: 0.71</br></br>age: 58.0</br>trtbps: 150.0</br>chol: 283.0</br>fbs: 1.0</br>thalachh: 162.0</br>oldpeak: 1.0</br>slp: 2.0</br>thall: 2.0</br>exng_1: 0.0</br>caa_1: 0.0</br>caa_2: 0.0</br>caa_3: 0.0</br>caa_4: 0.0</br>cp_1: 0.0</br>cp_2: 0.0</br>cp_3: 1.0</br>restecg_1: 0.0</br>restecg_2: 0.0</br>_original_yhat_: 0.9919773936271667</br>"
          ],
          [
           "</br>id: 14</br>prediction: 0.453</br>sex: 0.72</br></br>age: 58.0</br>trtbps: 150.0</br>chol: 283.0</br>fbs: 1.0</br>thalachh: 162.0</br>oldpeak: 1.0</br>slp: 2.0</br>thall: 2.0</br>exng_1: 0.0</br>caa_1: 0.0</br>caa_2: 0.0</br>caa_3: 0.0</br>caa_4: 0.0</br>cp_1: 0.0</br>cp_2: 0.0</br>cp_3: 1.0</br>restecg_1: 0.0</br>restecg_2: 0.0</br>_original_yhat_: 0.9919773936271667</br>"
          ],
          [
           "</br>id: 14</br>prediction: 0.453</br>sex: 0.73</br></br>age: 58.0</br>trtbps: 150.0</br>chol: 283.0</br>fbs: 1.0</br>thalachh: 162.0</br>oldpeak: 1.0</br>slp: 2.0</br>thall: 2.0</br>exng_1: 0.0</br>caa_1: 0.0</br>caa_2: 0.0</br>caa_3: 0.0</br>caa_4: 0.0</br>cp_1: 0.0</br>cp_2: 0.0</br>cp_3: 1.0</br>restecg_1: 0.0</br>restecg_2: 0.0</br>_original_yhat_: 0.9919773936271667</br>"
          ],
          [
           "</br>id: 14</br>prediction: 0.453</br>sex: 0.74</br></br>age: 58.0</br>trtbps: 150.0</br>chol: 283.0</br>fbs: 1.0</br>thalachh: 162.0</br>oldpeak: 1.0</br>slp: 2.0</br>thall: 2.0</br>exng_1: 0.0</br>caa_1: 0.0</br>caa_2: 0.0</br>caa_3: 0.0</br>caa_4: 0.0</br>cp_1: 0.0</br>cp_2: 0.0</br>cp_3: 1.0</br>restecg_1: 0.0</br>restecg_2: 0.0</br>_original_yhat_: 0.9919773936271667</br>"
          ],
          [
           "</br>id: 14</br>prediction: 0.453</br>sex: 0.75</br></br>age: 58.0</br>trtbps: 150.0</br>chol: 283.0</br>fbs: 1.0</br>thalachh: 162.0</br>oldpeak: 1.0</br>slp: 2.0</br>thall: 2.0</br>exng_1: 0.0</br>caa_1: 0.0</br>caa_2: 0.0</br>caa_3: 0.0</br>caa_4: 0.0</br>cp_1: 0.0</br>cp_2: 0.0</br>cp_3: 1.0</br>restecg_1: 0.0</br>restecg_2: 0.0</br>_original_yhat_: 0.9919773936271667</br>"
          ],
          [
           "</br>id: 14</br>prediction: 0.453</br>sex: 0.76</br></br>age: 58.0</br>trtbps: 150.0</br>chol: 283.0</br>fbs: 1.0</br>thalachh: 162.0</br>oldpeak: 1.0</br>slp: 2.0</br>thall: 2.0</br>exng_1: 0.0</br>caa_1: 0.0</br>caa_2: 0.0</br>caa_3: 0.0</br>caa_4: 0.0</br>cp_1: 0.0</br>cp_2: 0.0</br>cp_3: 1.0</br>restecg_1: 0.0</br>restecg_2: 0.0</br>_original_yhat_: 0.9919773936271667</br>"
          ],
          [
           "</br>id: 14</br>prediction: 0.453</br>sex: 0.77</br></br>age: 58.0</br>trtbps: 150.0</br>chol: 283.0</br>fbs: 1.0</br>thalachh: 162.0</br>oldpeak: 1.0</br>slp: 2.0</br>thall: 2.0</br>exng_1: 0.0</br>caa_1: 0.0</br>caa_2: 0.0</br>caa_3: 0.0</br>caa_4: 0.0</br>cp_1: 0.0</br>cp_2: 0.0</br>cp_3: 1.0</br>restecg_1: 0.0</br>restecg_2: 0.0</br>_original_yhat_: 0.9919773936271667</br>"
          ],
          [
           "</br>id: 14</br>prediction: 0.453</br>sex: 0.78</br></br>age: 58.0</br>trtbps: 150.0</br>chol: 283.0</br>fbs: 1.0</br>thalachh: 162.0</br>oldpeak: 1.0</br>slp: 2.0</br>thall: 2.0</br>exng_1: 0.0</br>caa_1: 0.0</br>caa_2: 0.0</br>caa_3: 0.0</br>caa_4: 0.0</br>cp_1: 0.0</br>cp_2: 0.0</br>cp_3: 1.0</br>restecg_1: 0.0</br>restecg_2: 0.0</br>_original_yhat_: 0.9919773936271667</br>"
          ],
          [
           "</br>id: 14</br>prediction: 0.453</br>sex: 0.79</br></br>age: 58.0</br>trtbps: 150.0</br>chol: 283.0</br>fbs: 1.0</br>thalachh: 162.0</br>oldpeak: 1.0</br>slp: 2.0</br>thall: 2.0</br>exng_1: 0.0</br>caa_1: 0.0</br>caa_2: 0.0</br>caa_3: 0.0</br>caa_4: 0.0</br>cp_1: 0.0</br>cp_2: 0.0</br>cp_3: 1.0</br>restecg_1: 0.0</br>restecg_2: 0.0</br>_original_yhat_: 0.9919773936271667</br>"
          ],
          [
           "</br>id: 14</br>prediction: 0.453</br>sex: 0.8</br></br>age: 58.0</br>trtbps: 150.0</br>chol: 283.0</br>fbs: 1.0</br>thalachh: 162.0</br>oldpeak: 1.0</br>slp: 2.0</br>thall: 2.0</br>exng_1: 0.0</br>caa_1: 0.0</br>caa_2: 0.0</br>caa_3: 0.0</br>caa_4: 0.0</br>cp_1: 0.0</br>cp_2: 0.0</br>cp_3: 1.0</br>restecg_1: 0.0</br>restecg_2: 0.0</br>_original_yhat_: 0.9919773936271667</br>"
          ],
          [
           "</br>id: 14</br>prediction: 0.453</br>sex: 0.81</br></br>age: 58.0</br>trtbps: 150.0</br>chol: 283.0</br>fbs: 1.0</br>thalachh: 162.0</br>oldpeak: 1.0</br>slp: 2.0</br>thall: 2.0</br>exng_1: 0.0</br>caa_1: 0.0</br>caa_2: 0.0</br>caa_3: 0.0</br>caa_4: 0.0</br>cp_1: 0.0</br>cp_2: 0.0</br>cp_3: 1.0</br>restecg_1: 0.0</br>restecg_2: 0.0</br>_original_yhat_: 0.9919773936271667</br>"
          ],
          [
           "</br>id: 14</br>prediction: 0.453</br>sex: 0.8200000000000001</br></br>age: 58.0</br>trtbps: 150.0</br>chol: 283.0</br>fbs: 1.0</br>thalachh: 162.0</br>oldpeak: 1.0</br>slp: 2.0</br>thall: 2.0</br>exng_1: 0.0</br>caa_1: 0.0</br>caa_2: 0.0</br>caa_3: 0.0</br>caa_4: 0.0</br>cp_1: 0.0</br>cp_2: 0.0</br>cp_3: 1.0</br>restecg_1: 0.0</br>restecg_2: 0.0</br>_original_yhat_: 0.9919773936271667</br>"
          ],
          [
           "</br>id: 14</br>prediction: 0.453</br>sex: 0.8300000000000001</br></br>age: 58.0</br>trtbps: 150.0</br>chol: 283.0</br>fbs: 1.0</br>thalachh: 162.0</br>oldpeak: 1.0</br>slp: 2.0</br>thall: 2.0</br>exng_1: 0.0</br>caa_1: 0.0</br>caa_2: 0.0</br>caa_3: 0.0</br>caa_4: 0.0</br>cp_1: 0.0</br>cp_2: 0.0</br>cp_3: 1.0</br>restecg_1: 0.0</br>restecg_2: 0.0</br>_original_yhat_: 0.9919773936271667</br>"
          ],
          [
           "</br>id: 14</br>prediction: 0.453</br>sex: 0.84</br></br>age: 58.0</br>trtbps: 150.0</br>chol: 283.0</br>fbs: 1.0</br>thalachh: 162.0</br>oldpeak: 1.0</br>slp: 2.0</br>thall: 2.0</br>exng_1: 0.0</br>caa_1: 0.0</br>caa_2: 0.0</br>caa_3: 0.0</br>caa_4: 0.0</br>cp_1: 0.0</br>cp_2: 0.0</br>cp_3: 1.0</br>restecg_1: 0.0</br>restecg_2: 0.0</br>_original_yhat_: 0.9919773936271667</br>"
          ],
          [
           "</br>id: 14</br>prediction: 0.453</br>sex: 0.85</br></br>age: 58.0</br>trtbps: 150.0</br>chol: 283.0</br>fbs: 1.0</br>thalachh: 162.0</br>oldpeak: 1.0</br>slp: 2.0</br>thall: 2.0</br>exng_1: 0.0</br>caa_1: 0.0</br>caa_2: 0.0</br>caa_3: 0.0</br>caa_4: 0.0</br>cp_1: 0.0</br>cp_2: 0.0</br>cp_3: 1.0</br>restecg_1: 0.0</br>restecg_2: 0.0</br>_original_yhat_: 0.9919773936271667</br>"
          ],
          [
           "</br>id: 14</br>prediction: 0.453</br>sex: 0.86</br></br>age: 58.0</br>trtbps: 150.0</br>chol: 283.0</br>fbs: 1.0</br>thalachh: 162.0</br>oldpeak: 1.0</br>slp: 2.0</br>thall: 2.0</br>exng_1: 0.0</br>caa_1: 0.0</br>caa_2: 0.0</br>caa_3: 0.0</br>caa_4: 0.0</br>cp_1: 0.0</br>cp_2: 0.0</br>cp_3: 1.0</br>restecg_1: 0.0</br>restecg_2: 0.0</br>_original_yhat_: 0.9919773936271667</br>"
          ],
          [
           "</br>id: 14</br>prediction: 0.453</br>sex: 0.87</br></br>age: 58.0</br>trtbps: 150.0</br>chol: 283.0</br>fbs: 1.0</br>thalachh: 162.0</br>oldpeak: 1.0</br>slp: 2.0</br>thall: 2.0</br>exng_1: 0.0</br>caa_1: 0.0</br>caa_2: 0.0</br>caa_3: 0.0</br>caa_4: 0.0</br>cp_1: 0.0</br>cp_2: 0.0</br>cp_3: 1.0</br>restecg_1: 0.0</br>restecg_2: 0.0</br>_original_yhat_: 0.9919773936271667</br>"
          ],
          [
           "</br>id: 14</br>prediction: 0.453</br>sex: 0.88</br></br>age: 58.0</br>trtbps: 150.0</br>chol: 283.0</br>fbs: 1.0</br>thalachh: 162.0</br>oldpeak: 1.0</br>slp: 2.0</br>thall: 2.0</br>exng_1: 0.0</br>caa_1: 0.0</br>caa_2: 0.0</br>caa_3: 0.0</br>caa_4: 0.0</br>cp_1: 0.0</br>cp_2: 0.0</br>cp_3: 1.0</br>restecg_1: 0.0</br>restecg_2: 0.0</br>_original_yhat_: 0.9919773936271667</br>"
          ],
          [
           "</br>id: 14</br>prediction: 0.453</br>sex: 0.89</br></br>age: 58.0</br>trtbps: 150.0</br>chol: 283.0</br>fbs: 1.0</br>thalachh: 162.0</br>oldpeak: 1.0</br>slp: 2.0</br>thall: 2.0</br>exng_1: 0.0</br>caa_1: 0.0</br>caa_2: 0.0</br>caa_3: 0.0</br>caa_4: 0.0</br>cp_1: 0.0</br>cp_2: 0.0</br>cp_3: 1.0</br>restecg_1: 0.0</br>restecg_2: 0.0</br>_original_yhat_: 0.9919773936271667</br>"
          ],
          [
           "</br>id: 14</br>prediction: 0.453</br>sex: 0.9</br></br>age: 58.0</br>trtbps: 150.0</br>chol: 283.0</br>fbs: 1.0</br>thalachh: 162.0</br>oldpeak: 1.0</br>slp: 2.0</br>thall: 2.0</br>exng_1: 0.0</br>caa_1: 0.0</br>caa_2: 0.0</br>caa_3: 0.0</br>caa_4: 0.0</br>cp_1: 0.0</br>cp_2: 0.0</br>cp_3: 1.0</br>restecg_1: 0.0</br>restecg_2: 0.0</br>_original_yhat_: 0.9919773936271667</br>"
          ],
          [
           "</br>id: 14</br>prediction: 0.453</br>sex: 0.91</br></br>age: 58.0</br>trtbps: 150.0</br>chol: 283.0</br>fbs: 1.0</br>thalachh: 162.0</br>oldpeak: 1.0</br>slp: 2.0</br>thall: 2.0</br>exng_1: 0.0</br>caa_1: 0.0</br>caa_2: 0.0</br>caa_3: 0.0</br>caa_4: 0.0</br>cp_1: 0.0</br>cp_2: 0.0</br>cp_3: 1.0</br>restecg_1: 0.0</br>restecg_2: 0.0</br>_original_yhat_: 0.9919773936271667</br>"
          ],
          [
           "</br>id: 14</br>prediction: 0.453</br>sex: 0.92</br></br>age: 58.0</br>trtbps: 150.0</br>chol: 283.0</br>fbs: 1.0</br>thalachh: 162.0</br>oldpeak: 1.0</br>slp: 2.0</br>thall: 2.0</br>exng_1: 0.0</br>caa_1: 0.0</br>caa_2: 0.0</br>caa_3: 0.0</br>caa_4: 0.0</br>cp_1: 0.0</br>cp_2: 0.0</br>cp_3: 1.0</br>restecg_1: 0.0</br>restecg_2: 0.0</br>_original_yhat_: 0.9919773936271667</br>"
          ],
          [
           "</br>id: 14</br>prediction: 0.453</br>sex: 0.93</br></br>age: 58.0</br>trtbps: 150.0</br>chol: 283.0</br>fbs: 1.0</br>thalachh: 162.0</br>oldpeak: 1.0</br>slp: 2.0</br>thall: 2.0</br>exng_1: 0.0</br>caa_1: 0.0</br>caa_2: 0.0</br>caa_3: 0.0</br>caa_4: 0.0</br>cp_1: 0.0</br>cp_2: 0.0</br>cp_3: 1.0</br>restecg_1: 0.0</br>restecg_2: 0.0</br>_original_yhat_: 0.9919773936271667</br>"
          ],
          [
           "</br>id: 14</br>prediction: 0.453</br>sex: 0.9400000000000001</br></br>age: 58.0</br>trtbps: 150.0</br>chol: 283.0</br>fbs: 1.0</br>thalachh: 162.0</br>oldpeak: 1.0</br>slp: 2.0</br>thall: 2.0</br>exng_1: 0.0</br>caa_1: 0.0</br>caa_2: 0.0</br>caa_3: 0.0</br>caa_4: 0.0</br>cp_1: 0.0</br>cp_2: 0.0</br>cp_3: 1.0</br>restecg_1: 0.0</br>restecg_2: 0.0</br>_original_yhat_: 0.9919773936271667</br>"
          ],
          [
           "</br>id: 14</br>prediction: 0.453</br>sex: 0.9500000000000001</br></br>age: 58.0</br>trtbps: 150.0</br>chol: 283.0</br>fbs: 1.0</br>thalachh: 162.0</br>oldpeak: 1.0</br>slp: 2.0</br>thall: 2.0</br>exng_1: 0.0</br>caa_1: 0.0</br>caa_2: 0.0</br>caa_3: 0.0</br>caa_4: 0.0</br>cp_1: 0.0</br>cp_2: 0.0</br>cp_3: 1.0</br>restecg_1: 0.0</br>restecg_2: 0.0</br>_original_yhat_: 0.9919773936271667</br>"
          ],
          [
           "</br>id: 14</br>prediction: 0.453</br>sex: 0.96</br></br>age: 58.0</br>trtbps: 150.0</br>chol: 283.0</br>fbs: 1.0</br>thalachh: 162.0</br>oldpeak: 1.0</br>slp: 2.0</br>thall: 2.0</br>exng_1: 0.0</br>caa_1: 0.0</br>caa_2: 0.0</br>caa_3: 0.0</br>caa_4: 0.0</br>cp_1: 0.0</br>cp_2: 0.0</br>cp_3: 1.0</br>restecg_1: 0.0</br>restecg_2: 0.0</br>_original_yhat_: 0.9919773936271667</br>"
          ],
          [
           "</br>id: 14</br>prediction: 0.453</br>sex: 0.97</br></br>age: 58.0</br>trtbps: 150.0</br>chol: 283.0</br>fbs: 1.0</br>thalachh: 162.0</br>oldpeak: 1.0</br>slp: 2.0</br>thall: 2.0</br>exng_1: 0.0</br>caa_1: 0.0</br>caa_2: 0.0</br>caa_3: 0.0</br>caa_4: 0.0</br>cp_1: 0.0</br>cp_2: 0.0</br>cp_3: 1.0</br>restecg_1: 0.0</br>restecg_2: 0.0</br>_original_yhat_: 0.9919773936271667</br>"
          ],
          [
           "</br>id: 14</br>prediction: 0.453</br>sex: 0.98</br></br>age: 58.0</br>trtbps: 150.0</br>chol: 283.0</br>fbs: 1.0</br>thalachh: 162.0</br>oldpeak: 1.0</br>slp: 2.0</br>thall: 2.0</br>exng_1: 0.0</br>caa_1: 0.0</br>caa_2: 0.0</br>caa_3: 0.0</br>caa_4: 0.0</br>cp_1: 0.0</br>cp_2: 0.0</br>cp_3: 1.0</br>restecg_1: 0.0</br>restecg_2: 0.0</br>_original_yhat_: 0.9919773936271667</br>"
          ],
          [
           "</br>id: 14</br>prediction: 0.453</br>sex: 0.99</br></br>age: 58.0</br>trtbps: 150.0</br>chol: 283.0</br>fbs: 1.0</br>thalachh: 162.0</br>oldpeak: 1.0</br>slp: 2.0</br>thall: 2.0</br>exng_1: 0.0</br>caa_1: 0.0</br>caa_2: 0.0</br>caa_3: 0.0</br>caa_4: 0.0</br>cp_1: 0.0</br>cp_2: 0.0</br>cp_3: 1.0</br>restecg_1: 0.0</br>restecg_2: 0.0</br>_original_yhat_: 0.9919773936271667</br>"
          ],
          [
           "</br>id: 14</br>prediction: 0.453</br>sex: 1.0</br></br>age: 58.0</br>trtbps: 150.0</br>chol: 283.0</br>fbs: 1.0</br>thalachh: 162.0</br>oldpeak: 1.0</br>slp: 2.0</br>thall: 2.0</br>exng_1: 0.0</br>caa_1: 0.0</br>caa_2: 0.0</br>caa_3: 0.0</br>caa_4: 0.0</br>cp_1: 0.0</br>cp_2: 0.0</br>cp_3: 1.0</br>restecg_1: 0.0</br>restecg_2: 0.0</br>_original_yhat_: 0.9919773936271667</br>"
          ]
         ],
         "hovertemplate": "%{customdata[0]}<extra></extra>",
         "legendgroup": "XGBClassifier",
         "line": {
          "color": "#46bac2",
          "dash": "solid",
          "width": 2
         },
         "marker": {
          "symbol": "circle"
         },
         "mode": "lines",
         "name": "XGBClassifier",
         "orientation": "v",
         "showlegend": false,
         "x": [
          0.0,
          0.01,
          0.02,
          0.03,
          0.04,
          0.05,
          0.06,
          0.07,
          0.08,
          0.09,
          0.1,
          0.11,
          0.12,
          0.13,
          0.14,
          0.15,
          0.16,
          0.17,
          0.18,
          0.19,
          0.2,
          0.21,
          0.22,
          0.23,
          0.24,
          0.25,
          0.26,
          0.27,
          0.28,
          0.29,
          0.3,
          0.31,
          0.32,
          0.33,
          0.34,
          0.35000000000000003,
          0.36,
          0.37,
          0.38,
          0.39,
          0.4,
          0.41000000000000003,
          0.42,
          0.43,
          0.44,
          0.45,
          0.46,
          0.47000000000000003,
          0.48,
          0.49,
          0.5,
          0.51,
          0.52,
          0.53,
          0.54,
          0.55,
          0.56,
          0.5700000000000001,
          0.58,
          0.59,
          0.6,
          0.61,
          0.62,
          0.63,
          0.64,
          0.65,
          0.66,
          0.67,
          0.68,
          0.6900000000000001,
          0.7000000000000001,
          0.71,
          0.72,
          0.73,
          0.74,
          0.75,
          0.76,
          0.77,
          0.78,
          0.79,
          0.8,
          0.81,
          0.8200000000000001,
          0.8300000000000001,
          0.84,
          0.85,
          0.86,
          0.87,
          0.88,
          0.89,
          0.9,
          0.91,
          0.92,
          0.93,
          0.9400000000000001,
          0.9500000000000001,
          0.96,
          0.97,
          0.98,
          0.99,
          1.0
         ],
         "xaxis": "x2",
         "y": [
          0.9919773936271667,
          0.9919773936271667,
          0.9919773936271667,
          0.9919773936271667,
          0.9919773936271667,
          0.9919773936271667,
          0.9919773936271667,
          0.9919773936271667,
          0.9919773936271667,
          0.9919773936271667,
          0.9919773936271667,
          0.9919773936271667,
          0.9919773936271667,
          0.9919773936271667,
          0.9919773936271667,
          0.9919773936271667,
          0.9919773936271667,
          0.9919773936271667,
          0.9919773936271667,
          0.9919773936271667,
          0.9919773936271667,
          0.9919773936271667,
          0.9919773936271667,
          0.9919773936271667,
          0.9919773936271667,
          0.9919773936271667,
          0.9919773936271667,
          0.9919773936271667,
          0.9919773936271667,
          0.9919773936271667,
          0.9919773936271667,
          0.9919773936271667,
          0.9919773936271667,
          0.9919773936271667,
          0.9919773936271667,
          0.9919773936271667,
          0.9919773936271667,
          0.9919773936271667,
          0.9919773936271667,
          0.9919773936271667,
          0.9919773936271667,
          0.9919773936271667,
          0.9919773936271667,
          0.9919773936271667,
          0.9919773936271667,
          0.9919773936271667,
          0.9919773936271667,
          0.9919773936271667,
          0.9919773936271667,
          0.9919773936271667,
          0.45345044136047363,
          0.45345044136047363,
          0.45345044136047363,
          0.45345044136047363,
          0.45345044136047363,
          0.45345044136047363,
          0.45345044136047363,
          0.45345044136047363,
          0.45345044136047363,
          0.45345044136047363,
          0.45345044136047363,
          0.45345044136047363,
          0.45345044136047363,
          0.45345044136047363,
          0.45345044136047363,
          0.45345044136047363,
          0.45345044136047363,
          0.45345044136047363,
          0.45345044136047363,
          0.45345044136047363,
          0.45345044136047363,
          0.45345044136047363,
          0.45345044136047363,
          0.45345044136047363,
          0.45345044136047363,
          0.45345044136047363,
          0.45345044136047363,
          0.45345044136047363,
          0.45345044136047363,
          0.45345044136047363,
          0.45345044136047363,
          0.45345044136047363,
          0.45345044136047363,
          0.45345044136047363,
          0.45345044136047363,
          0.45345044136047363,
          0.45345044136047363,
          0.45345044136047363,
          0.45345044136047363,
          0.45345044136047363,
          0.45345044136047363,
          0.45345044136047363,
          0.45345044136047363,
          0.45345044136047363,
          0.45345044136047363,
          0.45345044136047363,
          0.45345044136047363,
          0.45345044136047363,
          0.45345044136047363,
          0.45345044136047363,
          0.45345044136047363
         ],
         "yaxis": "y2",
         "type": "scatter",
         "opacity": 1
        },
        {
         "customdata": [
          [
           "</br>id: 14</br>prediction: 0.992</br>age: 58.0</br></br>sex: 0.0</br>trtbps: 150.0</br>chol: 283.0</br>fbs: 1.0</br>thalachh: 162.0</br>oldpeak: 1.0</br>slp: 2.0</br>thall: 2.0</br>exng_1: 0.0</br>caa_1: 0.0</br>caa_2: 0.0</br>caa_3: 0.0</br>caa_4: 0.0</br>cp_1: 0.0</br>cp_2: 0.0</br>cp_3: 1.0</br>restecg_1: 0.0</br>restecg_2: 0.0</br>_original_yhat_: 0.9919773936271667</br>"
          ]
         ],
         "hovertemplate": "%{customdata[0]}<extra></extra>",
         "legendgroup": "",
         "marker": {
          "color": "#371ea3",
          "size": 10,
          "symbol": "circle"
         },
         "mode": "markers",
         "name": "",
         "opacity": 1,
         "orientation": "v",
         "showlegend": false,
         "x": [
          58.0
         ],
         "xaxis": "x",
         "y": [
          0.9919773936271667
         ],
         "yaxis": "y",
         "type": "scatter"
        },
        {
         "customdata": [
          [
           "</br>id: 14</br>prediction: 0.992</br>sex: 0.0</br></br>age: 58.0</br>trtbps: 150.0</br>chol: 283.0</br>fbs: 1.0</br>thalachh: 162.0</br>oldpeak: 1.0</br>slp: 2.0</br>thall: 2.0</br>exng_1: 0.0</br>caa_1: 0.0</br>caa_2: 0.0</br>caa_3: 0.0</br>caa_4: 0.0</br>cp_1: 0.0</br>cp_2: 0.0</br>cp_3: 1.0</br>restecg_1: 0.0</br>restecg_2: 0.0</br>_original_yhat_: 0.9919773936271667</br>"
          ]
         ],
         "hovertemplate": "%{customdata[0]}<extra></extra>",
         "legendgroup": "",
         "marker": {
          "color": "#371ea3",
          "size": 10,
          "symbol": "circle"
         },
         "mode": "markers",
         "name": "",
         "opacity": 1,
         "orientation": "v",
         "showlegend": false,
         "x": [
          0.0
         ],
         "xaxis": "x2",
         "y": [
          0.9919773936271667
         ],
         "yaxis": "y2",
         "type": "scatter"
        }
       ],
       "layout": {
        "template": {
         "data": {
          "scatter": [
           {
            "type": "scatter"
           }
          ]
         }
        },
        "xaxis": {
         "anchor": "y",
         "domain": [
          0.0,
          0.475
         ],
         "title": {
          "text": ""
         },
         "showticklabels": true,
         "type": "linear",
         "gridwidth": 2,
         "zeroline": false,
         "automargin": true,
         "ticks": "outside",
         "tickcolor": "white",
         "ticklen": 3,
         "fixedrange": true
        },
        "yaxis": {
         "anchor": "x",
         "domain": [
          0.0,
          1.0
         ],
         "title": {
          "text": ""
         },
         "type": "linear",
         "gridwidth": 2,
         "zeroline": false,
         "automargin": true,
         "ticks": "outside",
         "tickcolor": "white",
         "ticklen": 3,
         "fixedrange": true,
         "range": [
          0.39890052676200866,
          1.0534995019435882
         ]
        },
        "xaxis2": {
         "anchor": "y2",
         "domain": [
          0.525,
          1.0
         ],
         "title": {
          "text": ""
         },
         "showticklabels": true,
         "type": "linear",
         "gridwidth": 2,
         "zeroline": false,
         "automargin": true,
         "ticks": "outside",
         "tickcolor": "white",
         "ticklen": 3,
         "fixedrange": true
        },
        "yaxis2": {
         "anchor": "x2",
         "domain": [
          0.0,
          1.0
         ],
         "matches": "y",
         "showticklabels": false,
         "type": "linear",
         "gridwidth": 2,
         "zeroline": false,
         "automargin": true,
         "ticks": "outside",
         "tickcolor": "white",
         "ticklen": 3,
         "fixedrange": true,
         "range": [
          0.39890052676200866,
          1.0534995019435882
         ],
         "title": {
          "text": ""
         }
        },
        "annotations": [
         {
          "font": {
           "size": 13
          },
          "showarrow": false,
          "text": "age",
          "x": 0.2375,
          "xanchor": "center",
          "xref": "paper",
          "y": 1.0,
          "yanchor": "bottom",
          "yref": "paper"
         },
         {
          "font": {
           "size": 13
          },
          "showarrow": false,
          "text": "sex",
          "x": 0.7625,
          "xanchor": "center",
          "xref": "paper",
          "y": 1.0,
          "yanchor": "bottom",
          "yref": "paper"
         },
         {
          "font": {
           "size": 13
          },
          "showarrow": false,
          "text": "prediction",
          "textangle": -90,
          "x": -0.07,
          "xref": "paper",
          "y": 0.5,
          "yref": "paper"
         }
        ],
        "legend": {
         "title": {
          "text": "label",
          "font": {
           "size": 12
          }
         },
         "tracegroupgap": 0,
         "font": {
          "size": 11
         },
         "orientation": "h",
         "yanchor": "bottom",
         "y": 1.0613496932515338,
         "xanchor": "right",
         "x": 1,
         "itemsizing": "constant"
        },
        "margin": {
         "t": 78,
         "b": 71,
         "r": 30
        },
        "font": {
         "color": "#371ea3"
        },
        "title": {
         "font": {
          "size": 16
         },
         "text": "Ceteris Paribus Profiles",
         "x": 0.15
        },
        "hovermode": "closest",
        "height": 489,
        "hoverlabel": {
         "bgcolor": "rgba(0,0,0,0.8)"
        }
       },
       "config": {
        "displaylogo": false,
        "staticPlot": false,
        "toImageButtonOptions": {
         "height": null,
         "width": null
        },
        "modeBarButtonsToRemove": [
         "sendDataToCloud",
         "lasso2d",
         "autoScale2d",
         "select2d",
         "zoom2d",
         "pan2d",
         "zoomIn2d",
         "zoomOut2d",
         "resetScale2d",
         "toggleSpikelines",
         "hoverCompareCartesian",
         "hoverClosestCartesian"
        ],
        "plotlyServerURL": "https://plot.ly"
       }
      },
      "text/html": "<div>                            <div id=\"9f39a47f-5720-4696-86ee-d5ce3bb9eef9\" class=\"plotly-graph-div\" style=\"height:489px; width:100%;\"></div>            <script type=\"text/javascript\">                require([\"plotly\"], function(Plotly) {                    window.PLOTLYENV=window.PLOTLYENV || {};                                    if (document.getElementById(\"9f39a47f-5720-4696-86ee-d5ce3bb9eef9\")) {                    Plotly.newPlot(                        \"9f39a47f-5720-4696-86ee-d5ce3bb9eef9\",                        [{\"customdata\":[[\"</br>id: 14</br>prediction: 0.999</br>age: 29.0</br></br>sex: 0.0</br>trtbps: 150.0</br>chol: 283.0</br>fbs: 1.0</br>thalachh: 162.0</br>oldpeak: 1.0</br>slp: 2.0</br>thall: 2.0</br>exng_1: 0.0</br>caa_1: 0.0</br>caa_2: 0.0</br>caa_3: 0.0</br>caa_4: 0.0</br>cp_1: 0.0</br>cp_2: 0.0</br>cp_3: 1.0</br>restecg_1: 0.0</br>restecg_2: 0.0</br>_original_yhat_: 0.9919773936271667</br>\"],[\"</br>id: 14</br>prediction: 0.999</br>age: 29.48</br></br>sex: 0.0</br>trtbps: 150.0</br>chol: 283.0</br>fbs: 1.0</br>thalachh: 162.0</br>oldpeak: 1.0</br>slp: 2.0</br>thall: 2.0</br>exng_1: 0.0</br>caa_1: 0.0</br>caa_2: 0.0</br>caa_3: 0.0</br>caa_4: 0.0</br>cp_1: 0.0</br>cp_2: 0.0</br>cp_3: 1.0</br>restecg_1: 0.0</br>restecg_2: 0.0</br>_original_yhat_: 0.9919773936271667</br>\"],[\"</br>id: 14</br>prediction: 0.999</br>age: 29.96</br></br>sex: 0.0</br>trtbps: 150.0</br>chol: 283.0</br>fbs: 1.0</br>thalachh: 162.0</br>oldpeak: 1.0</br>slp: 2.0</br>thall: 2.0</br>exng_1: 0.0</br>caa_1: 0.0</br>caa_2: 0.0</br>caa_3: 0.0</br>caa_4: 0.0</br>cp_1: 0.0</br>cp_2: 0.0</br>cp_3: 1.0</br>restecg_1: 0.0</br>restecg_2: 0.0</br>_original_yhat_: 0.9919773936271667</br>\"],[\"</br>id: 14</br>prediction: 0.999</br>age: 30.44</br></br>sex: 0.0</br>trtbps: 150.0</br>chol: 283.0</br>fbs: 1.0</br>thalachh: 162.0</br>oldpeak: 1.0</br>slp: 2.0</br>thall: 2.0</br>exng_1: 0.0</br>caa_1: 0.0</br>caa_2: 0.0</br>caa_3: 0.0</br>caa_4: 0.0</br>cp_1: 0.0</br>cp_2: 0.0</br>cp_3: 1.0</br>restecg_1: 0.0</br>restecg_2: 0.0</br>_original_yhat_: 0.9919773936271667</br>\"],[\"</br>id: 14</br>prediction: 0.999</br>age: 30.92</br></br>sex: 0.0</br>trtbps: 150.0</br>chol: 283.0</br>fbs: 1.0</br>thalachh: 162.0</br>oldpeak: 1.0</br>slp: 2.0</br>thall: 2.0</br>exng_1: 0.0</br>caa_1: 0.0</br>caa_2: 0.0</br>caa_3: 0.0</br>caa_4: 0.0</br>cp_1: 0.0</br>cp_2: 0.0</br>cp_3: 1.0</br>restecg_1: 0.0</br>restecg_2: 0.0</br>_original_yhat_: 0.9919773936271667</br>\"],[\"</br>id: 14</br>prediction: 0.999</br>age: 31.4</br></br>sex: 0.0</br>trtbps: 150.0</br>chol: 283.0</br>fbs: 1.0</br>thalachh: 162.0</br>oldpeak: 1.0</br>slp: 2.0</br>thall: 2.0</br>exng_1: 0.0</br>caa_1: 0.0</br>caa_2: 0.0</br>caa_3: 0.0</br>caa_4: 0.0</br>cp_1: 0.0</br>cp_2: 0.0</br>cp_3: 1.0</br>restecg_1: 0.0</br>restecg_2: 0.0</br>_original_yhat_: 0.9919773936271667</br>\"],[\"</br>id: 14</br>prediction: 0.999</br>age: 31.88</br></br>sex: 0.0</br>trtbps: 150.0</br>chol: 283.0</br>fbs: 1.0</br>thalachh: 162.0</br>oldpeak: 1.0</br>slp: 2.0</br>thall: 2.0</br>exng_1: 0.0</br>caa_1: 0.0</br>caa_2: 0.0</br>caa_3: 0.0</br>caa_4: 0.0</br>cp_1: 0.0</br>cp_2: 0.0</br>cp_3: 1.0</br>restecg_1: 0.0</br>restecg_2: 0.0</br>_original_yhat_: 0.9919773936271667</br>\"],[\"</br>id: 14</br>prediction: 0.999</br>age: 32.36</br></br>sex: 0.0</br>trtbps: 150.0</br>chol: 283.0</br>fbs: 1.0</br>thalachh: 162.0</br>oldpeak: 1.0</br>slp: 2.0</br>thall: 2.0</br>exng_1: 0.0</br>caa_1: 0.0</br>caa_2: 0.0</br>caa_3: 0.0</br>caa_4: 0.0</br>cp_1: 0.0</br>cp_2: 0.0</br>cp_3: 1.0</br>restecg_1: 0.0</br>restecg_2: 0.0</br>_original_yhat_: 0.9919773936271667</br>\"],[\"</br>id: 14</br>prediction: 0.999</br>age: 32.84</br></br>sex: 0.0</br>trtbps: 150.0</br>chol: 283.0</br>fbs: 1.0</br>thalachh: 162.0</br>oldpeak: 1.0</br>slp: 2.0</br>thall: 2.0</br>exng_1: 0.0</br>caa_1: 0.0</br>caa_2: 0.0</br>caa_3: 0.0</br>caa_4: 0.0</br>cp_1: 0.0</br>cp_2: 0.0</br>cp_3: 1.0</br>restecg_1: 0.0</br>restecg_2: 0.0</br>_original_yhat_: 0.9919773936271667</br>\"],[\"</br>id: 14</br>prediction: 0.999</br>age: 33.32</br></br>sex: 0.0</br>trtbps: 150.0</br>chol: 283.0</br>fbs: 1.0</br>thalachh: 162.0</br>oldpeak: 1.0</br>slp: 2.0</br>thall: 2.0</br>exng_1: 0.0</br>caa_1: 0.0</br>caa_2: 0.0</br>caa_3: 0.0</br>caa_4: 0.0</br>cp_1: 0.0</br>cp_2: 0.0</br>cp_3: 1.0</br>restecg_1: 0.0</br>restecg_2: 0.0</br>_original_yhat_: 0.9919773936271667</br>\"],[\"</br>id: 14</br>prediction: 0.999</br>age: 33.8</br></br>sex: 0.0</br>trtbps: 150.0</br>chol: 283.0</br>fbs: 1.0</br>thalachh: 162.0</br>oldpeak: 1.0</br>slp: 2.0</br>thall: 2.0</br>exng_1: 0.0</br>caa_1: 0.0</br>caa_2: 0.0</br>caa_3: 0.0</br>caa_4: 0.0</br>cp_1: 0.0</br>cp_2: 0.0</br>cp_3: 1.0</br>restecg_1: 0.0</br>restecg_2: 0.0</br>_original_yhat_: 0.9919773936271667</br>\"],[\"</br>id: 14</br>prediction: 0.999</br>age: 34.28</br></br>sex: 0.0</br>trtbps: 150.0</br>chol: 283.0</br>fbs: 1.0</br>thalachh: 162.0</br>oldpeak: 1.0</br>slp: 2.0</br>thall: 2.0</br>exng_1: 0.0</br>caa_1: 0.0</br>caa_2: 0.0</br>caa_3: 0.0</br>caa_4: 0.0</br>cp_1: 0.0</br>cp_2: 0.0</br>cp_3: 1.0</br>restecg_1: 0.0</br>restecg_2: 0.0</br>_original_yhat_: 0.9919773936271667</br>\"],[\"</br>id: 14</br>prediction: 0.999</br>age: 34.76</br></br>sex: 0.0</br>trtbps: 150.0</br>chol: 283.0</br>fbs: 1.0</br>thalachh: 162.0</br>oldpeak: 1.0</br>slp: 2.0</br>thall: 2.0</br>exng_1: 0.0</br>caa_1: 0.0</br>caa_2: 0.0</br>caa_3: 0.0</br>caa_4: 0.0</br>cp_1: 0.0</br>cp_2: 0.0</br>cp_3: 1.0</br>restecg_1: 0.0</br>restecg_2: 0.0</br>_original_yhat_: 0.9919773936271667</br>\"],[\"</br>id: 14</br>prediction: 0.999</br>age: 35.24</br></br>sex: 0.0</br>trtbps: 150.0</br>chol: 283.0</br>fbs: 1.0</br>thalachh: 162.0</br>oldpeak: 1.0</br>slp: 2.0</br>thall: 2.0</br>exng_1: 0.0</br>caa_1: 0.0</br>caa_2: 0.0</br>caa_3: 0.0</br>caa_4: 0.0</br>cp_1: 0.0</br>cp_2: 0.0</br>cp_3: 1.0</br>restecg_1: 0.0</br>restecg_2: 0.0</br>_original_yhat_: 0.9919773936271667</br>\"],[\"</br>id: 14</br>prediction: 0.999</br>age: 35.72</br></br>sex: 0.0</br>trtbps: 150.0</br>chol: 283.0</br>fbs: 1.0</br>thalachh: 162.0</br>oldpeak: 1.0</br>slp: 2.0</br>thall: 2.0</br>exng_1: 0.0</br>caa_1: 0.0</br>caa_2: 0.0</br>caa_3: 0.0</br>caa_4: 0.0</br>cp_1: 0.0</br>cp_2: 0.0</br>cp_3: 1.0</br>restecg_1: 0.0</br>restecg_2: 0.0</br>_original_yhat_: 0.9919773936271667</br>\"],[\"</br>id: 14</br>prediction: 0.999</br>age: 36.2</br></br>sex: 0.0</br>trtbps: 150.0</br>chol: 283.0</br>fbs: 1.0</br>thalachh: 162.0</br>oldpeak: 1.0</br>slp: 2.0</br>thall: 2.0</br>exng_1: 0.0</br>caa_1: 0.0</br>caa_2: 0.0</br>caa_3: 0.0</br>caa_4: 0.0</br>cp_1: 0.0</br>cp_2: 0.0</br>cp_3: 1.0</br>restecg_1: 0.0</br>restecg_2: 0.0</br>_original_yhat_: 0.9919773936271667</br>\"],[\"</br>id: 14</br>prediction: 0.999</br>age: 36.68</br></br>sex: 0.0</br>trtbps: 150.0</br>chol: 283.0</br>fbs: 1.0</br>thalachh: 162.0</br>oldpeak: 1.0</br>slp: 2.0</br>thall: 2.0</br>exng_1: 0.0</br>caa_1: 0.0</br>caa_2: 0.0</br>caa_3: 0.0</br>caa_4: 0.0</br>cp_1: 0.0</br>cp_2: 0.0</br>cp_3: 1.0</br>restecg_1: 0.0</br>restecg_2: 0.0</br>_original_yhat_: 0.9919773936271667</br>\"],[\"</br>id: 14</br>prediction: 0.999</br>age: 37.16</br></br>sex: 0.0</br>trtbps: 150.0</br>chol: 283.0</br>fbs: 1.0</br>thalachh: 162.0</br>oldpeak: 1.0</br>slp: 2.0</br>thall: 2.0</br>exng_1: 0.0</br>caa_1: 0.0</br>caa_2: 0.0</br>caa_3: 0.0</br>caa_4: 0.0</br>cp_1: 0.0</br>cp_2: 0.0</br>cp_3: 1.0</br>restecg_1: 0.0</br>restecg_2: 0.0</br>_original_yhat_: 0.9919773936271667</br>\"],[\"</br>id: 14</br>prediction: 0.999</br>age: 37.64</br></br>sex: 0.0</br>trtbps: 150.0</br>chol: 283.0</br>fbs: 1.0</br>thalachh: 162.0</br>oldpeak: 1.0</br>slp: 2.0</br>thall: 2.0</br>exng_1: 0.0</br>caa_1: 0.0</br>caa_2: 0.0</br>caa_3: 0.0</br>caa_4: 0.0</br>cp_1: 0.0</br>cp_2: 0.0</br>cp_3: 1.0</br>restecg_1: 0.0</br>restecg_2: 0.0</br>_original_yhat_: 0.9919773936271667</br>\"],[\"</br>id: 14</br>prediction: 0.999</br>age: 38.12</br></br>sex: 0.0</br>trtbps: 150.0</br>chol: 283.0</br>fbs: 1.0</br>thalachh: 162.0</br>oldpeak: 1.0</br>slp: 2.0</br>thall: 2.0</br>exng_1: 0.0</br>caa_1: 0.0</br>caa_2: 0.0</br>caa_3: 0.0</br>caa_4: 0.0</br>cp_1: 0.0</br>cp_2: 0.0</br>cp_3: 1.0</br>restecg_1: 0.0</br>restecg_2: 0.0</br>_original_yhat_: 0.9919773936271667</br>\"],[\"</br>id: 14</br>prediction: 0.999</br>age: 38.6</br></br>sex: 0.0</br>trtbps: 150.0</br>chol: 283.0</br>fbs: 1.0</br>thalachh: 162.0</br>oldpeak: 1.0</br>slp: 2.0</br>thall: 2.0</br>exng_1: 0.0</br>caa_1: 0.0</br>caa_2: 0.0</br>caa_3: 0.0</br>caa_4: 0.0</br>cp_1: 0.0</br>cp_2: 0.0</br>cp_3: 1.0</br>restecg_1: 0.0</br>restecg_2: 0.0</br>_original_yhat_: 0.9919773936271667</br>\"],[\"</br>id: 14</br>prediction: 0.999</br>age: 39.08</br></br>sex: 0.0</br>trtbps: 150.0</br>chol: 283.0</br>fbs: 1.0</br>thalachh: 162.0</br>oldpeak: 1.0</br>slp: 2.0</br>thall: 2.0</br>exng_1: 0.0</br>caa_1: 0.0</br>caa_2: 0.0</br>caa_3: 0.0</br>caa_4: 0.0</br>cp_1: 0.0</br>cp_2: 0.0</br>cp_3: 1.0</br>restecg_1: 0.0</br>restecg_2: 0.0</br>_original_yhat_: 0.9919773936271667</br>\"],[\"</br>id: 14</br>prediction: 0.999</br>age: 39.56</br></br>sex: 0.0</br>trtbps: 150.0</br>chol: 283.0</br>fbs: 1.0</br>thalachh: 162.0</br>oldpeak: 1.0</br>slp: 2.0</br>thall: 2.0</br>exng_1: 0.0</br>caa_1: 0.0</br>caa_2: 0.0</br>caa_3: 0.0</br>caa_4: 0.0</br>cp_1: 0.0</br>cp_2: 0.0</br>cp_3: 1.0</br>restecg_1: 0.0</br>restecg_2: 0.0</br>_original_yhat_: 0.9919773936271667</br>\"],[\"</br>id: 14</br>prediction: 0.999</br>age: 40.04</br></br>sex: 0.0</br>trtbps: 150.0</br>chol: 283.0</br>fbs: 1.0</br>thalachh: 162.0</br>oldpeak: 1.0</br>slp: 2.0</br>thall: 2.0</br>exng_1: 0.0</br>caa_1: 0.0</br>caa_2: 0.0</br>caa_3: 0.0</br>caa_4: 0.0</br>cp_1: 0.0</br>cp_2: 0.0</br>cp_3: 1.0</br>restecg_1: 0.0</br>restecg_2: 0.0</br>_original_yhat_: 0.9919773936271667</br>\"],[\"</br>id: 14</br>prediction: 0.999</br>age: 40.519999999999996</br></br>sex: 0.0</br>trtbps: 150.0</br>chol: 283.0</br>fbs: 1.0</br>thalachh: 162.0</br>oldpeak: 1.0</br>slp: 2.0</br>thall: 2.0</br>exng_1: 0.0</br>caa_1: 0.0</br>caa_2: 0.0</br>caa_3: 0.0</br>caa_4: 0.0</br>cp_1: 0.0</br>cp_2: 0.0</br>cp_3: 1.0</br>restecg_1: 0.0</br>restecg_2: 0.0</br>_original_yhat_: 0.9919773936271667</br>\"],[\"</br>id: 14</br>prediction: 0.999</br>age: 41.0</br></br>sex: 0.0</br>trtbps: 150.0</br>chol: 283.0</br>fbs: 1.0</br>thalachh: 162.0</br>oldpeak: 1.0</br>slp: 2.0</br>thall: 2.0</br>exng_1: 0.0</br>caa_1: 0.0</br>caa_2: 0.0</br>caa_3: 0.0</br>caa_4: 0.0</br>cp_1: 0.0</br>cp_2: 0.0</br>cp_3: 1.0</br>restecg_1: 0.0</br>restecg_2: 0.0</br>_original_yhat_: 0.9919773936271667</br>\"],[\"</br>id: 14</br>prediction: 0.999</br>age: 41.480000000000004</br></br>sex: 0.0</br>trtbps: 150.0</br>chol: 283.0</br>fbs: 1.0</br>thalachh: 162.0</br>oldpeak: 1.0</br>slp: 2.0</br>thall: 2.0</br>exng_1: 0.0</br>caa_1: 0.0</br>caa_2: 0.0</br>caa_3: 0.0</br>caa_4: 0.0</br>cp_1: 0.0</br>cp_2: 0.0</br>cp_3: 1.0</br>restecg_1: 0.0</br>restecg_2: 0.0</br>_original_yhat_: 0.9919773936271667</br>\"],[\"</br>id: 14</br>prediction: 0.999</br>age: 41.96</br></br>sex: 0.0</br>trtbps: 150.0</br>chol: 283.0</br>fbs: 1.0</br>thalachh: 162.0</br>oldpeak: 1.0</br>slp: 2.0</br>thall: 2.0</br>exng_1: 0.0</br>caa_1: 0.0</br>caa_2: 0.0</br>caa_3: 0.0</br>caa_4: 0.0</br>cp_1: 0.0</br>cp_2: 0.0</br>cp_3: 1.0</br>restecg_1: 0.0</br>restecg_2: 0.0</br>_original_yhat_: 0.9919773936271667</br>\"],[\"</br>id: 14</br>prediction: 0.999</br>age: 42.44</br></br>sex: 0.0</br>trtbps: 150.0</br>chol: 283.0</br>fbs: 1.0</br>thalachh: 162.0</br>oldpeak: 1.0</br>slp: 2.0</br>thall: 2.0</br>exng_1: 0.0</br>caa_1: 0.0</br>caa_2: 0.0</br>caa_3: 0.0</br>caa_4: 0.0</br>cp_1: 0.0</br>cp_2: 0.0</br>cp_3: 1.0</br>restecg_1: 0.0</br>restecg_2: 0.0</br>_original_yhat_: 0.9919773936271667</br>\"],[\"</br>id: 14</br>prediction: 0.999</br>age: 42.92</br></br>sex: 0.0</br>trtbps: 150.0</br>chol: 283.0</br>fbs: 1.0</br>thalachh: 162.0</br>oldpeak: 1.0</br>slp: 2.0</br>thall: 2.0</br>exng_1: 0.0</br>caa_1: 0.0</br>caa_2: 0.0</br>caa_3: 0.0</br>caa_4: 0.0</br>cp_1: 0.0</br>cp_2: 0.0</br>cp_3: 1.0</br>restecg_1: 0.0</br>restecg_2: 0.0</br>_original_yhat_: 0.9919773936271667</br>\"],[\"</br>id: 14</br>prediction: 0.999</br>age: 43.4</br></br>sex: 0.0</br>trtbps: 150.0</br>chol: 283.0</br>fbs: 1.0</br>thalachh: 162.0</br>oldpeak: 1.0</br>slp: 2.0</br>thall: 2.0</br>exng_1: 0.0</br>caa_1: 0.0</br>caa_2: 0.0</br>caa_3: 0.0</br>caa_4: 0.0</br>cp_1: 0.0</br>cp_2: 0.0</br>cp_3: 1.0</br>restecg_1: 0.0</br>restecg_2: 0.0</br>_original_yhat_: 0.9919773936271667</br>\"],[\"</br>id: 14</br>prediction: 0.999</br>age: 43.879999999999995</br></br>sex: 0.0</br>trtbps: 150.0</br>chol: 283.0</br>fbs: 1.0</br>thalachh: 162.0</br>oldpeak: 1.0</br>slp: 2.0</br>thall: 2.0</br>exng_1: 0.0</br>caa_1: 0.0</br>caa_2: 0.0</br>caa_3: 0.0</br>caa_4: 0.0</br>cp_1: 0.0</br>cp_2: 0.0</br>cp_3: 1.0</br>restecg_1: 0.0</br>restecg_2: 0.0</br>_original_yhat_: 0.9919773936271667</br>\"],[\"</br>id: 14</br>prediction: 0.999</br>age: 44.36</br></br>sex: 0.0</br>trtbps: 150.0</br>chol: 283.0</br>fbs: 1.0</br>thalachh: 162.0</br>oldpeak: 1.0</br>slp: 2.0</br>thall: 2.0</br>exng_1: 0.0</br>caa_1: 0.0</br>caa_2: 0.0</br>caa_3: 0.0</br>caa_4: 0.0</br>cp_1: 0.0</br>cp_2: 0.0</br>cp_3: 1.0</br>restecg_1: 0.0</br>restecg_2: 0.0</br>_original_yhat_: 0.9919773936271667</br>\"],[\"</br>id: 14</br>prediction: 0.999</br>age: 44.84</br></br>sex: 0.0</br>trtbps: 150.0</br>chol: 283.0</br>fbs: 1.0</br>thalachh: 162.0</br>oldpeak: 1.0</br>slp: 2.0</br>thall: 2.0</br>exng_1: 0.0</br>caa_1: 0.0</br>caa_2: 0.0</br>caa_3: 0.0</br>caa_4: 0.0</br>cp_1: 0.0</br>cp_2: 0.0</br>cp_3: 1.0</br>restecg_1: 0.0</br>restecg_2: 0.0</br>_original_yhat_: 0.9919773936271667</br>\"],[\"</br>id: 14</br>prediction: 0.999</br>age: 45.32</br></br>sex: 0.0</br>trtbps: 150.0</br>chol: 283.0</br>fbs: 1.0</br>thalachh: 162.0</br>oldpeak: 1.0</br>slp: 2.0</br>thall: 2.0</br>exng_1: 0.0</br>caa_1: 0.0</br>caa_2: 0.0</br>caa_3: 0.0</br>caa_4: 0.0</br>cp_1: 0.0</br>cp_2: 0.0</br>cp_3: 1.0</br>restecg_1: 0.0</br>restecg_2: 0.0</br>_original_yhat_: 0.9919773936271667</br>\"],[\"</br>id: 14</br>prediction: 0.999</br>age: 45.8</br></br>sex: 0.0</br>trtbps: 150.0</br>chol: 283.0</br>fbs: 1.0</br>thalachh: 162.0</br>oldpeak: 1.0</br>slp: 2.0</br>thall: 2.0</br>exng_1: 0.0</br>caa_1: 0.0</br>caa_2: 0.0</br>caa_3: 0.0</br>caa_4: 0.0</br>cp_1: 0.0</br>cp_2: 0.0</br>cp_3: 1.0</br>restecg_1: 0.0</br>restecg_2: 0.0</br>_original_yhat_: 0.9919773936271667</br>\"],[\"</br>id: 14</br>prediction: 0.999</br>age: 46.28</br></br>sex: 0.0</br>trtbps: 150.0</br>chol: 283.0</br>fbs: 1.0</br>thalachh: 162.0</br>oldpeak: 1.0</br>slp: 2.0</br>thall: 2.0</br>exng_1: 0.0</br>caa_1: 0.0</br>caa_2: 0.0</br>caa_3: 0.0</br>caa_4: 0.0</br>cp_1: 0.0</br>cp_2: 0.0</br>cp_3: 1.0</br>restecg_1: 0.0</br>restecg_2: 0.0</br>_original_yhat_: 0.9919773936271667</br>\"],[\"</br>id: 14</br>prediction: 0.999</br>age: 46.76</br></br>sex: 0.0</br>trtbps: 150.0</br>chol: 283.0</br>fbs: 1.0</br>thalachh: 162.0</br>oldpeak: 1.0</br>slp: 2.0</br>thall: 2.0</br>exng_1: 0.0</br>caa_1: 0.0</br>caa_2: 0.0</br>caa_3: 0.0</br>caa_4: 0.0</br>cp_1: 0.0</br>cp_2: 0.0</br>cp_3: 1.0</br>restecg_1: 0.0</br>restecg_2: 0.0</br>_original_yhat_: 0.9919773936271667</br>\"],[\"</br>id: 14</br>prediction: 0.999</br>age: 47.239999999999995</br></br>sex: 0.0</br>trtbps: 150.0</br>chol: 283.0</br>fbs: 1.0</br>thalachh: 162.0</br>oldpeak: 1.0</br>slp: 2.0</br>thall: 2.0</br>exng_1: 0.0</br>caa_1: 0.0</br>caa_2: 0.0</br>caa_3: 0.0</br>caa_4: 0.0</br>cp_1: 0.0</br>cp_2: 0.0</br>cp_3: 1.0</br>restecg_1: 0.0</br>restecg_2: 0.0</br>_original_yhat_: 0.9919773936271667</br>\"],[\"</br>id: 14</br>prediction: 0.999</br>age: 47.72</br></br>sex: 0.0</br>trtbps: 150.0</br>chol: 283.0</br>fbs: 1.0</br>thalachh: 162.0</br>oldpeak: 1.0</br>slp: 2.0</br>thall: 2.0</br>exng_1: 0.0</br>caa_1: 0.0</br>caa_2: 0.0</br>caa_3: 0.0</br>caa_4: 0.0</br>cp_1: 0.0</br>cp_2: 0.0</br>cp_3: 1.0</br>restecg_1: 0.0</br>restecg_2: 0.0</br>_original_yhat_: 0.9919773936271667</br>\"],[\"</br>id: 14</br>prediction: 0.999</br>age: 48.2</br></br>sex: 0.0</br>trtbps: 150.0</br>chol: 283.0</br>fbs: 1.0</br>thalachh: 162.0</br>oldpeak: 1.0</br>slp: 2.0</br>thall: 2.0</br>exng_1: 0.0</br>caa_1: 0.0</br>caa_2: 0.0</br>caa_3: 0.0</br>caa_4: 0.0</br>cp_1: 0.0</br>cp_2: 0.0</br>cp_3: 1.0</br>restecg_1: 0.0</br>restecg_2: 0.0</br>_original_yhat_: 0.9919773936271667</br>\"],[\"</br>id: 14</br>prediction: 0.999</br>age: 48.68</br></br>sex: 0.0</br>trtbps: 150.0</br>chol: 283.0</br>fbs: 1.0</br>thalachh: 162.0</br>oldpeak: 1.0</br>slp: 2.0</br>thall: 2.0</br>exng_1: 0.0</br>caa_1: 0.0</br>caa_2: 0.0</br>caa_3: 0.0</br>caa_4: 0.0</br>cp_1: 0.0</br>cp_2: 0.0</br>cp_3: 1.0</br>restecg_1: 0.0</br>restecg_2: 0.0</br>_original_yhat_: 0.9919773936271667</br>\"],[\"</br>id: 14</br>prediction: 0.999</br>age: 49.16</br></br>sex: 0.0</br>trtbps: 150.0</br>chol: 283.0</br>fbs: 1.0</br>thalachh: 162.0</br>oldpeak: 1.0</br>slp: 2.0</br>thall: 2.0</br>exng_1: 0.0</br>caa_1: 0.0</br>caa_2: 0.0</br>caa_3: 0.0</br>caa_4: 0.0</br>cp_1: 0.0</br>cp_2: 0.0</br>cp_3: 1.0</br>restecg_1: 0.0</br>restecg_2: 0.0</br>_original_yhat_: 0.9919773936271667</br>\"],[\"</br>id: 14</br>prediction: 0.999</br>age: 49.64</br></br>sex: 0.0</br>trtbps: 150.0</br>chol: 283.0</br>fbs: 1.0</br>thalachh: 162.0</br>oldpeak: 1.0</br>slp: 2.0</br>thall: 2.0</br>exng_1: 0.0</br>caa_1: 0.0</br>caa_2: 0.0</br>caa_3: 0.0</br>caa_4: 0.0</br>cp_1: 0.0</br>cp_2: 0.0</br>cp_3: 1.0</br>restecg_1: 0.0</br>restecg_2: 0.0</br>_original_yhat_: 0.9919773936271667</br>\"],[\"</br>id: 14</br>prediction: 0.999</br>age: 50.12</br></br>sex: 0.0</br>trtbps: 150.0</br>chol: 283.0</br>fbs: 1.0</br>thalachh: 162.0</br>oldpeak: 1.0</br>slp: 2.0</br>thall: 2.0</br>exng_1: 0.0</br>caa_1: 0.0</br>caa_2: 0.0</br>caa_3: 0.0</br>caa_4: 0.0</br>cp_1: 0.0</br>cp_2: 0.0</br>cp_3: 1.0</br>restecg_1: 0.0</br>restecg_2: 0.0</br>_original_yhat_: 0.9919773936271667</br>\"],[\"</br>id: 14</br>prediction: 0.999</br>age: 50.599999999999994</br></br>sex: 0.0</br>trtbps: 150.0</br>chol: 283.0</br>fbs: 1.0</br>thalachh: 162.0</br>oldpeak: 1.0</br>slp: 2.0</br>thall: 2.0</br>exng_1: 0.0</br>caa_1: 0.0</br>caa_2: 0.0</br>caa_3: 0.0</br>caa_4: 0.0</br>cp_1: 0.0</br>cp_2: 0.0</br>cp_3: 1.0</br>restecg_1: 0.0</br>restecg_2: 0.0</br>_original_yhat_: 0.9919773936271667</br>\"],[\"</br>id: 14</br>prediction: 0.999</br>age: 51.08</br></br>sex: 0.0</br>trtbps: 150.0</br>chol: 283.0</br>fbs: 1.0</br>thalachh: 162.0</br>oldpeak: 1.0</br>slp: 2.0</br>thall: 2.0</br>exng_1: 0.0</br>caa_1: 0.0</br>caa_2: 0.0</br>caa_3: 0.0</br>caa_4: 0.0</br>cp_1: 0.0</br>cp_2: 0.0</br>cp_3: 1.0</br>restecg_1: 0.0</br>restecg_2: 0.0</br>_original_yhat_: 0.9919773936271667</br>\"],[\"</br>id: 14</br>prediction: 0.999</br>age: 51.56</br></br>sex: 0.0</br>trtbps: 150.0</br>chol: 283.0</br>fbs: 1.0</br>thalachh: 162.0</br>oldpeak: 1.0</br>slp: 2.0</br>thall: 2.0</br>exng_1: 0.0</br>caa_1: 0.0</br>caa_2: 0.0</br>caa_3: 0.0</br>caa_4: 0.0</br>cp_1: 0.0</br>cp_2: 0.0</br>cp_3: 1.0</br>restecg_1: 0.0</br>restecg_2: 0.0</br>_original_yhat_: 0.9919773936271667</br>\"],[\"</br>id: 14</br>prediction: 0.999</br>age: 52.04</br></br>sex: 0.0</br>trtbps: 150.0</br>chol: 283.0</br>fbs: 1.0</br>thalachh: 162.0</br>oldpeak: 1.0</br>slp: 2.0</br>thall: 2.0</br>exng_1: 0.0</br>caa_1: 0.0</br>caa_2: 0.0</br>caa_3: 0.0</br>caa_4: 0.0</br>cp_1: 0.0</br>cp_2: 0.0</br>cp_3: 1.0</br>restecg_1: 0.0</br>restecg_2: 0.0</br>_original_yhat_: 0.9919773936271667</br>\"],[\"</br>id: 14</br>prediction: 0.999</br>age: 52.519999999999996</br></br>sex: 0.0</br>trtbps: 150.0</br>chol: 283.0</br>fbs: 1.0</br>thalachh: 162.0</br>oldpeak: 1.0</br>slp: 2.0</br>thall: 2.0</br>exng_1: 0.0</br>caa_1: 0.0</br>caa_2: 0.0</br>caa_3: 0.0</br>caa_4: 0.0</br>cp_1: 0.0</br>cp_2: 0.0</br>cp_3: 1.0</br>restecg_1: 0.0</br>restecg_2: 0.0</br>_original_yhat_: 0.9919773936271667</br>\"],[\"</br>id: 14</br>prediction: 0.999</br>age: 53.0</br></br>sex: 0.0</br>trtbps: 150.0</br>chol: 283.0</br>fbs: 1.0</br>thalachh: 162.0</br>oldpeak: 1.0</br>slp: 2.0</br>thall: 2.0</br>exng_1: 0.0</br>caa_1: 0.0</br>caa_2: 0.0</br>caa_3: 0.0</br>caa_4: 0.0</br>cp_1: 0.0</br>cp_2: 0.0</br>cp_3: 1.0</br>restecg_1: 0.0</br>restecg_2: 0.0</br>_original_yhat_: 0.9919773936271667</br>\"],[\"</br>id: 14</br>prediction: 0.999</br>age: 53.480000000000004</br></br>sex: 0.0</br>trtbps: 150.0</br>chol: 283.0</br>fbs: 1.0</br>thalachh: 162.0</br>oldpeak: 1.0</br>slp: 2.0</br>thall: 2.0</br>exng_1: 0.0</br>caa_1: 0.0</br>caa_2: 0.0</br>caa_3: 0.0</br>caa_4: 0.0</br>cp_1: 0.0</br>cp_2: 0.0</br>cp_3: 1.0</br>restecg_1: 0.0</br>restecg_2: 0.0</br>_original_yhat_: 0.9919773936271667</br>\"],[\"</br>id: 14</br>prediction: 0.999</br>age: 53.96</br></br>sex: 0.0</br>trtbps: 150.0</br>chol: 283.0</br>fbs: 1.0</br>thalachh: 162.0</br>oldpeak: 1.0</br>slp: 2.0</br>thall: 2.0</br>exng_1: 0.0</br>caa_1: 0.0</br>caa_2: 0.0</br>caa_3: 0.0</br>caa_4: 0.0</br>cp_1: 0.0</br>cp_2: 0.0</br>cp_3: 1.0</br>restecg_1: 0.0</br>restecg_2: 0.0</br>_original_yhat_: 0.9919773936271667</br>\"],[\"</br>id: 14</br>prediction: 0.999</br>age: 54.44</br></br>sex: 0.0</br>trtbps: 150.0</br>chol: 283.0</br>fbs: 1.0</br>thalachh: 162.0</br>oldpeak: 1.0</br>slp: 2.0</br>thall: 2.0</br>exng_1: 0.0</br>caa_1: 0.0</br>caa_2: 0.0</br>caa_3: 0.0</br>caa_4: 0.0</br>cp_1: 0.0</br>cp_2: 0.0</br>cp_3: 1.0</br>restecg_1: 0.0</br>restecg_2: 0.0</br>_original_yhat_: 0.9919773936271667</br>\"],[\"</br>id: 14</br>prediction: 0.998</br>age: 54.92</br></br>sex: 0.0</br>trtbps: 150.0</br>chol: 283.0</br>fbs: 1.0</br>thalachh: 162.0</br>oldpeak: 1.0</br>slp: 2.0</br>thall: 2.0</br>exng_1: 0.0</br>caa_1: 0.0</br>caa_2: 0.0</br>caa_3: 0.0</br>caa_4: 0.0</br>cp_1: 0.0</br>cp_2: 0.0</br>cp_3: 1.0</br>restecg_1: 0.0</br>restecg_2: 0.0</br>_original_yhat_: 0.9919773936271667</br>\"],[\"</br>id: 14</br>prediction: 0.998</br>age: 55.4</br></br>sex: 0.0</br>trtbps: 150.0</br>chol: 283.0</br>fbs: 1.0</br>thalachh: 162.0</br>oldpeak: 1.0</br>slp: 2.0</br>thall: 2.0</br>exng_1: 0.0</br>caa_1: 0.0</br>caa_2: 0.0</br>caa_3: 0.0</br>caa_4: 0.0</br>cp_1: 0.0</br>cp_2: 0.0</br>cp_3: 1.0</br>restecg_1: 0.0</br>restecg_2: 0.0</br>_original_yhat_: 0.9919773936271667</br>\"],[\"</br>id: 14</br>prediction: 0.998</br>age: 55.879999999999995</br></br>sex: 0.0</br>trtbps: 150.0</br>chol: 283.0</br>fbs: 1.0</br>thalachh: 162.0</br>oldpeak: 1.0</br>slp: 2.0</br>thall: 2.0</br>exng_1: 0.0</br>caa_1: 0.0</br>caa_2: 0.0</br>caa_3: 0.0</br>caa_4: 0.0</br>cp_1: 0.0</br>cp_2: 0.0</br>cp_3: 1.0</br>restecg_1: 0.0</br>restecg_2: 0.0</br>_original_yhat_: 0.9919773936271667</br>\"],[\"</br>id: 14</br>prediction: 0.998</br>age: 56.36</br></br>sex: 0.0</br>trtbps: 150.0</br>chol: 283.0</br>fbs: 1.0</br>thalachh: 162.0</br>oldpeak: 1.0</br>slp: 2.0</br>thall: 2.0</br>exng_1: 0.0</br>caa_1: 0.0</br>caa_2: 0.0</br>caa_3: 0.0</br>caa_4: 0.0</br>cp_1: 0.0</br>cp_2: 0.0</br>cp_3: 1.0</br>restecg_1: 0.0</br>restecg_2: 0.0</br>_original_yhat_: 0.9919773936271667</br>\"],[\"</br>id: 14</br>prediction: 0.997</br>age: 56.84</br></br>sex: 0.0</br>trtbps: 150.0</br>chol: 283.0</br>fbs: 1.0</br>thalachh: 162.0</br>oldpeak: 1.0</br>slp: 2.0</br>thall: 2.0</br>exng_1: 0.0</br>caa_1: 0.0</br>caa_2: 0.0</br>caa_3: 0.0</br>caa_4: 0.0</br>cp_1: 0.0</br>cp_2: 0.0</br>cp_3: 1.0</br>restecg_1: 0.0</br>restecg_2: 0.0</br>_original_yhat_: 0.9919773936271667</br>\"],[\"</br>id: 14</br>prediction: 0.997</br>age: 57.32</br></br>sex: 0.0</br>trtbps: 150.0</br>chol: 283.0</br>fbs: 1.0</br>thalachh: 162.0</br>oldpeak: 1.0</br>slp: 2.0</br>thall: 2.0</br>exng_1: 0.0</br>caa_1: 0.0</br>caa_2: 0.0</br>caa_3: 0.0</br>caa_4: 0.0</br>cp_1: 0.0</br>cp_2: 0.0</br>cp_3: 1.0</br>restecg_1: 0.0</br>restecg_2: 0.0</br>_original_yhat_: 0.9919773936271667</br>\"],[\"</br>id: 14</br>prediction: 0.992</br>age: 57.8</br></br>sex: 0.0</br>trtbps: 150.0</br>chol: 283.0</br>fbs: 1.0</br>thalachh: 162.0</br>oldpeak: 1.0</br>slp: 2.0</br>thall: 2.0</br>exng_1: 0.0</br>caa_1: 0.0</br>caa_2: 0.0</br>caa_3: 0.0</br>caa_4: 0.0</br>cp_1: 0.0</br>cp_2: 0.0</br>cp_3: 1.0</br>restecg_1: 0.0</br>restecg_2: 0.0</br>_original_yhat_: 0.9919773936271667</br>\"],[\"</br>id: 14</br>prediction: 0.992</br>age: 58.0</br></br>sex: 0.0</br>trtbps: 150.0</br>chol: 283.0</br>fbs: 1.0</br>thalachh: 162.0</br>oldpeak: 1.0</br>slp: 2.0</br>thall: 2.0</br>exng_1: 0.0</br>caa_1: 0.0</br>caa_2: 0.0</br>caa_3: 0.0</br>caa_4: 0.0</br>cp_1: 0.0</br>cp_2: 0.0</br>cp_3: 1.0</br>restecg_1: 0.0</br>restecg_2: 0.0</br>_original_yhat_: 0.9919773936271667</br>\"],[\"</br>id: 14</br>prediction: 0.992</br>age: 58.28</br></br>sex: 0.0</br>trtbps: 150.0</br>chol: 283.0</br>fbs: 1.0</br>thalachh: 162.0</br>oldpeak: 1.0</br>slp: 2.0</br>thall: 2.0</br>exng_1: 0.0</br>caa_1: 0.0</br>caa_2: 0.0</br>caa_3: 0.0</br>caa_4: 0.0</br>cp_1: 0.0</br>cp_2: 0.0</br>cp_3: 1.0</br>restecg_1: 0.0</br>restecg_2: 0.0</br>_original_yhat_: 0.9919773936271667</br>\"],[\"</br>id: 14</br>prediction: 0.988</br>age: 58.76</br></br>sex: 0.0</br>trtbps: 150.0</br>chol: 283.0</br>fbs: 1.0</br>thalachh: 162.0</br>oldpeak: 1.0</br>slp: 2.0</br>thall: 2.0</br>exng_1: 0.0</br>caa_1: 0.0</br>caa_2: 0.0</br>caa_3: 0.0</br>caa_4: 0.0</br>cp_1: 0.0</br>cp_2: 0.0</br>cp_3: 1.0</br>restecg_1: 0.0</br>restecg_2: 0.0</br>_original_yhat_: 0.9919773936271667</br>\"],[\"</br>id: 14</br>prediction: 0.988</br>age: 59.239999999999995</br></br>sex: 0.0</br>trtbps: 150.0</br>chol: 283.0</br>fbs: 1.0</br>thalachh: 162.0</br>oldpeak: 1.0</br>slp: 2.0</br>thall: 2.0</br>exng_1: 0.0</br>caa_1: 0.0</br>caa_2: 0.0</br>caa_3: 0.0</br>caa_4: 0.0</br>cp_1: 0.0</br>cp_2: 0.0</br>cp_3: 1.0</br>restecg_1: 0.0</br>restecg_2: 0.0</br>_original_yhat_: 0.9919773936271667</br>\"],[\"</br>id: 14</br>prediction: 0.988</br>age: 59.72</br></br>sex: 0.0</br>trtbps: 150.0</br>chol: 283.0</br>fbs: 1.0</br>thalachh: 162.0</br>oldpeak: 1.0</br>slp: 2.0</br>thall: 2.0</br>exng_1: 0.0</br>caa_1: 0.0</br>caa_2: 0.0</br>caa_3: 0.0</br>caa_4: 0.0</br>cp_1: 0.0</br>cp_2: 0.0</br>cp_3: 1.0</br>restecg_1: 0.0</br>restecg_2: 0.0</br>_original_yhat_: 0.9919773936271667</br>\"],[\"</br>id: 14</br>prediction: 0.988</br>age: 60.2</br></br>sex: 0.0</br>trtbps: 150.0</br>chol: 283.0</br>fbs: 1.0</br>thalachh: 162.0</br>oldpeak: 1.0</br>slp: 2.0</br>thall: 2.0</br>exng_1: 0.0</br>caa_1: 0.0</br>caa_2: 0.0</br>caa_3: 0.0</br>caa_4: 0.0</br>cp_1: 0.0</br>cp_2: 0.0</br>cp_3: 1.0</br>restecg_1: 0.0</br>restecg_2: 0.0</br>_original_yhat_: 0.9919773936271667</br>\"],[\"</br>id: 14</br>prediction: 0.988</br>age: 60.68</br></br>sex: 0.0</br>trtbps: 150.0</br>chol: 283.0</br>fbs: 1.0</br>thalachh: 162.0</br>oldpeak: 1.0</br>slp: 2.0</br>thall: 2.0</br>exng_1: 0.0</br>caa_1: 0.0</br>caa_2: 0.0</br>caa_3: 0.0</br>caa_4: 0.0</br>cp_1: 0.0</br>cp_2: 0.0</br>cp_3: 1.0</br>restecg_1: 0.0</br>restecg_2: 0.0</br>_original_yhat_: 0.9919773936271667</br>\"],[\"</br>id: 14</br>prediction: 0.988</br>age: 61.16</br></br>sex: 0.0</br>trtbps: 150.0</br>chol: 283.0</br>fbs: 1.0</br>thalachh: 162.0</br>oldpeak: 1.0</br>slp: 2.0</br>thall: 2.0</br>exng_1: 0.0</br>caa_1: 0.0</br>caa_2: 0.0</br>caa_3: 0.0</br>caa_4: 0.0</br>cp_1: 0.0</br>cp_2: 0.0</br>cp_3: 1.0</br>restecg_1: 0.0</br>restecg_2: 0.0</br>_original_yhat_: 0.9919773936271667</br>\"],[\"</br>id: 14</br>prediction: 0.988</br>age: 61.64</br></br>sex: 0.0</br>trtbps: 150.0</br>chol: 283.0</br>fbs: 1.0</br>thalachh: 162.0</br>oldpeak: 1.0</br>slp: 2.0</br>thall: 2.0</br>exng_1: 0.0</br>caa_1: 0.0</br>caa_2: 0.0</br>caa_3: 0.0</br>caa_4: 0.0</br>cp_1: 0.0</br>cp_2: 0.0</br>cp_3: 1.0</br>restecg_1: 0.0</br>restecg_2: 0.0</br>_original_yhat_: 0.9919773936271667</br>\"],[\"</br>id: 14</br>prediction: 0.988</br>age: 62.12</br></br>sex: 0.0</br>trtbps: 150.0</br>chol: 283.0</br>fbs: 1.0</br>thalachh: 162.0</br>oldpeak: 1.0</br>slp: 2.0</br>thall: 2.0</br>exng_1: 0.0</br>caa_1: 0.0</br>caa_2: 0.0</br>caa_3: 0.0</br>caa_4: 0.0</br>cp_1: 0.0</br>cp_2: 0.0</br>cp_3: 1.0</br>restecg_1: 0.0</br>restecg_2: 0.0</br>_original_yhat_: 0.9919773936271667</br>\"],[\"</br>id: 14</br>prediction: 0.99</br>age: 62.6</br></br>sex: 0.0</br>trtbps: 150.0</br>chol: 283.0</br>fbs: 1.0</br>thalachh: 162.0</br>oldpeak: 1.0</br>slp: 2.0</br>thall: 2.0</br>exng_1: 0.0</br>caa_1: 0.0</br>caa_2: 0.0</br>caa_3: 0.0</br>caa_4: 0.0</br>cp_1: 0.0</br>cp_2: 0.0</br>cp_3: 1.0</br>restecg_1: 0.0</br>restecg_2: 0.0</br>_original_yhat_: 0.9919773936271667</br>\"],[\"</br>id: 14</br>prediction: 0.99</br>age: 63.08</br></br>sex: 0.0</br>trtbps: 150.0</br>chol: 283.0</br>fbs: 1.0</br>thalachh: 162.0</br>oldpeak: 1.0</br>slp: 2.0</br>thall: 2.0</br>exng_1: 0.0</br>caa_1: 0.0</br>caa_2: 0.0</br>caa_3: 0.0</br>caa_4: 0.0</br>cp_1: 0.0</br>cp_2: 0.0</br>cp_3: 1.0</br>restecg_1: 0.0</br>restecg_2: 0.0</br>_original_yhat_: 0.9919773936271667</br>\"],[\"</br>id: 14</br>prediction: 0.996</br>age: 63.56</br></br>sex: 0.0</br>trtbps: 150.0</br>chol: 283.0</br>fbs: 1.0</br>thalachh: 162.0</br>oldpeak: 1.0</br>slp: 2.0</br>thall: 2.0</br>exng_1: 0.0</br>caa_1: 0.0</br>caa_2: 0.0</br>caa_3: 0.0</br>caa_4: 0.0</br>cp_1: 0.0</br>cp_2: 0.0</br>cp_3: 1.0</br>restecg_1: 0.0</br>restecg_2: 0.0</br>_original_yhat_: 0.9919773936271667</br>\"],[\"</br>id: 14</br>prediction: 0.996</br>age: 64.03999999999999</br></br>sex: 0.0</br>trtbps: 150.0</br>chol: 283.0</br>fbs: 1.0</br>thalachh: 162.0</br>oldpeak: 1.0</br>slp: 2.0</br>thall: 2.0</br>exng_1: 0.0</br>caa_1: 0.0</br>caa_2: 0.0</br>caa_3: 0.0</br>caa_4: 0.0</br>cp_1: 0.0</br>cp_2: 0.0</br>cp_3: 1.0</br>restecg_1: 0.0</br>restecg_2: 0.0</br>_original_yhat_: 0.9919773936271667</br>\"],[\"</br>id: 14</br>prediction: 0.996</br>age: 64.52</br></br>sex: 0.0</br>trtbps: 150.0</br>chol: 283.0</br>fbs: 1.0</br>thalachh: 162.0</br>oldpeak: 1.0</br>slp: 2.0</br>thall: 2.0</br>exng_1: 0.0</br>caa_1: 0.0</br>caa_2: 0.0</br>caa_3: 0.0</br>caa_4: 0.0</br>cp_1: 0.0</br>cp_2: 0.0</br>cp_3: 1.0</br>restecg_1: 0.0</br>restecg_2: 0.0</br>_original_yhat_: 0.9919773936271667</br>\"],[\"</br>id: 14</br>prediction: 0.996</br>age: 65.0</br></br>sex: 0.0</br>trtbps: 150.0</br>chol: 283.0</br>fbs: 1.0</br>thalachh: 162.0</br>oldpeak: 1.0</br>slp: 2.0</br>thall: 2.0</br>exng_1: 0.0</br>caa_1: 0.0</br>caa_2: 0.0</br>caa_3: 0.0</br>caa_4: 0.0</br>cp_1: 0.0</br>cp_2: 0.0</br>cp_3: 1.0</br>restecg_1: 0.0</br>restecg_2: 0.0</br>_original_yhat_: 0.9919773936271667</br>\"],[\"</br>id: 14</br>prediction: 0.996</br>age: 65.47999999999999</br></br>sex: 0.0</br>trtbps: 150.0</br>chol: 283.0</br>fbs: 1.0</br>thalachh: 162.0</br>oldpeak: 1.0</br>slp: 2.0</br>thall: 2.0</br>exng_1: 0.0</br>caa_1: 0.0</br>caa_2: 0.0</br>caa_3: 0.0</br>caa_4: 0.0</br>cp_1: 0.0</br>cp_2: 0.0</br>cp_3: 1.0</br>restecg_1: 0.0</br>restecg_2: 0.0</br>_original_yhat_: 0.9919773936271667</br>\"],[\"</br>id: 14</br>prediction: 0.996</br>age: 65.96000000000001</br></br>sex: 0.0</br>trtbps: 150.0</br>chol: 283.0</br>fbs: 1.0</br>thalachh: 162.0</br>oldpeak: 1.0</br>slp: 2.0</br>thall: 2.0</br>exng_1: 0.0</br>caa_1: 0.0</br>caa_2: 0.0</br>caa_3: 0.0</br>caa_4: 0.0</br>cp_1: 0.0</br>cp_2: 0.0</br>cp_3: 1.0</br>restecg_1: 0.0</br>restecg_2: 0.0</br>_original_yhat_: 0.9919773936271667</br>\"],[\"</br>id: 14</br>prediction: 0.996</br>age: 66.44</br></br>sex: 0.0</br>trtbps: 150.0</br>chol: 283.0</br>fbs: 1.0</br>thalachh: 162.0</br>oldpeak: 1.0</br>slp: 2.0</br>thall: 2.0</br>exng_1: 0.0</br>caa_1: 0.0</br>caa_2: 0.0</br>caa_3: 0.0</br>caa_4: 0.0</br>cp_1: 0.0</br>cp_2: 0.0</br>cp_3: 1.0</br>restecg_1: 0.0</br>restecg_2: 0.0</br>_original_yhat_: 0.9919773936271667</br>\"],[\"</br>id: 14</br>prediction: 0.996</br>age: 66.92</br></br>sex: 0.0</br>trtbps: 150.0</br>chol: 283.0</br>fbs: 1.0</br>thalachh: 162.0</br>oldpeak: 1.0</br>slp: 2.0</br>thall: 2.0</br>exng_1: 0.0</br>caa_1: 0.0</br>caa_2: 0.0</br>caa_3: 0.0</br>caa_4: 0.0</br>cp_1: 0.0</br>cp_2: 0.0</br>cp_3: 1.0</br>restecg_1: 0.0</br>restecg_2: 0.0</br>_original_yhat_: 0.9919773936271667</br>\"],[\"</br>id: 14</br>prediction: 0.996</br>age: 67.4</br></br>sex: 0.0</br>trtbps: 150.0</br>chol: 283.0</br>fbs: 1.0</br>thalachh: 162.0</br>oldpeak: 1.0</br>slp: 2.0</br>thall: 2.0</br>exng_1: 0.0</br>caa_1: 0.0</br>caa_2: 0.0</br>caa_3: 0.0</br>caa_4: 0.0</br>cp_1: 0.0</br>cp_2: 0.0</br>cp_3: 1.0</br>restecg_1: 0.0</br>restecg_2: 0.0</br>_original_yhat_: 0.9919773936271667</br>\"],[\"</br>id: 14</br>prediction: 0.996</br>age: 67.88</br></br>sex: 0.0</br>trtbps: 150.0</br>chol: 283.0</br>fbs: 1.0</br>thalachh: 162.0</br>oldpeak: 1.0</br>slp: 2.0</br>thall: 2.0</br>exng_1: 0.0</br>caa_1: 0.0</br>caa_2: 0.0</br>caa_3: 0.0</br>caa_4: 0.0</br>cp_1: 0.0</br>cp_2: 0.0</br>cp_3: 1.0</br>restecg_1: 0.0</br>restecg_2: 0.0</br>_original_yhat_: 0.9919773936271667</br>\"],[\"</br>id: 14</br>prediction: 0.997</br>age: 68.36</br></br>sex: 0.0</br>trtbps: 150.0</br>chol: 283.0</br>fbs: 1.0</br>thalachh: 162.0</br>oldpeak: 1.0</br>slp: 2.0</br>thall: 2.0</br>exng_1: 0.0</br>caa_1: 0.0</br>caa_2: 0.0</br>caa_3: 0.0</br>caa_4: 0.0</br>cp_1: 0.0</br>cp_2: 0.0</br>cp_3: 1.0</br>restecg_1: 0.0</br>restecg_2: 0.0</br>_original_yhat_: 0.9919773936271667</br>\"],[\"</br>id: 14</br>prediction: 0.997</br>age: 68.84</br></br>sex: 0.0</br>trtbps: 150.0</br>chol: 283.0</br>fbs: 1.0</br>thalachh: 162.0</br>oldpeak: 1.0</br>slp: 2.0</br>thall: 2.0</br>exng_1: 0.0</br>caa_1: 0.0</br>caa_2: 0.0</br>caa_3: 0.0</br>caa_4: 0.0</br>cp_1: 0.0</br>cp_2: 0.0</br>cp_3: 1.0</br>restecg_1: 0.0</br>restecg_2: 0.0</br>_original_yhat_: 0.9919773936271667</br>\"],[\"</br>id: 14</br>prediction: 0.997</br>age: 69.32</br></br>sex: 0.0</br>trtbps: 150.0</br>chol: 283.0</br>fbs: 1.0</br>thalachh: 162.0</br>oldpeak: 1.0</br>slp: 2.0</br>thall: 2.0</br>exng_1: 0.0</br>caa_1: 0.0</br>caa_2: 0.0</br>caa_3: 0.0</br>caa_4: 0.0</br>cp_1: 0.0</br>cp_2: 0.0</br>cp_3: 1.0</br>restecg_1: 0.0</br>restecg_2: 0.0</br>_original_yhat_: 0.9919773936271667</br>\"],[\"</br>id: 14</br>prediction: 0.997</br>age: 69.8</br></br>sex: 0.0</br>trtbps: 150.0</br>chol: 283.0</br>fbs: 1.0</br>thalachh: 162.0</br>oldpeak: 1.0</br>slp: 2.0</br>thall: 2.0</br>exng_1: 0.0</br>caa_1: 0.0</br>caa_2: 0.0</br>caa_3: 0.0</br>caa_4: 0.0</br>cp_1: 0.0</br>cp_2: 0.0</br>cp_3: 1.0</br>restecg_1: 0.0</br>restecg_2: 0.0</br>_original_yhat_: 0.9919773936271667</br>\"],[\"</br>id: 14</br>prediction: 0.997</br>age: 70.28</br></br>sex: 0.0</br>trtbps: 150.0</br>chol: 283.0</br>fbs: 1.0</br>thalachh: 162.0</br>oldpeak: 1.0</br>slp: 2.0</br>thall: 2.0</br>exng_1: 0.0</br>caa_1: 0.0</br>caa_2: 0.0</br>caa_3: 0.0</br>caa_4: 0.0</br>cp_1: 0.0</br>cp_2: 0.0</br>cp_3: 1.0</br>restecg_1: 0.0</br>restecg_2: 0.0</br>_original_yhat_: 0.9919773936271667</br>\"],[\"</br>id: 14</br>prediction: 0.997</br>age: 70.75999999999999</br></br>sex: 0.0</br>trtbps: 150.0</br>chol: 283.0</br>fbs: 1.0</br>thalachh: 162.0</br>oldpeak: 1.0</br>slp: 2.0</br>thall: 2.0</br>exng_1: 0.0</br>caa_1: 0.0</br>caa_2: 0.0</br>caa_3: 0.0</br>caa_4: 0.0</br>cp_1: 0.0</br>cp_2: 0.0</br>cp_3: 1.0</br>restecg_1: 0.0</br>restecg_2: 0.0</br>_original_yhat_: 0.9919773936271667</br>\"],[\"</br>id: 14</br>prediction: 0.997</br>age: 71.24</br></br>sex: 0.0</br>trtbps: 150.0</br>chol: 283.0</br>fbs: 1.0</br>thalachh: 162.0</br>oldpeak: 1.0</br>slp: 2.0</br>thall: 2.0</br>exng_1: 0.0</br>caa_1: 0.0</br>caa_2: 0.0</br>caa_3: 0.0</br>caa_4: 0.0</br>cp_1: 0.0</br>cp_2: 0.0</br>cp_3: 1.0</br>restecg_1: 0.0</br>restecg_2: 0.0</br>_original_yhat_: 0.9919773936271667</br>\"],[\"</br>id: 14</br>prediction: 0.997</br>age: 71.72</br></br>sex: 0.0</br>trtbps: 150.0</br>chol: 283.0</br>fbs: 1.0</br>thalachh: 162.0</br>oldpeak: 1.0</br>slp: 2.0</br>thall: 2.0</br>exng_1: 0.0</br>caa_1: 0.0</br>caa_2: 0.0</br>caa_3: 0.0</br>caa_4: 0.0</br>cp_1: 0.0</br>cp_2: 0.0</br>cp_3: 1.0</br>restecg_1: 0.0</br>restecg_2: 0.0</br>_original_yhat_: 0.9919773936271667</br>\"],[\"</br>id: 14</br>prediction: 0.997</br>age: 72.19999999999999</br></br>sex: 0.0</br>trtbps: 150.0</br>chol: 283.0</br>fbs: 1.0</br>thalachh: 162.0</br>oldpeak: 1.0</br>slp: 2.0</br>thall: 2.0</br>exng_1: 0.0</br>caa_1: 0.0</br>caa_2: 0.0</br>caa_3: 0.0</br>caa_4: 0.0</br>cp_1: 0.0</br>cp_2: 0.0</br>cp_3: 1.0</br>restecg_1: 0.0</br>restecg_2: 0.0</br>_original_yhat_: 0.9919773936271667</br>\"],[\"</br>id: 14</br>prediction: 0.997</br>age: 72.68</br></br>sex: 0.0</br>trtbps: 150.0</br>chol: 283.0</br>fbs: 1.0</br>thalachh: 162.0</br>oldpeak: 1.0</br>slp: 2.0</br>thall: 2.0</br>exng_1: 0.0</br>caa_1: 0.0</br>caa_2: 0.0</br>caa_3: 0.0</br>caa_4: 0.0</br>cp_1: 0.0</br>cp_2: 0.0</br>cp_3: 1.0</br>restecg_1: 0.0</br>restecg_2: 0.0</br>_original_yhat_: 0.9919773936271667</br>\"],[\"</br>id: 14</br>prediction: 0.997</br>age: 73.16</br></br>sex: 0.0</br>trtbps: 150.0</br>chol: 283.0</br>fbs: 1.0</br>thalachh: 162.0</br>oldpeak: 1.0</br>slp: 2.0</br>thall: 2.0</br>exng_1: 0.0</br>caa_1: 0.0</br>caa_2: 0.0</br>caa_3: 0.0</br>caa_4: 0.0</br>cp_1: 0.0</br>cp_2: 0.0</br>cp_3: 1.0</br>restecg_1: 0.0</br>restecg_2: 0.0</br>_original_yhat_: 0.9919773936271667</br>\"],[\"</br>id: 14</br>prediction: 0.997</br>age: 73.64</br></br>sex: 0.0</br>trtbps: 150.0</br>chol: 283.0</br>fbs: 1.0</br>thalachh: 162.0</br>oldpeak: 1.0</br>slp: 2.0</br>thall: 2.0</br>exng_1: 0.0</br>caa_1: 0.0</br>caa_2: 0.0</br>caa_3: 0.0</br>caa_4: 0.0</br>cp_1: 0.0</br>cp_2: 0.0</br>cp_3: 1.0</br>restecg_1: 0.0</br>restecg_2: 0.0</br>_original_yhat_: 0.9919773936271667</br>\"],[\"</br>id: 14</br>prediction: 0.997</br>age: 74.12</br></br>sex: 0.0</br>trtbps: 150.0</br>chol: 283.0</br>fbs: 1.0</br>thalachh: 162.0</br>oldpeak: 1.0</br>slp: 2.0</br>thall: 2.0</br>exng_1: 0.0</br>caa_1: 0.0</br>caa_2: 0.0</br>caa_3: 0.0</br>caa_4: 0.0</br>cp_1: 0.0</br>cp_2: 0.0</br>cp_3: 1.0</br>restecg_1: 0.0</br>restecg_2: 0.0</br>_original_yhat_: 0.9919773936271667</br>\"],[\"</br>id: 14</br>prediction: 0.997</br>age: 74.6</br></br>sex: 0.0</br>trtbps: 150.0</br>chol: 283.0</br>fbs: 1.0</br>thalachh: 162.0</br>oldpeak: 1.0</br>slp: 2.0</br>thall: 2.0</br>exng_1: 0.0</br>caa_1: 0.0</br>caa_2: 0.0</br>caa_3: 0.0</br>caa_4: 0.0</br>cp_1: 0.0</br>cp_2: 0.0</br>cp_3: 1.0</br>restecg_1: 0.0</br>restecg_2: 0.0</br>_original_yhat_: 0.9919773936271667</br>\"],[\"</br>id: 14</br>prediction: 0.997</br>age: 75.08</br></br>sex: 0.0</br>trtbps: 150.0</br>chol: 283.0</br>fbs: 1.0</br>thalachh: 162.0</br>oldpeak: 1.0</br>slp: 2.0</br>thall: 2.0</br>exng_1: 0.0</br>caa_1: 0.0</br>caa_2: 0.0</br>caa_3: 0.0</br>caa_4: 0.0</br>cp_1: 0.0</br>cp_2: 0.0</br>cp_3: 1.0</br>restecg_1: 0.0</br>restecg_2: 0.0</br>_original_yhat_: 0.9919773936271667</br>\"],[\"</br>id: 14</br>prediction: 0.997</br>age: 75.56</br></br>sex: 0.0</br>trtbps: 150.0</br>chol: 283.0</br>fbs: 1.0</br>thalachh: 162.0</br>oldpeak: 1.0</br>slp: 2.0</br>thall: 2.0</br>exng_1: 0.0</br>caa_1: 0.0</br>caa_2: 0.0</br>caa_3: 0.0</br>caa_4: 0.0</br>cp_1: 0.0</br>cp_2: 0.0</br>cp_3: 1.0</br>restecg_1: 0.0</br>restecg_2: 0.0</br>_original_yhat_: 0.9919773936271667</br>\"],[\"</br>id: 14</br>prediction: 0.997</br>age: 76.03999999999999</br></br>sex: 0.0</br>trtbps: 150.0</br>chol: 283.0</br>fbs: 1.0</br>thalachh: 162.0</br>oldpeak: 1.0</br>slp: 2.0</br>thall: 2.0</br>exng_1: 0.0</br>caa_1: 0.0</br>caa_2: 0.0</br>caa_3: 0.0</br>caa_4: 0.0</br>cp_1: 0.0</br>cp_2: 0.0</br>cp_3: 1.0</br>restecg_1: 0.0</br>restecg_2: 0.0</br>_original_yhat_: 0.9919773936271667</br>\"],[\"</br>id: 14</br>prediction: 0.997</br>age: 76.52</br></br>sex: 0.0</br>trtbps: 150.0</br>chol: 283.0</br>fbs: 1.0</br>thalachh: 162.0</br>oldpeak: 1.0</br>slp: 2.0</br>thall: 2.0</br>exng_1: 0.0</br>caa_1: 0.0</br>caa_2: 0.0</br>caa_3: 0.0</br>caa_4: 0.0</br>cp_1: 0.0</br>cp_2: 0.0</br>cp_3: 1.0</br>restecg_1: 0.0</br>restecg_2: 0.0</br>_original_yhat_: 0.9919773936271667</br>\"],[\"</br>id: 14</br>prediction: 0.997</br>age: 77.0</br></br>sex: 0.0</br>trtbps: 150.0</br>chol: 283.0</br>fbs: 1.0</br>thalachh: 162.0</br>oldpeak: 1.0</br>slp: 2.0</br>thall: 2.0</br>exng_1: 0.0</br>caa_1: 0.0</br>caa_2: 0.0</br>caa_3: 0.0</br>caa_4: 0.0</br>cp_1: 0.0</br>cp_2: 0.0</br>cp_3: 1.0</br>restecg_1: 0.0</br>restecg_2: 0.0</br>_original_yhat_: 0.9919773936271667</br>\"]],\"hovertemplate\":\"%{customdata[0]}<extra></extra>\",\"legendgroup\":\"XGBClassifier\",\"line\":{\"color\":\"#46bac2\",\"dash\":\"solid\",\"width\":2},\"marker\":{\"symbol\":\"circle\"},\"mode\":\"lines\",\"name\":\"XGBClassifier\",\"orientation\":\"v\",\"showlegend\":true,\"x\":[29.0,29.48,29.96,30.44,30.92,31.4,31.88,32.36,32.84,33.32,33.8,34.28,34.76,35.24,35.72,36.2,36.68,37.16,37.64,38.12,38.6,39.08,39.56,40.04,40.519999999999996,41.0,41.480000000000004,41.96,42.44,42.92,43.4,43.879999999999995,44.36,44.84,45.32,45.8,46.28,46.76,47.239999999999995,47.72,48.2,48.68,49.16,49.64,50.12,50.599999999999994,51.08,51.56,52.04,52.519999999999996,53.0,53.480000000000004,53.96,54.44,54.92,55.4,55.879999999999995,56.36,56.84,57.32,57.8,58.0,58.28,58.76,59.239999999999995,59.72,60.2,60.68,61.16,61.64,62.12,62.6,63.08,63.56,64.03999999999999,64.52,65.0,65.47999999999999,65.96000000000001,66.44,66.92,67.4,67.88,68.36,68.84,69.32,69.8,70.28,70.75999999999999,71.24,71.72,72.19999999999999,72.68,73.16,73.64,74.12,74.6,75.08,75.56,76.03999999999999,76.52,77.0],\"xaxis\":\"x\",\"y\":[0.9986590147018433,0.9986590147018433,0.9986590147018433,0.9986590147018433,0.9986590147018433,0.9986590147018433,0.9986590147018433,0.9986590147018433,0.9986590147018433,0.9986590147018433,0.9986590147018433,0.9986590147018433,0.9986590147018433,0.9986590147018433,0.9986590147018433,0.9986590147018433,0.9986590147018433,0.9986590147018433,0.9986590147018433,0.9986590147018433,0.9986590147018433,0.9986590147018433,0.9986590147018433,0.9986590147018433,0.9989495873451233,0.9989495873451233,0.9989495873451233,0.9989068508148193,0.9989068508148193,0.9989068508148193,0.9989068508148193,0.9989068508148193,0.9989068508148193,0.9989068508148193,0.9989068508148193,0.9987120628356934,0.9987120628356934,0.998674750328064,0.998674750328064,0.998674750328064,0.998674750328064,0.998674750328064,0.998674750328064,0.998674750328064,0.998674750328064,0.9989182949066162,0.9989182949066162,0.9986341595649719,0.9986341595649719,0.9986341595649719,0.9986341595649719,0.9986341595649719,0.9986341595649719,0.9986341595649719,0.9984543323516846,0.9984543323516846,0.9981591105461121,0.9981591105461121,0.9973559379577637,0.9973559379577637,0.9919773936271667,0.9919773936271667,0.9919773936271667,0.9882176518440247,0.9882176518440247,0.9882176518440247,0.9882176518440247,0.9882176518440247,0.9882176518440247,0.9882176518440247,0.9882176518440247,0.989910900592804,0.989910900592804,0.9963917136192322,0.9963917136192322,0.9963917136192322,0.9963917136192322,0.9963917136192322,0.9963917136192322,0.9963917136192322,0.9963917136192322,0.9963917136192322,0.9963917136192322,0.9967283010482788,0.9967283010482788,0.9967283010482788,0.9967283010482788,0.9967283010482788,0.9967283010482788,0.9967283010482788,0.9967283010482788,0.9967283010482788,0.9967283010482788,0.9967283010482788,0.9967283010482788,0.9967283010482788,0.9967283010482788,0.9967283010482788,0.9967283010482788,0.9967283010482788,0.9967283010482788,0.9967283010482788],\"yaxis\":\"y\",\"type\":\"scatter\",\"opacity\":1},{\"customdata\":[[\"</br>id: 14</br>prediction: 0.992</br>sex: 0.0</br></br>age: 58.0</br>trtbps: 150.0</br>chol: 283.0</br>fbs: 1.0</br>thalachh: 162.0</br>oldpeak: 1.0</br>slp: 2.0</br>thall: 2.0</br>exng_1: 0.0</br>caa_1: 0.0</br>caa_2: 0.0</br>caa_3: 0.0</br>caa_4: 0.0</br>cp_1: 0.0</br>cp_2: 0.0</br>cp_3: 1.0</br>restecg_1: 0.0</br>restecg_2: 0.0</br>_original_yhat_: 0.9919773936271667</br>\"],[\"</br>id: 14</br>prediction: 0.992</br>sex: 0.01</br></br>age: 58.0</br>trtbps: 150.0</br>chol: 283.0</br>fbs: 1.0</br>thalachh: 162.0</br>oldpeak: 1.0</br>slp: 2.0</br>thall: 2.0</br>exng_1: 0.0</br>caa_1: 0.0</br>caa_2: 0.0</br>caa_3: 0.0</br>caa_4: 0.0</br>cp_1: 0.0</br>cp_2: 0.0</br>cp_3: 1.0</br>restecg_1: 0.0</br>restecg_2: 0.0</br>_original_yhat_: 0.9919773936271667</br>\"],[\"</br>id: 14</br>prediction: 0.992</br>sex: 0.02</br></br>age: 58.0</br>trtbps: 150.0</br>chol: 283.0</br>fbs: 1.0</br>thalachh: 162.0</br>oldpeak: 1.0</br>slp: 2.0</br>thall: 2.0</br>exng_1: 0.0</br>caa_1: 0.0</br>caa_2: 0.0</br>caa_3: 0.0</br>caa_4: 0.0</br>cp_1: 0.0</br>cp_2: 0.0</br>cp_3: 1.0</br>restecg_1: 0.0</br>restecg_2: 0.0</br>_original_yhat_: 0.9919773936271667</br>\"],[\"</br>id: 14</br>prediction: 0.992</br>sex: 0.03</br></br>age: 58.0</br>trtbps: 150.0</br>chol: 283.0</br>fbs: 1.0</br>thalachh: 162.0</br>oldpeak: 1.0</br>slp: 2.0</br>thall: 2.0</br>exng_1: 0.0</br>caa_1: 0.0</br>caa_2: 0.0</br>caa_3: 0.0</br>caa_4: 0.0</br>cp_1: 0.0</br>cp_2: 0.0</br>cp_3: 1.0</br>restecg_1: 0.0</br>restecg_2: 0.0</br>_original_yhat_: 0.9919773936271667</br>\"],[\"</br>id: 14</br>prediction: 0.992</br>sex: 0.04</br></br>age: 58.0</br>trtbps: 150.0</br>chol: 283.0</br>fbs: 1.0</br>thalachh: 162.0</br>oldpeak: 1.0</br>slp: 2.0</br>thall: 2.0</br>exng_1: 0.0</br>caa_1: 0.0</br>caa_2: 0.0</br>caa_3: 0.0</br>caa_4: 0.0</br>cp_1: 0.0</br>cp_2: 0.0</br>cp_3: 1.0</br>restecg_1: 0.0</br>restecg_2: 0.0</br>_original_yhat_: 0.9919773936271667</br>\"],[\"</br>id: 14</br>prediction: 0.992</br>sex: 0.05</br></br>age: 58.0</br>trtbps: 150.0</br>chol: 283.0</br>fbs: 1.0</br>thalachh: 162.0</br>oldpeak: 1.0</br>slp: 2.0</br>thall: 2.0</br>exng_1: 0.0</br>caa_1: 0.0</br>caa_2: 0.0</br>caa_3: 0.0</br>caa_4: 0.0</br>cp_1: 0.0</br>cp_2: 0.0</br>cp_3: 1.0</br>restecg_1: 0.0</br>restecg_2: 0.0</br>_original_yhat_: 0.9919773936271667</br>\"],[\"</br>id: 14</br>prediction: 0.992</br>sex: 0.06</br></br>age: 58.0</br>trtbps: 150.0</br>chol: 283.0</br>fbs: 1.0</br>thalachh: 162.0</br>oldpeak: 1.0</br>slp: 2.0</br>thall: 2.0</br>exng_1: 0.0</br>caa_1: 0.0</br>caa_2: 0.0</br>caa_3: 0.0</br>caa_4: 0.0</br>cp_1: 0.0</br>cp_2: 0.0</br>cp_3: 1.0</br>restecg_1: 0.0</br>restecg_2: 0.0</br>_original_yhat_: 0.9919773936271667</br>\"],[\"</br>id: 14</br>prediction: 0.992</br>sex: 0.07</br></br>age: 58.0</br>trtbps: 150.0</br>chol: 283.0</br>fbs: 1.0</br>thalachh: 162.0</br>oldpeak: 1.0</br>slp: 2.0</br>thall: 2.0</br>exng_1: 0.0</br>caa_1: 0.0</br>caa_2: 0.0</br>caa_3: 0.0</br>caa_4: 0.0</br>cp_1: 0.0</br>cp_2: 0.0</br>cp_3: 1.0</br>restecg_1: 0.0</br>restecg_2: 0.0</br>_original_yhat_: 0.9919773936271667</br>\"],[\"</br>id: 14</br>prediction: 0.992</br>sex: 0.08</br></br>age: 58.0</br>trtbps: 150.0</br>chol: 283.0</br>fbs: 1.0</br>thalachh: 162.0</br>oldpeak: 1.0</br>slp: 2.0</br>thall: 2.0</br>exng_1: 0.0</br>caa_1: 0.0</br>caa_2: 0.0</br>caa_3: 0.0</br>caa_4: 0.0</br>cp_1: 0.0</br>cp_2: 0.0</br>cp_3: 1.0</br>restecg_1: 0.0</br>restecg_2: 0.0</br>_original_yhat_: 0.9919773936271667</br>\"],[\"</br>id: 14</br>prediction: 0.992</br>sex: 0.09</br></br>age: 58.0</br>trtbps: 150.0</br>chol: 283.0</br>fbs: 1.0</br>thalachh: 162.0</br>oldpeak: 1.0</br>slp: 2.0</br>thall: 2.0</br>exng_1: 0.0</br>caa_1: 0.0</br>caa_2: 0.0</br>caa_3: 0.0</br>caa_4: 0.0</br>cp_1: 0.0</br>cp_2: 0.0</br>cp_3: 1.0</br>restecg_1: 0.0</br>restecg_2: 0.0</br>_original_yhat_: 0.9919773936271667</br>\"],[\"</br>id: 14</br>prediction: 0.992</br>sex: 0.1</br></br>age: 58.0</br>trtbps: 150.0</br>chol: 283.0</br>fbs: 1.0</br>thalachh: 162.0</br>oldpeak: 1.0</br>slp: 2.0</br>thall: 2.0</br>exng_1: 0.0</br>caa_1: 0.0</br>caa_2: 0.0</br>caa_3: 0.0</br>caa_4: 0.0</br>cp_1: 0.0</br>cp_2: 0.0</br>cp_3: 1.0</br>restecg_1: 0.0</br>restecg_2: 0.0</br>_original_yhat_: 0.9919773936271667</br>\"],[\"</br>id: 14</br>prediction: 0.992</br>sex: 0.11</br></br>age: 58.0</br>trtbps: 150.0</br>chol: 283.0</br>fbs: 1.0</br>thalachh: 162.0</br>oldpeak: 1.0</br>slp: 2.0</br>thall: 2.0</br>exng_1: 0.0</br>caa_1: 0.0</br>caa_2: 0.0</br>caa_3: 0.0</br>caa_4: 0.0</br>cp_1: 0.0</br>cp_2: 0.0</br>cp_3: 1.0</br>restecg_1: 0.0</br>restecg_2: 0.0</br>_original_yhat_: 0.9919773936271667</br>\"],[\"</br>id: 14</br>prediction: 0.992</br>sex: 0.12</br></br>age: 58.0</br>trtbps: 150.0</br>chol: 283.0</br>fbs: 1.0</br>thalachh: 162.0</br>oldpeak: 1.0</br>slp: 2.0</br>thall: 2.0</br>exng_1: 0.0</br>caa_1: 0.0</br>caa_2: 0.0</br>caa_3: 0.0</br>caa_4: 0.0</br>cp_1: 0.0</br>cp_2: 0.0</br>cp_3: 1.0</br>restecg_1: 0.0</br>restecg_2: 0.0</br>_original_yhat_: 0.9919773936271667</br>\"],[\"</br>id: 14</br>prediction: 0.992</br>sex: 0.13</br></br>age: 58.0</br>trtbps: 150.0</br>chol: 283.0</br>fbs: 1.0</br>thalachh: 162.0</br>oldpeak: 1.0</br>slp: 2.0</br>thall: 2.0</br>exng_1: 0.0</br>caa_1: 0.0</br>caa_2: 0.0</br>caa_3: 0.0</br>caa_4: 0.0</br>cp_1: 0.0</br>cp_2: 0.0</br>cp_3: 1.0</br>restecg_1: 0.0</br>restecg_2: 0.0</br>_original_yhat_: 0.9919773936271667</br>\"],[\"</br>id: 14</br>prediction: 0.992</br>sex: 0.14</br></br>age: 58.0</br>trtbps: 150.0</br>chol: 283.0</br>fbs: 1.0</br>thalachh: 162.0</br>oldpeak: 1.0</br>slp: 2.0</br>thall: 2.0</br>exng_1: 0.0</br>caa_1: 0.0</br>caa_2: 0.0</br>caa_3: 0.0</br>caa_4: 0.0</br>cp_1: 0.0</br>cp_2: 0.0</br>cp_3: 1.0</br>restecg_1: 0.0</br>restecg_2: 0.0</br>_original_yhat_: 0.9919773936271667</br>\"],[\"</br>id: 14</br>prediction: 0.992</br>sex: 0.15</br></br>age: 58.0</br>trtbps: 150.0</br>chol: 283.0</br>fbs: 1.0</br>thalachh: 162.0</br>oldpeak: 1.0</br>slp: 2.0</br>thall: 2.0</br>exng_1: 0.0</br>caa_1: 0.0</br>caa_2: 0.0</br>caa_3: 0.0</br>caa_4: 0.0</br>cp_1: 0.0</br>cp_2: 0.0</br>cp_3: 1.0</br>restecg_1: 0.0</br>restecg_2: 0.0</br>_original_yhat_: 0.9919773936271667</br>\"],[\"</br>id: 14</br>prediction: 0.992</br>sex: 0.16</br></br>age: 58.0</br>trtbps: 150.0</br>chol: 283.0</br>fbs: 1.0</br>thalachh: 162.0</br>oldpeak: 1.0</br>slp: 2.0</br>thall: 2.0</br>exng_1: 0.0</br>caa_1: 0.0</br>caa_2: 0.0</br>caa_3: 0.0</br>caa_4: 0.0</br>cp_1: 0.0</br>cp_2: 0.0</br>cp_3: 1.0</br>restecg_1: 0.0</br>restecg_2: 0.0</br>_original_yhat_: 0.9919773936271667</br>\"],[\"</br>id: 14</br>prediction: 0.992</br>sex: 0.17</br></br>age: 58.0</br>trtbps: 150.0</br>chol: 283.0</br>fbs: 1.0</br>thalachh: 162.0</br>oldpeak: 1.0</br>slp: 2.0</br>thall: 2.0</br>exng_1: 0.0</br>caa_1: 0.0</br>caa_2: 0.0</br>caa_3: 0.0</br>caa_4: 0.0</br>cp_1: 0.0</br>cp_2: 0.0</br>cp_3: 1.0</br>restecg_1: 0.0</br>restecg_2: 0.0</br>_original_yhat_: 0.9919773936271667</br>\"],[\"</br>id: 14</br>prediction: 0.992</br>sex: 0.18</br></br>age: 58.0</br>trtbps: 150.0</br>chol: 283.0</br>fbs: 1.0</br>thalachh: 162.0</br>oldpeak: 1.0</br>slp: 2.0</br>thall: 2.0</br>exng_1: 0.0</br>caa_1: 0.0</br>caa_2: 0.0</br>caa_3: 0.0</br>caa_4: 0.0</br>cp_1: 0.0</br>cp_2: 0.0</br>cp_3: 1.0</br>restecg_1: 0.0</br>restecg_2: 0.0</br>_original_yhat_: 0.9919773936271667</br>\"],[\"</br>id: 14</br>prediction: 0.992</br>sex: 0.19</br></br>age: 58.0</br>trtbps: 150.0</br>chol: 283.0</br>fbs: 1.0</br>thalachh: 162.0</br>oldpeak: 1.0</br>slp: 2.0</br>thall: 2.0</br>exng_1: 0.0</br>caa_1: 0.0</br>caa_2: 0.0</br>caa_3: 0.0</br>caa_4: 0.0</br>cp_1: 0.0</br>cp_2: 0.0</br>cp_3: 1.0</br>restecg_1: 0.0</br>restecg_2: 0.0</br>_original_yhat_: 0.9919773936271667</br>\"],[\"</br>id: 14</br>prediction: 0.992</br>sex: 0.2</br></br>age: 58.0</br>trtbps: 150.0</br>chol: 283.0</br>fbs: 1.0</br>thalachh: 162.0</br>oldpeak: 1.0</br>slp: 2.0</br>thall: 2.0</br>exng_1: 0.0</br>caa_1: 0.0</br>caa_2: 0.0</br>caa_3: 0.0</br>caa_4: 0.0</br>cp_1: 0.0</br>cp_2: 0.0</br>cp_3: 1.0</br>restecg_1: 0.0</br>restecg_2: 0.0</br>_original_yhat_: 0.9919773936271667</br>\"],[\"</br>id: 14</br>prediction: 0.992</br>sex: 0.21</br></br>age: 58.0</br>trtbps: 150.0</br>chol: 283.0</br>fbs: 1.0</br>thalachh: 162.0</br>oldpeak: 1.0</br>slp: 2.0</br>thall: 2.0</br>exng_1: 0.0</br>caa_1: 0.0</br>caa_2: 0.0</br>caa_3: 0.0</br>caa_4: 0.0</br>cp_1: 0.0</br>cp_2: 0.0</br>cp_3: 1.0</br>restecg_1: 0.0</br>restecg_2: 0.0</br>_original_yhat_: 0.9919773936271667</br>\"],[\"</br>id: 14</br>prediction: 0.992</br>sex: 0.22</br></br>age: 58.0</br>trtbps: 150.0</br>chol: 283.0</br>fbs: 1.0</br>thalachh: 162.0</br>oldpeak: 1.0</br>slp: 2.0</br>thall: 2.0</br>exng_1: 0.0</br>caa_1: 0.0</br>caa_2: 0.0</br>caa_3: 0.0</br>caa_4: 0.0</br>cp_1: 0.0</br>cp_2: 0.0</br>cp_3: 1.0</br>restecg_1: 0.0</br>restecg_2: 0.0</br>_original_yhat_: 0.9919773936271667</br>\"],[\"</br>id: 14</br>prediction: 0.992</br>sex: 0.23</br></br>age: 58.0</br>trtbps: 150.0</br>chol: 283.0</br>fbs: 1.0</br>thalachh: 162.0</br>oldpeak: 1.0</br>slp: 2.0</br>thall: 2.0</br>exng_1: 0.0</br>caa_1: 0.0</br>caa_2: 0.0</br>caa_3: 0.0</br>caa_4: 0.0</br>cp_1: 0.0</br>cp_2: 0.0</br>cp_3: 1.0</br>restecg_1: 0.0</br>restecg_2: 0.0</br>_original_yhat_: 0.9919773936271667</br>\"],[\"</br>id: 14</br>prediction: 0.992</br>sex: 0.24</br></br>age: 58.0</br>trtbps: 150.0</br>chol: 283.0</br>fbs: 1.0</br>thalachh: 162.0</br>oldpeak: 1.0</br>slp: 2.0</br>thall: 2.0</br>exng_1: 0.0</br>caa_1: 0.0</br>caa_2: 0.0</br>caa_3: 0.0</br>caa_4: 0.0</br>cp_1: 0.0</br>cp_2: 0.0</br>cp_3: 1.0</br>restecg_1: 0.0</br>restecg_2: 0.0</br>_original_yhat_: 0.9919773936271667</br>\"],[\"</br>id: 14</br>prediction: 0.992</br>sex: 0.25</br></br>age: 58.0</br>trtbps: 150.0</br>chol: 283.0</br>fbs: 1.0</br>thalachh: 162.0</br>oldpeak: 1.0</br>slp: 2.0</br>thall: 2.0</br>exng_1: 0.0</br>caa_1: 0.0</br>caa_2: 0.0</br>caa_3: 0.0</br>caa_4: 0.0</br>cp_1: 0.0</br>cp_2: 0.0</br>cp_3: 1.0</br>restecg_1: 0.0</br>restecg_2: 0.0</br>_original_yhat_: 0.9919773936271667</br>\"],[\"</br>id: 14</br>prediction: 0.992</br>sex: 0.26</br></br>age: 58.0</br>trtbps: 150.0</br>chol: 283.0</br>fbs: 1.0</br>thalachh: 162.0</br>oldpeak: 1.0</br>slp: 2.0</br>thall: 2.0</br>exng_1: 0.0</br>caa_1: 0.0</br>caa_2: 0.0</br>caa_3: 0.0</br>caa_4: 0.0</br>cp_1: 0.0</br>cp_2: 0.0</br>cp_3: 1.0</br>restecg_1: 0.0</br>restecg_2: 0.0</br>_original_yhat_: 0.9919773936271667</br>\"],[\"</br>id: 14</br>prediction: 0.992</br>sex: 0.27</br></br>age: 58.0</br>trtbps: 150.0</br>chol: 283.0</br>fbs: 1.0</br>thalachh: 162.0</br>oldpeak: 1.0</br>slp: 2.0</br>thall: 2.0</br>exng_1: 0.0</br>caa_1: 0.0</br>caa_2: 0.0</br>caa_3: 0.0</br>caa_4: 0.0</br>cp_1: 0.0</br>cp_2: 0.0</br>cp_3: 1.0</br>restecg_1: 0.0</br>restecg_2: 0.0</br>_original_yhat_: 0.9919773936271667</br>\"],[\"</br>id: 14</br>prediction: 0.992</br>sex: 0.28</br></br>age: 58.0</br>trtbps: 150.0</br>chol: 283.0</br>fbs: 1.0</br>thalachh: 162.0</br>oldpeak: 1.0</br>slp: 2.0</br>thall: 2.0</br>exng_1: 0.0</br>caa_1: 0.0</br>caa_2: 0.0</br>caa_3: 0.0</br>caa_4: 0.0</br>cp_1: 0.0</br>cp_2: 0.0</br>cp_3: 1.0</br>restecg_1: 0.0</br>restecg_2: 0.0</br>_original_yhat_: 0.9919773936271667</br>\"],[\"</br>id: 14</br>prediction: 0.992</br>sex: 0.29</br></br>age: 58.0</br>trtbps: 150.0</br>chol: 283.0</br>fbs: 1.0</br>thalachh: 162.0</br>oldpeak: 1.0</br>slp: 2.0</br>thall: 2.0</br>exng_1: 0.0</br>caa_1: 0.0</br>caa_2: 0.0</br>caa_3: 0.0</br>caa_4: 0.0</br>cp_1: 0.0</br>cp_2: 0.0</br>cp_3: 1.0</br>restecg_1: 0.0</br>restecg_2: 0.0</br>_original_yhat_: 0.9919773936271667</br>\"],[\"</br>id: 14</br>prediction: 0.992</br>sex: 0.3</br></br>age: 58.0</br>trtbps: 150.0</br>chol: 283.0</br>fbs: 1.0</br>thalachh: 162.0</br>oldpeak: 1.0</br>slp: 2.0</br>thall: 2.0</br>exng_1: 0.0</br>caa_1: 0.0</br>caa_2: 0.0</br>caa_3: 0.0</br>caa_4: 0.0</br>cp_1: 0.0</br>cp_2: 0.0</br>cp_3: 1.0</br>restecg_1: 0.0</br>restecg_2: 0.0</br>_original_yhat_: 0.9919773936271667</br>\"],[\"</br>id: 14</br>prediction: 0.992</br>sex: 0.31</br></br>age: 58.0</br>trtbps: 150.0</br>chol: 283.0</br>fbs: 1.0</br>thalachh: 162.0</br>oldpeak: 1.0</br>slp: 2.0</br>thall: 2.0</br>exng_1: 0.0</br>caa_1: 0.0</br>caa_2: 0.0</br>caa_3: 0.0</br>caa_4: 0.0</br>cp_1: 0.0</br>cp_2: 0.0</br>cp_3: 1.0</br>restecg_1: 0.0</br>restecg_2: 0.0</br>_original_yhat_: 0.9919773936271667</br>\"],[\"</br>id: 14</br>prediction: 0.992</br>sex: 0.32</br></br>age: 58.0</br>trtbps: 150.0</br>chol: 283.0</br>fbs: 1.0</br>thalachh: 162.0</br>oldpeak: 1.0</br>slp: 2.0</br>thall: 2.0</br>exng_1: 0.0</br>caa_1: 0.0</br>caa_2: 0.0</br>caa_3: 0.0</br>caa_4: 0.0</br>cp_1: 0.0</br>cp_2: 0.0</br>cp_3: 1.0</br>restecg_1: 0.0</br>restecg_2: 0.0</br>_original_yhat_: 0.9919773936271667</br>\"],[\"</br>id: 14</br>prediction: 0.992</br>sex: 0.33</br></br>age: 58.0</br>trtbps: 150.0</br>chol: 283.0</br>fbs: 1.0</br>thalachh: 162.0</br>oldpeak: 1.0</br>slp: 2.0</br>thall: 2.0</br>exng_1: 0.0</br>caa_1: 0.0</br>caa_2: 0.0</br>caa_3: 0.0</br>caa_4: 0.0</br>cp_1: 0.0</br>cp_2: 0.0</br>cp_3: 1.0</br>restecg_1: 0.0</br>restecg_2: 0.0</br>_original_yhat_: 0.9919773936271667</br>\"],[\"</br>id: 14</br>prediction: 0.992</br>sex: 0.34</br></br>age: 58.0</br>trtbps: 150.0</br>chol: 283.0</br>fbs: 1.0</br>thalachh: 162.0</br>oldpeak: 1.0</br>slp: 2.0</br>thall: 2.0</br>exng_1: 0.0</br>caa_1: 0.0</br>caa_2: 0.0</br>caa_3: 0.0</br>caa_4: 0.0</br>cp_1: 0.0</br>cp_2: 0.0</br>cp_3: 1.0</br>restecg_1: 0.0</br>restecg_2: 0.0</br>_original_yhat_: 0.9919773936271667</br>\"],[\"</br>id: 14</br>prediction: 0.992</br>sex: 0.35000000000000003</br></br>age: 58.0</br>trtbps: 150.0</br>chol: 283.0</br>fbs: 1.0</br>thalachh: 162.0</br>oldpeak: 1.0</br>slp: 2.0</br>thall: 2.0</br>exng_1: 0.0</br>caa_1: 0.0</br>caa_2: 0.0</br>caa_3: 0.0</br>caa_4: 0.0</br>cp_1: 0.0</br>cp_2: 0.0</br>cp_3: 1.0</br>restecg_1: 0.0</br>restecg_2: 0.0</br>_original_yhat_: 0.9919773936271667</br>\"],[\"</br>id: 14</br>prediction: 0.992</br>sex: 0.36</br></br>age: 58.0</br>trtbps: 150.0</br>chol: 283.0</br>fbs: 1.0</br>thalachh: 162.0</br>oldpeak: 1.0</br>slp: 2.0</br>thall: 2.0</br>exng_1: 0.0</br>caa_1: 0.0</br>caa_2: 0.0</br>caa_3: 0.0</br>caa_4: 0.0</br>cp_1: 0.0</br>cp_2: 0.0</br>cp_3: 1.0</br>restecg_1: 0.0</br>restecg_2: 0.0</br>_original_yhat_: 0.9919773936271667</br>\"],[\"</br>id: 14</br>prediction: 0.992</br>sex: 0.37</br></br>age: 58.0</br>trtbps: 150.0</br>chol: 283.0</br>fbs: 1.0</br>thalachh: 162.0</br>oldpeak: 1.0</br>slp: 2.0</br>thall: 2.0</br>exng_1: 0.0</br>caa_1: 0.0</br>caa_2: 0.0</br>caa_3: 0.0</br>caa_4: 0.0</br>cp_1: 0.0</br>cp_2: 0.0</br>cp_3: 1.0</br>restecg_1: 0.0</br>restecg_2: 0.0</br>_original_yhat_: 0.9919773936271667</br>\"],[\"</br>id: 14</br>prediction: 0.992</br>sex: 0.38</br></br>age: 58.0</br>trtbps: 150.0</br>chol: 283.0</br>fbs: 1.0</br>thalachh: 162.0</br>oldpeak: 1.0</br>slp: 2.0</br>thall: 2.0</br>exng_1: 0.0</br>caa_1: 0.0</br>caa_2: 0.0</br>caa_3: 0.0</br>caa_4: 0.0</br>cp_1: 0.0</br>cp_2: 0.0</br>cp_3: 1.0</br>restecg_1: 0.0</br>restecg_2: 0.0</br>_original_yhat_: 0.9919773936271667</br>\"],[\"</br>id: 14</br>prediction: 0.992</br>sex: 0.39</br></br>age: 58.0</br>trtbps: 150.0</br>chol: 283.0</br>fbs: 1.0</br>thalachh: 162.0</br>oldpeak: 1.0</br>slp: 2.0</br>thall: 2.0</br>exng_1: 0.0</br>caa_1: 0.0</br>caa_2: 0.0</br>caa_3: 0.0</br>caa_4: 0.0</br>cp_1: 0.0</br>cp_2: 0.0</br>cp_3: 1.0</br>restecg_1: 0.0</br>restecg_2: 0.0</br>_original_yhat_: 0.9919773936271667</br>\"],[\"</br>id: 14</br>prediction: 0.992</br>sex: 0.4</br></br>age: 58.0</br>trtbps: 150.0</br>chol: 283.0</br>fbs: 1.0</br>thalachh: 162.0</br>oldpeak: 1.0</br>slp: 2.0</br>thall: 2.0</br>exng_1: 0.0</br>caa_1: 0.0</br>caa_2: 0.0</br>caa_3: 0.0</br>caa_4: 0.0</br>cp_1: 0.0</br>cp_2: 0.0</br>cp_3: 1.0</br>restecg_1: 0.0</br>restecg_2: 0.0</br>_original_yhat_: 0.9919773936271667</br>\"],[\"</br>id: 14</br>prediction: 0.992</br>sex: 0.41000000000000003</br></br>age: 58.0</br>trtbps: 150.0</br>chol: 283.0</br>fbs: 1.0</br>thalachh: 162.0</br>oldpeak: 1.0</br>slp: 2.0</br>thall: 2.0</br>exng_1: 0.0</br>caa_1: 0.0</br>caa_2: 0.0</br>caa_3: 0.0</br>caa_4: 0.0</br>cp_1: 0.0</br>cp_2: 0.0</br>cp_3: 1.0</br>restecg_1: 0.0</br>restecg_2: 0.0</br>_original_yhat_: 0.9919773936271667</br>\"],[\"</br>id: 14</br>prediction: 0.992</br>sex: 0.42</br></br>age: 58.0</br>trtbps: 150.0</br>chol: 283.0</br>fbs: 1.0</br>thalachh: 162.0</br>oldpeak: 1.0</br>slp: 2.0</br>thall: 2.0</br>exng_1: 0.0</br>caa_1: 0.0</br>caa_2: 0.0</br>caa_3: 0.0</br>caa_4: 0.0</br>cp_1: 0.0</br>cp_2: 0.0</br>cp_3: 1.0</br>restecg_1: 0.0</br>restecg_2: 0.0</br>_original_yhat_: 0.9919773936271667</br>\"],[\"</br>id: 14</br>prediction: 0.992</br>sex: 0.43</br></br>age: 58.0</br>trtbps: 150.0</br>chol: 283.0</br>fbs: 1.0</br>thalachh: 162.0</br>oldpeak: 1.0</br>slp: 2.0</br>thall: 2.0</br>exng_1: 0.0</br>caa_1: 0.0</br>caa_2: 0.0</br>caa_3: 0.0</br>caa_4: 0.0</br>cp_1: 0.0</br>cp_2: 0.0</br>cp_3: 1.0</br>restecg_1: 0.0</br>restecg_2: 0.0</br>_original_yhat_: 0.9919773936271667</br>\"],[\"</br>id: 14</br>prediction: 0.992</br>sex: 0.44</br></br>age: 58.0</br>trtbps: 150.0</br>chol: 283.0</br>fbs: 1.0</br>thalachh: 162.0</br>oldpeak: 1.0</br>slp: 2.0</br>thall: 2.0</br>exng_1: 0.0</br>caa_1: 0.0</br>caa_2: 0.0</br>caa_3: 0.0</br>caa_4: 0.0</br>cp_1: 0.0</br>cp_2: 0.0</br>cp_3: 1.0</br>restecg_1: 0.0</br>restecg_2: 0.0</br>_original_yhat_: 0.9919773936271667</br>\"],[\"</br>id: 14</br>prediction: 0.992</br>sex: 0.45</br></br>age: 58.0</br>trtbps: 150.0</br>chol: 283.0</br>fbs: 1.0</br>thalachh: 162.0</br>oldpeak: 1.0</br>slp: 2.0</br>thall: 2.0</br>exng_1: 0.0</br>caa_1: 0.0</br>caa_2: 0.0</br>caa_3: 0.0</br>caa_4: 0.0</br>cp_1: 0.0</br>cp_2: 0.0</br>cp_3: 1.0</br>restecg_1: 0.0</br>restecg_2: 0.0</br>_original_yhat_: 0.9919773936271667</br>\"],[\"</br>id: 14</br>prediction: 0.992</br>sex: 0.46</br></br>age: 58.0</br>trtbps: 150.0</br>chol: 283.0</br>fbs: 1.0</br>thalachh: 162.0</br>oldpeak: 1.0</br>slp: 2.0</br>thall: 2.0</br>exng_1: 0.0</br>caa_1: 0.0</br>caa_2: 0.0</br>caa_3: 0.0</br>caa_4: 0.0</br>cp_1: 0.0</br>cp_2: 0.0</br>cp_3: 1.0</br>restecg_1: 0.0</br>restecg_2: 0.0</br>_original_yhat_: 0.9919773936271667</br>\"],[\"</br>id: 14</br>prediction: 0.992</br>sex: 0.47000000000000003</br></br>age: 58.0</br>trtbps: 150.0</br>chol: 283.0</br>fbs: 1.0</br>thalachh: 162.0</br>oldpeak: 1.0</br>slp: 2.0</br>thall: 2.0</br>exng_1: 0.0</br>caa_1: 0.0</br>caa_2: 0.0</br>caa_3: 0.0</br>caa_4: 0.0</br>cp_1: 0.0</br>cp_2: 0.0</br>cp_3: 1.0</br>restecg_1: 0.0</br>restecg_2: 0.0</br>_original_yhat_: 0.9919773936271667</br>\"],[\"</br>id: 14</br>prediction: 0.992</br>sex: 0.48</br></br>age: 58.0</br>trtbps: 150.0</br>chol: 283.0</br>fbs: 1.0</br>thalachh: 162.0</br>oldpeak: 1.0</br>slp: 2.0</br>thall: 2.0</br>exng_1: 0.0</br>caa_1: 0.0</br>caa_2: 0.0</br>caa_3: 0.0</br>caa_4: 0.0</br>cp_1: 0.0</br>cp_2: 0.0</br>cp_3: 1.0</br>restecg_1: 0.0</br>restecg_2: 0.0</br>_original_yhat_: 0.9919773936271667</br>\"],[\"</br>id: 14</br>prediction: 0.992</br>sex: 0.49</br></br>age: 58.0</br>trtbps: 150.0</br>chol: 283.0</br>fbs: 1.0</br>thalachh: 162.0</br>oldpeak: 1.0</br>slp: 2.0</br>thall: 2.0</br>exng_1: 0.0</br>caa_1: 0.0</br>caa_2: 0.0</br>caa_3: 0.0</br>caa_4: 0.0</br>cp_1: 0.0</br>cp_2: 0.0</br>cp_3: 1.0</br>restecg_1: 0.0</br>restecg_2: 0.0</br>_original_yhat_: 0.9919773936271667</br>\"],[\"</br>id: 14</br>prediction: 0.453</br>sex: 0.5</br></br>age: 58.0</br>trtbps: 150.0</br>chol: 283.0</br>fbs: 1.0</br>thalachh: 162.0</br>oldpeak: 1.0</br>slp: 2.0</br>thall: 2.0</br>exng_1: 0.0</br>caa_1: 0.0</br>caa_2: 0.0</br>caa_3: 0.0</br>caa_4: 0.0</br>cp_1: 0.0</br>cp_2: 0.0</br>cp_3: 1.0</br>restecg_1: 0.0</br>restecg_2: 0.0</br>_original_yhat_: 0.9919773936271667</br>\"],[\"</br>id: 14</br>prediction: 0.453</br>sex: 0.51</br></br>age: 58.0</br>trtbps: 150.0</br>chol: 283.0</br>fbs: 1.0</br>thalachh: 162.0</br>oldpeak: 1.0</br>slp: 2.0</br>thall: 2.0</br>exng_1: 0.0</br>caa_1: 0.0</br>caa_2: 0.0</br>caa_3: 0.0</br>caa_4: 0.0</br>cp_1: 0.0</br>cp_2: 0.0</br>cp_3: 1.0</br>restecg_1: 0.0</br>restecg_2: 0.0</br>_original_yhat_: 0.9919773936271667</br>\"],[\"</br>id: 14</br>prediction: 0.453</br>sex: 0.52</br></br>age: 58.0</br>trtbps: 150.0</br>chol: 283.0</br>fbs: 1.0</br>thalachh: 162.0</br>oldpeak: 1.0</br>slp: 2.0</br>thall: 2.0</br>exng_1: 0.0</br>caa_1: 0.0</br>caa_2: 0.0</br>caa_3: 0.0</br>caa_4: 0.0</br>cp_1: 0.0</br>cp_2: 0.0</br>cp_3: 1.0</br>restecg_1: 0.0</br>restecg_2: 0.0</br>_original_yhat_: 0.9919773936271667</br>\"],[\"</br>id: 14</br>prediction: 0.453</br>sex: 0.53</br></br>age: 58.0</br>trtbps: 150.0</br>chol: 283.0</br>fbs: 1.0</br>thalachh: 162.0</br>oldpeak: 1.0</br>slp: 2.0</br>thall: 2.0</br>exng_1: 0.0</br>caa_1: 0.0</br>caa_2: 0.0</br>caa_3: 0.0</br>caa_4: 0.0</br>cp_1: 0.0</br>cp_2: 0.0</br>cp_3: 1.0</br>restecg_1: 0.0</br>restecg_2: 0.0</br>_original_yhat_: 0.9919773936271667</br>\"],[\"</br>id: 14</br>prediction: 0.453</br>sex: 0.54</br></br>age: 58.0</br>trtbps: 150.0</br>chol: 283.0</br>fbs: 1.0</br>thalachh: 162.0</br>oldpeak: 1.0</br>slp: 2.0</br>thall: 2.0</br>exng_1: 0.0</br>caa_1: 0.0</br>caa_2: 0.0</br>caa_3: 0.0</br>caa_4: 0.0</br>cp_1: 0.0</br>cp_2: 0.0</br>cp_3: 1.0</br>restecg_1: 0.0</br>restecg_2: 0.0</br>_original_yhat_: 0.9919773936271667</br>\"],[\"</br>id: 14</br>prediction: 0.453</br>sex: 0.55</br></br>age: 58.0</br>trtbps: 150.0</br>chol: 283.0</br>fbs: 1.0</br>thalachh: 162.0</br>oldpeak: 1.0</br>slp: 2.0</br>thall: 2.0</br>exng_1: 0.0</br>caa_1: 0.0</br>caa_2: 0.0</br>caa_3: 0.0</br>caa_4: 0.0</br>cp_1: 0.0</br>cp_2: 0.0</br>cp_3: 1.0</br>restecg_1: 0.0</br>restecg_2: 0.0</br>_original_yhat_: 0.9919773936271667</br>\"],[\"</br>id: 14</br>prediction: 0.453</br>sex: 0.56</br></br>age: 58.0</br>trtbps: 150.0</br>chol: 283.0</br>fbs: 1.0</br>thalachh: 162.0</br>oldpeak: 1.0</br>slp: 2.0</br>thall: 2.0</br>exng_1: 0.0</br>caa_1: 0.0</br>caa_2: 0.0</br>caa_3: 0.0</br>caa_4: 0.0</br>cp_1: 0.0</br>cp_2: 0.0</br>cp_3: 1.0</br>restecg_1: 0.0</br>restecg_2: 0.0</br>_original_yhat_: 0.9919773936271667</br>\"],[\"</br>id: 14</br>prediction: 0.453</br>sex: 0.5700000000000001</br></br>age: 58.0</br>trtbps: 150.0</br>chol: 283.0</br>fbs: 1.0</br>thalachh: 162.0</br>oldpeak: 1.0</br>slp: 2.0</br>thall: 2.0</br>exng_1: 0.0</br>caa_1: 0.0</br>caa_2: 0.0</br>caa_3: 0.0</br>caa_4: 0.0</br>cp_1: 0.0</br>cp_2: 0.0</br>cp_3: 1.0</br>restecg_1: 0.0</br>restecg_2: 0.0</br>_original_yhat_: 0.9919773936271667</br>\"],[\"</br>id: 14</br>prediction: 0.453</br>sex: 0.58</br></br>age: 58.0</br>trtbps: 150.0</br>chol: 283.0</br>fbs: 1.0</br>thalachh: 162.0</br>oldpeak: 1.0</br>slp: 2.0</br>thall: 2.0</br>exng_1: 0.0</br>caa_1: 0.0</br>caa_2: 0.0</br>caa_3: 0.0</br>caa_4: 0.0</br>cp_1: 0.0</br>cp_2: 0.0</br>cp_3: 1.0</br>restecg_1: 0.0</br>restecg_2: 0.0</br>_original_yhat_: 0.9919773936271667</br>\"],[\"</br>id: 14</br>prediction: 0.453</br>sex: 0.59</br></br>age: 58.0</br>trtbps: 150.0</br>chol: 283.0</br>fbs: 1.0</br>thalachh: 162.0</br>oldpeak: 1.0</br>slp: 2.0</br>thall: 2.0</br>exng_1: 0.0</br>caa_1: 0.0</br>caa_2: 0.0</br>caa_3: 0.0</br>caa_4: 0.0</br>cp_1: 0.0</br>cp_2: 0.0</br>cp_3: 1.0</br>restecg_1: 0.0</br>restecg_2: 0.0</br>_original_yhat_: 0.9919773936271667</br>\"],[\"</br>id: 14</br>prediction: 0.453</br>sex: 0.6</br></br>age: 58.0</br>trtbps: 150.0</br>chol: 283.0</br>fbs: 1.0</br>thalachh: 162.0</br>oldpeak: 1.0</br>slp: 2.0</br>thall: 2.0</br>exng_1: 0.0</br>caa_1: 0.0</br>caa_2: 0.0</br>caa_3: 0.0</br>caa_4: 0.0</br>cp_1: 0.0</br>cp_2: 0.0</br>cp_3: 1.0</br>restecg_1: 0.0</br>restecg_2: 0.0</br>_original_yhat_: 0.9919773936271667</br>\"],[\"</br>id: 14</br>prediction: 0.453</br>sex: 0.61</br></br>age: 58.0</br>trtbps: 150.0</br>chol: 283.0</br>fbs: 1.0</br>thalachh: 162.0</br>oldpeak: 1.0</br>slp: 2.0</br>thall: 2.0</br>exng_1: 0.0</br>caa_1: 0.0</br>caa_2: 0.0</br>caa_3: 0.0</br>caa_4: 0.0</br>cp_1: 0.0</br>cp_2: 0.0</br>cp_3: 1.0</br>restecg_1: 0.0</br>restecg_2: 0.0</br>_original_yhat_: 0.9919773936271667</br>\"],[\"</br>id: 14</br>prediction: 0.453</br>sex: 0.62</br></br>age: 58.0</br>trtbps: 150.0</br>chol: 283.0</br>fbs: 1.0</br>thalachh: 162.0</br>oldpeak: 1.0</br>slp: 2.0</br>thall: 2.0</br>exng_1: 0.0</br>caa_1: 0.0</br>caa_2: 0.0</br>caa_3: 0.0</br>caa_4: 0.0</br>cp_1: 0.0</br>cp_2: 0.0</br>cp_3: 1.0</br>restecg_1: 0.0</br>restecg_2: 0.0</br>_original_yhat_: 0.9919773936271667</br>\"],[\"</br>id: 14</br>prediction: 0.453</br>sex: 0.63</br></br>age: 58.0</br>trtbps: 150.0</br>chol: 283.0</br>fbs: 1.0</br>thalachh: 162.0</br>oldpeak: 1.0</br>slp: 2.0</br>thall: 2.0</br>exng_1: 0.0</br>caa_1: 0.0</br>caa_2: 0.0</br>caa_3: 0.0</br>caa_4: 0.0</br>cp_1: 0.0</br>cp_2: 0.0</br>cp_3: 1.0</br>restecg_1: 0.0</br>restecg_2: 0.0</br>_original_yhat_: 0.9919773936271667</br>\"],[\"</br>id: 14</br>prediction: 0.453</br>sex: 0.64</br></br>age: 58.0</br>trtbps: 150.0</br>chol: 283.0</br>fbs: 1.0</br>thalachh: 162.0</br>oldpeak: 1.0</br>slp: 2.0</br>thall: 2.0</br>exng_1: 0.0</br>caa_1: 0.0</br>caa_2: 0.0</br>caa_3: 0.0</br>caa_4: 0.0</br>cp_1: 0.0</br>cp_2: 0.0</br>cp_3: 1.0</br>restecg_1: 0.0</br>restecg_2: 0.0</br>_original_yhat_: 0.9919773936271667</br>\"],[\"</br>id: 14</br>prediction: 0.453</br>sex: 0.65</br></br>age: 58.0</br>trtbps: 150.0</br>chol: 283.0</br>fbs: 1.0</br>thalachh: 162.0</br>oldpeak: 1.0</br>slp: 2.0</br>thall: 2.0</br>exng_1: 0.0</br>caa_1: 0.0</br>caa_2: 0.0</br>caa_3: 0.0</br>caa_4: 0.0</br>cp_1: 0.0</br>cp_2: 0.0</br>cp_3: 1.0</br>restecg_1: 0.0</br>restecg_2: 0.0</br>_original_yhat_: 0.9919773936271667</br>\"],[\"</br>id: 14</br>prediction: 0.453</br>sex: 0.66</br></br>age: 58.0</br>trtbps: 150.0</br>chol: 283.0</br>fbs: 1.0</br>thalachh: 162.0</br>oldpeak: 1.0</br>slp: 2.0</br>thall: 2.0</br>exng_1: 0.0</br>caa_1: 0.0</br>caa_2: 0.0</br>caa_3: 0.0</br>caa_4: 0.0</br>cp_1: 0.0</br>cp_2: 0.0</br>cp_3: 1.0</br>restecg_1: 0.0</br>restecg_2: 0.0</br>_original_yhat_: 0.9919773936271667</br>\"],[\"</br>id: 14</br>prediction: 0.453</br>sex: 0.67</br></br>age: 58.0</br>trtbps: 150.0</br>chol: 283.0</br>fbs: 1.0</br>thalachh: 162.0</br>oldpeak: 1.0</br>slp: 2.0</br>thall: 2.0</br>exng_1: 0.0</br>caa_1: 0.0</br>caa_2: 0.0</br>caa_3: 0.0</br>caa_4: 0.0</br>cp_1: 0.0</br>cp_2: 0.0</br>cp_3: 1.0</br>restecg_1: 0.0</br>restecg_2: 0.0</br>_original_yhat_: 0.9919773936271667</br>\"],[\"</br>id: 14</br>prediction: 0.453</br>sex: 0.68</br></br>age: 58.0</br>trtbps: 150.0</br>chol: 283.0</br>fbs: 1.0</br>thalachh: 162.0</br>oldpeak: 1.0</br>slp: 2.0</br>thall: 2.0</br>exng_1: 0.0</br>caa_1: 0.0</br>caa_2: 0.0</br>caa_3: 0.0</br>caa_4: 0.0</br>cp_1: 0.0</br>cp_2: 0.0</br>cp_3: 1.0</br>restecg_1: 0.0</br>restecg_2: 0.0</br>_original_yhat_: 0.9919773936271667</br>\"],[\"</br>id: 14</br>prediction: 0.453</br>sex: 0.6900000000000001</br></br>age: 58.0</br>trtbps: 150.0</br>chol: 283.0</br>fbs: 1.0</br>thalachh: 162.0</br>oldpeak: 1.0</br>slp: 2.0</br>thall: 2.0</br>exng_1: 0.0</br>caa_1: 0.0</br>caa_2: 0.0</br>caa_3: 0.0</br>caa_4: 0.0</br>cp_1: 0.0</br>cp_2: 0.0</br>cp_3: 1.0</br>restecg_1: 0.0</br>restecg_2: 0.0</br>_original_yhat_: 0.9919773936271667</br>\"],[\"</br>id: 14</br>prediction: 0.453</br>sex: 0.7000000000000001</br></br>age: 58.0</br>trtbps: 150.0</br>chol: 283.0</br>fbs: 1.0</br>thalachh: 162.0</br>oldpeak: 1.0</br>slp: 2.0</br>thall: 2.0</br>exng_1: 0.0</br>caa_1: 0.0</br>caa_2: 0.0</br>caa_3: 0.0</br>caa_4: 0.0</br>cp_1: 0.0</br>cp_2: 0.0</br>cp_3: 1.0</br>restecg_1: 0.0</br>restecg_2: 0.0</br>_original_yhat_: 0.9919773936271667</br>\"],[\"</br>id: 14</br>prediction: 0.453</br>sex: 0.71</br></br>age: 58.0</br>trtbps: 150.0</br>chol: 283.0</br>fbs: 1.0</br>thalachh: 162.0</br>oldpeak: 1.0</br>slp: 2.0</br>thall: 2.0</br>exng_1: 0.0</br>caa_1: 0.0</br>caa_2: 0.0</br>caa_3: 0.0</br>caa_4: 0.0</br>cp_1: 0.0</br>cp_2: 0.0</br>cp_3: 1.0</br>restecg_1: 0.0</br>restecg_2: 0.0</br>_original_yhat_: 0.9919773936271667</br>\"],[\"</br>id: 14</br>prediction: 0.453</br>sex: 0.72</br></br>age: 58.0</br>trtbps: 150.0</br>chol: 283.0</br>fbs: 1.0</br>thalachh: 162.0</br>oldpeak: 1.0</br>slp: 2.0</br>thall: 2.0</br>exng_1: 0.0</br>caa_1: 0.0</br>caa_2: 0.0</br>caa_3: 0.0</br>caa_4: 0.0</br>cp_1: 0.0</br>cp_2: 0.0</br>cp_3: 1.0</br>restecg_1: 0.0</br>restecg_2: 0.0</br>_original_yhat_: 0.9919773936271667</br>\"],[\"</br>id: 14</br>prediction: 0.453</br>sex: 0.73</br></br>age: 58.0</br>trtbps: 150.0</br>chol: 283.0</br>fbs: 1.0</br>thalachh: 162.0</br>oldpeak: 1.0</br>slp: 2.0</br>thall: 2.0</br>exng_1: 0.0</br>caa_1: 0.0</br>caa_2: 0.0</br>caa_3: 0.0</br>caa_4: 0.0</br>cp_1: 0.0</br>cp_2: 0.0</br>cp_3: 1.0</br>restecg_1: 0.0</br>restecg_2: 0.0</br>_original_yhat_: 0.9919773936271667</br>\"],[\"</br>id: 14</br>prediction: 0.453</br>sex: 0.74</br></br>age: 58.0</br>trtbps: 150.0</br>chol: 283.0</br>fbs: 1.0</br>thalachh: 162.0</br>oldpeak: 1.0</br>slp: 2.0</br>thall: 2.0</br>exng_1: 0.0</br>caa_1: 0.0</br>caa_2: 0.0</br>caa_3: 0.0</br>caa_4: 0.0</br>cp_1: 0.0</br>cp_2: 0.0</br>cp_3: 1.0</br>restecg_1: 0.0</br>restecg_2: 0.0</br>_original_yhat_: 0.9919773936271667</br>\"],[\"</br>id: 14</br>prediction: 0.453</br>sex: 0.75</br></br>age: 58.0</br>trtbps: 150.0</br>chol: 283.0</br>fbs: 1.0</br>thalachh: 162.0</br>oldpeak: 1.0</br>slp: 2.0</br>thall: 2.0</br>exng_1: 0.0</br>caa_1: 0.0</br>caa_2: 0.0</br>caa_3: 0.0</br>caa_4: 0.0</br>cp_1: 0.0</br>cp_2: 0.0</br>cp_3: 1.0</br>restecg_1: 0.0</br>restecg_2: 0.0</br>_original_yhat_: 0.9919773936271667</br>\"],[\"</br>id: 14</br>prediction: 0.453</br>sex: 0.76</br></br>age: 58.0</br>trtbps: 150.0</br>chol: 283.0</br>fbs: 1.0</br>thalachh: 162.0</br>oldpeak: 1.0</br>slp: 2.0</br>thall: 2.0</br>exng_1: 0.0</br>caa_1: 0.0</br>caa_2: 0.0</br>caa_3: 0.0</br>caa_4: 0.0</br>cp_1: 0.0</br>cp_2: 0.0</br>cp_3: 1.0</br>restecg_1: 0.0</br>restecg_2: 0.0</br>_original_yhat_: 0.9919773936271667</br>\"],[\"</br>id: 14</br>prediction: 0.453</br>sex: 0.77</br></br>age: 58.0</br>trtbps: 150.0</br>chol: 283.0</br>fbs: 1.0</br>thalachh: 162.0</br>oldpeak: 1.0</br>slp: 2.0</br>thall: 2.0</br>exng_1: 0.0</br>caa_1: 0.0</br>caa_2: 0.0</br>caa_3: 0.0</br>caa_4: 0.0</br>cp_1: 0.0</br>cp_2: 0.0</br>cp_3: 1.0</br>restecg_1: 0.0</br>restecg_2: 0.0</br>_original_yhat_: 0.9919773936271667</br>\"],[\"</br>id: 14</br>prediction: 0.453</br>sex: 0.78</br></br>age: 58.0</br>trtbps: 150.0</br>chol: 283.0</br>fbs: 1.0</br>thalachh: 162.0</br>oldpeak: 1.0</br>slp: 2.0</br>thall: 2.0</br>exng_1: 0.0</br>caa_1: 0.0</br>caa_2: 0.0</br>caa_3: 0.0</br>caa_4: 0.0</br>cp_1: 0.0</br>cp_2: 0.0</br>cp_3: 1.0</br>restecg_1: 0.0</br>restecg_2: 0.0</br>_original_yhat_: 0.9919773936271667</br>\"],[\"</br>id: 14</br>prediction: 0.453</br>sex: 0.79</br></br>age: 58.0</br>trtbps: 150.0</br>chol: 283.0</br>fbs: 1.0</br>thalachh: 162.0</br>oldpeak: 1.0</br>slp: 2.0</br>thall: 2.0</br>exng_1: 0.0</br>caa_1: 0.0</br>caa_2: 0.0</br>caa_3: 0.0</br>caa_4: 0.0</br>cp_1: 0.0</br>cp_2: 0.0</br>cp_3: 1.0</br>restecg_1: 0.0</br>restecg_2: 0.0</br>_original_yhat_: 0.9919773936271667</br>\"],[\"</br>id: 14</br>prediction: 0.453</br>sex: 0.8</br></br>age: 58.0</br>trtbps: 150.0</br>chol: 283.0</br>fbs: 1.0</br>thalachh: 162.0</br>oldpeak: 1.0</br>slp: 2.0</br>thall: 2.0</br>exng_1: 0.0</br>caa_1: 0.0</br>caa_2: 0.0</br>caa_3: 0.0</br>caa_4: 0.0</br>cp_1: 0.0</br>cp_2: 0.0</br>cp_3: 1.0</br>restecg_1: 0.0</br>restecg_2: 0.0</br>_original_yhat_: 0.9919773936271667</br>\"],[\"</br>id: 14</br>prediction: 0.453</br>sex: 0.81</br></br>age: 58.0</br>trtbps: 150.0</br>chol: 283.0</br>fbs: 1.0</br>thalachh: 162.0</br>oldpeak: 1.0</br>slp: 2.0</br>thall: 2.0</br>exng_1: 0.0</br>caa_1: 0.0</br>caa_2: 0.0</br>caa_3: 0.0</br>caa_4: 0.0</br>cp_1: 0.0</br>cp_2: 0.0</br>cp_3: 1.0</br>restecg_1: 0.0</br>restecg_2: 0.0</br>_original_yhat_: 0.9919773936271667</br>\"],[\"</br>id: 14</br>prediction: 0.453</br>sex: 0.8200000000000001</br></br>age: 58.0</br>trtbps: 150.0</br>chol: 283.0</br>fbs: 1.0</br>thalachh: 162.0</br>oldpeak: 1.0</br>slp: 2.0</br>thall: 2.0</br>exng_1: 0.0</br>caa_1: 0.0</br>caa_2: 0.0</br>caa_3: 0.0</br>caa_4: 0.0</br>cp_1: 0.0</br>cp_2: 0.0</br>cp_3: 1.0</br>restecg_1: 0.0</br>restecg_2: 0.0</br>_original_yhat_: 0.9919773936271667</br>\"],[\"</br>id: 14</br>prediction: 0.453</br>sex: 0.8300000000000001</br></br>age: 58.0</br>trtbps: 150.0</br>chol: 283.0</br>fbs: 1.0</br>thalachh: 162.0</br>oldpeak: 1.0</br>slp: 2.0</br>thall: 2.0</br>exng_1: 0.0</br>caa_1: 0.0</br>caa_2: 0.0</br>caa_3: 0.0</br>caa_4: 0.0</br>cp_1: 0.0</br>cp_2: 0.0</br>cp_3: 1.0</br>restecg_1: 0.0</br>restecg_2: 0.0</br>_original_yhat_: 0.9919773936271667</br>\"],[\"</br>id: 14</br>prediction: 0.453</br>sex: 0.84</br></br>age: 58.0</br>trtbps: 150.0</br>chol: 283.0</br>fbs: 1.0</br>thalachh: 162.0</br>oldpeak: 1.0</br>slp: 2.0</br>thall: 2.0</br>exng_1: 0.0</br>caa_1: 0.0</br>caa_2: 0.0</br>caa_3: 0.0</br>caa_4: 0.0</br>cp_1: 0.0</br>cp_2: 0.0</br>cp_3: 1.0</br>restecg_1: 0.0</br>restecg_2: 0.0</br>_original_yhat_: 0.9919773936271667</br>\"],[\"</br>id: 14</br>prediction: 0.453</br>sex: 0.85</br></br>age: 58.0</br>trtbps: 150.0</br>chol: 283.0</br>fbs: 1.0</br>thalachh: 162.0</br>oldpeak: 1.0</br>slp: 2.0</br>thall: 2.0</br>exng_1: 0.0</br>caa_1: 0.0</br>caa_2: 0.0</br>caa_3: 0.0</br>caa_4: 0.0</br>cp_1: 0.0</br>cp_2: 0.0</br>cp_3: 1.0</br>restecg_1: 0.0</br>restecg_2: 0.0</br>_original_yhat_: 0.9919773936271667</br>\"],[\"</br>id: 14</br>prediction: 0.453</br>sex: 0.86</br></br>age: 58.0</br>trtbps: 150.0</br>chol: 283.0</br>fbs: 1.0</br>thalachh: 162.0</br>oldpeak: 1.0</br>slp: 2.0</br>thall: 2.0</br>exng_1: 0.0</br>caa_1: 0.0</br>caa_2: 0.0</br>caa_3: 0.0</br>caa_4: 0.0</br>cp_1: 0.0</br>cp_2: 0.0</br>cp_3: 1.0</br>restecg_1: 0.0</br>restecg_2: 0.0</br>_original_yhat_: 0.9919773936271667</br>\"],[\"</br>id: 14</br>prediction: 0.453</br>sex: 0.87</br></br>age: 58.0</br>trtbps: 150.0</br>chol: 283.0</br>fbs: 1.0</br>thalachh: 162.0</br>oldpeak: 1.0</br>slp: 2.0</br>thall: 2.0</br>exng_1: 0.0</br>caa_1: 0.0</br>caa_2: 0.0</br>caa_3: 0.0</br>caa_4: 0.0</br>cp_1: 0.0</br>cp_2: 0.0</br>cp_3: 1.0</br>restecg_1: 0.0</br>restecg_2: 0.0</br>_original_yhat_: 0.9919773936271667</br>\"],[\"</br>id: 14</br>prediction: 0.453</br>sex: 0.88</br></br>age: 58.0</br>trtbps: 150.0</br>chol: 283.0</br>fbs: 1.0</br>thalachh: 162.0</br>oldpeak: 1.0</br>slp: 2.0</br>thall: 2.0</br>exng_1: 0.0</br>caa_1: 0.0</br>caa_2: 0.0</br>caa_3: 0.0</br>caa_4: 0.0</br>cp_1: 0.0</br>cp_2: 0.0</br>cp_3: 1.0</br>restecg_1: 0.0</br>restecg_2: 0.0</br>_original_yhat_: 0.9919773936271667</br>\"],[\"</br>id: 14</br>prediction: 0.453</br>sex: 0.89</br></br>age: 58.0</br>trtbps: 150.0</br>chol: 283.0</br>fbs: 1.0</br>thalachh: 162.0</br>oldpeak: 1.0</br>slp: 2.0</br>thall: 2.0</br>exng_1: 0.0</br>caa_1: 0.0</br>caa_2: 0.0</br>caa_3: 0.0</br>caa_4: 0.0</br>cp_1: 0.0</br>cp_2: 0.0</br>cp_3: 1.0</br>restecg_1: 0.0</br>restecg_2: 0.0</br>_original_yhat_: 0.9919773936271667</br>\"],[\"</br>id: 14</br>prediction: 0.453</br>sex: 0.9</br></br>age: 58.0</br>trtbps: 150.0</br>chol: 283.0</br>fbs: 1.0</br>thalachh: 162.0</br>oldpeak: 1.0</br>slp: 2.0</br>thall: 2.0</br>exng_1: 0.0</br>caa_1: 0.0</br>caa_2: 0.0</br>caa_3: 0.0</br>caa_4: 0.0</br>cp_1: 0.0</br>cp_2: 0.0</br>cp_3: 1.0</br>restecg_1: 0.0</br>restecg_2: 0.0</br>_original_yhat_: 0.9919773936271667</br>\"],[\"</br>id: 14</br>prediction: 0.453</br>sex: 0.91</br></br>age: 58.0</br>trtbps: 150.0</br>chol: 283.0</br>fbs: 1.0</br>thalachh: 162.0</br>oldpeak: 1.0</br>slp: 2.0</br>thall: 2.0</br>exng_1: 0.0</br>caa_1: 0.0</br>caa_2: 0.0</br>caa_3: 0.0</br>caa_4: 0.0</br>cp_1: 0.0</br>cp_2: 0.0</br>cp_3: 1.0</br>restecg_1: 0.0</br>restecg_2: 0.0</br>_original_yhat_: 0.9919773936271667</br>\"],[\"</br>id: 14</br>prediction: 0.453</br>sex: 0.92</br></br>age: 58.0</br>trtbps: 150.0</br>chol: 283.0</br>fbs: 1.0</br>thalachh: 162.0</br>oldpeak: 1.0</br>slp: 2.0</br>thall: 2.0</br>exng_1: 0.0</br>caa_1: 0.0</br>caa_2: 0.0</br>caa_3: 0.0</br>caa_4: 0.0</br>cp_1: 0.0</br>cp_2: 0.0</br>cp_3: 1.0</br>restecg_1: 0.0</br>restecg_2: 0.0</br>_original_yhat_: 0.9919773936271667</br>\"],[\"</br>id: 14</br>prediction: 0.453</br>sex: 0.93</br></br>age: 58.0</br>trtbps: 150.0</br>chol: 283.0</br>fbs: 1.0</br>thalachh: 162.0</br>oldpeak: 1.0</br>slp: 2.0</br>thall: 2.0</br>exng_1: 0.0</br>caa_1: 0.0</br>caa_2: 0.0</br>caa_3: 0.0</br>caa_4: 0.0</br>cp_1: 0.0</br>cp_2: 0.0</br>cp_3: 1.0</br>restecg_1: 0.0</br>restecg_2: 0.0</br>_original_yhat_: 0.9919773936271667</br>\"],[\"</br>id: 14</br>prediction: 0.453</br>sex: 0.9400000000000001</br></br>age: 58.0</br>trtbps: 150.0</br>chol: 283.0</br>fbs: 1.0</br>thalachh: 162.0</br>oldpeak: 1.0</br>slp: 2.0</br>thall: 2.0</br>exng_1: 0.0</br>caa_1: 0.0</br>caa_2: 0.0</br>caa_3: 0.0</br>caa_4: 0.0</br>cp_1: 0.0</br>cp_2: 0.0</br>cp_3: 1.0</br>restecg_1: 0.0</br>restecg_2: 0.0</br>_original_yhat_: 0.9919773936271667</br>\"],[\"</br>id: 14</br>prediction: 0.453</br>sex: 0.9500000000000001</br></br>age: 58.0</br>trtbps: 150.0</br>chol: 283.0</br>fbs: 1.0</br>thalachh: 162.0</br>oldpeak: 1.0</br>slp: 2.0</br>thall: 2.0</br>exng_1: 0.0</br>caa_1: 0.0</br>caa_2: 0.0</br>caa_3: 0.0</br>caa_4: 0.0</br>cp_1: 0.0</br>cp_2: 0.0</br>cp_3: 1.0</br>restecg_1: 0.0</br>restecg_2: 0.0</br>_original_yhat_: 0.9919773936271667</br>\"],[\"</br>id: 14</br>prediction: 0.453</br>sex: 0.96</br></br>age: 58.0</br>trtbps: 150.0</br>chol: 283.0</br>fbs: 1.0</br>thalachh: 162.0</br>oldpeak: 1.0</br>slp: 2.0</br>thall: 2.0</br>exng_1: 0.0</br>caa_1: 0.0</br>caa_2: 0.0</br>caa_3: 0.0</br>caa_4: 0.0</br>cp_1: 0.0</br>cp_2: 0.0</br>cp_3: 1.0</br>restecg_1: 0.0</br>restecg_2: 0.0</br>_original_yhat_: 0.9919773936271667</br>\"],[\"</br>id: 14</br>prediction: 0.453</br>sex: 0.97</br></br>age: 58.0</br>trtbps: 150.0</br>chol: 283.0</br>fbs: 1.0</br>thalachh: 162.0</br>oldpeak: 1.0</br>slp: 2.0</br>thall: 2.0</br>exng_1: 0.0</br>caa_1: 0.0</br>caa_2: 0.0</br>caa_3: 0.0</br>caa_4: 0.0</br>cp_1: 0.0</br>cp_2: 0.0</br>cp_3: 1.0</br>restecg_1: 0.0</br>restecg_2: 0.0</br>_original_yhat_: 0.9919773936271667</br>\"],[\"</br>id: 14</br>prediction: 0.453</br>sex: 0.98</br></br>age: 58.0</br>trtbps: 150.0</br>chol: 283.0</br>fbs: 1.0</br>thalachh: 162.0</br>oldpeak: 1.0</br>slp: 2.0</br>thall: 2.0</br>exng_1: 0.0</br>caa_1: 0.0</br>caa_2: 0.0</br>caa_3: 0.0</br>caa_4: 0.0</br>cp_1: 0.0</br>cp_2: 0.0</br>cp_3: 1.0</br>restecg_1: 0.0</br>restecg_2: 0.0</br>_original_yhat_: 0.9919773936271667</br>\"],[\"</br>id: 14</br>prediction: 0.453</br>sex: 0.99</br></br>age: 58.0</br>trtbps: 150.0</br>chol: 283.0</br>fbs: 1.0</br>thalachh: 162.0</br>oldpeak: 1.0</br>slp: 2.0</br>thall: 2.0</br>exng_1: 0.0</br>caa_1: 0.0</br>caa_2: 0.0</br>caa_3: 0.0</br>caa_4: 0.0</br>cp_1: 0.0</br>cp_2: 0.0</br>cp_3: 1.0</br>restecg_1: 0.0</br>restecg_2: 0.0</br>_original_yhat_: 0.9919773936271667</br>\"],[\"</br>id: 14</br>prediction: 0.453</br>sex: 1.0</br></br>age: 58.0</br>trtbps: 150.0</br>chol: 283.0</br>fbs: 1.0</br>thalachh: 162.0</br>oldpeak: 1.0</br>slp: 2.0</br>thall: 2.0</br>exng_1: 0.0</br>caa_1: 0.0</br>caa_2: 0.0</br>caa_3: 0.0</br>caa_4: 0.0</br>cp_1: 0.0</br>cp_2: 0.0</br>cp_3: 1.0</br>restecg_1: 0.0</br>restecg_2: 0.0</br>_original_yhat_: 0.9919773936271667</br>\"]],\"hovertemplate\":\"%{customdata[0]}<extra></extra>\",\"legendgroup\":\"XGBClassifier\",\"line\":{\"color\":\"#46bac2\",\"dash\":\"solid\",\"width\":2},\"marker\":{\"symbol\":\"circle\"},\"mode\":\"lines\",\"name\":\"XGBClassifier\",\"orientation\":\"v\",\"showlegend\":false,\"x\":[0.0,0.01,0.02,0.03,0.04,0.05,0.06,0.07,0.08,0.09,0.1,0.11,0.12,0.13,0.14,0.15,0.16,0.17,0.18,0.19,0.2,0.21,0.22,0.23,0.24,0.25,0.26,0.27,0.28,0.29,0.3,0.31,0.32,0.33,0.34,0.35000000000000003,0.36,0.37,0.38,0.39,0.4,0.41000000000000003,0.42,0.43,0.44,0.45,0.46,0.47000000000000003,0.48,0.49,0.5,0.51,0.52,0.53,0.54,0.55,0.56,0.5700000000000001,0.58,0.59,0.6,0.61,0.62,0.63,0.64,0.65,0.66,0.67,0.68,0.6900000000000001,0.7000000000000001,0.71,0.72,0.73,0.74,0.75,0.76,0.77,0.78,0.79,0.8,0.81,0.8200000000000001,0.8300000000000001,0.84,0.85,0.86,0.87,0.88,0.89,0.9,0.91,0.92,0.93,0.9400000000000001,0.9500000000000001,0.96,0.97,0.98,0.99,1.0],\"xaxis\":\"x2\",\"y\":[0.9919773936271667,0.9919773936271667,0.9919773936271667,0.9919773936271667,0.9919773936271667,0.9919773936271667,0.9919773936271667,0.9919773936271667,0.9919773936271667,0.9919773936271667,0.9919773936271667,0.9919773936271667,0.9919773936271667,0.9919773936271667,0.9919773936271667,0.9919773936271667,0.9919773936271667,0.9919773936271667,0.9919773936271667,0.9919773936271667,0.9919773936271667,0.9919773936271667,0.9919773936271667,0.9919773936271667,0.9919773936271667,0.9919773936271667,0.9919773936271667,0.9919773936271667,0.9919773936271667,0.9919773936271667,0.9919773936271667,0.9919773936271667,0.9919773936271667,0.9919773936271667,0.9919773936271667,0.9919773936271667,0.9919773936271667,0.9919773936271667,0.9919773936271667,0.9919773936271667,0.9919773936271667,0.9919773936271667,0.9919773936271667,0.9919773936271667,0.9919773936271667,0.9919773936271667,0.9919773936271667,0.9919773936271667,0.9919773936271667,0.9919773936271667,0.45345044136047363,0.45345044136047363,0.45345044136047363,0.45345044136047363,0.45345044136047363,0.45345044136047363,0.45345044136047363,0.45345044136047363,0.45345044136047363,0.45345044136047363,0.45345044136047363,0.45345044136047363,0.45345044136047363,0.45345044136047363,0.45345044136047363,0.45345044136047363,0.45345044136047363,0.45345044136047363,0.45345044136047363,0.45345044136047363,0.45345044136047363,0.45345044136047363,0.45345044136047363,0.45345044136047363,0.45345044136047363,0.45345044136047363,0.45345044136047363,0.45345044136047363,0.45345044136047363,0.45345044136047363,0.45345044136047363,0.45345044136047363,0.45345044136047363,0.45345044136047363,0.45345044136047363,0.45345044136047363,0.45345044136047363,0.45345044136047363,0.45345044136047363,0.45345044136047363,0.45345044136047363,0.45345044136047363,0.45345044136047363,0.45345044136047363,0.45345044136047363,0.45345044136047363,0.45345044136047363,0.45345044136047363,0.45345044136047363,0.45345044136047363,0.45345044136047363],\"yaxis\":\"y2\",\"type\":\"scatter\",\"opacity\":1},{\"customdata\":[[\"</br>id: 14</br>prediction: 0.992</br>age: 58.0</br></br>sex: 0.0</br>trtbps: 150.0</br>chol: 283.0</br>fbs: 1.0</br>thalachh: 162.0</br>oldpeak: 1.0</br>slp: 2.0</br>thall: 2.0</br>exng_1: 0.0</br>caa_1: 0.0</br>caa_2: 0.0</br>caa_3: 0.0</br>caa_4: 0.0</br>cp_1: 0.0</br>cp_2: 0.0</br>cp_3: 1.0</br>restecg_1: 0.0</br>restecg_2: 0.0</br>_original_yhat_: 0.9919773936271667</br>\"]],\"hovertemplate\":\"%{customdata[0]}<extra></extra>\",\"legendgroup\":\"\",\"marker\":{\"color\":\"#371ea3\",\"size\":10,\"symbol\":\"circle\"},\"mode\":\"markers\",\"name\":\"\",\"opacity\":1,\"orientation\":\"v\",\"showlegend\":false,\"x\":[58.0],\"xaxis\":\"x\",\"y\":[0.9919773936271667],\"yaxis\":\"y\",\"type\":\"scatter\"},{\"customdata\":[[\"</br>id: 14</br>prediction: 0.992</br>sex: 0.0</br></br>age: 58.0</br>trtbps: 150.0</br>chol: 283.0</br>fbs: 1.0</br>thalachh: 162.0</br>oldpeak: 1.0</br>slp: 2.0</br>thall: 2.0</br>exng_1: 0.0</br>caa_1: 0.0</br>caa_2: 0.0</br>caa_3: 0.0</br>caa_4: 0.0</br>cp_1: 0.0</br>cp_2: 0.0</br>cp_3: 1.0</br>restecg_1: 0.0</br>restecg_2: 0.0</br>_original_yhat_: 0.9919773936271667</br>\"]],\"hovertemplate\":\"%{customdata[0]}<extra></extra>\",\"legendgroup\":\"\",\"marker\":{\"color\":\"#371ea3\",\"size\":10,\"symbol\":\"circle\"},\"mode\":\"markers\",\"name\":\"\",\"opacity\":1,\"orientation\":\"v\",\"showlegend\":false,\"x\":[0.0],\"xaxis\":\"x2\",\"y\":[0.9919773936271667],\"yaxis\":\"y2\",\"type\":\"scatter\"}],                        {\"template\":{\"data\":{\"scatter\":[{\"type\":\"scatter\"}]}},\"xaxis\":{\"anchor\":\"y\",\"domain\":[0.0,0.475],\"title\":{\"text\":\"\"},\"showticklabels\":true,\"type\":\"linear\",\"gridwidth\":2,\"zeroline\":false,\"automargin\":true,\"ticks\":\"outside\",\"tickcolor\":\"white\",\"ticklen\":3,\"fixedrange\":true},\"yaxis\":{\"anchor\":\"x\",\"domain\":[0.0,1.0],\"title\":{\"text\":\"\"},\"type\":\"linear\",\"gridwidth\":2,\"zeroline\":false,\"automargin\":true,\"ticks\":\"outside\",\"tickcolor\":\"white\",\"ticklen\":3,\"fixedrange\":true,\"range\":[0.39890052676200866,1.0534995019435882]},\"xaxis2\":{\"anchor\":\"y2\",\"domain\":[0.525,1.0],\"title\":{\"text\":\"\"},\"showticklabels\":true,\"type\":\"linear\",\"gridwidth\":2,\"zeroline\":false,\"automargin\":true,\"ticks\":\"outside\",\"tickcolor\":\"white\",\"ticklen\":3,\"fixedrange\":true},\"yaxis2\":{\"anchor\":\"x2\",\"domain\":[0.0,1.0],\"matches\":\"y\",\"showticklabels\":false,\"type\":\"linear\",\"gridwidth\":2,\"zeroline\":false,\"automargin\":true,\"ticks\":\"outside\",\"tickcolor\":\"white\",\"ticklen\":3,\"fixedrange\":true,\"range\":[0.39890052676200866,1.0534995019435882],\"title\":{\"text\":\"\"}},\"annotations\":[{\"font\":{\"size\":13},\"showarrow\":false,\"text\":\"age\",\"x\":0.2375,\"xanchor\":\"center\",\"xref\":\"paper\",\"y\":1.0,\"yanchor\":\"bottom\",\"yref\":\"paper\"},{\"font\":{\"size\":13},\"showarrow\":false,\"text\":\"sex\",\"x\":0.7625,\"xanchor\":\"center\",\"xref\":\"paper\",\"y\":1.0,\"yanchor\":\"bottom\",\"yref\":\"paper\"},{\"font\":{\"size\":13},\"showarrow\":false,\"text\":\"prediction\",\"textangle\":-90,\"x\":-0.07,\"xref\":\"paper\",\"y\":0.5,\"yref\":\"paper\"}],\"legend\":{\"title\":{\"text\":\"label\",\"font\":{\"size\":12}},\"tracegroupgap\":0,\"font\":{\"size\":11},\"orientation\":\"h\",\"yanchor\":\"bottom\",\"y\":1.0613496932515338,\"xanchor\":\"right\",\"x\":1,\"itemsizing\":\"constant\"},\"margin\":{\"t\":78,\"b\":71,\"r\":30},\"font\":{\"color\":\"#371ea3\"},\"title\":{\"font\":{\"size\":16},\"text\":\"Ceteris Paribus Profiles\",\"x\":0.15},\"hovermode\":\"closest\",\"height\":489,\"hoverlabel\":{\"bgcolor\":\"rgba(0,0,0,0.8)\"}},                        {\"displaylogo\": false, \"staticPlot\": false, \"toImageButtonOptions\": {\"height\": null, \"width\": null}, \"modeBarButtonsToRemove\": [\"sendDataToCloud\", \"lasso2d\", \"autoScale2d\", \"select2d\", \"zoom2d\", \"pan2d\", \"zoomIn2d\", \"zoomOut2d\", \"resetScale2d\", \"toggleSpikelines\", \"hoverCompareCartesian\", \"hoverClosestCartesian\"], \"responsive\": true}                    ).then(function(){\n                            \nvar gd = document.getElementById('9f39a47f-5720-4696-86ee-d5ce3bb9eef9');\nvar x = new MutationObserver(function (mutations, observer) {{\n        var display = window.getComputedStyle(gd).display;\n        if (!display || display === 'none') {{\n            console.log([gd, 'removed!']);\n            Plotly.purge(gd);\n            observer.disconnect();\n        }}\n}});\n\n// Listen for the removal of the full notebook cells\nvar notebookContainer = gd.closest('#notebook-container');\nif (notebookContainer) {{\n    x.observe(notebookContainer, {childList: true});\n}}\n\n// Listen for the clearing of the current output cell\nvar outputEl = gd.closest('.output');\nif (outputEl) {{\n    x.observe(outputEl, {childList: true});\n}}\n\n                        })                };                });            </script>        </div>"
     },
     "metadata": {},
     "output_type": "display_data"
    }
   ],
   "source": [
    "pdp.plot(variables=['age', 'sex'])\n",
    "cp = explainer.predict_profile(new_observation=patients.iloc[[0]])\n",
    "cp.plot(variables=['age', 'sex'])"
   ],
   "metadata": {
    "collapsed": false
   }
  },
  {
   "cell_type": "code",
   "execution_count": 52,
   "outputs": [
    {
     "name": "stdout",
     "output_type": "stream",
     "text": [
      "Preparation of a new explainer is initiated\n",
      "\n",
      "  -> data              : 303 rows 19 cols\n",
      "  -> target variable   : Parameter 'y' was a pandas.Series. Converted to a numpy.ndarray.\n",
      "  -> target variable   : 303 values\n",
      "  -> model_class       : sklearn.ensemble._forest.RandomForestClassifier (default)\n",
      "  -> label             : LogisticRegression\n",
      "  -> predict function  : <function yhat_proba_default at 0x7faacbbb2440> will be used (default)\n",
      "  -> predict function  : Accepts pandas.DataFrame and numpy.ndarray.\n",
      "  -> predicted values  : min = 0.00362, mean = 0.547, max = 0.992\n",
      "  -> model type        : classification will be used (default)\n",
      "  -> residual function : difference between y and yhat (default)\n",
      "  -> residuals         : min = -0.7, mean = -0.002, max = 0.549\n",
      "  -> model_info        : package sklearn\n",
      "\n",
      "A new explainer has been created!\n"
     ]
    },
    {
     "name": "stderr",
     "output_type": "stream",
     "text": [
      "/home/x/Documents/eXplainableMachineLearning-2023/venv/lib/python3.10/site-packages/sklearn/base.py:450: UserWarning:\n",
      "\n",
      "X does not have valid feature names, but RandomForestClassifier was fitted with feature names\n",
      "\n"
     ]
    },
    {
     "data": {
      "text/plain": "<dalex.model_explanations._model_performance.object.ModelPerformance at 0x7faaba050f70>",
      "text/html": "<div>\n<style scoped>\n    .dataframe tbody tr th:only-of-type {\n        vertical-align: middle;\n    }\n\n    .dataframe tbody tr th {\n        vertical-align: top;\n    }\n\n    .dataframe thead th {\n        text-align: right;\n    }\n</style>\n<table border=\"1\" class=\"dataframe\">\n  <thead>\n    <tr style=\"text-align: right;\">\n      <th></th>\n      <th>recall</th>\n      <th>precision</th>\n      <th>f1</th>\n      <th>accuracy</th>\n      <th>auc</th>\n    </tr>\n  </thead>\n  <tbody>\n    <tr>\n      <th>LogisticRegression</th>\n      <td>0.987879</td>\n      <td>0.981928</td>\n      <td>0.984894</td>\n      <td>0.983498</td>\n      <td>0.998507</td>\n    </tr>\n  </tbody>\n</table>\n</div>"
     },
     "execution_count": 52,
     "metadata": {},
     "output_type": "execute_result"
    }
   ],
   "source": [
    "model2 = RandomForestClassifier(max_depth=7, random_state=0)\n",
    "model2.fit(X, y)\n",
    "\n",
    "explainer2 = dx.Explainer(model2, X, y, label=\"LogisticRegression\")\n",
    "explainer2.model_performance()"
   ],
   "metadata": {
    "collapsed": false
   }
  },
  {
   "cell_type": "code",
   "execution_count": 50,
   "outputs": [
    {
     "name": "stderr",
     "output_type": "stream",
     "text": [
      "Calculating ceteris paribus: 100%|██████████| 19/19 [00:04<00:00,  4.43it/s]\n"
     ]
    },
    {
     "data": {
      "text/plain": "        _vname_             _label_    _x_    _yhat_  _ids_\n0           age  LogisticRegression  29.00  0.574700      0\n1           age  LogisticRegression  29.48  0.574700      0\n2           age  LogisticRegression  29.96  0.574700      0\n3           age  LogisticRegression  30.44  0.574700      0\n4           age  LogisticRegression  30.92  0.574700      0\n...         ...                 ...    ...       ...    ...\n1914  restecg_2  LogisticRegression   0.96  0.545224      0\n1915  restecg_2  LogisticRegression   0.97  0.545224      0\n1916  restecg_2  LogisticRegression   0.98  0.545224      0\n1917  restecg_2  LogisticRegression   0.99  0.545224      0\n1918  restecg_2  LogisticRegression   1.00  0.545224      0\n\n[1919 rows x 5 columns]",
      "text/html": "<div>\n<style scoped>\n    .dataframe tbody tr th:only-of-type {\n        vertical-align: middle;\n    }\n\n    .dataframe tbody tr th {\n        vertical-align: top;\n    }\n\n    .dataframe thead th {\n        text-align: right;\n    }\n</style>\n<table border=\"1\" class=\"dataframe\">\n  <thead>\n    <tr style=\"text-align: right;\">\n      <th></th>\n      <th>_vname_</th>\n      <th>_label_</th>\n      <th>_x_</th>\n      <th>_yhat_</th>\n      <th>_ids_</th>\n    </tr>\n  </thead>\n  <tbody>\n    <tr>\n      <th>0</th>\n      <td>age</td>\n      <td>LogisticRegression</td>\n      <td>29.00</td>\n      <td>0.574700</td>\n      <td>0</td>\n    </tr>\n    <tr>\n      <th>1</th>\n      <td>age</td>\n      <td>LogisticRegression</td>\n      <td>29.48</td>\n      <td>0.574700</td>\n      <td>0</td>\n    </tr>\n    <tr>\n      <th>2</th>\n      <td>age</td>\n      <td>LogisticRegression</td>\n      <td>29.96</td>\n      <td>0.574700</td>\n      <td>0</td>\n    </tr>\n    <tr>\n      <th>3</th>\n      <td>age</td>\n      <td>LogisticRegression</td>\n      <td>30.44</td>\n      <td>0.574700</td>\n      <td>0</td>\n    </tr>\n    <tr>\n      <th>4</th>\n      <td>age</td>\n      <td>LogisticRegression</td>\n      <td>30.92</td>\n      <td>0.574700</td>\n      <td>0</td>\n    </tr>\n    <tr>\n      <th>...</th>\n      <td>...</td>\n      <td>...</td>\n      <td>...</td>\n      <td>...</td>\n      <td>...</td>\n    </tr>\n    <tr>\n      <th>1914</th>\n      <td>restecg_2</td>\n      <td>LogisticRegression</td>\n      <td>0.96</td>\n      <td>0.545224</td>\n      <td>0</td>\n    </tr>\n    <tr>\n      <th>1915</th>\n      <td>restecg_2</td>\n      <td>LogisticRegression</td>\n      <td>0.97</td>\n      <td>0.545224</td>\n      <td>0</td>\n    </tr>\n    <tr>\n      <th>1916</th>\n      <td>restecg_2</td>\n      <td>LogisticRegression</td>\n      <td>0.98</td>\n      <td>0.545224</td>\n      <td>0</td>\n    </tr>\n    <tr>\n      <th>1917</th>\n      <td>restecg_2</td>\n      <td>LogisticRegression</td>\n      <td>0.99</td>\n      <td>0.545224</td>\n      <td>0</td>\n    </tr>\n    <tr>\n      <th>1918</th>\n      <td>restecg_2</td>\n      <td>LogisticRegression</td>\n      <td>1.00</td>\n      <td>0.545224</td>\n      <td>0</td>\n    </tr>\n  </tbody>\n</table>\n<p>1919 rows × 5 columns</p>\n</div>"
     },
     "execution_count": 50,
     "metadata": {},
     "output_type": "execute_result"
    }
   ],
   "source": [
    "pdp2 = explainer2.model_profile()\n",
    "pdp2.result"
   ],
   "metadata": {
    "collapsed": false
   }
  },
  {
   "cell_type": "code",
   "execution_count": 58,
   "outputs": [
    {
     "data": {
      "application/vnd.plotly.v1+json": {
       "data": [
        {
         "customdata": [
          [
           0.5461326593740714,
           "LogisticRegression",
           "age"
          ],
          [
           0.5461326593740714,
           "LogisticRegression",
           "age"
          ],
          [
           0.5461326593740714,
           "LogisticRegression",
           "age"
          ],
          [
           0.5461326593740714,
           "LogisticRegression",
           "age"
          ],
          [
           0.5461326593740714,
           "LogisticRegression",
           "age"
          ],
          [
           0.5461326593740714,
           "LogisticRegression",
           "age"
          ],
          [
           0.5461326593740714,
           "LogisticRegression",
           "age"
          ],
          [
           0.5461326593740714,
           "LogisticRegression",
           "age"
          ],
          [
           0.5461326593740714,
           "LogisticRegression",
           "age"
          ],
          [
           0.5461326593740714,
           "LogisticRegression",
           "age"
          ],
          [
           0.5461326593740714,
           "LogisticRegression",
           "age"
          ],
          [
           0.5461326593740714,
           "LogisticRegression",
           "age"
          ],
          [
           0.5461326593740714,
           "LogisticRegression",
           "age"
          ],
          [
           0.5461326593740714,
           "LogisticRegression",
           "age"
          ],
          [
           0.5461326593740714,
           "LogisticRegression",
           "age"
          ],
          [
           0.5461326593740714,
           "LogisticRegression",
           "age"
          ],
          [
           0.5461326593740714,
           "LogisticRegression",
           "age"
          ],
          [
           0.5461326593740714,
           "LogisticRegression",
           "age"
          ],
          [
           0.5461326593740714,
           "LogisticRegression",
           "age"
          ],
          [
           0.5461326593740714,
           "LogisticRegression",
           "age"
          ],
          [
           0.5461326593740714,
           "LogisticRegression",
           "age"
          ],
          [
           0.5461326593740714,
           "LogisticRegression",
           "age"
          ],
          [
           0.5461326593740714,
           "LogisticRegression",
           "age"
          ],
          [
           0.5461326593740714,
           "LogisticRegression",
           "age"
          ],
          [
           0.5461326593740714,
           "LogisticRegression",
           "age"
          ],
          [
           0.5461326593740714,
           "LogisticRegression",
           "age"
          ],
          [
           0.5461326593740714,
           "LogisticRegression",
           "age"
          ],
          [
           0.5461326593740714,
           "LogisticRegression",
           "age"
          ],
          [
           0.5461326593740714,
           "LogisticRegression",
           "age"
          ],
          [
           0.5461326593740714,
           "LogisticRegression",
           "age"
          ],
          [
           0.5461326593740714,
           "LogisticRegression",
           "age"
          ],
          [
           0.5461326593740714,
           "LogisticRegression",
           "age"
          ],
          [
           0.5461326593740714,
           "LogisticRegression",
           "age"
          ],
          [
           0.5461326593740714,
           "LogisticRegression",
           "age"
          ],
          [
           0.5461326593740714,
           "LogisticRegression",
           "age"
          ],
          [
           0.5461326593740714,
           "LogisticRegression",
           "age"
          ],
          [
           0.5461326593740714,
           "LogisticRegression",
           "age"
          ],
          [
           0.5461326593740714,
           "LogisticRegression",
           "age"
          ],
          [
           0.5461326593740714,
           "LogisticRegression",
           "age"
          ],
          [
           0.5461326593740714,
           "LogisticRegression",
           "age"
          ],
          [
           0.5461326593740714,
           "LogisticRegression",
           "age"
          ],
          [
           0.5461326593740714,
           "LogisticRegression",
           "age"
          ],
          [
           0.5461326593740714,
           "LogisticRegression",
           "age"
          ],
          [
           0.5461326593740714,
           "LogisticRegression",
           "age"
          ],
          [
           0.5461326593740714,
           "LogisticRegression",
           "age"
          ],
          [
           0.5461326593740714,
           "LogisticRegression",
           "age"
          ],
          [
           0.5461326593740714,
           "LogisticRegression",
           "age"
          ],
          [
           0.5461326593740714,
           "LogisticRegression",
           "age"
          ],
          [
           0.5461326593740714,
           "LogisticRegression",
           "age"
          ],
          [
           0.5461326593740714,
           "LogisticRegression",
           "age"
          ],
          [
           0.5461326593740714,
           "LogisticRegression",
           "age"
          ],
          [
           0.5461326593740714,
           "LogisticRegression",
           "age"
          ],
          [
           0.5461326593740714,
           "LogisticRegression",
           "age"
          ],
          [
           0.5461326593740714,
           "LogisticRegression",
           "age"
          ],
          [
           0.5461326593740714,
           "LogisticRegression",
           "age"
          ],
          [
           0.5461326593740714,
           "LogisticRegression",
           "age"
          ],
          [
           0.5461326593740714,
           "LogisticRegression",
           "age"
          ],
          [
           0.5461326593740714,
           "LogisticRegression",
           "age"
          ],
          [
           0.5461326593740714,
           "LogisticRegression",
           "age"
          ],
          [
           0.5461326593740714,
           "LogisticRegression",
           "age"
          ],
          [
           0.5461326593740714,
           "LogisticRegression",
           "age"
          ],
          [
           0.5461326593740714,
           "LogisticRegression",
           "age"
          ],
          [
           0.5461326593740714,
           "LogisticRegression",
           "age"
          ],
          [
           0.5461326593740714,
           "LogisticRegression",
           "age"
          ],
          [
           0.5461326593740714,
           "LogisticRegression",
           "age"
          ],
          [
           0.5461326593740714,
           "LogisticRegression",
           "age"
          ],
          [
           0.5461326593740714,
           "LogisticRegression",
           "age"
          ],
          [
           0.5461326593740714,
           "LogisticRegression",
           "age"
          ],
          [
           0.5461326593740714,
           "LogisticRegression",
           "age"
          ],
          [
           0.5461326593740714,
           "LogisticRegression",
           "age"
          ],
          [
           0.5461326593740714,
           "LogisticRegression",
           "age"
          ],
          [
           0.5461326593740714,
           "LogisticRegression",
           "age"
          ],
          [
           0.5461326593740714,
           "LogisticRegression",
           "age"
          ],
          [
           0.5461326593740714,
           "LogisticRegression",
           "age"
          ],
          [
           0.5461326593740714,
           "LogisticRegression",
           "age"
          ],
          [
           0.5461326593740714,
           "LogisticRegression",
           "age"
          ],
          [
           0.5461326593740714,
           "LogisticRegression",
           "age"
          ],
          [
           0.5461326593740714,
           "LogisticRegression",
           "age"
          ],
          [
           0.5461326593740714,
           "LogisticRegression",
           "age"
          ],
          [
           0.5461326593740714,
           "LogisticRegression",
           "age"
          ],
          [
           0.5461326593740714,
           "LogisticRegression",
           "age"
          ],
          [
           0.5461326593740714,
           "LogisticRegression",
           "age"
          ],
          [
           0.5461326593740714,
           "LogisticRegression",
           "age"
          ],
          [
           0.5461326593740714,
           "LogisticRegression",
           "age"
          ],
          [
           0.5461326593740714,
           "LogisticRegression",
           "age"
          ],
          [
           0.5461326593740714,
           "LogisticRegression",
           "age"
          ],
          [
           0.5461326593740714,
           "LogisticRegression",
           "age"
          ],
          [
           0.5461326593740714,
           "LogisticRegression",
           "age"
          ],
          [
           0.5461326593740714,
           "LogisticRegression",
           "age"
          ],
          [
           0.5461326593740714,
           "LogisticRegression",
           "age"
          ],
          [
           0.5461326593740714,
           "LogisticRegression",
           "age"
          ],
          [
           0.5461326593740714,
           "LogisticRegression",
           "age"
          ],
          [
           0.5461326593740714,
           "LogisticRegression",
           "age"
          ],
          [
           0.5461326593740714,
           "LogisticRegression",
           "age"
          ],
          [
           0.5461326593740714,
           "LogisticRegression",
           "age"
          ],
          [
           0.5461326593740714,
           "LogisticRegression",
           "age"
          ],
          [
           0.5461326593740714,
           "LogisticRegression",
           "age"
          ],
          [
           0.5461326593740714,
           "LogisticRegression",
           "age"
          ],
          [
           0.5461326593740714,
           "LogisticRegression",
           "age"
          ],
          [
           0.5461326593740714,
           "LogisticRegression",
           "age"
          ],
          [
           0.5461326593740714,
           "LogisticRegression",
           "age"
          ]
         ],
         "hovertemplate": "<b>%{hovertext}</b><br><br>prediction=%{y:.3f}<br>mean_prediction=%{customdata[0]:.3f}<extra></extra>",
         "hovertext": [
          "LogisticRegression",
          "LogisticRegression",
          "LogisticRegression",
          "LogisticRegression",
          "LogisticRegression",
          "LogisticRegression",
          "LogisticRegression",
          "LogisticRegression",
          "LogisticRegression",
          "LogisticRegression",
          "LogisticRegression",
          "LogisticRegression",
          "LogisticRegression",
          "LogisticRegression",
          "LogisticRegression",
          "LogisticRegression",
          "LogisticRegression",
          "LogisticRegression",
          "LogisticRegression",
          "LogisticRegression",
          "LogisticRegression",
          "LogisticRegression",
          "LogisticRegression",
          "LogisticRegression",
          "LogisticRegression",
          "LogisticRegression",
          "LogisticRegression",
          "LogisticRegression",
          "LogisticRegression",
          "LogisticRegression",
          "LogisticRegression",
          "LogisticRegression",
          "LogisticRegression",
          "LogisticRegression",
          "LogisticRegression",
          "LogisticRegression",
          "LogisticRegression",
          "LogisticRegression",
          "LogisticRegression",
          "LogisticRegression",
          "LogisticRegression",
          "LogisticRegression",
          "LogisticRegression",
          "LogisticRegression",
          "LogisticRegression",
          "LogisticRegression",
          "LogisticRegression",
          "LogisticRegression",
          "LogisticRegression",
          "LogisticRegression",
          "LogisticRegression",
          "LogisticRegression",
          "LogisticRegression",
          "LogisticRegression",
          "LogisticRegression",
          "LogisticRegression",
          "LogisticRegression",
          "LogisticRegression",
          "LogisticRegression",
          "LogisticRegression",
          "LogisticRegression",
          "LogisticRegression",
          "LogisticRegression",
          "LogisticRegression",
          "LogisticRegression",
          "LogisticRegression",
          "LogisticRegression",
          "LogisticRegression",
          "LogisticRegression",
          "LogisticRegression",
          "LogisticRegression",
          "LogisticRegression",
          "LogisticRegression",
          "LogisticRegression",
          "LogisticRegression",
          "LogisticRegression",
          "LogisticRegression",
          "LogisticRegression",
          "LogisticRegression",
          "LogisticRegression",
          "LogisticRegression",
          "LogisticRegression",
          "LogisticRegression",
          "LogisticRegression",
          "LogisticRegression",
          "LogisticRegression",
          "LogisticRegression",
          "LogisticRegression",
          "LogisticRegression",
          "LogisticRegression",
          "LogisticRegression",
          "LogisticRegression",
          "LogisticRegression",
          "LogisticRegression",
          "LogisticRegression",
          "LogisticRegression",
          "LogisticRegression",
          "LogisticRegression",
          "LogisticRegression",
          "LogisticRegression",
          "LogisticRegression"
         ],
         "legendgroup": "LogisticRegression",
         "line": {
          "color": "#46bac2",
          "dash": "solid",
          "width": 2
         },
         "marker": {
          "symbol": "circle"
         },
         "mode": "lines",
         "name": "LogisticRegression",
         "orientation": "v",
         "showlegend": true,
         "x": [
          29.0,
          29.48,
          29.96,
          30.44,
          30.92,
          31.4,
          31.88,
          32.36,
          32.84,
          33.32,
          33.8,
          34.28,
          34.76,
          35.24,
          35.72,
          36.2,
          36.68,
          37.16,
          37.64,
          38.12,
          38.6,
          39.08,
          39.56,
          40.04,
          40.519999999999996,
          41.0,
          41.480000000000004,
          41.96,
          42.44,
          42.92,
          43.4,
          43.879999999999995,
          44.36,
          44.84,
          45.32,
          45.8,
          46.28,
          46.76,
          47.239999999999995,
          47.72,
          48.2,
          48.68,
          49.16,
          49.64,
          50.12,
          50.599999999999994,
          51.08,
          51.56,
          52.04,
          52.519999999999996,
          53.0,
          53.480000000000004,
          53.96,
          54.44,
          54.92,
          55.4,
          55.879999999999995,
          56.36,
          56.84,
          57.32,
          57.8,
          58.28,
          58.76,
          59.239999999999995,
          59.72,
          60.2,
          60.68,
          61.16,
          61.64,
          62.12,
          62.6,
          63.08,
          63.56,
          64.03999999999999,
          64.52,
          65.0,
          65.47999999999999,
          65.96000000000001,
          66.44,
          66.92,
          67.4,
          67.88,
          68.36,
          68.84,
          69.32,
          69.8,
          70.28,
          70.75999999999999,
          71.24,
          71.72,
          72.19999999999999,
          72.68,
          73.16,
          73.64,
          74.12,
          74.6,
          75.08,
          75.56,
          76.03999999999999,
          76.52,
          77.0
         ],
         "xaxis": "x3",
         "y": [
          0.5747002648145797,
          0.5747002648145797,
          0.5747002648145797,
          0.5747002648145797,
          0.5747002648145797,
          0.5747002648145797,
          0.5747002648145797,
          0.5747002648145797,
          0.5747002648145797,
          0.5747002648145797,
          0.5747002648145797,
          0.5747002648145797,
          0.5747002648145797,
          0.5747002648145797,
          0.5747002648145797,
          0.5747002648145797,
          0.5747002648145797,
          0.5762113393759832,
          0.5766446727093165,
          0.5772668949315387,
          0.5772668949315387,
          0.5776889319685758,
          0.5776889319685758,
          0.5776889319685758,
          0.5781383572559321,
          0.5781383572559321,
          0.5797666905892654,
          0.5828486016168343,
          0.5830486016168344,
          0.5793374905057233,
          0.5790327286009613,
          0.5719571439334359,
          0.5709885448996194,
          0.5694389686643453,
          0.5690351225104991,
          0.5681623447327214,
          0.5666801225104992,
          0.5631059810963577,
          0.562839314429691,
          0.5647650287154053,
          0.564331695382072,
          0.5644650287154053,
          0.5641983620487387,
          0.5672111825615591,
          0.5691445158948926,
          0.5700580706150261,
          0.5718914039483595,
          0.5706011366133553,
          0.5708011366133553,
          0.5708441921689109,
          0.5708441921689109,
          0.5708908954656142,
          0.5661799652662965,
          0.5660132985996299,
          0.5612021101121915,
          0.558653711658793,
          0.5506264976410855,
          0.549452979122567,
          0.5197686316018821,
          0.5184638696971202,
          0.5104605018301279,
          0.5098605018301279,
          0.5102836133482395,
          0.5084736431101443,
          0.5021153564621517,
          0.5013320231288184,
          0.4955665469383422,
          0.49634273741453266,
          0.5004982929700882,
          0.5013427374145326,
          0.5046551170378334,
          0.5029831128009356,
          0.5083032867621914,
          0.5074366200955248,
          0.5086032867621915,
          0.5086032867621915,
          0.5088921756510804,
          0.5113076874698429,
          0.510407687469843,
          0.5079348303269858,
          0.5082709414380969,
          0.5126367911112996,
          0.5144367911112995,
          0.5156016720636805,
          0.5162865926986011,
          0.5158770688890773,
          0.5189283318290359,
          0.5189283318290359,
          0.5189283318290359,
          0.5189283318290359,
          0.5215849734330459,
          0.5215849734330459,
          0.5193753438034162,
          0.5193753438034162,
          0.518873260470083,
          0.518873260470083,
          0.518873260470083,
          0.5159756414224639,
          0.5159756414224639,
          0.5159756414224639,
          0.5159756414224639
         ],
         "yaxis": "y3",
         "type": "scatter",
         "opacity": 1
        },
        {
         "customdata": [
          [
           0.5461326593740714,
           "LogisticRegression",
           "sex"
          ],
          [
           0.5461326593740714,
           "LogisticRegression",
           "sex"
          ],
          [
           0.5461326593740714,
           "LogisticRegression",
           "sex"
          ],
          [
           0.5461326593740714,
           "LogisticRegression",
           "sex"
          ],
          [
           0.5461326593740714,
           "LogisticRegression",
           "sex"
          ],
          [
           0.5461326593740714,
           "LogisticRegression",
           "sex"
          ],
          [
           0.5461326593740714,
           "LogisticRegression",
           "sex"
          ],
          [
           0.5461326593740714,
           "LogisticRegression",
           "sex"
          ],
          [
           0.5461326593740714,
           "LogisticRegression",
           "sex"
          ],
          [
           0.5461326593740714,
           "LogisticRegression",
           "sex"
          ],
          [
           0.5461326593740714,
           "LogisticRegression",
           "sex"
          ],
          [
           0.5461326593740714,
           "LogisticRegression",
           "sex"
          ],
          [
           0.5461326593740714,
           "LogisticRegression",
           "sex"
          ],
          [
           0.5461326593740714,
           "LogisticRegression",
           "sex"
          ],
          [
           0.5461326593740714,
           "LogisticRegression",
           "sex"
          ],
          [
           0.5461326593740714,
           "LogisticRegression",
           "sex"
          ],
          [
           0.5461326593740714,
           "LogisticRegression",
           "sex"
          ],
          [
           0.5461326593740714,
           "LogisticRegression",
           "sex"
          ],
          [
           0.5461326593740714,
           "LogisticRegression",
           "sex"
          ],
          [
           0.5461326593740714,
           "LogisticRegression",
           "sex"
          ],
          [
           0.5461326593740714,
           "LogisticRegression",
           "sex"
          ],
          [
           0.5461326593740714,
           "LogisticRegression",
           "sex"
          ],
          [
           0.5461326593740714,
           "LogisticRegression",
           "sex"
          ],
          [
           0.5461326593740714,
           "LogisticRegression",
           "sex"
          ],
          [
           0.5461326593740714,
           "LogisticRegression",
           "sex"
          ],
          [
           0.5461326593740714,
           "LogisticRegression",
           "sex"
          ],
          [
           0.5461326593740714,
           "LogisticRegression",
           "sex"
          ],
          [
           0.5461326593740714,
           "LogisticRegression",
           "sex"
          ],
          [
           0.5461326593740714,
           "LogisticRegression",
           "sex"
          ],
          [
           0.5461326593740714,
           "LogisticRegression",
           "sex"
          ],
          [
           0.5461326593740714,
           "LogisticRegression",
           "sex"
          ],
          [
           0.5461326593740714,
           "LogisticRegression",
           "sex"
          ],
          [
           0.5461326593740714,
           "LogisticRegression",
           "sex"
          ],
          [
           0.5461326593740714,
           "LogisticRegression",
           "sex"
          ],
          [
           0.5461326593740714,
           "LogisticRegression",
           "sex"
          ],
          [
           0.5461326593740714,
           "LogisticRegression",
           "sex"
          ],
          [
           0.5461326593740714,
           "LogisticRegression",
           "sex"
          ],
          [
           0.5461326593740714,
           "LogisticRegression",
           "sex"
          ],
          [
           0.5461326593740714,
           "LogisticRegression",
           "sex"
          ],
          [
           0.5461326593740714,
           "LogisticRegression",
           "sex"
          ],
          [
           0.5461326593740714,
           "LogisticRegression",
           "sex"
          ],
          [
           0.5461326593740714,
           "LogisticRegression",
           "sex"
          ],
          [
           0.5461326593740714,
           "LogisticRegression",
           "sex"
          ],
          [
           0.5461326593740714,
           "LogisticRegression",
           "sex"
          ],
          [
           0.5461326593740714,
           "LogisticRegression",
           "sex"
          ],
          [
           0.5461326593740714,
           "LogisticRegression",
           "sex"
          ],
          [
           0.5461326593740714,
           "LogisticRegression",
           "sex"
          ],
          [
           0.5461326593740714,
           "LogisticRegression",
           "sex"
          ],
          [
           0.5461326593740714,
           "LogisticRegression",
           "sex"
          ],
          [
           0.5461326593740714,
           "LogisticRegression",
           "sex"
          ],
          [
           0.5461326593740714,
           "LogisticRegression",
           "sex"
          ],
          [
           0.5461326593740714,
           "LogisticRegression",
           "sex"
          ],
          [
           0.5461326593740714,
           "LogisticRegression",
           "sex"
          ],
          [
           0.5461326593740714,
           "LogisticRegression",
           "sex"
          ],
          [
           0.5461326593740714,
           "LogisticRegression",
           "sex"
          ],
          [
           0.5461326593740714,
           "LogisticRegression",
           "sex"
          ],
          [
           0.5461326593740714,
           "LogisticRegression",
           "sex"
          ],
          [
           0.5461326593740714,
           "LogisticRegression",
           "sex"
          ],
          [
           0.5461326593740714,
           "LogisticRegression",
           "sex"
          ],
          [
           0.5461326593740714,
           "LogisticRegression",
           "sex"
          ],
          [
           0.5461326593740714,
           "LogisticRegression",
           "sex"
          ],
          [
           0.5461326593740714,
           "LogisticRegression",
           "sex"
          ],
          [
           0.5461326593740714,
           "LogisticRegression",
           "sex"
          ],
          [
           0.5461326593740714,
           "LogisticRegression",
           "sex"
          ],
          [
           0.5461326593740714,
           "LogisticRegression",
           "sex"
          ],
          [
           0.5461326593740714,
           "LogisticRegression",
           "sex"
          ],
          [
           0.5461326593740714,
           "LogisticRegression",
           "sex"
          ],
          [
           0.5461326593740714,
           "LogisticRegression",
           "sex"
          ],
          [
           0.5461326593740714,
           "LogisticRegression",
           "sex"
          ],
          [
           0.5461326593740714,
           "LogisticRegression",
           "sex"
          ],
          [
           0.5461326593740714,
           "LogisticRegression",
           "sex"
          ],
          [
           0.5461326593740714,
           "LogisticRegression",
           "sex"
          ],
          [
           0.5461326593740714,
           "LogisticRegression",
           "sex"
          ],
          [
           0.5461326593740714,
           "LogisticRegression",
           "sex"
          ],
          [
           0.5461326593740714,
           "LogisticRegression",
           "sex"
          ],
          [
           0.5461326593740714,
           "LogisticRegression",
           "sex"
          ],
          [
           0.5461326593740714,
           "LogisticRegression",
           "sex"
          ],
          [
           0.5461326593740714,
           "LogisticRegression",
           "sex"
          ],
          [
           0.5461326593740714,
           "LogisticRegression",
           "sex"
          ],
          [
           0.5461326593740714,
           "LogisticRegression",
           "sex"
          ],
          [
           0.5461326593740714,
           "LogisticRegression",
           "sex"
          ],
          [
           0.5461326593740714,
           "LogisticRegression",
           "sex"
          ],
          [
           0.5461326593740714,
           "LogisticRegression",
           "sex"
          ],
          [
           0.5461326593740714,
           "LogisticRegression",
           "sex"
          ],
          [
           0.5461326593740714,
           "LogisticRegression",
           "sex"
          ],
          [
           0.5461326593740714,
           "LogisticRegression",
           "sex"
          ],
          [
           0.5461326593740714,
           "LogisticRegression",
           "sex"
          ],
          [
           0.5461326593740714,
           "LogisticRegression",
           "sex"
          ],
          [
           0.5461326593740714,
           "LogisticRegression",
           "sex"
          ],
          [
           0.5461326593740714,
           "LogisticRegression",
           "sex"
          ],
          [
           0.5461326593740714,
           "LogisticRegression",
           "sex"
          ],
          [
           0.5461326593740714,
           "LogisticRegression",
           "sex"
          ],
          [
           0.5461326593740714,
           "LogisticRegression",
           "sex"
          ],
          [
           0.5461326593740714,
           "LogisticRegression",
           "sex"
          ],
          [
           0.5461326593740714,
           "LogisticRegression",
           "sex"
          ],
          [
           0.5461326593740714,
           "LogisticRegression",
           "sex"
          ],
          [
           0.5461326593740714,
           "LogisticRegression",
           "sex"
          ],
          [
           0.5461326593740714,
           "LogisticRegression",
           "sex"
          ],
          [
           0.5461326593740714,
           "LogisticRegression",
           "sex"
          ],
          [
           0.5461326593740714,
           "LogisticRegression",
           "sex"
          ],
          [
           0.5461326593740714,
           "LogisticRegression",
           "sex"
          ]
         ],
         "hovertemplate": "<b>%{hovertext}</b><br><br>prediction=%{y:.3f}<br>mean_prediction=%{customdata[0]:.3f}<extra></extra>",
         "hovertext": [
          "LogisticRegression",
          "LogisticRegression",
          "LogisticRegression",
          "LogisticRegression",
          "LogisticRegression",
          "LogisticRegression",
          "LogisticRegression",
          "LogisticRegression",
          "LogisticRegression",
          "LogisticRegression",
          "LogisticRegression",
          "LogisticRegression",
          "LogisticRegression",
          "LogisticRegression",
          "LogisticRegression",
          "LogisticRegression",
          "LogisticRegression",
          "LogisticRegression",
          "LogisticRegression",
          "LogisticRegression",
          "LogisticRegression",
          "LogisticRegression",
          "LogisticRegression",
          "LogisticRegression",
          "LogisticRegression",
          "LogisticRegression",
          "LogisticRegression",
          "LogisticRegression",
          "LogisticRegression",
          "LogisticRegression",
          "LogisticRegression",
          "LogisticRegression",
          "LogisticRegression",
          "LogisticRegression",
          "LogisticRegression",
          "LogisticRegression",
          "LogisticRegression",
          "LogisticRegression",
          "LogisticRegression",
          "LogisticRegression",
          "LogisticRegression",
          "LogisticRegression",
          "LogisticRegression",
          "LogisticRegression",
          "LogisticRegression",
          "LogisticRegression",
          "LogisticRegression",
          "LogisticRegression",
          "LogisticRegression",
          "LogisticRegression",
          "LogisticRegression",
          "LogisticRegression",
          "LogisticRegression",
          "LogisticRegression",
          "LogisticRegression",
          "LogisticRegression",
          "LogisticRegression",
          "LogisticRegression",
          "LogisticRegression",
          "LogisticRegression",
          "LogisticRegression",
          "LogisticRegression",
          "LogisticRegression",
          "LogisticRegression",
          "LogisticRegression",
          "LogisticRegression",
          "LogisticRegression",
          "LogisticRegression",
          "LogisticRegression",
          "LogisticRegression",
          "LogisticRegression",
          "LogisticRegression",
          "LogisticRegression",
          "LogisticRegression",
          "LogisticRegression",
          "LogisticRegression",
          "LogisticRegression",
          "LogisticRegression",
          "LogisticRegression",
          "LogisticRegression",
          "LogisticRegression",
          "LogisticRegression",
          "LogisticRegression",
          "LogisticRegression",
          "LogisticRegression",
          "LogisticRegression",
          "LogisticRegression",
          "LogisticRegression",
          "LogisticRegression",
          "LogisticRegression",
          "LogisticRegression",
          "LogisticRegression",
          "LogisticRegression",
          "LogisticRegression",
          "LogisticRegression",
          "LogisticRegression",
          "LogisticRegression",
          "LogisticRegression",
          "LogisticRegression",
          "LogisticRegression",
          "LogisticRegression"
         ],
         "legendgroup": "LogisticRegression",
         "line": {
          "color": "#46bac2",
          "dash": "solid",
          "width": 2
         },
         "marker": {
          "symbol": "circle"
         },
         "mode": "lines",
         "name": "LogisticRegression",
         "orientation": "v",
         "showlegend": false,
         "x": [
          0.0,
          0.01,
          0.02,
          0.03,
          0.04,
          0.05,
          0.06,
          0.07,
          0.08,
          0.09,
          0.1,
          0.11,
          0.12,
          0.13,
          0.14,
          0.15,
          0.16,
          0.17,
          0.18,
          0.19,
          0.2,
          0.21,
          0.22,
          0.23,
          0.24,
          0.25,
          0.26,
          0.27,
          0.28,
          0.29,
          0.3,
          0.31,
          0.32,
          0.33,
          0.34,
          0.35000000000000003,
          0.36,
          0.37,
          0.38,
          0.39,
          0.4,
          0.41000000000000003,
          0.42,
          0.43,
          0.44,
          0.45,
          0.46,
          0.47000000000000003,
          0.48,
          0.49,
          0.5,
          0.51,
          0.52,
          0.53,
          0.54,
          0.55,
          0.56,
          0.5700000000000001,
          0.58,
          0.59,
          0.6,
          0.61,
          0.62,
          0.63,
          0.64,
          0.65,
          0.66,
          0.67,
          0.68,
          0.6900000000000001,
          0.7000000000000001,
          0.71,
          0.72,
          0.73,
          0.74,
          0.75,
          0.76,
          0.77,
          0.78,
          0.79,
          0.8,
          0.81,
          0.8200000000000001,
          0.8300000000000001,
          0.84,
          0.85,
          0.86,
          0.87,
          0.88,
          0.89,
          0.9,
          0.91,
          0.92,
          0.93,
          0.9400000000000001,
          0.9500000000000001,
          0.96,
          0.97,
          0.98,
          0.99,
          1.0
         ],
         "xaxis": "x4",
         "y": [
          0.591324915458993,
          0.591324915458993,
          0.591324915458993,
          0.591324915458993,
          0.591324915458993,
          0.591324915458993,
          0.591324915458993,
          0.591324915458993,
          0.591324915458993,
          0.591324915458993,
          0.591324915458993,
          0.591324915458993,
          0.591324915458993,
          0.591324915458993,
          0.591324915458993,
          0.591324915458993,
          0.591324915458993,
          0.591324915458993,
          0.591324915458993,
          0.591324915458993,
          0.591324915458993,
          0.591324915458993,
          0.591324915458993,
          0.591324915458993,
          0.591324915458993,
          0.591324915458993,
          0.591324915458993,
          0.591324915458993,
          0.591324915458993,
          0.591324915458993,
          0.591324915458993,
          0.591324915458993,
          0.591324915458993,
          0.591324915458993,
          0.591324915458993,
          0.591324915458993,
          0.591324915458993,
          0.591324915458993,
          0.591324915458993,
          0.591324915458993,
          0.591324915458993,
          0.591324915458993,
          0.591324915458993,
          0.591324915458993,
          0.591324915458993,
          0.591324915458993,
          0.591324915458993,
          0.591324915458993,
          0.591324915458993,
          0.591324915458993,
          0.591324915458993,
          0.5146781405869594,
          0.5146781405869594,
          0.5146781405869594,
          0.5146781405869594,
          0.5146781405869594,
          0.5146781405869594,
          0.5146781405869594,
          0.5146781405869594,
          0.5146781405869594,
          0.5146781405869594,
          0.5146781405869594,
          0.5146781405869594,
          0.5146781405869594,
          0.5146781405869594,
          0.5146781405869594,
          0.5146781405869594,
          0.5146781405869594,
          0.5146781405869594,
          0.5146781405869594,
          0.5146781405869594,
          0.5146781405869594,
          0.5146781405869594,
          0.5146781405869594,
          0.5146781405869594,
          0.5146781405869594,
          0.5146781405869594,
          0.5146781405869594,
          0.5146781405869594,
          0.5146781405869594,
          0.5146781405869594,
          0.5146781405869594,
          0.5146781405869594,
          0.5146781405869594,
          0.5146781405869594,
          0.5146781405869594,
          0.5146781405869594,
          0.5146781405869594,
          0.5146781405869594,
          0.5146781405869594,
          0.5146781405869594,
          0.5146781405869594,
          0.5146781405869594,
          0.5146781405869594,
          0.5146781405869594,
          0.5146781405869594,
          0.5146781405869594,
          0.5146781405869594,
          0.5146781405869594,
          0.5146781405869594,
          0.5146781405869594
         ],
         "yaxis": "y4",
         "type": "scatter",
         "opacity": 1
        },
        {
         "customdata": [
          [
           0.5461326593740714,
           "LogisticRegression",
           "chol"
          ],
          [
           0.5461326593740714,
           "LogisticRegression",
           "chol"
          ],
          [
           0.5461326593740714,
           "LogisticRegression",
           "chol"
          ],
          [
           0.5461326593740714,
           "LogisticRegression",
           "chol"
          ],
          [
           0.5461326593740714,
           "LogisticRegression",
           "chol"
          ],
          [
           0.5461326593740714,
           "LogisticRegression",
           "chol"
          ],
          [
           0.5461326593740714,
           "LogisticRegression",
           "chol"
          ],
          [
           0.5461326593740714,
           "LogisticRegression",
           "chol"
          ],
          [
           0.5461326593740714,
           "LogisticRegression",
           "chol"
          ],
          [
           0.5461326593740714,
           "LogisticRegression",
           "chol"
          ],
          [
           0.5461326593740714,
           "LogisticRegression",
           "chol"
          ],
          [
           0.5461326593740714,
           "LogisticRegression",
           "chol"
          ],
          [
           0.5461326593740714,
           "LogisticRegression",
           "chol"
          ],
          [
           0.5461326593740714,
           "LogisticRegression",
           "chol"
          ],
          [
           0.5461326593740714,
           "LogisticRegression",
           "chol"
          ],
          [
           0.5461326593740714,
           "LogisticRegression",
           "chol"
          ],
          [
           0.5461326593740714,
           "LogisticRegression",
           "chol"
          ],
          [
           0.5461326593740714,
           "LogisticRegression",
           "chol"
          ],
          [
           0.5461326593740714,
           "LogisticRegression",
           "chol"
          ],
          [
           0.5461326593740714,
           "LogisticRegression",
           "chol"
          ],
          [
           0.5461326593740714,
           "LogisticRegression",
           "chol"
          ],
          [
           0.5461326593740714,
           "LogisticRegression",
           "chol"
          ],
          [
           0.5461326593740714,
           "LogisticRegression",
           "chol"
          ],
          [
           0.5461326593740714,
           "LogisticRegression",
           "chol"
          ],
          [
           0.5461326593740714,
           "LogisticRegression",
           "chol"
          ],
          [
           0.5461326593740714,
           "LogisticRegression",
           "chol"
          ],
          [
           0.5461326593740714,
           "LogisticRegression",
           "chol"
          ],
          [
           0.5461326593740714,
           "LogisticRegression",
           "chol"
          ],
          [
           0.5461326593740714,
           "LogisticRegression",
           "chol"
          ],
          [
           0.5461326593740714,
           "LogisticRegression",
           "chol"
          ],
          [
           0.5461326593740714,
           "LogisticRegression",
           "chol"
          ],
          [
           0.5461326593740714,
           "LogisticRegression",
           "chol"
          ],
          [
           0.5461326593740714,
           "LogisticRegression",
           "chol"
          ],
          [
           0.5461326593740714,
           "LogisticRegression",
           "chol"
          ],
          [
           0.5461326593740714,
           "LogisticRegression",
           "chol"
          ],
          [
           0.5461326593740714,
           "LogisticRegression",
           "chol"
          ],
          [
           0.5461326593740714,
           "LogisticRegression",
           "chol"
          ],
          [
           0.5461326593740714,
           "LogisticRegression",
           "chol"
          ],
          [
           0.5461326593740714,
           "LogisticRegression",
           "chol"
          ],
          [
           0.5461326593740714,
           "LogisticRegression",
           "chol"
          ],
          [
           0.5461326593740714,
           "LogisticRegression",
           "chol"
          ],
          [
           0.5461326593740714,
           "LogisticRegression",
           "chol"
          ],
          [
           0.5461326593740714,
           "LogisticRegression",
           "chol"
          ],
          [
           0.5461326593740714,
           "LogisticRegression",
           "chol"
          ],
          [
           0.5461326593740714,
           "LogisticRegression",
           "chol"
          ],
          [
           0.5461326593740714,
           "LogisticRegression",
           "chol"
          ],
          [
           0.5461326593740714,
           "LogisticRegression",
           "chol"
          ],
          [
           0.5461326593740714,
           "LogisticRegression",
           "chol"
          ],
          [
           0.5461326593740714,
           "LogisticRegression",
           "chol"
          ],
          [
           0.5461326593740714,
           "LogisticRegression",
           "chol"
          ],
          [
           0.5461326593740714,
           "LogisticRegression",
           "chol"
          ],
          [
           0.5461326593740714,
           "LogisticRegression",
           "chol"
          ],
          [
           0.5461326593740714,
           "LogisticRegression",
           "chol"
          ],
          [
           0.5461326593740714,
           "LogisticRegression",
           "chol"
          ],
          [
           0.5461326593740714,
           "LogisticRegression",
           "chol"
          ],
          [
           0.5461326593740714,
           "LogisticRegression",
           "chol"
          ],
          [
           0.5461326593740714,
           "LogisticRegression",
           "chol"
          ],
          [
           0.5461326593740714,
           "LogisticRegression",
           "chol"
          ],
          [
           0.5461326593740714,
           "LogisticRegression",
           "chol"
          ],
          [
           0.5461326593740714,
           "LogisticRegression",
           "chol"
          ],
          [
           0.5461326593740714,
           "LogisticRegression",
           "chol"
          ],
          [
           0.5461326593740714,
           "LogisticRegression",
           "chol"
          ],
          [
           0.5461326593740714,
           "LogisticRegression",
           "chol"
          ],
          [
           0.5461326593740714,
           "LogisticRegression",
           "chol"
          ],
          [
           0.5461326593740714,
           "LogisticRegression",
           "chol"
          ],
          [
           0.5461326593740714,
           "LogisticRegression",
           "chol"
          ],
          [
           0.5461326593740714,
           "LogisticRegression",
           "chol"
          ],
          [
           0.5461326593740714,
           "LogisticRegression",
           "chol"
          ],
          [
           0.5461326593740714,
           "LogisticRegression",
           "chol"
          ],
          [
           0.5461326593740714,
           "LogisticRegression",
           "chol"
          ],
          [
           0.5461326593740714,
           "LogisticRegression",
           "chol"
          ],
          [
           0.5461326593740714,
           "LogisticRegression",
           "chol"
          ],
          [
           0.5461326593740714,
           "LogisticRegression",
           "chol"
          ],
          [
           0.5461326593740714,
           "LogisticRegression",
           "chol"
          ],
          [
           0.5461326593740714,
           "LogisticRegression",
           "chol"
          ],
          [
           0.5461326593740714,
           "LogisticRegression",
           "chol"
          ],
          [
           0.5461326593740714,
           "LogisticRegression",
           "chol"
          ],
          [
           0.5461326593740714,
           "LogisticRegression",
           "chol"
          ],
          [
           0.5461326593740714,
           "LogisticRegression",
           "chol"
          ],
          [
           0.5461326593740714,
           "LogisticRegression",
           "chol"
          ],
          [
           0.5461326593740714,
           "LogisticRegression",
           "chol"
          ],
          [
           0.5461326593740714,
           "LogisticRegression",
           "chol"
          ],
          [
           0.5461326593740714,
           "LogisticRegression",
           "chol"
          ],
          [
           0.5461326593740714,
           "LogisticRegression",
           "chol"
          ],
          [
           0.5461326593740714,
           "LogisticRegression",
           "chol"
          ],
          [
           0.5461326593740714,
           "LogisticRegression",
           "chol"
          ],
          [
           0.5461326593740714,
           "LogisticRegression",
           "chol"
          ],
          [
           0.5461326593740714,
           "LogisticRegression",
           "chol"
          ],
          [
           0.5461326593740714,
           "LogisticRegression",
           "chol"
          ],
          [
           0.5461326593740714,
           "LogisticRegression",
           "chol"
          ],
          [
           0.5461326593740714,
           "LogisticRegression",
           "chol"
          ],
          [
           0.5461326593740714,
           "LogisticRegression",
           "chol"
          ],
          [
           0.5461326593740714,
           "LogisticRegression",
           "chol"
          ],
          [
           0.5461326593740714,
           "LogisticRegression",
           "chol"
          ],
          [
           0.5461326593740714,
           "LogisticRegression",
           "chol"
          ],
          [
           0.5461326593740714,
           "LogisticRegression",
           "chol"
          ],
          [
           0.5461326593740714,
           "LogisticRegression",
           "chol"
          ],
          [
           0.5461326593740714,
           "LogisticRegression",
           "chol"
          ],
          [
           0.5461326593740714,
           "LogisticRegression",
           "chol"
          ],
          [
           0.5461326593740714,
           "LogisticRegression",
           "chol"
          ],
          [
           0.5461326593740714,
           "LogisticRegression",
           "chol"
          ]
         ],
         "hovertemplate": "<b>%{hovertext}</b><br><br>prediction=%{y:.3f}<br>mean_prediction=%{customdata[0]:.3f}<extra></extra>",
         "hovertext": [
          "LogisticRegression",
          "LogisticRegression",
          "LogisticRegression",
          "LogisticRegression",
          "LogisticRegression",
          "LogisticRegression",
          "LogisticRegression",
          "LogisticRegression",
          "LogisticRegression",
          "LogisticRegression",
          "LogisticRegression",
          "LogisticRegression",
          "LogisticRegression",
          "LogisticRegression",
          "LogisticRegression",
          "LogisticRegression",
          "LogisticRegression",
          "LogisticRegression",
          "LogisticRegression",
          "LogisticRegression",
          "LogisticRegression",
          "LogisticRegression",
          "LogisticRegression",
          "LogisticRegression",
          "LogisticRegression",
          "LogisticRegression",
          "LogisticRegression",
          "LogisticRegression",
          "LogisticRegression",
          "LogisticRegression",
          "LogisticRegression",
          "LogisticRegression",
          "LogisticRegression",
          "LogisticRegression",
          "LogisticRegression",
          "LogisticRegression",
          "LogisticRegression",
          "LogisticRegression",
          "LogisticRegression",
          "LogisticRegression",
          "LogisticRegression",
          "LogisticRegression",
          "LogisticRegression",
          "LogisticRegression",
          "LogisticRegression",
          "LogisticRegression",
          "LogisticRegression",
          "LogisticRegression",
          "LogisticRegression",
          "LogisticRegression",
          "LogisticRegression",
          "LogisticRegression",
          "LogisticRegression",
          "LogisticRegression",
          "LogisticRegression",
          "LogisticRegression",
          "LogisticRegression",
          "LogisticRegression",
          "LogisticRegression",
          "LogisticRegression",
          "LogisticRegression",
          "LogisticRegression",
          "LogisticRegression",
          "LogisticRegression",
          "LogisticRegression",
          "LogisticRegression",
          "LogisticRegression",
          "LogisticRegression",
          "LogisticRegression",
          "LogisticRegression",
          "LogisticRegression",
          "LogisticRegression",
          "LogisticRegression",
          "LogisticRegression",
          "LogisticRegression",
          "LogisticRegression",
          "LogisticRegression",
          "LogisticRegression",
          "LogisticRegression",
          "LogisticRegression",
          "LogisticRegression",
          "LogisticRegression",
          "LogisticRegression",
          "LogisticRegression",
          "LogisticRegression",
          "LogisticRegression",
          "LogisticRegression",
          "LogisticRegression",
          "LogisticRegression",
          "LogisticRegression",
          "LogisticRegression",
          "LogisticRegression",
          "LogisticRegression",
          "LogisticRegression",
          "LogisticRegression",
          "LogisticRegression",
          "LogisticRegression",
          "LogisticRegression",
          "LogisticRegression",
          "LogisticRegression",
          "LogisticRegression"
         ],
         "legendgroup": "LogisticRegression",
         "line": {
          "color": "#46bac2",
          "dash": "solid",
          "width": 2
         },
         "marker": {
          "symbol": "circle"
         },
         "mode": "lines",
         "name": "LogisticRegression",
         "orientation": "v",
         "showlegend": false,
         "x": [
          126.0,
          130.38,
          134.76,
          139.14,
          143.52,
          147.9,
          152.28,
          156.66,
          161.04,
          165.42000000000002,
          169.8,
          174.18,
          178.56,
          182.94,
          187.32,
          191.7,
          196.07999999999998,
          200.45999999999998,
          204.84,
          209.22,
          213.6,
          217.98000000000002,
          222.36,
          226.74,
          231.12,
          235.5,
          239.88,
          244.26,
          248.64,
          253.01999999999998,
          257.4,
          261.78,
          266.15999999999997,
          270.53999999999996,
          274.91999999999996,
          279.29999999999995,
          283.68,
          288.06,
          292.44,
          296.82,
          301.2,
          305.58,
          309.96000000000004,
          314.34000000000003,
          318.72,
          323.1,
          327.48,
          331.86,
          336.24,
          340.62,
          345.0,
          349.38,
          353.76,
          358.14,
          362.52,
          366.9,
          371.28,
          375.65999999999997,
          380.03999999999996,
          384.42,
          388.8,
          393.18,
          397.56,
          401.94,
          406.32,
          410.7,
          415.08,
          419.46,
          423.84,
          428.21999999999997,
          432.59999999999997,
          436.98,
          441.36,
          445.74,
          450.12,
          454.5,
          458.88,
          463.26,
          467.64,
          472.02,
          476.4,
          480.78,
          485.15999999999997,
          489.53999999999996,
          493.92,
          498.3,
          502.68,
          507.06,
          511.44,
          515.8199999999999,
          520.2,
          524.5799999999999,
          528.96,
          533.3399999999999,
          537.72,
          542.0999999999999,
          546.48,
          550.86,
          555.24,
          559.62,
          564.0
         ],
         "xaxis": "x",
         "y": [
          0.5482313361888735,
          0.5482313361888735,
          0.5482313361888735,
          0.5482313361888735,
          0.5482313361888735,
          0.5472980028555402,
          0.5435202250777623,
          0.5458055786131158,
          0.5516412316345584,
          0.5517056760790029,
          0.5526031119764386,
          0.5609884513794031,
          0.5615350031035411,
          0.5625016697702078,
          0.5625626221511602,
          0.5639151329736709,
          0.5663345774181154,
          0.5674012440847821,
          0.5658100047685427,
          0.5669368566203946,
          0.5666991149176529,
          0.565529417947956,
          0.5628946817201315,
          0.5593506314205858,
          0.5571448621898166,
          0.5573636374423419,
          0.5503864684636597,
          0.5463238649560562,
          0.5407352935274847,
          0.539632243799435,
          0.5365964304023059,
          0.5360430970689726,
          0.5363553192911947,
          0.533464578550454,
          0.5282826473335227,
          0.5270632028890784,
          0.5238949489208244,
          0.522461615587491,
          0.5248693317529046,
          0.5287625496461225,
          0.5306575496461224,
          0.530713568164641,
          0.5296334094344822,
          0.5262955709657614,
          0.5235855661557566,
          0.5229466772668677,
          0.5186611217113122,
          0.5063268023269928,
          0.5063268023269928,
          0.5077934689936595,
          0.5077934689936595,
          0.5105601356603261,
          0.5105601356603261,
          0.5101268023269928,
          0.5101268023269928,
          0.5101268023269928,
          0.5101268023269928,
          0.5101268023269928,
          0.5101268023269928,
          0.5101268023269928,
          0.5101268023269928,
          0.5101268023269928,
          0.5101268023269928,
          0.5101268023269928,
          0.5101268023269928,
          0.5101268023269928,
          0.5101268023269928,
          0.5101268023269928,
          0.5101268023269928,
          0.5101268023269928,
          0.5101268023269928,
          0.5101268023269928,
          0.5101268023269928,
          0.5101268023269928,
          0.5101268023269928,
          0.5101268023269928,
          0.5123283174785079,
          0.5123283174785079,
          0.5123283174785079,
          0.5123283174785079,
          0.5123283174785079,
          0.5123283174785079,
          0.5123283174785079,
          0.5171633254150159,
          0.5171633254150159,
          0.5171633254150159,
          0.5171633254150159,
          0.5171633254150159,
          0.5171633254150159,
          0.5171633254150159,
          0.5171633254150159,
          0.5171633254150159,
          0.5171633254150159,
          0.5171633254150159,
          0.5171633254150159,
          0.5171633254150159,
          0.5171633254150159,
          0.5171633254150159,
          0.5171633254150159,
          0.5171633254150159,
          0.5171633254150159
         ],
         "yaxis": "y",
         "type": "scatter",
         "opacity": 1
        }
       ],
       "layout": {
        "template": {
         "data": {
          "scatter": [
           {
            "type": "scatter"
           }
          ]
         }
        },
        "xaxis": {
         "anchor": "y",
         "domain": [
          0.0,
          0.475
         ],
         "title": {
          "text": ""
         },
         "showticklabels": true,
         "type": "linear",
         "gridwidth": 2,
         "zeroline": false,
         "automargin": true,
         "ticks": "outside",
         "tickcolor": "white",
         "ticklen": 3,
         "fixedrange": true
        },
        "yaxis": {
         "anchor": "x",
         "domain": [
          0.0,
          0.425
         ],
         "title": {
          "text": ""
         },
         "range": [
          0.4859907100862771,
          0.6009007523110581
         ],
         "type": "linear",
         "gridwidth": 2,
         "zeroline": false,
         "automargin": true,
         "ticks": "outside",
         "tickcolor": "white",
         "ticklen": 3,
         "fixedrange": true
        },
        "xaxis2": {
         "anchor": "y2",
         "domain": [
          0.525,
          1.0
         ],
         "title": {
          "text": ""
         },
         "showticklabels": true,
         "type": "linear",
         "gridwidth": 2,
         "zeroline": false,
         "automargin": true,
         "ticks": "outside",
         "tickcolor": "white",
         "ticklen": 3,
         "fixedrange": true
        },
        "yaxis2": {
         "anchor": "x2",
         "domain": [
          0.0,
          0.425
         ],
         "matches": "y",
         "showticklabels": false,
         "type": "linear",
         "gridwidth": 2,
         "zeroline": false,
         "automargin": true,
         "ticks": "outside",
         "tickcolor": "white",
         "ticklen": 3,
         "fixedrange": true,
         "title": {
          "text": ""
         }
        },
        "xaxis3": {
         "anchor": "y3",
         "domain": [
          0.0,
          0.475
         ],
         "showticklabels": true,
         "type": "linear",
         "gridwidth": 2,
         "zeroline": false,
         "automargin": true,
         "ticks": "outside",
         "tickcolor": "white",
         "ticklen": 3,
         "fixedrange": true,
         "title": {
          "text": ""
         }
        },
        "yaxis3": {
         "anchor": "x3",
         "domain": [
          0.575,
          1.0
         ],
         "matches": "y",
         "title": {
          "text": ""
         },
         "range": [
          0.4859907100862771,
          0.6009007523110581
         ],
         "type": "linear",
         "gridwidth": 2,
         "zeroline": false,
         "automargin": true,
         "ticks": "outside",
         "tickcolor": "white",
         "ticklen": 3,
         "fixedrange": true
        },
        "xaxis4": {
         "anchor": "y4",
         "domain": [
          0.525,
          1.0
         ],
         "showticklabels": true,
         "type": "linear",
         "gridwidth": 2,
         "zeroline": false,
         "automargin": true,
         "ticks": "outside",
         "tickcolor": "white",
         "ticklen": 3,
         "fixedrange": true,
         "title": {
          "text": ""
         }
        },
        "yaxis4": {
         "anchor": "x4",
         "domain": [
          0.575,
          1.0
         ],
         "matches": "y",
         "showticklabels": false,
         "type": "linear",
         "gridwidth": 2,
         "zeroline": false,
         "automargin": true,
         "ticks": "outside",
         "tickcolor": "white",
         "ticklen": 3,
         "fixedrange": true,
         "title": {
          "text": ""
         }
        },
        "annotations": [
         {
          "font": {
           "size": 13
          },
          "showarrow": false,
          "text": "chol",
          "x": 0.2375,
          "xanchor": "center",
          "xref": "paper",
          "y": 0.425,
          "yanchor": "bottom",
          "yref": "paper"
         },
         {
          "font": {
           "size": 13
          },
          "showarrow": false,
          "text": "age",
          "x": 0.2375,
          "xanchor": "center",
          "xref": "paper",
          "y": 1.0,
          "yanchor": "bottom",
          "yref": "paper"
         },
         {
          "font": {
           "size": 13
          },
          "showarrow": false,
          "text": "sex",
          "x": 0.7625,
          "xanchor": "center",
          "xref": "paper",
          "y": 1.0,
          "yanchor": "bottom",
          "yref": "paper"
         },
         {
          "font": {
           "size": 13
          },
          "showarrow": false,
          "text": "prediction",
          "textangle": -90,
          "x": -0.07,
          "xref": "paper",
          "y": 0.5,
          "yref": "paper"
         }
        ],
        "legend": {
         "title": {
          "text": "label",
          "font": {
           "size": 12
          }
         },
         "tracegroupgap": 0,
         "font": {
          "size": 11
         },
         "orientation": "h",
         "yanchor": "bottom",
         "y": 1.0361881785283473,
         "xanchor": "right",
         "x": 1,
         "itemsizing": "constant"
        },
        "margin": {
         "t": 78,
         "b": 71,
         "r": 30
        },
        "font": {
         "color": "#371ea3"
        },
        "title": {
         "font": {
          "size": 16
         },
         "text": "Aggregated Profiles",
         "x": 0.15
        },
        "hovermode": "x unified",
        "height": 829
       },
       "config": {
        "displaylogo": false,
        "staticPlot": false,
        "toImageButtonOptions": {
         "height": null,
         "width": null
        },
        "modeBarButtonsToRemove": [
         "sendDataToCloud",
         "lasso2d",
         "autoScale2d",
         "select2d",
         "zoom2d",
         "pan2d",
         "zoomIn2d",
         "zoomOut2d",
         "resetScale2d",
         "toggleSpikelines",
         "hoverCompareCartesian",
         "hoverClosestCartesian"
        ],
        "plotlyServerURL": "https://plot.ly"
       }
      },
      "text/html": "<div>                            <div id=\"91d6e359-5f8a-4622-8f29-6295aee1f42d\" class=\"plotly-graph-div\" style=\"height:829px; width:100%;\"></div>            <script type=\"text/javascript\">                require([\"plotly\"], function(Plotly) {                    window.PLOTLYENV=window.PLOTLYENV || {};                                    if (document.getElementById(\"91d6e359-5f8a-4622-8f29-6295aee1f42d\")) {                    Plotly.newPlot(                        \"91d6e359-5f8a-4622-8f29-6295aee1f42d\",                        [{\"customdata\":[[0.5461326593740714,\"LogisticRegression\",\"age\"],[0.5461326593740714,\"LogisticRegression\",\"age\"],[0.5461326593740714,\"LogisticRegression\",\"age\"],[0.5461326593740714,\"LogisticRegression\",\"age\"],[0.5461326593740714,\"LogisticRegression\",\"age\"],[0.5461326593740714,\"LogisticRegression\",\"age\"],[0.5461326593740714,\"LogisticRegression\",\"age\"],[0.5461326593740714,\"LogisticRegression\",\"age\"],[0.5461326593740714,\"LogisticRegression\",\"age\"],[0.5461326593740714,\"LogisticRegression\",\"age\"],[0.5461326593740714,\"LogisticRegression\",\"age\"],[0.5461326593740714,\"LogisticRegression\",\"age\"],[0.5461326593740714,\"LogisticRegression\",\"age\"],[0.5461326593740714,\"LogisticRegression\",\"age\"],[0.5461326593740714,\"LogisticRegression\",\"age\"],[0.5461326593740714,\"LogisticRegression\",\"age\"],[0.5461326593740714,\"LogisticRegression\",\"age\"],[0.5461326593740714,\"LogisticRegression\",\"age\"],[0.5461326593740714,\"LogisticRegression\",\"age\"],[0.5461326593740714,\"LogisticRegression\",\"age\"],[0.5461326593740714,\"LogisticRegression\",\"age\"],[0.5461326593740714,\"LogisticRegression\",\"age\"],[0.5461326593740714,\"LogisticRegression\",\"age\"],[0.5461326593740714,\"LogisticRegression\",\"age\"],[0.5461326593740714,\"LogisticRegression\",\"age\"],[0.5461326593740714,\"LogisticRegression\",\"age\"],[0.5461326593740714,\"LogisticRegression\",\"age\"],[0.5461326593740714,\"LogisticRegression\",\"age\"],[0.5461326593740714,\"LogisticRegression\",\"age\"],[0.5461326593740714,\"LogisticRegression\",\"age\"],[0.5461326593740714,\"LogisticRegression\",\"age\"],[0.5461326593740714,\"LogisticRegression\",\"age\"],[0.5461326593740714,\"LogisticRegression\",\"age\"],[0.5461326593740714,\"LogisticRegression\",\"age\"],[0.5461326593740714,\"LogisticRegression\",\"age\"],[0.5461326593740714,\"LogisticRegression\",\"age\"],[0.5461326593740714,\"LogisticRegression\",\"age\"],[0.5461326593740714,\"LogisticRegression\",\"age\"],[0.5461326593740714,\"LogisticRegression\",\"age\"],[0.5461326593740714,\"LogisticRegression\",\"age\"],[0.5461326593740714,\"LogisticRegression\",\"age\"],[0.5461326593740714,\"LogisticRegression\",\"age\"],[0.5461326593740714,\"LogisticRegression\",\"age\"],[0.5461326593740714,\"LogisticRegression\",\"age\"],[0.5461326593740714,\"LogisticRegression\",\"age\"],[0.5461326593740714,\"LogisticRegression\",\"age\"],[0.5461326593740714,\"LogisticRegression\",\"age\"],[0.5461326593740714,\"LogisticRegression\",\"age\"],[0.5461326593740714,\"LogisticRegression\",\"age\"],[0.5461326593740714,\"LogisticRegression\",\"age\"],[0.5461326593740714,\"LogisticRegression\",\"age\"],[0.5461326593740714,\"LogisticRegression\",\"age\"],[0.5461326593740714,\"LogisticRegression\",\"age\"],[0.5461326593740714,\"LogisticRegression\",\"age\"],[0.5461326593740714,\"LogisticRegression\",\"age\"],[0.5461326593740714,\"LogisticRegression\",\"age\"],[0.5461326593740714,\"LogisticRegression\",\"age\"],[0.5461326593740714,\"LogisticRegression\",\"age\"],[0.5461326593740714,\"LogisticRegression\",\"age\"],[0.5461326593740714,\"LogisticRegression\",\"age\"],[0.5461326593740714,\"LogisticRegression\",\"age\"],[0.5461326593740714,\"LogisticRegression\",\"age\"],[0.5461326593740714,\"LogisticRegression\",\"age\"],[0.5461326593740714,\"LogisticRegression\",\"age\"],[0.5461326593740714,\"LogisticRegression\",\"age\"],[0.5461326593740714,\"LogisticRegression\",\"age\"],[0.5461326593740714,\"LogisticRegression\",\"age\"],[0.5461326593740714,\"LogisticRegression\",\"age\"],[0.5461326593740714,\"LogisticRegression\",\"age\"],[0.5461326593740714,\"LogisticRegression\",\"age\"],[0.5461326593740714,\"LogisticRegression\",\"age\"],[0.5461326593740714,\"LogisticRegression\",\"age\"],[0.5461326593740714,\"LogisticRegression\",\"age\"],[0.5461326593740714,\"LogisticRegression\",\"age\"],[0.5461326593740714,\"LogisticRegression\",\"age\"],[0.5461326593740714,\"LogisticRegression\",\"age\"],[0.5461326593740714,\"LogisticRegression\",\"age\"],[0.5461326593740714,\"LogisticRegression\",\"age\"],[0.5461326593740714,\"LogisticRegression\",\"age\"],[0.5461326593740714,\"LogisticRegression\",\"age\"],[0.5461326593740714,\"LogisticRegression\",\"age\"],[0.5461326593740714,\"LogisticRegression\",\"age\"],[0.5461326593740714,\"LogisticRegression\",\"age\"],[0.5461326593740714,\"LogisticRegression\",\"age\"],[0.5461326593740714,\"LogisticRegression\",\"age\"],[0.5461326593740714,\"LogisticRegression\",\"age\"],[0.5461326593740714,\"LogisticRegression\",\"age\"],[0.5461326593740714,\"LogisticRegression\",\"age\"],[0.5461326593740714,\"LogisticRegression\",\"age\"],[0.5461326593740714,\"LogisticRegression\",\"age\"],[0.5461326593740714,\"LogisticRegression\",\"age\"],[0.5461326593740714,\"LogisticRegression\",\"age\"],[0.5461326593740714,\"LogisticRegression\",\"age\"],[0.5461326593740714,\"LogisticRegression\",\"age\"],[0.5461326593740714,\"LogisticRegression\",\"age\"],[0.5461326593740714,\"LogisticRegression\",\"age\"],[0.5461326593740714,\"LogisticRegression\",\"age\"],[0.5461326593740714,\"LogisticRegression\",\"age\"],[0.5461326593740714,\"LogisticRegression\",\"age\"],[0.5461326593740714,\"LogisticRegression\",\"age\"],[0.5461326593740714,\"LogisticRegression\",\"age\"]],\"hovertemplate\":\"<b>%{hovertext}</b><br><br>prediction=%{y:.3f}<br>mean_prediction=%{customdata[0]:.3f}<extra></extra>\",\"hovertext\":[\"LogisticRegression\",\"LogisticRegression\",\"LogisticRegression\",\"LogisticRegression\",\"LogisticRegression\",\"LogisticRegression\",\"LogisticRegression\",\"LogisticRegression\",\"LogisticRegression\",\"LogisticRegression\",\"LogisticRegression\",\"LogisticRegression\",\"LogisticRegression\",\"LogisticRegression\",\"LogisticRegression\",\"LogisticRegression\",\"LogisticRegression\",\"LogisticRegression\",\"LogisticRegression\",\"LogisticRegression\",\"LogisticRegression\",\"LogisticRegression\",\"LogisticRegression\",\"LogisticRegression\",\"LogisticRegression\",\"LogisticRegression\",\"LogisticRegression\",\"LogisticRegression\",\"LogisticRegression\",\"LogisticRegression\",\"LogisticRegression\",\"LogisticRegression\",\"LogisticRegression\",\"LogisticRegression\",\"LogisticRegression\",\"LogisticRegression\",\"LogisticRegression\",\"LogisticRegression\",\"LogisticRegression\",\"LogisticRegression\",\"LogisticRegression\",\"LogisticRegression\",\"LogisticRegression\",\"LogisticRegression\",\"LogisticRegression\",\"LogisticRegression\",\"LogisticRegression\",\"LogisticRegression\",\"LogisticRegression\",\"LogisticRegression\",\"LogisticRegression\",\"LogisticRegression\",\"LogisticRegression\",\"LogisticRegression\",\"LogisticRegression\",\"LogisticRegression\",\"LogisticRegression\",\"LogisticRegression\",\"LogisticRegression\",\"LogisticRegression\",\"LogisticRegression\",\"LogisticRegression\",\"LogisticRegression\",\"LogisticRegression\",\"LogisticRegression\",\"LogisticRegression\",\"LogisticRegression\",\"LogisticRegression\",\"LogisticRegression\",\"LogisticRegression\",\"LogisticRegression\",\"LogisticRegression\",\"LogisticRegression\",\"LogisticRegression\",\"LogisticRegression\",\"LogisticRegression\",\"LogisticRegression\",\"LogisticRegression\",\"LogisticRegression\",\"LogisticRegression\",\"LogisticRegression\",\"LogisticRegression\",\"LogisticRegression\",\"LogisticRegression\",\"LogisticRegression\",\"LogisticRegression\",\"LogisticRegression\",\"LogisticRegression\",\"LogisticRegression\",\"LogisticRegression\",\"LogisticRegression\",\"LogisticRegression\",\"LogisticRegression\",\"LogisticRegression\",\"LogisticRegression\",\"LogisticRegression\",\"LogisticRegression\",\"LogisticRegression\",\"LogisticRegression\",\"LogisticRegression\",\"LogisticRegression\"],\"legendgroup\":\"LogisticRegression\",\"line\":{\"color\":\"#46bac2\",\"dash\":\"solid\",\"width\":2},\"marker\":{\"symbol\":\"circle\"},\"mode\":\"lines\",\"name\":\"LogisticRegression\",\"orientation\":\"v\",\"showlegend\":true,\"x\":[29.0,29.48,29.96,30.44,30.92,31.4,31.88,32.36,32.84,33.32,33.8,34.28,34.76,35.24,35.72,36.2,36.68,37.16,37.64,38.12,38.6,39.08,39.56,40.04,40.519999999999996,41.0,41.480000000000004,41.96,42.44,42.92,43.4,43.879999999999995,44.36,44.84,45.32,45.8,46.28,46.76,47.239999999999995,47.72,48.2,48.68,49.16,49.64,50.12,50.599999999999994,51.08,51.56,52.04,52.519999999999996,53.0,53.480000000000004,53.96,54.44,54.92,55.4,55.879999999999995,56.36,56.84,57.32,57.8,58.28,58.76,59.239999999999995,59.72,60.2,60.68,61.16,61.64,62.12,62.6,63.08,63.56,64.03999999999999,64.52,65.0,65.47999999999999,65.96000000000001,66.44,66.92,67.4,67.88,68.36,68.84,69.32,69.8,70.28,70.75999999999999,71.24,71.72,72.19999999999999,72.68,73.16,73.64,74.12,74.6,75.08,75.56,76.03999999999999,76.52,77.0],\"xaxis\":\"x3\",\"y\":[0.5747002648145797,0.5747002648145797,0.5747002648145797,0.5747002648145797,0.5747002648145797,0.5747002648145797,0.5747002648145797,0.5747002648145797,0.5747002648145797,0.5747002648145797,0.5747002648145797,0.5747002648145797,0.5747002648145797,0.5747002648145797,0.5747002648145797,0.5747002648145797,0.5747002648145797,0.5762113393759832,0.5766446727093165,0.5772668949315387,0.5772668949315387,0.5776889319685758,0.5776889319685758,0.5776889319685758,0.5781383572559321,0.5781383572559321,0.5797666905892654,0.5828486016168343,0.5830486016168344,0.5793374905057233,0.5790327286009613,0.5719571439334359,0.5709885448996194,0.5694389686643453,0.5690351225104991,0.5681623447327214,0.5666801225104992,0.5631059810963577,0.562839314429691,0.5647650287154053,0.564331695382072,0.5644650287154053,0.5641983620487387,0.5672111825615591,0.5691445158948926,0.5700580706150261,0.5718914039483595,0.5706011366133553,0.5708011366133553,0.5708441921689109,0.5708441921689109,0.5708908954656142,0.5661799652662965,0.5660132985996299,0.5612021101121915,0.558653711658793,0.5506264976410855,0.549452979122567,0.5197686316018821,0.5184638696971202,0.5104605018301279,0.5098605018301279,0.5102836133482395,0.5084736431101443,0.5021153564621517,0.5013320231288184,0.4955665469383422,0.49634273741453266,0.5004982929700882,0.5013427374145326,0.5046551170378334,0.5029831128009356,0.5083032867621914,0.5074366200955248,0.5086032867621915,0.5086032867621915,0.5088921756510804,0.5113076874698429,0.510407687469843,0.5079348303269858,0.5082709414380969,0.5126367911112996,0.5144367911112995,0.5156016720636805,0.5162865926986011,0.5158770688890773,0.5189283318290359,0.5189283318290359,0.5189283318290359,0.5189283318290359,0.5215849734330459,0.5215849734330459,0.5193753438034162,0.5193753438034162,0.518873260470083,0.518873260470083,0.518873260470083,0.5159756414224639,0.5159756414224639,0.5159756414224639,0.5159756414224639],\"yaxis\":\"y3\",\"type\":\"scatter\",\"opacity\":1},{\"customdata\":[[0.5461326593740714,\"LogisticRegression\",\"sex\"],[0.5461326593740714,\"LogisticRegression\",\"sex\"],[0.5461326593740714,\"LogisticRegression\",\"sex\"],[0.5461326593740714,\"LogisticRegression\",\"sex\"],[0.5461326593740714,\"LogisticRegression\",\"sex\"],[0.5461326593740714,\"LogisticRegression\",\"sex\"],[0.5461326593740714,\"LogisticRegression\",\"sex\"],[0.5461326593740714,\"LogisticRegression\",\"sex\"],[0.5461326593740714,\"LogisticRegression\",\"sex\"],[0.5461326593740714,\"LogisticRegression\",\"sex\"],[0.5461326593740714,\"LogisticRegression\",\"sex\"],[0.5461326593740714,\"LogisticRegression\",\"sex\"],[0.5461326593740714,\"LogisticRegression\",\"sex\"],[0.5461326593740714,\"LogisticRegression\",\"sex\"],[0.5461326593740714,\"LogisticRegression\",\"sex\"],[0.5461326593740714,\"LogisticRegression\",\"sex\"],[0.5461326593740714,\"LogisticRegression\",\"sex\"],[0.5461326593740714,\"LogisticRegression\",\"sex\"],[0.5461326593740714,\"LogisticRegression\",\"sex\"],[0.5461326593740714,\"LogisticRegression\",\"sex\"],[0.5461326593740714,\"LogisticRegression\",\"sex\"],[0.5461326593740714,\"LogisticRegression\",\"sex\"],[0.5461326593740714,\"LogisticRegression\",\"sex\"],[0.5461326593740714,\"LogisticRegression\",\"sex\"],[0.5461326593740714,\"LogisticRegression\",\"sex\"],[0.5461326593740714,\"LogisticRegression\",\"sex\"],[0.5461326593740714,\"LogisticRegression\",\"sex\"],[0.5461326593740714,\"LogisticRegression\",\"sex\"],[0.5461326593740714,\"LogisticRegression\",\"sex\"],[0.5461326593740714,\"LogisticRegression\",\"sex\"],[0.5461326593740714,\"LogisticRegression\",\"sex\"],[0.5461326593740714,\"LogisticRegression\",\"sex\"],[0.5461326593740714,\"LogisticRegression\",\"sex\"],[0.5461326593740714,\"LogisticRegression\",\"sex\"],[0.5461326593740714,\"LogisticRegression\",\"sex\"],[0.5461326593740714,\"LogisticRegression\",\"sex\"],[0.5461326593740714,\"LogisticRegression\",\"sex\"],[0.5461326593740714,\"LogisticRegression\",\"sex\"],[0.5461326593740714,\"LogisticRegression\",\"sex\"],[0.5461326593740714,\"LogisticRegression\",\"sex\"],[0.5461326593740714,\"LogisticRegression\",\"sex\"],[0.5461326593740714,\"LogisticRegression\",\"sex\"],[0.5461326593740714,\"LogisticRegression\",\"sex\"],[0.5461326593740714,\"LogisticRegression\",\"sex\"],[0.5461326593740714,\"LogisticRegression\",\"sex\"],[0.5461326593740714,\"LogisticRegression\",\"sex\"],[0.5461326593740714,\"LogisticRegression\",\"sex\"],[0.5461326593740714,\"LogisticRegression\",\"sex\"],[0.5461326593740714,\"LogisticRegression\",\"sex\"],[0.5461326593740714,\"LogisticRegression\",\"sex\"],[0.5461326593740714,\"LogisticRegression\",\"sex\"],[0.5461326593740714,\"LogisticRegression\",\"sex\"],[0.5461326593740714,\"LogisticRegression\",\"sex\"],[0.5461326593740714,\"LogisticRegression\",\"sex\"],[0.5461326593740714,\"LogisticRegression\",\"sex\"],[0.5461326593740714,\"LogisticRegression\",\"sex\"],[0.5461326593740714,\"LogisticRegression\",\"sex\"],[0.5461326593740714,\"LogisticRegression\",\"sex\"],[0.5461326593740714,\"LogisticRegression\",\"sex\"],[0.5461326593740714,\"LogisticRegression\",\"sex\"],[0.5461326593740714,\"LogisticRegression\",\"sex\"],[0.5461326593740714,\"LogisticRegression\",\"sex\"],[0.5461326593740714,\"LogisticRegression\",\"sex\"],[0.5461326593740714,\"LogisticRegression\",\"sex\"],[0.5461326593740714,\"LogisticRegression\",\"sex\"],[0.5461326593740714,\"LogisticRegression\",\"sex\"],[0.5461326593740714,\"LogisticRegression\",\"sex\"],[0.5461326593740714,\"LogisticRegression\",\"sex\"],[0.5461326593740714,\"LogisticRegression\",\"sex\"],[0.5461326593740714,\"LogisticRegression\",\"sex\"],[0.5461326593740714,\"LogisticRegression\",\"sex\"],[0.5461326593740714,\"LogisticRegression\",\"sex\"],[0.5461326593740714,\"LogisticRegression\",\"sex\"],[0.5461326593740714,\"LogisticRegression\",\"sex\"],[0.5461326593740714,\"LogisticRegression\",\"sex\"],[0.5461326593740714,\"LogisticRegression\",\"sex\"],[0.5461326593740714,\"LogisticRegression\",\"sex\"],[0.5461326593740714,\"LogisticRegression\",\"sex\"],[0.5461326593740714,\"LogisticRegression\",\"sex\"],[0.5461326593740714,\"LogisticRegression\",\"sex\"],[0.5461326593740714,\"LogisticRegression\",\"sex\"],[0.5461326593740714,\"LogisticRegression\",\"sex\"],[0.5461326593740714,\"LogisticRegression\",\"sex\"],[0.5461326593740714,\"LogisticRegression\",\"sex\"],[0.5461326593740714,\"LogisticRegression\",\"sex\"],[0.5461326593740714,\"LogisticRegression\",\"sex\"],[0.5461326593740714,\"LogisticRegression\",\"sex\"],[0.5461326593740714,\"LogisticRegression\",\"sex\"],[0.5461326593740714,\"LogisticRegression\",\"sex\"],[0.5461326593740714,\"LogisticRegression\",\"sex\"],[0.5461326593740714,\"LogisticRegression\",\"sex\"],[0.5461326593740714,\"LogisticRegression\",\"sex\"],[0.5461326593740714,\"LogisticRegression\",\"sex\"],[0.5461326593740714,\"LogisticRegression\",\"sex\"],[0.5461326593740714,\"LogisticRegression\",\"sex\"],[0.5461326593740714,\"LogisticRegression\",\"sex\"],[0.5461326593740714,\"LogisticRegression\",\"sex\"],[0.5461326593740714,\"LogisticRegression\",\"sex\"],[0.5461326593740714,\"LogisticRegression\",\"sex\"],[0.5461326593740714,\"LogisticRegression\",\"sex\"],[0.5461326593740714,\"LogisticRegression\",\"sex\"]],\"hovertemplate\":\"<b>%{hovertext}</b><br><br>prediction=%{y:.3f}<br>mean_prediction=%{customdata[0]:.3f}<extra></extra>\",\"hovertext\":[\"LogisticRegression\",\"LogisticRegression\",\"LogisticRegression\",\"LogisticRegression\",\"LogisticRegression\",\"LogisticRegression\",\"LogisticRegression\",\"LogisticRegression\",\"LogisticRegression\",\"LogisticRegression\",\"LogisticRegression\",\"LogisticRegression\",\"LogisticRegression\",\"LogisticRegression\",\"LogisticRegression\",\"LogisticRegression\",\"LogisticRegression\",\"LogisticRegression\",\"LogisticRegression\",\"LogisticRegression\",\"LogisticRegression\",\"LogisticRegression\",\"LogisticRegression\",\"LogisticRegression\",\"LogisticRegression\",\"LogisticRegression\",\"LogisticRegression\",\"LogisticRegression\",\"LogisticRegression\",\"LogisticRegression\",\"LogisticRegression\",\"LogisticRegression\",\"LogisticRegression\",\"LogisticRegression\",\"LogisticRegression\",\"LogisticRegression\",\"LogisticRegression\",\"LogisticRegression\",\"LogisticRegression\",\"LogisticRegression\",\"LogisticRegression\",\"LogisticRegression\",\"LogisticRegression\",\"LogisticRegression\",\"LogisticRegression\",\"LogisticRegression\",\"LogisticRegression\",\"LogisticRegression\",\"LogisticRegression\",\"LogisticRegression\",\"LogisticRegression\",\"LogisticRegression\",\"LogisticRegression\",\"LogisticRegression\",\"LogisticRegression\",\"LogisticRegression\",\"LogisticRegression\",\"LogisticRegression\",\"LogisticRegression\",\"LogisticRegression\",\"LogisticRegression\",\"LogisticRegression\",\"LogisticRegression\",\"LogisticRegression\",\"LogisticRegression\",\"LogisticRegression\",\"LogisticRegression\",\"LogisticRegression\",\"LogisticRegression\",\"LogisticRegression\",\"LogisticRegression\",\"LogisticRegression\",\"LogisticRegression\",\"LogisticRegression\",\"LogisticRegression\",\"LogisticRegression\",\"LogisticRegression\",\"LogisticRegression\",\"LogisticRegression\",\"LogisticRegression\",\"LogisticRegression\",\"LogisticRegression\",\"LogisticRegression\",\"LogisticRegression\",\"LogisticRegression\",\"LogisticRegression\",\"LogisticRegression\",\"LogisticRegression\",\"LogisticRegression\",\"LogisticRegression\",\"LogisticRegression\",\"LogisticRegression\",\"LogisticRegression\",\"LogisticRegression\",\"LogisticRegression\",\"LogisticRegression\",\"LogisticRegression\",\"LogisticRegression\",\"LogisticRegression\",\"LogisticRegression\",\"LogisticRegression\"],\"legendgroup\":\"LogisticRegression\",\"line\":{\"color\":\"#46bac2\",\"dash\":\"solid\",\"width\":2},\"marker\":{\"symbol\":\"circle\"},\"mode\":\"lines\",\"name\":\"LogisticRegression\",\"orientation\":\"v\",\"showlegend\":false,\"x\":[0.0,0.01,0.02,0.03,0.04,0.05,0.06,0.07,0.08,0.09,0.1,0.11,0.12,0.13,0.14,0.15,0.16,0.17,0.18,0.19,0.2,0.21,0.22,0.23,0.24,0.25,0.26,0.27,0.28,0.29,0.3,0.31,0.32,0.33,0.34,0.35000000000000003,0.36,0.37,0.38,0.39,0.4,0.41000000000000003,0.42,0.43,0.44,0.45,0.46,0.47000000000000003,0.48,0.49,0.5,0.51,0.52,0.53,0.54,0.55,0.56,0.5700000000000001,0.58,0.59,0.6,0.61,0.62,0.63,0.64,0.65,0.66,0.67,0.68,0.6900000000000001,0.7000000000000001,0.71,0.72,0.73,0.74,0.75,0.76,0.77,0.78,0.79,0.8,0.81,0.8200000000000001,0.8300000000000001,0.84,0.85,0.86,0.87,0.88,0.89,0.9,0.91,0.92,0.93,0.9400000000000001,0.9500000000000001,0.96,0.97,0.98,0.99,1.0],\"xaxis\":\"x4\",\"y\":[0.591324915458993,0.591324915458993,0.591324915458993,0.591324915458993,0.591324915458993,0.591324915458993,0.591324915458993,0.591324915458993,0.591324915458993,0.591324915458993,0.591324915458993,0.591324915458993,0.591324915458993,0.591324915458993,0.591324915458993,0.591324915458993,0.591324915458993,0.591324915458993,0.591324915458993,0.591324915458993,0.591324915458993,0.591324915458993,0.591324915458993,0.591324915458993,0.591324915458993,0.591324915458993,0.591324915458993,0.591324915458993,0.591324915458993,0.591324915458993,0.591324915458993,0.591324915458993,0.591324915458993,0.591324915458993,0.591324915458993,0.591324915458993,0.591324915458993,0.591324915458993,0.591324915458993,0.591324915458993,0.591324915458993,0.591324915458993,0.591324915458993,0.591324915458993,0.591324915458993,0.591324915458993,0.591324915458993,0.591324915458993,0.591324915458993,0.591324915458993,0.591324915458993,0.5146781405869594,0.5146781405869594,0.5146781405869594,0.5146781405869594,0.5146781405869594,0.5146781405869594,0.5146781405869594,0.5146781405869594,0.5146781405869594,0.5146781405869594,0.5146781405869594,0.5146781405869594,0.5146781405869594,0.5146781405869594,0.5146781405869594,0.5146781405869594,0.5146781405869594,0.5146781405869594,0.5146781405869594,0.5146781405869594,0.5146781405869594,0.5146781405869594,0.5146781405869594,0.5146781405869594,0.5146781405869594,0.5146781405869594,0.5146781405869594,0.5146781405869594,0.5146781405869594,0.5146781405869594,0.5146781405869594,0.5146781405869594,0.5146781405869594,0.5146781405869594,0.5146781405869594,0.5146781405869594,0.5146781405869594,0.5146781405869594,0.5146781405869594,0.5146781405869594,0.5146781405869594,0.5146781405869594,0.5146781405869594,0.5146781405869594,0.5146781405869594,0.5146781405869594,0.5146781405869594,0.5146781405869594,0.5146781405869594,0.5146781405869594],\"yaxis\":\"y4\",\"type\":\"scatter\",\"opacity\":1},{\"customdata\":[[0.5461326593740714,\"LogisticRegression\",\"chol\"],[0.5461326593740714,\"LogisticRegression\",\"chol\"],[0.5461326593740714,\"LogisticRegression\",\"chol\"],[0.5461326593740714,\"LogisticRegression\",\"chol\"],[0.5461326593740714,\"LogisticRegression\",\"chol\"],[0.5461326593740714,\"LogisticRegression\",\"chol\"],[0.5461326593740714,\"LogisticRegression\",\"chol\"],[0.5461326593740714,\"LogisticRegression\",\"chol\"],[0.5461326593740714,\"LogisticRegression\",\"chol\"],[0.5461326593740714,\"LogisticRegression\",\"chol\"],[0.5461326593740714,\"LogisticRegression\",\"chol\"],[0.5461326593740714,\"LogisticRegression\",\"chol\"],[0.5461326593740714,\"LogisticRegression\",\"chol\"],[0.5461326593740714,\"LogisticRegression\",\"chol\"],[0.5461326593740714,\"LogisticRegression\",\"chol\"],[0.5461326593740714,\"LogisticRegression\",\"chol\"],[0.5461326593740714,\"LogisticRegression\",\"chol\"],[0.5461326593740714,\"LogisticRegression\",\"chol\"],[0.5461326593740714,\"LogisticRegression\",\"chol\"],[0.5461326593740714,\"LogisticRegression\",\"chol\"],[0.5461326593740714,\"LogisticRegression\",\"chol\"],[0.5461326593740714,\"LogisticRegression\",\"chol\"],[0.5461326593740714,\"LogisticRegression\",\"chol\"],[0.5461326593740714,\"LogisticRegression\",\"chol\"],[0.5461326593740714,\"LogisticRegression\",\"chol\"],[0.5461326593740714,\"LogisticRegression\",\"chol\"],[0.5461326593740714,\"LogisticRegression\",\"chol\"],[0.5461326593740714,\"LogisticRegression\",\"chol\"],[0.5461326593740714,\"LogisticRegression\",\"chol\"],[0.5461326593740714,\"LogisticRegression\",\"chol\"],[0.5461326593740714,\"LogisticRegression\",\"chol\"],[0.5461326593740714,\"LogisticRegression\",\"chol\"],[0.5461326593740714,\"LogisticRegression\",\"chol\"],[0.5461326593740714,\"LogisticRegression\",\"chol\"],[0.5461326593740714,\"LogisticRegression\",\"chol\"],[0.5461326593740714,\"LogisticRegression\",\"chol\"],[0.5461326593740714,\"LogisticRegression\",\"chol\"],[0.5461326593740714,\"LogisticRegression\",\"chol\"],[0.5461326593740714,\"LogisticRegression\",\"chol\"],[0.5461326593740714,\"LogisticRegression\",\"chol\"],[0.5461326593740714,\"LogisticRegression\",\"chol\"],[0.5461326593740714,\"LogisticRegression\",\"chol\"],[0.5461326593740714,\"LogisticRegression\",\"chol\"],[0.5461326593740714,\"LogisticRegression\",\"chol\"],[0.5461326593740714,\"LogisticRegression\",\"chol\"],[0.5461326593740714,\"LogisticRegression\",\"chol\"],[0.5461326593740714,\"LogisticRegression\",\"chol\"],[0.5461326593740714,\"LogisticRegression\",\"chol\"],[0.5461326593740714,\"LogisticRegression\",\"chol\"],[0.5461326593740714,\"LogisticRegression\",\"chol\"],[0.5461326593740714,\"LogisticRegression\",\"chol\"],[0.5461326593740714,\"LogisticRegression\",\"chol\"],[0.5461326593740714,\"LogisticRegression\",\"chol\"],[0.5461326593740714,\"LogisticRegression\",\"chol\"],[0.5461326593740714,\"LogisticRegression\",\"chol\"],[0.5461326593740714,\"LogisticRegression\",\"chol\"],[0.5461326593740714,\"LogisticRegression\",\"chol\"],[0.5461326593740714,\"LogisticRegression\",\"chol\"],[0.5461326593740714,\"LogisticRegression\",\"chol\"],[0.5461326593740714,\"LogisticRegression\",\"chol\"],[0.5461326593740714,\"LogisticRegression\",\"chol\"],[0.5461326593740714,\"LogisticRegression\",\"chol\"],[0.5461326593740714,\"LogisticRegression\",\"chol\"],[0.5461326593740714,\"LogisticRegression\",\"chol\"],[0.5461326593740714,\"LogisticRegression\",\"chol\"],[0.5461326593740714,\"LogisticRegression\",\"chol\"],[0.5461326593740714,\"LogisticRegression\",\"chol\"],[0.5461326593740714,\"LogisticRegression\",\"chol\"],[0.5461326593740714,\"LogisticRegression\",\"chol\"],[0.5461326593740714,\"LogisticRegression\",\"chol\"],[0.5461326593740714,\"LogisticRegression\",\"chol\"],[0.5461326593740714,\"LogisticRegression\",\"chol\"],[0.5461326593740714,\"LogisticRegression\",\"chol\"],[0.5461326593740714,\"LogisticRegression\",\"chol\"],[0.5461326593740714,\"LogisticRegression\",\"chol\"],[0.5461326593740714,\"LogisticRegression\",\"chol\"],[0.5461326593740714,\"LogisticRegression\",\"chol\"],[0.5461326593740714,\"LogisticRegression\",\"chol\"],[0.5461326593740714,\"LogisticRegression\",\"chol\"],[0.5461326593740714,\"LogisticRegression\",\"chol\"],[0.5461326593740714,\"LogisticRegression\",\"chol\"],[0.5461326593740714,\"LogisticRegression\",\"chol\"],[0.5461326593740714,\"LogisticRegression\",\"chol\"],[0.5461326593740714,\"LogisticRegression\",\"chol\"],[0.5461326593740714,\"LogisticRegression\",\"chol\"],[0.5461326593740714,\"LogisticRegression\",\"chol\"],[0.5461326593740714,\"LogisticRegression\",\"chol\"],[0.5461326593740714,\"LogisticRegression\",\"chol\"],[0.5461326593740714,\"LogisticRegression\",\"chol\"],[0.5461326593740714,\"LogisticRegression\",\"chol\"],[0.5461326593740714,\"LogisticRegression\",\"chol\"],[0.5461326593740714,\"LogisticRegression\",\"chol\"],[0.5461326593740714,\"LogisticRegression\",\"chol\"],[0.5461326593740714,\"LogisticRegression\",\"chol\"],[0.5461326593740714,\"LogisticRegression\",\"chol\"],[0.5461326593740714,\"LogisticRegression\",\"chol\"],[0.5461326593740714,\"LogisticRegression\",\"chol\"],[0.5461326593740714,\"LogisticRegression\",\"chol\"],[0.5461326593740714,\"LogisticRegression\",\"chol\"],[0.5461326593740714,\"LogisticRegression\",\"chol\"],[0.5461326593740714,\"LogisticRegression\",\"chol\"]],\"hovertemplate\":\"<b>%{hovertext}</b><br><br>prediction=%{y:.3f}<br>mean_prediction=%{customdata[0]:.3f}<extra></extra>\",\"hovertext\":[\"LogisticRegression\",\"LogisticRegression\",\"LogisticRegression\",\"LogisticRegression\",\"LogisticRegression\",\"LogisticRegression\",\"LogisticRegression\",\"LogisticRegression\",\"LogisticRegression\",\"LogisticRegression\",\"LogisticRegression\",\"LogisticRegression\",\"LogisticRegression\",\"LogisticRegression\",\"LogisticRegression\",\"LogisticRegression\",\"LogisticRegression\",\"LogisticRegression\",\"LogisticRegression\",\"LogisticRegression\",\"LogisticRegression\",\"LogisticRegression\",\"LogisticRegression\",\"LogisticRegression\",\"LogisticRegression\",\"LogisticRegression\",\"LogisticRegression\",\"LogisticRegression\",\"LogisticRegression\",\"LogisticRegression\",\"LogisticRegression\",\"LogisticRegression\",\"LogisticRegression\",\"LogisticRegression\",\"LogisticRegression\",\"LogisticRegression\",\"LogisticRegression\",\"LogisticRegression\",\"LogisticRegression\",\"LogisticRegression\",\"LogisticRegression\",\"LogisticRegression\",\"LogisticRegression\",\"LogisticRegression\",\"LogisticRegression\",\"LogisticRegression\",\"LogisticRegression\",\"LogisticRegression\",\"LogisticRegression\",\"LogisticRegression\",\"LogisticRegression\",\"LogisticRegression\",\"LogisticRegression\",\"LogisticRegression\",\"LogisticRegression\",\"LogisticRegression\",\"LogisticRegression\",\"LogisticRegression\",\"LogisticRegression\",\"LogisticRegression\",\"LogisticRegression\",\"LogisticRegression\",\"LogisticRegression\",\"LogisticRegression\",\"LogisticRegression\",\"LogisticRegression\",\"LogisticRegression\",\"LogisticRegression\",\"LogisticRegression\",\"LogisticRegression\",\"LogisticRegression\",\"LogisticRegression\",\"LogisticRegression\",\"LogisticRegression\",\"LogisticRegression\",\"LogisticRegression\",\"LogisticRegression\",\"LogisticRegression\",\"LogisticRegression\",\"LogisticRegression\",\"LogisticRegression\",\"LogisticRegression\",\"LogisticRegression\",\"LogisticRegression\",\"LogisticRegression\",\"LogisticRegression\",\"LogisticRegression\",\"LogisticRegression\",\"LogisticRegression\",\"LogisticRegression\",\"LogisticRegression\",\"LogisticRegression\",\"LogisticRegression\",\"LogisticRegression\",\"LogisticRegression\",\"LogisticRegression\",\"LogisticRegression\",\"LogisticRegression\",\"LogisticRegression\",\"LogisticRegression\",\"LogisticRegression\"],\"legendgroup\":\"LogisticRegression\",\"line\":{\"color\":\"#46bac2\",\"dash\":\"solid\",\"width\":2},\"marker\":{\"symbol\":\"circle\"},\"mode\":\"lines\",\"name\":\"LogisticRegression\",\"orientation\":\"v\",\"showlegend\":false,\"x\":[126.0,130.38,134.76,139.14,143.52,147.9,152.28,156.66,161.04,165.42000000000002,169.8,174.18,178.56,182.94,187.32,191.7,196.07999999999998,200.45999999999998,204.84,209.22,213.6,217.98000000000002,222.36,226.74,231.12,235.5,239.88,244.26,248.64,253.01999999999998,257.4,261.78,266.15999999999997,270.53999999999996,274.91999999999996,279.29999999999995,283.68,288.06,292.44,296.82,301.2,305.58,309.96000000000004,314.34000000000003,318.72,323.1,327.48,331.86,336.24,340.62,345.0,349.38,353.76,358.14,362.52,366.9,371.28,375.65999999999997,380.03999999999996,384.42,388.8,393.18,397.56,401.94,406.32,410.7,415.08,419.46,423.84,428.21999999999997,432.59999999999997,436.98,441.36,445.74,450.12,454.5,458.88,463.26,467.64,472.02,476.4,480.78,485.15999999999997,489.53999999999996,493.92,498.3,502.68,507.06,511.44,515.8199999999999,520.2,524.5799999999999,528.96,533.3399999999999,537.72,542.0999999999999,546.48,550.86,555.24,559.62,564.0],\"xaxis\":\"x\",\"y\":[0.5482313361888735,0.5482313361888735,0.5482313361888735,0.5482313361888735,0.5482313361888735,0.5472980028555402,0.5435202250777623,0.5458055786131158,0.5516412316345584,0.5517056760790029,0.5526031119764386,0.5609884513794031,0.5615350031035411,0.5625016697702078,0.5625626221511602,0.5639151329736709,0.5663345774181154,0.5674012440847821,0.5658100047685427,0.5669368566203946,0.5666991149176529,0.565529417947956,0.5628946817201315,0.5593506314205858,0.5571448621898166,0.5573636374423419,0.5503864684636597,0.5463238649560562,0.5407352935274847,0.539632243799435,0.5365964304023059,0.5360430970689726,0.5363553192911947,0.533464578550454,0.5282826473335227,0.5270632028890784,0.5238949489208244,0.522461615587491,0.5248693317529046,0.5287625496461225,0.5306575496461224,0.530713568164641,0.5296334094344822,0.5262955709657614,0.5235855661557566,0.5229466772668677,0.5186611217113122,0.5063268023269928,0.5063268023269928,0.5077934689936595,0.5077934689936595,0.5105601356603261,0.5105601356603261,0.5101268023269928,0.5101268023269928,0.5101268023269928,0.5101268023269928,0.5101268023269928,0.5101268023269928,0.5101268023269928,0.5101268023269928,0.5101268023269928,0.5101268023269928,0.5101268023269928,0.5101268023269928,0.5101268023269928,0.5101268023269928,0.5101268023269928,0.5101268023269928,0.5101268023269928,0.5101268023269928,0.5101268023269928,0.5101268023269928,0.5101268023269928,0.5101268023269928,0.5101268023269928,0.5123283174785079,0.5123283174785079,0.5123283174785079,0.5123283174785079,0.5123283174785079,0.5123283174785079,0.5123283174785079,0.5171633254150159,0.5171633254150159,0.5171633254150159,0.5171633254150159,0.5171633254150159,0.5171633254150159,0.5171633254150159,0.5171633254150159,0.5171633254150159,0.5171633254150159,0.5171633254150159,0.5171633254150159,0.5171633254150159,0.5171633254150159,0.5171633254150159,0.5171633254150159,0.5171633254150159,0.5171633254150159],\"yaxis\":\"y\",\"type\":\"scatter\",\"opacity\":1}],                        {\"template\":{\"data\":{\"scatter\":[{\"type\":\"scatter\"}]}},\"xaxis\":{\"anchor\":\"y\",\"domain\":[0.0,0.475],\"title\":{\"text\":\"\"},\"showticklabels\":true,\"type\":\"linear\",\"gridwidth\":2,\"zeroline\":false,\"automargin\":true,\"ticks\":\"outside\",\"tickcolor\":\"white\",\"ticklen\":3,\"fixedrange\":true},\"yaxis\":{\"anchor\":\"x\",\"domain\":[0.0,0.425],\"title\":{\"text\":\"\"},\"range\":[0.4859907100862771,0.6009007523110581],\"type\":\"linear\",\"gridwidth\":2,\"zeroline\":false,\"automargin\":true,\"ticks\":\"outside\",\"tickcolor\":\"white\",\"ticklen\":3,\"fixedrange\":true},\"xaxis2\":{\"anchor\":\"y2\",\"domain\":[0.525,1.0],\"title\":{\"text\":\"\"},\"showticklabels\":true,\"type\":\"linear\",\"gridwidth\":2,\"zeroline\":false,\"automargin\":true,\"ticks\":\"outside\",\"tickcolor\":\"white\",\"ticklen\":3,\"fixedrange\":true},\"yaxis2\":{\"anchor\":\"x2\",\"domain\":[0.0,0.425],\"matches\":\"y\",\"showticklabels\":false,\"type\":\"linear\",\"gridwidth\":2,\"zeroline\":false,\"automargin\":true,\"ticks\":\"outside\",\"tickcolor\":\"white\",\"ticklen\":3,\"fixedrange\":true,\"title\":{\"text\":\"\"}},\"xaxis3\":{\"anchor\":\"y3\",\"domain\":[0.0,0.475],\"showticklabels\":true,\"type\":\"linear\",\"gridwidth\":2,\"zeroline\":false,\"automargin\":true,\"ticks\":\"outside\",\"tickcolor\":\"white\",\"ticklen\":3,\"fixedrange\":true,\"title\":{\"text\":\"\"}},\"yaxis3\":{\"anchor\":\"x3\",\"domain\":[0.575,1.0],\"matches\":\"y\",\"title\":{\"text\":\"\"},\"range\":[0.4859907100862771,0.6009007523110581],\"type\":\"linear\",\"gridwidth\":2,\"zeroline\":false,\"automargin\":true,\"ticks\":\"outside\",\"tickcolor\":\"white\",\"ticklen\":3,\"fixedrange\":true},\"xaxis4\":{\"anchor\":\"y4\",\"domain\":[0.525,1.0],\"showticklabels\":true,\"type\":\"linear\",\"gridwidth\":2,\"zeroline\":false,\"automargin\":true,\"ticks\":\"outside\",\"tickcolor\":\"white\",\"ticklen\":3,\"fixedrange\":true,\"title\":{\"text\":\"\"}},\"yaxis4\":{\"anchor\":\"x4\",\"domain\":[0.575,1.0],\"matches\":\"y\",\"showticklabels\":false,\"type\":\"linear\",\"gridwidth\":2,\"zeroline\":false,\"automargin\":true,\"ticks\":\"outside\",\"tickcolor\":\"white\",\"ticklen\":3,\"fixedrange\":true,\"title\":{\"text\":\"\"}},\"annotations\":[{\"font\":{\"size\":13},\"showarrow\":false,\"text\":\"chol\",\"x\":0.2375,\"xanchor\":\"center\",\"xref\":\"paper\",\"y\":0.425,\"yanchor\":\"bottom\",\"yref\":\"paper\"},{\"font\":{\"size\":13},\"showarrow\":false,\"text\":\"age\",\"x\":0.2375,\"xanchor\":\"center\",\"xref\":\"paper\",\"y\":1.0,\"yanchor\":\"bottom\",\"yref\":\"paper\"},{\"font\":{\"size\":13},\"showarrow\":false,\"text\":\"sex\",\"x\":0.7625,\"xanchor\":\"center\",\"xref\":\"paper\",\"y\":1.0,\"yanchor\":\"bottom\",\"yref\":\"paper\"},{\"font\":{\"size\":13},\"showarrow\":false,\"text\":\"prediction\",\"textangle\":-90,\"x\":-0.07,\"xref\":\"paper\",\"y\":0.5,\"yref\":\"paper\"}],\"legend\":{\"title\":{\"text\":\"label\",\"font\":{\"size\":12}},\"tracegroupgap\":0,\"font\":{\"size\":11},\"orientation\":\"h\",\"yanchor\":\"bottom\",\"y\":1.0361881785283473,\"xanchor\":\"right\",\"x\":1,\"itemsizing\":\"constant\"},\"margin\":{\"t\":78,\"b\":71,\"r\":30},\"font\":{\"color\":\"#371ea3\"},\"title\":{\"font\":{\"size\":16},\"text\":\"Aggregated Profiles\",\"x\":0.15},\"hovermode\":\"x unified\",\"height\":829},                        {\"displaylogo\": false, \"staticPlot\": false, \"toImageButtonOptions\": {\"height\": null, \"width\": null}, \"modeBarButtonsToRemove\": [\"sendDataToCloud\", \"lasso2d\", \"autoScale2d\", \"select2d\", \"zoom2d\", \"pan2d\", \"zoomIn2d\", \"zoomOut2d\", \"resetScale2d\", \"toggleSpikelines\", \"hoverCompareCartesian\", \"hoverClosestCartesian\"], \"responsive\": true}                    ).then(function(){\n                            \nvar gd = document.getElementById('91d6e359-5f8a-4622-8f29-6295aee1f42d');\nvar x = new MutationObserver(function (mutations, observer) {{\n        var display = window.getComputedStyle(gd).display;\n        if (!display || display === 'none') {{\n            console.log([gd, 'removed!']);\n            Plotly.purge(gd);\n            observer.disconnect();\n        }}\n}});\n\n// Listen for the removal of the full notebook cells\nvar notebookContainer = gd.closest('#notebook-container');\nif (notebookContainer) {{\n    x.observe(notebookContainer, {childList: true});\n}}\n\n// Listen for the clearing of the current output cell\nvar outputEl = gd.closest('.output');\nif (outputEl) {{\n    x.observe(outputEl, {childList: true});\n}}\n\n                        })                };                });            </script>        </div>"
     },
     "metadata": {},
     "output_type": "display_data"
    },
    {
     "data": {
      "application/vnd.plotly.v1+json": {
       "data": [
        {
         "customdata": [
          [
           0.5432924628257751,
           "XGBClassifier",
           "age"
          ],
          [
           0.5432924628257751,
           "XGBClassifier",
           "age"
          ],
          [
           0.5432924628257751,
           "XGBClassifier",
           "age"
          ],
          [
           0.5432924628257751,
           "XGBClassifier",
           "age"
          ],
          [
           0.5432924628257751,
           "XGBClassifier",
           "age"
          ],
          [
           0.5432924628257751,
           "XGBClassifier",
           "age"
          ],
          [
           0.5432924628257751,
           "XGBClassifier",
           "age"
          ],
          [
           0.5432924628257751,
           "XGBClassifier",
           "age"
          ],
          [
           0.5432924628257751,
           "XGBClassifier",
           "age"
          ],
          [
           0.5432924628257751,
           "XGBClassifier",
           "age"
          ],
          [
           0.5432924628257751,
           "XGBClassifier",
           "age"
          ],
          [
           0.5432924628257751,
           "XGBClassifier",
           "age"
          ],
          [
           0.5432924628257751,
           "XGBClassifier",
           "age"
          ],
          [
           0.5432924628257751,
           "XGBClassifier",
           "age"
          ],
          [
           0.5432924628257751,
           "XGBClassifier",
           "age"
          ],
          [
           0.5432924628257751,
           "XGBClassifier",
           "age"
          ],
          [
           0.5432924628257751,
           "XGBClassifier",
           "age"
          ],
          [
           0.5432924628257751,
           "XGBClassifier",
           "age"
          ],
          [
           0.5432924628257751,
           "XGBClassifier",
           "age"
          ],
          [
           0.5432924628257751,
           "XGBClassifier",
           "age"
          ],
          [
           0.5432924628257751,
           "XGBClassifier",
           "age"
          ],
          [
           0.5432924628257751,
           "XGBClassifier",
           "age"
          ],
          [
           0.5432924628257751,
           "XGBClassifier",
           "age"
          ],
          [
           0.5432924628257751,
           "XGBClassifier",
           "age"
          ],
          [
           0.5432924628257751,
           "XGBClassifier",
           "age"
          ],
          [
           0.5432924628257751,
           "XGBClassifier",
           "age"
          ],
          [
           0.5432924628257751,
           "XGBClassifier",
           "age"
          ],
          [
           0.5432924628257751,
           "XGBClassifier",
           "age"
          ],
          [
           0.5432924628257751,
           "XGBClassifier",
           "age"
          ],
          [
           0.5432924628257751,
           "XGBClassifier",
           "age"
          ],
          [
           0.5432924628257751,
           "XGBClassifier",
           "age"
          ],
          [
           0.5432924628257751,
           "XGBClassifier",
           "age"
          ],
          [
           0.5432924628257751,
           "XGBClassifier",
           "age"
          ],
          [
           0.5432924628257751,
           "XGBClassifier",
           "age"
          ],
          [
           0.5432924628257751,
           "XGBClassifier",
           "age"
          ],
          [
           0.5432924628257751,
           "XGBClassifier",
           "age"
          ],
          [
           0.5432924628257751,
           "XGBClassifier",
           "age"
          ],
          [
           0.5432924628257751,
           "XGBClassifier",
           "age"
          ],
          [
           0.5432924628257751,
           "XGBClassifier",
           "age"
          ],
          [
           0.5432924628257751,
           "XGBClassifier",
           "age"
          ],
          [
           0.5432924628257751,
           "XGBClassifier",
           "age"
          ],
          [
           0.5432924628257751,
           "XGBClassifier",
           "age"
          ],
          [
           0.5432924628257751,
           "XGBClassifier",
           "age"
          ],
          [
           0.5432924628257751,
           "XGBClassifier",
           "age"
          ],
          [
           0.5432924628257751,
           "XGBClassifier",
           "age"
          ],
          [
           0.5432924628257751,
           "XGBClassifier",
           "age"
          ],
          [
           0.5432924628257751,
           "XGBClassifier",
           "age"
          ],
          [
           0.5432924628257751,
           "XGBClassifier",
           "age"
          ],
          [
           0.5432924628257751,
           "XGBClassifier",
           "age"
          ],
          [
           0.5432924628257751,
           "XGBClassifier",
           "age"
          ],
          [
           0.5432924628257751,
           "XGBClassifier",
           "age"
          ],
          [
           0.5432924628257751,
           "XGBClassifier",
           "age"
          ],
          [
           0.5432924628257751,
           "XGBClassifier",
           "age"
          ],
          [
           0.5432924628257751,
           "XGBClassifier",
           "age"
          ],
          [
           0.5432924628257751,
           "XGBClassifier",
           "age"
          ],
          [
           0.5432924628257751,
           "XGBClassifier",
           "age"
          ],
          [
           0.5432924628257751,
           "XGBClassifier",
           "age"
          ],
          [
           0.5432924628257751,
           "XGBClassifier",
           "age"
          ],
          [
           0.5432924628257751,
           "XGBClassifier",
           "age"
          ],
          [
           0.5432924628257751,
           "XGBClassifier",
           "age"
          ],
          [
           0.5432924628257751,
           "XGBClassifier",
           "age"
          ],
          [
           0.5432924628257751,
           "XGBClassifier",
           "age"
          ],
          [
           0.5432924628257751,
           "XGBClassifier",
           "age"
          ],
          [
           0.5432924628257751,
           "XGBClassifier",
           "age"
          ],
          [
           0.5432924628257751,
           "XGBClassifier",
           "age"
          ],
          [
           0.5432924628257751,
           "XGBClassifier",
           "age"
          ],
          [
           0.5432924628257751,
           "XGBClassifier",
           "age"
          ],
          [
           0.5432924628257751,
           "XGBClassifier",
           "age"
          ],
          [
           0.5432924628257751,
           "XGBClassifier",
           "age"
          ],
          [
           0.5432924628257751,
           "XGBClassifier",
           "age"
          ],
          [
           0.5432924628257751,
           "XGBClassifier",
           "age"
          ],
          [
           0.5432924628257751,
           "XGBClassifier",
           "age"
          ],
          [
           0.5432924628257751,
           "XGBClassifier",
           "age"
          ],
          [
           0.5432924628257751,
           "XGBClassifier",
           "age"
          ],
          [
           0.5432924628257751,
           "XGBClassifier",
           "age"
          ],
          [
           0.5432924628257751,
           "XGBClassifier",
           "age"
          ],
          [
           0.5432924628257751,
           "XGBClassifier",
           "age"
          ],
          [
           0.5432924628257751,
           "XGBClassifier",
           "age"
          ],
          [
           0.5432924628257751,
           "XGBClassifier",
           "age"
          ],
          [
           0.5432924628257751,
           "XGBClassifier",
           "age"
          ],
          [
           0.5432924628257751,
           "XGBClassifier",
           "age"
          ],
          [
           0.5432924628257751,
           "XGBClassifier",
           "age"
          ],
          [
           0.5432924628257751,
           "XGBClassifier",
           "age"
          ],
          [
           0.5432924628257751,
           "XGBClassifier",
           "age"
          ],
          [
           0.5432924628257751,
           "XGBClassifier",
           "age"
          ],
          [
           0.5432924628257751,
           "XGBClassifier",
           "age"
          ],
          [
           0.5432924628257751,
           "XGBClassifier",
           "age"
          ],
          [
           0.5432924628257751,
           "XGBClassifier",
           "age"
          ],
          [
           0.5432924628257751,
           "XGBClassifier",
           "age"
          ],
          [
           0.5432924628257751,
           "XGBClassifier",
           "age"
          ],
          [
           0.5432924628257751,
           "XGBClassifier",
           "age"
          ],
          [
           0.5432924628257751,
           "XGBClassifier",
           "age"
          ],
          [
           0.5432924628257751,
           "XGBClassifier",
           "age"
          ],
          [
           0.5432924628257751,
           "XGBClassifier",
           "age"
          ],
          [
           0.5432924628257751,
           "XGBClassifier",
           "age"
          ],
          [
           0.5432924628257751,
           "XGBClassifier",
           "age"
          ],
          [
           0.5432924628257751,
           "XGBClassifier",
           "age"
          ],
          [
           0.5432924628257751,
           "XGBClassifier",
           "age"
          ],
          [
           0.5432924628257751,
           "XGBClassifier",
           "age"
          ],
          [
           0.5432924628257751,
           "XGBClassifier",
           "age"
          ],
          [
           0.5432924628257751,
           "XGBClassifier",
           "age"
          ]
         ],
         "hovertemplate": "<b>%{hovertext}</b><br><br>prediction=%{y:.3f}<br>mean_prediction=%{customdata[0]:.3f}<extra></extra>",
         "hovertext": [
          "XGBClassifier",
          "XGBClassifier",
          "XGBClassifier",
          "XGBClassifier",
          "XGBClassifier",
          "XGBClassifier",
          "XGBClassifier",
          "XGBClassifier",
          "XGBClassifier",
          "XGBClassifier",
          "XGBClassifier",
          "XGBClassifier",
          "XGBClassifier",
          "XGBClassifier",
          "XGBClassifier",
          "XGBClassifier",
          "XGBClassifier",
          "XGBClassifier",
          "XGBClassifier",
          "XGBClassifier",
          "XGBClassifier",
          "XGBClassifier",
          "XGBClassifier",
          "XGBClassifier",
          "XGBClassifier",
          "XGBClassifier",
          "XGBClassifier",
          "XGBClassifier",
          "XGBClassifier",
          "XGBClassifier",
          "XGBClassifier",
          "XGBClassifier",
          "XGBClassifier",
          "XGBClassifier",
          "XGBClassifier",
          "XGBClassifier",
          "XGBClassifier",
          "XGBClassifier",
          "XGBClassifier",
          "XGBClassifier",
          "XGBClassifier",
          "XGBClassifier",
          "XGBClassifier",
          "XGBClassifier",
          "XGBClassifier",
          "XGBClassifier",
          "XGBClassifier",
          "XGBClassifier",
          "XGBClassifier",
          "XGBClassifier",
          "XGBClassifier",
          "XGBClassifier",
          "XGBClassifier",
          "XGBClassifier",
          "XGBClassifier",
          "XGBClassifier",
          "XGBClassifier",
          "XGBClassifier",
          "XGBClassifier",
          "XGBClassifier",
          "XGBClassifier",
          "XGBClassifier",
          "XGBClassifier",
          "XGBClassifier",
          "XGBClassifier",
          "XGBClassifier",
          "XGBClassifier",
          "XGBClassifier",
          "XGBClassifier",
          "XGBClassifier",
          "XGBClassifier",
          "XGBClassifier",
          "XGBClassifier",
          "XGBClassifier",
          "XGBClassifier",
          "XGBClassifier",
          "XGBClassifier",
          "XGBClassifier",
          "XGBClassifier",
          "XGBClassifier",
          "XGBClassifier",
          "XGBClassifier",
          "XGBClassifier",
          "XGBClassifier",
          "XGBClassifier",
          "XGBClassifier",
          "XGBClassifier",
          "XGBClassifier",
          "XGBClassifier",
          "XGBClassifier",
          "XGBClassifier",
          "XGBClassifier",
          "XGBClassifier",
          "XGBClassifier",
          "XGBClassifier",
          "XGBClassifier",
          "XGBClassifier",
          "XGBClassifier",
          "XGBClassifier",
          "XGBClassifier",
          "XGBClassifier"
         ],
         "legendgroup": "XGBClassifier",
         "line": {
          "color": "#46bac2",
          "dash": "solid",
          "width": 2
         },
         "marker": {
          "symbol": "circle"
         },
         "mode": "lines",
         "name": "XGBClassifier",
         "orientation": "v",
         "showlegend": true,
         "x": [
          29.0,
          29.48,
          29.96,
          30.44,
          30.92,
          31.4,
          31.88,
          32.36,
          32.84,
          33.32,
          33.8,
          34.28,
          34.76,
          35.24,
          35.72,
          36.2,
          36.68,
          37.16,
          37.64,
          38.12,
          38.6,
          39.08,
          39.56,
          40.04,
          40.519999999999996,
          41.0,
          41.480000000000004,
          41.96,
          42.44,
          42.92,
          43.4,
          43.879999999999995,
          44.36,
          44.84,
          45.32,
          45.8,
          46.28,
          46.76,
          47.239999999999995,
          47.72,
          48.2,
          48.68,
          49.16,
          49.64,
          50.12,
          50.599999999999994,
          51.08,
          51.56,
          52.04,
          52.519999999999996,
          53.0,
          53.480000000000004,
          53.96,
          54.44,
          54.92,
          55.4,
          55.879999999999995,
          56.36,
          56.84,
          57.32,
          57.8,
          58.28,
          58.76,
          59.239999999999995,
          59.72,
          60.2,
          60.68,
          61.16,
          61.64,
          62.12,
          62.6,
          63.08,
          63.56,
          64.03999999999999,
          64.52,
          65.0,
          65.47999999999999,
          65.96000000000001,
          66.44,
          66.92,
          67.4,
          67.88,
          68.36,
          68.84,
          69.32,
          69.8,
          70.28,
          70.75999999999999,
          71.24,
          71.72,
          72.19999999999999,
          72.68,
          73.16,
          73.64,
          74.12,
          74.6,
          75.08,
          75.56,
          76.03999999999999,
          76.52,
          77.0
         ],
         "xaxis": "x3",
         "y": [
          0.5595170855522156,
          0.5595170855522156,
          0.5595170855522156,
          0.5595170855522156,
          0.5595170855522156,
          0.5595170855522156,
          0.5595170855522156,
          0.5595170855522156,
          0.5595170855522156,
          0.5595170855522156,
          0.5595170855522156,
          0.5595170855522156,
          0.5595170855522156,
          0.5595170855522156,
          0.5595170855522156,
          0.5595170855522156,
          0.5595170855522156,
          0.5595170855522156,
          0.5595170855522156,
          0.5595170855522156,
          0.5595170855522156,
          0.5595170855522156,
          0.5595170855522156,
          0.5595170855522156,
          0.5624421238899231,
          0.5624421238899231,
          0.5624421238899231,
          0.5646842122077942,
          0.5646842122077942,
          0.5646842122077942,
          0.5646842122077942,
          0.5646842122077942,
          0.5646842122077942,
          0.5646842122077942,
          0.5646842122077942,
          0.5551941990852356,
          0.5551941990852356,
          0.5470235347747803,
          0.5470235347747803,
          0.5491712689399719,
          0.5491712689399719,
          0.5491712689399719,
          0.5507722496986389,
          0.5571693181991577,
          0.5595619082450867,
          0.5899465084075928,
          0.5899465084075928,
          0.5882051587104797,
          0.5894863605499268,
          0.5973522663116455,
          0.5940709710121155,
          0.5940709710121155,
          0.5940709710121155,
          0.5940709710121155,
          0.5819844603538513,
          0.5819844603538513,
          0.5791517496109009,
          0.5791517496109009,
          0.5419108867645264,
          0.5419108867645264,
          0.48023462295532227,
          0.4793669581413269,
          0.4826168715953827,
          0.4826168715953827,
          0.47604867815971375,
          0.47604867815971375,
          0.47721922397613525,
          0.47721922397613525,
          0.4817861318588257,
          0.4817861318588257,
          0.48858216404914856,
          0.487441748380661,
          0.5402754545211792,
          0.5402754545211792,
          0.5436854958534241,
          0.5436854958534241,
          0.5436854958534241,
          0.5364366769790649,
          0.5364366769790649,
          0.5364366769790649,
          0.5364366769790649,
          0.5364366769790649,
          0.5407859683036804,
          0.5407859683036804,
          0.5407859683036804,
          0.5407859683036804,
          0.5407859683036804,
          0.5407859683036804,
          0.5407859683036804,
          0.5407859683036804,
          0.5407859683036804,
          0.5407859683036804,
          0.5407859683036804,
          0.5407859683036804,
          0.5407859683036804,
          0.5407859683036804,
          0.5407859683036804,
          0.5407859683036804,
          0.5407859683036804,
          0.5407859683036804,
          0.5407859683036804
         ],
         "yaxis": "y3",
         "type": "scatter",
         "opacity": 1
        },
        {
         "customdata": [
          [
           0.5432924628257751,
           "XGBClassifier",
           "sex"
          ],
          [
           0.5432924628257751,
           "XGBClassifier",
           "sex"
          ],
          [
           0.5432924628257751,
           "XGBClassifier",
           "sex"
          ],
          [
           0.5432924628257751,
           "XGBClassifier",
           "sex"
          ],
          [
           0.5432924628257751,
           "XGBClassifier",
           "sex"
          ],
          [
           0.5432924628257751,
           "XGBClassifier",
           "sex"
          ],
          [
           0.5432924628257751,
           "XGBClassifier",
           "sex"
          ],
          [
           0.5432924628257751,
           "XGBClassifier",
           "sex"
          ],
          [
           0.5432924628257751,
           "XGBClassifier",
           "sex"
          ],
          [
           0.5432924628257751,
           "XGBClassifier",
           "sex"
          ],
          [
           0.5432924628257751,
           "XGBClassifier",
           "sex"
          ],
          [
           0.5432924628257751,
           "XGBClassifier",
           "sex"
          ],
          [
           0.5432924628257751,
           "XGBClassifier",
           "sex"
          ],
          [
           0.5432924628257751,
           "XGBClassifier",
           "sex"
          ],
          [
           0.5432924628257751,
           "XGBClassifier",
           "sex"
          ],
          [
           0.5432924628257751,
           "XGBClassifier",
           "sex"
          ],
          [
           0.5432924628257751,
           "XGBClassifier",
           "sex"
          ],
          [
           0.5432924628257751,
           "XGBClassifier",
           "sex"
          ],
          [
           0.5432924628257751,
           "XGBClassifier",
           "sex"
          ],
          [
           0.5432924628257751,
           "XGBClassifier",
           "sex"
          ],
          [
           0.5432924628257751,
           "XGBClassifier",
           "sex"
          ],
          [
           0.5432924628257751,
           "XGBClassifier",
           "sex"
          ],
          [
           0.5432924628257751,
           "XGBClassifier",
           "sex"
          ],
          [
           0.5432924628257751,
           "XGBClassifier",
           "sex"
          ],
          [
           0.5432924628257751,
           "XGBClassifier",
           "sex"
          ],
          [
           0.5432924628257751,
           "XGBClassifier",
           "sex"
          ],
          [
           0.5432924628257751,
           "XGBClassifier",
           "sex"
          ],
          [
           0.5432924628257751,
           "XGBClassifier",
           "sex"
          ],
          [
           0.5432924628257751,
           "XGBClassifier",
           "sex"
          ],
          [
           0.5432924628257751,
           "XGBClassifier",
           "sex"
          ],
          [
           0.5432924628257751,
           "XGBClassifier",
           "sex"
          ],
          [
           0.5432924628257751,
           "XGBClassifier",
           "sex"
          ],
          [
           0.5432924628257751,
           "XGBClassifier",
           "sex"
          ],
          [
           0.5432924628257751,
           "XGBClassifier",
           "sex"
          ],
          [
           0.5432924628257751,
           "XGBClassifier",
           "sex"
          ],
          [
           0.5432924628257751,
           "XGBClassifier",
           "sex"
          ],
          [
           0.5432924628257751,
           "XGBClassifier",
           "sex"
          ],
          [
           0.5432924628257751,
           "XGBClassifier",
           "sex"
          ],
          [
           0.5432924628257751,
           "XGBClassifier",
           "sex"
          ],
          [
           0.5432924628257751,
           "XGBClassifier",
           "sex"
          ],
          [
           0.5432924628257751,
           "XGBClassifier",
           "sex"
          ],
          [
           0.5432924628257751,
           "XGBClassifier",
           "sex"
          ],
          [
           0.5432924628257751,
           "XGBClassifier",
           "sex"
          ],
          [
           0.5432924628257751,
           "XGBClassifier",
           "sex"
          ],
          [
           0.5432924628257751,
           "XGBClassifier",
           "sex"
          ],
          [
           0.5432924628257751,
           "XGBClassifier",
           "sex"
          ],
          [
           0.5432924628257751,
           "XGBClassifier",
           "sex"
          ],
          [
           0.5432924628257751,
           "XGBClassifier",
           "sex"
          ],
          [
           0.5432924628257751,
           "XGBClassifier",
           "sex"
          ],
          [
           0.5432924628257751,
           "XGBClassifier",
           "sex"
          ],
          [
           0.5432924628257751,
           "XGBClassifier",
           "sex"
          ],
          [
           0.5432924628257751,
           "XGBClassifier",
           "sex"
          ],
          [
           0.5432924628257751,
           "XGBClassifier",
           "sex"
          ],
          [
           0.5432924628257751,
           "XGBClassifier",
           "sex"
          ],
          [
           0.5432924628257751,
           "XGBClassifier",
           "sex"
          ],
          [
           0.5432924628257751,
           "XGBClassifier",
           "sex"
          ],
          [
           0.5432924628257751,
           "XGBClassifier",
           "sex"
          ],
          [
           0.5432924628257751,
           "XGBClassifier",
           "sex"
          ],
          [
           0.5432924628257751,
           "XGBClassifier",
           "sex"
          ],
          [
           0.5432924628257751,
           "XGBClassifier",
           "sex"
          ],
          [
           0.5432924628257751,
           "XGBClassifier",
           "sex"
          ],
          [
           0.5432924628257751,
           "XGBClassifier",
           "sex"
          ],
          [
           0.5432924628257751,
           "XGBClassifier",
           "sex"
          ],
          [
           0.5432924628257751,
           "XGBClassifier",
           "sex"
          ],
          [
           0.5432924628257751,
           "XGBClassifier",
           "sex"
          ],
          [
           0.5432924628257751,
           "XGBClassifier",
           "sex"
          ],
          [
           0.5432924628257751,
           "XGBClassifier",
           "sex"
          ],
          [
           0.5432924628257751,
           "XGBClassifier",
           "sex"
          ],
          [
           0.5432924628257751,
           "XGBClassifier",
           "sex"
          ],
          [
           0.5432924628257751,
           "XGBClassifier",
           "sex"
          ],
          [
           0.5432924628257751,
           "XGBClassifier",
           "sex"
          ],
          [
           0.5432924628257751,
           "XGBClassifier",
           "sex"
          ],
          [
           0.5432924628257751,
           "XGBClassifier",
           "sex"
          ],
          [
           0.5432924628257751,
           "XGBClassifier",
           "sex"
          ],
          [
           0.5432924628257751,
           "XGBClassifier",
           "sex"
          ],
          [
           0.5432924628257751,
           "XGBClassifier",
           "sex"
          ],
          [
           0.5432924628257751,
           "XGBClassifier",
           "sex"
          ],
          [
           0.5432924628257751,
           "XGBClassifier",
           "sex"
          ],
          [
           0.5432924628257751,
           "XGBClassifier",
           "sex"
          ],
          [
           0.5432924628257751,
           "XGBClassifier",
           "sex"
          ],
          [
           0.5432924628257751,
           "XGBClassifier",
           "sex"
          ],
          [
           0.5432924628257751,
           "XGBClassifier",
           "sex"
          ],
          [
           0.5432924628257751,
           "XGBClassifier",
           "sex"
          ],
          [
           0.5432924628257751,
           "XGBClassifier",
           "sex"
          ],
          [
           0.5432924628257751,
           "XGBClassifier",
           "sex"
          ],
          [
           0.5432924628257751,
           "XGBClassifier",
           "sex"
          ],
          [
           0.5432924628257751,
           "XGBClassifier",
           "sex"
          ],
          [
           0.5432924628257751,
           "XGBClassifier",
           "sex"
          ],
          [
           0.5432924628257751,
           "XGBClassifier",
           "sex"
          ],
          [
           0.5432924628257751,
           "XGBClassifier",
           "sex"
          ],
          [
           0.5432924628257751,
           "XGBClassifier",
           "sex"
          ],
          [
           0.5432924628257751,
           "XGBClassifier",
           "sex"
          ],
          [
           0.5432924628257751,
           "XGBClassifier",
           "sex"
          ],
          [
           0.5432924628257751,
           "XGBClassifier",
           "sex"
          ],
          [
           0.5432924628257751,
           "XGBClassifier",
           "sex"
          ],
          [
           0.5432924628257751,
           "XGBClassifier",
           "sex"
          ],
          [
           0.5432924628257751,
           "XGBClassifier",
           "sex"
          ],
          [
           0.5432924628257751,
           "XGBClassifier",
           "sex"
          ],
          [
           0.5432924628257751,
           "XGBClassifier",
           "sex"
          ],
          [
           0.5432924628257751,
           "XGBClassifier",
           "sex"
          ],
          [
           0.5432924628257751,
           "XGBClassifier",
           "sex"
          ]
         ],
         "hovertemplate": "<b>%{hovertext}</b><br><br>prediction=%{y:.3f}<br>mean_prediction=%{customdata[0]:.3f}<extra></extra>",
         "hovertext": [
          "XGBClassifier",
          "XGBClassifier",
          "XGBClassifier",
          "XGBClassifier",
          "XGBClassifier",
          "XGBClassifier",
          "XGBClassifier",
          "XGBClassifier",
          "XGBClassifier",
          "XGBClassifier",
          "XGBClassifier",
          "XGBClassifier",
          "XGBClassifier",
          "XGBClassifier",
          "XGBClassifier",
          "XGBClassifier",
          "XGBClassifier",
          "XGBClassifier",
          "XGBClassifier",
          "XGBClassifier",
          "XGBClassifier",
          "XGBClassifier",
          "XGBClassifier",
          "XGBClassifier",
          "XGBClassifier",
          "XGBClassifier",
          "XGBClassifier",
          "XGBClassifier",
          "XGBClassifier",
          "XGBClassifier",
          "XGBClassifier",
          "XGBClassifier",
          "XGBClassifier",
          "XGBClassifier",
          "XGBClassifier",
          "XGBClassifier",
          "XGBClassifier",
          "XGBClassifier",
          "XGBClassifier",
          "XGBClassifier",
          "XGBClassifier",
          "XGBClassifier",
          "XGBClassifier",
          "XGBClassifier",
          "XGBClassifier",
          "XGBClassifier",
          "XGBClassifier",
          "XGBClassifier",
          "XGBClassifier",
          "XGBClassifier",
          "XGBClassifier",
          "XGBClassifier",
          "XGBClassifier",
          "XGBClassifier",
          "XGBClassifier",
          "XGBClassifier",
          "XGBClassifier",
          "XGBClassifier",
          "XGBClassifier",
          "XGBClassifier",
          "XGBClassifier",
          "XGBClassifier",
          "XGBClassifier",
          "XGBClassifier",
          "XGBClassifier",
          "XGBClassifier",
          "XGBClassifier",
          "XGBClassifier",
          "XGBClassifier",
          "XGBClassifier",
          "XGBClassifier",
          "XGBClassifier",
          "XGBClassifier",
          "XGBClassifier",
          "XGBClassifier",
          "XGBClassifier",
          "XGBClassifier",
          "XGBClassifier",
          "XGBClassifier",
          "XGBClassifier",
          "XGBClassifier",
          "XGBClassifier",
          "XGBClassifier",
          "XGBClassifier",
          "XGBClassifier",
          "XGBClassifier",
          "XGBClassifier",
          "XGBClassifier",
          "XGBClassifier",
          "XGBClassifier",
          "XGBClassifier",
          "XGBClassifier",
          "XGBClassifier",
          "XGBClassifier",
          "XGBClassifier",
          "XGBClassifier",
          "XGBClassifier",
          "XGBClassifier",
          "XGBClassifier",
          "XGBClassifier",
          "XGBClassifier"
         ],
         "legendgroup": "XGBClassifier",
         "line": {
          "color": "#46bac2",
          "dash": "solid",
          "width": 2
         },
         "marker": {
          "symbol": "circle"
         },
         "mode": "lines",
         "name": "XGBClassifier",
         "orientation": "v",
         "showlegend": false,
         "x": [
          0.0,
          0.01,
          0.02,
          0.03,
          0.04,
          0.05,
          0.06,
          0.07,
          0.08,
          0.09,
          0.1,
          0.11,
          0.12,
          0.13,
          0.14,
          0.15,
          0.16,
          0.17,
          0.18,
          0.19,
          0.2,
          0.21,
          0.22,
          0.23,
          0.24,
          0.25,
          0.26,
          0.27,
          0.28,
          0.29,
          0.3,
          0.31,
          0.32,
          0.33,
          0.34,
          0.35000000000000003,
          0.36,
          0.37,
          0.38,
          0.39,
          0.4,
          0.41000000000000003,
          0.42,
          0.43,
          0.44,
          0.45,
          0.46,
          0.47000000000000003,
          0.48,
          0.49,
          0.5,
          0.51,
          0.52,
          0.53,
          0.54,
          0.55,
          0.56,
          0.5700000000000001,
          0.58,
          0.59,
          0.6,
          0.61,
          0.62,
          0.63,
          0.64,
          0.65,
          0.66,
          0.67,
          0.68,
          0.6900000000000001,
          0.7000000000000001,
          0.71,
          0.72,
          0.73,
          0.74,
          0.75,
          0.76,
          0.77,
          0.78,
          0.79,
          0.8,
          0.81,
          0.8200000000000001,
          0.8300000000000001,
          0.84,
          0.85,
          0.86,
          0.87,
          0.88,
          0.89,
          0.9,
          0.91,
          0.92,
          0.93,
          0.9400000000000001,
          0.9500000000000001,
          0.96,
          0.97,
          0.98,
          0.99,
          1.0
         ],
         "xaxis": "x4",
         "y": [
          0.61626797914505,
          0.61626797914505,
          0.61626797914505,
          0.61626797914505,
          0.61626797914505,
          0.61626797914505,
          0.61626797914505,
          0.61626797914505,
          0.61626797914505,
          0.61626797914505,
          0.61626797914505,
          0.61626797914505,
          0.61626797914505,
          0.61626797914505,
          0.61626797914505,
          0.61626797914505,
          0.61626797914505,
          0.61626797914505,
          0.61626797914505,
          0.61626797914505,
          0.61626797914505,
          0.61626797914505,
          0.61626797914505,
          0.61626797914505,
          0.61626797914505,
          0.61626797914505,
          0.61626797914505,
          0.61626797914505,
          0.61626797914505,
          0.61626797914505,
          0.61626797914505,
          0.61626797914505,
          0.61626797914505,
          0.61626797914505,
          0.61626797914505,
          0.61626797914505,
          0.61626797914505,
          0.61626797914505,
          0.61626797914505,
          0.61626797914505,
          0.61626797914505,
          0.61626797914505,
          0.61626797914505,
          0.61626797914505,
          0.61626797914505,
          0.61626797914505,
          0.61626797914505,
          0.61626797914505,
          0.61626797914505,
          0.61626797914505,
          0.4885883629322052,
          0.4885883629322052,
          0.4885883629322052,
          0.4885883629322052,
          0.4885883629322052,
          0.4885883629322052,
          0.4885883629322052,
          0.4885883629322052,
          0.4885883629322052,
          0.4885883629322052,
          0.4885883629322052,
          0.4885883629322052,
          0.4885883629322052,
          0.4885883629322052,
          0.4885883629322052,
          0.4885883629322052,
          0.4885883629322052,
          0.4885883629322052,
          0.4885883629322052,
          0.4885883629322052,
          0.4885883629322052,
          0.4885883629322052,
          0.4885883629322052,
          0.4885883629322052,
          0.4885883629322052,
          0.4885883629322052,
          0.4885883629322052,
          0.4885883629322052,
          0.4885883629322052,
          0.4885883629322052,
          0.4885883629322052,
          0.4885883629322052,
          0.4885883629322052,
          0.4885883629322052,
          0.4885883629322052,
          0.4885883629322052,
          0.4885883629322052,
          0.4885883629322052,
          0.4885883629322052,
          0.4885883629322052,
          0.4885883629322052,
          0.4885883629322052,
          0.4885883629322052,
          0.4885883629322052,
          0.4885883629322052,
          0.4885883629322052,
          0.4885883629322052,
          0.4885883629322052,
          0.4885883629322052,
          0.4885883629322052,
          0.4885883629322052
         ],
         "yaxis": "y4",
         "type": "scatter",
         "opacity": 1
        },
        {
         "customdata": [
          [
           0.5432924628257751,
           "XGBClassifier",
           "chol"
          ],
          [
           0.5432924628257751,
           "XGBClassifier",
           "chol"
          ],
          [
           0.5432924628257751,
           "XGBClassifier",
           "chol"
          ],
          [
           0.5432924628257751,
           "XGBClassifier",
           "chol"
          ],
          [
           0.5432924628257751,
           "XGBClassifier",
           "chol"
          ],
          [
           0.5432924628257751,
           "XGBClassifier",
           "chol"
          ],
          [
           0.5432924628257751,
           "XGBClassifier",
           "chol"
          ],
          [
           0.5432924628257751,
           "XGBClassifier",
           "chol"
          ],
          [
           0.5432924628257751,
           "XGBClassifier",
           "chol"
          ],
          [
           0.5432924628257751,
           "XGBClassifier",
           "chol"
          ],
          [
           0.5432924628257751,
           "XGBClassifier",
           "chol"
          ],
          [
           0.5432924628257751,
           "XGBClassifier",
           "chol"
          ],
          [
           0.5432924628257751,
           "XGBClassifier",
           "chol"
          ],
          [
           0.5432924628257751,
           "XGBClassifier",
           "chol"
          ],
          [
           0.5432924628257751,
           "XGBClassifier",
           "chol"
          ],
          [
           0.5432924628257751,
           "XGBClassifier",
           "chol"
          ],
          [
           0.5432924628257751,
           "XGBClassifier",
           "chol"
          ],
          [
           0.5432924628257751,
           "XGBClassifier",
           "chol"
          ],
          [
           0.5432924628257751,
           "XGBClassifier",
           "chol"
          ],
          [
           0.5432924628257751,
           "XGBClassifier",
           "chol"
          ],
          [
           0.5432924628257751,
           "XGBClassifier",
           "chol"
          ],
          [
           0.5432924628257751,
           "XGBClassifier",
           "chol"
          ],
          [
           0.5432924628257751,
           "XGBClassifier",
           "chol"
          ],
          [
           0.5432924628257751,
           "XGBClassifier",
           "chol"
          ],
          [
           0.5432924628257751,
           "XGBClassifier",
           "chol"
          ],
          [
           0.5432924628257751,
           "XGBClassifier",
           "chol"
          ],
          [
           0.5432924628257751,
           "XGBClassifier",
           "chol"
          ],
          [
           0.5432924628257751,
           "XGBClassifier",
           "chol"
          ],
          [
           0.5432924628257751,
           "XGBClassifier",
           "chol"
          ],
          [
           0.5432924628257751,
           "XGBClassifier",
           "chol"
          ],
          [
           0.5432924628257751,
           "XGBClassifier",
           "chol"
          ],
          [
           0.5432924628257751,
           "XGBClassifier",
           "chol"
          ],
          [
           0.5432924628257751,
           "XGBClassifier",
           "chol"
          ],
          [
           0.5432924628257751,
           "XGBClassifier",
           "chol"
          ],
          [
           0.5432924628257751,
           "XGBClassifier",
           "chol"
          ],
          [
           0.5432924628257751,
           "XGBClassifier",
           "chol"
          ],
          [
           0.5432924628257751,
           "XGBClassifier",
           "chol"
          ],
          [
           0.5432924628257751,
           "XGBClassifier",
           "chol"
          ],
          [
           0.5432924628257751,
           "XGBClassifier",
           "chol"
          ],
          [
           0.5432924628257751,
           "XGBClassifier",
           "chol"
          ],
          [
           0.5432924628257751,
           "XGBClassifier",
           "chol"
          ],
          [
           0.5432924628257751,
           "XGBClassifier",
           "chol"
          ],
          [
           0.5432924628257751,
           "XGBClassifier",
           "chol"
          ],
          [
           0.5432924628257751,
           "XGBClassifier",
           "chol"
          ],
          [
           0.5432924628257751,
           "XGBClassifier",
           "chol"
          ],
          [
           0.5432924628257751,
           "XGBClassifier",
           "chol"
          ],
          [
           0.5432924628257751,
           "XGBClassifier",
           "chol"
          ],
          [
           0.5432924628257751,
           "XGBClassifier",
           "chol"
          ],
          [
           0.5432924628257751,
           "XGBClassifier",
           "chol"
          ],
          [
           0.5432924628257751,
           "XGBClassifier",
           "chol"
          ],
          [
           0.5432924628257751,
           "XGBClassifier",
           "chol"
          ],
          [
           0.5432924628257751,
           "XGBClassifier",
           "chol"
          ],
          [
           0.5432924628257751,
           "XGBClassifier",
           "chol"
          ],
          [
           0.5432924628257751,
           "XGBClassifier",
           "chol"
          ],
          [
           0.5432924628257751,
           "XGBClassifier",
           "chol"
          ],
          [
           0.5432924628257751,
           "XGBClassifier",
           "chol"
          ],
          [
           0.5432924628257751,
           "XGBClassifier",
           "chol"
          ],
          [
           0.5432924628257751,
           "XGBClassifier",
           "chol"
          ],
          [
           0.5432924628257751,
           "XGBClassifier",
           "chol"
          ],
          [
           0.5432924628257751,
           "XGBClassifier",
           "chol"
          ],
          [
           0.5432924628257751,
           "XGBClassifier",
           "chol"
          ],
          [
           0.5432924628257751,
           "XGBClassifier",
           "chol"
          ],
          [
           0.5432924628257751,
           "XGBClassifier",
           "chol"
          ],
          [
           0.5432924628257751,
           "XGBClassifier",
           "chol"
          ],
          [
           0.5432924628257751,
           "XGBClassifier",
           "chol"
          ],
          [
           0.5432924628257751,
           "XGBClassifier",
           "chol"
          ],
          [
           0.5432924628257751,
           "XGBClassifier",
           "chol"
          ],
          [
           0.5432924628257751,
           "XGBClassifier",
           "chol"
          ],
          [
           0.5432924628257751,
           "XGBClassifier",
           "chol"
          ],
          [
           0.5432924628257751,
           "XGBClassifier",
           "chol"
          ],
          [
           0.5432924628257751,
           "XGBClassifier",
           "chol"
          ],
          [
           0.5432924628257751,
           "XGBClassifier",
           "chol"
          ],
          [
           0.5432924628257751,
           "XGBClassifier",
           "chol"
          ],
          [
           0.5432924628257751,
           "XGBClassifier",
           "chol"
          ],
          [
           0.5432924628257751,
           "XGBClassifier",
           "chol"
          ],
          [
           0.5432924628257751,
           "XGBClassifier",
           "chol"
          ],
          [
           0.5432924628257751,
           "XGBClassifier",
           "chol"
          ],
          [
           0.5432924628257751,
           "XGBClassifier",
           "chol"
          ],
          [
           0.5432924628257751,
           "XGBClassifier",
           "chol"
          ],
          [
           0.5432924628257751,
           "XGBClassifier",
           "chol"
          ],
          [
           0.5432924628257751,
           "XGBClassifier",
           "chol"
          ],
          [
           0.5432924628257751,
           "XGBClassifier",
           "chol"
          ],
          [
           0.5432924628257751,
           "XGBClassifier",
           "chol"
          ],
          [
           0.5432924628257751,
           "XGBClassifier",
           "chol"
          ],
          [
           0.5432924628257751,
           "XGBClassifier",
           "chol"
          ],
          [
           0.5432924628257751,
           "XGBClassifier",
           "chol"
          ],
          [
           0.5432924628257751,
           "XGBClassifier",
           "chol"
          ],
          [
           0.5432924628257751,
           "XGBClassifier",
           "chol"
          ],
          [
           0.5432924628257751,
           "XGBClassifier",
           "chol"
          ],
          [
           0.5432924628257751,
           "XGBClassifier",
           "chol"
          ],
          [
           0.5432924628257751,
           "XGBClassifier",
           "chol"
          ],
          [
           0.5432924628257751,
           "XGBClassifier",
           "chol"
          ],
          [
           0.5432924628257751,
           "XGBClassifier",
           "chol"
          ],
          [
           0.5432924628257751,
           "XGBClassifier",
           "chol"
          ],
          [
           0.5432924628257751,
           "XGBClassifier",
           "chol"
          ],
          [
           0.5432924628257751,
           "XGBClassifier",
           "chol"
          ],
          [
           0.5432924628257751,
           "XGBClassifier",
           "chol"
          ],
          [
           0.5432924628257751,
           "XGBClassifier",
           "chol"
          ],
          [
           0.5432924628257751,
           "XGBClassifier",
           "chol"
          ],
          [
           0.5432924628257751,
           "XGBClassifier",
           "chol"
          ],
          [
           0.5432924628257751,
           "XGBClassifier",
           "chol"
          ]
         ],
         "hovertemplate": "<b>%{hovertext}</b><br><br>prediction=%{y:.3f}<br>mean_prediction=%{customdata[0]:.3f}<extra></extra>",
         "hovertext": [
          "XGBClassifier",
          "XGBClassifier",
          "XGBClassifier",
          "XGBClassifier",
          "XGBClassifier",
          "XGBClassifier",
          "XGBClassifier",
          "XGBClassifier",
          "XGBClassifier",
          "XGBClassifier",
          "XGBClassifier",
          "XGBClassifier",
          "XGBClassifier",
          "XGBClassifier",
          "XGBClassifier",
          "XGBClassifier",
          "XGBClassifier",
          "XGBClassifier",
          "XGBClassifier",
          "XGBClassifier",
          "XGBClassifier",
          "XGBClassifier",
          "XGBClassifier",
          "XGBClassifier",
          "XGBClassifier",
          "XGBClassifier",
          "XGBClassifier",
          "XGBClassifier",
          "XGBClassifier",
          "XGBClassifier",
          "XGBClassifier",
          "XGBClassifier",
          "XGBClassifier",
          "XGBClassifier",
          "XGBClassifier",
          "XGBClassifier",
          "XGBClassifier",
          "XGBClassifier",
          "XGBClassifier",
          "XGBClassifier",
          "XGBClassifier",
          "XGBClassifier",
          "XGBClassifier",
          "XGBClassifier",
          "XGBClassifier",
          "XGBClassifier",
          "XGBClassifier",
          "XGBClassifier",
          "XGBClassifier",
          "XGBClassifier",
          "XGBClassifier",
          "XGBClassifier",
          "XGBClassifier",
          "XGBClassifier",
          "XGBClassifier",
          "XGBClassifier",
          "XGBClassifier",
          "XGBClassifier",
          "XGBClassifier",
          "XGBClassifier",
          "XGBClassifier",
          "XGBClassifier",
          "XGBClassifier",
          "XGBClassifier",
          "XGBClassifier",
          "XGBClassifier",
          "XGBClassifier",
          "XGBClassifier",
          "XGBClassifier",
          "XGBClassifier",
          "XGBClassifier",
          "XGBClassifier",
          "XGBClassifier",
          "XGBClassifier",
          "XGBClassifier",
          "XGBClassifier",
          "XGBClassifier",
          "XGBClassifier",
          "XGBClassifier",
          "XGBClassifier",
          "XGBClassifier",
          "XGBClassifier",
          "XGBClassifier",
          "XGBClassifier",
          "XGBClassifier",
          "XGBClassifier",
          "XGBClassifier",
          "XGBClassifier",
          "XGBClassifier",
          "XGBClassifier",
          "XGBClassifier",
          "XGBClassifier",
          "XGBClassifier",
          "XGBClassifier",
          "XGBClassifier",
          "XGBClassifier",
          "XGBClassifier",
          "XGBClassifier",
          "XGBClassifier",
          "XGBClassifier",
          "XGBClassifier"
         ],
         "legendgroup": "XGBClassifier",
         "line": {
          "color": "#46bac2",
          "dash": "solid",
          "width": 2
         },
         "marker": {
          "symbol": "circle"
         },
         "mode": "lines",
         "name": "XGBClassifier",
         "orientation": "v",
         "showlegend": false,
         "x": [
          126.0,
          130.38,
          134.76,
          139.14,
          143.52,
          147.9,
          152.28,
          156.66,
          161.04,
          165.42000000000002,
          169.8,
          174.18,
          178.56,
          182.94,
          187.32,
          191.7,
          196.07999999999998,
          200.45999999999998,
          204.84,
          209.22,
          213.6,
          217.98000000000002,
          222.36,
          226.74,
          231.12,
          235.5,
          239.88,
          244.26,
          248.64,
          253.01999999999998,
          257.4,
          261.78,
          266.15999999999997,
          270.53999999999996,
          274.91999999999996,
          279.29999999999995,
          283.68,
          288.06,
          292.44,
          296.82,
          301.2,
          305.58,
          309.96000000000004,
          314.34000000000003,
          318.72,
          323.1,
          327.48,
          331.86,
          336.24,
          340.62,
          345.0,
          349.38,
          353.76,
          358.14,
          362.52,
          366.9,
          371.28,
          375.65999999999997,
          380.03999999999996,
          384.42,
          388.8,
          393.18,
          397.56,
          401.94,
          406.32,
          410.7,
          415.08,
          419.46,
          423.84,
          428.21999999999997,
          432.59999999999997,
          436.98,
          441.36,
          445.74,
          450.12,
          454.5,
          458.88,
          463.26,
          467.64,
          472.02,
          476.4,
          480.78,
          485.15999999999997,
          489.53999999999996,
          493.92,
          498.3,
          502.68,
          507.06,
          511.44,
          515.8199999999999,
          520.2,
          524.5799999999999,
          528.96,
          533.3399999999999,
          537.72,
          542.0999999999999,
          546.48,
          550.86,
          555.24,
          559.62,
          564.0
         ],
         "xaxis": "x",
         "y": [
          0.5701403617858887,
          0.5701403617858887,
          0.5701403617858887,
          0.5701403617858887,
          0.5701403617858887,
          0.5701403617858887,
          0.5701403617858887,
          0.5701403617858887,
          0.5701403617858887,
          0.5701403617858887,
          0.5701403617858887,
          0.5701403617858887,
          0.5753539800643921,
          0.5753539800643921,
          0.5753539800643921,
          0.5753539800643921,
          0.5753539800643921,
          0.5753539800643921,
          0.5731664896011353,
          0.5840122699737549,
          0.586948573589325,
          0.5836284160614014,
          0.5784026980400085,
          0.5735617280006409,
          0.5483963489532471,
          0.5455866456031799,
          0.5237227082252502,
          0.5196309685707092,
          0.5068932175636292,
          0.504570484161377,
          0.5092092156410217,
          0.5310050249099731,
          0.5330346822738647,
          0.5367779731750488,
          0.4918373227119446,
          0.48163318634033203,
          0.48163318634033203,
          0.48163318634033203,
          0.48163318634033203,
          0.49419692158699036,
          0.49150222539901733,
          0.49031683802604675,
          0.49031683802604675,
          0.49031683802604675,
          0.4864460825920105,
          0.4864460825920105,
          0.4864460825920105,
          0.48156407475471497,
          0.48156407475471497,
          0.48156407475471497,
          0.48156407475471497,
          0.48156407475471497,
          0.48156407475471497,
          0.48156407475471497,
          0.48156407475471497,
          0.48156407475471497,
          0.48156407475471497,
          0.48156407475471497,
          0.48156407475471497,
          0.48156407475471497,
          0.48156407475471497,
          0.48156407475471497,
          0.48156407475471497,
          0.48156407475471497,
          0.48156407475471497,
          0.48156407475471497,
          0.48156407475471497,
          0.48156407475471497,
          0.48156407475471497,
          0.48156407475471497,
          0.48156407475471497,
          0.48156407475471497,
          0.48156407475471497,
          0.48156407475471497,
          0.48156407475471497,
          0.48156407475471497,
          0.48156407475471497,
          0.48156407475471497,
          0.48156407475471497,
          0.48156407475471497,
          0.48156407475471497,
          0.48156407475471497,
          0.48156407475471497,
          0.48156407475471497,
          0.48156407475471497,
          0.48156407475471497,
          0.48156407475471497,
          0.48156407475471497,
          0.48156407475471497,
          0.48156407475471497,
          0.48156407475471497,
          0.48156407475471497,
          0.48156407475471497,
          0.48156407475471497,
          0.48156407475471497,
          0.48156407475471497,
          0.48156407475471497,
          0.48156407475471497,
          0.48156407475471497,
          0.48156407475471497,
          0.48156407475471497
         ],
         "yaxis": "y",
         "type": "scatter",
         "opacity": 1
        }
       ],
       "layout": {
        "template": {
         "data": {
          "scatter": [
           {
            "type": "scatter"
           }
          ]
         }
        },
        "xaxis": {
         "anchor": "y",
         "domain": [
          0.0,
          0.475
         ],
         "title": {
          "text": ""
         },
         "showticklabels": true,
         "type": "linear",
         "gridwidth": 2,
         "zeroline": false,
         "automargin": true,
         "ticks": "outside",
         "tickcolor": "white",
         "ticklen": 3,
         "fixedrange": true
        },
        "yaxis": {
         "anchor": "x",
         "domain": [
          0.0,
          0.425
         ],
         "title": {
          "text": ""
         },
         "range": [
          0.4620267480611801,
          0.6302899092435836
         ],
         "type": "linear",
         "gridwidth": 2,
         "zeroline": false,
         "automargin": true,
         "ticks": "outside",
         "tickcolor": "white",
         "ticklen": 3,
         "fixedrange": true
        },
        "xaxis2": {
         "anchor": "y2",
         "domain": [
          0.525,
          1.0
         ],
         "title": {
          "text": ""
         },
         "showticklabels": true,
         "type": "linear",
         "gridwidth": 2,
         "zeroline": false,
         "automargin": true,
         "ticks": "outside",
         "tickcolor": "white",
         "ticklen": 3,
         "fixedrange": true
        },
        "yaxis2": {
         "anchor": "x2",
         "domain": [
          0.0,
          0.425
         ],
         "matches": "y",
         "showticklabels": false,
         "type": "linear",
         "gridwidth": 2,
         "zeroline": false,
         "automargin": true,
         "ticks": "outside",
         "tickcolor": "white",
         "ticklen": 3,
         "fixedrange": true,
         "title": {
          "text": ""
         }
        },
        "xaxis3": {
         "anchor": "y3",
         "domain": [
          0.0,
          0.475
         ],
         "showticklabels": true,
         "type": "linear",
         "gridwidth": 2,
         "zeroline": false,
         "automargin": true,
         "ticks": "outside",
         "tickcolor": "white",
         "ticklen": 3,
         "fixedrange": true,
         "title": {
          "text": ""
         }
        },
        "yaxis3": {
         "anchor": "x3",
         "domain": [
          0.575,
          1.0
         ],
         "matches": "y",
         "title": {
          "text": ""
         },
         "range": [
          0.4620267480611801,
          0.6302899092435836
         ],
         "type": "linear",
         "gridwidth": 2,
         "zeroline": false,
         "automargin": true,
         "ticks": "outside",
         "tickcolor": "white",
         "ticklen": 3,
         "fixedrange": true
        },
        "xaxis4": {
         "anchor": "y4",
         "domain": [
          0.525,
          1.0
         ],
         "showticklabels": true,
         "type": "linear",
         "gridwidth": 2,
         "zeroline": false,
         "automargin": true,
         "ticks": "outside",
         "tickcolor": "white",
         "ticklen": 3,
         "fixedrange": true,
         "title": {
          "text": ""
         }
        },
        "yaxis4": {
         "anchor": "x4",
         "domain": [
          0.575,
          1.0
         ],
         "matches": "y",
         "showticklabels": false,
         "type": "linear",
         "gridwidth": 2,
         "zeroline": false,
         "automargin": true,
         "ticks": "outside",
         "tickcolor": "white",
         "ticklen": 3,
         "fixedrange": true,
         "title": {
          "text": ""
         }
        },
        "annotations": [
         {
          "font": {
           "size": 13
          },
          "showarrow": false,
          "text": "chol",
          "x": 0.2375,
          "xanchor": "center",
          "xref": "paper",
          "y": 0.425,
          "yanchor": "bottom",
          "yref": "paper"
         },
         {
          "font": {
           "size": 13
          },
          "showarrow": false,
          "text": "age",
          "x": 0.2375,
          "xanchor": "center",
          "xref": "paper",
          "y": 1.0,
          "yanchor": "bottom",
          "yref": "paper"
         },
         {
          "font": {
           "size": 13
          },
          "showarrow": false,
          "text": "sex",
          "x": 0.7625,
          "xanchor": "center",
          "xref": "paper",
          "y": 1.0,
          "yanchor": "bottom",
          "yref": "paper"
         },
         {
          "font": {
           "size": 13
          },
          "showarrow": false,
          "text": "prediction",
          "textangle": -90,
          "x": -0.07,
          "xref": "paper",
          "y": 0.5,
          "yref": "paper"
         }
        ],
        "legend": {
         "title": {
          "text": "label",
          "font": {
           "size": 12
          }
         },
         "tracegroupgap": 0,
         "font": {
          "size": 11
         },
         "orientation": "h",
         "yanchor": "bottom",
         "y": 1.0361881785283473,
         "xanchor": "right",
         "x": 1,
         "itemsizing": "constant"
        },
        "margin": {
         "t": 78,
         "b": 71,
         "r": 30
        },
        "font": {
         "color": "#371ea3"
        },
        "title": {
         "font": {
          "size": 16
         },
         "text": "Aggregated Profiles",
         "x": 0.15
        },
        "hovermode": "x unified",
        "height": 829
       },
       "config": {
        "displaylogo": false,
        "staticPlot": false,
        "toImageButtonOptions": {
         "height": null,
         "width": null
        },
        "modeBarButtonsToRemove": [
         "sendDataToCloud",
         "lasso2d",
         "autoScale2d",
         "select2d",
         "zoom2d",
         "pan2d",
         "zoomIn2d",
         "zoomOut2d",
         "resetScale2d",
         "toggleSpikelines",
         "hoverCompareCartesian",
         "hoverClosestCartesian"
        ],
        "plotlyServerURL": "https://plot.ly"
       }
      },
      "text/html": "<div>                            <div id=\"ff304747-4a9f-4805-a6e2-bd3171fcde95\" class=\"plotly-graph-div\" style=\"height:829px; width:100%;\"></div>            <script type=\"text/javascript\">                require([\"plotly\"], function(Plotly) {                    window.PLOTLYENV=window.PLOTLYENV || {};                                    if (document.getElementById(\"ff304747-4a9f-4805-a6e2-bd3171fcde95\")) {                    Plotly.newPlot(                        \"ff304747-4a9f-4805-a6e2-bd3171fcde95\",                        [{\"customdata\":[[0.5432924628257751,\"XGBClassifier\",\"age\"],[0.5432924628257751,\"XGBClassifier\",\"age\"],[0.5432924628257751,\"XGBClassifier\",\"age\"],[0.5432924628257751,\"XGBClassifier\",\"age\"],[0.5432924628257751,\"XGBClassifier\",\"age\"],[0.5432924628257751,\"XGBClassifier\",\"age\"],[0.5432924628257751,\"XGBClassifier\",\"age\"],[0.5432924628257751,\"XGBClassifier\",\"age\"],[0.5432924628257751,\"XGBClassifier\",\"age\"],[0.5432924628257751,\"XGBClassifier\",\"age\"],[0.5432924628257751,\"XGBClassifier\",\"age\"],[0.5432924628257751,\"XGBClassifier\",\"age\"],[0.5432924628257751,\"XGBClassifier\",\"age\"],[0.5432924628257751,\"XGBClassifier\",\"age\"],[0.5432924628257751,\"XGBClassifier\",\"age\"],[0.5432924628257751,\"XGBClassifier\",\"age\"],[0.5432924628257751,\"XGBClassifier\",\"age\"],[0.5432924628257751,\"XGBClassifier\",\"age\"],[0.5432924628257751,\"XGBClassifier\",\"age\"],[0.5432924628257751,\"XGBClassifier\",\"age\"],[0.5432924628257751,\"XGBClassifier\",\"age\"],[0.5432924628257751,\"XGBClassifier\",\"age\"],[0.5432924628257751,\"XGBClassifier\",\"age\"],[0.5432924628257751,\"XGBClassifier\",\"age\"],[0.5432924628257751,\"XGBClassifier\",\"age\"],[0.5432924628257751,\"XGBClassifier\",\"age\"],[0.5432924628257751,\"XGBClassifier\",\"age\"],[0.5432924628257751,\"XGBClassifier\",\"age\"],[0.5432924628257751,\"XGBClassifier\",\"age\"],[0.5432924628257751,\"XGBClassifier\",\"age\"],[0.5432924628257751,\"XGBClassifier\",\"age\"],[0.5432924628257751,\"XGBClassifier\",\"age\"],[0.5432924628257751,\"XGBClassifier\",\"age\"],[0.5432924628257751,\"XGBClassifier\",\"age\"],[0.5432924628257751,\"XGBClassifier\",\"age\"],[0.5432924628257751,\"XGBClassifier\",\"age\"],[0.5432924628257751,\"XGBClassifier\",\"age\"],[0.5432924628257751,\"XGBClassifier\",\"age\"],[0.5432924628257751,\"XGBClassifier\",\"age\"],[0.5432924628257751,\"XGBClassifier\",\"age\"],[0.5432924628257751,\"XGBClassifier\",\"age\"],[0.5432924628257751,\"XGBClassifier\",\"age\"],[0.5432924628257751,\"XGBClassifier\",\"age\"],[0.5432924628257751,\"XGBClassifier\",\"age\"],[0.5432924628257751,\"XGBClassifier\",\"age\"],[0.5432924628257751,\"XGBClassifier\",\"age\"],[0.5432924628257751,\"XGBClassifier\",\"age\"],[0.5432924628257751,\"XGBClassifier\",\"age\"],[0.5432924628257751,\"XGBClassifier\",\"age\"],[0.5432924628257751,\"XGBClassifier\",\"age\"],[0.5432924628257751,\"XGBClassifier\",\"age\"],[0.5432924628257751,\"XGBClassifier\",\"age\"],[0.5432924628257751,\"XGBClassifier\",\"age\"],[0.5432924628257751,\"XGBClassifier\",\"age\"],[0.5432924628257751,\"XGBClassifier\",\"age\"],[0.5432924628257751,\"XGBClassifier\",\"age\"],[0.5432924628257751,\"XGBClassifier\",\"age\"],[0.5432924628257751,\"XGBClassifier\",\"age\"],[0.5432924628257751,\"XGBClassifier\",\"age\"],[0.5432924628257751,\"XGBClassifier\",\"age\"],[0.5432924628257751,\"XGBClassifier\",\"age\"],[0.5432924628257751,\"XGBClassifier\",\"age\"],[0.5432924628257751,\"XGBClassifier\",\"age\"],[0.5432924628257751,\"XGBClassifier\",\"age\"],[0.5432924628257751,\"XGBClassifier\",\"age\"],[0.5432924628257751,\"XGBClassifier\",\"age\"],[0.5432924628257751,\"XGBClassifier\",\"age\"],[0.5432924628257751,\"XGBClassifier\",\"age\"],[0.5432924628257751,\"XGBClassifier\",\"age\"],[0.5432924628257751,\"XGBClassifier\",\"age\"],[0.5432924628257751,\"XGBClassifier\",\"age\"],[0.5432924628257751,\"XGBClassifier\",\"age\"],[0.5432924628257751,\"XGBClassifier\",\"age\"],[0.5432924628257751,\"XGBClassifier\",\"age\"],[0.5432924628257751,\"XGBClassifier\",\"age\"],[0.5432924628257751,\"XGBClassifier\",\"age\"],[0.5432924628257751,\"XGBClassifier\",\"age\"],[0.5432924628257751,\"XGBClassifier\",\"age\"],[0.5432924628257751,\"XGBClassifier\",\"age\"],[0.5432924628257751,\"XGBClassifier\",\"age\"],[0.5432924628257751,\"XGBClassifier\",\"age\"],[0.5432924628257751,\"XGBClassifier\",\"age\"],[0.5432924628257751,\"XGBClassifier\",\"age\"],[0.5432924628257751,\"XGBClassifier\",\"age\"],[0.5432924628257751,\"XGBClassifier\",\"age\"],[0.5432924628257751,\"XGBClassifier\",\"age\"],[0.5432924628257751,\"XGBClassifier\",\"age\"],[0.5432924628257751,\"XGBClassifier\",\"age\"],[0.5432924628257751,\"XGBClassifier\",\"age\"],[0.5432924628257751,\"XGBClassifier\",\"age\"],[0.5432924628257751,\"XGBClassifier\",\"age\"],[0.5432924628257751,\"XGBClassifier\",\"age\"],[0.5432924628257751,\"XGBClassifier\",\"age\"],[0.5432924628257751,\"XGBClassifier\",\"age\"],[0.5432924628257751,\"XGBClassifier\",\"age\"],[0.5432924628257751,\"XGBClassifier\",\"age\"],[0.5432924628257751,\"XGBClassifier\",\"age\"],[0.5432924628257751,\"XGBClassifier\",\"age\"],[0.5432924628257751,\"XGBClassifier\",\"age\"],[0.5432924628257751,\"XGBClassifier\",\"age\"],[0.5432924628257751,\"XGBClassifier\",\"age\"]],\"hovertemplate\":\"<b>%{hovertext}</b><br><br>prediction=%{y:.3f}<br>mean_prediction=%{customdata[0]:.3f}<extra></extra>\",\"hovertext\":[\"XGBClassifier\",\"XGBClassifier\",\"XGBClassifier\",\"XGBClassifier\",\"XGBClassifier\",\"XGBClassifier\",\"XGBClassifier\",\"XGBClassifier\",\"XGBClassifier\",\"XGBClassifier\",\"XGBClassifier\",\"XGBClassifier\",\"XGBClassifier\",\"XGBClassifier\",\"XGBClassifier\",\"XGBClassifier\",\"XGBClassifier\",\"XGBClassifier\",\"XGBClassifier\",\"XGBClassifier\",\"XGBClassifier\",\"XGBClassifier\",\"XGBClassifier\",\"XGBClassifier\",\"XGBClassifier\",\"XGBClassifier\",\"XGBClassifier\",\"XGBClassifier\",\"XGBClassifier\",\"XGBClassifier\",\"XGBClassifier\",\"XGBClassifier\",\"XGBClassifier\",\"XGBClassifier\",\"XGBClassifier\",\"XGBClassifier\",\"XGBClassifier\",\"XGBClassifier\",\"XGBClassifier\",\"XGBClassifier\",\"XGBClassifier\",\"XGBClassifier\",\"XGBClassifier\",\"XGBClassifier\",\"XGBClassifier\",\"XGBClassifier\",\"XGBClassifier\",\"XGBClassifier\",\"XGBClassifier\",\"XGBClassifier\",\"XGBClassifier\",\"XGBClassifier\",\"XGBClassifier\",\"XGBClassifier\",\"XGBClassifier\",\"XGBClassifier\",\"XGBClassifier\",\"XGBClassifier\",\"XGBClassifier\",\"XGBClassifier\",\"XGBClassifier\",\"XGBClassifier\",\"XGBClassifier\",\"XGBClassifier\",\"XGBClassifier\",\"XGBClassifier\",\"XGBClassifier\",\"XGBClassifier\",\"XGBClassifier\",\"XGBClassifier\",\"XGBClassifier\",\"XGBClassifier\",\"XGBClassifier\",\"XGBClassifier\",\"XGBClassifier\",\"XGBClassifier\",\"XGBClassifier\",\"XGBClassifier\",\"XGBClassifier\",\"XGBClassifier\",\"XGBClassifier\",\"XGBClassifier\",\"XGBClassifier\",\"XGBClassifier\",\"XGBClassifier\",\"XGBClassifier\",\"XGBClassifier\",\"XGBClassifier\",\"XGBClassifier\",\"XGBClassifier\",\"XGBClassifier\",\"XGBClassifier\",\"XGBClassifier\",\"XGBClassifier\",\"XGBClassifier\",\"XGBClassifier\",\"XGBClassifier\",\"XGBClassifier\",\"XGBClassifier\",\"XGBClassifier\",\"XGBClassifier\"],\"legendgroup\":\"XGBClassifier\",\"line\":{\"color\":\"#46bac2\",\"dash\":\"solid\",\"width\":2},\"marker\":{\"symbol\":\"circle\"},\"mode\":\"lines\",\"name\":\"XGBClassifier\",\"orientation\":\"v\",\"showlegend\":true,\"x\":[29.0,29.48,29.96,30.44,30.92,31.4,31.88,32.36,32.84,33.32,33.8,34.28,34.76,35.24,35.72,36.2,36.68,37.16,37.64,38.12,38.6,39.08,39.56,40.04,40.519999999999996,41.0,41.480000000000004,41.96,42.44,42.92,43.4,43.879999999999995,44.36,44.84,45.32,45.8,46.28,46.76,47.239999999999995,47.72,48.2,48.68,49.16,49.64,50.12,50.599999999999994,51.08,51.56,52.04,52.519999999999996,53.0,53.480000000000004,53.96,54.44,54.92,55.4,55.879999999999995,56.36,56.84,57.32,57.8,58.28,58.76,59.239999999999995,59.72,60.2,60.68,61.16,61.64,62.12,62.6,63.08,63.56,64.03999999999999,64.52,65.0,65.47999999999999,65.96000000000001,66.44,66.92,67.4,67.88,68.36,68.84,69.32,69.8,70.28,70.75999999999999,71.24,71.72,72.19999999999999,72.68,73.16,73.64,74.12,74.6,75.08,75.56,76.03999999999999,76.52,77.0],\"xaxis\":\"x3\",\"y\":[0.5595170855522156,0.5595170855522156,0.5595170855522156,0.5595170855522156,0.5595170855522156,0.5595170855522156,0.5595170855522156,0.5595170855522156,0.5595170855522156,0.5595170855522156,0.5595170855522156,0.5595170855522156,0.5595170855522156,0.5595170855522156,0.5595170855522156,0.5595170855522156,0.5595170855522156,0.5595170855522156,0.5595170855522156,0.5595170855522156,0.5595170855522156,0.5595170855522156,0.5595170855522156,0.5595170855522156,0.5624421238899231,0.5624421238899231,0.5624421238899231,0.5646842122077942,0.5646842122077942,0.5646842122077942,0.5646842122077942,0.5646842122077942,0.5646842122077942,0.5646842122077942,0.5646842122077942,0.5551941990852356,0.5551941990852356,0.5470235347747803,0.5470235347747803,0.5491712689399719,0.5491712689399719,0.5491712689399719,0.5507722496986389,0.5571693181991577,0.5595619082450867,0.5899465084075928,0.5899465084075928,0.5882051587104797,0.5894863605499268,0.5973522663116455,0.5940709710121155,0.5940709710121155,0.5940709710121155,0.5940709710121155,0.5819844603538513,0.5819844603538513,0.5791517496109009,0.5791517496109009,0.5419108867645264,0.5419108867645264,0.48023462295532227,0.4793669581413269,0.4826168715953827,0.4826168715953827,0.47604867815971375,0.47604867815971375,0.47721922397613525,0.47721922397613525,0.4817861318588257,0.4817861318588257,0.48858216404914856,0.487441748380661,0.5402754545211792,0.5402754545211792,0.5436854958534241,0.5436854958534241,0.5436854958534241,0.5364366769790649,0.5364366769790649,0.5364366769790649,0.5364366769790649,0.5364366769790649,0.5407859683036804,0.5407859683036804,0.5407859683036804,0.5407859683036804,0.5407859683036804,0.5407859683036804,0.5407859683036804,0.5407859683036804,0.5407859683036804,0.5407859683036804,0.5407859683036804,0.5407859683036804,0.5407859683036804,0.5407859683036804,0.5407859683036804,0.5407859683036804,0.5407859683036804,0.5407859683036804,0.5407859683036804],\"yaxis\":\"y3\",\"type\":\"scatter\",\"opacity\":1},{\"customdata\":[[0.5432924628257751,\"XGBClassifier\",\"sex\"],[0.5432924628257751,\"XGBClassifier\",\"sex\"],[0.5432924628257751,\"XGBClassifier\",\"sex\"],[0.5432924628257751,\"XGBClassifier\",\"sex\"],[0.5432924628257751,\"XGBClassifier\",\"sex\"],[0.5432924628257751,\"XGBClassifier\",\"sex\"],[0.5432924628257751,\"XGBClassifier\",\"sex\"],[0.5432924628257751,\"XGBClassifier\",\"sex\"],[0.5432924628257751,\"XGBClassifier\",\"sex\"],[0.5432924628257751,\"XGBClassifier\",\"sex\"],[0.5432924628257751,\"XGBClassifier\",\"sex\"],[0.5432924628257751,\"XGBClassifier\",\"sex\"],[0.5432924628257751,\"XGBClassifier\",\"sex\"],[0.5432924628257751,\"XGBClassifier\",\"sex\"],[0.5432924628257751,\"XGBClassifier\",\"sex\"],[0.5432924628257751,\"XGBClassifier\",\"sex\"],[0.5432924628257751,\"XGBClassifier\",\"sex\"],[0.5432924628257751,\"XGBClassifier\",\"sex\"],[0.5432924628257751,\"XGBClassifier\",\"sex\"],[0.5432924628257751,\"XGBClassifier\",\"sex\"],[0.5432924628257751,\"XGBClassifier\",\"sex\"],[0.5432924628257751,\"XGBClassifier\",\"sex\"],[0.5432924628257751,\"XGBClassifier\",\"sex\"],[0.5432924628257751,\"XGBClassifier\",\"sex\"],[0.5432924628257751,\"XGBClassifier\",\"sex\"],[0.5432924628257751,\"XGBClassifier\",\"sex\"],[0.5432924628257751,\"XGBClassifier\",\"sex\"],[0.5432924628257751,\"XGBClassifier\",\"sex\"],[0.5432924628257751,\"XGBClassifier\",\"sex\"],[0.5432924628257751,\"XGBClassifier\",\"sex\"],[0.5432924628257751,\"XGBClassifier\",\"sex\"],[0.5432924628257751,\"XGBClassifier\",\"sex\"],[0.5432924628257751,\"XGBClassifier\",\"sex\"],[0.5432924628257751,\"XGBClassifier\",\"sex\"],[0.5432924628257751,\"XGBClassifier\",\"sex\"],[0.5432924628257751,\"XGBClassifier\",\"sex\"],[0.5432924628257751,\"XGBClassifier\",\"sex\"],[0.5432924628257751,\"XGBClassifier\",\"sex\"],[0.5432924628257751,\"XGBClassifier\",\"sex\"],[0.5432924628257751,\"XGBClassifier\",\"sex\"],[0.5432924628257751,\"XGBClassifier\",\"sex\"],[0.5432924628257751,\"XGBClassifier\",\"sex\"],[0.5432924628257751,\"XGBClassifier\",\"sex\"],[0.5432924628257751,\"XGBClassifier\",\"sex\"],[0.5432924628257751,\"XGBClassifier\",\"sex\"],[0.5432924628257751,\"XGBClassifier\",\"sex\"],[0.5432924628257751,\"XGBClassifier\",\"sex\"],[0.5432924628257751,\"XGBClassifier\",\"sex\"],[0.5432924628257751,\"XGBClassifier\",\"sex\"],[0.5432924628257751,\"XGBClassifier\",\"sex\"],[0.5432924628257751,\"XGBClassifier\",\"sex\"],[0.5432924628257751,\"XGBClassifier\",\"sex\"],[0.5432924628257751,\"XGBClassifier\",\"sex\"],[0.5432924628257751,\"XGBClassifier\",\"sex\"],[0.5432924628257751,\"XGBClassifier\",\"sex\"],[0.5432924628257751,\"XGBClassifier\",\"sex\"],[0.5432924628257751,\"XGBClassifier\",\"sex\"],[0.5432924628257751,\"XGBClassifier\",\"sex\"],[0.5432924628257751,\"XGBClassifier\",\"sex\"],[0.5432924628257751,\"XGBClassifier\",\"sex\"],[0.5432924628257751,\"XGBClassifier\",\"sex\"],[0.5432924628257751,\"XGBClassifier\",\"sex\"],[0.5432924628257751,\"XGBClassifier\",\"sex\"],[0.5432924628257751,\"XGBClassifier\",\"sex\"],[0.5432924628257751,\"XGBClassifier\",\"sex\"],[0.5432924628257751,\"XGBClassifier\",\"sex\"],[0.5432924628257751,\"XGBClassifier\",\"sex\"],[0.5432924628257751,\"XGBClassifier\",\"sex\"],[0.5432924628257751,\"XGBClassifier\",\"sex\"],[0.5432924628257751,\"XGBClassifier\",\"sex\"],[0.5432924628257751,\"XGBClassifier\",\"sex\"],[0.5432924628257751,\"XGBClassifier\",\"sex\"],[0.5432924628257751,\"XGBClassifier\",\"sex\"],[0.5432924628257751,\"XGBClassifier\",\"sex\"],[0.5432924628257751,\"XGBClassifier\",\"sex\"],[0.5432924628257751,\"XGBClassifier\",\"sex\"],[0.5432924628257751,\"XGBClassifier\",\"sex\"],[0.5432924628257751,\"XGBClassifier\",\"sex\"],[0.5432924628257751,\"XGBClassifier\",\"sex\"],[0.5432924628257751,\"XGBClassifier\",\"sex\"],[0.5432924628257751,\"XGBClassifier\",\"sex\"],[0.5432924628257751,\"XGBClassifier\",\"sex\"],[0.5432924628257751,\"XGBClassifier\",\"sex\"],[0.5432924628257751,\"XGBClassifier\",\"sex\"],[0.5432924628257751,\"XGBClassifier\",\"sex\"],[0.5432924628257751,\"XGBClassifier\",\"sex\"],[0.5432924628257751,\"XGBClassifier\",\"sex\"],[0.5432924628257751,\"XGBClassifier\",\"sex\"],[0.5432924628257751,\"XGBClassifier\",\"sex\"],[0.5432924628257751,\"XGBClassifier\",\"sex\"],[0.5432924628257751,\"XGBClassifier\",\"sex\"],[0.5432924628257751,\"XGBClassifier\",\"sex\"],[0.5432924628257751,\"XGBClassifier\",\"sex\"],[0.5432924628257751,\"XGBClassifier\",\"sex\"],[0.5432924628257751,\"XGBClassifier\",\"sex\"],[0.5432924628257751,\"XGBClassifier\",\"sex\"],[0.5432924628257751,\"XGBClassifier\",\"sex\"],[0.5432924628257751,\"XGBClassifier\",\"sex\"],[0.5432924628257751,\"XGBClassifier\",\"sex\"],[0.5432924628257751,\"XGBClassifier\",\"sex\"],[0.5432924628257751,\"XGBClassifier\",\"sex\"]],\"hovertemplate\":\"<b>%{hovertext}</b><br><br>prediction=%{y:.3f}<br>mean_prediction=%{customdata[0]:.3f}<extra></extra>\",\"hovertext\":[\"XGBClassifier\",\"XGBClassifier\",\"XGBClassifier\",\"XGBClassifier\",\"XGBClassifier\",\"XGBClassifier\",\"XGBClassifier\",\"XGBClassifier\",\"XGBClassifier\",\"XGBClassifier\",\"XGBClassifier\",\"XGBClassifier\",\"XGBClassifier\",\"XGBClassifier\",\"XGBClassifier\",\"XGBClassifier\",\"XGBClassifier\",\"XGBClassifier\",\"XGBClassifier\",\"XGBClassifier\",\"XGBClassifier\",\"XGBClassifier\",\"XGBClassifier\",\"XGBClassifier\",\"XGBClassifier\",\"XGBClassifier\",\"XGBClassifier\",\"XGBClassifier\",\"XGBClassifier\",\"XGBClassifier\",\"XGBClassifier\",\"XGBClassifier\",\"XGBClassifier\",\"XGBClassifier\",\"XGBClassifier\",\"XGBClassifier\",\"XGBClassifier\",\"XGBClassifier\",\"XGBClassifier\",\"XGBClassifier\",\"XGBClassifier\",\"XGBClassifier\",\"XGBClassifier\",\"XGBClassifier\",\"XGBClassifier\",\"XGBClassifier\",\"XGBClassifier\",\"XGBClassifier\",\"XGBClassifier\",\"XGBClassifier\",\"XGBClassifier\",\"XGBClassifier\",\"XGBClassifier\",\"XGBClassifier\",\"XGBClassifier\",\"XGBClassifier\",\"XGBClassifier\",\"XGBClassifier\",\"XGBClassifier\",\"XGBClassifier\",\"XGBClassifier\",\"XGBClassifier\",\"XGBClassifier\",\"XGBClassifier\",\"XGBClassifier\",\"XGBClassifier\",\"XGBClassifier\",\"XGBClassifier\",\"XGBClassifier\",\"XGBClassifier\",\"XGBClassifier\",\"XGBClassifier\",\"XGBClassifier\",\"XGBClassifier\",\"XGBClassifier\",\"XGBClassifier\",\"XGBClassifier\",\"XGBClassifier\",\"XGBClassifier\",\"XGBClassifier\",\"XGBClassifier\",\"XGBClassifier\",\"XGBClassifier\",\"XGBClassifier\",\"XGBClassifier\",\"XGBClassifier\",\"XGBClassifier\",\"XGBClassifier\",\"XGBClassifier\",\"XGBClassifier\",\"XGBClassifier\",\"XGBClassifier\",\"XGBClassifier\",\"XGBClassifier\",\"XGBClassifier\",\"XGBClassifier\",\"XGBClassifier\",\"XGBClassifier\",\"XGBClassifier\",\"XGBClassifier\",\"XGBClassifier\"],\"legendgroup\":\"XGBClassifier\",\"line\":{\"color\":\"#46bac2\",\"dash\":\"solid\",\"width\":2},\"marker\":{\"symbol\":\"circle\"},\"mode\":\"lines\",\"name\":\"XGBClassifier\",\"orientation\":\"v\",\"showlegend\":false,\"x\":[0.0,0.01,0.02,0.03,0.04,0.05,0.06,0.07,0.08,0.09,0.1,0.11,0.12,0.13,0.14,0.15,0.16,0.17,0.18,0.19,0.2,0.21,0.22,0.23,0.24,0.25,0.26,0.27,0.28,0.29,0.3,0.31,0.32,0.33,0.34,0.35000000000000003,0.36,0.37,0.38,0.39,0.4,0.41000000000000003,0.42,0.43,0.44,0.45,0.46,0.47000000000000003,0.48,0.49,0.5,0.51,0.52,0.53,0.54,0.55,0.56,0.5700000000000001,0.58,0.59,0.6,0.61,0.62,0.63,0.64,0.65,0.66,0.67,0.68,0.6900000000000001,0.7000000000000001,0.71,0.72,0.73,0.74,0.75,0.76,0.77,0.78,0.79,0.8,0.81,0.8200000000000001,0.8300000000000001,0.84,0.85,0.86,0.87,0.88,0.89,0.9,0.91,0.92,0.93,0.9400000000000001,0.9500000000000001,0.96,0.97,0.98,0.99,1.0],\"xaxis\":\"x4\",\"y\":[0.61626797914505,0.61626797914505,0.61626797914505,0.61626797914505,0.61626797914505,0.61626797914505,0.61626797914505,0.61626797914505,0.61626797914505,0.61626797914505,0.61626797914505,0.61626797914505,0.61626797914505,0.61626797914505,0.61626797914505,0.61626797914505,0.61626797914505,0.61626797914505,0.61626797914505,0.61626797914505,0.61626797914505,0.61626797914505,0.61626797914505,0.61626797914505,0.61626797914505,0.61626797914505,0.61626797914505,0.61626797914505,0.61626797914505,0.61626797914505,0.61626797914505,0.61626797914505,0.61626797914505,0.61626797914505,0.61626797914505,0.61626797914505,0.61626797914505,0.61626797914505,0.61626797914505,0.61626797914505,0.61626797914505,0.61626797914505,0.61626797914505,0.61626797914505,0.61626797914505,0.61626797914505,0.61626797914505,0.61626797914505,0.61626797914505,0.61626797914505,0.4885883629322052,0.4885883629322052,0.4885883629322052,0.4885883629322052,0.4885883629322052,0.4885883629322052,0.4885883629322052,0.4885883629322052,0.4885883629322052,0.4885883629322052,0.4885883629322052,0.4885883629322052,0.4885883629322052,0.4885883629322052,0.4885883629322052,0.4885883629322052,0.4885883629322052,0.4885883629322052,0.4885883629322052,0.4885883629322052,0.4885883629322052,0.4885883629322052,0.4885883629322052,0.4885883629322052,0.4885883629322052,0.4885883629322052,0.4885883629322052,0.4885883629322052,0.4885883629322052,0.4885883629322052,0.4885883629322052,0.4885883629322052,0.4885883629322052,0.4885883629322052,0.4885883629322052,0.4885883629322052,0.4885883629322052,0.4885883629322052,0.4885883629322052,0.4885883629322052,0.4885883629322052,0.4885883629322052,0.4885883629322052,0.4885883629322052,0.4885883629322052,0.4885883629322052,0.4885883629322052,0.4885883629322052,0.4885883629322052,0.4885883629322052,0.4885883629322052],\"yaxis\":\"y4\",\"type\":\"scatter\",\"opacity\":1},{\"customdata\":[[0.5432924628257751,\"XGBClassifier\",\"chol\"],[0.5432924628257751,\"XGBClassifier\",\"chol\"],[0.5432924628257751,\"XGBClassifier\",\"chol\"],[0.5432924628257751,\"XGBClassifier\",\"chol\"],[0.5432924628257751,\"XGBClassifier\",\"chol\"],[0.5432924628257751,\"XGBClassifier\",\"chol\"],[0.5432924628257751,\"XGBClassifier\",\"chol\"],[0.5432924628257751,\"XGBClassifier\",\"chol\"],[0.5432924628257751,\"XGBClassifier\",\"chol\"],[0.5432924628257751,\"XGBClassifier\",\"chol\"],[0.5432924628257751,\"XGBClassifier\",\"chol\"],[0.5432924628257751,\"XGBClassifier\",\"chol\"],[0.5432924628257751,\"XGBClassifier\",\"chol\"],[0.5432924628257751,\"XGBClassifier\",\"chol\"],[0.5432924628257751,\"XGBClassifier\",\"chol\"],[0.5432924628257751,\"XGBClassifier\",\"chol\"],[0.5432924628257751,\"XGBClassifier\",\"chol\"],[0.5432924628257751,\"XGBClassifier\",\"chol\"],[0.5432924628257751,\"XGBClassifier\",\"chol\"],[0.5432924628257751,\"XGBClassifier\",\"chol\"],[0.5432924628257751,\"XGBClassifier\",\"chol\"],[0.5432924628257751,\"XGBClassifier\",\"chol\"],[0.5432924628257751,\"XGBClassifier\",\"chol\"],[0.5432924628257751,\"XGBClassifier\",\"chol\"],[0.5432924628257751,\"XGBClassifier\",\"chol\"],[0.5432924628257751,\"XGBClassifier\",\"chol\"],[0.5432924628257751,\"XGBClassifier\",\"chol\"],[0.5432924628257751,\"XGBClassifier\",\"chol\"],[0.5432924628257751,\"XGBClassifier\",\"chol\"],[0.5432924628257751,\"XGBClassifier\",\"chol\"],[0.5432924628257751,\"XGBClassifier\",\"chol\"],[0.5432924628257751,\"XGBClassifier\",\"chol\"],[0.5432924628257751,\"XGBClassifier\",\"chol\"],[0.5432924628257751,\"XGBClassifier\",\"chol\"],[0.5432924628257751,\"XGBClassifier\",\"chol\"],[0.5432924628257751,\"XGBClassifier\",\"chol\"],[0.5432924628257751,\"XGBClassifier\",\"chol\"],[0.5432924628257751,\"XGBClassifier\",\"chol\"],[0.5432924628257751,\"XGBClassifier\",\"chol\"],[0.5432924628257751,\"XGBClassifier\",\"chol\"],[0.5432924628257751,\"XGBClassifier\",\"chol\"],[0.5432924628257751,\"XGBClassifier\",\"chol\"],[0.5432924628257751,\"XGBClassifier\",\"chol\"],[0.5432924628257751,\"XGBClassifier\",\"chol\"],[0.5432924628257751,\"XGBClassifier\",\"chol\"],[0.5432924628257751,\"XGBClassifier\",\"chol\"],[0.5432924628257751,\"XGBClassifier\",\"chol\"],[0.5432924628257751,\"XGBClassifier\",\"chol\"],[0.5432924628257751,\"XGBClassifier\",\"chol\"],[0.5432924628257751,\"XGBClassifier\",\"chol\"],[0.5432924628257751,\"XGBClassifier\",\"chol\"],[0.5432924628257751,\"XGBClassifier\",\"chol\"],[0.5432924628257751,\"XGBClassifier\",\"chol\"],[0.5432924628257751,\"XGBClassifier\",\"chol\"],[0.5432924628257751,\"XGBClassifier\",\"chol\"],[0.5432924628257751,\"XGBClassifier\",\"chol\"],[0.5432924628257751,\"XGBClassifier\",\"chol\"],[0.5432924628257751,\"XGBClassifier\",\"chol\"],[0.5432924628257751,\"XGBClassifier\",\"chol\"],[0.5432924628257751,\"XGBClassifier\",\"chol\"],[0.5432924628257751,\"XGBClassifier\",\"chol\"],[0.5432924628257751,\"XGBClassifier\",\"chol\"],[0.5432924628257751,\"XGBClassifier\",\"chol\"],[0.5432924628257751,\"XGBClassifier\",\"chol\"],[0.5432924628257751,\"XGBClassifier\",\"chol\"],[0.5432924628257751,\"XGBClassifier\",\"chol\"],[0.5432924628257751,\"XGBClassifier\",\"chol\"],[0.5432924628257751,\"XGBClassifier\",\"chol\"],[0.5432924628257751,\"XGBClassifier\",\"chol\"],[0.5432924628257751,\"XGBClassifier\",\"chol\"],[0.5432924628257751,\"XGBClassifier\",\"chol\"],[0.5432924628257751,\"XGBClassifier\",\"chol\"],[0.5432924628257751,\"XGBClassifier\",\"chol\"],[0.5432924628257751,\"XGBClassifier\",\"chol\"],[0.5432924628257751,\"XGBClassifier\",\"chol\"],[0.5432924628257751,\"XGBClassifier\",\"chol\"],[0.5432924628257751,\"XGBClassifier\",\"chol\"],[0.5432924628257751,\"XGBClassifier\",\"chol\"],[0.5432924628257751,\"XGBClassifier\",\"chol\"],[0.5432924628257751,\"XGBClassifier\",\"chol\"],[0.5432924628257751,\"XGBClassifier\",\"chol\"],[0.5432924628257751,\"XGBClassifier\",\"chol\"],[0.5432924628257751,\"XGBClassifier\",\"chol\"],[0.5432924628257751,\"XGBClassifier\",\"chol\"],[0.5432924628257751,\"XGBClassifier\",\"chol\"],[0.5432924628257751,\"XGBClassifier\",\"chol\"],[0.5432924628257751,\"XGBClassifier\",\"chol\"],[0.5432924628257751,\"XGBClassifier\",\"chol\"],[0.5432924628257751,\"XGBClassifier\",\"chol\"],[0.5432924628257751,\"XGBClassifier\",\"chol\"],[0.5432924628257751,\"XGBClassifier\",\"chol\"],[0.5432924628257751,\"XGBClassifier\",\"chol\"],[0.5432924628257751,\"XGBClassifier\",\"chol\"],[0.5432924628257751,\"XGBClassifier\",\"chol\"],[0.5432924628257751,\"XGBClassifier\",\"chol\"],[0.5432924628257751,\"XGBClassifier\",\"chol\"],[0.5432924628257751,\"XGBClassifier\",\"chol\"],[0.5432924628257751,\"XGBClassifier\",\"chol\"],[0.5432924628257751,\"XGBClassifier\",\"chol\"],[0.5432924628257751,\"XGBClassifier\",\"chol\"],[0.5432924628257751,\"XGBClassifier\",\"chol\"]],\"hovertemplate\":\"<b>%{hovertext}</b><br><br>prediction=%{y:.3f}<br>mean_prediction=%{customdata[0]:.3f}<extra></extra>\",\"hovertext\":[\"XGBClassifier\",\"XGBClassifier\",\"XGBClassifier\",\"XGBClassifier\",\"XGBClassifier\",\"XGBClassifier\",\"XGBClassifier\",\"XGBClassifier\",\"XGBClassifier\",\"XGBClassifier\",\"XGBClassifier\",\"XGBClassifier\",\"XGBClassifier\",\"XGBClassifier\",\"XGBClassifier\",\"XGBClassifier\",\"XGBClassifier\",\"XGBClassifier\",\"XGBClassifier\",\"XGBClassifier\",\"XGBClassifier\",\"XGBClassifier\",\"XGBClassifier\",\"XGBClassifier\",\"XGBClassifier\",\"XGBClassifier\",\"XGBClassifier\",\"XGBClassifier\",\"XGBClassifier\",\"XGBClassifier\",\"XGBClassifier\",\"XGBClassifier\",\"XGBClassifier\",\"XGBClassifier\",\"XGBClassifier\",\"XGBClassifier\",\"XGBClassifier\",\"XGBClassifier\",\"XGBClassifier\",\"XGBClassifier\",\"XGBClassifier\",\"XGBClassifier\",\"XGBClassifier\",\"XGBClassifier\",\"XGBClassifier\",\"XGBClassifier\",\"XGBClassifier\",\"XGBClassifier\",\"XGBClassifier\",\"XGBClassifier\",\"XGBClassifier\",\"XGBClassifier\",\"XGBClassifier\",\"XGBClassifier\",\"XGBClassifier\",\"XGBClassifier\",\"XGBClassifier\",\"XGBClassifier\",\"XGBClassifier\",\"XGBClassifier\",\"XGBClassifier\",\"XGBClassifier\",\"XGBClassifier\",\"XGBClassifier\",\"XGBClassifier\",\"XGBClassifier\",\"XGBClassifier\",\"XGBClassifier\",\"XGBClassifier\",\"XGBClassifier\",\"XGBClassifier\",\"XGBClassifier\",\"XGBClassifier\",\"XGBClassifier\",\"XGBClassifier\",\"XGBClassifier\",\"XGBClassifier\",\"XGBClassifier\",\"XGBClassifier\",\"XGBClassifier\",\"XGBClassifier\",\"XGBClassifier\",\"XGBClassifier\",\"XGBClassifier\",\"XGBClassifier\",\"XGBClassifier\",\"XGBClassifier\",\"XGBClassifier\",\"XGBClassifier\",\"XGBClassifier\",\"XGBClassifier\",\"XGBClassifier\",\"XGBClassifier\",\"XGBClassifier\",\"XGBClassifier\",\"XGBClassifier\",\"XGBClassifier\",\"XGBClassifier\",\"XGBClassifier\",\"XGBClassifier\",\"XGBClassifier\"],\"legendgroup\":\"XGBClassifier\",\"line\":{\"color\":\"#46bac2\",\"dash\":\"solid\",\"width\":2},\"marker\":{\"symbol\":\"circle\"},\"mode\":\"lines\",\"name\":\"XGBClassifier\",\"orientation\":\"v\",\"showlegend\":false,\"x\":[126.0,130.38,134.76,139.14,143.52,147.9,152.28,156.66,161.04,165.42000000000002,169.8,174.18,178.56,182.94,187.32,191.7,196.07999999999998,200.45999999999998,204.84,209.22,213.6,217.98000000000002,222.36,226.74,231.12,235.5,239.88,244.26,248.64,253.01999999999998,257.4,261.78,266.15999999999997,270.53999999999996,274.91999999999996,279.29999999999995,283.68,288.06,292.44,296.82,301.2,305.58,309.96000000000004,314.34000000000003,318.72,323.1,327.48,331.86,336.24,340.62,345.0,349.38,353.76,358.14,362.52,366.9,371.28,375.65999999999997,380.03999999999996,384.42,388.8,393.18,397.56,401.94,406.32,410.7,415.08,419.46,423.84,428.21999999999997,432.59999999999997,436.98,441.36,445.74,450.12,454.5,458.88,463.26,467.64,472.02,476.4,480.78,485.15999999999997,489.53999999999996,493.92,498.3,502.68,507.06,511.44,515.8199999999999,520.2,524.5799999999999,528.96,533.3399999999999,537.72,542.0999999999999,546.48,550.86,555.24,559.62,564.0],\"xaxis\":\"x\",\"y\":[0.5701403617858887,0.5701403617858887,0.5701403617858887,0.5701403617858887,0.5701403617858887,0.5701403617858887,0.5701403617858887,0.5701403617858887,0.5701403617858887,0.5701403617858887,0.5701403617858887,0.5701403617858887,0.5753539800643921,0.5753539800643921,0.5753539800643921,0.5753539800643921,0.5753539800643921,0.5753539800643921,0.5731664896011353,0.5840122699737549,0.586948573589325,0.5836284160614014,0.5784026980400085,0.5735617280006409,0.5483963489532471,0.5455866456031799,0.5237227082252502,0.5196309685707092,0.5068932175636292,0.504570484161377,0.5092092156410217,0.5310050249099731,0.5330346822738647,0.5367779731750488,0.4918373227119446,0.48163318634033203,0.48163318634033203,0.48163318634033203,0.48163318634033203,0.49419692158699036,0.49150222539901733,0.49031683802604675,0.49031683802604675,0.49031683802604675,0.4864460825920105,0.4864460825920105,0.4864460825920105,0.48156407475471497,0.48156407475471497,0.48156407475471497,0.48156407475471497,0.48156407475471497,0.48156407475471497,0.48156407475471497,0.48156407475471497,0.48156407475471497,0.48156407475471497,0.48156407475471497,0.48156407475471497,0.48156407475471497,0.48156407475471497,0.48156407475471497,0.48156407475471497,0.48156407475471497,0.48156407475471497,0.48156407475471497,0.48156407475471497,0.48156407475471497,0.48156407475471497,0.48156407475471497,0.48156407475471497,0.48156407475471497,0.48156407475471497,0.48156407475471497,0.48156407475471497,0.48156407475471497,0.48156407475471497,0.48156407475471497,0.48156407475471497,0.48156407475471497,0.48156407475471497,0.48156407475471497,0.48156407475471497,0.48156407475471497,0.48156407475471497,0.48156407475471497,0.48156407475471497,0.48156407475471497,0.48156407475471497,0.48156407475471497,0.48156407475471497,0.48156407475471497,0.48156407475471497,0.48156407475471497,0.48156407475471497,0.48156407475471497,0.48156407475471497,0.48156407475471497,0.48156407475471497,0.48156407475471497,0.48156407475471497],\"yaxis\":\"y\",\"type\":\"scatter\",\"opacity\":1}],                        {\"template\":{\"data\":{\"scatter\":[{\"type\":\"scatter\"}]}},\"xaxis\":{\"anchor\":\"y\",\"domain\":[0.0,0.475],\"title\":{\"text\":\"\"},\"showticklabels\":true,\"type\":\"linear\",\"gridwidth\":2,\"zeroline\":false,\"automargin\":true,\"ticks\":\"outside\",\"tickcolor\":\"white\",\"ticklen\":3,\"fixedrange\":true},\"yaxis\":{\"anchor\":\"x\",\"domain\":[0.0,0.425],\"title\":{\"text\":\"\"},\"range\":[0.4620267480611801,0.6302899092435836],\"type\":\"linear\",\"gridwidth\":2,\"zeroline\":false,\"automargin\":true,\"ticks\":\"outside\",\"tickcolor\":\"white\",\"ticklen\":3,\"fixedrange\":true},\"xaxis2\":{\"anchor\":\"y2\",\"domain\":[0.525,1.0],\"title\":{\"text\":\"\"},\"showticklabels\":true,\"type\":\"linear\",\"gridwidth\":2,\"zeroline\":false,\"automargin\":true,\"ticks\":\"outside\",\"tickcolor\":\"white\",\"ticklen\":3,\"fixedrange\":true},\"yaxis2\":{\"anchor\":\"x2\",\"domain\":[0.0,0.425],\"matches\":\"y\",\"showticklabels\":false,\"type\":\"linear\",\"gridwidth\":2,\"zeroline\":false,\"automargin\":true,\"ticks\":\"outside\",\"tickcolor\":\"white\",\"ticklen\":3,\"fixedrange\":true,\"title\":{\"text\":\"\"}},\"xaxis3\":{\"anchor\":\"y3\",\"domain\":[0.0,0.475],\"showticklabels\":true,\"type\":\"linear\",\"gridwidth\":2,\"zeroline\":false,\"automargin\":true,\"ticks\":\"outside\",\"tickcolor\":\"white\",\"ticklen\":3,\"fixedrange\":true,\"title\":{\"text\":\"\"}},\"yaxis3\":{\"anchor\":\"x3\",\"domain\":[0.575,1.0],\"matches\":\"y\",\"title\":{\"text\":\"\"},\"range\":[0.4620267480611801,0.6302899092435836],\"type\":\"linear\",\"gridwidth\":2,\"zeroline\":false,\"automargin\":true,\"ticks\":\"outside\",\"tickcolor\":\"white\",\"ticklen\":3,\"fixedrange\":true},\"xaxis4\":{\"anchor\":\"y4\",\"domain\":[0.525,1.0],\"showticklabels\":true,\"type\":\"linear\",\"gridwidth\":2,\"zeroline\":false,\"automargin\":true,\"ticks\":\"outside\",\"tickcolor\":\"white\",\"ticklen\":3,\"fixedrange\":true,\"title\":{\"text\":\"\"}},\"yaxis4\":{\"anchor\":\"x4\",\"domain\":[0.575,1.0],\"matches\":\"y\",\"showticklabels\":false,\"type\":\"linear\",\"gridwidth\":2,\"zeroline\":false,\"automargin\":true,\"ticks\":\"outside\",\"tickcolor\":\"white\",\"ticklen\":3,\"fixedrange\":true,\"title\":{\"text\":\"\"}},\"annotations\":[{\"font\":{\"size\":13},\"showarrow\":false,\"text\":\"chol\",\"x\":0.2375,\"xanchor\":\"center\",\"xref\":\"paper\",\"y\":0.425,\"yanchor\":\"bottom\",\"yref\":\"paper\"},{\"font\":{\"size\":13},\"showarrow\":false,\"text\":\"age\",\"x\":0.2375,\"xanchor\":\"center\",\"xref\":\"paper\",\"y\":1.0,\"yanchor\":\"bottom\",\"yref\":\"paper\"},{\"font\":{\"size\":13},\"showarrow\":false,\"text\":\"sex\",\"x\":0.7625,\"xanchor\":\"center\",\"xref\":\"paper\",\"y\":1.0,\"yanchor\":\"bottom\",\"yref\":\"paper\"},{\"font\":{\"size\":13},\"showarrow\":false,\"text\":\"prediction\",\"textangle\":-90,\"x\":-0.07,\"xref\":\"paper\",\"y\":0.5,\"yref\":\"paper\"}],\"legend\":{\"title\":{\"text\":\"label\",\"font\":{\"size\":12}},\"tracegroupgap\":0,\"font\":{\"size\":11},\"orientation\":\"h\",\"yanchor\":\"bottom\",\"y\":1.0361881785283473,\"xanchor\":\"right\",\"x\":1,\"itemsizing\":\"constant\"},\"margin\":{\"t\":78,\"b\":71,\"r\":30},\"font\":{\"color\":\"#371ea3\"},\"title\":{\"font\":{\"size\":16},\"text\":\"Aggregated Profiles\",\"x\":0.15},\"hovermode\":\"x unified\",\"height\":829},                        {\"displaylogo\": false, \"staticPlot\": false, \"toImageButtonOptions\": {\"height\": null, \"width\": null}, \"modeBarButtonsToRemove\": [\"sendDataToCloud\", \"lasso2d\", \"autoScale2d\", \"select2d\", \"zoom2d\", \"pan2d\", \"zoomIn2d\", \"zoomOut2d\", \"resetScale2d\", \"toggleSpikelines\", \"hoverCompareCartesian\", \"hoverClosestCartesian\"], \"responsive\": true}                    ).then(function(){\n                            \nvar gd = document.getElementById('ff304747-4a9f-4805-a6e2-bd3171fcde95');\nvar x = new MutationObserver(function (mutations, observer) {{\n        var display = window.getComputedStyle(gd).display;\n        if (!display || display === 'none') {{\n            console.log([gd, 'removed!']);\n            Plotly.purge(gd);\n            observer.disconnect();\n        }}\n}});\n\n// Listen for the removal of the full notebook cells\nvar notebookContainer = gd.closest('#notebook-container');\nif (notebookContainer) {{\n    x.observe(notebookContainer, {childList: true});\n}}\n\n// Listen for the clearing of the current output cell\nvar outputEl = gd.closest('.output');\nif (outputEl) {{\n    x.observe(outputEl, {childList: true});\n}}\n\n                        })                };                });            </script>        </div>"
     },
     "metadata": {},
     "output_type": "display_data"
    }
   ],
   "source": [
    "pdp2.plot(variables=['age', 'sex', 'chol'])\n",
    "pdp.plot(variables=['age', 'sex', 'chol'])"
   ],
   "metadata": {
    "collapsed": false
   }
  }
 ],
 "metadata": {
  "kernelspec": {
   "display_name": "Python 3",
   "language": "python",
   "name": "python3"
  },
  "language_info": {
   "codemirror_mode": {
    "name": "ipython",
    "version": 2
   },
   "file_extension": ".py",
   "mimetype": "text/x-python",
   "name": "python",
   "nbconvert_exporter": "python",
   "pygments_lexer": "ipython2",
   "version": "2.7.6"
  }
 },
 "nbformat": 4,
 "nbformat_minor": 0
}
