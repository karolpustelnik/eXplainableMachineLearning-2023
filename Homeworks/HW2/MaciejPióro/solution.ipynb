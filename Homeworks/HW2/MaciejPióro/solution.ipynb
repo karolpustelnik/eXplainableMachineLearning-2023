{
 "cells": [
  {
   "cell_type": "markdown",
   "metadata": {},
   "source": [
    "# Explaining models decisions using SHAP - Hear Attack Prediction"
   ]
  },
  {
   "cell_type": "markdown",
   "metadata": {},
   "source": [
    "## Report\n"
   ]
  },
  {
   "cell_type": "markdown",
   "metadata": {},
   "source": [
    "### 1. Model training, 2. calculating model predictions and 3. SHAP decomposition\n",
    "First a model (Random Forest) was trained on the preprocessed dataset. Then, two arbitrary samples were selected for decomposition of predictions. Both samples were explained using two libraries: `dalex` and `shap`.\n",
    "The decomposition is presented with waterfall plots.\n",
    "\n",
    "### 4. Different variables can be the most important\n",
    "What we can see is that the most important variable for the model depends on the given sample. For patient 0, the most important variable is `cp_0`, whereas for patient 1 it is `caa`. The same result holds for both libraries."
   ]
  },
  {
   "cell_type": "markdown",
   "metadata": {},
   "source": [
    "Results with dalex:\n",
    "\n",
    "![alt text](images/1.png \"Samples with dalex\")"
   ]
  },
  {
   "cell_type": "markdown",
   "metadata": {},
   "source": [
    "Results with shap:\n",
    "\n",
    "![alt text](images/2.png \"Samples with shap\")\n",
    "![alt text](images/3.png \"Samples with shap\")"
   ]
  },
  {
   "cell_type": "markdown",
   "metadata": {},
   "source": [
    "### 5. A variable can contribute positively or negatively\n",
    "Next I found a feature in the model which can contribute both positively or negatively to the prediction depending on the sample. It is `cp_3`. The same result can be seen no matter which library is used."
   ]
  },
  {
   "cell_type": "markdown",
   "metadata": {},
   "source": [
    "![alt text](images/4.png \"cp_3 contributes negatively (dalex)\")\n",
    "![alt text](images/5.png \"cp_3 contributes positively (dalex)\")\n",
    "![alt text](images/6.png \"cp_3 contributes in different ways (shap)\")"
   ]
  },
  {
   "cell_type": "markdown",
   "metadata": {},
   "source": [
    "### 6. `shap` and `dalex` comparison\n",
    "Both libraries give similar results, however there are some minor discrepancies in the attribution scores. Because `shap` is optimized for use with tree-based models, it is much faster than `dalex` in the setting used in my experiments (random forest)."
   ]
  },
  {
   "cell_type": "markdown",
   "metadata": {},
   "source": [
    "### 7. Training a different model\n",
    "I also trained another model (linear regression) on the same task. Its explanation is different from the explanation of the random forest. For example `cp_3` is not important when explaining the random forest, but it is one of the most important variable in the linear regression for patient 1.\n",
    "On the given examples explanations with respect to different models are rather similar.\n",
    "\n",
    "![alt text](images/7.png \"Linear regression\")"
   ]
  },
  {
   "cell_type": "markdown",
   "metadata": {},
   "source": [
    "### 8. Final remarks\n",
    "All the salient points of the analysis are present in the above sections. The code used for generation of the report is provided in the `Appendix`."
   ]
  },
  {
   "cell_type": "markdown",
   "metadata": {},
   "source": [
    "## Appendix"
   ]
  },
  {
   "cell_type": "markdown",
   "metadata": {},
   "source": [
    "### Install dependencies"
   ]
  },
  {
   "cell_type": "code",
   "execution_count": 34,
   "metadata": {},
   "outputs": [
    {
     "name": "stdout",
     "output_type": "stream",
     "text": [
      "Looking in indexes: https://pypi.org/simple, https://pypi.ngc.nvidia.com\n",
      "/usr/share/python-wheels/urllib3-1.25.9-py2.py3-none-any.whl/urllib3/connectionpool.py:981: InsecureRequestWarning: Unverified HTTPS request is being made to host 'pypi.ngc.nvidia.com'. Adding certificate verification is strongly advised. See: https://urllib3.readthedocs.io/en/latest/advanced-usage.html#ssl-warnings\n",
      "/usr/share/python-wheels/urllib3-1.25.9-py2.py3-none-any.whl/urllib3/connectionpool.py:981: InsecureRequestWarning: Unverified HTTPS request is being made to host 'pypi.ngc.nvidia.com'. Adding certificate verification is strongly advised. See: https://urllib3.readthedocs.io/en/latest/advanced-usage.html#ssl-warnings\n",
      "Collecting pip\n",
      "  Downloading pip-22.3-py3-none-any.whl (2.1 MB)\n",
      "\u001b[K     |████████████████████████████████| 2.1 MB 1.8 MB/s eta 0:00:01\n",
      "\u001b[?25h/usr/share/python-wheels/urllib3-1.25.9-py2.py3-none-any.whl/urllib3/connectionpool.py:981: InsecureRequestWarning: Unverified HTTPS request is being made to host 'pypi.ngc.nvidia.com'. Adding certificate verification is strongly advised. See: https://urllib3.readthedocs.io/en/latest/advanced-usage.html#ssl-warnings\n",
      "Requirement already up-to-date: dalex==1.5.0 in /home/maciej/Documents/Studia/Zima 2022/XAI/TrustworthyMachineLearning-2023/Homeworks/venv/lib/python3.8/site-packages (1.5.0)\n",
      "/usr/share/python-wheels/urllib3-1.25.9-py2.py3-none-any.whl/urllib3/connectionpool.py:981: InsecureRequestWarning: Unverified HTTPS request is being made to host 'pypi.ngc.nvidia.com'. Adding certificate verification is strongly advised. See: https://urllib3.readthedocs.io/en/latest/advanced-usage.html#ssl-warnings\n",
      "Requirement already up-to-date: shap==0.41.0 in /home/maciej/Documents/Studia/Zima 2022/XAI/TrustworthyMachineLearning-2023/Homeworks/venv/lib/python3.8/site-packages (0.41.0)\n",
      "/usr/share/python-wheels/urllib3-1.25.9-py2.py3-none-any.whl/urllib3/connectionpool.py:981: InsecureRequestWarning: Unverified HTTPS request is being made to host 'pypi.ngc.nvidia.com'. Adding certificate verification is strongly advised. See: https://urllib3.readthedocs.io/en/latest/advanced-usage.html#ssl-warnings\n",
      "Requirement already up-to-date: nbformat>=4.2.0 in /home/maciej/Documents/Studia/Zima 2022/XAI/TrustworthyMachineLearning-2023/Homeworks/venv/lib/python3.8/site-packages (5.7.0)\n",
      "/usr/share/python-wheels/urllib3-1.25.9-py2.py3-none-any.whl/urllib3/connectionpool.py:981: InsecureRequestWarning: Unverified HTTPS request is being made to host 'pypi.ngc.nvidia.com'. Adding certificate verification is strongly advised. See: https://urllib3.readthedocs.io/en/latest/advanced-usage.html#ssl-warnings\n",
      "Collecting scikit-learn==1.0.2\n",
      "  Downloading scikit_learn-1.0.2-cp38-cp38-manylinux_2_17_x86_64.manylinux2014_x86_64.whl (26.7 MB)\n",
      "\u001b[K     |████████████████████████████████| 26.7 MB 749 kB/s eta 0:00:01\n",
      "\u001b[?25h/usr/share/python-wheels/urllib3-1.25.9-py2.py3-none-any.whl/urllib3/connectionpool.py:981: InsecureRequestWarning: Unverified HTTPS request is being made to host 'pypi.ngc.nvidia.com'. Adding certificate verification is strongly advised. See: https://urllib3.readthedocs.io/en/latest/advanced-usage.html#ssl-warnings\n",
      "Collecting pandas==1.3.5\n",
      "  Downloading pandas-1.3.5-cp38-cp38-manylinux_2_17_x86_64.manylinux2014_x86_64.whl (11.5 MB)\n",
      "\u001b[K     |████████████████████████████████| 11.5 MB 969 kB/s eta 0:00:01\n",
      "\u001b[?25h/usr/share/python-wheels/urllib3-1.25.9-py2.py3-none-any.whl/urllib3/connectionpool.py:981: InsecureRequestWarning: Unverified HTTPS request is being made to host 'pypi.ngc.nvidia.com'. Adding certificate verification is strongly advised. See: https://urllib3.readthedocs.io/en/latest/advanced-usage.html#ssl-warnings\n",
      "Collecting numpy==1.22.4\n",
      "  Downloading numpy-1.22.4-cp38-cp38-manylinux_2_17_x86_64.manylinux2014_x86_64.whl (16.9 MB)\n",
      "\u001b[K     |████████████████████████████████| 16.9 MB 586 kB/s eta 0:00:01\n",
      "\u001b[?25hRequirement already satisfied, skipping upgrade: plotly>=5.1.0 in /home/maciej/Documents/Studia/Zima 2022/XAI/TrustworthyMachineLearning-2023/Homeworks/venv/lib/python3.8/site-packages (from dalex==1.5.0) (5.10.0)\n",
      "Requirement already satisfied, skipping upgrade: scipy>=1.6.3 in /home/maciej/Documents/Studia/Zima 2022/XAI/TrustworthyMachineLearning-2023/Homeworks/venv/lib/python3.8/site-packages (from dalex==1.5.0) (1.9.2)\n",
      "Requirement already satisfied, skipping upgrade: setuptools in /home/maciej/Documents/Studia/Zima 2022/XAI/TrustworthyMachineLearning-2023/Homeworks/venv/lib/python3.8/site-packages (from dalex==1.5.0) (44.0.0)\n",
      "Requirement already satisfied, skipping upgrade: tqdm>=4.61.2 in /home/maciej/Documents/Studia/Zima 2022/XAI/TrustworthyMachineLearning-2023/Homeworks/venv/lib/python3.8/site-packages (from dalex==1.5.0) (4.64.1)\n",
      "Requirement already satisfied, skipping upgrade: cloudpickle in /home/maciej/Documents/Studia/Zima 2022/XAI/TrustworthyMachineLearning-2023/Homeworks/venv/lib/python3.8/site-packages (from shap==0.41.0) (2.2.0)\n",
      "Requirement already satisfied, skipping upgrade: slicer==0.0.7 in /home/maciej/Documents/Studia/Zima 2022/XAI/TrustworthyMachineLearning-2023/Homeworks/venv/lib/python3.8/site-packages (from shap==0.41.0) (0.0.7)\n",
      "Requirement already satisfied, skipping upgrade: numba in /home/maciej/Documents/Studia/Zima 2022/XAI/TrustworthyMachineLearning-2023/Homeworks/venv/lib/python3.8/site-packages (from shap==0.41.0) (0.56.3)\n",
      "Requirement already satisfied, skipping upgrade: packaging>20.9 in /home/maciej/Documents/Studia/Zima 2022/XAI/TrustworthyMachineLearning-2023/Homeworks/venv/lib/python3.8/site-packages (from shap==0.41.0) (21.3)\n",
      "Requirement already satisfied, skipping upgrade: jupyter-core in /home/maciej/Documents/Studia/Zima 2022/XAI/TrustworthyMachineLearning-2023/Homeworks/venv/lib/python3.8/site-packages (from nbformat>=4.2.0) (4.11.1)\n",
      "Requirement already satisfied, skipping upgrade: fastjsonschema in /home/maciej/Documents/Studia/Zima 2022/XAI/TrustworthyMachineLearning-2023/Homeworks/venv/lib/python3.8/site-packages (from nbformat>=4.2.0) (2.16.2)\n",
      "Requirement already satisfied, skipping upgrade: jsonschema>=2.6 in /home/maciej/Documents/Studia/Zima 2022/XAI/TrustworthyMachineLearning-2023/Homeworks/venv/lib/python3.8/site-packages (from nbformat>=4.2.0) (4.16.0)\n",
      "Requirement already satisfied, skipping upgrade: traitlets>=5.1 in /home/maciej/Documents/Studia/Zima 2022/XAI/TrustworthyMachineLearning-2023/Homeworks/venv/lib/python3.8/site-packages (from nbformat>=4.2.0) (5.4.0)\n",
      "Requirement already satisfied, skipping upgrade: joblib>=0.11 in /home/maciej/Documents/Studia/Zima 2022/XAI/TrustworthyMachineLearning-2023/Homeworks/venv/lib/python3.8/site-packages (from scikit-learn==1.0.2) (1.2.0)\n",
      "Requirement already satisfied, skipping upgrade: threadpoolctl>=2.0.0 in /home/maciej/Documents/Studia/Zima 2022/XAI/TrustworthyMachineLearning-2023/Homeworks/venv/lib/python3.8/site-packages (from scikit-learn==1.0.2) (3.1.0)\n",
      "Requirement already satisfied, skipping upgrade: python-dateutil>=2.7.3 in /home/maciej/Documents/Studia/Zima 2022/XAI/TrustworthyMachineLearning-2023/Homeworks/venv/lib/python3.8/site-packages (from pandas==1.3.5) (2.8.2)\n",
      "Requirement already satisfied, skipping upgrade: pytz>=2017.3 in /home/maciej/Documents/Studia/Zima 2022/XAI/TrustworthyMachineLearning-2023/Homeworks/venv/lib/python3.8/site-packages (from pandas==1.3.5) (2022.4)\n",
      "Requirement already satisfied, skipping upgrade: tenacity>=6.2.0 in /home/maciej/Documents/Studia/Zima 2022/XAI/TrustworthyMachineLearning-2023/Homeworks/venv/lib/python3.8/site-packages (from plotly>=5.1.0->dalex==1.5.0) (8.1.0)\n",
      "Requirement already satisfied, skipping upgrade: importlib-metadata; python_version < \"3.9\" in /home/maciej/Documents/Studia/Zima 2022/XAI/TrustworthyMachineLearning-2023/Homeworks/venv/lib/python3.8/site-packages (from numba->shap==0.41.0) (5.0.0)\n",
      "Requirement already satisfied, skipping upgrade: llvmlite<0.40,>=0.39.0dev0 in /home/maciej/Documents/Studia/Zima 2022/XAI/TrustworthyMachineLearning-2023/Homeworks/venv/lib/python3.8/site-packages (from numba->shap==0.41.0) (0.39.1)\n",
      "Requirement already satisfied, skipping upgrade: pyparsing!=3.0.5,>=2.0.2 in /home/maciej/Documents/Studia/Zima 2022/XAI/TrustworthyMachineLearning-2023/Homeworks/venv/lib/python3.8/site-packages (from packaging>20.9->shap==0.41.0) (3.0.9)\n",
      "Requirement already satisfied, skipping upgrade: pkgutil-resolve-name>=1.3.10; python_version < \"3.9\" in /home/maciej/Documents/Studia/Zima 2022/XAI/TrustworthyMachineLearning-2023/Homeworks/venv/lib/python3.8/site-packages (from jsonschema>=2.6->nbformat>=4.2.0) (1.3.10)\n",
      "Requirement already satisfied, skipping upgrade: importlib-resources>=1.4.0; python_version < \"3.9\" in /home/maciej/Documents/Studia/Zima 2022/XAI/TrustworthyMachineLearning-2023/Homeworks/venv/lib/python3.8/site-packages (from jsonschema>=2.6->nbformat>=4.2.0) (5.10.0)\n",
      "Requirement already satisfied, skipping upgrade: pyrsistent!=0.17.0,!=0.17.1,!=0.17.2,>=0.14.0 in /home/maciej/Documents/Studia/Zima 2022/XAI/TrustworthyMachineLearning-2023/Homeworks/venv/lib/python3.8/site-packages (from jsonschema>=2.6->nbformat>=4.2.0) (0.18.1)\n",
      "Requirement already satisfied, skipping upgrade: attrs>=17.4.0 in /home/maciej/Documents/Studia/Zima 2022/XAI/TrustworthyMachineLearning-2023/Homeworks/venv/lib/python3.8/site-packages (from jsonschema>=2.6->nbformat>=4.2.0) (22.1.0)\n",
      "Requirement already satisfied, skipping upgrade: six>=1.5 in /home/maciej/Documents/Studia/Zima 2022/XAI/TrustworthyMachineLearning-2023/Homeworks/venv/lib/python3.8/site-packages (from python-dateutil>=2.7.3->pandas==1.3.5) (1.16.0)\n",
      "Requirement already satisfied, skipping upgrade: zipp>=0.5 in /home/maciej/Documents/Studia/Zima 2022/XAI/TrustworthyMachineLearning-2023/Homeworks/venv/lib/python3.8/site-packages (from importlib-metadata; python_version < \"3.9\"->numba->shap==0.41.0) (3.9.0)\n",
      "Installing collected packages: pip, numpy, scikit-learn, pandas\n",
      "  Attempting uninstall: pip\n",
      "    Found existing installation: pip 20.1.1\n",
      "    Uninstalling pip-20.1.1:\n",
      "      Successfully uninstalled pip-20.1.1\n",
      "  Attempting uninstall: numpy\n",
      "    Found existing installation: numpy 1.23.4\n",
      "    Uninstalling numpy-1.23.4:\n",
      "      Successfully uninstalled numpy-1.23.4\n",
      "  Attempting uninstall: scikit-learn\n",
      "    Found existing installation: scikit-learn 1.1.2\n",
      "    Uninstalling scikit-learn-1.1.2:\n",
      "      Successfully uninstalled scikit-learn-1.1.2\n",
      "  Attempting uninstall: pandas\n",
      "    Found existing installation: pandas 1.5.1\n",
      "    Uninstalling pandas-1.5.1:\n",
      "      Successfully uninstalled pandas-1.5.1\n",
      "Successfully installed numpy-1.22.4 pandas-1.3.5 pip-22.3 scikit-learn-1.0.2\n"
     ]
    }
   ],
   "source": [
    "!pip install -U pip 'dalex==1.5.0' 'shap==0.41.0' 'nbformat>=4.2.0' 'scikit-learn==1.0.2' 'pandas==1.3.5' 'numpy==1.22.4'"
   ]
  },
  {
   "cell_type": "markdown",
   "metadata": {},
   "source": [
    "### Download data"
   ]
  },
  {
   "cell_type": "code",
   "execution_count": 1,
   "metadata": {},
   "outputs": [
    {
     "name": "stderr",
     "output_type": "stream",
     "text": [
      "Downloading...\n",
      "From: https://drive.google.com/uc?id=1yBNUVzUAwb5LeQ9eGD55YVPGq-5HoX4c\n",
      "To: /home/maciej/Documents/Studia/Zima 2022/XAI/MyRepo/eXplainableMachineLearning-2023/Homeworks/HW2/MaciejPióro/heart.csv\n",
      "100%|██████████| 11.3k/11.3k [00:00<00:00, 25.2MB/s]\n"
     ]
    },
    {
     "data": {
      "text/plain": [
       "'heart.csv'"
      ]
     },
     "execution_count": 1,
     "metadata": {},
     "output_type": "execute_result"
    }
   ],
   "source": [
    "import gdown\n",
    "gdown.download(id='1yBNUVzUAwb5LeQ9eGD55YVPGq-5HoX4c', output='heart.csv', quiet=False)"
   ]
  },
  {
   "cell_type": "markdown",
   "metadata": {},
   "source": [
    "### Load & Preprocess data\n",
    "First the data is loaded and some test set size is selected. To make the analysis reproducible, the seed is set.\n"
   ]
  },
  {
   "cell_type": "code",
   "execution_count": 159,
   "metadata": {},
   "outputs": [],
   "source": [
    "import pandas as pd\n",
    "import seaborn as sns\n",
    "import matplotlib.pyplot as plt\n",
    "import dalex as dx\n",
    "import shap\n",
    "from sklearn.utils import shuffle\n",
    "\n",
    "SEED = 997\n",
    "TEST_SIZE = 0.1\n",
    "\n",
    "data = shuffle(pd.read_csv('heart.csv'), random_state=SEED)"
   ]
  },
  {
   "cell_type": "markdown",
   "metadata": {},
   "source": [
    "Dataset contains two categorical variable: `cp` and `restecg`. Those are one-hot encoded in preprocessing. All models used (Logistic Regression, Decision Tree, Random Forest) can benefit from one-hot encoding the categorical variables."
   ]
  },
  {
   "cell_type": "code",
   "execution_count": 160,
   "metadata": {},
   "outputs": [],
   "source": [
    "def to_one_hot(data, column):\n",
    "    dummies = pd.get_dummies(data[column])\n",
    "    for dummy_value in dummies.columns:\n",
    "        data = pd.concat([data, dummies[dummy_value].rename(f'{column}_{dummy_value}')], axis=1)\n",
    "    return data.drop(column, axis=1)\n",
    "\n",
    "data = to_one_hot(data, 'cp')\n",
    "data = to_one_hot(data, 'restecg')\n",
    "\n",
    "X = data.drop(columns=['output'])\n",
    "y = data['output']"
   ]
  },
  {
   "cell_type": "markdown",
   "metadata": {},
   "source": [
    "Get binary columns. It will be useful later"
   ]
  },
  {
   "cell_type": "code",
   "execution_count": 178,
   "metadata": {},
   "outputs": [
    {
     "name": "stdout",
     "output_type": "stream",
     "text": [
      "sex\n",
      "fbs\n",
      "exng\n",
      "cp_0\n",
      "cp_1\n",
      "cp_2\n",
      "cp_3\n",
      "restecg_0\n",
      "restecg_1\n",
      "restecg_2\n"
     ]
    }
   ],
   "source": [
    "binary_columns = []\n",
    "for c in X.columns:\n",
    "    possible_values = X[c].unique()\n",
    "    num_values = possible_values.shape[0]\n",
    "    if list(sorted(possible_values)) == [0, 1]:\n",
    "        binary_columns.append(c)\n",
    "        print(c)\n"
   ]
  },
  {
   "cell_type": "markdown",
   "metadata": {},
   "source": [
    "### 1. Train a model\n",
    "The basic model that we use is Random Forest Classifier"
   ]
  },
  {
   "cell_type": "code",
   "execution_count": 164,
   "metadata": {},
   "outputs": [
    {
     "data": {
      "text/plain": [
       "RandomForestClassifier(random_state=997)"
      ]
     },
     "execution_count": 164,
     "metadata": {},
     "output_type": "execute_result"
    }
   ],
   "source": [
    "import dalex as dx\n",
    "from sklearn.pipeline import Pipeline\n",
    "from sklearn.ensemble import RandomForestClassifier\n",
    "\n",
    "model = RandomForestClassifier(random_state=SEED)\n",
    "\n",
    "model.fit(X, y)"
   ]
  },
  {
   "cell_type": "markdown",
   "metadata": {},
   "source": [
    "### 2. Evaluate model\n",
    "The model is evaluated on two arbitrary examples"
   ]
  },
  {
   "cell_type": "code",
   "execution_count": 184,
   "metadata": {},
   "outputs": [
    {
     "name": "stdout",
     "output_type": "stream",
     "text": [
      "Predicted classes\n",
      "[1 0]\n",
      "Predicted probabilities\n",
      "[[0.01 0.99]\n",
      " [0.81 0.19]]\n"
     ]
    }
   ],
   "source": [
    "print('Predicted classes')\n",
    "print(model.predict(X[:2]))\n",
    "print('Predicted probabilities')\n",
    "print(model.predict_proba(X[:2]))\n"
   ]
  },
  {
   "cell_type": "markdown",
   "metadata": {},
   "source": [
    "### 3a. Evaluate model using dalex"
   ]
  },
  {
   "cell_type": "markdown",
   "metadata": {},
   "source": [
    "Attribute contribution decomposition for two first samples from the dataset is computed and plotted. The package used is `dalex`."
   ]
  },
  {
   "cell_type": "code",
   "execution_count": 185,
   "metadata": {},
   "outputs": [
    {
     "name": "stdout",
     "output_type": "stream",
     "text": [
      "Preparation of a new explainer is initiated\n",
      "\n",
      "  -> data              : 303 rows 18 cols\n",
      "  -> target variable   : Parameter 'y' was a pandas.Series. Converted to a numpy.ndarray.\n",
      "  -> target variable   : 303 values\n",
      "  -> model_class       : sklearn.ensemble._forest.RandomForestClassifier (default)\n",
      "  -> label             : Not specified, model's class short name will be used. (default)\n",
      "  -> predict function  : <function <lambda> at 0x7fbdeeebb0d0> will be used\n",
      "  -> predict function  : Accepts pandas.DataFrame and numpy.ndarray.\n",
      "  -> predicted values  : min = 0.0, mean = 0.544, max = 1.0\n",
      "  -> model type        : classification will be used (default)\n",
      "  -> residual function : difference between y and yhat (default)\n",
      "  -> residuals         : min = -0.33, mean = 0.000297, max = 0.4\n",
      "  -> model_info        : package sklearn\n",
      "\n",
      "A new explainer has been created!\n"
     ]
    },
    {
     "name": "stderr",
     "output_type": "stream",
     "text": [
      "/home/maciej/Documents/Studia/Zima 2022/XAI/TrustworthyMachineLearning-2023/Homeworks/venv/lib/python3.8/site-packages/sklearn/base.py:450: UserWarning:\n",
      "\n",
      "X does not have valid feature names, but RandomForestClassifier was fitted with feature names\n",
      "\n"
     ]
    },
    {
     "data": {
      "application/vnd.plotly.v1+json": {
       "config": {
        "displaylogo": false,
        "modeBarButtonsToRemove": [
         "sendDataToCloud",
         "lasso2d",
         "autoScale2d",
         "select2d",
         "zoom2d",
         "pan2d",
         "zoomIn2d",
         "zoomOut2d",
         "resetScale2d",
         "toggleSpikelines",
         "hoverCompareCartesian",
         "hoverClosestCartesian"
        ],
        "plotlyServerURL": "https://plot.ly",
        "staticPlot": false,
        "toImageButtonOptions": {
         "height": null,
         "width": null
        }
       },
       "data": [
        {
         "base": 0.5442574257425743,
         "hoverinfo": "text",
         "hoverlabel": {
          "bgcolor": "rgba(0,0,0,0.8)"
         },
         "hovertext": [
          "Average response: 0.544<br>Prediction: 0.99<br>cp_0 = 0.0<br>increases average response <br>by 0.077",
          "Average response: 0.544<br>Prediction: 0.99<br>thall = 2.0<br>increases average response <br>by 0.063",
          "Average response: 0.544<br>Prediction: 0.99<br>thalachh = 170.0<br>increases average response <br>by 0.05",
          "Average response: 0.544<br>Prediction: 0.99<br>oldpeak = 0.0<br>increases average response <br>by 0.039",
          "Average response: 0.544<br>Prediction: 0.99<br>caa = 0.0<br>increases average response <br>by 0.039",
          "Average response: 0.544<br>Prediction: 0.99<br>cp_2 = 1.0<br>increases average response <br>by 0.032",
          "Average response: 0.544<br>Prediction: 0.99<br>slp = 2.0<br>increases average response <br>by 0.031",
          "Average response: 0.544<br>Prediction: 0.99<br>sex = 0.0<br>increases average response <br>by 0.029",
          "Average response: 0.544<br>Prediction: 0.99<br>age = 37.0<br>increases average response <br>by 0.026",
          "Average response: 0.544<br>Prediction: 0.99<br>+ all other factors<br>increases average response <br>by 0.06"
         ],
         "marker": {
          "color": [
           "#8bdcbe",
           "#8bdcbe",
           "#8bdcbe",
           "#8bdcbe",
           "#8bdcbe",
           "#8bdcbe",
           "#8bdcbe",
           "#8bdcbe",
           "#8bdcbe",
           "#8bdcbe"
          ]
         },
         "orientation": "h",
         "showlegend": false,
         "text": [
          "+0.077",
          "+0.063",
          "+0.05",
          "+0.039",
          "+0.039",
          "+0.032",
          "+0.031",
          "+0.029",
          "+0.026",
          "+0.06"
         ],
         "textposition": "outside",
         "type": "bar",
         "x": [
          0.077,
          0.063,
          0.05,
          0.039,
          0.039,
          0.032,
          0.031,
          0.029,
          0.026,
          0.06
         ],
         "xaxis": "x",
         "y": [
          "cp_0 = 0.0",
          "thall = 2.0",
          "thalachh = 170.0",
          "oldpeak = 0.0",
          "caa = 0.0",
          "cp_2 = 1.0",
          "slp = 2.0",
          "sex = 0.0",
          "age = 37.0",
          "+ all other factors"
         ],
         "yaxis": "y"
        },
        {
         "base": 0.5442574257425743,
         "hoverinfo": "text",
         "hoverlabel": {
          "bgcolor": "rgba(0,0,0,0.8)"
         },
         "hovertext": [
          "Average response: 0.544<br>Prediction: 0.19<br>caa = 2.0<br>decreases average response <br>by 0.143",
          "Average response: 0.544<br>Prediction: 0.19<br>oldpeak = 2.6<br>decreases average response <br>by 0.139",
          "Average response: 0.544<br>Prediction: 0.19<br>cp_0 = 0.0<br>increases average response <br>by 0.065",
          "Average response: 0.544<br>Prediction: 0.19<br>age = 61.0<br>decreases average response <br>by 0.055",
          "Average response: 0.544<br>Prediction: 0.19<br>slp = 1.0<br>decreases average response <br>by 0.035",
          "Average response: 0.544<br>Prediction: 0.19<br>sex = 1.0<br>decreases average response <br>by 0.033",
          "Average response: 0.544<br>Prediction: 0.19<br>thall = 2.0<br>increases average response <br>by 0.031",
          "Average response: 0.544<br>Prediction: 0.19<br>thalachh = 145.0<br>decreases average response <br>by 0.03",
          "Average response: 0.544<br>Prediction: 0.19<br>trtbps = 134.0<br>decreases average response <br>by 0.025",
          "Average response: 0.544<br>Prediction: 0.19<br>+ all other factors<br>increases average response <br>by 0.009"
         ],
         "marker": {
          "color": [
           "#f05a71",
           "#f05a71",
           "#8bdcbe",
           "#f05a71",
           "#f05a71",
           "#f05a71",
           "#8bdcbe",
           "#f05a71",
           "#f05a71",
           "#8bdcbe"
          ]
         },
         "orientation": "h",
         "showlegend": false,
         "text": [
          "-0.143",
          "-0.139",
          "+0.065",
          "-0.055",
          "-0.035",
          "-0.033",
          "+0.031",
          "-0.03",
          "-0.025",
          "+0.009"
         ],
         "textposition": "outside",
         "type": "bar",
         "x": [
          -0.143,
          -0.139,
          0.065,
          -0.055,
          -0.035,
          -0.033,
          0.031,
          -0.03,
          -0.025,
          0.009
         ],
         "xaxis": "x2",
         "y": [
          "caa = 2.0",
          "oldpeak = 2.6",
          "cp_0 = 0.0",
          "age = 61.0",
          "slp = 1.0",
          "sex = 1.0",
          "thall = 2.0",
          "thalachh = 145.0",
          "trtbps = 134.0",
          "+ all other factors"
         ],
         "yaxis": "y2"
        }
       ],
       "layout": {
        "annotations": [
         {
          "font": {
           "size": 16
          },
          "showarrow": false,
          "text": "patient 0",
          "x": 0.5,
          "xanchor": "center",
          "xref": "paper",
          "y": 1,
          "yanchor": "bottom",
          "yref": "paper"
         },
         {
          "font": {
           "size": 16
          },
          "showarrow": false,
          "text": "patient 1",
          "x": 0.5,
          "xanchor": "center",
          "xref": "paper",
          "y": 0.45,
          "yanchor": "bottom",
          "yref": "paper"
         },
         {
          "font": {
           "size": 16
          },
          "showarrow": false,
          "text": "contribution",
          "x": 0.5,
          "xanchor": "center",
          "xref": "paper",
          "y": 0,
          "yanchor": "top",
          "yref": "paper",
          "yshift": -30
         }
        ],
        "font": {
         "color": "#371ea3"
        },
        "height": 667,
        "margin": {
         "b": 71,
         "r": 30,
         "t": 78
        },
        "shapes": [
         {
          "line": {
           "color": "#371ea3",
           "dash": "dot",
           "width": 1.5
          },
          "type": "line",
          "x0": 0.5442574257425743,
          "x1": 0.5442574257425743,
          "xref": "x",
          "y0": -1,
          "y1": 11,
          "yref": "y"
         },
         {
          "line": {
           "color": "#371ea3",
           "dash": "dot",
           "width": 1.5
          },
          "type": "line",
          "x0": 0.5442574257425743,
          "x1": 0.5442574257425743,
          "xref": "x2",
          "y0": -1,
          "y1": 11,
          "yref": "y2"
         }
        ],
        "template": {
         "data": {
          "scatter": [
           {
            "type": "scatter"
           }
          ]
         }
        },
        "title": {
         "text": "Shapley Values",
         "x": 0.15
        },
        "xaxis": {
         "anchor": "y",
         "automargin": true,
         "domain": [
          0,
          1
         ],
         "fixedrange": true,
         "gridwidth": 2,
         "matches": "x2",
         "range": [
          0.3700574257425743,
          0.6404574257425742
         ],
         "showticklabels": false,
         "tickcolor": "white",
         "ticklen": 3,
         "ticks": "outside",
         "type": "linear",
         "zeroline": false
        },
        "xaxis2": {
         "anchor": "y2",
         "automargin": true,
         "domain": [
          0,
          1
         ],
         "fixedrange": true,
         "gridwidth": 2,
         "range": [
          0.3700574257425743,
          0.6404574257425742
         ],
         "tickcolor": "white",
         "ticklen": 3,
         "ticks": "outside",
         "type": "linear",
         "zeroline": false
        },
        "yaxis": {
         "anchor": "x",
         "automargin": true,
         "autorange": "reversed",
         "domain": [
          0.55,
          1
         ],
         "fixedrange": true,
         "gridwidth": 2,
         "tickcolor": "white",
         "ticklen": 10,
         "ticks": "outside",
         "type": "category"
        },
        "yaxis2": {
         "anchor": "x2",
         "automargin": true,
         "autorange": "reversed",
         "domain": [
          0,
          0.45
         ],
         "fixedrange": true,
         "gridwidth": 2,
         "tickcolor": "white",
         "ticklen": 10,
         "ticks": "outside",
         "type": "category"
        }
       }
      }
     },
     "metadata": {},
     "output_type": "display_data"
    }
   ],
   "source": [
    "pf = lambda m, d: m.predict_proba(d)[:, 1]\n",
    "\n",
    "explainer = dx.Explainer(model, X, y, predict_function=pf)\n",
    "\n",
    "shap_attributions = [explainer.predict_parts(X.iloc[[i]], type=\"shap\", label=f'patient {i}', random_state=SEED) for i in range(2)]\n",
    "shap_attributions[0].plot(shap_attributions[1:])"
   ]
  },
  {
   "cell_type": "markdown",
   "metadata": {},
   "source": [
    "### 3b. Evaluate model using shap"
   ]
  },
  {
   "cell_type": "markdown",
   "metadata": {},
   "source": [
    "Attribute contribution decomposition for two first samples from the dataset is computed and plotted. The package used is `shap`."
   ]
  },
  {
   "cell_type": "code",
   "execution_count": 186,
   "metadata": {},
   "outputs": [
    {
     "data": {
      "image/png": "[encoded data removed]",
      "text/plain": [
       "<Figure size 800x650 with 3 Axes>"
      ]
     },
     "metadata": {},
     "output_type": "display_data"
    },
    {
     "data": {
      "image/png": "[encoded data removed]",
      "text/plain": [
       "<Figure size 800x650 with 3 Axes>"
      ]
     },
     "metadata": {},
     "output_type": "display_data"
    }
   ],
   "source": [
    "shap_explainer = shap.explainers.Tree(model, data=X, model_output='probability', random_state=SEED)\n",
    "shap_values = shap_explainer(X)[:,:,1]\n",
    "\n",
    "for i in [0, 1]:\n",
    "    shap.plots.waterfall(shap_values[i])"
   ]
  },
  {
   "cell_type": "markdown",
   "metadata": {},
   "source": [
    "### 4. Observations with different most important variables\n",
    "The samples used in points 3a, 3b differ when it comes to the most important variables. \n",
    "For the first sample, the most important variables are `cp_0` and `thall`.\n",
    "For the second sample, the most important variables are `caa` and `oldpeak`.\n",
    "This point of the analysis is only conducted in `shap` since it allows for much faster computation than `dalex`."
   ]
  },
  {
   "cell_type": "markdown",
   "metadata": {},
   "source": [
    "### 5. Variable contributing positively in some examples and negatively in others"
   ]
  },
  {
   "cell_type": "markdown",
   "metadata": {},
   "source": [
    "First, let us find a binary variable set to `1`, whose contribution is positive in some samples, negative in others and its magnitude is sufficiently high."
   ]
  },
  {
   "cell_type": "code",
   "execution_count": 187,
   "metadata": {},
   "outputs": [
    {
     "name": "stdout",
     "output_type": "stream",
     "text": [
      "99\n",
      "{'cp_3'}\n"
     ]
    }
   ],
   "source": [
    "def sign(x):\n",
    "    if x > 0:\n",
    "        return 1\n",
    "    elif x==0:\n",
    "        return 0\n",
    "    else:\n",
    "        return -1\n",
    "\n",
    "interesting_variables = set()\n",
    "contributions = {}\n",
    "for i, exp in enumerate(shap_values):\n",
    "    for name, contribution, value in zip(exp.feature_names, exp.values, exp.data):\n",
    "        if name in binary_columns and value == 1 and abs(contribution) > 0.03:\n",
    "            if name not in contributions:\n",
    "                contributions[name] = sign(contribution)\n",
    "            if sign(contribution) != contributions[name]:\n",
    "                print(i)\n",
    "                interesting_variables.add(name)\n",
    "print(interesting_variables)\n"
   ]
  },
  {
   "cell_type": "markdown",
   "metadata": {},
   "source": [
    "Knowing the variable is `cp_3` and the sample where it is negative is `99`, let us select another sample where `cp_3`'s contribution is positive and quite large."
   ]
  },
  {
   "cell_type": "code",
   "execution_count": 176,
   "metadata": {},
   "outputs": [
    {
     "name": "stdout",
     "output_type": "stream",
     "text": [
      "41\n"
     ]
    }
   ],
   "source": [
    "for i, exp in enumerate(shap_values):\n",
    "    for name, contribution, value in zip(exp.feature_names, exp.values, exp.data):\n",
    "        if name =='cp_3' and abs(contribution) > 0.1:\n",
    "            print(i)"
   ]
  },
  {
   "cell_type": "markdown",
   "metadata": {},
   "source": [
    "Compare the contribution of `cp_3` in the following examples:"
   ]
  },
  {
   "cell_type": "code",
   "execution_count": 189,
   "metadata": {},
   "outputs": [
    {
     "data": {
      "image/png": "[encoded data removed]",
      "text/plain": [
       "<Figure size 800x650 with 3 Axes>"
      ]
     },
     "metadata": {},
     "output_type": "display_data"
    },
    {
     "data": {
      "image/png": "[encoded data removed]",
      "text/plain": [
       "<Figure size 800x650 with 3 Axes>"
      ]
     },
     "metadata": {},
     "output_type": "display_data"
    },
    {
     "data": {
      "application/vnd.plotly.v1+json": {
       "config": {
        "displaylogo": false,
        "modeBarButtonsToRemove": [
         "sendDataToCloud",
         "lasso2d",
         "autoScale2d",
         "select2d",
         "zoom2d",
         "pan2d",
         "zoomIn2d",
         "zoomOut2d",
         "resetScale2d",
         "toggleSpikelines",
         "hoverCompareCartesian",
         "hoverClosestCartesian"
        ],
        "plotlyServerURL": "https://plot.ly",
        "staticPlot": false,
        "toImageButtonOptions": {
         "height": null,
         "width": null
        }
       },
       "data": [
        {
         "base": 0.5442574257425743,
         "hoverinfo": "text",
         "hoverlabel": {
          "bgcolor": "rgba(0,0,0,0.8)"
         },
         "hovertext": [
          "Average response: 0.544<br>Prediction: 0.26<br>caa = 2.0<br>decreases average response <br>by 0.185",
          "Average response: 0.544<br>Prediction: 0.26<br>age = 59.0<br>decreases average response <br>by 0.075",
          "Average response: 0.544<br>Prediction: 0.26<br>cp_0 = 0.0<br>increases average response <br>by 0.068",
          "Average response: 0.544<br>Prediction: 0.26<br>sex = 1.0<br>decreases average response <br>by 0.045",
          "Average response: 0.544<br>Prediction: 0.26<br>thall = 2.0<br>increases average response <br>by 0.039",
          "Average response: 0.544<br>Prediction: 0.26<br>cp_3 = 1.0<br>decreases average response <br>by 0.035",
          "Average response: 0.544<br>Prediction: 0.26<br>trtbps = 134.0<br>decreases average response <br>by 0.029",
          "Average response: 0.544<br>Prediction: 0.26<br>slp = 2.0<br>increases average response <br>by 0.024",
          "Average response: 0.544<br>Prediction: 0.26<br>cp_2 = 0.0<br>decreases average response <br>by 0.022",
          "Average response: 0.544<br>Prediction: 0.26<br>+ all other factors<br>decreases average response <br>by 0.023"
         ],
         "marker": {
          "color": [
           "#f05a71",
           "#f05a71",
           "#8bdcbe",
           "#f05a71",
           "#8bdcbe",
           "#f05a71",
           "#f05a71",
           "#8bdcbe",
           "#f05a71",
           "#f05a71"
          ]
         },
         "orientation": "h",
         "showlegend": false,
         "text": [
          "-0.185",
          "-0.075",
          "+0.068",
          "-0.045",
          "+0.039",
          "-0.035",
          "-0.029",
          "+0.024",
          "-0.022",
          "-0.023"
         ],
         "textposition": "outside",
         "type": "bar",
         "x": [
          -0.185,
          -0.075,
          0.068,
          -0.045,
          0.039,
          -0.035,
          -0.029,
          0.024,
          -0.022,
          -0.023
         ],
         "xaxis": "x",
         "y": [
          "caa = 2.0",
          "age = 59.0",
          "cp_0 = 0.0",
          "sex = 1.0",
          "thall = 2.0",
          "cp_3 = 1.0",
          "trtbps = 134.0",
          "slp = 2.0",
          "cp_2 = 0.0",
          "+ all other factors"
         ],
         "yaxis": "y"
        },
        {
         "base": 0.5442574257425743,
         "hoverinfo": "text",
         "hoverlabel": {
          "bgcolor": "rgba(0,0,0,0.8)"
         },
         "hovertext": [
          "Average response: 0.544<br>Prediction: 0.71<br>cp_3 = 1.0<br>increases average response <br>by 0.095",
          "Average response: 0.544<br>Prediction: 0.71<br>cp_0 = 0.0<br>increases average response <br>by 0.077",
          "Average response: 0.544<br>Prediction: 0.71<br>caa = 0.0<br>increases average response <br>by 0.073",
          "Average response: 0.544<br>Prediction: 0.71<br>thall = 3.0<br>decreases average response <br>by 0.045",
          "Average response: 0.544<br>Prediction: 0.71<br>exng = 0.0<br>increases average response <br>by 0.032",
          "Average response: 0.544<br>Prediction: 0.71<br>sex = 1.0<br>decreases average response <br>by 0.022",
          "Average response: 0.544<br>Prediction: 0.71<br>oldpeak = 4.2<br>decreases average response <br>by 0.017",
          "Average response: 0.544<br>Prediction: 0.71<br>slp = 0.0<br>increases average response <br>by 0.014",
          "Average response: 0.544<br>Prediction: 0.71<br>age = 59.0<br>decreases average response <br>by 0.012",
          "Average response: 0.544<br>Prediction: 0.71<br>+ all other factors<br>decreases average response <br>by 0.029"
         ],
         "marker": {
          "color": [
           "#8bdcbe",
           "#8bdcbe",
           "#8bdcbe",
           "#f05a71",
           "#8bdcbe",
           "#f05a71",
           "#f05a71",
           "#8bdcbe",
           "#f05a71",
           "#f05a71"
          ]
         },
         "orientation": "h",
         "showlegend": false,
         "text": [
          "+0.095",
          "+0.077",
          "+0.073",
          "-0.045",
          "+0.032",
          "-0.022",
          "-0.017",
          "+0.014",
          "-0.012",
          "-0.029"
         ],
         "textposition": "outside",
         "type": "bar",
         "x": [
          0.095,
          0.077,
          0.073,
          -0.045,
          0.032,
          -0.022,
          -0.017,
          0.014,
          -0.012,
          -0.029
         ],
         "xaxis": "x2",
         "y": [
          "cp_3 = 1.0",
          "cp_0 = 0.0",
          "caa = 0.0",
          "thall = 3.0",
          "exng = 0.0",
          "sex = 1.0",
          "oldpeak = 4.2",
          "slp = 0.0",
          "age = 59.0",
          "+ all other factors"
         ],
         "yaxis": "y2"
        }
       ],
       "layout": {
        "annotations": [
         {
          "font": {
           "size": 16
          },
          "showarrow": false,
          "text": "patient 99",
          "x": 0.5,
          "xanchor": "center",
          "xref": "paper",
          "y": 1,
          "yanchor": "bottom",
          "yref": "paper"
         },
         {
          "font": {
           "size": 16
          },
          "showarrow": false,
          "text": "patient 41",
          "x": 0.5,
          "xanchor": "center",
          "xref": "paper",
          "y": 0.45,
          "yanchor": "bottom",
          "yref": "paper"
         },
         {
          "font": {
           "size": 16
          },
          "showarrow": false,
          "text": "contribution",
          "x": 0.5,
          "xanchor": "center",
          "xref": "paper",
          "y": 0,
          "yanchor": "top",
          "yref": "paper",
          "yshift": -30
         }
        ],
        "font": {
         "color": "#371ea3"
        },
        "height": 667,
        "margin": {
         "b": 71,
         "r": 30,
         "t": 78
        },
        "shapes": [
         {
          "line": {
           "color": "#371ea3",
           "dash": "dot",
           "width": 1.5
          },
          "type": "line",
          "x0": 0.5442574257425743,
          "x1": 0.5442574257425743,
          "xref": "x",
          "y0": -1,
          "y1": 11,
          "yref": "y"
         },
         {
          "line": {
           "color": "#371ea3",
           "dash": "dot",
           "width": 1.5
          },
          "type": "line",
          "x0": 0.5442574257425743,
          "x1": 0.5442574257425743,
          "xref": "x2",
          "y0": -1,
          "y1": 11,
          "yref": "y2"
         }
        ],
        "template": {
         "data": {
          "scatter": [
           {
            "type": "scatter"
           }
          ]
         }
        },
        "title": {
         "text": "Shapley Values",
         "x": 0.15
        },
        "xaxis": {
         "anchor": "y",
         "automargin": true,
         "domain": [
          0,
          1
         ],
         "fixedrange": true,
         "gridwidth": 2,
         "matches": "x2",
         "range": [
          0.3213074257425743,
          0.6602574257425743
         ],
         "showticklabels": false,
         "tickcolor": "white",
         "ticklen": 3,
         "ticks": "outside",
         "type": "linear",
         "zeroline": false
        },
        "xaxis2": {
         "anchor": "y2",
         "automargin": true,
         "domain": [
          0,
          1
         ],
         "fixedrange": true,
         "gridwidth": 2,
         "range": [
          0.3213074257425743,
          0.6602574257425743
         ],
         "tickcolor": "white",
         "ticklen": 3,
         "ticks": "outside",
         "type": "linear",
         "zeroline": false
        },
        "yaxis": {
         "anchor": "x",
         "automargin": true,
         "autorange": "reversed",
         "domain": [
          0.55,
          1
         ],
         "fixedrange": true,
         "gridwidth": 2,
         "tickcolor": "white",
         "ticklen": 10,
         "ticks": "outside",
         "type": "category"
        },
        "yaxis2": {
         "anchor": "x2",
         "automargin": true,
         "autorange": "reversed",
         "domain": [
          0,
          0.45
         ],
         "fixedrange": true,
         "gridwidth": 2,
         "tickcolor": "white",
         "ticklen": 10,
         "ticks": "outside",
         "type": "category"
        }
       }
      }
     },
     "metadata": {},
     "output_type": "display_data"
    }
   ],
   "source": [
    "interesting_samples = [99, 41]\n",
    "\n",
    "for i in interesting_samples:\n",
    "    shap.plots.waterfall(shap_values[i])\n",
    "\n",
    "shap_attributions = [explainer.predict_parts(X.iloc[[i]], type=\"shap\", label=f'patient {i}', random_state=SEED) for i in interesting_samples]\n",
    "shap_attributions[0].plot(shap_attributions[1:])"
   ]
  },
  {
   "cell_type": "markdown",
   "metadata": {},
   "source": [
    "### 6. Packages comparison\n",
    "No code is needed. Previous cells are enough."
   ]
  },
  {
   "cell_type": "markdown",
   "metadata": {},
   "source": [
    "### 7. Different model evaluated using dalex"
   ]
  },
  {
   "cell_type": "code",
   "execution_count": 194,
   "metadata": {},
   "outputs": [
    {
     "name": "stdout",
     "output_type": "stream",
     "text": [
      "Preparation of a new explainer is initiated\n",
      "\n",
      "  -> data              : 303 rows 18 cols\n",
      "  -> target variable   : Parameter 'y' was a pandas.Series. Converted to a numpy.ndarray.\n",
      "  -> target variable   : 303 values\n",
      "  -> model_class       : sklearn.linear_model._logistic.LogisticRegression (default)\n",
      "  -> label             : Not specified, model's class short name will be used. (default)\n",
      "  -> predict function  : <function <lambda> at 0x7fbdeeebbca0> will be used\n",
      "  -> predict function  : Accepts pandas.DataFrame and numpy.ndarray.\n",
      "  -> predicted values  : min = 0.00166, mean = 0.545, max = 0.997\n",
      "  -> model type        : classification will be used (default)\n",
      "  -> residual function : difference between y and yhat (default)\n",
      "  -> residuals         : min = -0.961, mean = -2.34e-06, max = 0.955\n",
      "  -> model_info        : package sklearn\n",
      "\n",
      "A new explainer has been created!\n"
     ]
    },
    {
     "name": "stderr",
     "output_type": "stream",
     "text": [
      "/home/maciej/Documents/Studia/Zima 2022/XAI/TrustworthyMachineLearning-2023/Homeworks/venv/lib/python3.8/site-packages/sklearn/base.py:450: UserWarning:\n",
      "\n",
      "X does not have valid feature names, but LogisticRegression was fitted with feature names\n",
      "\n"
     ]
    },
    {
     "data": {
      "application/vnd.plotly.v1+json": {
       "config": {
        "displaylogo": false,
        "modeBarButtonsToRemove": [
         "sendDataToCloud",
         "lasso2d",
         "autoScale2d",
         "select2d",
         "zoom2d",
         "pan2d",
         "zoomIn2d",
         "zoomOut2d",
         "resetScale2d",
         "toggleSpikelines",
         "hoverCompareCartesian",
         "hoverClosestCartesian"
        ],
        "plotlyServerURL": "https://plot.ly",
        "staticPlot": false,
        "toImageButtonOptions": {
         "height": null,
         "width": null
        }
       },
       "data": [
        {
         "base": 0.5445568002989608,
         "hoverinfo": "text",
         "hoverlabel": {
          "bgcolor": "rgba(0,0,0,0.8)"
         },
         "hovertext": [
          "Average response: 0.545<br>Prediction: 0.993<br>sex = 0.0<br>increases average response <br>by 0.088",
          "Average response: 0.545<br>Prediction: 0.993<br>cp_0 = 0.0<br>increases average response <br>by 0.064",
          "Average response: 0.545<br>Prediction: 0.993<br>caa = 0.0<br>increases average response <br>by 0.051",
          "Average response: 0.545<br>Prediction: 0.993<br>oldpeak = 0.0<br>increases average response <br>by 0.049",
          "Average response: 0.545<br>Prediction: 0.993<br>cp_2 = 1.0<br>increases average response <br>by 0.043",
          "Average response: 0.545<br>Prediction: 0.993<br>thalachh = 170.0<br>increases average response <br>by 0.036",
          "Average response: 0.545<br>Prediction: 0.993<br>slp = 2.0<br>increases average response <br>by 0.029",
          "Average response: 0.545<br>Prediction: 0.993<br>thall = 2.0<br>increases average response <br>by 0.027",
          "Average response: 0.545<br>Prediction: 0.993<br>exng = 0.0<br>increases average response <br>by 0.02",
          "Average response: 0.545<br>Prediction: 0.993<br>+ all other factors<br>increases average response <br>by 0.043"
         ],
         "marker": {
          "color": [
           "#8bdcbe",
           "#8bdcbe",
           "#8bdcbe",
           "#8bdcbe",
           "#8bdcbe",
           "#8bdcbe",
           "#8bdcbe",
           "#8bdcbe",
           "#8bdcbe",
           "#8bdcbe"
          ]
         },
         "orientation": "h",
         "showlegend": false,
         "text": [
          "+0.088",
          "+0.064",
          "+0.051",
          "+0.049",
          "+0.043",
          "+0.036",
          "+0.029",
          "+0.027",
          "+0.02",
          "+0.043"
         ],
         "textposition": "outside",
         "type": "bar",
         "x": [
          0.088,
          0.064,
          0.051,
          0.049,
          0.043,
          0.036,
          0.029,
          0.027,
          0.02,
          0.043
         ],
         "xaxis": "x",
         "y": [
          "sex = 0.0",
          "cp_0 = 0.0",
          "caa = 0.0",
          "oldpeak = 0.0",
          "cp_2 = 1.0",
          "thalachh = 170.0",
          "slp = 2.0",
          "thall = 2.0",
          "exng = 0.0",
          "+ all other factors"
         ],
         "yaxis": "y"
        },
        {
         "base": 0.5445568002989608,
         "hoverinfo": "text",
         "hoverlabel": {
          "bgcolor": "rgba(0,0,0,0.8)"
         },
         "hovertext": [
          "Average response: 0.545<br>Prediction: 0.352<br>caa = 2.0<br>decreases average response <br>by 0.178",
          "Average response: 0.545<br>Prediction: 0.352<br>oldpeak = 2.6<br>decreases average response <br>by 0.139",
          "Average response: 0.545<br>Prediction: 0.352<br>cp_3 = 1.0<br>increases average response <br>by 0.09",
          "Average response: 0.545<br>Prediction: 0.352<br>cp_0 = 0.0<br>increases average response <br>by 0.084",
          "Average response: 0.545<br>Prediction: 0.352<br>sex = 1.0<br>decreases average response <br>by 0.073",
          "Average response: 0.545<br>Prediction: 0.352<br>exng = 0.0<br>increases average response <br>by 0.042",
          "Average response: 0.545<br>Prediction: 0.352<br>thall = 2.0<br>increases average response <br>by 0.038",
          "Average response: 0.545<br>Prediction: 0.352<br>slp = 1.0<br>decreases average response <br>by 0.035",
          "Average response: 0.545<br>Prediction: 0.352<br>cp_2 = 0.0<br>decreases average response <br>by 0.029",
          "Average response: 0.545<br>Prediction: 0.352<br>+ all other factors<br>increases average response <br>by 0.008"
         ],
         "marker": {
          "color": [
           "#f05a71",
           "#f05a71",
           "#8bdcbe",
           "#8bdcbe",
           "#f05a71",
           "#8bdcbe",
           "#8bdcbe",
           "#f05a71",
           "#f05a71",
           "#8bdcbe"
          ]
         },
         "orientation": "h",
         "showlegend": false,
         "text": [
          "-0.178",
          "-0.139",
          "+0.09",
          "+0.084",
          "-0.073",
          "+0.042",
          "+0.038",
          "-0.035",
          "-0.029",
          "+0.008"
         ],
         "textposition": "outside",
         "type": "bar",
         "x": [
          -0.178,
          -0.139,
          0.09,
          0.084,
          -0.073,
          0.042,
          0.038,
          -0.035,
          -0.029,
          0.008
         ],
         "xaxis": "x2",
         "y": [
          "caa = 2.0",
          "oldpeak = 2.6",
          "cp_3 = 1.0",
          "cp_0 = 0.0",
          "sex = 1.0",
          "exng = 0.0",
          "thall = 2.0",
          "slp = 1.0",
          "cp_2 = 0.0",
          "+ all other factors"
         ],
         "yaxis": "y2"
        }
       ],
       "layout": {
        "annotations": [
         {
          "font": {
           "size": 16
          },
          "showarrow": false,
          "text": "patient 0",
          "x": 0.5,
          "xanchor": "center",
          "xref": "paper",
          "y": 1,
          "yanchor": "bottom",
          "yref": "paper"
         },
         {
          "font": {
           "size": 16
          },
          "showarrow": false,
          "text": "patient 1",
          "x": 0.5,
          "xanchor": "center",
          "xref": "paper",
          "y": 0.45,
          "yanchor": "bottom",
          "yref": "paper"
         },
         {
          "font": {
           "size": 16
          },
          "showarrow": false,
          "text": "contribution",
          "x": 0.5,
          "xanchor": "center",
          "xref": "paper",
          "y": 0,
          "yanchor": "top",
          "yref": "paper",
          "yshift": -30
         }
        ],
        "font": {
         "color": "#371ea3"
        },
        "height": 667,
        "margin": {
         "b": 71,
         "r": 30,
         "t": 78
        },
        "shapes": [
         {
          "line": {
           "color": "#371ea3",
           "dash": "dot",
           "width": 1.5
          },
          "type": "line",
          "x0": 0.5445568002989608,
          "x1": 0.5445568002989608,
          "xref": "x",
          "y0": -1,
          "y1": 11,
          "yref": "y"
         },
         {
          "line": {
           "color": "#371ea3",
           "dash": "dot",
           "width": 1.5
          },
          "type": "line",
          "x0": 0.5445568002989608,
          "x1": 0.5445568002989608,
          "xref": "x2",
          "y0": -1,
          "y1": 11,
          "yref": "y2"
         }
        ],
        "template": {
         "data": {
          "scatter": [
           {
            "type": "scatter"
           }
          ]
         }
        },
        "title": {
         "text": "Shapley Values",
         "x": 0.15
        },
        "xaxis": {
         "anchor": "y",
         "automargin": true,
         "domain": [
          0,
          1
         ],
         "fixedrange": true,
         "gridwidth": 2,
         "matches": "x2",
         "range": [
          0.3263568002989608,
          0.6747568002989608
         ],
         "showticklabels": false,
         "tickcolor": "white",
         "ticklen": 3,
         "ticks": "outside",
         "type": "linear",
         "zeroline": false
        },
        "xaxis2": {
         "anchor": "y2",
         "automargin": true,
         "domain": [
          0,
          1
         ],
         "fixedrange": true,
         "gridwidth": 2,
         "range": [
          0.3263568002989608,
          0.6747568002989608
         ],
         "tickcolor": "white",
         "ticklen": 3,
         "ticks": "outside",
         "type": "linear",
         "zeroline": false
        },
        "yaxis": {
         "anchor": "x",
         "automargin": true,
         "autorange": "reversed",
         "domain": [
          0.55,
          1
         ],
         "fixedrange": true,
         "gridwidth": 2,
         "tickcolor": "white",
         "ticklen": 10,
         "ticks": "outside",
         "type": "category"
        },
        "yaxis2": {
         "anchor": "x2",
         "automargin": true,
         "autorange": "reversed",
         "domain": [
          0,
          0.45
         ],
         "fixedrange": true,
         "gridwidth": 2,
         "tickcolor": "white",
         "ticklen": 10,
         "ticks": "outside",
         "type": "category"
        }
       }
      }
     },
     "metadata": {},
     "output_type": "display_data"
    }
   ],
   "source": [
    "from sklearn.linear_model import LogisticRegression\n",
    "\n",
    "model = LogisticRegression(random_state=SEED, max_iter=5000)\n",
    "\n",
    "model.fit(X, y)\n",
    "\n",
    "pf = lambda m, d: m.predict_proba(d)[:, 1]\n",
    "\n",
    "explainer = dx.Explainer(model, X, y, predict_function=pf)\n",
    "\n",
    "shap_attributions = [explainer.predict_parts(X.iloc[[i]], type=\"shap\", label=f'patient {i}', random_state=SEED) for i in range(2)]\n",
    "shap_attributions[0].plot(shap_attributions[1:])"
   ]
  }
 ],
 "metadata": {
  "kernelspec": {
   "display_name": "Python 3.8.10 ('venv')",
   "language": "python",
   "name": "python3"
  },
  "language_info": {
   "codemirror_mode": {
    "name": "ipython",
    "version": 3
   },
   "file_extension": ".py",
   "mimetype": "text/x-python",
   "name": "python",
   "nbconvert_exporter": "python",
   "pygments_lexer": "ipython3",
   "version": "3.8.10"
  },
  "orig_nbformat": 4,
  "vscode": {
   "interpreter": {
    "hash": "7f68f7f6cdd5844cce5a8d1caf2ba994ee10b9ca294b47bb9eef318a53e31a26"
   }
  }
 },
 "nbformat": 4,
 "nbformat_minor": 2
}
