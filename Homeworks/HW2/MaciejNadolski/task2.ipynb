{
 "cells": [
  {
   "cell_type": "markdown",
   "metadata": {},
   "source": [
    "Calculate Shapley values for player A given the following value function\n",
    "```\n",
    "v() = 0\n",
    "v(A) = 20\n",
    "v(B) = 20\n",
    "v(C) = 60\n",
    "v(A,B) = 60\n",
    "v(A,C) = 70\n",
    "v(B,C) = 70\n",
    "v(A,B,C) = 100\n",
    "```"
   ]
  },
  {
   "cell_type": "markdown",
   "metadata": {},
   "source": [
    "Let's take a look at `A`'s contribution to different coalitions:\n",
    "\n",
    "v(A) - v() = 20\n",
    "v(A,B) - v(B) = 40\n",
    "v(A,C) - v(C) = 10\n",
    "v(A,B,C) - v(B,C) = 30\n",
    "\n",
    "There are 6 different permutations of `ABC`, the middle two contributions appear in `BAC` and `CAB` permutations respectively, the first one on `ABC` and `ACB` and the last one on `BCA` and `CBA`. Therefore the middle ones will be counted once, first and last twice each:\n",
    "```\n",
    "S(A) = 1/6 * (2*20 + 1*40 + 1*10 + 2*30) = 25\n",
    "```"
   ]
  }
 ],
 "metadata": {
  "kernelspec": {
   "display_name": "Python 3.10.7 64-bit",
   "language": "python",
   "name": "python3"
  },
  "language_info": {
   "name": "python",
   "version": "3.10.7"
  },
  "orig_nbformat": 4,
  "vscode": {
   "interpreter": {
    "hash": "aee8b7b246df8f9039afb4144a1f6fd8d2ca17a180786b69acc140d282b71a49"
   }
  }
 },
 "nbformat": 4,
 "nbformat_minor": 2
}
