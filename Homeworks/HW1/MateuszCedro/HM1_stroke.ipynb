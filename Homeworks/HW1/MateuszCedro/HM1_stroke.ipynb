{
 "cells": [
  {
   "cell_type": "markdown",
   "metadata": {},
   "source": [
    "# Mateusz Cedro - HM1\n",
    "###  Brain Stroke Dataset"
   ]
  },
  {
   "cell_type": "code",
   "execution_count": 1,
   "metadata": {},
   "outputs": [],
   "source": [
    "#pip install imbalanced-learn"
   ]
  },
  {
   "cell_type": "code",
   "execution_count": 2,
   "metadata": {},
   "outputs": [],
   "source": [
    "import warnings\n",
    "warnings.simplefilter(action='ignore', category=FutureWarning)"
   ]
  },
  {
   "cell_type": "code",
   "execution_count": 3,
   "metadata": {},
   "outputs": [],
   "source": [
    "import numpy as np\n",
    "import pandas as pd\n",
    "import seaborn as sns\n",
    "import matplotlib.pyplot as plt"
   ]
  },
  {
   "cell_type": "code",
   "execution_count": 4,
   "metadata": {},
   "outputs": [],
   "source": [
    "import imblearn\n",
    "from imblearn.over_sampling import SMOTE"
   ]
  },
  {
   "cell_type": "code",
   "execution_count": 88,
   "metadata": {},
   "outputs": [],
   "source": [
    "import xgboost as xgb\n",
    "\n",
    "from sklearn import metrics\n",
    "from sklearn.model_selection import train_test_split\n",
    "from sklearn.metrics import accuracy_score, confusion_matrix\n",
    "from sklearn.metrics import mean_squared_error\n",
    "from sklearn.model_selection import train_test_split"
   ]
  },
  {
   "cell_type": "code",
   "execution_count": 6,
   "metadata": {},
   "outputs": [],
   "source": [
    "path = r'C:\\Users\\Mateusz\\Documents\\Studia nauka\\ML MIM\\xai_mim\\brain_stroke.csv'\n",
    "df = pd.read_csv(path)"
   ]
  },
  {
   "cell_type": "code",
   "execution_count": 7,
   "metadata": {},
   "outputs": [
    {
     "data": {
      "text/html": [
       "<div>\n",
       "<style scoped>\n",
       "    .dataframe tbody tr th:only-of-type {\n",
       "        vertical-align: middle;\n",
       "    }\n",
       "\n",
       "    .dataframe tbody tr th {\n",
       "        vertical-align: top;\n",
       "    }\n",
       "\n",
       "    .dataframe thead th {\n",
       "        text-align: right;\n",
       "    }\n",
       "</style>\n",
       "<table border=\"1\" class=\"dataframe\">\n",
       "  <thead>\n",
       "    <tr style=\"text-align: right;\">\n",
       "      <th></th>\n",
       "      <th>gender</th>\n",
       "      <th>age</th>\n",
       "      <th>hypertension</th>\n",
       "      <th>heart_disease</th>\n",
       "      <th>ever_married</th>\n",
       "      <th>work_type</th>\n",
       "      <th>Residence_type</th>\n",
       "      <th>avg_glucose_level</th>\n",
       "      <th>bmi</th>\n",
       "      <th>smoking_status</th>\n",
       "      <th>stroke</th>\n",
       "    </tr>\n",
       "  </thead>\n",
       "  <tbody>\n",
       "    <tr>\n",
       "      <th>4976</th>\n",
       "      <td>Male</td>\n",
       "      <td>41.0</td>\n",
       "      <td>0</td>\n",
       "      <td>0</td>\n",
       "      <td>No</td>\n",
       "      <td>Private</td>\n",
       "      <td>Rural</td>\n",
       "      <td>70.15</td>\n",
       "      <td>29.8</td>\n",
       "      <td>formerly smoked</td>\n",
       "      <td>0</td>\n",
       "    </tr>\n",
       "    <tr>\n",
       "      <th>4977</th>\n",
       "      <td>Male</td>\n",
       "      <td>40.0</td>\n",
       "      <td>0</td>\n",
       "      <td>0</td>\n",
       "      <td>Yes</td>\n",
       "      <td>Private</td>\n",
       "      <td>Urban</td>\n",
       "      <td>191.15</td>\n",
       "      <td>31.1</td>\n",
       "      <td>smokes</td>\n",
       "      <td>0</td>\n",
       "    </tr>\n",
       "    <tr>\n",
       "      <th>4978</th>\n",
       "      <td>Female</td>\n",
       "      <td>45.0</td>\n",
       "      <td>1</td>\n",
       "      <td>0</td>\n",
       "      <td>Yes</td>\n",
       "      <td>Govt_job</td>\n",
       "      <td>Rural</td>\n",
       "      <td>95.02</td>\n",
       "      <td>31.8</td>\n",
       "      <td>smokes</td>\n",
       "      <td>0</td>\n",
       "    </tr>\n",
       "    <tr>\n",
       "      <th>4979</th>\n",
       "      <td>Male</td>\n",
       "      <td>40.0</td>\n",
       "      <td>0</td>\n",
       "      <td>0</td>\n",
       "      <td>Yes</td>\n",
       "      <td>Private</td>\n",
       "      <td>Rural</td>\n",
       "      <td>83.94</td>\n",
       "      <td>30.0</td>\n",
       "      <td>smokes</td>\n",
       "      <td>0</td>\n",
       "    </tr>\n",
       "    <tr>\n",
       "      <th>4980</th>\n",
       "      <td>Female</td>\n",
       "      <td>80.0</td>\n",
       "      <td>1</td>\n",
       "      <td>0</td>\n",
       "      <td>Yes</td>\n",
       "      <td>Private</td>\n",
       "      <td>Urban</td>\n",
       "      <td>83.75</td>\n",
       "      <td>29.1</td>\n",
       "      <td>never smoked</td>\n",
       "      <td>0</td>\n",
       "    </tr>\n",
       "  </tbody>\n",
       "</table>\n",
       "</div>"
      ],
      "text/plain": [
       "      gender   age  hypertension  heart_disease ever_married work_type  \\\n",
       "4976    Male  41.0             0              0           No   Private   \n",
       "4977    Male  40.0             0              0          Yes   Private   \n",
       "4978  Female  45.0             1              0          Yes  Govt_job   \n",
       "4979    Male  40.0             0              0          Yes   Private   \n",
       "4980  Female  80.0             1              0          Yes   Private   \n",
       "\n",
       "     Residence_type  avg_glucose_level   bmi   smoking_status  stroke  \n",
       "4976          Rural              70.15  29.8  formerly smoked       0  \n",
       "4977          Urban             191.15  31.1           smokes       0  \n",
       "4978          Rural              95.02  31.8           smokes       0  \n",
       "4979          Rural              83.94  30.0           smokes       0  \n",
       "4980          Urban              83.75  29.1     never smoked       0  "
      ]
     },
     "execution_count": 7,
     "metadata": {},
     "output_type": "execute_result"
    }
   ],
   "source": [
    "# Data preview\n",
    "df.tail()"
   ]
  },
  {
   "cell_type": "code",
   "execution_count": 8,
   "metadata": {},
   "outputs": [
    {
     "data": {
      "text/html": [
       "<div>\n",
       "<style scoped>\n",
       "    .dataframe tbody tr th:only-of-type {\n",
       "        vertical-align: middle;\n",
       "    }\n",
       "\n",
       "    .dataframe tbody tr th {\n",
       "        vertical-align: top;\n",
       "    }\n",
       "\n",
       "    .dataframe thead th {\n",
       "        text-align: right;\n",
       "    }\n",
       "</style>\n",
       "<table border=\"1\" class=\"dataframe\">\n",
       "  <thead>\n",
       "    <tr style=\"text-align: right;\">\n",
       "      <th></th>\n",
       "      <th>age</th>\n",
       "      <th>hypertension</th>\n",
       "      <th>heart_disease</th>\n",
       "      <th>avg_glucose_level</th>\n",
       "      <th>bmi</th>\n",
       "      <th>stroke</th>\n",
       "    </tr>\n",
       "  </thead>\n",
       "  <tbody>\n",
       "    <tr>\n",
       "      <th>count</th>\n",
       "      <td>4981.00</td>\n",
       "      <td>4981.00</td>\n",
       "      <td>4981.00</td>\n",
       "      <td>4981.00</td>\n",
       "      <td>4981.00</td>\n",
       "      <td>4981.00</td>\n",
       "    </tr>\n",
       "    <tr>\n",
       "      <th>mean</th>\n",
       "      <td>43.42</td>\n",
       "      <td>0.10</td>\n",
       "      <td>0.06</td>\n",
       "      <td>105.94</td>\n",
       "      <td>28.50</td>\n",
       "      <td>0.05</td>\n",
       "    </tr>\n",
       "    <tr>\n",
       "      <th>std</th>\n",
       "      <td>22.66</td>\n",
       "      <td>0.29</td>\n",
       "      <td>0.23</td>\n",
       "      <td>45.08</td>\n",
       "      <td>6.79</td>\n",
       "      <td>0.22</td>\n",
       "    </tr>\n",
       "    <tr>\n",
       "      <th>min</th>\n",
       "      <td>0.08</td>\n",
       "      <td>0.00</td>\n",
       "      <td>0.00</td>\n",
       "      <td>55.12</td>\n",
       "      <td>14.00</td>\n",
       "      <td>0.00</td>\n",
       "    </tr>\n",
       "    <tr>\n",
       "      <th>25%</th>\n",
       "      <td>25.00</td>\n",
       "      <td>0.00</td>\n",
       "      <td>0.00</td>\n",
       "      <td>77.23</td>\n",
       "      <td>23.70</td>\n",
       "      <td>0.00</td>\n",
       "    </tr>\n",
       "    <tr>\n",
       "      <th>50%</th>\n",
       "      <td>45.00</td>\n",
       "      <td>0.00</td>\n",
       "      <td>0.00</td>\n",
       "      <td>91.85</td>\n",
       "      <td>28.10</td>\n",
       "      <td>0.00</td>\n",
       "    </tr>\n",
       "    <tr>\n",
       "      <th>75%</th>\n",
       "      <td>61.00</td>\n",
       "      <td>0.00</td>\n",
       "      <td>0.00</td>\n",
       "      <td>113.86</td>\n",
       "      <td>32.60</td>\n",
       "      <td>0.00</td>\n",
       "    </tr>\n",
       "    <tr>\n",
       "      <th>max</th>\n",
       "      <td>82.00</td>\n",
       "      <td>1.00</td>\n",
       "      <td>1.00</td>\n",
       "      <td>271.74</td>\n",
       "      <td>48.90</td>\n",
       "      <td>1.00</td>\n",
       "    </tr>\n",
       "  </tbody>\n",
       "</table>\n",
       "</div>"
      ],
      "text/plain": [
       "           age  hypertension  heart_disease  avg_glucose_level      bmi  \\\n",
       "count  4981.00       4981.00        4981.00            4981.00  4981.00   \n",
       "mean     43.42          0.10           0.06             105.94    28.50   \n",
       "std      22.66          0.29           0.23              45.08     6.79   \n",
       "min       0.08          0.00           0.00              55.12    14.00   \n",
       "25%      25.00          0.00           0.00              77.23    23.70   \n",
       "50%      45.00          0.00           0.00              91.85    28.10   \n",
       "75%      61.00          0.00           0.00             113.86    32.60   \n",
       "max      82.00          1.00           1.00             271.74    48.90   \n",
       "\n",
       "        stroke  \n",
       "count  4981.00  \n",
       "mean      0.05  \n",
       "std       0.22  \n",
       "min       0.00  \n",
       "25%       0.00  \n",
       "50%       0.00  \n",
       "75%       0.00  \n",
       "max       1.00  "
      ]
     },
     "execution_count": 8,
     "metadata": {},
     "output_type": "execute_result"
    }
   ],
   "source": [
    "df.describe().round(2)"
   ]
  },
  {
   "cell_type": "code",
   "execution_count": 9,
   "metadata": {},
   "outputs": [
    {
     "data": {
      "text/plain": [
       "gender               False\n",
       "age                  False\n",
       "hypertension         False\n",
       "heart_disease        False\n",
       "ever_married         False\n",
       "work_type            False\n",
       "Residence_type       False\n",
       "avg_glucose_level    False\n",
       "bmi                  False\n",
       "smoking_status       False\n",
       "stroke               False\n",
       "dtype: bool"
      ]
     },
     "execution_count": 9,
     "metadata": {},
     "output_type": "execute_result"
    }
   ],
   "source": [
    "# Null check\n",
    "df.isnull().all()"
   ]
  },
  {
   "cell_type": "code",
   "execution_count": 10,
   "metadata": {},
   "outputs": [
    {
     "name": "stdout",
     "output_type": "stream",
     "text": [
      "<class 'pandas.core.frame.DataFrame'>\n",
      "RangeIndex: 4981 entries, 0 to 4980\n",
      "Data columns (total 11 columns):\n",
      " #   Column             Non-Null Count  Dtype  \n",
      "---  ------             --------------  -----  \n",
      " 0   gender             4981 non-null   object \n",
      " 1   age                4981 non-null   float64\n",
      " 2   hypertension       4981 non-null   int64  \n",
      " 3   heart_disease      4981 non-null   int64  \n",
      " 4   ever_married       4981 non-null   object \n",
      " 5   work_type          4981 non-null   object \n",
      " 6   Residence_type     4981 non-null   object \n",
      " 7   avg_glucose_level  4981 non-null   float64\n",
      " 8   bmi                4981 non-null   float64\n",
      " 9   smoking_status     4981 non-null   object \n",
      " 10  stroke             4981 non-null   int64  \n",
      "dtypes: float64(3), int64(3), object(5)\n",
      "memory usage: 428.2+ KB\n"
     ]
    }
   ],
   "source": [
    "# Data type check\n",
    "df.info()"
   ]
  },
  {
   "cell_type": "code",
   "execution_count": 12,
   "metadata": {},
   "outputs": [
    {
     "name": "stdout",
     "output_type": "stream",
     "text": [
      "['Male' 'Female']\n",
      "['Yes' 'No']\n",
      "['Private' 'Self-employed' 'Govt_job' 'children']\n",
      "['Urban' 'Rural']\n",
      "['formerly smoked' 'never smoked' 'smokes' 'Unknown']\n"
     ]
    }
   ],
   "source": [
    "df_cat = df[['gender','ever_married','work_type','Residence_type','smoking_status']]\n",
    "\n",
    "df_num = df[['age','hypertension','heart_disease','avg_glucose_level','bmi','stroke']]\n",
    "\n",
    "# Printing unique values for categorical data\n",
    "print(df_cat['gender'].unique())\n",
    "print(df_cat['ever_married'].unique())\n",
    "print(df_cat['work_type'].unique())\n",
    "print(df_cat['Residence_type'].unique())\n",
    "print(df_cat['smoking_status'].unique())"
   ]
  },
  {
   "cell_type": "code",
   "execution_count": 13,
   "metadata": {},
   "outputs": [
    {
     "data": {
      "text/html": [
       "<div>\n",
       "<style scoped>\n",
       "    .dataframe tbody tr th:only-of-type {\n",
       "        vertical-align: middle;\n",
       "    }\n",
       "\n",
       "    .dataframe tbody tr th {\n",
       "        vertical-align: top;\n",
       "    }\n",
       "\n",
       "    .dataframe thead th {\n",
       "        text-align: right;\n",
       "    }\n",
       "</style>\n",
       "<table border=\"1\" class=\"dataframe\">\n",
       "  <thead>\n",
       "    <tr style=\"text-align: right;\">\n",
       "      <th></th>\n",
       "      <th>gender_Male</th>\n",
       "      <th>ever_married_Yes</th>\n",
       "      <th>work_type_Private</th>\n",
       "      <th>work_type_Self-employed</th>\n",
       "      <th>work_type_children</th>\n",
       "      <th>Residence_type_Urban</th>\n",
       "      <th>smoking_status_formerly smoked</th>\n",
       "      <th>smoking_status_never smoked</th>\n",
       "      <th>smoking_status_smokes</th>\n",
       "      <th>age</th>\n",
       "      <th>hypertension</th>\n",
       "      <th>heart_disease</th>\n",
       "      <th>avg_glucose_level</th>\n",
       "      <th>bmi</th>\n",
       "      <th>stroke</th>\n",
       "    </tr>\n",
       "  </thead>\n",
       "  <tbody>\n",
       "    <tr>\n",
       "      <th>0</th>\n",
       "      <td>1</td>\n",
       "      <td>1</td>\n",
       "      <td>1</td>\n",
       "      <td>0</td>\n",
       "      <td>0</td>\n",
       "      <td>1</td>\n",
       "      <td>1</td>\n",
       "      <td>0</td>\n",
       "      <td>0</td>\n",
       "      <td>67.0</td>\n",
       "      <td>0</td>\n",
       "      <td>1</td>\n",
       "      <td>228.69</td>\n",
       "      <td>36.6</td>\n",
       "      <td>1</td>\n",
       "    </tr>\n",
       "    <tr>\n",
       "      <th>1</th>\n",
       "      <td>1</td>\n",
       "      <td>1</td>\n",
       "      <td>1</td>\n",
       "      <td>0</td>\n",
       "      <td>0</td>\n",
       "      <td>0</td>\n",
       "      <td>0</td>\n",
       "      <td>1</td>\n",
       "      <td>0</td>\n",
       "      <td>80.0</td>\n",
       "      <td>0</td>\n",
       "      <td>1</td>\n",
       "      <td>105.92</td>\n",
       "      <td>32.5</td>\n",
       "      <td>1</td>\n",
       "    </tr>\n",
       "    <tr>\n",
       "      <th>2</th>\n",
       "      <td>0</td>\n",
       "      <td>1</td>\n",
       "      <td>1</td>\n",
       "      <td>0</td>\n",
       "      <td>0</td>\n",
       "      <td>1</td>\n",
       "      <td>0</td>\n",
       "      <td>0</td>\n",
       "      <td>1</td>\n",
       "      <td>49.0</td>\n",
       "      <td>0</td>\n",
       "      <td>0</td>\n",
       "      <td>171.23</td>\n",
       "      <td>34.4</td>\n",
       "      <td>1</td>\n",
       "    </tr>\n",
       "    <tr>\n",
       "      <th>3</th>\n",
       "      <td>0</td>\n",
       "      <td>1</td>\n",
       "      <td>0</td>\n",
       "      <td>1</td>\n",
       "      <td>0</td>\n",
       "      <td>0</td>\n",
       "      <td>0</td>\n",
       "      <td>1</td>\n",
       "      <td>0</td>\n",
       "      <td>79.0</td>\n",
       "      <td>1</td>\n",
       "      <td>0</td>\n",
       "      <td>174.12</td>\n",
       "      <td>24.0</td>\n",
       "      <td>1</td>\n",
       "    </tr>\n",
       "    <tr>\n",
       "      <th>4</th>\n",
       "      <td>1</td>\n",
       "      <td>1</td>\n",
       "      <td>1</td>\n",
       "      <td>0</td>\n",
       "      <td>0</td>\n",
       "      <td>1</td>\n",
       "      <td>1</td>\n",
       "      <td>0</td>\n",
       "      <td>0</td>\n",
       "      <td>81.0</td>\n",
       "      <td>0</td>\n",
       "      <td>0</td>\n",
       "      <td>186.21</td>\n",
       "      <td>29.0</td>\n",
       "      <td>1</td>\n",
       "    </tr>\n",
       "  </tbody>\n",
       "</table>\n",
       "</div>"
      ],
      "text/plain": [
       "   gender_Male  ever_married_Yes  work_type_Private  work_type_Self-employed  \\\n",
       "0            1                 1                  1                        0   \n",
       "1            1                 1                  1                        0   \n",
       "2            0                 1                  1                        0   \n",
       "3            0                 1                  0                        1   \n",
       "4            1                 1                  1                        0   \n",
       "\n",
       "   work_type_children  Residence_type_Urban  smoking_status_formerly smoked  \\\n",
       "0                   0                     1                               1   \n",
       "1                   0                     0                               0   \n",
       "2                   0                     1                               0   \n",
       "3                   0                     0                               0   \n",
       "4                   0                     1                               1   \n",
       "\n",
       "   smoking_status_never smoked  smoking_status_smokes   age  hypertension  \\\n",
       "0                            0                      0  67.0             0   \n",
       "1                            1                      0  80.0             0   \n",
       "2                            0                      1  49.0             0   \n",
       "3                            1                      0  79.0             1   \n",
       "4                            0                      0  81.0             0   \n",
       "\n",
       "   heart_disease  avg_glucose_level   bmi  stroke  \n",
       "0              1             228.69  36.6       1  \n",
       "1              1             105.92  32.5       1  \n",
       "2              0             171.23  34.4       1  \n",
       "3              0             174.12  24.0       1  \n",
       "4              0             186.21  29.0       1  "
      ]
     },
     "execution_count": 13,
     "metadata": {},
     "output_type": "execute_result"
    }
   ],
   "source": [
    "# Data manipulation\n",
    "df_cat = pd.get_dummies(df_cat, drop_first = True)\n",
    "df1 = pd.concat([df_cat, df_num], axis=1)\n",
    "df1.head()"
   ]
  },
  {
   "cell_type": "code",
   "execution_count": 14,
   "metadata": {},
   "outputs": [
    {
     "data": {
      "text/html": [
       "<div>\n",
       "<style scoped>\n",
       "    .dataframe tbody tr th:only-of-type {\n",
       "        vertical-align: middle;\n",
       "    }\n",
       "\n",
       "    .dataframe tbody tr th {\n",
       "        vertical-align: top;\n",
       "    }\n",
       "\n",
       "    .dataframe thead th {\n",
       "        text-align: right;\n",
       "    }\n",
       "</style>\n",
       "<table border=\"1\" class=\"dataframe\">\n",
       "  <thead>\n",
       "    <tr style=\"text-align: right;\">\n",
       "      <th></th>\n",
       "      <th>gender_Male</th>\n",
       "      <th>ever_married_Yes</th>\n",
       "      <th>work_type_Private</th>\n",
       "      <th>work_type_Self-employed</th>\n",
       "      <th>work_type_children</th>\n",
       "      <th>Residence_type_Urban</th>\n",
       "      <th>smoking_status_formerly smoked</th>\n",
       "      <th>smoking_status_never smoked</th>\n",
       "      <th>smoking_status_smokes</th>\n",
       "      <th>age</th>\n",
       "      <th>hypertension</th>\n",
       "      <th>heart_disease</th>\n",
       "      <th>avg_glucose_level</th>\n",
       "      <th>bmi</th>\n",
       "      <th>stroke</th>\n",
       "    </tr>\n",
       "  </thead>\n",
       "  <tbody>\n",
       "    <tr>\n",
       "      <th>4976</th>\n",
       "      <td>1</td>\n",
       "      <td>0</td>\n",
       "      <td>1</td>\n",
       "      <td>0</td>\n",
       "      <td>0</td>\n",
       "      <td>0</td>\n",
       "      <td>1</td>\n",
       "      <td>0</td>\n",
       "      <td>0</td>\n",
       "      <td>41.0</td>\n",
       "      <td>0</td>\n",
       "      <td>0</td>\n",
       "      <td>70.15</td>\n",
       "      <td>29.8</td>\n",
       "      <td>0</td>\n",
       "    </tr>\n",
       "    <tr>\n",
       "      <th>4977</th>\n",
       "      <td>1</td>\n",
       "      <td>1</td>\n",
       "      <td>1</td>\n",
       "      <td>0</td>\n",
       "      <td>0</td>\n",
       "      <td>1</td>\n",
       "      <td>0</td>\n",
       "      <td>0</td>\n",
       "      <td>1</td>\n",
       "      <td>40.0</td>\n",
       "      <td>0</td>\n",
       "      <td>0</td>\n",
       "      <td>191.15</td>\n",
       "      <td>31.1</td>\n",
       "      <td>0</td>\n",
       "    </tr>\n",
       "    <tr>\n",
       "      <th>4978</th>\n",
       "      <td>0</td>\n",
       "      <td>1</td>\n",
       "      <td>0</td>\n",
       "      <td>0</td>\n",
       "      <td>0</td>\n",
       "      <td>0</td>\n",
       "      <td>0</td>\n",
       "      <td>0</td>\n",
       "      <td>1</td>\n",
       "      <td>45.0</td>\n",
       "      <td>1</td>\n",
       "      <td>0</td>\n",
       "      <td>95.02</td>\n",
       "      <td>31.8</td>\n",
       "      <td>0</td>\n",
       "    </tr>\n",
       "    <tr>\n",
       "      <th>4979</th>\n",
       "      <td>1</td>\n",
       "      <td>1</td>\n",
       "      <td>1</td>\n",
       "      <td>0</td>\n",
       "      <td>0</td>\n",
       "      <td>0</td>\n",
       "      <td>0</td>\n",
       "      <td>0</td>\n",
       "      <td>1</td>\n",
       "      <td>40.0</td>\n",
       "      <td>0</td>\n",
       "      <td>0</td>\n",
       "      <td>83.94</td>\n",
       "      <td>30.0</td>\n",
       "      <td>0</td>\n",
       "    </tr>\n",
       "    <tr>\n",
       "      <th>4980</th>\n",
       "      <td>0</td>\n",
       "      <td>1</td>\n",
       "      <td>1</td>\n",
       "      <td>0</td>\n",
       "      <td>0</td>\n",
       "      <td>1</td>\n",
       "      <td>0</td>\n",
       "      <td>1</td>\n",
       "      <td>0</td>\n",
       "      <td>80.0</td>\n",
       "      <td>1</td>\n",
       "      <td>0</td>\n",
       "      <td>83.75</td>\n",
       "      <td>29.1</td>\n",
       "      <td>0</td>\n",
       "    </tr>\n",
       "  </tbody>\n",
       "</table>\n",
       "</div>"
      ],
      "text/plain": [
       "      gender_Male  ever_married_Yes  work_type_Private  \\\n",
       "4976            1                 0                  1   \n",
       "4977            1                 1                  1   \n",
       "4978            0                 1                  0   \n",
       "4979            1                 1                  1   \n",
       "4980            0                 1                  1   \n",
       "\n",
       "      work_type_Self-employed  work_type_children  Residence_type_Urban  \\\n",
       "4976                        0                   0                     0   \n",
       "4977                        0                   0                     1   \n",
       "4978                        0                   0                     0   \n",
       "4979                        0                   0                     0   \n",
       "4980                        0                   0                     1   \n",
       "\n",
       "      smoking_status_formerly smoked  smoking_status_never smoked  \\\n",
       "4976                               1                            0   \n",
       "4977                               0                            0   \n",
       "4978                               0                            0   \n",
       "4979                               0                            0   \n",
       "4980                               0                            1   \n",
       "\n",
       "      smoking_status_smokes   age  hypertension  heart_disease  \\\n",
       "4976                      0  41.0             0              0   \n",
       "4977                      1  40.0             0              0   \n",
       "4978                      1  45.0             1              0   \n",
       "4979                      1  40.0             0              0   \n",
       "4980                      0  80.0             1              0   \n",
       "\n",
       "      avg_glucose_level   bmi  stroke  \n",
       "4976              70.15  29.8       0  \n",
       "4977             191.15  31.1       0  \n",
       "4978              95.02  31.8       0  \n",
       "4979              83.94  30.0       0  \n",
       "4980              83.75  29.1       0  "
      ]
     },
     "execution_count": 14,
     "metadata": {},
     "output_type": "execute_result"
    }
   ],
   "source": [
    "df1.drop_duplicates().tail()"
   ]
  },
  {
   "cell_type": "code",
   "execution_count": 15,
   "metadata": {},
   "outputs": [
    {
     "name": "stdout",
     "output_type": "stream",
     "text": [
      "<class 'pandas.core.frame.DataFrame'>\n",
      "RangeIndex: 4981 entries, 0 to 4980\n",
      "Data columns (total 15 columns):\n",
      " #   Column                          Non-Null Count  Dtype  \n",
      "---  ------                          --------------  -----  \n",
      " 0   gender_Male                     4981 non-null   uint8  \n",
      " 1   ever_married_Yes                4981 non-null   uint8  \n",
      " 2   work_type_Private               4981 non-null   uint8  \n",
      " 3   work_type_Self-employed         4981 non-null   uint8  \n",
      " 4   work_type_children              4981 non-null   uint8  \n",
      " 5   Residence_type_Urban            4981 non-null   uint8  \n",
      " 6   smoking_status_formerly smoked  4981 non-null   uint8  \n",
      " 7   smoking_status_never smoked     4981 non-null   uint8  \n",
      " 8   smoking_status_smokes           4981 non-null   uint8  \n",
      " 9   age                             4981 non-null   float64\n",
      " 10  hypertension                    4981 non-null   int64  \n",
      " 11  heart_disease                   4981 non-null   int64  \n",
      " 12  avg_glucose_level               4981 non-null   float64\n",
      " 13  bmi                             4981 non-null   float64\n",
      " 14  stroke                          4981 non-null   int64  \n",
      "dtypes: float64(3), int64(3), uint8(9)\n",
      "memory usage: 277.4 KB\n"
     ]
    }
   ],
   "source": [
    "df1.info()"
   ]
  },
  {
   "cell_type": "markdown",
   "metadata": {},
   "source": [
    "### Basic EDA"
   ]
  },
  {
   "cell_type": "code",
   "execution_count": 17,
   "metadata": {},
   "outputs": [
    {
     "data": {
      "image/png": "[encoded data removed]",
      "text/plain": [
       "<Figure size 432x288 with 1 Axes>"
      ]
     },
     "metadata": {
      "needs_background": "light"
     },
     "output_type": "display_data"
    }
   ],
   "source": [
    "sns.histplot(data=df,x='age',\n",
    "             kde=True,\n",
    "             hue='stroke',\n",
    "             palette='crest')\n",
    "\n",
    "plt.title('Age distribution')\n",
    "plt.xlabel('Age')\n",
    "plt.ylabel('Frequency')\n",
    "plt.show()"
   ]
  },
  {
   "cell_type": "markdown",
   "metadata": {},
   "source": [
    "We can see that within ages, the stroke occurance tends to arise"
   ]
  },
  {
   "cell_type": "code",
   "execution_count": 19,
   "metadata": {},
   "outputs": [
    {
     "data": {
      "text/html": [
       "<div>\n",
       "<style scoped>\n",
       "    .dataframe tbody tr th:only-of-type {\n",
       "        vertical-align: middle;\n",
       "    }\n",
       "\n",
       "    .dataframe tbody tr th {\n",
       "        vertical-align: top;\n",
       "    }\n",
       "\n",
       "    .dataframe thead th {\n",
       "        text-align: right;\n",
       "    }\n",
       "</style>\n",
       "<table border=\"1\" class=\"dataframe\">\n",
       "  <thead>\n",
       "    <tr style=\"text-align: right;\">\n",
       "      <th></th>\n",
       "      <th>gender</th>\n",
       "      <th>age</th>\n",
       "      <th>stroke</th>\n",
       "    </tr>\n",
       "    <tr>\n",
       "      <th>gender</th>\n",
       "      <th></th>\n",
       "      <th></th>\n",
       "      <th></th>\n",
       "    </tr>\n",
       "  </thead>\n",
       "  <tbody>\n",
       "    <tr>\n",
       "      <th>Female</th>\n",
       "      <td>2907</td>\n",
       "      <td>43.927816</td>\n",
       "      <td>140</td>\n",
       "    </tr>\n",
       "    <tr>\n",
       "      <th>Male</th>\n",
       "      <td>2074</td>\n",
       "      <td>42.707888</td>\n",
       "      <td>108</td>\n",
       "    </tr>\n",
       "  </tbody>\n",
       "</table>\n",
       "</div>"
      ],
      "text/plain": [
       "        gender        age  stroke\n",
       "gender                           \n",
       "Female    2907  43.927816     140\n",
       "Male      2074  42.707888     108"
      ]
     },
     "execution_count": 19,
     "metadata": {},
     "output_type": "execute_result"
    }
   ],
   "source": [
    "# Let's check how the stroke issue is spread among genders\n",
    "df.groupby('gender').agg({'gender': 'count', 'age': 'mean', 'stroke':'sum'})"
   ]
  },
  {
   "cell_type": "markdown",
   "metadata": {},
   "source": [
    "We have unequal spread of Male (40%) and Female (60%), however, the spread of stroke cases is rather equal: 4,81% Female, 5,21% Male"
   ]
  },
  {
   "cell_type": "code",
   "execution_count": 20,
   "metadata": {},
   "outputs": [],
   "source": [
    "for col in ['gender','ever_married','work_type','Residence_type','smoking_status']:\n",
    "    df[col] = df[col].astype('category')"
   ]
  },
  {
   "cell_type": "code",
   "execution_count": 21,
   "metadata": {},
   "outputs": [
    {
     "data": {
      "text/html": [
       "<div>\n",
       "<style scoped>\n",
       "    .dataframe tbody tr th:only-of-type {\n",
       "        vertical-align: middle;\n",
       "    }\n",
       "\n",
       "    .dataframe tbody tr th {\n",
       "        vertical-align: top;\n",
       "    }\n",
       "\n",
       "    .dataframe thead th {\n",
       "        text-align: right;\n",
       "    }\n",
       "</style>\n",
       "<table border=\"1\" class=\"dataframe\">\n",
       "  <thead>\n",
       "    <tr style=\"text-align: right;\">\n",
       "      <th></th>\n",
       "      <th>smoking_status</th>\n",
       "      <th>stroke</th>\n",
       "    </tr>\n",
       "    <tr>\n",
       "      <th>smoking_status</th>\n",
       "      <th></th>\n",
       "      <th></th>\n",
       "    </tr>\n",
       "  </thead>\n",
       "  <tbody>\n",
       "    <tr>\n",
       "      <th>Unknown</th>\n",
       "      <td>1500</td>\n",
       "      <td>47</td>\n",
       "    </tr>\n",
       "    <tr>\n",
       "      <th>formerly smoked</th>\n",
       "      <td>867</td>\n",
       "      <td>70</td>\n",
       "    </tr>\n",
       "    <tr>\n",
       "      <th>never smoked</th>\n",
       "      <td>1838</td>\n",
       "      <td>89</td>\n",
       "    </tr>\n",
       "    <tr>\n",
       "      <th>smokes</th>\n",
       "      <td>776</td>\n",
       "      <td>42</td>\n",
       "    </tr>\n",
       "  </tbody>\n",
       "</table>\n",
       "</div>"
      ],
      "text/plain": [
       "                 smoking_status  stroke\n",
       "smoking_status                         \n",
       "Unknown                    1500      47\n",
       "formerly smoked             867      70\n",
       "never smoked               1838      89\n",
       "smokes                      776      42"
      ]
     },
     "execution_count": 21,
     "metadata": {},
     "output_type": "execute_result"
    }
   ],
   "source": [
    "df.groupby('smoking_status').agg({'smoking_status': 'count','stroke':'sum'})"
   ]
  },
  {
   "cell_type": "code",
   "execution_count": 22,
   "metadata": {},
   "outputs": [
    {
     "data": {
      "text/html": [
       "<div>\n",
       "<style scoped>\n",
       "    .dataframe tbody tr th:only-of-type {\n",
       "        vertical-align: middle;\n",
       "    }\n",
       "\n",
       "    .dataframe tbody tr th {\n",
       "        vertical-align: top;\n",
       "    }\n",
       "\n",
       "    .dataframe thead th {\n",
       "        text-align: right;\n",
       "    }\n",
       "</style>\n",
       "<table border=\"1\" class=\"dataframe\">\n",
       "  <thead>\n",
       "    <tr style=\"text-align: right;\">\n",
       "      <th></th>\n",
       "      <th>stroke</th>\n",
       "    </tr>\n",
       "    <tr>\n",
       "      <th>stroke</th>\n",
       "      <th></th>\n",
       "    </tr>\n",
       "  </thead>\n",
       "  <tbody>\n",
       "    <tr>\n",
       "      <th>0</th>\n",
       "      <td>4733</td>\n",
       "    </tr>\n",
       "    <tr>\n",
       "      <th>1</th>\n",
       "      <td>248</td>\n",
       "    </tr>\n",
       "  </tbody>\n",
       "</table>\n",
       "</div>"
      ],
      "text/plain": [
       "        stroke\n",
       "stroke        \n",
       "0         4733\n",
       "1          248"
      ]
     },
     "execution_count": 22,
     "metadata": {},
     "output_type": "execute_result"
    }
   ],
   "source": [
    "df.groupby('stroke').agg({'stroke': 'count'})"
   ]
  },
  {
   "cell_type": "markdown",
   "metadata": {},
   "source": [
    "Highly imbalanced data, thus,\n",
    "SMOTE will be used to balance the dataset in terms of stroke observations"
   ]
  },
  {
   "cell_type": "markdown",
   "metadata": {},
   "source": [
    "## Data split"
   ]
  },
  {
   "cell_type": "code",
   "execution_count": 67,
   "metadata": {},
   "outputs": [],
   "source": [
    "X, y = df1.iloc[:,:-1], df1.iloc[:,-1]"
   ]
  },
  {
   "cell_type": "code",
   "execution_count": 24,
   "metadata": {},
   "outputs": [
    {
     "data": {
      "text/plain": [
       "0    4733\n",
       "1     248\n",
       "Name: stroke, dtype: int64"
      ]
     },
     "execution_count": 24,
     "metadata": {},
     "output_type": "execute_result"
    }
   ],
   "source": [
    "y.value_counts()"
   ]
  },
  {
   "cell_type": "code",
   "execution_count": 68,
   "metadata": {},
   "outputs": [],
   "source": [
    "X_train, X_test, y_train, y_test = train_test_split(X, y, test_size = 0.2, random_state = 77)"
   ]
  },
  {
   "cell_type": "code",
   "execution_count": 26,
   "metadata": {},
   "outputs": [
    {
     "name": "stdout",
     "output_type": "stream",
     "text": [
      "Number transactions X_train dataset:  (3984, 14)\n",
      "Number transactions y_train dataset:  (3984,)\n",
      "Number transactions X_test dataset:  (997, 14)\n",
      "Number transactions y_test dataset:  (997,)\n"
     ]
    }
   ],
   "source": [
    "print(\"X_train dataset: \", X_train.shape)\n",
    "print(\"y_train dataset: \", y_train.shape)\n",
    "print(\"X_test dataset: \", X_test.shape)\n",
    "print(\"y_test dataset: \", y_test.shape)"
   ]
  },
  {
   "cell_type": "code",
   "execution_count": 27,
   "metadata": {},
   "outputs": [
    {
     "name": "stdout",
     "output_type": "stream",
     "text": [
      "Before OverSampling, counts of label '1': 195\n",
      "Before OverSampling, counts of label '0': 3789 \n",
      "\n",
      "After OverSampling, the shape of train_X: (7578, 14)\n",
      "After OverSampling, the shape of train_y: (7578,) \n",
      "\n",
      "After OverSampling, counts of label '1': 3789\n",
      "After OverSampling, counts of label '0': 3789\n"
     ]
    }
   ],
   "source": [
    "print(\"Before OverSampling, counts of label '1': {}\".format(sum(y_train == 1)))\n",
    "print(\"Before OverSampling, counts of label '0': {} \\n\".format(sum(y_train == 0)))\n",
    "  \n",
    "# import SMOTE module from imblearn library\n",
    "# pip install imblearn (if you don't have imblearn in your system)\n",
    "sm = SMOTE(random_state = 77)\n",
    "X_train_res, y_train_res = sm.fit_resample(X_train, y_train.ravel())\n",
    "  \n",
    "print('After OverSampling, the shape of train_X: {}'.format(X_train_res.shape))\n",
    "print('After OverSampling, the shape of train_y: {} \\n'.format(y_train_res.shape))\n",
    "  \n",
    "print(\"After OverSampling, counts of label '1': {}\".format(sum(y_train_res == 1)))\n",
    "print(\"After OverSampling, counts of label '0': {}\".format(sum(y_train_res == 0)))"
   ]
  },
  {
   "cell_type": "markdown",
   "metadata": {},
   "source": [
    "After Smote upsampling implementation we have equal split of the stroke cases"
   ]
  },
  {
   "cell_type": "markdown",
   "metadata": {},
   "source": [
    "## XGBoost classification model"
   ]
  },
  {
   "cell_type": "markdown",
   "metadata": {},
   "source": [
    "Firstly, without upsampling"
   ]
  },
  {
   "cell_type": "code",
   "execution_count": 28,
   "metadata": {},
   "outputs": [],
   "source": [
    "xg_cl = xgb.XGBClassifier(objective ='binary:logistic', n_estimators = 100, seed = 77)\n",
    "eval_set = [(X_train, y_train), (X_test, y_test)]"
   ]
  },
  {
   "cell_type": "code",
   "execution_count": 29,
   "metadata": {},
   "outputs": [
    {
     "name": "stderr",
     "output_type": "stream",
     "text": [
      "C:\\Users\\Mateusz\\anaconda3\\lib\\site-packages\\xgboost\\sklearn.py:793: UserWarning: `eval_metric` in `fit` method is deprecated for better compatibility with scikit-learn, use `eval_metric` in constructor or`set_params` instead.\n",
      "  warnings.warn(\n"
     ]
    },
    {
     "name": "stdout",
     "output_type": "stream",
     "text": [
      "[0]\tvalidation_0-error:0.04443\tvalidation_1-error:0.05817\n",
      "[1]\tvalidation_0-error:0.04543\tvalidation_1-error:0.06018\n",
      "[2]\tvalidation_0-error:0.04518\tvalidation_1-error:0.05717\n",
      "[3]\tvalidation_0-error:0.04418\tvalidation_1-error:0.05416\n",
      "[4]\tvalidation_0-error:0.04493\tvalidation_1-error:0.05416\n",
      "[5]\tvalidation_0-error:0.04468\tvalidation_1-error:0.05517\n",
      "[6]\tvalidation_0-error:0.04393\tvalidation_1-error:0.05517\n",
      "[7]\tvalidation_0-error:0.04342\tvalidation_1-error:0.05617\n",
      "[8]\tvalidation_0-error:0.04342\tvalidation_1-error:0.05617\n",
      "[9]\tvalidation_0-error:0.04242\tvalidation_1-error:0.05717\n",
      "[10]\tvalidation_0-error:0.04167\tvalidation_1-error:0.05717\n",
      "[11]\tvalidation_0-error:0.04192\tvalidation_1-error:0.05717\n",
      "[12]\tvalidation_0-error:0.04192\tvalidation_1-error:0.05717\n",
      "[13]\tvalidation_0-error:0.04167\tvalidation_1-error:0.05617\n",
      "[14]\tvalidation_0-error:0.04091\tvalidation_1-error:0.05517\n",
      "[15]\tvalidation_0-error:0.04091\tvalidation_1-error:0.05517\n",
      "[16]\tvalidation_0-error:0.04091\tvalidation_1-error:0.05517\n",
      "[17]\tvalidation_0-error:0.04091\tvalidation_1-error:0.05717\n",
      "[18]\tvalidation_0-error:0.04016\tvalidation_1-error:0.05717\n",
      "[19]\tvalidation_0-error:0.03941\tvalidation_1-error:0.05817\n",
      "[20]\tvalidation_0-error:0.03916\tvalidation_1-error:0.05817\n",
      "[21]\tvalidation_0-error:0.03840\tvalidation_1-error:0.05817\n",
      "[22]\tvalidation_0-error:0.03865\tvalidation_1-error:0.05817\n",
      "[23]\tvalidation_0-error:0.03740\tvalidation_1-error:0.05617\n",
      "[24]\tvalidation_0-error:0.03715\tvalidation_1-error:0.05617\n",
      "[25]\tvalidation_0-error:0.03665\tvalidation_1-error:0.05416\n",
      "[26]\tvalidation_0-error:0.03614\tvalidation_1-error:0.05416\n",
      "[27]\tvalidation_0-error:0.03564\tvalidation_1-error:0.05416\n",
      "[28]\tvalidation_0-error:0.03414\tvalidation_1-error:0.05416\n",
      "[29]\tvalidation_0-error:0.03363\tvalidation_1-error:0.05416\n",
      "[30]\tvalidation_0-error:0.03263\tvalidation_1-error:0.05416\n",
      "[31]\tvalidation_0-error:0.03288\tvalidation_1-error:0.05416\n",
      "[32]\tvalidation_0-error:0.03263\tvalidation_1-error:0.05517\n",
      "[33]\tvalidation_0-error:0.03313\tvalidation_1-error:0.05717\n",
      "[34]\tvalidation_0-error:0.03238\tvalidation_1-error:0.05617\n",
      "[35]\tvalidation_0-error:0.03213\tvalidation_1-error:0.05517\n",
      "[36]\tvalidation_0-error:0.03012\tvalidation_1-error:0.05717\n",
      "[37]\tvalidation_0-error:0.02861\tvalidation_1-error:0.05717\n",
      "[38]\tvalidation_0-error:0.02786\tvalidation_1-error:0.05717\n",
      "[39]\tvalidation_0-error:0.02761\tvalidation_1-error:0.05817\n",
      "[40]\tvalidation_0-error:0.02736\tvalidation_1-error:0.05817\n",
      "[41]\tvalidation_0-error:0.02786\tvalidation_1-error:0.05817\n",
      "[42]\tvalidation_0-error:0.02610\tvalidation_1-error:0.05717\n",
      "[43]\tvalidation_0-error:0.02661\tvalidation_1-error:0.05617\n",
      "[44]\tvalidation_0-error:0.02560\tvalidation_1-error:0.05717\n",
      "[45]\tvalidation_0-error:0.02385\tvalidation_1-error:0.05617\n",
      "[46]\tvalidation_0-error:0.02385\tvalidation_1-error:0.05717\n",
      "[47]\tvalidation_0-error:0.02385\tvalidation_1-error:0.05817\n",
      "[48]\tvalidation_0-error:0.02284\tvalidation_1-error:0.05918\n",
      "[49]\tvalidation_0-error:0.02259\tvalidation_1-error:0.05817\n",
      "[50]\tvalidation_0-error:0.02234\tvalidation_1-error:0.05918\n",
      "[51]\tvalidation_0-error:0.02234\tvalidation_1-error:0.06018\n",
      "[52]\tvalidation_0-error:0.02159\tvalidation_1-error:0.06219\n",
      "[53]\tvalidation_0-error:0.02058\tvalidation_1-error:0.06118\n",
      "[54]\tvalidation_0-error:0.02058\tvalidation_1-error:0.06018\n",
      "[55]\tvalidation_0-error:0.02033\tvalidation_1-error:0.06018\n",
      "[56]\tvalidation_0-error:0.02033\tvalidation_1-error:0.06018\n",
      "[57]\tvalidation_0-error:0.02008\tvalidation_1-error:0.06018\n",
      "[58]\tvalidation_0-error:0.01958\tvalidation_1-error:0.06018\n",
      "[59]\tvalidation_0-error:0.01958\tvalidation_1-error:0.06018\n",
      "[60]\tvalidation_0-error:0.01883\tvalidation_1-error:0.05918\n",
      "[61]\tvalidation_0-error:0.01832\tvalidation_1-error:0.06018\n",
      "[62]\tvalidation_0-error:0.01657\tvalidation_1-error:0.05918\n",
      "[63]\tvalidation_0-error:0.01381\tvalidation_1-error:0.05918\n",
      "[64]\tvalidation_0-error:0.01305\tvalidation_1-error:0.06118\n",
      "[65]\tvalidation_0-error:0.01230\tvalidation_1-error:0.06219\n",
      "[66]\tvalidation_0-error:0.01180\tvalidation_1-error:0.06118\n",
      "[67]\tvalidation_0-error:0.01155\tvalidation_1-error:0.06118\n",
      "[68]\tvalidation_0-error:0.01104\tvalidation_1-error:0.06118\n",
      "[69]\tvalidation_0-error:0.01079\tvalidation_1-error:0.06118\n",
      "[70]\tvalidation_0-error:0.01079\tvalidation_1-error:0.05918\n",
      "[71]\tvalidation_0-error:0.01054\tvalidation_1-error:0.05918\n",
      "[72]\tvalidation_0-error:0.01029\tvalidation_1-error:0.06118\n",
      "[73]\tvalidation_0-error:0.01054\tvalidation_1-error:0.06018\n",
      "[74]\tvalidation_0-error:0.01054\tvalidation_1-error:0.06018\n",
      "[75]\tvalidation_0-error:0.01004\tvalidation_1-error:0.05918\n",
      "[76]\tvalidation_0-error:0.00929\tvalidation_1-error:0.06018\n",
      "[77]\tvalidation_0-error:0.00954\tvalidation_1-error:0.05918\n",
      "[78]\tvalidation_0-error:0.00954\tvalidation_1-error:0.05918\n",
      "[79]\tvalidation_0-error:0.00954\tvalidation_1-error:0.05918\n",
      "[80]\tvalidation_0-error:0.00929\tvalidation_1-error:0.05918\n",
      "[81]\tvalidation_0-error:0.00929\tvalidation_1-error:0.05918\n",
      "[82]\tvalidation_0-error:0.00904\tvalidation_1-error:0.06018\n",
      "[83]\tvalidation_0-error:0.00879\tvalidation_1-error:0.06018\n",
      "[84]\tvalidation_0-error:0.00753\tvalidation_1-error:0.06118\n",
      "[85]\tvalidation_0-error:0.00703\tvalidation_1-error:0.06118\n",
      "[86]\tvalidation_0-error:0.00653\tvalidation_1-error:0.06118\n",
      "[87]\tvalidation_0-error:0.00602\tvalidation_1-error:0.06118\n",
      "[88]\tvalidation_0-error:0.00602\tvalidation_1-error:0.06118\n",
      "[89]\tvalidation_0-error:0.00577\tvalidation_1-error:0.06118\n",
      "[90]\tvalidation_0-error:0.00502\tvalidation_1-error:0.06118\n",
      "[91]\tvalidation_0-error:0.00502\tvalidation_1-error:0.06219\n",
      "[92]\tvalidation_0-error:0.00502\tvalidation_1-error:0.06219\n",
      "[93]\tvalidation_0-error:0.00502\tvalidation_1-error:0.06219\n",
      "[94]\tvalidation_0-error:0.00502\tvalidation_1-error:0.06219\n",
      "[95]\tvalidation_0-error:0.00477\tvalidation_1-error:0.06219\n",
      "[96]\tvalidation_0-error:0.00377\tvalidation_1-error:0.06219\n",
      "[97]\tvalidation_0-error:0.00351\tvalidation_1-error:0.06219\n",
      "[98]\tvalidation_0-error:0.00377\tvalidation_1-error:0.06319\n",
      "[99]\tvalidation_0-error:0.00351\tvalidation_1-error:0.06219\n"
     ]
    }
   ],
   "source": [
    "xg_cl.fit(X_train, y_train, eval_metric = 'error', eval_set = eval_set, verbose = True)\n",
    "results = xg_cl.evals_result()"
   ]
  },
  {
   "cell_type": "code",
   "execution_count": 33,
   "metadata": {},
   "outputs": [],
   "source": [
    "predictions = xg_cl.predict(X_test)"
   ]
  },
  {
   "cell_type": "code",
   "execution_count": 34,
   "metadata": {},
   "outputs": [
    {
     "name": "stdout",
     "output_type": "stream",
     "text": [
      "accuracy: 93.781344\n"
     ]
    }
   ],
   "source": [
    "accuracy = float(np.sum(predictions == y_test))/y_test.shape[0]\n",
    "print(\"accuracy: %f\" % (accuracy*100))"
   ]
  },
  {
   "cell_type": "code",
   "execution_count": 83,
   "metadata": {},
   "outputs": [
    {
     "name": "stdout",
     "output_type": "stream",
     "text": [
      "              precision    recall  f1-score   support\n",
      "\n",
      "           0       0.95      0.99      0.97       944\n",
      "           1       0.15      0.04      0.06        53\n",
      "\n",
      "    accuracy                           0.94       997\n",
      "   macro avg       0.55      0.51      0.51       997\n",
      "weighted avg       0.91      0.94      0.92       997\n",
      "\n"
     ]
    }
   ],
   "source": [
    "print(classification_report(y_test, predictions))"
   ]
  },
  {
   "cell_type": "code",
   "execution_count": 95,
   "metadata": {},
   "outputs": [
    {
     "name": "stdout",
     "output_type": "stream",
     "text": [
      "[[933  11]\n",
      " [ 51   2]]\n"
     ]
    }
   ],
   "source": [
    "cf_matrix = confusion_matrix(y_test, predictions)\n",
    "print(confusion_matrix(y_test, predictions))"
   ]
  },
  {
   "cell_type": "code",
   "execution_count": 94,
   "metadata": {},
   "outputs": [
    {
     "data": {
      "image/png": "[encoded data removed]",
      "text/plain": [
       "<Figure size 360x360 with 2 Axes>"
      ]
     },
     "metadata": {
      "needs_background": "light"
     },
     "output_type": "display_data"
    }
   ],
   "source": [
    "ax = sns.heatmap(cf_matrix, annot=True, cmap='Blues')\n",
    "\n",
    "ax.set_title('Seaborn Confusion Matrix with labels\\n\\n');\n",
    "ax.set_xlabel('\\nPredicted Values')\n",
    "ax.set_ylabel('Actual Values ');\n",
    "\n",
    "## Ticket labels - List must be in alphabetical order\n",
    "ax.xaxis.set_ticklabels(['False','True'])\n",
    "ax.yaxis.set_ticklabels(['False','True'])\n",
    "\n",
    "## Display the visualization of the Confusion Matrix.\n",
    "plt.show()"
   ]
  },
  {
   "cell_type": "code",
   "execution_count": 57,
   "metadata": {},
   "outputs": [
    {
     "data": {
      "text/plain": [
       "[<matplotlib.lines.Line2D at 0x1e7eca8f9d0>]"
      ]
     },
     "execution_count": 57,
     "metadata": {},
     "output_type": "execute_result"
    },
    {
     "data": {
      "image/png": "[encoded data removed]",
      "text/plain": [
       "<Figure size 1080x720 with 1 Axes>"
      ]
     },
     "metadata": {
      "needs_background": "light"
     },
     "output_type": "display_data"
    }
   ],
   "source": [
    "# plot classification error\n",
    "epochs = len(results['validation_0']['error'])\n",
    "x_axis = range(0, epochs)\n",
    "fig, ax = plt.subplots()\n",
    "ax.plot(x_axis, results['validation_0']['error'], label = 'Train') # blue\n",
    "ax.plot(x_axis, results['validation_1']['error'], label = 'Test') # orange"
   ]
  },
  {
   "cell_type": "markdown",
   "metadata": {},
   "source": [
    "We can see that the train error metrics decreases every another step (blue line), and the test error metrics drifts along the same level (0.06)"
   ]
  },
  {
   "cell_type": "code",
   "execution_count": 58,
   "metadata": {},
   "outputs": [
    {
     "data": {
      "image/png": "[encoded data removed]",
      "text/plain": [
       "<Figure size 1080x720 with 1 Axes>"
      ]
     },
     "metadata": {
      "needs_background": "light"
     },
     "output_type": "display_data"
    }
   ],
   "source": [
    "xgb.plot_importance(xg_cl)\n",
    "plt.rcParams['figure.figsize'] = [15, 10]\n",
    "plt.show()"
   ]
  },
  {
   "cell_type": "markdown",
   "metadata": {},
   "source": [
    "The feagure importance shows that the avg_glucose_level, bmi index, and age are affecting the most important for explaining the variance of the stroke cases. The least impotant are work_type_children, ecver_married_Yes, and smoking_status_smokers."
   ]
  },
  {
   "cell_type": "markdown",
   "metadata": {},
   "source": [
    "## More balanced data - SMOTE"
   ]
  },
  {
   "cell_type": "markdown",
   "metadata": {},
   "source": [
    "Now I will check wether the resampling of the dataset will imporve the accuracy of the calssification model"
   ]
  },
  {
   "cell_type": "code",
   "execution_count": 49,
   "metadata": {},
   "outputs": [],
   "source": [
    "xg_cl_smote = xgb.XGBClassifier(objective ='binary:logistic', n_estimators = 100, seed = 77)\n",
    "eval_set = [(X_train_res, y_train_res), (X_test, y_test)]"
   ]
  },
  {
   "cell_type": "code",
   "execution_count": 50,
   "metadata": {},
   "outputs": [
    {
     "name": "stdout",
     "output_type": "stream",
     "text": [
      "[0]\tvalidation_0-error:0.12827\tvalidation_1-error:0.16449\n",
      "[1]\tvalidation_0-error:0.10676\tvalidation_1-error:0.14644\n",
      "[2]\tvalidation_0-error:0.09976\tvalidation_1-error:0.16550\n",
      "[3]\tvalidation_0-error:0.09184\tvalidation_1-error:0.15346\n",
      "[4]\tvalidation_0-error:0.09198\tvalidation_1-error:0.14845\n",
      "[5]\tvalidation_0-error:0.08577\tvalidation_1-error:0.14544\n",
      "[6]\tvalidation_0-error:0.08116\tvalidation_1-error:0.14443\n",
      "[7]\tvalidation_0-error:0.07759\tvalidation_1-error:0.13842\n",
      "[8]\tvalidation_0-error:0.07258\tvalidation_1-error:0.13842\n",
      "[9]\tvalidation_0-error:0.07086\tvalidation_1-error:0.13641\n",
      "[10]\tvalidation_0-error:0.06413\tvalidation_1-error:0.13641\n",
      "[11]\tvalidation_0-error:0.06374\tvalidation_1-error:0.13641\n",
      "[12]\tvalidation_0-error:0.06136\tvalidation_1-error:0.13139\n",
      "[13]\tvalidation_0-error:0.05991\tvalidation_1-error:0.12337\n",
      "[14]\tvalidation_0-error:0.05846\tvalidation_1-error:0.12136\n",
      "[15]\tvalidation_0-error:0.05186\tvalidation_1-error:0.12638\n",
      "[16]\tvalidation_0-error:0.04605\tvalidation_1-error:0.12638\n"
     ]
    },
    {
     "name": "stderr",
     "output_type": "stream",
     "text": [
      "C:\\Users\\Mateusz\\anaconda3\\lib\\site-packages\\xgboost\\sklearn.py:793: UserWarning: `eval_metric` in `fit` method is deprecated for better compatibility with scikit-learn, use `eval_metric` in constructor or`set_params` instead.\n",
      "  warnings.warn(\n"
     ]
    },
    {
     "name": "stdout",
     "output_type": "stream",
     "text": [
      "[17]\tvalidation_0-error:0.04368\tvalidation_1-error:0.12136\n",
      "[18]\tvalidation_0-error:0.04157\tvalidation_1-error:0.12036\n",
      "[19]\tvalidation_0-error:0.04025\tvalidation_1-error:0.11836\n",
      "[20]\tvalidation_0-error:0.03800\tvalidation_1-error:0.11434\n",
      "[21]\tvalidation_0-error:0.03708\tvalidation_1-error:0.11234\n",
      "[22]\tvalidation_0-error:0.03708\tvalidation_1-error:0.11133\n",
      "[23]\tvalidation_0-error:0.03669\tvalidation_1-error:0.11133\n",
      "[24]\tvalidation_0-error:0.03563\tvalidation_1-error:0.10832\n",
      "[25]\tvalidation_0-error:0.03510\tvalidation_1-error:0.10732\n",
      "[26]\tvalidation_0-error:0.03523\tvalidation_1-error:0.10532\n",
      "[27]\tvalidation_0-error:0.03378\tvalidation_1-error:0.10331\n",
      "[28]\tvalidation_0-error:0.03352\tvalidation_1-error:0.10331\n",
      "[29]\tvalidation_0-error:0.03233\tvalidation_1-error:0.10331\n",
      "[30]\tvalidation_0-error:0.03141\tvalidation_1-error:0.10030\n",
      "[31]\tvalidation_0-error:0.03088\tvalidation_1-error:0.10030\n",
      "[32]\tvalidation_0-error:0.03088\tvalidation_1-error:0.10130\n",
      "[33]\tvalidation_0-error:0.03022\tvalidation_1-error:0.10231\n",
      "[34]\tvalidation_0-error:0.02903\tvalidation_1-error:0.10331\n",
      "[35]\tvalidation_0-error:0.02745\tvalidation_1-error:0.10532\n",
      "[36]\tvalidation_0-error:0.02692\tvalidation_1-error:0.10532\n",
      "[37]\tvalidation_0-error:0.02626\tvalidation_1-error:0.10632\n",
      "[38]\tvalidation_0-error:0.02586\tvalidation_1-error:0.10532\n",
      "[39]\tvalidation_0-error:0.02547\tvalidation_1-error:0.10532\n",
      "[40]\tvalidation_0-error:0.02441\tvalidation_1-error:0.10532\n",
      "[41]\tvalidation_0-error:0.02283\tvalidation_1-error:0.10130\n",
      "[42]\tvalidation_0-error:0.02164\tvalidation_1-error:0.10231\n",
      "[43]\tvalidation_0-error:0.02072\tvalidation_1-error:0.10130\n",
      "[44]\tvalidation_0-error:0.01993\tvalidation_1-error:0.09729\n",
      "[45]\tvalidation_0-error:0.01940\tvalidation_1-error:0.09829\n",
      "[46]\tvalidation_0-error:0.01834\tvalidation_1-error:0.09930\n",
      "[47]\tvalidation_0-error:0.01755\tvalidation_1-error:0.09829\n",
      "[48]\tvalidation_0-error:0.01663\tvalidation_1-error:0.09729\n",
      "[49]\tvalidation_0-error:0.01663\tvalidation_1-error:0.09729\n",
      "[50]\tvalidation_0-error:0.01636\tvalidation_1-error:0.09729\n",
      "[51]\tvalidation_0-error:0.01597\tvalidation_1-error:0.09629\n",
      "[52]\tvalidation_0-error:0.01544\tvalidation_1-error:0.09428\n",
      "[53]\tvalidation_0-error:0.01518\tvalidation_1-error:0.09428\n",
      "[54]\tvalidation_0-error:0.01465\tvalidation_1-error:0.09529\n",
      "[55]\tvalidation_0-error:0.01386\tvalidation_1-error:0.09428\n",
      "[56]\tvalidation_0-error:0.01386\tvalidation_1-error:0.09428\n",
      "[57]\tvalidation_0-error:0.01333\tvalidation_1-error:0.09328\n",
      "[58]\tvalidation_0-error:0.01306\tvalidation_1-error:0.09328\n",
      "[59]\tvalidation_0-error:0.01280\tvalidation_1-error:0.09428\n",
      "[60]\tvalidation_0-error:0.01267\tvalidation_1-error:0.09428\n",
      "[61]\tvalidation_0-error:0.01267\tvalidation_1-error:0.09428\n",
      "[62]\tvalidation_0-error:0.01240\tvalidation_1-error:0.09428\n",
      "[63]\tvalidation_0-error:0.01161\tvalidation_1-error:0.09428\n",
      "[64]\tvalidation_0-error:0.01108\tvalidation_1-error:0.09428\n",
      "[65]\tvalidation_0-error:0.01082\tvalidation_1-error:0.09428\n",
      "[66]\tvalidation_0-error:0.01069\tvalidation_1-error:0.09328\n",
      "[67]\tvalidation_0-error:0.00950\tvalidation_1-error:0.09127\n",
      "[68]\tvalidation_0-error:0.00937\tvalidation_1-error:0.09228\n",
      "[69]\tvalidation_0-error:0.00897\tvalidation_1-error:0.09127\n",
      "[70]\tvalidation_0-error:0.00884\tvalidation_1-error:0.09127\n",
      "[71]\tvalidation_0-error:0.00858\tvalidation_1-error:0.09228\n",
      "[72]\tvalidation_0-error:0.00805\tvalidation_1-error:0.09328\n",
      "[73]\tvalidation_0-error:0.00831\tvalidation_1-error:0.09328\n",
      "[74]\tvalidation_0-error:0.00845\tvalidation_1-error:0.09228\n",
      "[75]\tvalidation_0-error:0.00831\tvalidation_1-error:0.09228\n",
      "[76]\tvalidation_0-error:0.00818\tvalidation_1-error:0.09228\n",
      "[77]\tvalidation_0-error:0.00818\tvalidation_1-error:0.09328\n",
      "[78]\tvalidation_0-error:0.00805\tvalidation_1-error:0.09428\n",
      "[79]\tvalidation_0-error:0.00805\tvalidation_1-error:0.09228\n",
      "[80]\tvalidation_0-error:0.00779\tvalidation_1-error:0.09027\n",
      "[81]\tvalidation_0-error:0.00739\tvalidation_1-error:0.08927\n",
      "[82]\tvalidation_0-error:0.00699\tvalidation_1-error:0.08826\n",
      "[83]\tvalidation_0-error:0.00686\tvalidation_1-error:0.08927\n",
      "[84]\tvalidation_0-error:0.00647\tvalidation_1-error:0.09027\n",
      "[85]\tvalidation_0-error:0.00607\tvalidation_1-error:0.08826\n",
      "[86]\tvalidation_0-error:0.00528\tvalidation_1-error:0.08826\n",
      "[87]\tvalidation_0-error:0.00501\tvalidation_1-error:0.08626\n",
      "[88]\tvalidation_0-error:0.00515\tvalidation_1-error:0.08425\n",
      "[89]\tvalidation_0-error:0.00488\tvalidation_1-error:0.08325\n",
      "[90]\tvalidation_0-error:0.00462\tvalidation_1-error:0.08425\n",
      "[91]\tvalidation_0-error:0.00462\tvalidation_1-error:0.08325\n",
      "[92]\tvalidation_0-error:0.00462\tvalidation_1-error:0.08526\n",
      "[93]\tvalidation_0-error:0.00435\tvalidation_1-error:0.08526\n",
      "[94]\tvalidation_0-error:0.00409\tvalidation_1-error:0.08425\n",
      "[95]\tvalidation_0-error:0.00383\tvalidation_1-error:0.08726\n",
      "[96]\tvalidation_0-error:0.00383\tvalidation_1-error:0.08526\n",
      "[97]\tvalidation_0-error:0.00369\tvalidation_1-error:0.08526\n",
      "[98]\tvalidation_0-error:0.00369\tvalidation_1-error:0.08425\n",
      "[99]\tvalidation_0-error:0.00356\tvalidation_1-error:0.08425\n"
     ]
    }
   ],
   "source": [
    "xg_cl_smote.fit(X_train_res, y_train_res, eval_metric = 'error', eval_set = eval_set, verbose = True)\n",
    "results_smote = xg_cl_smote.evals_result()"
   ]
  },
  {
   "cell_type": "code",
   "execution_count": 51,
   "metadata": {},
   "outputs": [],
   "source": [
    "predictions_smote = xg_cl_smote.predict(X_test)"
   ]
  },
  {
   "cell_type": "code",
   "execution_count": 52,
   "metadata": {},
   "outputs": [
    {
     "name": "stdout",
     "output_type": "stream",
     "text": [
      "accuracy: 91.574724\n"
     ]
    }
   ],
   "source": [
    "accuracy = float(np.sum(predictions_smote == y_test))/y_test.shape[0]\n",
    "print(\"accuracy: %f\" % (accuracy*100))"
   ]
  },
  {
   "cell_type": "markdown",
   "metadata": {},
   "source": [
    "We can see the poorer performance of the resampled model, which may suggest that the pervious model was overfitted"
   ]
  },
  {
   "cell_type": "code",
   "execution_count": 84,
   "metadata": {},
   "outputs": [
    {
     "name": "stdout",
     "output_type": "stream",
     "text": [
      "              precision    recall  f1-score   support\n",
      "\n",
      "           0       0.95      0.96      0.96       944\n",
      "           1       0.20      0.19      0.19        53\n",
      "\n",
      "    accuracy                           0.92       997\n",
      "   macro avg       0.58      0.57      0.57       997\n",
      "weighted avg       0.91      0.92      0.91       997\n",
      "\n"
     ]
    }
   ],
   "source": [
    "print(classification_report(y_test, predictions_smote))"
   ]
  },
  {
   "cell_type": "code",
   "execution_count": 98,
   "metadata": {},
   "outputs": [
    {
     "name": "stdout",
     "output_type": "stream",
     "text": [
      "[[903  41]\n",
      " [ 43  10]]\n"
     ]
    }
   ],
   "source": [
    "cf_matrix_smote = confusion_matrix(y_test, predictions_smote)\n",
    "print(confusion_matrix(y_test, predictions_smote))"
   ]
  },
  {
   "cell_type": "code",
   "execution_count": 99,
   "metadata": {},
   "outputs": [
    {
     "data": {
      "image/png": "[encoded data removed]",
      "text/plain": [
       "<Figure size 360x360 with 2 Axes>"
      ]
     },
     "metadata": {
      "needs_background": "light"
     },
     "output_type": "display_data"
    }
   ],
   "source": [
    "ax = sns.heatmap(cf_matrix_smote, annot=True, cmap='Blues')\n",
    "\n",
    "ax.set_title('Seaborn Confusion Matrix with labels\\n\\n');\n",
    "ax.set_xlabel('\\nPredicted Values')\n",
    "ax.set_ylabel('Actual Values ');\n",
    "\n",
    "## Ticket labels - List must be in alphabetical order\n",
    "ax.xaxis.set_ticklabels(['False','True'])\n",
    "ax.yaxis.set_ticklabels(['False','True'])\n",
    "\n",
    "## Display the visualization of the Confusion Matrix.\n",
    "plt.show()"
   ]
  },
  {
   "cell_type": "code",
   "execution_count": 53,
   "metadata": {},
   "outputs": [
    {
     "data": {
      "text/plain": [
       "[<matplotlib.lines.Line2D at 0x1e7ec967fa0>]"
      ]
     },
     "execution_count": 53,
     "metadata": {},
     "output_type": "execute_result"
    },
    {
     "data": {
      "image/png": "[encoded data removed]",
      "text/plain": [
       "<Figure size 1080x720 with 1 Axes>"
      ]
     },
     "metadata": {
      "needs_background": "light"
     },
     "output_type": "display_data"
    }
   ],
   "source": [
    "# plot classification error\n",
    "epochs = len(results_smote['validation_0']['error'])\n",
    "x_axis = range(0, epochs)\n",
    "fig, ax = plt.subplots()\n",
    "ax.plot(x_axis, results_smote['validation_0']['error'], label = 'Train')\n",
    "ax.plot(x_axis, results_smote['validation_1']['error'], label = 'Test')"
   ]
  },
  {
   "cell_type": "code",
   "execution_count": 54,
   "metadata": {},
   "outputs": [],
   "source": [
    "import graphviz"
   ]
  },
  {
   "cell_type": "code",
   "execution_count": 55,
   "metadata": {},
   "outputs": [],
   "source": [
    "import matplotlib.pyplot as plt\n",
    "from sklearn.datasets import load_iris\n",
    "from sklearn.datasets import load_breast_cancer\n",
    "from sklearn.tree import DecisionTreeClassifier\n",
    "from sklearn.ensemble import RandomForestClassifier\n",
    "from sklearn.model_selection import train_test_split\n",
    "import pandas as pd\n",
    "import numpy as np\n",
    "from sklearn import tree"
   ]
  },
  {
   "cell_type": "code",
   "execution_count": 60,
   "metadata": {},
   "outputs": [
    {
     "data": {
      "image/png": "[encoded data removed]",
      "text/plain": [
       "<Figure size 1080x720 with 1 Axes>"
      ]
     },
     "metadata": {
      "needs_background": "light"
     },
     "output_type": "display_data"
    }
   ],
   "source": [
    "xgb.plot_importance(xg_cl_smote)\n",
    "plt.rcParams['figure.figsize'] = [15, 10]\n",
    "plt.show()"
   ]
  },
  {
   "cell_type": "markdown",
   "metadata": {},
   "source": [
    "Resampled classification model shows us little bit different things: the most important are: age, avg_glucose_level, and bmi respectively. The least important are work_type_children, heart_disease, and ever_married_Yes"
   ]
  },
  {
   "cell_type": "code",
   "execution_count": 59,
   "metadata": {},
   "outputs": [
    {
     "data": {
      "text/plain": [
       "<AxesSubplot:>"
      ]
     },
     "execution_count": 59,
     "metadata": {},
     "output_type": "execute_result"
    },
    {
     "data": {
      "image/png": "[encoded data removed]",
      "text/plain": [
       "<Figure size 1080x720 with 1 Axes>"
      ]
     },
     "metadata": {
      "needs_background": "light"
     },
     "output_type": "display_data"
    }
   ],
   "source": [
    "xgb.plot_tree(xg_cl, num_trees=0)"
   ]
  },
  {
   "cell_type": "markdown",
   "metadata": {},
   "source": [
    "## Logistic reg, random forest"
   ]
  },
  {
   "cell_type": "markdown",
   "metadata": {},
   "source": [
    "Now I will check how the logistic regression performs on this data"
   ]
  },
  {
   "cell_type": "code",
   "execution_count": 65,
   "metadata": {},
   "outputs": [],
   "source": [
    "from sklearn.linear_model import LogisticRegression\n",
    "from sklearn.metrics import classification_report"
   ]
  },
  {
   "cell_type": "code",
   "execution_count": 69,
   "metadata": {},
   "outputs": [],
   "source": [
    "# Let's applay normalization \n",
    "means = np.mean(X_train, axis=0)\n",
    "stds = np.std(X_train, axis=0)\n",
    "\n",
    "X_train = (X_train - means)/stds\n",
    "X_test = (X_test - means)/stds"
   ]
  },
  {
   "cell_type": "code",
   "execution_count": 70,
   "metadata": {},
   "outputs": [
    {
     "data": {
      "text/html": [
       "<style>#sk-container-id-1 {color: black;background-color: white;}#sk-container-id-1 pre{padding: 0;}#sk-container-id-1 div.sk-toggleable {background-color: white;}#sk-container-id-1 label.sk-toggleable__label {cursor: pointer;display: block;width: 100%;margin-bottom: 0;padding: 0.3em;box-sizing: border-box;text-align: center;}#sk-container-id-1 label.sk-toggleable__label-arrow:before {content: \"▸\";float: left;margin-right: 0.25em;color: #696969;}#sk-container-id-1 label.sk-toggleable__label-arrow:hover:before {color: black;}#sk-container-id-1 div.sk-estimator:hover label.sk-toggleable__label-arrow:before {color: black;}#sk-container-id-1 div.sk-toggleable__content {max-height: 0;max-width: 0;overflow: hidden;text-align: left;background-color: #f0f8ff;}#sk-container-id-1 div.sk-toggleable__content pre {margin: 0.2em;color: black;border-radius: 0.25em;background-color: #f0f8ff;}#sk-container-id-1 input.sk-toggleable__control:checked~div.sk-toggleable__content {max-height: 200px;max-width: 100%;overflow: auto;}#sk-container-id-1 input.sk-toggleable__control:checked~label.sk-toggleable__label-arrow:before {content: \"▾\";}#sk-container-id-1 div.sk-estimator input.sk-toggleable__control:checked~label.sk-toggleable__label {background-color: #d4ebff;}#sk-container-id-1 div.sk-label input.sk-toggleable__control:checked~label.sk-toggleable__label {background-color: #d4ebff;}#sk-container-id-1 input.sk-hidden--visually {border: 0;clip: rect(1px 1px 1px 1px);clip: rect(1px, 1px, 1px, 1px);height: 1px;margin: -1px;overflow: hidden;padding: 0;position: absolute;width: 1px;}#sk-container-id-1 div.sk-estimator {font-family: monospace;background-color: #f0f8ff;border: 1px dotted black;border-radius: 0.25em;box-sizing: border-box;margin-bottom: 0.5em;}#sk-container-id-1 div.sk-estimator:hover {background-color: #d4ebff;}#sk-container-id-1 div.sk-parallel-item::after {content: \"\";width: 100%;border-bottom: 1px solid gray;flex-grow: 1;}#sk-container-id-1 div.sk-label:hover label.sk-toggleable__label {background-color: #d4ebff;}#sk-container-id-1 div.sk-serial::before {content: \"\";position: absolute;border-left: 1px solid gray;box-sizing: border-box;top: 0;bottom: 0;left: 50%;z-index: 0;}#sk-container-id-1 div.sk-serial {display: flex;flex-direction: column;align-items: center;background-color: white;padding-right: 0.2em;padding-left: 0.2em;position: relative;}#sk-container-id-1 div.sk-item {position: relative;z-index: 1;}#sk-container-id-1 div.sk-parallel {display: flex;align-items: stretch;justify-content: center;background-color: white;position: relative;}#sk-container-id-1 div.sk-item::before, #sk-container-id-1 div.sk-parallel-item::before {content: \"\";position: absolute;border-left: 1px solid gray;box-sizing: border-box;top: 0;bottom: 0;left: 50%;z-index: -1;}#sk-container-id-1 div.sk-parallel-item {display: flex;flex-direction: column;z-index: 1;position: relative;background-color: white;}#sk-container-id-1 div.sk-parallel-item:first-child::after {align-self: flex-end;width: 50%;}#sk-container-id-1 div.sk-parallel-item:last-child::after {align-self: flex-start;width: 50%;}#sk-container-id-1 div.sk-parallel-item:only-child::after {width: 0;}#sk-container-id-1 div.sk-dashed-wrapped {border: 1px dashed gray;margin: 0 0.4em 0.5em 0.4em;box-sizing: border-box;padding-bottom: 0.4em;background-color: white;}#sk-container-id-1 div.sk-label label {font-family: monospace;font-weight: bold;display: inline-block;line-height: 1.2em;}#sk-container-id-1 div.sk-label-container {text-align: center;}#sk-container-id-1 div.sk-container {/* jupyter's `normalize.less` sets `[hidden] { display: none; }` but bootstrap.min.css set `[hidden] { display: none !important; }` so we also need the `!important` here to be able to override the default hidden behavior on the sphinx rendered scikit-learn.org. See: https://github.com/scikit-learn/scikit-learn/issues/21755 */display: inline-block !important;position: relative;}#sk-container-id-1 div.sk-text-repr-fallback {display: none;}</style><div id=\"sk-container-id-1\" class=\"sk-top-container\"><div class=\"sk-text-repr-fallback\"><pre>LogisticRegression()</pre><b>In a Jupyter environment, please rerun this cell to show the HTML representation or trust the notebook. <br />On GitHub, the HTML representation is unable to render, please try loading this page with nbviewer.org.</b></div><div class=\"sk-container\" hidden><div class=\"sk-item\"><div class=\"sk-estimator sk-toggleable\"><input class=\"sk-toggleable__control sk-hidden--visually\" id=\"sk-estimator-id-1\" type=\"checkbox\" checked><label for=\"sk-estimator-id-1\" class=\"sk-toggleable__label sk-toggleable__label-arrow\">LogisticRegression</label><div class=\"sk-toggleable__content\"><pre>LogisticRegression()</pre></div></div></div></div></div>"
      ],
      "text/plain": [
       "LogisticRegression()"
      ]
     },
     "execution_count": 70,
     "metadata": {},
     "output_type": "execute_result"
    }
   ],
   "source": [
    "model = LogisticRegression()\n",
    "model.fit(X_train, y_train)"
   ]
  },
  {
   "cell_type": "code",
   "execution_count": 72,
   "metadata": {},
   "outputs": [
    {
     "name": "stdout",
     "output_type": "stream",
     "text": [
      "accuracy:  94.6840521564694 %\n"
     ]
    }
   ],
   "source": [
    "accuracy = model.score(X_test, y_test)\n",
    "print('accuracy: ', accuracy * 100, '%')"
   ]
  },
  {
   "cell_type": "markdown",
   "metadata": {},
   "source": [
    "Quite high accuracy"
   ]
  },
  {
   "cell_type": "code",
   "execution_count": 75,
   "metadata": {},
   "outputs": [
    {
     "name": "stdout",
     "output_type": "stream",
     "text": [
      "              precision    recall  f1-score   support\n",
      "\n",
      "           0       0.95      1.00      0.97       944\n",
      "           1       0.00      0.00      0.00        53\n",
      "\n",
      "    accuracy                           0.95       997\n",
      "   macro avg       0.47      0.50      0.49       997\n",
      "weighted avg       0.90      0.95      0.92       997\n",
      "\n"
     ]
    },
    {
     "name": "stderr",
     "output_type": "stream",
     "text": [
      "C:\\Users\\Mateusz\\anaconda3\\lib\\site-packages\\sklearn\\metrics\\_classification.py:1327: UndefinedMetricWarning: Precision and F-score are ill-defined and being set to 0.0 in labels with no predicted samples. Use `zero_division` parameter to control this behavior.\n",
      "  _warn_prf(average, modifier, msg_start, len(result))\n",
      "C:\\Users\\Mateusz\\anaconda3\\lib\\site-packages\\sklearn\\metrics\\_classification.py:1327: UndefinedMetricWarning: Precision and F-score are ill-defined and being set to 0.0 in labels with no predicted samples. Use `zero_division` parameter to control this behavior.\n",
      "  _warn_prf(average, modifier, msg_start, len(result))\n",
      "C:\\Users\\Mateusz\\anaconda3\\lib\\site-packages\\sklearn\\metrics\\_classification.py:1327: UndefinedMetricWarning: Precision and F-score are ill-defined and being set to 0.0 in labels with no predicted samples. Use `zero_division` parameter to control this behavior.\n",
      "  _warn_prf(average, modifier, msg_start, len(result))\n"
     ]
    }
   ],
   "source": [
    "y_pred = model.predict(X_test)\n",
    "print(classification_report(y_test, y_pred))"
   ]
  },
  {
   "cell_type": "markdown",
   "metadata": {},
   "source": [
    "Poor results: they may by caused by the imbalanced dataset. Let's try with balanced data"
   ]
  },
  {
   "cell_type": "code",
   "execution_count": 77,
   "metadata": {},
   "outputs": [],
   "source": [
    "means_bal = np.mean(X_train_res, axis=0)\n",
    "stds_bal = np.std(X_train_res, axis=0)\n",
    "\n",
    "X_train_res = (X_train_res - means_bal)/stds_bal\n",
    "X_test = (X_test - means_bal)/stds_bal"
   ]
  },
  {
   "cell_type": "code",
   "execution_count": 78,
   "metadata": {},
   "outputs": [
    {
     "data": {
      "text/html": [
       "<style>#sk-container-id-2 {color: black;background-color: white;}#sk-container-id-2 pre{padding: 0;}#sk-container-id-2 div.sk-toggleable {background-color: white;}#sk-container-id-2 label.sk-toggleable__label {cursor: pointer;display: block;width: 100%;margin-bottom: 0;padding: 0.3em;box-sizing: border-box;text-align: center;}#sk-container-id-2 label.sk-toggleable__label-arrow:before {content: \"▸\";float: left;margin-right: 0.25em;color: #696969;}#sk-container-id-2 label.sk-toggleable__label-arrow:hover:before {color: black;}#sk-container-id-2 div.sk-estimator:hover label.sk-toggleable__label-arrow:before {color: black;}#sk-container-id-2 div.sk-toggleable__content {max-height: 0;max-width: 0;overflow: hidden;text-align: left;background-color: #f0f8ff;}#sk-container-id-2 div.sk-toggleable__content pre {margin: 0.2em;color: black;border-radius: 0.25em;background-color: #f0f8ff;}#sk-container-id-2 input.sk-toggleable__control:checked~div.sk-toggleable__content {max-height: 200px;max-width: 100%;overflow: auto;}#sk-container-id-2 input.sk-toggleable__control:checked~label.sk-toggleable__label-arrow:before {content: \"▾\";}#sk-container-id-2 div.sk-estimator input.sk-toggleable__control:checked~label.sk-toggleable__label {background-color: #d4ebff;}#sk-container-id-2 div.sk-label input.sk-toggleable__control:checked~label.sk-toggleable__label {background-color: #d4ebff;}#sk-container-id-2 input.sk-hidden--visually {border: 0;clip: rect(1px 1px 1px 1px);clip: rect(1px, 1px, 1px, 1px);height: 1px;margin: -1px;overflow: hidden;padding: 0;position: absolute;width: 1px;}#sk-container-id-2 div.sk-estimator {font-family: monospace;background-color: #f0f8ff;border: 1px dotted black;border-radius: 0.25em;box-sizing: border-box;margin-bottom: 0.5em;}#sk-container-id-2 div.sk-estimator:hover {background-color: #d4ebff;}#sk-container-id-2 div.sk-parallel-item::after {content: \"\";width: 100%;border-bottom: 1px solid gray;flex-grow: 1;}#sk-container-id-2 div.sk-label:hover label.sk-toggleable__label {background-color: #d4ebff;}#sk-container-id-2 div.sk-serial::before {content: \"\";position: absolute;border-left: 1px solid gray;box-sizing: border-box;top: 0;bottom: 0;left: 50%;z-index: 0;}#sk-container-id-2 div.sk-serial {display: flex;flex-direction: column;align-items: center;background-color: white;padding-right: 0.2em;padding-left: 0.2em;position: relative;}#sk-container-id-2 div.sk-item {position: relative;z-index: 1;}#sk-container-id-2 div.sk-parallel {display: flex;align-items: stretch;justify-content: center;background-color: white;position: relative;}#sk-container-id-2 div.sk-item::before, #sk-container-id-2 div.sk-parallel-item::before {content: \"\";position: absolute;border-left: 1px solid gray;box-sizing: border-box;top: 0;bottom: 0;left: 50%;z-index: -1;}#sk-container-id-2 div.sk-parallel-item {display: flex;flex-direction: column;z-index: 1;position: relative;background-color: white;}#sk-container-id-2 div.sk-parallel-item:first-child::after {align-self: flex-end;width: 50%;}#sk-container-id-2 div.sk-parallel-item:last-child::after {align-self: flex-start;width: 50%;}#sk-container-id-2 div.sk-parallel-item:only-child::after {width: 0;}#sk-container-id-2 div.sk-dashed-wrapped {border: 1px dashed gray;margin: 0 0.4em 0.5em 0.4em;box-sizing: border-box;padding-bottom: 0.4em;background-color: white;}#sk-container-id-2 div.sk-label label {font-family: monospace;font-weight: bold;display: inline-block;line-height: 1.2em;}#sk-container-id-2 div.sk-label-container {text-align: center;}#sk-container-id-2 div.sk-container {/* jupyter's `normalize.less` sets `[hidden] { display: none; }` but bootstrap.min.css set `[hidden] { display: none !important; }` so we also need the `!important` here to be able to override the default hidden behavior on the sphinx rendered scikit-learn.org. See: https://github.com/scikit-learn/scikit-learn/issues/21755 */display: inline-block !important;position: relative;}#sk-container-id-2 div.sk-text-repr-fallback {display: none;}</style><div id=\"sk-container-id-2\" class=\"sk-top-container\"><div class=\"sk-text-repr-fallback\"><pre>LogisticRegression()</pre><b>In a Jupyter environment, please rerun this cell to show the HTML representation or trust the notebook. <br />On GitHub, the HTML representation is unable to render, please try loading this page with nbviewer.org.</b></div><div class=\"sk-container\" hidden><div class=\"sk-item\"><div class=\"sk-estimator sk-toggleable\"><input class=\"sk-toggleable__control sk-hidden--visually\" id=\"sk-estimator-id-2\" type=\"checkbox\" checked><label for=\"sk-estimator-id-2\" class=\"sk-toggleable__label sk-toggleable__label-arrow\">LogisticRegression</label><div class=\"sk-toggleable__content\"><pre>LogisticRegression()</pre></div></div></div></div></div>"
      ],
      "text/plain": [
       "LogisticRegression()"
      ]
     },
     "execution_count": 78,
     "metadata": {},
     "output_type": "execute_result"
    }
   ],
   "source": [
    "model_bal = LogisticRegression()\n",
    "model_bal.fit(X_train_res, y_train_res)"
   ]
  },
  {
   "cell_type": "code",
   "execution_count": 81,
   "metadata": {},
   "outputs": [
    {
     "name": "stdout",
     "output_type": "stream",
     "text": [
      "accuracy:  57.57271815446339 %\n"
     ]
    }
   ],
   "source": [
    "accuracy_bal = model_bal.score(X_test, y_test)\n",
    "print('accuracy: ', accuracy_bal * 100, '%')"
   ]
  },
  {
   "cell_type": "code",
   "execution_count": 82,
   "metadata": {},
   "outputs": [
    {
     "name": "stdout",
     "output_type": "stream",
     "text": [
      "              precision    recall  f1-score   support\n",
      "\n",
      "           0       0.99      0.56      0.71       944\n",
      "           1       0.10      0.92      0.19        53\n",
      "\n",
      "    accuracy                           0.58       997\n",
      "   macro avg       0.55      0.74      0.45       997\n",
      "weighted avg       0.95      0.58      0.68       997\n",
      "\n"
     ]
    }
   ],
   "source": [
    "y_pred_bal = model_bal.predict(X_test)\n",
    "print(classification_report(y_test, y_pred_bal))"
   ]
  },
  {
   "cell_type": "code",
   "execution_count": 101,
   "metadata": {},
   "outputs": [
    {
     "name": "stdout",
     "output_type": "stream",
     "text": [
      "[[525 419]\n",
      " [  4  49]]\n"
     ]
    }
   ],
   "source": [
    "cf_matrix_log_bal = confusion_matrix(y_test, y_pred_bal)\n",
    "print(confusion_matrix(y_test, y_pred_bal))"
   ]
  },
  {
   "cell_type": "code",
   "execution_count": 102,
   "metadata": {},
   "outputs": [
    {
     "data": {
      "image/png": "[encoded data removed]",
      "text/plain": [
       "<Figure size 360x360 with 2 Axes>"
      ]
     },
     "metadata": {
      "needs_background": "light"
     },
     "output_type": "display_data"
    }
   ],
   "source": [
    "ax = sns.heatmap(cf_matrix_log_bal, annot=True, cmap='Blues')\n",
    "\n",
    "ax.set_title('Seaborn Confusion Matrix with labels\\n\\n');\n",
    "ax.set_xlabel('\\nPredicted Values')\n",
    "ax.set_ylabel('Actual Values ');\n",
    "\n",
    "## Ticket labels - List must be in alphabetical order\n",
    "ax.xaxis.set_ticklabels(['False','True'])\n",
    "ax.yaxis.set_ticklabels(['False','True'])\n",
    "\n",
    "## Display the visualization of the Confusion Matrix.\n",
    "plt.show()"
   ]
  },
  {
   "cell_type": "markdown",
   "metadata": {},
   "source": [
    "Final thoughts: On this dataset, XGBoost algorithm seems to perform much better than the logistic regression. Therefore, it can be inferred that the boosting the importance of truly important features play significant role in preforming such analysis."
   ]
  }
 ],
 "metadata": {
  "hide_input": false,
  "kernelspec": {
   "display_name": "Python 3",
   "language": "python",
   "name": "python3"
  },
  "language_info": {
   "codemirror_mode": {
    "name": "ipython",
    "version": 3
   },
   "file_extension": ".py",
   "mimetype": "text/x-python",
   "name": "python",
   "nbconvert_exporter": "python",
   "pygments_lexer": "ipython3",
   "version": "3.8.5"
  }
 },
 "nbformat": 4,
 "nbformat_minor": 4
}
