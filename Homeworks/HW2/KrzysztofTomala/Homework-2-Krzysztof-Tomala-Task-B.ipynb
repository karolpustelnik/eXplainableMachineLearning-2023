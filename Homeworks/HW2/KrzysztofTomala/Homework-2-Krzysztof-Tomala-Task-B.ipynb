{
 "cells": [
  {
   "cell_type": "markdown",
   "id": "a657c651",
   "metadata": {},
   "source": [
    "There are 6 permutations of the set {A, B, C}:  \n",
    "-A,B,C  \n",
    "-A,C,B  \n",
    "-B,A,C  \n",
    "-B,C,A  \n",
    "-C,B,A  \n",
    "-C,A,B  \n",
    "  \n",
    "The contibution values are respectively:  \n",
    "-20  \n",
    "-20  \n",
    "-40  \n",
    "-30  \n",
    "-30  \n",
    "-10  \n",
    "  \n",
    "So the Shapley value is (20+20+40+30+30+10)/6 = 25"
   ]
  }
 ],
 "metadata": {
  "kernelspec": {
   "display_name": "Python 3 (ipykernel)",
   "language": "python",
   "name": "python3"
  },
  "language_info": {
   "codemirror_mode": {
    "name": "ipython",
    "version": 3
   },
   "file_extension": ".py",
   "mimetype": "text/x-python",
   "name": "python",
   "nbconvert_exporter": "python",
   "pygments_lexer": "ipython3",
   "version": "3.9.12"
  }
 },
 "nbformat": 4,
 "nbformat_minor": 5
}
