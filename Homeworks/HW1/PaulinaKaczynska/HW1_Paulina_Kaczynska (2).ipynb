{
  "nbformat": 4,
  "nbformat_minor": 0,
  "metadata": {
    "colab": {
      "provenance": [],
      "collapsed_sections": []
    },
    "kernelspec": {
      "name": "python3",
      "display_name": "Python 3"
    },
    "language_info": {
      "name": "python"
    }
  },
  "cells": [
    {
      "cell_type": "markdown",
      "source": [
        "# Prediction of students' grades on the Alcohol Effects on Study dataset"
      ],
      "metadata": {
        "id": "x3WO0dQL-yWj"
      }
    },
    {
      "cell_type": "markdown",
      "source": [
        "It is the prediction of students' grades based on the Alcohol Effects on Study dataset. Dataset consists of both numerical and categorical data. Following methods are used: Linear Regression, Stochastic Gradient Descend Regression and Random Forest Regression.\n",
        "Despite the grades being integers, I would argue that this task should be treated as a regression problem. The grades are supposed to measure students' knowledge and their discretization has only a purpose of making things easier, not to reflect the nature of the problem it operationalizes. \n"
      ],
      "metadata": {
        "id": "wsRVs0HN6ktU"
      }
    },
    {
      "cell_type": "markdown",
      "source": [
        "#Downloading Dataset\n",
        "Firstly, in order to download Alcohol Effects on Study dataset, we mount google drive and upload kaggle API."
      ],
      "metadata": {
        "id": "aqU3g_PE_QLK"
      }
    },
    {
      "cell_type": "code",
      "execution_count": null,
      "metadata": {
        "colab": {
          "base_uri": "https://localhost:8080/"
        },
        "id": "OS2iiYy4burK",
        "outputId": "53422771-cc9b-4a3c-e1ea-cc68df2c1aaf"
      },
      "outputs": [
        {
          "output_type": "stream",
          "name": "stdout",
          "text": [
            "Mounted at /content/gdrive\n"
          ]
        }
      ],
      "source": [
        "from google.colab import drive\n",
        "drive.mount('/content/gdrive')\n",
        "\n",
        "from google.colab import files"
      ]
    },
    {
      "cell_type": "code",
      "source": [
        "files.upload() #this will prompt you to upload the kaggle.jso"
      ],
      "metadata": {
        "colab": {
          "base_uri": "https://localhost:8080/",
          "height": 91
        },
        "id": "fA9haFlOfnrb",
        "outputId": "aae9096c-60e4-46b5-ef31-9df170898f7a"
      },
      "execution_count": null,
      "outputs": [
        {
          "output_type": "display_data",
          "data": {
            "text/plain": [
              "<IPython.core.display.HTML object>"
            ],
            "text/html": [
              "\n",
              "     <input type=\"file\" id=\"files-81f7f3cb-380f-49c1-8b1d-eee2d1c89312\" name=\"files[]\" multiple disabled\n",
              "        style=\"border:none\" />\n",
              "     <output id=\"result-81f7f3cb-380f-49c1-8b1d-eee2d1c89312\">\n",
              "      Upload widget is only available when the cell has been executed in the\n",
              "      current browser session. Please rerun this cell to enable.\n",
              "      </output>\n",
              "      <script>// Copyright 2017 Google LLC\n",
              "//\n",
              "// Licensed under the Apache License, Version 2.0 (the \"License\");\n",
              "// you may not use this file except in compliance with the License.\n",
              "// You may obtain a copy of the License at\n",
              "//\n",
              "//      http://www.apache.org/licenses/LICENSE-2.0\n",
              "//\n",
              "// Unless required by applicable law or agreed to in writing, software\n",
              "// distributed under the License is distributed on an \"AS IS\" BASIS,\n",
              "// WITHOUT WARRANTIES OR CONDITIONS OF ANY KIND, either express or implied.\n",
              "// See the License for the specific language governing permissions and\n",
              "// limitations under the License.\n",
              "\n",
              "/**\n",
              " * @fileoverview Helpers for google.colab Python module.\n",
              " */\n",
              "(function(scope) {\n",
              "function span(text, styleAttributes = {}) {\n",
              "  const element = document.createElement('span');\n",
              "  element.textContent = text;\n",
              "  for (const key of Object.keys(styleAttributes)) {\n",
              "    element.style[key] = styleAttributes[key];\n",
              "  }\n",
              "  return element;\n",
              "}\n",
              "\n",
              "// Max number of bytes which will be uploaded at a time.\n",
              "const MAX_PAYLOAD_SIZE = 100 * 1024;\n",
              "\n",
              "function _uploadFiles(inputId, outputId) {\n",
              "  const steps = uploadFilesStep(inputId, outputId);\n",
              "  const outputElement = document.getElementById(outputId);\n",
              "  // Cache steps on the outputElement to make it available for the next call\n",
              "  // to uploadFilesContinue from Python.\n",
              "  outputElement.steps = steps;\n",
              "\n",
              "  return _uploadFilesContinue(outputId);\n",
              "}\n",
              "\n",
              "// This is roughly an async generator (not supported in the browser yet),\n",
              "// where there are multiple asynchronous steps and the Python side is going\n",
              "// to poll for completion of each step.\n",
              "// This uses a Promise to block the python side on completion of each step,\n",
              "// then passes the result of the previous step as the input to the next step.\n",
              "function _uploadFilesContinue(outputId) {\n",
              "  const outputElement = document.getElementById(outputId);\n",
              "  const steps = outputElement.steps;\n",
              "\n",
              "  const next = steps.next(outputElement.lastPromiseValue);\n",
              "  return Promise.resolve(next.value.promise).then((value) => {\n",
              "    // Cache the last promise value to make it available to the next\n",
              "    // step of the generator.\n",
              "    outputElement.lastPromiseValue = value;\n",
              "    return next.value.response;\n",
              "  });\n",
              "}\n",
              "\n",
              "/**\n",
              " * Generator function which is called between each async step of the upload\n",
              " * process.\n",
              " * @param {string} inputId Element ID of the input file picker element.\n",
              " * @param {string} outputId Element ID of the output display.\n",
              " * @return {!Iterable<!Object>} Iterable of next steps.\n",
              " */\n",
              "function* uploadFilesStep(inputId, outputId) {\n",
              "  const inputElement = document.getElementById(inputId);\n",
              "  inputElement.disabled = false;\n",
              "\n",
              "  const outputElement = document.getElementById(outputId);\n",
              "  outputElement.innerHTML = '';\n",
              "\n",
              "  const pickedPromise = new Promise((resolve) => {\n",
              "    inputElement.addEventListener('change', (e) => {\n",
              "      resolve(e.target.files);\n",
              "    });\n",
              "  });\n",
              "\n",
              "  const cancel = document.createElement('button');\n",
              "  inputElement.parentElement.appendChild(cancel);\n",
              "  cancel.textContent = 'Cancel upload';\n",
              "  const cancelPromise = new Promise((resolve) => {\n",
              "    cancel.onclick = () => {\n",
              "      resolve(null);\n",
              "    };\n",
              "  });\n",
              "\n",
              "  // Wait for the user to pick the files.\n",
              "  const files = yield {\n",
              "    promise: Promise.race([pickedPromise, cancelPromise]),\n",
              "    response: {\n",
              "      action: 'starting',\n",
              "    }\n",
              "  };\n",
              "\n",
              "  cancel.remove();\n",
              "\n",
              "  // Disable the input element since further picks are not allowed.\n",
              "  inputElement.disabled = true;\n",
              "\n",
              "  if (!files) {\n",
              "    return {\n",
              "      response: {\n",
              "        action: 'complete',\n",
              "      }\n",
              "    };\n",
              "  }\n",
              "\n",
              "  for (const file of files) {\n",
              "    const li = document.createElement('li');\n",
              "    li.append(span(file.name, {fontWeight: 'bold'}));\n",
              "    li.append(span(\n",
              "        `(${file.type || 'n/a'}) - ${file.size} bytes, ` +\n",
              "        `last modified: ${\n",
              "            file.lastModifiedDate ? file.lastModifiedDate.toLocaleDateString() :\n",
              "                                    'n/a'} - `));\n",
              "    const percent = span('0% done');\n",
              "    li.appendChild(percent);\n",
              "\n",
              "    outputElement.appendChild(li);\n",
              "\n",
              "    const fileDataPromise = new Promise((resolve) => {\n",
              "      const reader = new FileReader();\n",
              "      reader.onload = (e) => {\n",
              "        resolve(e.target.result);\n",
              "      };\n",
              "      reader.readAsArrayBuffer(file);\n",
              "    });\n",
              "    // Wait for the data to be ready.\n",
              "    let fileData = yield {\n",
              "      promise: fileDataPromise,\n",
              "      response: {\n",
              "        action: 'continue',\n",
              "      }\n",
              "    };\n",
              "\n",
              "    // Use a chunked sending to avoid message size limits. See b/62115660.\n",
              "    let position = 0;\n",
              "    do {\n",
              "      const length = Math.min(fileData.byteLength - position, MAX_PAYLOAD_SIZE);\n",
              "      const chunk = new Uint8Array(fileData, position, length);\n",
              "      position += length;\n",
              "\n",
              "      const base64 = btoa(String.fromCharCode.apply(null, chunk));\n",
              "      yield {\n",
              "        response: {\n",
              "          action: 'append',\n",
              "          file: file.name,\n",
              "          data: base64,\n",
              "        },\n",
              "      };\n",
              "\n",
              "      let percentDone = fileData.byteLength === 0 ?\n",
              "          100 :\n",
              "          Math.round((position / fileData.byteLength) * 100);\n",
              "      percent.textContent = `${percentDone}% done`;\n",
              "\n",
              "    } while (position < fileData.byteLength);\n",
              "  }\n",
              "\n",
              "  // All done.\n",
              "  yield {\n",
              "    response: {\n",
              "      action: 'complete',\n",
              "    }\n",
              "  };\n",
              "}\n",
              "\n",
              "scope.google = scope.google || {};\n",
              "scope.google.colab = scope.google.colab || {};\n",
              "scope.google.colab._files = {\n",
              "  _uploadFiles,\n",
              "  _uploadFilesContinue,\n",
              "};\n",
              "})(self);\n",
              "</script> "
            ]
          },
          "metadata": {}
        },
        {
          "output_type": "stream",
          "name": "stdout",
          "text": [
            "Saving kaggle.json to kaggle.json\n"
          ]
        },
        {
          "output_type": "execute_result",
          "data": {
            "text/plain": [
              "{'kaggle.json': b'{\"username\":\"paulinakaczyska\",\"key\":\"a590f81fa200cd408d5cb174df96882a\"}'}"
            ]
          },
          "metadata": {},
          "execution_count": 3
        }
      ]
    },
    {
      "cell_type": "code",
      "source": [
        "  #make sure kaggle.json file is present\n",
        "  !ls -lha kaggle.json\n",
        "\n",
        "  #Install kaggle API client\n",
        "  !pip install -q kaggle\n",
        "\n",
        "  #kaggle API client expects the file to be in ~/.kaggle\n",
        "\n",
        "  #so move it there\n",
        "  !mkdir -p ~/.kaggle\n",
        "  !cp kaggle.json ~/.kaggle/\n",
        "  "
      ],
      "metadata": {
        "colab": {
          "base_uri": "https://localhost:8080/"
        },
        "id": "VNHe2lvVhVKK",
        "outputId": "21342b84-4f8f-4040-b41c-8088a1c98f31"
      },
      "execution_count": null,
      "outputs": [
        {
          "output_type": "stream",
          "name": "stdout",
          "text": [
            "-rw-r--r-- 1 root root 71 Oct 17 13:53 kaggle.json\n"
          ]
        }
      ]
    },
    {
      "cell_type": "code",
      "source": [
        "  #seting permissions\n",
        "  !chmod 600 /root/.kaggle/kaggle.json\n",
        "\n",
        "  #check your directory before downloading the datasets\n",
        "  !pwd"
      ],
      "metadata": {
        "colab": {
          "base_uri": "https://localhost:8080/"
        },
        "id": "f_XMybr9haE4",
        "outputId": "fe339076-8011-4b7d-c4e9-f1da28377ecc"
      },
      "execution_count": null,
      "outputs": [
        {
          "output_type": "stream",
          "name": "stdout",
          "text": [
            "/content\n"
          ]
        }
      ]
    },
    {
      "cell_type": "code",
      "source": [
        "#downloading\n",
        "!kaggle datasets download -d whenamancodes/alcohol-effects-on-study\n",
        "\n",
        "#unzipping\n",
        "!unzip alcohol-effects-on-study.zip"
      ],
      "metadata": {
        "colab": {
          "base_uri": "https://localhost:8080/"
        },
        "id": "4Tib4hczfMBT",
        "outputId": "b81b40b1-ab7e-4bc8-9480-b3f88478f7b9"
      },
      "execution_count": null,
      "outputs": [
        {
          "output_type": "stream",
          "name": "stdout",
          "text": [
            "Downloading alcohol-effects-on-study.zip to /content\n",
            "\r  0% 0.00/18.1k [00:00<?, ?B/s]\n",
            "\r100% 18.1k/18.1k [00:00<00:00, 16.9MB/s]\n",
            "Archive:  alcohol-effects-on-study.zip\n",
            "  inflating: Maths.csv               \n",
            "  inflating: Portuguese.csv          \n"
          ]
        }
      ]
    },
    {
      "cell_type": "markdown",
      "source": [
        "# Data Preprocessing"
      ],
      "metadata": {
        "id": "yNPmtbxrd0z8"
      }
    },
    {
      "cell_type": "code",
      "source": [
        "import torch\n",
        "import torch.nn as nn\n",
        "import torch.nn.functional as F\n",
        "import pandas as pd\n",
        "import numpy as np\n",
        "\n",
        "from torch.utils.data import DataLoader, Dataset\n",
        "from sklearn.model_selection import train_test_split\n",
        "\n",
        "import matplotlib.pyplot as plt"
      ],
      "metadata": {
        "id": "89YSeL5z0OAG"
      },
      "execution_count": null,
      "outputs": []
    },
    {
      "cell_type": "code",
      "source": [
        "binary = ['school', 'sex', 'address', 'famsize', 'Pstatus','schoolsup', 'famsup', 'paid', 'activities', 'nursery','higher', 'internet', 'romantic']\n",
        "categorical_nb = ['Mjob', 'Fjob', 'reason', 'guardian']\n",
        "numerical = ['Medu', 'Fedu','traveltime', 'studytime','failures','famrel', 'freetime', 'goout', 'Dalc', 'Walc', 'health', 'absences']"
      ],
      "metadata": {
        "id": "lYbAMqbDtAXv"
      },
      "execution_count": null,
      "outputs": []
    },
    {
      "cell_type": "markdown",
      "source": [
        "The categorical data are one-hot encoded. Data is divided to input and output."
      ],
      "metadata": {
        "id": "O4UWK7t40xrk"
      }
    },
    {
      "cell_type": "code",
      "source": [
        "math = pd.read_csv(\"Maths.csv\", encoding = \"UTF-8\")\n",
        "port = pd.read_csv(\"Portuguese.csv\", encoding = \"UTF-8\")\n",
        "\n",
        "math_i_c = pd.get_dummies(math[binary+categorical_nb],drop_first = True)\n",
        "port_i_c = pd.get_dummies(port[binary+categorical_nb],drop_first = True)\n",
        "\n",
        "math_o = math.iloc[:,-3:]\n",
        "port_o = port.iloc[:,-3:]\n"
      ],
      "metadata": {
        "id": "qITyAaDN27mo"
      },
      "execution_count": null,
      "outputs": []
    },
    {
      "cell_type": "markdown",
      "source": [
        "Data is combined into input X and output Y arrays."
      ],
      "metadata": {
        "id": "vZNntaO41fYk"
      }
    },
    {
      "cell_type": "code",
      "source": [
        "\n",
        "math_array = pd.concat([math_i_c,math[numerical]],axis=1).to_numpy()\n",
        "port_array = pd.concat([port_i_c,port[numerical]],axis=1).to_numpy()\n",
        "X = np.concatenate((math_array,port_array),axis = 0)\n",
        "\n",
        "math_array_o = math_o.to_numpy()\n",
        "port_array_o = port_o.to_numpy()\n",
        "Y = np.concatenate((math_array_o,port_array_o),axis = 0)\n"
      ],
      "metadata": {
        "id": "yO4Yk6Zu6UdX"
      },
      "execution_count": null,
      "outputs": []
    },
    {
      "cell_type": "markdown",
      "source": [
        "Division for test and train dataset is made using train_test_split from sklearn library."
      ],
      "metadata": {
        "id": "ZITcLn_vssdp"
      }
    },
    {
      "cell_type": "code",
      "source": [
        "X_train, X_test, y_train, y_test = train_test_split(X,Y, test_size=200, train_size=len(X)-200)"
      ],
      "metadata": {
        "id": "Q1O38jrjxDA4"
      },
      "execution_count": null,
      "outputs": []
    },
    {
      "cell_type": "markdown",
      "source": [
        "#Linear Regression"
      ],
      "metadata": {
        "id": "TOVeCInHrzqa"
      }
    },
    {
      "cell_type": "code",
      "source": [
        "from sklearn.linear_model import LinearRegression\n",
        "from sklearn.pipeline import make_pipeline\n",
        "from sklearn.preprocessing import StandardScaler"
      ],
      "metadata": {
        "id": "yZ4UQ4gYp95S"
      },
      "execution_count": null,
      "outputs": []
    },
    {
      "cell_type": "code",
      "source": [
        "model = LinearRegression()\n",
        "reg = model.fit(X_train, y_train)"
      ],
      "metadata": {
        "id": "NNBRD3pRrMRV"
      },
      "execution_count": null,
      "outputs": []
    },
    {
      "cell_type": "markdown",
      "source": [
        "The performance is evaluated with Root Mean Square Error. MSE for grades for 1 period, second period and combined is as follows:"
      ],
      "metadata": {
        "id": "xEz42N_-1wJQ"
      }
    },
    {
      "cell_type": "code",
      "source": [
        "np.sqrt(np.mean((y_test-reg.predict(X_test))**2, axis = 0))"
      ],
      "metadata": {
        "colab": {
          "base_uri": "https://localhost:8080/"
        },
        "id": "ffTCeJxWrlZM",
        "outputId": "79c4f1fe-dd8a-4705-ec23-9b34473bd9da"
      },
      "execution_count": null,
      "outputs": [
        {
          "output_type": "execute_result",
          "data": {
            "text/plain": [
              "array([2.60225035, 2.79040285, 3.55780419])"
            ]
          },
          "metadata": {},
          "execution_count": 31
        }
      ]
    },
    {
      "cell_type": "markdown",
      "source": [
        "The predictions have smaller variance than the true values and are especially inaccurate for the smallest grades as can be seen on the figures below. Being closer to the middle grade skews prediction especially for the smallest and biggest grades. "
      ],
      "metadata": {
        "id": "qzpuKVZsVxiR"
      }
    },
    {
      "cell_type": "code",
      "source": [
        "\n",
        "fig, (ax1,ax2,ax3) = plt.subplots(1, 3, figsize=(20, 6))\n",
        "\n",
        "for ax in (ax1,ax2,ax3):\n",
        "    ax.set(xlabel='true grade', ylabel='prediction')\n",
        "ax1.set_title('First Semester')\n",
        "ax1.set_ylim([0,20])\n",
        "ax2.set_title('Second Semester')\n",
        "ax2.set_ylim([0,20])\n",
        "ax3.set_title('Overall grade')\n",
        "ax3.set_ylim([0,20])\n",
        "\n",
        "ax1.plot(y_train[:,0],reg.predict(X_train)[:,0],'bo')\n",
        "ax2.plot(y_train[:,1],reg.predict(X_train)[:,1],'go')\n",
        "ax3.plot(y_train[:,2],reg.predict(X_train)[:,2],'ro')"
      ],
      "metadata": {
        "colab": {
          "base_uri": "https://localhost:8080/",
          "height": 421
        },
        "id": "-mkPLw2KAkwi",
        "outputId": "b50b333b-c935-40bc-8c6f-87855f73ef47"
      },
      "execution_count": null,
      "outputs": [
        {
          "output_type": "execute_result",
          "data": {
            "text/plain": [
              "[<matplotlib.lines.Line2D at 0x7fbe9aecc510>]"
            ]
          },
          "metadata": {},
          "execution_count": 34
        },
        {
          "output_type": "display_data",
          "data": {
            "text/plain": [
              "<Figure size 1440x432 with 3 Axes>"
            ],
            "image/png": "[encoded data removed]"
          },
          "metadata": {
            "needs_background": "light"
          }
        }
      ]
    },
    {
      "cell_type": "markdown",
      "source": [
        "Prediction is however better than just returning the average grade for every student:"
      ],
      "metadata": {
        "id": "QDTnBSNWZ7YS"
      }
    },
    {
      "cell_type": "code",
      "source": [
        "np.sqrt(np.mean((y_test-np.mean(y_train))**2, axis = 0))"
      ],
      "metadata": {
        "colab": {
          "base_uri": "https://localhost:8080/"
        },
        "id": "9EWAmBQYZ6xK",
        "outputId": "d388c021-457d-4d4c-f885-7ae410e9b3a6"
      },
      "execution_count": null,
      "outputs": [
        {
          "output_type": "execute_result",
          "data": {
            "text/plain": [
              "array([3.02424804, 3.15048111, 3.92930995])"
            ]
          },
          "metadata": {},
          "execution_count": 50
        }
      ]
    },
    {
      "cell_type": "markdown",
      "source": [
        "#Stochastic Gradient Descent Regression"
      ],
      "metadata": {
        "id": "Hv9X4GpYFWM8"
      }
    },
    {
      "cell_type": "code",
      "source": [
        " from sklearn.linear_model import SGDRegressor"
      ],
      "metadata": {
        "id": "nWk4HwuvEImK"
      },
      "execution_count": null,
      "outputs": []
    },
    {
      "cell_type": "code",
      "source": [
        "sgdr1 = SGDRegressor(loss='squared_error', penalty='l2', alpha=0.0001, l1_ratio=0.15, fit_intercept=True, max_iter=1000).fit(X_train,y_train[:,0])\n",
        "sgdr2 = SGDRegressor(loss='squared_error', penalty='l2', alpha=0.0001, l1_ratio=0.15, fit_intercept=True, max_iter=1000).fit(X_train,y_train[:,1])\n",
        "sgdr3 = SGDRegressor(loss='squared_error', penalty='l2', alpha=0.0001, l1_ratio=0.15, fit_intercept=True, max_iter=1000).fit(X_train,y_train[:,2])"
      ],
      "metadata": {
        "id": "3di9gh2eERx5"
      },
      "execution_count": null,
      "outputs": []
    },
    {
      "cell_type": "code",
      "source": [
        "print('RMSE for the first period',np.sqrt(np.mean((y_test[:,0]-sgdr1.predict(X_test))**2, axis = 0)))\n",
        "print('RMSE for the second period',np.sqrt(np.mean((y_test[:,1]-sgdr2.predict(X_test))**2, axis = 0)))\n",
        "print('RMSE for the whole period',np.sqrt(np.mean((y_test[:,2]-sgdr3.predict(X_test))**2, axis = 0)))\n"
      ],
      "metadata": {
        "colab": {
          "base_uri": "https://localhost:8080/"
        },
        "id": "xFlXSNImEhpW",
        "outputId": "e84a8d1f-223d-498c-cc25-ccdcdc7bea98"
      },
      "execution_count": null,
      "outputs": [
        {
          "output_type": "stream",
          "name": "stdout",
          "text": [
            "RMSE for the first period 2.735998482481249\n",
            "RMSE for the second period 2.929316415012133\n",
            "RMSE for the whole period 3.6762101070673276\n"
          ]
        }
      ]
    },
    {
      "cell_type": "markdown",
      "source": [
        "Similar effects as with the linear regression also hold true for SGD, especially the tendention to give predictions closer to the middle values. The RMSE is slightly higher for SGD, but it is not visible on the plot."
      ],
      "metadata": {
        "id": "wIUoNsI7YVqS"
      }
    },
    {
      "cell_type": "code",
      "source": [
        "fig, (ax1,ax2,ax3) = plt.subplots(1, 3, figsize=(20, 6))\n",
        "\n",
        "for ax in (ax1,ax2,ax3):\n",
        "    ax.set(xlabel='true grade', ylabel='prediction')\n",
        "ax1.set_title('First Semester')\n",
        "ax1.set_ylim([0,20])\n",
        "ax2.set_title('Second Semester')\n",
        "ax2.set_ylim([0,20])\n",
        "ax3.set_title('Overall grade')\n",
        "ax3.set_ylim([0,20])\n",
        "\n",
        "ax1.plot(y_train[:,0],sgdr1.predict(X_train),'bo')\n",
        "ax2.plot(y_train[:,1],sgdr2.predict(X_train),'go')\n",
        "ax3.plot(y_train[:,2],sgdr3.predict(X_train),'ro')\n"
      ],
      "metadata": {
        "colab": {
          "base_uri": "https://localhost:8080/",
          "height": 421
        },
        "id": "RKUTwZd4DDM8",
        "outputId": "f7fdd538-256f-4219-afc7-ac1ed6fb7214"
      },
      "execution_count": null,
      "outputs": [
        {
          "output_type": "execute_result",
          "data": {
            "text/plain": [
              "[<matplotlib.lines.Line2D at 0x7fbe9aace510>]"
            ]
          },
          "metadata": {},
          "execution_count": 43
        },
        {
          "output_type": "display_data",
          "data": {
            "text/plain": [
              "<Figure size 1440x432 with 3 Axes>"
            ],
            "image/png": "[encoded data removed]"
          },
          "metadata": {
            "needs_background": "light"
          }
        }
      ]
    },
    {
      "cell_type": "markdown",
      "source": [
        "#Random Forest"
      ],
      "metadata": {
        "id": "zhYyY2P1HcRW"
      }
    },
    {
      "cell_type": "markdown",
      "source": [
        "Next method is Random Forest Regressor"
      ],
      "metadata": {
        "id": "M5VALTjv54er"
      }
    },
    {
      "cell_type": "code",
      "source": [
        "from sklearn.ensemble import RandomForestRegressor\n",
        "\n",
        "rfr = RandomForestRegressor(n_estimators = 300, max_depth=5, random_state=1)\n",
        "forest = rfr.fit(X_train, y_train)"
      ],
      "metadata": {
        "id": "_6vIN5D4HeNi"
      },
      "execution_count": null,
      "outputs": []
    },
    {
      "cell_type": "markdown",
      "source": [
        "RMSE for grades for 1 period, second period and combined is as follows:"
      ],
      "metadata": {
        "id": "xS8XoLLvHbb3"
      }
    },
    {
      "cell_type": "code",
      "source": [
        "np.sqrt(np.mean((y_test-forest.predict(X_test))**2, axis = 0))"
      ],
      "metadata": {
        "colab": {
          "base_uri": "https://localhost:8080/"
        },
        "id": "kljxPPSvslUB",
        "outputId": "442eb200-838e-40a2-9b71-59cdc7f87d93"
      },
      "execution_count": null,
      "outputs": [
        {
          "output_type": "execute_result",
          "data": {
            "text/plain": [
              "array([2.53502971, 2.6208942 , 3.19362663])"
            ]
          },
          "metadata": {},
          "execution_count": 46
        }
      ]
    },
    {
      "cell_type": "markdown",
      "source": [
        "The predictions are even closer to the middle value than in the previous cases. The effect is stronger for the 1st and 2nd semester. "
      ],
      "metadata": {
        "id": "YJaziTbRZJ-6"
      }
    },
    {
      "cell_type": "code",
      "source": [
        "\n",
        "fig, (ax1,ax2,ax3) = plt.subplots(1, 3, figsize=(20, 6))\n",
        "\n",
        "for ax in (ax1,ax2,ax3):\n",
        "    ax.set(xlabel='true grade', ylabel='prediction')\n",
        "ax1.set_title('First Semester')\n",
        "ax1.set_ylim([0,20])\n",
        "ax2.set_title('Second Semester')\n",
        "ax2.set_ylim([0,20])\n",
        "ax3.set_title('Overall grade')\n",
        "ax3.set_ylim([0,20])\n",
        "\n",
        "ax1.plot(y_train[:,0],forest.predict(X_train)[:,0],'bo')\n",
        "ax2.plot(y_train[:,1],forest.predict(X_train)[:,1],'go')\n",
        "ax3.plot(y_train[:,2],forest.predict(X_train)[:,2],'ro')"
      ],
      "metadata": {
        "colab": {
          "base_uri": "https://localhost:8080/",
          "height": 421
        },
        "id": "iYgiFm6BDlYX",
        "outputId": "ec81522c-2c8e-485e-b30e-6233ccb0867b"
      },
      "execution_count": null,
      "outputs": [
        {
          "output_type": "execute_result",
          "data": {
            "text/plain": [
              "[<matplotlib.lines.Line2D at 0x7fbe9a8ea890>]"
            ]
          },
          "metadata": {},
          "execution_count": 47
        },
        {
          "output_type": "display_data",
          "data": {
            "text/plain": [
              "<Figure size 1440x432 with 3 Axes>"
            ],
            "image/png": "[encoded data removed]"
          },
          "metadata": {
            "needs_background": "light"
          }
        }
      ]
    },
    {
      "cell_type": "markdown",
      "source": [
        "# Comparison\n",
        "All methods achieve similar results, although Random Forest is slightly better than the others. All methods are better than returning the average result. The error of prediction for the whole period is bigger than for the semesters. It is interesting, since, intuitively, long-term variables' effects should be more visible in the longer time horizon."
      ],
      "metadata": {
        "id": "OTMhG_LaGsoe"
      }
    }
  ]
}