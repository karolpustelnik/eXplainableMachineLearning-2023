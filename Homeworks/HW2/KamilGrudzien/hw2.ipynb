{
 "cells": [
  {
   "cell_type": "markdown",
   "source": [
    "# Homework 2 – SHapley Additive exPlanations (SHAP).\n",
    "\n",
    "Dataset used for experiments with explanation libraries is Heart Attack Dataset. Most of the experiments are run using XGBClassifier, except the last one where Logistic Regression is used. Provided experiments gave some inside in importance of different features in the final prediction."
   ],
   "metadata": {
    "collapsed": false
   }
  },
  {
   "cell_type": "markdown",
   "source": [
    "## Data information\n",
    "\n",
    "Let's begin with reading csv containing heart attack data and print the head of it, to verify it's content. Dataset should contain following columns:\n",
    "\n",
    "+ Age : Age of the patient\n",
    "\n",
    "+ Sex : Sex of the patient\n",
    "\n",
    "+ exang: exercise induced angina (1 = yes; 0 = no)\n",
    "\n",
    "+ ca: number of major vessels (0-3)\n",
    "\n",
    "+ cp : Chest Pain type chest pain type\n",
    "\n",
    "    + Value 1: typical angina\n",
    "    + Value 2: atypical angina\n",
    "    + Value 3: non-anginal pain\n",
    "    + Value 4: asymptomatic\n",
    "+ trtbps : resting blood pressure (in mm Hg)\n",
    "\n",
    "+ chol : cholestoral in mg/dl fetched via BMI sensor\n",
    "\n",
    "+ fbs : (fasting blood sugar > 120 mg/dl) (1 = true; 0 = false)\n",
    "\n",
    "+ rest_ecg : resting electrocardiographic results\n",
    "\n",
    "    + Value 0: normal\n",
    "    + Value 1: having ST-T wave abnormality (T wave inversions and/or ST elevation or depression of > 0.05 mV)\n",
    "    + Value 2: showing probable or definite left ventricular hypertrophy by Estes' criteria\n",
    "+ thalach : maximum heart rate achieved\n",
    "\n",
    "+ target : 0= less chance of heart attack 1= more chance of heart attack"
   ],
   "metadata": {
    "collapsed": false
   }
  },
  {
   "cell_type": "markdown",
   "source": [
    "# Task A"
   ],
   "metadata": {
    "collapsed": false
   }
  },
  {
   "cell_type": "markdown",
   "source": [
    "## A.4 + A.5\n",
    "\n",
    "Shown below results, correspond to all of A.4, A.5 and A.6 tasks.\n",
    "\n",
    "### A.4\n",
    "Data for two different patients was sampled from the dataset. For each of the patients, the analysis was made to verify which features are the most important.\n",
    "Apparently for the first one the most important was 'sex' and for the second one 'thall'. Unfortunately, there is no information what 'thall' corresponds to, there are multiple differences between data description and actual dataset columns so no exact verification of accuracy of such use can be done. However, for patient 0, 'sex' overcome 3 times any other feature. That's not always the case.\n",
    "\n",
    "After all, for both patients both features were similarly important to determine the heart attack probability. It was not the pattern among the rest of the patients. Many different features were marked as the most important depending on the patient.\n",
    "\n",
    "### A.5\n",
    "On chosen example some interesting observation can be done also. Age feature, for one patient has positive attribution and for the other negative. Age feature alone does not have that much impact but still is pretty important for the prediction model. It is against intuition but slightly lower age (considering age around 50) implies higher chance for heart attack.\n",
    "Age, for those examples, does not have much impact, but it fits the expectations of the task.\n",
    "\n",
    "![alt text](imgs/a4.png \"Title\")\n"
   ],
   "metadata": {
    "collapsed": false
   }
  },
  {
   "cell_type": "markdown",
   "source": [
    "## A.6\n",
    "Between results from two different packages (dalex and shap) there are some differences.\n",
    "\n",
    "For the first patient, 'cp_3' value is much higher for the shap than in dalex. But there is no much more differences.\n",
    "For the second patient all top results are similar. For some cases (not shown here) there are even exactly the same.\n",
    "\n",
    "In general, it is possible to observe minor differences between two packages. However, those differences are not that drastic.\n",
    "\n",
    "![alt text](imgs/a3_shap.png \"Title\")\n",
    "\n",
    "![alt text](imgs/a3_shap2.png \"Title\")"
   ],
   "metadata": {
    "collapsed": false
   }
  },
  {
   "cell_type": "markdown",
   "source": [
    "## A.7\n",
    "Below are presented results of analysis using dalex on Logistic Regression.\n",
    "\n",
    "As well as for XGBClassifier data was not normalized for better comparison of the results.\n",
    "\n",
    "As it was expected after recognizing differences between results from two different packages for the same model, training different model and using dalex for analysis on both, also introduced different results. There is some similarity, such as 'sex' value for the second patient. However, most of the results are not exactly the same. Different models use different features to make correct predictions.\n",
    "\n",
    "Normalizing data for LR did not improve results but made it more difficult to interpret.\n",
    "\n",
    "![alt text](imgs/a72.png \"Title\")\n"
   ],
   "metadata": {
    "collapsed": false
   }
  },
  {
   "cell_type": "markdown",
   "source": [
    "Concluding - there are some features that are unanimously considered important such as sex, certain cp values, age or thall despite the chosen model or explanation method. However, those results are not completely identical."
   ],
   "metadata": {
    "collapsed": false
   }
  },
  {
   "cell_type": "markdown",
   "source": [
    "# Task B"
   ],
   "metadata": {
    "collapsed": false
   }
  },
  {
   "cell_type": "markdown",
   "source": [
    "## Solution\n",
    "\n",
    "![alt text](imgs/b.png \"Title\")"
   ],
   "metadata": {
    "collapsed": false
   }
  },
  {
   "cell_type": "markdown",
   "source": [
    "# Appendix"
   ],
   "metadata": {
    "collapsed": false
   }
  },
  {
   "cell_type": "code",
   "execution_count": null,
   "metadata": {
    "collapsed": true,
    "pycharm": {
     "is_executing": true
    }
   },
   "outputs": [],
   "source": [
    "!pip install pandas\n",
    "!pip install plotly\n",
    "!pip install seaborn\n",
    "!pip install sklearn\n",
    "!pip install xgboost\n",
    "!pip install imblearn\n",
    "!pip install dalex\n",
    "!pip install shap"
   ]
  },
  {
   "cell_type": "code",
   "execution_count": 13,
   "outputs": [],
   "source": [
    "import pandas as pd\n",
    "from sklearn.preprocessing import OneHotEncoder, StandardScaler\n",
    "from sklearn.linear_model import LogisticRegression\n",
    "from xgboost import XGBClassifier\n",
    "\n",
    "from sklearn.model_selection import cross_val_score\n",
    "from sklearn.metrics import confusion_matrix, ConfusionMatrixDisplay, classification_report\n",
    "import dalex as dx\n",
    "import shap"
   ],
   "metadata": {
    "collapsed": false
   }
  },
  {
   "cell_type": "code",
   "execution_count": 14,
   "outputs": [],
   "source": [
    "df = pd.read_csv('data/heart.csv')\n",
    "categorical_cols = ['exng', 'caa', 'cp', 'restecg']\n",
    "\n",
    "ohe = OneHotEncoder(handle_unknown='ignore', sparse=False, drop='first')\n",
    "df[categorical_cols] = df[categorical_cols].astype('category')\n",
    "df_tr = df.copy()\n",
    "\n",
    "ohe.fit(df_tr[categorical_cols])\n",
    "df_tr[ohe.get_feature_names_out(categorical_cols)] = ohe.transform(df_tr[categorical_cols])\n",
    "df_tr.drop(columns=categorical_cols, inplace=True)\n",
    "\n",
    "X, y = df_tr.drop(columns=['output']), df_tr['output']"
   ],
   "metadata": {
    "collapsed": false
   }
  },
  {
   "cell_type": "code",
   "execution_count": 15,
   "outputs": [],
   "source": [
    "def run_training(model, run_cv: bool = False):\n",
    "    if run_cv:\n",
    "        print(f'CV mean accuracy: {cross_val_score(model, X, y, cv=5, scoring=\"accuracy\").mean()}')\n",
    "\n",
    "    model.fit(X, y)\n",
    "    y_pred = model.predict(X)\n",
    "    conf_mat = confusion_matrix(y, y_pred)\n",
    "    cmd = ConfusionMatrixDisplay(conf_mat)\n",
    "    cmd.plot()\n",
    "    print(classification_report(y, y_pred))"
   ],
   "metadata": {
    "collapsed": false
   }
  },
  {
   "cell_type": "markdown",
   "source": [
    "## A.1\n",
    "Selected model for further experiments is XGBClassifier."
   ],
   "metadata": {
    "collapsed": false
   }
  },
  {
   "cell_type": "code",
   "execution_count": 16,
   "outputs": [
    {
     "data": {
      "text/plain": "XGBClassifier(base_score=0.5, booster='gbtree', callbacks=None,\n              colsample_bylevel=1, colsample_bynode=1, colsample_bytree=1,\n              early_stopping_rounds=None, enable_categorical=False,\n              eval_metric=None, gamma=0, gpu_id=-1, grow_policy='depthwise',\n              importance_type=None, interaction_constraints='',\n              learning_rate=0.300000012, max_bin=256, max_cat_to_onehot=4,\n              max_delta_step=0, max_depth=6, max_leaves=0, min_child_weight=1,\n              missing=nan, monotone_constraints='()', n_estimators=100,\n              n_jobs=0, num_parallel_tree=1, predictor='auto', random_state=0,\n              reg_alpha=0, reg_lambda=1, ...)",
      "text/html": "<style>#sk-container-id-3 {color: black;background-color: white;}#sk-container-id-3 pre{padding: 0;}#sk-container-id-3 div.sk-toggleable {background-color: white;}#sk-container-id-3 label.sk-toggleable__label {cursor: pointer;display: block;width: 100%;margin-bottom: 0;padding: 0.3em;box-sizing: border-box;text-align: center;}#sk-container-id-3 label.sk-toggleable__label-arrow:before {content: \"▸\";float: left;margin-right: 0.25em;color: #696969;}#sk-container-id-3 label.sk-toggleable__label-arrow:hover:before {color: black;}#sk-container-id-3 div.sk-estimator:hover label.sk-toggleable__label-arrow:before {color: black;}#sk-container-id-3 div.sk-toggleable__content {max-height: 0;max-width: 0;overflow: hidden;text-align: left;background-color: #f0f8ff;}#sk-container-id-3 div.sk-toggleable__content pre {margin: 0.2em;color: black;border-radius: 0.25em;background-color: #f0f8ff;}#sk-container-id-3 input.sk-toggleable__control:checked~div.sk-toggleable__content {max-height: 200px;max-width: 100%;overflow: auto;}#sk-container-id-3 input.sk-toggleable__control:checked~label.sk-toggleable__label-arrow:before {content: \"▾\";}#sk-container-id-3 div.sk-estimator input.sk-toggleable__control:checked~label.sk-toggleable__label {background-color: #d4ebff;}#sk-container-id-3 div.sk-label input.sk-toggleable__control:checked~label.sk-toggleable__label {background-color: #d4ebff;}#sk-container-id-3 input.sk-hidden--visually {border: 0;clip: rect(1px 1px 1px 1px);clip: rect(1px, 1px, 1px, 1px);height: 1px;margin: -1px;overflow: hidden;padding: 0;position: absolute;width: 1px;}#sk-container-id-3 div.sk-estimator {font-family: monospace;background-color: #f0f8ff;border: 1px dotted black;border-radius: 0.25em;box-sizing: border-box;margin-bottom: 0.5em;}#sk-container-id-3 div.sk-estimator:hover {background-color: #d4ebff;}#sk-container-id-3 div.sk-parallel-item::after {content: \"\";width: 100%;border-bottom: 1px solid gray;flex-grow: 1;}#sk-container-id-3 div.sk-label:hover label.sk-toggleable__label {background-color: #d4ebff;}#sk-container-id-3 div.sk-serial::before {content: \"\";position: absolute;border-left: 1px solid gray;box-sizing: border-box;top: 0;bottom: 0;left: 50%;z-index: 0;}#sk-container-id-3 div.sk-serial {display: flex;flex-direction: column;align-items: center;background-color: white;padding-right: 0.2em;padding-left: 0.2em;position: relative;}#sk-container-id-3 div.sk-item {position: relative;z-index: 1;}#sk-container-id-3 div.sk-parallel {display: flex;align-items: stretch;justify-content: center;background-color: white;position: relative;}#sk-container-id-3 div.sk-item::before, #sk-container-id-3 div.sk-parallel-item::before {content: \"\";position: absolute;border-left: 1px solid gray;box-sizing: border-box;top: 0;bottom: 0;left: 50%;z-index: -1;}#sk-container-id-3 div.sk-parallel-item {display: flex;flex-direction: column;z-index: 1;position: relative;background-color: white;}#sk-container-id-3 div.sk-parallel-item:first-child::after {align-self: flex-end;width: 50%;}#sk-container-id-3 div.sk-parallel-item:last-child::after {align-self: flex-start;width: 50%;}#sk-container-id-3 div.sk-parallel-item:only-child::after {width: 0;}#sk-container-id-3 div.sk-dashed-wrapped {border: 1px dashed gray;margin: 0 0.4em 0.5em 0.4em;box-sizing: border-box;padding-bottom: 0.4em;background-color: white;}#sk-container-id-3 div.sk-label label {font-family: monospace;font-weight: bold;display: inline-block;line-height: 1.2em;}#sk-container-id-3 div.sk-label-container {text-align: center;}#sk-container-id-3 div.sk-container {/* jupyter's `normalize.less` sets `[hidden] { display: none; }` but bootstrap.min.css set `[hidden] { display: none !important; }` so we also need the `!important` here to be able to override the default hidden behavior on the sphinx rendered scikit-learn.org. See: https://github.com/scikit-learn/scikit-learn/issues/21755 */display: inline-block !important;position: relative;}#sk-container-id-3 div.sk-text-repr-fallback {display: none;}</style><div id=\"sk-container-id-3\" class=\"sk-top-container\"><div class=\"sk-text-repr-fallback\"><pre>XGBClassifier(base_score=0.5, booster=&#x27;gbtree&#x27;, callbacks=None,\n              colsample_bylevel=1, colsample_bynode=1, colsample_bytree=1,\n              early_stopping_rounds=None, enable_categorical=False,\n              eval_metric=None, gamma=0, gpu_id=-1, grow_policy=&#x27;depthwise&#x27;,\n              importance_type=None, interaction_constraints=&#x27;&#x27;,\n              learning_rate=0.300000012, max_bin=256, max_cat_to_onehot=4,\n              max_delta_step=0, max_depth=6, max_leaves=0, min_child_weight=1,\n              missing=nan, monotone_constraints=&#x27;()&#x27;, n_estimators=100,\n              n_jobs=0, num_parallel_tree=1, predictor=&#x27;auto&#x27;, random_state=0,\n              reg_alpha=0, reg_lambda=1, ...)</pre><b>In a Jupyter environment, please rerun this cell to show the HTML representation or trust the notebook. <br />On GitHub, the HTML representation is unable to render, please try loading this page with nbviewer.org.</b></div><div class=\"sk-container\" hidden><div class=\"sk-item\"><div class=\"sk-estimator sk-toggleable\"><input class=\"sk-toggleable__control sk-hidden--visually\" id=\"sk-estimator-id-3\" type=\"checkbox\" checked><label for=\"sk-estimator-id-3\" class=\"sk-toggleable__label sk-toggleable__label-arrow\">XGBClassifier</label><div class=\"sk-toggleable__content\"><pre>XGBClassifier(base_score=0.5, booster=&#x27;gbtree&#x27;, callbacks=None,\n              colsample_bylevel=1, colsample_bynode=1, colsample_bytree=1,\n              early_stopping_rounds=None, enable_categorical=False,\n              eval_metric=None, gamma=0, gpu_id=-1, grow_policy=&#x27;depthwise&#x27;,\n              importance_type=None, interaction_constraints=&#x27;&#x27;,\n              learning_rate=0.300000012, max_bin=256, max_cat_to_onehot=4,\n              max_delta_step=0, max_depth=6, max_leaves=0, min_child_weight=1,\n              missing=nan, monotone_constraints=&#x27;()&#x27;, n_estimators=100,\n              n_jobs=0, num_parallel_tree=1, predictor=&#x27;auto&#x27;, random_state=0,\n              reg_alpha=0, reg_lambda=1, ...)</pre></div></div></div></div></div>"
     },
     "execution_count": 16,
     "metadata": {},
     "output_type": "execute_result"
    }
   ],
   "source": [
    "model1 = XGBClassifier()\n",
    "model1.fit(X, y)"
   ],
   "metadata": {
    "collapsed": false
   }
  },
  {
   "cell_type": "markdown",
   "source": [
    "## A.2\n",
    "Sampling two patients."
   ],
   "metadata": {
    "collapsed": false
   }
  },
  {
   "cell_type": "code",
   "execution_count": 24,
   "outputs": [
    {
     "name": "stdout",
     "output_type": "stream",
     "text": [
      "Int64Index([14, 108], dtype='int64')\n"
     ]
    },
    {
     "data": {
      "text/plain": "array([[8.0226064e-03, 9.9197739e-01],\n       [4.6610832e-04, 9.9953389e-01]], dtype=float32)"
     },
     "execution_count": 24,
     "metadata": {},
     "output_type": "execute_result"
    }
   ],
   "source": [
    "patients = X.iloc[[14, 108]]#.sample(2) #14, 108\n",
    "print(patients.index)\n",
    "model1.predict_proba(patients)"
   ],
   "metadata": {
    "collapsed": false
   }
  },
  {
   "cell_type": "markdown",
   "source": [
    "## A.3\n",
    "Variable attributions, using SHAP. Used libraries are dalex and shap."
   ],
   "metadata": {
    "collapsed": false
   }
  },
  {
   "cell_type": "code",
   "execution_count": 25,
   "outputs": [
    {
     "name": "stdout",
     "output_type": "stream",
     "text": [
      "Preparation of a new explainer is initiated\n",
      "\n",
      "  -> data              : 303 rows 19 cols\n",
      "  -> target variable   : Parameter 'y' was a pandas.Series. Converted to a numpy.ndarray.\n",
      "  -> target variable   : 303 values\n",
      "  -> model_class       : xgboost.sklearn.XGBClassifier (default)\n",
      "  -> label             : XGBClassifier\n",
      "  -> predict function  : <function <lambda> at 0x7f46d51b1630> will be used\n",
      "  -> predict function  : Accepts pandas.DataFrame and numpy.ndarray.\n",
      "  -> predicted values  : min = 0.0, mean = 0.545, max = 1.0\n",
      "  -> model type        : classification will be used (default)\n",
      "  -> residual function : difference between y and yhat (default)\n",
      "  -> residuals         : min = 0.0, mean = 0.0, max = 0.0\n",
      "  -> model_info        : package xgboost\n",
      "\n",
      "A new explainer has been created!\n"
     ]
    },
    {
     "data": {
      "text/plain": "array([1, 1])"
     },
     "execution_count": 25,
     "metadata": {},
     "output_type": "execute_result"
    }
   ],
   "source": [
    "explainer = dx.Explainer(model1, X, y, predict_function=lambda model, x: model.predict(x), label=\"XGBClassifier\")\n",
    "explainer.predict(patients)"
   ],
   "metadata": {
    "collapsed": false
   }
  },
  {
   "cell_type": "markdown",
   "source": [
    "## A.3 + A.4 + A.5\n",
    "Results presented in all A3, A4 and A5 tasks. Corresponding plots are created with dalex and shap."
   ],
   "metadata": {
    "collapsed": false
   }
  },
  {
   "cell_type": "code",
   "execution_count": 26,
   "outputs": [
    {
     "data": {
      "application/vnd.plotly.v1+json": {
       "data": [
        {
         "base": 0.5445544554455446,
         "hoverinfo": "text",
         "hoverlabel": {
          "bgcolor": "rgba(0,0,0,0.8)"
         },
         "hovertext": [
          "Average response: 0.545<br>Prediction: 1<br>sex = 0.0<br>increases average response <br>by 0.351",
          "Average response: 0.545<br>Prediction: 1<br>age = 58.0<br>decreases average response <br>by 0.11",
          "Average response: 0.545<br>Prediction: 1<br>slp = 2.0<br>increases average response <br>by 0.079",
          "Average response: 0.545<br>Prediction: 1<br>thall = 2.0<br>increases average response <br>by 0.078",
          "Average response: 0.545<br>Prediction: 1<br>chol = 283.0<br>decreases average response <br>by 0.074",
          "Average response: 0.545<br>Prediction: 1<br>cp_3 = 1.0<br>increases average response <br>by 0.062",
          "Average response: 0.545<br>Prediction: 1<br>restecg_1 = 0.0<br>decreases average response <br>by 0.031",
          "Average response: 0.545<br>Prediction: 1<br>oldpeak = 1.0<br>increases average response <br>by 0.026",
          "Average response: 0.545<br>Prediction: 1<br>caa_2 = 0.0<br>increases average response <br>by 0.025",
          "Average response: 0.545<br>Prediction: 1<br>+ all other factors<br>increases average response <br>by 0.051"
         ],
         "marker": {
          "color": [
           "#8bdcbe",
           "#f05a71",
           "#8bdcbe",
           "#8bdcbe",
           "#f05a71",
           "#8bdcbe",
           "#f05a71",
           "#8bdcbe",
           "#8bdcbe",
           "#8bdcbe"
          ]
         },
         "orientation": "h",
         "showlegend": false,
         "text": [
          "+0.351",
          "-0.11",
          "+0.079",
          "+0.078",
          "-0.074",
          "+0.062",
          "-0.031",
          "+0.026",
          "+0.025",
          "+0.051"
         ],
         "textposition": "outside",
         "x": [
          0.351,
          -0.11,
          0.079,
          0.078,
          -0.074,
          0.062,
          -0.031,
          0.026,
          0.025,
          0.051
         ],
         "y": [
          "sex = 0.0",
          "age = 58.0",
          "slp = 2.0",
          "thall = 2.0",
          "chol = 283.0",
          "cp_3 = 1.0",
          "restecg_1 = 0.0",
          "oldpeak = 1.0",
          "caa_2 = 0.0",
          "+ all other factors"
         ],
         "type": "bar",
         "xaxis": "x",
         "yaxis": "y"
        },
        {
         "base": 0.5445544554455446,
         "hoverinfo": "text",
         "hoverlabel": {
          "bgcolor": "rgba(0,0,0,0.8)"
         },
         "hovertext": [
          "Average response: 0.545<br>Prediction: 1<br>thall = 2.0<br>increases average response <br>by 0.136",
          "Average response: 0.545<br>Prediction: 1<br>sex = 0.0<br>increases average response <br>by 0.09",
          "Average response: 0.545<br>Prediction: 1<br>slp = 2.0<br>increases average response <br>by 0.051",
          "Average response: 0.545<br>Prediction: 1<br>age = 50.0<br>increases average response <br>by 0.044",
          "Average response: 0.545<br>Prediction: 1<br>thalachh = 162.0<br>increases average response <br>by 0.04",
          "Average response: 0.545<br>Prediction: 1<br>caa_1 = 0.0<br>increases average response <br>by 0.029",
          "Average response: 0.545<br>Prediction: 1<br>exng_1 = 0.0<br>increases average response <br>by 0.024",
          "Average response: 0.545<br>Prediction: 1<br>cp_1 = 1.0<br>increases average response <br>by 0.021",
          "Average response: 0.545<br>Prediction: 1<br>oldpeak = 1.1<br>increases average response <br>by 0.018",
          "Average response: 0.545<br>Prediction: 1<br>+ all other factors<br>increases average response <br>by 0.001"
         ],
         "marker": {
          "color": [
           "#8bdcbe",
           "#8bdcbe",
           "#8bdcbe",
           "#8bdcbe",
           "#8bdcbe",
           "#8bdcbe",
           "#8bdcbe",
           "#8bdcbe",
           "#8bdcbe",
           "#8bdcbe"
          ]
         },
         "orientation": "h",
         "showlegend": false,
         "text": [
          "+0.136",
          "+0.09",
          "+0.051",
          "+0.044",
          "+0.04",
          "+0.029",
          "+0.024",
          "+0.021",
          "+0.018",
          "+0.001"
         ],
         "textposition": "outside",
         "x": [
          0.136,
          0.09,
          0.051,
          0.044,
          0.04,
          0.029,
          0.024,
          0.021,
          0.018,
          0.001
         ],
         "y": [
          "thall = 2.0",
          "sex = 0.0",
          "slp = 2.0",
          "age = 50.0",
          "thalachh = 162.0",
          "caa_1 = 0.0",
          "exng_1 = 0.0",
          "cp_1 = 1.0",
          "oldpeak = 1.1",
          "+ all other factors"
         ],
         "type": "bar",
         "xaxis": "x2",
         "yaxis": "y2"
        }
       ],
       "layout": {
        "template": {
         "data": {
          "scatter": [
           {
            "type": "scatter"
           }
          ]
         }
        },
        "xaxis": {
         "anchor": "y",
         "domain": [
          0.0,
          1.0
         ],
         "matches": "x2",
         "showticklabels": false,
         "type": "linear",
         "gridwidth": 2,
         "zeroline": false,
         "automargin": true,
         "ticks": "outside",
         "tickcolor": "white",
         "ticklen": 3,
         "fixedrange": true,
         "range": [
          0.3654044554455446,
          0.9647044554455446
         ]
        },
        "yaxis": {
         "anchor": "x",
         "domain": [
          0.55,
          1.0
         ],
         "type": "category",
         "autorange": "reversed",
         "gridwidth": 2,
         "automargin": true,
         "ticks": "outside",
         "tickcolor": "white",
         "ticklen": 10,
         "fixedrange": true
        },
        "xaxis2": {
         "anchor": "y2",
         "domain": [
          0.0,
          1.0
         ],
         "type": "linear",
         "gridwidth": 2,
         "zeroline": false,
         "automargin": true,
         "ticks": "outside",
         "tickcolor": "white",
         "ticklen": 3,
         "fixedrange": true,
         "range": [
          0.3654044554455446,
          0.9647044554455446
         ]
        },
        "yaxis2": {
         "anchor": "x2",
         "domain": [
          0.0,
          0.45
         ],
         "type": "category",
         "autorange": "reversed",
         "gridwidth": 2,
         "automargin": true,
         "ticks": "outside",
         "tickcolor": "white",
         "ticklen": 10,
         "fixedrange": true
        },
        "annotations": [
         {
          "font": {
           "size": 16
          },
          "showarrow": false,
          "text": "patient 0",
          "x": 0.5,
          "xanchor": "center",
          "xref": "paper",
          "y": 1.0,
          "yanchor": "bottom",
          "yref": "paper"
         },
         {
          "font": {
           "size": 16
          },
          "showarrow": false,
          "text": "patient 1",
          "x": 0.5,
          "xanchor": "center",
          "xref": "paper",
          "y": 0.45,
          "yanchor": "bottom",
          "yref": "paper"
         },
         {
          "font": {
           "size": 16
          },
          "showarrow": false,
          "text": "contribution",
          "x": 0.5,
          "xanchor": "center",
          "xref": "paper",
          "y": 0,
          "yanchor": "top",
          "yref": "paper",
          "yshift": -30
         }
        ],
        "shapes": [
         {
          "line": {
           "color": "#371ea3",
           "dash": "dot",
           "width": 1.5
          },
          "type": "line",
          "x0": 0.5445544554455446,
          "x1": 0.5445544554455446,
          "xref": "x",
          "y0": -1,
          "y1": 11,
          "yref": "y"
         },
         {
          "line": {
           "color": "#371ea3",
           "dash": "dot",
           "width": 1.5
          },
          "type": "line",
          "x0": 0.5445544554455446,
          "x1": 0.5445544554455446,
          "xref": "x2",
          "y0": -1,
          "y1": 11,
          "yref": "y2"
         }
        ],
        "title": {
         "text": "Shapley Values",
         "x": 0.15
        },
        "font": {
         "color": "#371ea3"
        },
        "margin": {
         "t": 78,
         "b": 71,
         "r": 30
        },
        "height": 667.0
       },
       "config": {
        "displaylogo": false,
        "staticPlot": false,
        "toImageButtonOptions": {
         "height": null,
         "width": null
        },
        "modeBarButtonsToRemove": [
         "sendDataToCloud",
         "lasso2d",
         "autoScale2d",
         "select2d",
         "zoom2d",
         "pan2d",
         "zoomIn2d",
         "zoomOut2d",
         "resetScale2d",
         "toggleSpikelines",
         "hoverCompareCartesian",
         "hoverClosestCartesian"
        ],
        "plotlyServerURL": "https://plot.ly"
       }
      },
      "text/html": "<div>                            <div id=\"c758b1a2-d598-465c-8c7a-c7ffd4c30327\" class=\"plotly-graph-div\" style=\"height:667.0px; width:100%;\"></div>            <script type=\"text/javascript\">                require([\"plotly\"], function(Plotly) {                    window.PLOTLYENV=window.PLOTLYENV || {};                                    if (document.getElementById(\"c758b1a2-d598-465c-8c7a-c7ffd4c30327\")) {                    Plotly.newPlot(                        \"c758b1a2-d598-465c-8c7a-c7ffd4c30327\",                        [{\"base\":0.5445544554455446,\"hoverinfo\":\"text\",\"hoverlabel\":{\"bgcolor\":\"rgba(0,0,0,0.8)\"},\"hovertext\":[\"Average response: 0.545<br>Prediction: 1<br>sex = 0.0<br>increases average response <br>by 0.351\",\"Average response: 0.545<br>Prediction: 1<br>age = 58.0<br>decreases average response <br>by 0.11\",\"Average response: 0.545<br>Prediction: 1<br>slp = 2.0<br>increases average response <br>by 0.079\",\"Average response: 0.545<br>Prediction: 1<br>thall = 2.0<br>increases average response <br>by 0.078\",\"Average response: 0.545<br>Prediction: 1<br>chol = 283.0<br>decreases average response <br>by 0.074\",\"Average response: 0.545<br>Prediction: 1<br>cp_3 = 1.0<br>increases average response <br>by 0.062\",\"Average response: 0.545<br>Prediction: 1<br>restecg_1 = 0.0<br>decreases average response <br>by 0.031\",\"Average response: 0.545<br>Prediction: 1<br>oldpeak = 1.0<br>increases average response <br>by 0.026\",\"Average response: 0.545<br>Prediction: 1<br>caa_2 = 0.0<br>increases average response <br>by 0.025\",\"Average response: 0.545<br>Prediction: 1<br>+ all other factors<br>increases average response <br>by 0.051\"],\"marker\":{\"color\":[\"#8bdcbe\",\"#f05a71\",\"#8bdcbe\",\"#8bdcbe\",\"#f05a71\",\"#8bdcbe\",\"#f05a71\",\"#8bdcbe\",\"#8bdcbe\",\"#8bdcbe\"]},\"orientation\":\"h\",\"showlegend\":false,\"text\":[\"+0.351\",\"-0.11\",\"+0.079\",\"+0.078\",\"-0.074\",\"+0.062\",\"-0.031\",\"+0.026\",\"+0.025\",\"+0.051\"],\"textposition\":\"outside\",\"x\":[0.351,-0.11,0.079,0.078,-0.074,0.062,-0.031,0.026,0.025,0.051],\"y\":[\"sex = 0.0\",\"age = 58.0\",\"slp = 2.0\",\"thall = 2.0\",\"chol = 283.0\",\"cp_3 = 1.0\",\"restecg_1 = 0.0\",\"oldpeak = 1.0\",\"caa_2 = 0.0\",\"+ all other factors\"],\"type\":\"bar\",\"xaxis\":\"x\",\"yaxis\":\"y\"},{\"base\":0.5445544554455446,\"hoverinfo\":\"text\",\"hoverlabel\":{\"bgcolor\":\"rgba(0,0,0,0.8)\"},\"hovertext\":[\"Average response: 0.545<br>Prediction: 1<br>thall = 2.0<br>increases average response <br>by 0.136\",\"Average response: 0.545<br>Prediction: 1<br>sex = 0.0<br>increases average response <br>by 0.09\",\"Average response: 0.545<br>Prediction: 1<br>slp = 2.0<br>increases average response <br>by 0.051\",\"Average response: 0.545<br>Prediction: 1<br>age = 50.0<br>increases average response <br>by 0.044\",\"Average response: 0.545<br>Prediction: 1<br>thalachh = 162.0<br>increases average response <br>by 0.04\",\"Average response: 0.545<br>Prediction: 1<br>caa_1 = 0.0<br>increases average response <br>by 0.029\",\"Average response: 0.545<br>Prediction: 1<br>exng_1 = 0.0<br>increases average response <br>by 0.024\",\"Average response: 0.545<br>Prediction: 1<br>cp_1 = 1.0<br>increases average response <br>by 0.021\",\"Average response: 0.545<br>Prediction: 1<br>oldpeak = 1.1<br>increases average response <br>by 0.018\",\"Average response: 0.545<br>Prediction: 1<br>+ all other factors<br>increases average response <br>by 0.001\"],\"marker\":{\"color\":[\"#8bdcbe\",\"#8bdcbe\",\"#8bdcbe\",\"#8bdcbe\",\"#8bdcbe\",\"#8bdcbe\",\"#8bdcbe\",\"#8bdcbe\",\"#8bdcbe\",\"#8bdcbe\"]},\"orientation\":\"h\",\"showlegend\":false,\"text\":[\"+0.136\",\"+0.09\",\"+0.051\",\"+0.044\",\"+0.04\",\"+0.029\",\"+0.024\",\"+0.021\",\"+0.018\",\"+0.001\"],\"textposition\":\"outside\",\"x\":[0.136,0.09,0.051,0.044,0.04,0.029,0.024,0.021,0.018,0.001],\"y\":[\"thall = 2.0\",\"sex = 0.0\",\"slp = 2.0\",\"age = 50.0\",\"thalachh = 162.0\",\"caa_1 = 0.0\",\"exng_1 = 0.0\",\"cp_1 = 1.0\",\"oldpeak = 1.1\",\"+ all other factors\"],\"type\":\"bar\",\"xaxis\":\"x2\",\"yaxis\":\"y2\"}],                        {\"template\":{\"data\":{\"scatter\":[{\"type\":\"scatter\"}]}},\"xaxis\":{\"anchor\":\"y\",\"domain\":[0.0,1.0],\"matches\":\"x2\",\"showticklabels\":false,\"type\":\"linear\",\"gridwidth\":2,\"zeroline\":false,\"automargin\":true,\"ticks\":\"outside\",\"tickcolor\":\"white\",\"ticklen\":3,\"fixedrange\":true,\"range\":[0.3654044554455446,0.9647044554455446]},\"yaxis\":{\"anchor\":\"x\",\"domain\":[0.55,1.0],\"type\":\"category\",\"autorange\":\"reversed\",\"gridwidth\":2,\"automargin\":true,\"ticks\":\"outside\",\"tickcolor\":\"white\",\"ticklen\":10,\"fixedrange\":true},\"xaxis2\":{\"anchor\":\"y2\",\"domain\":[0.0,1.0],\"type\":\"linear\",\"gridwidth\":2,\"zeroline\":false,\"automargin\":true,\"ticks\":\"outside\",\"tickcolor\":\"white\",\"ticklen\":3,\"fixedrange\":true,\"range\":[0.3654044554455446,0.9647044554455446]},\"yaxis2\":{\"anchor\":\"x2\",\"domain\":[0.0,0.45],\"type\":\"category\",\"autorange\":\"reversed\",\"gridwidth\":2,\"automargin\":true,\"ticks\":\"outside\",\"tickcolor\":\"white\",\"ticklen\":10,\"fixedrange\":true},\"annotations\":[{\"font\":{\"size\":16},\"showarrow\":false,\"text\":\"patient 0\",\"x\":0.5,\"xanchor\":\"center\",\"xref\":\"paper\",\"y\":1.0,\"yanchor\":\"bottom\",\"yref\":\"paper\"},{\"font\":{\"size\":16},\"showarrow\":false,\"text\":\"patient 1\",\"x\":0.5,\"xanchor\":\"center\",\"xref\":\"paper\",\"y\":0.45,\"yanchor\":\"bottom\",\"yref\":\"paper\"},{\"font\":{\"size\":16},\"showarrow\":false,\"text\":\"contribution\",\"x\":0.5,\"xanchor\":\"center\",\"xref\":\"paper\",\"y\":0,\"yanchor\":\"top\",\"yref\":\"paper\",\"yshift\":-30}],\"shapes\":[{\"line\":{\"color\":\"#371ea3\",\"dash\":\"dot\",\"width\":1.5},\"type\":\"line\",\"x0\":0.5445544554455446,\"x1\":0.5445544554455446,\"xref\":\"x\",\"y0\":-1,\"y1\":11,\"yref\":\"y\"},{\"line\":{\"color\":\"#371ea3\",\"dash\":\"dot\",\"width\":1.5},\"type\":\"line\",\"x0\":0.5445544554455446,\"x1\":0.5445544554455446,\"xref\":\"x2\",\"y0\":-1,\"y1\":11,\"yref\":\"y2\"}],\"title\":{\"text\":\"Shapley Values\",\"x\":0.15},\"font\":{\"color\":\"#371ea3\"},\"margin\":{\"t\":78,\"b\":71,\"r\":30},\"height\":667.0},                        {\"displaylogo\": false, \"staticPlot\": false, \"toImageButtonOptions\": {\"height\": null, \"width\": null}, \"modeBarButtonsToRemove\": [\"sendDataToCloud\", \"lasso2d\", \"autoScale2d\", \"select2d\", \"zoom2d\", \"pan2d\", \"zoomIn2d\", \"zoomOut2d\", \"resetScale2d\", \"toggleSpikelines\", \"hoverCompareCartesian\", \"hoverClosestCartesian\"], \"responsive\": true}                    ).then(function(){\n                            \nvar gd = document.getElementById('c758b1a2-d598-465c-8c7a-c7ffd4c30327');\nvar x = new MutationObserver(function (mutations, observer) {{\n        var display = window.getComputedStyle(gd).display;\n        if (!display || display === 'none') {{\n            console.log([gd, 'removed!']);\n            Plotly.purge(gd);\n            observer.disconnect();\n        }}\n}});\n\n// Listen for the removal of the full notebook cells\nvar notebookContainer = gd.closest('#notebook-container');\nif (notebookContainer) {{\n    x.observe(notebookContainer, {childList: true});\n}}\n\n// Listen for the clearing of the current output cell\nvar outputEl = gd.closest('.output');\nif (outputEl) {{\n    x.observe(outputEl, {childList: true});\n}}\n\n                        })                };                });            </script>        </div>"
     },
     "metadata": {},
     "output_type": "display_data"
    }
   ],
   "source": [
    "shap_attributions = [explainer.predict_parts(patients.iloc[[i]], type=\"shap\", label=f'patient {i}') for i in range(patients.shape[0])]\n",
    "shap_attributions[0].plot(shap_attributions[1::])"
   ],
   "metadata": {
    "collapsed": false
   }
  },
  {
   "cell_type": "code",
   "execution_count": 27,
   "outputs": [
    {
     "data": {
      "text/plain": "<Figure size 800x650 with 3 Axes>",
      "image/png": "[encoded data removed]"
     },
     "metadata": {},
     "output_type": "display_data"
    },
    {
     "data": {
      "text/plain": "<Figure size 800x650 with 3 Axes>",
      "image/png": "[encoded data removed]"
     },
     "metadata": {},
     "output_type": "display_data"
    }
   ],
   "source": [
    "shap_explainer = shap.explainers.Tree(model1, data=X, model_output=\"probability\")\n",
    "shap_values = shap_explainer(patients)\n",
    "for i in range(patients.shape[0]):\n",
    "    shap.plots.waterfall(shap_values[i])"
   ],
   "metadata": {
    "collapsed": false
   }
  },
  {
   "cell_type": "markdown",
   "source": [
    "## A.7\n",
    "Choosing Logistic Regression as an alternative to XGBClassifier. Plots using dalex are created for further comparison."
   ],
   "metadata": {
    "collapsed": false
   }
  },
  {
   "cell_type": "code",
   "execution_count": 37,
   "outputs": [
    {
     "data": {
      "text/plain": "LogisticRegression(max_iter=1000, random_state=0)",
      "text/html": "<style>#sk-container-id-7 {color: black;background-color: white;}#sk-container-id-7 pre{padding: 0;}#sk-container-id-7 div.sk-toggleable {background-color: white;}#sk-container-id-7 label.sk-toggleable__label {cursor: pointer;display: block;width: 100%;margin-bottom: 0;padding: 0.3em;box-sizing: border-box;text-align: center;}#sk-container-id-7 label.sk-toggleable__label-arrow:before {content: \"▸\";float: left;margin-right: 0.25em;color: #696969;}#sk-container-id-7 label.sk-toggleable__label-arrow:hover:before {color: black;}#sk-container-id-7 div.sk-estimator:hover label.sk-toggleable__label-arrow:before {color: black;}#sk-container-id-7 div.sk-toggleable__content {max-height: 0;max-width: 0;overflow: hidden;text-align: left;background-color: #f0f8ff;}#sk-container-id-7 div.sk-toggleable__content pre {margin: 0.2em;color: black;border-radius: 0.25em;background-color: #f0f8ff;}#sk-container-id-7 input.sk-toggleable__control:checked~div.sk-toggleable__content {max-height: 200px;max-width: 100%;overflow: auto;}#sk-container-id-7 input.sk-toggleable__control:checked~label.sk-toggleable__label-arrow:before {content: \"▾\";}#sk-container-id-7 div.sk-estimator input.sk-toggleable__control:checked~label.sk-toggleable__label {background-color: #d4ebff;}#sk-container-id-7 div.sk-label input.sk-toggleable__control:checked~label.sk-toggleable__label {background-color: #d4ebff;}#sk-container-id-7 input.sk-hidden--visually {border: 0;clip: rect(1px 1px 1px 1px);clip: rect(1px, 1px, 1px, 1px);height: 1px;margin: -1px;overflow: hidden;padding: 0;position: absolute;width: 1px;}#sk-container-id-7 div.sk-estimator {font-family: monospace;background-color: #f0f8ff;border: 1px dotted black;border-radius: 0.25em;box-sizing: border-box;margin-bottom: 0.5em;}#sk-container-id-7 div.sk-estimator:hover {background-color: #d4ebff;}#sk-container-id-7 div.sk-parallel-item::after {content: \"\";width: 100%;border-bottom: 1px solid gray;flex-grow: 1;}#sk-container-id-7 div.sk-label:hover label.sk-toggleable__label {background-color: #d4ebff;}#sk-container-id-7 div.sk-serial::before {content: \"\";position: absolute;border-left: 1px solid gray;box-sizing: border-box;top: 0;bottom: 0;left: 50%;z-index: 0;}#sk-container-id-7 div.sk-serial {display: flex;flex-direction: column;align-items: center;background-color: white;padding-right: 0.2em;padding-left: 0.2em;position: relative;}#sk-container-id-7 div.sk-item {position: relative;z-index: 1;}#sk-container-id-7 div.sk-parallel {display: flex;align-items: stretch;justify-content: center;background-color: white;position: relative;}#sk-container-id-7 div.sk-item::before, #sk-container-id-7 div.sk-parallel-item::before {content: \"\";position: absolute;border-left: 1px solid gray;box-sizing: border-box;top: 0;bottom: 0;left: 50%;z-index: -1;}#sk-container-id-7 div.sk-parallel-item {display: flex;flex-direction: column;z-index: 1;position: relative;background-color: white;}#sk-container-id-7 div.sk-parallel-item:first-child::after {align-self: flex-end;width: 50%;}#sk-container-id-7 div.sk-parallel-item:last-child::after {align-self: flex-start;width: 50%;}#sk-container-id-7 div.sk-parallel-item:only-child::after {width: 0;}#sk-container-id-7 div.sk-dashed-wrapped {border: 1px dashed gray;margin: 0 0.4em 0.5em 0.4em;box-sizing: border-box;padding-bottom: 0.4em;background-color: white;}#sk-container-id-7 div.sk-label label {font-family: monospace;font-weight: bold;display: inline-block;line-height: 1.2em;}#sk-container-id-7 div.sk-label-container {text-align: center;}#sk-container-id-7 div.sk-container {/* jupyter's `normalize.less` sets `[hidden] { display: none; }` but bootstrap.min.css set `[hidden] { display: none !important; }` so we also need the `!important` here to be able to override the default hidden behavior on the sphinx rendered scikit-learn.org. See: https://github.com/scikit-learn/scikit-learn/issues/21755 */display: inline-block !important;position: relative;}#sk-container-id-7 div.sk-text-repr-fallback {display: none;}</style><div id=\"sk-container-id-7\" class=\"sk-top-container\"><div class=\"sk-text-repr-fallback\"><pre>LogisticRegression(max_iter=1000, random_state=0)</pre><b>In a Jupyter environment, please rerun this cell to show the HTML representation or trust the notebook. <br />On GitHub, the HTML representation is unable to render, please try loading this page with nbviewer.org.</b></div><div class=\"sk-container\" hidden><div class=\"sk-item\"><div class=\"sk-estimator sk-toggleable\"><input class=\"sk-toggleable__control sk-hidden--visually\" id=\"sk-estimator-id-7\" type=\"checkbox\" checked><label for=\"sk-estimator-id-7\" class=\"sk-toggleable__label sk-toggleable__label-arrow\">LogisticRegression</label><div class=\"sk-toggleable__content\"><pre>LogisticRegression(max_iter=1000, random_state=0)</pre></div></div></div></div></div>"
     },
     "execution_count": 37,
     "metadata": {},
     "output_type": "execute_result"
    }
   ],
   "source": [
    "sc = StandardScaler()\n",
    "model2 = LogisticRegression(max_iter=1000, random_state=0)\n",
    "model2.fit(X, y)"
   ],
   "metadata": {
    "collapsed": false
   }
  },
  {
   "cell_type": "code",
   "execution_count": null,
   "outputs": [],
   "source": [
    "explainer2 = dx.Explainer(model2, X, y, predict_function=lambda model, df: model.predict_proba(df)[:, 1], label=\"LogisticRegression\")\n",
    "explainer2.predict(patients)\n",
    "\n",
    "shap_attributions2 = [explainer2.predict_parts(patients.iloc[[i]], type=\"shap\", label=f'patient {i}') for i in range(patients.shape[0])]\n",
    "print(shap_attributions2)\n",
    "shap_attributions2[0].plot(shap_attributions2[1::])"
   ],
   "metadata": {
    "collapsed": false,
    "pycharm": {
     "is_executing": true
    }
   }
  }
 ],
 "metadata": {
  "kernelspec": {
   "display_name": "Python 3",
   "language": "python",
   "name": "python3"
  },
  "language_info": {
   "codemirror_mode": {
    "name": "ipython",
    "version": 2
   },
   "file_extension": ".py",
   "mimetype": "text/x-python",
   "name": "python",
   "nbconvert_exporter": "python",
   "pygments_lexer": "ipython2",
   "version": "2.7.6"
  }
 },
 "nbformat": 4,
 "nbformat_minor": 0
}
