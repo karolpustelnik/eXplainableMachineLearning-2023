{
 "cells": [
  {
   "cell_type": "markdown",
   "metadata": {},
   "source": [
    "## Task 1\n",
    "\n",
    "Consider a following model:\n",
    "\n",
    "f(x1, x2) = (x1 + x2)^2\n",
    "\n",
    "Assume that x1, x2 ~ U[-1,1] and x1=x2 (full dependency)\n",
    "\n",
    "Calculate PD profile for variable x1 in this model."
   ]
  },
  {
   "cell_type": "markdown",
   "metadata": {},
   "source": [
    "The profile is defined as follows:\n",
    "```\n",
    "g(z) = E_X[f(z, X)] = E_X[(z + X)^2] = z^2 + 2zE_X[X] + E_X(X^2)\n",
    "```\n",
    "Since X ~ U[-1,1]:\n",
    "```\n",
    "E_X[X] = 0\n",
    "E_X[X^2] = 1/3\n",
    "```\n",
    "Therefore:\n",
    "```\n",
    "g(z) = z^2 + 1/3\n",
    "```"
   ]
  },
  {
   "cell_type": "markdown",
   "metadata": {},
   "source": [
    "Extra task if you do not fear conditional expected values: Calculate ME and ALE profiles for variable x1 in this model."
   ]
  },
  {
   "cell_type": "markdown",
   "metadata": {},
   "source": [
    "In Marginal Effects we take advantage of correlation between variables:\n",
    "```\n",
    "g(z) = E_{X2|x1=z}[f(z, X2)] = E[f(z, z)] = 4z^2\n",
    "```\n",
    "Notably, this boils down to exact formula for `f(x_1, _)` given `x_1`"
   ]
  },
  {
   "cell_type": "markdown",
   "metadata": {},
   "source": [
    "In Accumulated Local Effects:\n",
    "```\n",
    "g(z) = int_{-1}^{z} E_{X2|x1=v}[df(v, X2)/dx1] dv =\n",
    "     = int_{-1}^{z} E_{X2|x1=v}[2v + 2X2] dv =\n",
    "     = int_{-1}^{z} 4v dv =\n",
    "     = 2z^2 - 2\n",
    "```"
   ]
  }
 ],
 "metadata": {
  "kernelspec": {
   "display_name": "Python 3.10.7 64-bit",
   "language": "python",
   "name": "python3"
  },
  "language_info": {
   "name": "python",
   "version": "3.10.7"
  },
  "orig_nbformat": 4,
  "vscode": {
   "interpreter": {
    "hash": "aee8b7b246df8f9039afb4144a1f6fd8d2ca17a180786b69acc140d282b71a49"
   }
  }
 },
 "nbformat": 4,
 "nbformat_minor": 2
}
