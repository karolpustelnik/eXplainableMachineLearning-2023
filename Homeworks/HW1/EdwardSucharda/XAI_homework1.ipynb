{
  "nbformat": 4,
  "nbformat_minor": 0,
  "metadata": {
    "colab": {
      "provenance": [],
      "collapsed_sections": []
    },
    "kernelspec": {
      "name": "python3",
      "display_name": "Python 3"
    },
    "language_info": {
      "name": "python"
    }
  },
  "cells": [
    {
      "cell_type": "code",
      "execution_count": 1,
      "metadata": {
        "id": "ierrZyf9RUzT"
      },
      "outputs": [],
      "source": [
        "import pandas as pd\n",
        "from sklearn.model_selection import train_test_split\n",
        "from sklearn.ensemble import RandomForestClassifier, RandomForestRegressor\n",
        "from sklearn.svm import SVC, SVR\n",
        "from sklearn.linear_model import LogisticRegression, LinearRegression"
      ]
    },
    {
      "cell_type": "markdown",
      "source": [
        "#1.Loading file"
      ],
      "metadata": {
        "id": "-gI0ajaKGKkD"
      }
    },
    {
      "cell_type": "code",
      "source": [
        "hearts_df = pd.read_csv(\"heart.csv\")"
      ],
      "metadata": {
        "id": "uCqVNapzT2kE"
      },
      "execution_count": 2,
      "outputs": []
    },
    {
      "cell_type": "markdown",
      "source": [
        "#2. Checking types and missing data\n",
        "\n"
      ],
      "metadata": {
        "id": "_KZQ2-clGOyk"
      }
    },
    {
      "cell_type": "code",
      "source": [
        "hearts_df.info()"
      ],
      "metadata": {
        "colab": {
          "base_uri": "https://localhost:8080/"
        },
        "id": "IYnmSIr0UIbb",
        "outputId": "0186e35f-d63d-47f6-cb5b-a022dd51e9aa"
      },
      "execution_count": 3,
      "outputs": [
        {
          "output_type": "stream",
          "name": "stdout",
          "text": [
            "<class 'pandas.core.frame.DataFrame'>\n",
            "RangeIndex: 303 entries, 0 to 302\n",
            "Data columns (total 14 columns):\n",
            " #   Column    Non-Null Count  Dtype  \n",
            "---  ------    --------------  -----  \n",
            " 0   age       303 non-null    int64  \n",
            " 1   sex       303 non-null    int64  \n",
            " 2   cp        303 non-null    int64  \n",
            " 3   trtbps    303 non-null    int64  \n",
            " 4   chol      303 non-null    int64  \n",
            " 5   fbs       303 non-null    int64  \n",
            " 6   restecg   303 non-null    int64  \n",
            " 7   thalachh  303 non-null    int64  \n",
            " 8   exng      303 non-null    int64  \n",
            " 9   oldpeak   303 non-null    float64\n",
            " 10  slp       303 non-null    int64  \n",
            " 11  caa       303 non-null    int64  \n",
            " 12  thall     303 non-null    int64  \n",
            " 13  output    303 non-null    int64  \n",
            "dtypes: float64(1), int64(13)\n",
            "memory usage: 33.3 KB\n"
          ]
        }
      ]
    },
    {
      "cell_type": "markdown",
      "source": [
        "Data is complete and all columns are numeric.\n"
      ],
      "metadata": {
        "id": "RT09bYHSGWo0"
      }
    },
    {
      "cell_type": "markdown",
      "source": [
        "#3. Fixing data\n",
        "From column *cp*, which is an encoding form 0 to 3 of different types of chest pain I created 4 binary features for each kind of pain. I do so beacause they all are not corelated. I obtained *cp0*, *cp1*, *cp2*, *cp3*. Analogically I created *restecg0*, *restecg1*, *restecg2* form resting electrocardiographic results (*restecg*)."
      ],
      "metadata": {
        "id": "6tOGWp0hGc9c"
      }
    },
    {
      "cell_type": "code",
      "source": [
        "for i in range(4):\n",
        "  hearts_df[f\"cp{i}\"] = (hearts_df[\"cp\"] == i) * 1\n",
        "for i in range(3):\n",
        "  hearts_df[f\"restecg{i}\"] = (hearts_df[\"restecg\"] == i) * 1"
      ],
      "metadata": {
        "id": "9eBc2acrVEwC"
      },
      "execution_count": 4,
      "outputs": []
    },
    {
      "cell_type": "markdown",
      "source": [
        "#4. Extracting features and target\n",
        "I droped columns *cp* i *restecg* and created targets from *output* column and features from the rest."
      ],
      "metadata": {
        "id": "XcsOJ8FCHa2O"
      }
    },
    {
      "cell_type": "code",
      "source": [
        "y_heart = hearts_df[\"output\"]\n",
        "x_heart = hearts_df.drop(columns=[\"cp\", \"restecg\", \"output\"])"
      ],
      "metadata": {
        "id": "RrTBpQ93UXFj"
      },
      "execution_count": 5,
      "outputs": []
    },
    {
      "cell_type": "markdown",
      "source": [
        "#5. Analizing data\n",
        "\n"
      ],
      "metadata": {
        "id": "bZLv7QqlJJQR"
      }
    },
    {
      "cell_type": "code",
      "source": [
        "x_heart.describe()"
      ],
      "metadata": {
        "colab": {
          "base_uri": "https://localhost:8080/",
          "height": 364
        },
        "id": "yeX__GlCYBv7",
        "outputId": "26dc306d-191a-49cf-987b-d051b5b08765"
      },
      "execution_count": 6,
      "outputs": [
        {
          "output_type": "execute_result",
          "data": {
            "text/plain": [
              "              age         sex      trtbps        chol         fbs    thalachh  \\\n",
              "count  303.000000  303.000000  303.000000  303.000000  303.000000  303.000000   \n",
              "mean    54.366337    0.683168  131.623762  246.264026    0.148515  149.646865   \n",
              "std      9.082101    0.466011   17.538143   51.830751    0.356198   22.905161   \n",
              "min     29.000000    0.000000   94.000000  126.000000    0.000000   71.000000   \n",
              "25%     47.500000    0.000000  120.000000  211.000000    0.000000  133.500000   \n",
              "50%     55.000000    1.000000  130.000000  240.000000    0.000000  153.000000   \n",
              "75%     61.000000    1.000000  140.000000  274.500000    0.000000  166.000000   \n",
              "max     77.000000    1.000000  200.000000  564.000000    1.000000  202.000000   \n",
              "\n",
              "             exng     oldpeak         slp         caa       thall         cp0  \\\n",
              "count  303.000000  303.000000  303.000000  303.000000  303.000000  303.000000   \n",
              "mean     0.326733    1.039604    1.399340    0.729373    2.313531    0.471947   \n",
              "std      0.469794    1.161075    0.616226    1.022606    0.612277    0.500038   \n",
              "min      0.000000    0.000000    0.000000    0.000000    0.000000    0.000000   \n",
              "25%      0.000000    0.000000    1.000000    0.000000    2.000000    0.000000   \n",
              "50%      0.000000    0.800000    1.000000    0.000000    2.000000    0.000000   \n",
              "75%      1.000000    1.600000    2.000000    1.000000    3.000000    1.000000   \n",
              "max      1.000000    6.200000    2.000000    4.000000    3.000000    1.000000   \n",
              "\n",
              "              cp1         cp2         cp3    restecg0    restecg1    restecg2  \n",
              "count  303.000000  303.000000  303.000000  303.000000  303.000000  303.000000  \n",
              "mean     0.165017    0.287129    0.075908    0.485149    0.501650    0.013201  \n",
              "std      0.371809    0.453171    0.265288    0.500606    0.500824    0.114325  \n",
              "min      0.000000    0.000000    0.000000    0.000000    0.000000    0.000000  \n",
              "25%      0.000000    0.000000    0.000000    0.000000    0.000000    0.000000  \n",
              "50%      0.000000    0.000000    0.000000    0.000000    1.000000    0.000000  \n",
              "75%      0.000000    1.000000    0.000000    1.000000    1.000000    0.000000  \n",
              "max      1.000000    1.000000    1.000000    1.000000    1.000000    1.000000  "
            ],
            "text/html": [
              "\n",
              "  <div id=\"df-be69e156-1dbe-4c94-916f-4734057b50e6\">\n",
              "    <div class=\"colab-df-container\">\n",
              "      <div>\n",
              "<style scoped>\n",
              "    .dataframe tbody tr th:only-of-type {\n",
              "        vertical-align: middle;\n",
              "    }\n",
              "\n",
              "    .dataframe tbody tr th {\n",
              "        vertical-align: top;\n",
              "    }\n",
              "\n",
              "    .dataframe thead th {\n",
              "        text-align: right;\n",
              "    }\n",
              "</style>\n",
              "<table border=\"1\" class=\"dataframe\">\n",
              "  <thead>\n",
              "    <tr style=\"text-align: right;\">\n",
              "      <th></th>\n",
              "      <th>age</th>\n",
              "      <th>sex</th>\n",
              "      <th>trtbps</th>\n",
              "      <th>chol</th>\n",
              "      <th>fbs</th>\n",
              "      <th>thalachh</th>\n",
              "      <th>exng</th>\n",
              "      <th>oldpeak</th>\n",
              "      <th>slp</th>\n",
              "      <th>caa</th>\n",
              "      <th>thall</th>\n",
              "      <th>cp0</th>\n",
              "      <th>cp1</th>\n",
              "      <th>cp2</th>\n",
              "      <th>cp3</th>\n",
              "      <th>restecg0</th>\n",
              "      <th>restecg1</th>\n",
              "      <th>restecg2</th>\n",
              "    </tr>\n",
              "  </thead>\n",
              "  <tbody>\n",
              "    <tr>\n",
              "      <th>count</th>\n",
              "      <td>303.000000</td>\n",
              "      <td>303.000000</td>\n",
              "      <td>303.000000</td>\n",
              "      <td>303.000000</td>\n",
              "      <td>303.000000</td>\n",
              "      <td>303.000000</td>\n",
              "      <td>303.000000</td>\n",
              "      <td>303.000000</td>\n",
              "      <td>303.000000</td>\n",
              "      <td>303.000000</td>\n",
              "      <td>303.000000</td>\n",
              "      <td>303.000000</td>\n",
              "      <td>303.000000</td>\n",
              "      <td>303.000000</td>\n",
              "      <td>303.000000</td>\n",
              "      <td>303.000000</td>\n",
              "      <td>303.000000</td>\n",
              "      <td>303.000000</td>\n",
              "    </tr>\n",
              "    <tr>\n",
              "      <th>mean</th>\n",
              "      <td>54.366337</td>\n",
              "      <td>0.683168</td>\n",
              "      <td>131.623762</td>\n",
              "      <td>246.264026</td>\n",
              "      <td>0.148515</td>\n",
              "      <td>149.646865</td>\n",
              "      <td>0.326733</td>\n",
              "      <td>1.039604</td>\n",
              "      <td>1.399340</td>\n",
              "      <td>0.729373</td>\n",
              "      <td>2.313531</td>\n",
              "      <td>0.471947</td>\n",
              "      <td>0.165017</td>\n",
              "      <td>0.287129</td>\n",
              "      <td>0.075908</td>\n",
              "      <td>0.485149</td>\n",
              "      <td>0.501650</td>\n",
              "      <td>0.013201</td>\n",
              "    </tr>\n",
              "    <tr>\n",
              "      <th>std</th>\n",
              "      <td>9.082101</td>\n",
              "      <td>0.466011</td>\n",
              "      <td>17.538143</td>\n",
              "      <td>51.830751</td>\n",
              "      <td>0.356198</td>\n",
              "      <td>22.905161</td>\n",
              "      <td>0.469794</td>\n",
              "      <td>1.161075</td>\n",
              "      <td>0.616226</td>\n",
              "      <td>1.022606</td>\n",
              "      <td>0.612277</td>\n",
              "      <td>0.500038</td>\n",
              "      <td>0.371809</td>\n",
              "      <td>0.453171</td>\n",
              "      <td>0.265288</td>\n",
              "      <td>0.500606</td>\n",
              "      <td>0.500824</td>\n",
              "      <td>0.114325</td>\n",
              "    </tr>\n",
              "    <tr>\n",
              "      <th>min</th>\n",
              "      <td>29.000000</td>\n",
              "      <td>0.000000</td>\n",
              "      <td>94.000000</td>\n",
              "      <td>126.000000</td>\n",
              "      <td>0.000000</td>\n",
              "      <td>71.000000</td>\n",
              "      <td>0.000000</td>\n",
              "      <td>0.000000</td>\n",
              "      <td>0.000000</td>\n",
              "      <td>0.000000</td>\n",
              "      <td>0.000000</td>\n",
              "      <td>0.000000</td>\n",
              "      <td>0.000000</td>\n",
              "      <td>0.000000</td>\n",
              "      <td>0.000000</td>\n",
              "      <td>0.000000</td>\n",
              "      <td>0.000000</td>\n",
              "      <td>0.000000</td>\n",
              "    </tr>\n",
              "    <tr>\n",
              "      <th>25%</th>\n",
              "      <td>47.500000</td>\n",
              "      <td>0.000000</td>\n",
              "      <td>120.000000</td>\n",
              "      <td>211.000000</td>\n",
              "      <td>0.000000</td>\n",
              "      <td>133.500000</td>\n",
              "      <td>0.000000</td>\n",
              "      <td>0.000000</td>\n",
              "      <td>1.000000</td>\n",
              "      <td>0.000000</td>\n",
              "      <td>2.000000</td>\n",
              "      <td>0.000000</td>\n",
              "      <td>0.000000</td>\n",
              "      <td>0.000000</td>\n",
              "      <td>0.000000</td>\n",
              "      <td>0.000000</td>\n",
              "      <td>0.000000</td>\n",
              "      <td>0.000000</td>\n",
              "    </tr>\n",
              "    <tr>\n",
              "      <th>50%</th>\n",
              "      <td>55.000000</td>\n",
              "      <td>1.000000</td>\n",
              "      <td>130.000000</td>\n",
              "      <td>240.000000</td>\n",
              "      <td>0.000000</td>\n",
              "      <td>153.000000</td>\n",
              "      <td>0.000000</td>\n",
              "      <td>0.800000</td>\n",
              "      <td>1.000000</td>\n",
              "      <td>0.000000</td>\n",
              "      <td>2.000000</td>\n",
              "      <td>0.000000</td>\n",
              "      <td>0.000000</td>\n",
              "      <td>0.000000</td>\n",
              "      <td>0.000000</td>\n",
              "      <td>0.000000</td>\n",
              "      <td>1.000000</td>\n",
              "      <td>0.000000</td>\n",
              "    </tr>\n",
              "    <tr>\n",
              "      <th>75%</th>\n",
              "      <td>61.000000</td>\n",
              "      <td>1.000000</td>\n",
              "      <td>140.000000</td>\n",
              "      <td>274.500000</td>\n",
              "      <td>0.000000</td>\n",
              "      <td>166.000000</td>\n",
              "      <td>1.000000</td>\n",
              "      <td>1.600000</td>\n",
              "      <td>2.000000</td>\n",
              "      <td>1.000000</td>\n",
              "      <td>3.000000</td>\n",
              "      <td>1.000000</td>\n",
              "      <td>0.000000</td>\n",
              "      <td>1.000000</td>\n",
              "      <td>0.000000</td>\n",
              "      <td>1.000000</td>\n",
              "      <td>1.000000</td>\n",
              "      <td>0.000000</td>\n",
              "    </tr>\n",
              "    <tr>\n",
              "      <th>max</th>\n",
              "      <td>77.000000</td>\n",
              "      <td>1.000000</td>\n",
              "      <td>200.000000</td>\n",
              "      <td>564.000000</td>\n",
              "      <td>1.000000</td>\n",
              "      <td>202.000000</td>\n",
              "      <td>1.000000</td>\n",
              "      <td>6.200000</td>\n",
              "      <td>2.000000</td>\n",
              "      <td>4.000000</td>\n",
              "      <td>3.000000</td>\n",
              "      <td>1.000000</td>\n",
              "      <td>1.000000</td>\n",
              "      <td>1.000000</td>\n",
              "      <td>1.000000</td>\n",
              "      <td>1.000000</td>\n",
              "      <td>1.000000</td>\n",
              "      <td>1.000000</td>\n",
              "    </tr>\n",
              "  </tbody>\n",
              "</table>\n",
              "</div>\n",
              "      <button class=\"colab-df-convert\" onclick=\"convertToInteractive('df-be69e156-1dbe-4c94-916f-4734057b50e6')\"\n",
              "              title=\"Convert this dataframe to an interactive table.\"\n",
              "              style=\"display:none;\">\n",
              "        \n",
              "  <svg xmlns=\"http://www.w3.org/2000/svg\" height=\"24px\"viewBox=\"0 0 24 24\"\n",
              "       width=\"24px\">\n",
              "    <path d=\"M0 0h24v24H0V0z\" fill=\"none\"/>\n",
              "    <path d=\"M18.56 5.44l.94 2.06.94-2.06 2.06-.94-2.06-.94-.94-2.06-.94 2.06-2.06.94zm-11 1L8.5 8.5l.94-2.06 2.06-.94-2.06-.94L8.5 2.5l-.94 2.06-2.06.94zm10 10l.94 2.06.94-2.06 2.06-.94-2.06-.94-.94-2.06-.94 2.06-2.06.94z\"/><path d=\"M17.41 7.96l-1.37-1.37c-.4-.4-.92-.59-1.43-.59-.52 0-1.04.2-1.43.59L10.3 9.45l-7.72 7.72c-.78.78-.78 2.05 0 2.83L4 21.41c.39.39.9.59 1.41.59.51 0 1.02-.2 1.41-.59l7.78-7.78 2.81-2.81c.8-.78.8-2.07 0-2.86zM5.41 20L4 18.59l7.72-7.72 1.47 1.35L5.41 20z\"/>\n",
              "  </svg>\n",
              "      </button>\n",
              "      \n",
              "  <style>\n",
              "    .colab-df-container {\n",
              "      display:flex;\n",
              "      flex-wrap:wrap;\n",
              "      gap: 12px;\n",
              "    }\n",
              "\n",
              "    .colab-df-convert {\n",
              "      background-color: #E8F0FE;\n",
              "      border: none;\n",
              "      border-radius: 50%;\n",
              "      cursor: pointer;\n",
              "      display: none;\n",
              "      fill: #1967D2;\n",
              "      height: 32px;\n",
              "      padding: 0 0 0 0;\n",
              "      width: 32px;\n",
              "    }\n",
              "\n",
              "    .colab-df-convert:hover {\n",
              "      background-color: #E2EBFA;\n",
              "      box-shadow: 0px 1px 2px rgba(60, 64, 67, 0.3), 0px 1px 3px 1px rgba(60, 64, 67, 0.15);\n",
              "      fill: #174EA6;\n",
              "    }\n",
              "\n",
              "    [theme=dark] .colab-df-convert {\n",
              "      background-color: #3B4455;\n",
              "      fill: #D2E3FC;\n",
              "    }\n",
              "\n",
              "    [theme=dark] .colab-df-convert:hover {\n",
              "      background-color: #434B5C;\n",
              "      box-shadow: 0px 1px 3px 1px rgba(0, 0, 0, 0.15);\n",
              "      filter: drop-shadow(0px 1px 2px rgba(0, 0, 0, 0.3));\n",
              "      fill: #FFFFFF;\n",
              "    }\n",
              "  </style>\n",
              "\n",
              "      <script>\n",
              "        const buttonEl =\n",
              "          document.querySelector('#df-be69e156-1dbe-4c94-916f-4734057b50e6 button.colab-df-convert');\n",
              "        buttonEl.style.display =\n",
              "          google.colab.kernel.accessAllowed ? 'block' : 'none';\n",
              "\n",
              "        async function convertToInteractive(key) {\n",
              "          const element = document.querySelector('#df-be69e156-1dbe-4c94-916f-4734057b50e6');\n",
              "          const dataTable =\n",
              "            await google.colab.kernel.invokeFunction('convertToInteractive',\n",
              "                                                     [key], {});\n",
              "          if (!dataTable) return;\n",
              "\n",
              "          const docLinkHtml = 'Like what you see? Visit the ' +\n",
              "            '<a target=\"_blank\" href=https://colab.research.google.com/notebooks/data_table.ipynb>data table notebook</a>'\n",
              "            + ' to learn more about interactive tables.';\n",
              "          element.innerHTML = '';\n",
              "          dataTable['output_type'] = 'display_data';\n",
              "          await google.colab.output.renderOutput(dataTable, element);\n",
              "          const docLink = document.createElement('div');\n",
              "          docLink.innerHTML = docLinkHtml;\n",
              "          element.appendChild(docLink);\n",
              "        }\n",
              "      </script>\n",
              "    </div>\n",
              "  </div>\n",
              "  "
            ]
          },
          "metadata": {},
          "execution_count": 6
        }
      ]
    },
    {
      "cell_type": "markdown",
      "source": [
        "The data was standarized beacause columns are in very different range."
      ],
      "metadata": {
        "id": "F1FPWmywJQrp"
      }
    },
    {
      "cell_type": "code",
      "source": [
        "for column in x_heart.columns:\n",
        "  x_heart[column] = (x_heart[column] - x_heart[column].mean()) / x_heart[column].std()"
      ],
      "metadata": {
        "id": "Sa5JE6vXYtIp"
      },
      "execution_count": 7,
      "outputs": []
    },
    {
      "cell_type": "markdown",
      "source": [
        "#6. Spliting for training and testing data.\n"
      ],
      "metadata": {
        "id": "55a7ChYoJbIU"
      }
    },
    {
      "cell_type": "code",
      "source": [
        "X_train_heart, X_test_heart, y_train_heart, y_test_heart = train_test_split(x_heart, y_heart, test_size=0.33, random_state=446519)"
      ],
      "metadata": {
        "id": "oNMC0LCK7AIC"
      },
      "execution_count": 8,
      "outputs": []
    },
    {
      "cell_type": "markdown",
      "source": [
        "#7. Classifires\n",
        "I used radom forest, support vector machine and logistic regression."
      ],
      "metadata": {
        "id": "D2Rx5DyoJhv6"
      }
    },
    {
      "cell_type": "code",
      "source": [
        "rf_h = RandomForestClassifier(n_estimators = 300, max_depth=5, random_state=446519)\n",
        "rf_h.fit(X_train_heart, y_train_heart)"
      ],
      "metadata": {
        "colab": {
          "base_uri": "https://localhost:8080/"
        },
        "id": "iXR2tt7GBD-e",
        "outputId": "a334a768-8302-417b-97a2-bb959b3b2758"
      },
      "execution_count": 9,
      "outputs": [
        {
          "output_type": "execute_result",
          "data": {
            "text/plain": [
              "RandomForestClassifier(max_depth=5, n_estimators=300, random_state=446519)"
            ]
          },
          "metadata": {},
          "execution_count": 9
        }
      ]
    },
    {
      "cell_type": "code",
      "source": [
        "svc_h = SVC(random_state=446519)\n",
        "svc_h.fit(X_train_heart, y_train_heart)"
      ],
      "metadata": {
        "colab": {
          "base_uri": "https://localhost:8080/"
        },
        "id": "mI8vF6K5B9s8",
        "outputId": "ea73a39e-ff12-49b9-9824-b4f7b06dda3e"
      },
      "execution_count": 10,
      "outputs": [
        {
          "output_type": "execute_result",
          "data": {
            "text/plain": [
              "SVC(random_state=446519)"
            ]
          },
          "metadata": {},
          "execution_count": 10
        }
      ]
    },
    {
      "cell_type": "code",
      "source": [
        "lg_h = LogisticRegression(random_state=446519)\n",
        "lg_h.fit(X_train_heart, y_train_heart)"
      ],
      "metadata": {
        "colab": {
          "base_uri": "https://localhost:8080/"
        },
        "id": "hvtmBfymCnkk",
        "outputId": "29b611df-f293-48cc-8552-a1dd4e8c35cb"
      },
      "execution_count": 11,
      "outputs": [
        {
          "output_type": "execute_result",
          "data": {
            "text/plain": [
              "LogisticRegression(random_state=446519)"
            ]
          },
          "metadata": {},
          "execution_count": 11
        }
      ]
    },
    {
      "cell_type": "markdown",
      "source": [
        "#8. Scores"
      ],
      "metadata": {
        "id": "VJgemv0NJpY6"
      }
    },
    {
      "cell_type": "code",
      "source": [
        "print(f\"Random forest score: {rf_h.score(X_test_heart, y_test_heart)}.\")\n",
        "print(f\"Support Vector Machine score: {svc_h.score(X_test_heart, y_test_heart)}.\")\n",
        "print(f\"Logistic Regression score: {lg_h.score(X_test_heart, y_test_heart)}.\")"
      ],
      "metadata": {
        "colab": {
          "base_uri": "https://localhost:8080/"
        },
        "id": "H7w2jHKrBZId",
        "outputId": "40dd321c-2900-42aa-d52f-dbea2604cf59"
      },
      "execution_count": 12,
      "outputs": [
        {
          "output_type": "stream",
          "name": "stdout",
          "text": [
            "Random forest score: 0.84.\n",
            "Support Vector Machine score: 0.82.\n",
            "Logistic Regression score: 0.83.\n"
          ]
        }
      ]
    },
    {
      "cell_type": "markdown",
      "source": [
        "Apparently all used methods give simillar results. Just ahead of all methods was Random forest giving 84% of correct classification. "
      ],
      "metadata": {
        "id": "TjDzYRdTJsry"
      }
    },
    {
      "cell_type": "markdown",
      "source": [
        "#9. Loading data"
      ],
      "metadata": {
        "id": "Wv1dJMpzKEAa"
      }
    },
    {
      "cell_type": "code",
      "source": [
        "waste_df = pd.read_csv(\"public_data_waste_fee.csv\")"
      ],
      "metadata": {
        "id": "8LOcgAIKDHWD"
      },
      "execution_count": 13,
      "outputs": []
    },
    {
      "cell_type": "markdown",
      "source": [
        "#10. Checking types and missing data"
      ],
      "metadata": {
        "id": "T4Pm9yzkKMBy"
      }
    },
    {
      "cell_type": "code",
      "source": [
        "waste_df.info()"
      ],
      "metadata": {
        "id": "tXuyrgCI_S9L",
        "outputId": "001a97b3-61d1-4f86-d298-8da7678f61be",
        "colab": {
          "base_uri": "https://localhost:8080/"
        }
      },
      "execution_count": 14,
      "outputs": [
        {
          "output_type": "stream",
          "name": "stdout",
          "text": [
            "<class 'pandas.core.frame.DataFrame'>\n",
            "RangeIndex: 4341 entries, 0 to 4340\n",
            "Data columns (total 39 columns):\n",
            " #   Column      Non-Null Count  Dtype  \n",
            "---  ------      --------------  -----  \n",
            " 0   region      4341 non-null   object \n",
            " 1   province    4341 non-null   object \n",
            " 2   name        4335 non-null   object \n",
            " 3   tc          4341 non-null   float64\n",
            " 4   cres        4289 non-null   float64\n",
            " 5   csor        4274 non-null   float64\n",
            " 6   istat       4341 non-null   int64  \n",
            " 7   area        4335 non-null   float64\n",
            " 8   pop         4341 non-null   int64  \n",
            " 9   alt         4335 non-null   float64\n",
            " 10  isle        4335 non-null   float64\n",
            " 11  sea         4335 non-null   float64\n",
            " 12  pden        4335 non-null   float64\n",
            " 13  wden        4335 non-null   float64\n",
            " 14  urb         4335 non-null   float64\n",
            " 15  fee         4341 non-null   object \n",
            " 16  d_fee       4341 non-null   int64  \n",
            " 17  sample      4341 non-null   int64  \n",
            " 18  organic     3829 non-null   float64\n",
            " 19  paper       4316 non-null   float64\n",
            " 20  glass       4308 non-null   float64\n",
            " 21  wood        3246 non-null   float64\n",
            " 22  metal       4095 non-null   float64\n",
            " 23  plastic     4302 non-null   float64\n",
            " 24  raee        4027 non-null   float64\n",
            " 25  texile      3328 non-null   float64\n",
            " 26  other       4205 non-null   float64\n",
            " 27  msw_so      4341 non-null   float64\n",
            " 28  msw_un      4341 non-null   int64  \n",
            " 29  msw         4341 non-null   int64  \n",
            " 30  sor         4341 non-null   float64\n",
            " 31  geo         4056 non-null   float64\n",
            " 32  roads       3898 non-null   float64\n",
            " 33  s_wteregio  4056 non-null   float64\n",
            " 34  s_landfill  4056 non-null   float64\n",
            " 35  gdp         3955 non-null   float64\n",
            " 36  proads      3898 non-null   float64\n",
            " 37  wage        4056 non-null   float64\n",
            " 38  finance     3955 non-null   float64\n",
            "dtypes: float64(29), int64(6), object(4)\n",
            "memory usage: 1.3+ MB\n"
          ]
        }
      ]
    },
    {
      "cell_type": "markdown",
      "source": [
        "There are plenty of missing data."
      ],
      "metadata": {
        "id": "8zzQ2dnSKVGv"
      }
    },
    {
      "cell_type": "code",
      "source": [
        "waste_df = waste_df.dropna()\n",
        "waste_df[\"region\"].count()"
      ],
      "metadata": {
        "colab": {
          "base_uri": "https://localhost:8080/"
        },
        "id": "LvNzj7MmDITe",
        "outputId": "471a3f16-5ed7-4887-cef0-1d773ea7b87e"
      },
      "execution_count": 27,
      "outputs": [
        {
          "output_type": "execute_result",
          "data": {
            "text/plain": [
              "2017"
            ]
          },
          "metadata": {},
          "execution_count": 27
        }
      ]
    },
    {
      "cell_type": "markdown",
      "source": [
        "After removing all incomplete records 2017 hes left which is enough for analizes because it is much more than number of columns (39)."
      ],
      "metadata": {
        "id": "ITtIUp6NKaJo"
      }
    },
    {
      "cell_type": "markdown",
      "source": [
        "#11. Fixing data\n",
        "Column *fee* is a binary information represented by string. To make it useable the column was encoded by 0 and 1 representing *PAYT* and *STANDARD*.\n",
        "Column *geo* discribes a one of three regions. Three new features were created and each is a binary information if the region was *south*, *center* or *north*. The features are named *geo_south*, *geo_center* nad *geo_north*."
      ],
      "metadata": {
        "id": "pkai5-CpLM_K"
      }
    },
    {
      "cell_type": "code",
      "source": [
        "waste_df[\"fee\"] = (waste_df[\"fee\"] == 'PAYT') * 1\n",
        "waste_df[\"geo_south\"] = (waste_df[\"geo\"] == 1) * 1\n",
        "waste_df[\"geo_center\"] = (waste_df[\"geo\"] == 2) * 1\n",
        "waste_df[\"geo_north\"] = (waste_df[\"geo\"] == 3) * 1"
      ],
      "metadata": {
        "id": "5NUYQ8JdABsU"
      },
      "execution_count": 16,
      "outputs": []
    },
    {
      "cell_type": "markdown",
      "source": [
        "#12. Extracting features and target"
      ],
      "metadata": {
        "id": "BA6LWvq_NZgx"
      }
    },
    {
      "cell_type": "markdown",
      "source": [
        "Columns *region*, *province* and *name* are string data. They refer to localization and family name. Because this information cannot be properly repserented as numbers these columns were removed. "
      ],
      "metadata": {
        "id": "WkOsLQD7Lzra"
      }
    },
    {
      "cell_type": "code",
      "source": [
        "x_waste = waste_df.drop(columns=[\"region\", \"province\", \"name\", \"finance\", \"geo\"])\n",
        "y_waste = waste_df[\"finance\"]"
      ],
      "metadata": {
        "id": "28kdATk-B4Rn"
      },
      "execution_count": 17,
      "outputs": []
    },
    {
      "cell_type": "markdown",
      "source": [
        "#13. Analizing data\n"
      ],
      "metadata": {
        "id": "scQ5cIGvNg8o"
      }
    },
    {
      "cell_type": "code",
      "source": [
        "x_waste.describe()"
      ],
      "metadata": {
        "colab": {
          "base_uri": "https://localhost:8080/",
          "height": 394
        },
        "id": "XI58ZcSPALgJ",
        "outputId": "557dd616-1364-4b2a-e534-1470ded18eb6"
      },
      "execution_count": 18,
      "outputs": [
        {
          "output_type": "execute_result",
          "data": {
            "text/plain": [
              "                tc         cres         csor          istat         area  \\\n",
              "count  2017.000000  2017.000000  2017.000000    2017.000000  2017.000000   \n",
              "mean    146.704328    46.128929    50.446510   40276.702033    37.812900   \n",
              "std      67.302738    33.840360    27.519303   28785.901676    51.003452   \n",
              "min      46.490002     4.270000     3.390000    3001.000000     0.670000   \n",
              "25%     104.779999    24.590000    32.680000   17042.000000     9.620000   \n",
              "50%     129.759995    35.520000    48.400002   28090.000000    21.129999   \n",
              "75%     171.520004    56.009998    62.580002   61049.000000    44.930000   \n",
              "max     809.169983   295.200012   273.929993  110005.000000   554.979980   \n",
              "\n",
              "                 pop          alt         isle          sea          pden  \\\n",
              "count    2017.000000  2017.000000  2017.000000  2017.000000   2017.000000   \n",
              "mean     7778.185424   270.443728     0.001983     0.130887    458.064041   \n",
              "std     11327.158279   259.837548     0.044499     0.337361    750.805151   \n",
              "min        80.000000     1.000000     0.000000     0.000000      5.531726   \n",
              "25%      2288.000000    74.000000     0.000000     0.000000     90.470871   \n",
              "50%      4486.000000   205.000000     0.000000     0.000000    211.998154   \n",
              "75%      8642.000000   371.000000     0.000000     0.000000    548.026733   \n",
              "max    180817.000000  1568.000000     1.000000     1.000000  12122.826172   \n",
              "\n",
              "       ...          sor        roads   s_wteregio   s_landfill          gdp  \\\n",
              "count  ...  2017.000000  2017.000000  2017.000000  2017.000000  2017.000000   \n",
              "mean   ...    71.822950    86.148180    22.547909    17.143479     7.084848   \n",
              "std    ...    14.313797   137.178136    14.792088    17.037246     0.483713   \n",
              "min    ...    14.150000     1.000000     0.000000     3.602713     6.035401   \n",
              "25%    ...    66.240000    25.000000     9.898176     4.551430     6.732576   \n",
              "50%    ...    75.440000    50.000000    24.467649    11.296785     6.993063   \n",
              "75%    ...    81.550000    97.000000    38.501492    23.119114     7.362284   \n",
              "max    ...    94.020000  2625.000000    65.122093    92.531860     9.576093   \n",
              "\n",
              "            proads         wage    geo_south   geo_center    geo_north  \n",
              "count  2017.000000  2017.000000  2017.000000  2017.000000  2017.000000  \n",
              "mean      4.486070     9.545002     0.165097     0.138820     0.696083  \n",
              "std       1.006831     0.242808     0.371360     0.345844     0.460061  \n",
              "min       0.187463     8.574547     0.000000     0.000000     0.000000  \n",
              "25%       3.881701     9.443672     0.000000     0.000000     0.000000  \n",
              "50%       4.571973     9.599592     0.000000     0.000000     1.000000  \n",
              "75%       5.179881     9.699822     0.000000     0.000000     1.000000  \n",
              "max       8.664233    10.285608     1.000000     1.000000     1.000000  \n",
              "\n",
              "[8 rows x 37 columns]"
            ],
            "text/html": [
              "\n",
              "  <div id=\"df-aeb9ad8a-2cf6-415e-8b6a-cf633d25f79b\">\n",
              "    <div class=\"colab-df-container\">\n",
              "      <div>\n",
              "<style scoped>\n",
              "    .dataframe tbody tr th:only-of-type {\n",
              "        vertical-align: middle;\n",
              "    }\n",
              "\n",
              "    .dataframe tbody tr th {\n",
              "        vertical-align: top;\n",
              "    }\n",
              "\n",
              "    .dataframe thead th {\n",
              "        text-align: right;\n",
              "    }\n",
              "</style>\n",
              "<table border=\"1\" class=\"dataframe\">\n",
              "  <thead>\n",
              "    <tr style=\"text-align: right;\">\n",
              "      <th></th>\n",
              "      <th>tc</th>\n",
              "      <th>cres</th>\n",
              "      <th>csor</th>\n",
              "      <th>istat</th>\n",
              "      <th>area</th>\n",
              "      <th>pop</th>\n",
              "      <th>alt</th>\n",
              "      <th>isle</th>\n",
              "      <th>sea</th>\n",
              "      <th>pden</th>\n",
              "      <th>...</th>\n",
              "      <th>sor</th>\n",
              "      <th>roads</th>\n",
              "      <th>s_wteregio</th>\n",
              "      <th>s_landfill</th>\n",
              "      <th>gdp</th>\n",
              "      <th>proads</th>\n",
              "      <th>wage</th>\n",
              "      <th>geo_south</th>\n",
              "      <th>geo_center</th>\n",
              "      <th>geo_north</th>\n",
              "    </tr>\n",
              "  </thead>\n",
              "  <tbody>\n",
              "    <tr>\n",
              "      <th>count</th>\n",
              "      <td>2017.000000</td>\n",
              "      <td>2017.000000</td>\n",
              "      <td>2017.000000</td>\n",
              "      <td>2017.000000</td>\n",
              "      <td>2017.000000</td>\n",
              "      <td>2017.000000</td>\n",
              "      <td>2017.000000</td>\n",
              "      <td>2017.000000</td>\n",
              "      <td>2017.000000</td>\n",
              "      <td>2017.000000</td>\n",
              "      <td>...</td>\n",
              "      <td>2017.000000</td>\n",
              "      <td>2017.000000</td>\n",
              "      <td>2017.000000</td>\n",
              "      <td>2017.000000</td>\n",
              "      <td>2017.000000</td>\n",
              "      <td>2017.000000</td>\n",
              "      <td>2017.000000</td>\n",
              "      <td>2017.000000</td>\n",
              "      <td>2017.000000</td>\n",
              "      <td>2017.000000</td>\n",
              "    </tr>\n",
              "    <tr>\n",
              "      <th>mean</th>\n",
              "      <td>146.704328</td>\n",
              "      <td>46.128929</td>\n",
              "      <td>50.446510</td>\n",
              "      <td>40276.702033</td>\n",
              "      <td>37.812900</td>\n",
              "      <td>7778.185424</td>\n",
              "      <td>270.443728</td>\n",
              "      <td>0.001983</td>\n",
              "      <td>0.130887</td>\n",
              "      <td>458.064041</td>\n",
              "      <td>...</td>\n",
              "      <td>71.822950</td>\n",
              "      <td>86.148180</td>\n",
              "      <td>22.547909</td>\n",
              "      <td>17.143479</td>\n",
              "      <td>7.084848</td>\n",
              "      <td>4.486070</td>\n",
              "      <td>9.545002</td>\n",
              "      <td>0.165097</td>\n",
              "      <td>0.138820</td>\n",
              "      <td>0.696083</td>\n",
              "    </tr>\n",
              "    <tr>\n",
              "      <th>std</th>\n",
              "      <td>67.302738</td>\n",
              "      <td>33.840360</td>\n",
              "      <td>27.519303</td>\n",
              "      <td>28785.901676</td>\n",
              "      <td>51.003452</td>\n",
              "      <td>11327.158279</td>\n",
              "      <td>259.837548</td>\n",
              "      <td>0.044499</td>\n",
              "      <td>0.337361</td>\n",
              "      <td>750.805151</td>\n",
              "      <td>...</td>\n",
              "      <td>14.313797</td>\n",
              "      <td>137.178136</td>\n",
              "      <td>14.792088</td>\n",
              "      <td>17.037246</td>\n",
              "      <td>0.483713</td>\n",
              "      <td>1.006831</td>\n",
              "      <td>0.242808</td>\n",
              "      <td>0.371360</td>\n",
              "      <td>0.345844</td>\n",
              "      <td>0.460061</td>\n",
              "    </tr>\n",
              "    <tr>\n",
              "      <th>min</th>\n",
              "      <td>46.490002</td>\n",
              "      <td>4.270000</td>\n",
              "      <td>3.390000</td>\n",
              "      <td>3001.000000</td>\n",
              "      <td>0.670000</td>\n",
              "      <td>80.000000</td>\n",
              "      <td>1.000000</td>\n",
              "      <td>0.000000</td>\n",
              "      <td>0.000000</td>\n",
              "      <td>5.531726</td>\n",
              "      <td>...</td>\n",
              "      <td>14.150000</td>\n",
              "      <td>1.000000</td>\n",
              "      <td>0.000000</td>\n",
              "      <td>3.602713</td>\n",
              "      <td>6.035401</td>\n",
              "      <td>0.187463</td>\n",
              "      <td>8.574547</td>\n",
              "      <td>0.000000</td>\n",
              "      <td>0.000000</td>\n",
              "      <td>0.000000</td>\n",
              "    </tr>\n",
              "    <tr>\n",
              "      <th>25%</th>\n",
              "      <td>104.779999</td>\n",
              "      <td>24.590000</td>\n",
              "      <td>32.680000</td>\n",
              "      <td>17042.000000</td>\n",
              "      <td>9.620000</td>\n",
              "      <td>2288.000000</td>\n",
              "      <td>74.000000</td>\n",
              "      <td>0.000000</td>\n",
              "      <td>0.000000</td>\n",
              "      <td>90.470871</td>\n",
              "      <td>...</td>\n",
              "      <td>66.240000</td>\n",
              "      <td>25.000000</td>\n",
              "      <td>9.898176</td>\n",
              "      <td>4.551430</td>\n",
              "      <td>6.732576</td>\n",
              "      <td>3.881701</td>\n",
              "      <td>9.443672</td>\n",
              "      <td>0.000000</td>\n",
              "      <td>0.000000</td>\n",
              "      <td>0.000000</td>\n",
              "    </tr>\n",
              "    <tr>\n",
              "      <th>50%</th>\n",
              "      <td>129.759995</td>\n",
              "      <td>35.520000</td>\n",
              "      <td>48.400002</td>\n",
              "      <td>28090.000000</td>\n",
              "      <td>21.129999</td>\n",
              "      <td>4486.000000</td>\n",
              "      <td>205.000000</td>\n",
              "      <td>0.000000</td>\n",
              "      <td>0.000000</td>\n",
              "      <td>211.998154</td>\n",
              "      <td>...</td>\n",
              "      <td>75.440000</td>\n",
              "      <td>50.000000</td>\n",
              "      <td>24.467649</td>\n",
              "      <td>11.296785</td>\n",
              "      <td>6.993063</td>\n",
              "      <td>4.571973</td>\n",
              "      <td>9.599592</td>\n",
              "      <td>0.000000</td>\n",
              "      <td>0.000000</td>\n",
              "      <td>1.000000</td>\n",
              "    </tr>\n",
              "    <tr>\n",
              "      <th>75%</th>\n",
              "      <td>171.520004</td>\n",
              "      <td>56.009998</td>\n",
              "      <td>62.580002</td>\n",
              "      <td>61049.000000</td>\n",
              "      <td>44.930000</td>\n",
              "      <td>8642.000000</td>\n",
              "      <td>371.000000</td>\n",
              "      <td>0.000000</td>\n",
              "      <td>0.000000</td>\n",
              "      <td>548.026733</td>\n",
              "      <td>...</td>\n",
              "      <td>81.550000</td>\n",
              "      <td>97.000000</td>\n",
              "      <td>38.501492</td>\n",
              "      <td>23.119114</td>\n",
              "      <td>7.362284</td>\n",
              "      <td>5.179881</td>\n",
              "      <td>9.699822</td>\n",
              "      <td>0.000000</td>\n",
              "      <td>0.000000</td>\n",
              "      <td>1.000000</td>\n",
              "    </tr>\n",
              "    <tr>\n",
              "      <th>max</th>\n",
              "      <td>809.169983</td>\n",
              "      <td>295.200012</td>\n",
              "      <td>273.929993</td>\n",
              "      <td>110005.000000</td>\n",
              "      <td>554.979980</td>\n",
              "      <td>180817.000000</td>\n",
              "      <td>1568.000000</td>\n",
              "      <td>1.000000</td>\n",
              "      <td>1.000000</td>\n",
              "      <td>12122.826172</td>\n",
              "      <td>...</td>\n",
              "      <td>94.020000</td>\n",
              "      <td>2625.000000</td>\n",
              "      <td>65.122093</td>\n",
              "      <td>92.531860</td>\n",
              "      <td>9.576093</td>\n",
              "      <td>8.664233</td>\n",
              "      <td>10.285608</td>\n",
              "      <td>1.000000</td>\n",
              "      <td>1.000000</td>\n",
              "      <td>1.000000</td>\n",
              "    </tr>\n",
              "  </tbody>\n",
              "</table>\n",
              "<p>8 rows × 37 columns</p>\n",
              "</div>\n",
              "      <button class=\"colab-df-convert\" onclick=\"convertToInteractive('df-aeb9ad8a-2cf6-415e-8b6a-cf633d25f79b')\"\n",
              "              title=\"Convert this dataframe to an interactive table.\"\n",
              "              style=\"display:none;\">\n",
              "        \n",
              "  <svg xmlns=\"http://www.w3.org/2000/svg\" height=\"24px\"viewBox=\"0 0 24 24\"\n",
              "       width=\"24px\">\n",
              "    <path d=\"M0 0h24v24H0V0z\" fill=\"none\"/>\n",
              "    <path d=\"M18.56 5.44l.94 2.06.94-2.06 2.06-.94-2.06-.94-.94-2.06-.94 2.06-2.06.94zm-11 1L8.5 8.5l.94-2.06 2.06-.94-2.06-.94L8.5 2.5l-.94 2.06-2.06.94zm10 10l.94 2.06.94-2.06 2.06-.94-2.06-.94-.94-2.06-.94 2.06-2.06.94z\"/><path d=\"M17.41 7.96l-1.37-1.37c-.4-.4-.92-.59-1.43-.59-.52 0-1.04.2-1.43.59L10.3 9.45l-7.72 7.72c-.78.78-.78 2.05 0 2.83L4 21.41c.39.39.9.59 1.41.59.51 0 1.02-.2 1.41-.59l7.78-7.78 2.81-2.81c.8-.78.8-2.07 0-2.86zM5.41 20L4 18.59l7.72-7.72 1.47 1.35L5.41 20z\"/>\n",
              "  </svg>\n",
              "      </button>\n",
              "      \n",
              "  <style>\n",
              "    .colab-df-container {\n",
              "      display:flex;\n",
              "      flex-wrap:wrap;\n",
              "      gap: 12px;\n",
              "    }\n",
              "\n",
              "    .colab-df-convert {\n",
              "      background-color: #E8F0FE;\n",
              "      border: none;\n",
              "      border-radius: 50%;\n",
              "      cursor: pointer;\n",
              "      display: none;\n",
              "      fill: #1967D2;\n",
              "      height: 32px;\n",
              "      padding: 0 0 0 0;\n",
              "      width: 32px;\n",
              "    }\n",
              "\n",
              "    .colab-df-convert:hover {\n",
              "      background-color: #E2EBFA;\n",
              "      box-shadow: 0px 1px 2px rgba(60, 64, 67, 0.3), 0px 1px 3px 1px rgba(60, 64, 67, 0.15);\n",
              "      fill: #174EA6;\n",
              "    }\n",
              "\n",
              "    [theme=dark] .colab-df-convert {\n",
              "      background-color: #3B4455;\n",
              "      fill: #D2E3FC;\n",
              "    }\n",
              "\n",
              "    [theme=dark] .colab-df-convert:hover {\n",
              "      background-color: #434B5C;\n",
              "      box-shadow: 0px 1px 3px 1px rgba(0, 0, 0, 0.15);\n",
              "      filter: drop-shadow(0px 1px 2px rgba(0, 0, 0, 0.3));\n",
              "      fill: #FFFFFF;\n",
              "    }\n",
              "  </style>\n",
              "\n",
              "      <script>\n",
              "        const buttonEl =\n",
              "          document.querySelector('#df-aeb9ad8a-2cf6-415e-8b6a-cf633d25f79b button.colab-df-convert');\n",
              "        buttonEl.style.display =\n",
              "          google.colab.kernel.accessAllowed ? 'block' : 'none';\n",
              "\n",
              "        async function convertToInteractive(key) {\n",
              "          const element = document.querySelector('#df-aeb9ad8a-2cf6-415e-8b6a-cf633d25f79b');\n",
              "          const dataTable =\n",
              "            await google.colab.kernel.invokeFunction('convertToInteractive',\n",
              "                                                     [key], {});\n",
              "          if (!dataTable) return;\n",
              "\n",
              "          const docLinkHtml = 'Like what you see? Visit the ' +\n",
              "            '<a target=\"_blank\" href=https://colab.research.google.com/notebooks/data_table.ipynb>data table notebook</a>'\n",
              "            + ' to learn more about interactive tables.';\n",
              "          element.innerHTML = '';\n",
              "          dataTable['output_type'] = 'display_data';\n",
              "          await google.colab.output.renderOutput(dataTable, element);\n",
              "          const docLink = document.createElement('div');\n",
              "          docLink.innerHTML = docLinkHtml;\n",
              "          element.appendChild(docLink);\n",
              "        }\n",
              "      </script>\n",
              "    </div>\n",
              "  </div>\n",
              "  "
            ]
          },
          "metadata": {},
          "execution_count": 18
        }
      ]
    },
    {
      "cell_type": "markdown",
      "source": [
        "The data was standarized beacause columns are in very different range."
      ],
      "metadata": {
        "id": "4S8lWPYFNAsp"
      }
    },
    {
      "cell_type": "code",
      "source": [
        "for column in x_waste.columns:\n",
        "  x_waste[column] = (x_waste[column] - x_waste[column].mean()) / x_waste[column].std()"
      ],
      "metadata": {
        "id": "2-Ha2ETMAdFO"
      },
      "execution_count": 19,
      "outputs": []
    },
    {
      "cell_type": "markdown",
      "source": [
        "#14. Spliting for training and testing data.\n"
      ],
      "metadata": {
        "id": "W5r6r27ANnLY"
      }
    },
    {
      "cell_type": "code",
      "source": [
        "X_train_waste, X_test_waste, y_train_waste, y_test_waste = train_test_split(x_waste, y_waste, test_size=0.33, random_state=446519)"
      ],
      "metadata": {
        "id": "zRWZfVv4Cbwb"
      },
      "execution_count": 20,
      "outputs": []
    },
    {
      "cell_type": "markdown",
      "source": [
        "#15. Regressors\n",
        "For regression I used random forest, support vector machine and regression."
      ],
      "metadata": {
        "id": "AbISunogNt8h"
      }
    },
    {
      "cell_type": "code",
      "source": [
        "rf_w = RandomForestRegressor(n_estimators = 300, max_depth=5, random_state=446519)\n",
        "rf_w.fit(X_train_waste, y_train_waste)"
      ],
      "metadata": {
        "colab": {
          "base_uri": "https://localhost:8080/"
        },
        "id": "HgLPmoGjCmtS",
        "outputId": "cadfd72f-af51-4d73-adc0-2140c0e8da40"
      },
      "execution_count": 21,
      "outputs": [
        {
          "output_type": "execute_result",
          "data": {
            "text/plain": [
              "RandomForestRegressor(max_depth=5, n_estimators=300, random_state=446519)"
            ]
          },
          "metadata": {},
          "execution_count": 21
        }
      ]
    },
    {
      "cell_type": "code",
      "source": [
        "svr_w = SVR()\n",
        "svr_w.fit(X_train_waste, y_train_waste)"
      ],
      "metadata": {
        "colab": {
          "base_uri": "https://localhost:8080/"
        },
        "id": "nK8iicOJD1Hl",
        "outputId": "e718488a-966e-4f35-9579-9f0aa11c7b09"
      },
      "execution_count": 22,
      "outputs": [
        {
          "output_type": "execute_result",
          "data": {
            "text/plain": [
              "SVR()"
            ]
          },
          "metadata": {},
          "execution_count": 22
        }
      ]
    },
    {
      "cell_type": "code",
      "source": [
        "lr_w = LinearRegression()\n",
        "lr_w.fit(X_train_waste, y_train_waste)"
      ],
      "metadata": {
        "colab": {
          "base_uri": "https://localhost:8080/"
        },
        "id": "ZL8q4AOGEeJN",
        "outputId": "700f331c-fb2f-4dd2-eadd-3391d96c6a61"
      },
      "execution_count": 23,
      "outputs": [
        {
          "output_type": "execute_result",
          "data": {
            "text/plain": [
              "LinearRegression()"
            ]
          },
          "metadata": {},
          "execution_count": 23
        }
      ]
    },
    {
      "cell_type": "markdown",
      "source": [
        "#16. Scores\n",
        "Given scores are **R<sup>2</sup>** which is given by formula:\n",
        "\n",
        "```\n",
        "score = (1 - ((y_true - y_pred)** 2).sum() / ((y_true - y_true.mean()) ** 2).sum())\n",
        "```\n",
        "\n",
        " "
      ],
      "metadata": {
        "id": "JbGKdf92Nwtj"
      }
    },
    {
      "cell_type": "code",
      "source": [
        "print(f\"Random forest score: {rf_w.score(X_test_waste, y_test_waste)}.\")\n",
        "print(f\"Support Vector Machine score: {svr_w.score(X_test_waste, y_test_waste)}.\")\n",
        "print(f\"Logistic Regression score: {lr_w.score(X_test_waste, y_test_waste)}.\")"
      ],
      "metadata": {
        "colab": {
          "base_uri": "https://localhost:8080/"
        },
        "id": "0orxpzIhCvFU",
        "outputId": "cf5fa342-3ce2-495d-c1bd-eb52e5a07fbd"
      },
      "execution_count": 24,
      "outputs": [
        {
          "output_type": "stream",
          "name": "stdout",
          "text": [
            "Random forest score: 0.997414911605436.\n",
            "Support Vector Machine score: 0.920199065116099.\n",
            "Logistic Regression score: 1.0.\n"
          ]
        }
      ]
    },
    {
      "cell_type": "code",
      "source": [],
      "metadata": {
        "id": "0ZpFs4hjDqtj"
      },
      "execution_count": 24,
      "outputs": []
    }
  ]
}